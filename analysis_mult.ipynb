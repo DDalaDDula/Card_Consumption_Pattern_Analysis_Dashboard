{
 "cells": [
  {
   "attachments": {},
   "cell_type": "markdown",
   "metadata": {},
   "source": [
    "## 설문조사 산림엑스포, 일반국민 데이터 전처리\n",
    "\n",
    "데이터수집 - 전처리 - 분석 - 결과도출 순으로 진행"
   ]
  },
  {
   "cell_type": "code",
   "execution_count": 2,
   "metadata": {},
   "outputs": [],
   "source": [
    "import math # NaN값 구별때문에 import\n",
    "import pandas as pd\n",
    "import matplotlib.pyplot as plt\n",
    "import matplotlib as mpl\n",
    "import plotly.express as px\n",
    "import numpy as np\n",
    "\n",
    "# matplotlib 한글 글꼴 설정\n",
    "plt.rc('font', family='Malgun Gothic')\n",
    "\n",
    "# 모든 열이 생략되지 않도록 설정\n",
    "pd.set_option('display.max_columns', None)\n",
    "\n",
    "# 테마 컬러맵 미리 정의\n",
    "color_scale = ['rgb(5,31,69)',\n",
    "               'rgb(8,48,107)',\n",
    "               'rgb(11,62,138)',\n",
    "               'rgb(8,81,156)',\n",
    "               'rgb(7,90,176)',\n",
    "               'rgb(33,113,181)',\n",
    "               'rgb(66,146,198)',\n",
    "               'rgb(81,157,207)',\n",
    "               'rgb(107,174,214)',\n",
    "               'rgb(158,202,225)',\n",
    "               'rgb(198,219,239)',\n",
    "               'rgb(222,235,247)',\n",
    "               'rgb(247,251,255)']"
   ]
  },
  {
   "attachments": {},
   "cell_type": "markdown",
   "metadata": {},
   "source": [
    "### 응답자 특성 설문\n",
    "| `문항` | `보기` |\n",
    "|:---------:|:---------:|\n",
    "| <b>`성별`<b> | ①남성    ②여성 |\n",
    "| <b>`연령`<b>   | ①10대(15세이상)    ②20대   ③30대   ④40대   ⑤50대   ⑥60대이상, 추가설문 : 출생년도(___)년 |\n",
    "| <b>`학력`<b>   | ①초등학교 졸업(무학 포함)    ②중학교 재학   ③중학교 졸업   ④고등학교 재학   ⑤고등학교 졸업<br>   ⑥대학교 재학    ⑦대학교 졸업    ⑧대학원 재학(석사 또는 박사) ⑨ 대학원 졸업(석사또는 박사) |\n",
    "| <b>`거주지역`<b>   | ①서울    ②부산   ③대구   ④인천   ⑤광주   ⑥대전    ⑦울산    ⑧세종   ⑨경기<br>   ⑩강원   ⑪충북   ⑫충남   ⑬전북   ⑭전남   ⑮경북   ⑯경남   ⑰제주 |\n",
    "| <b>`직업`<b>   | ①산림임업종사자    ②사무종사자   ③서비스종사자   ④판매종사자   ⑤기술기능종사자   ⑥단순노무종사자    ⑦전문가(교수 포함)<br>    ⑧경영직종사자   ⑨자영업자(개인사업자)   ⑩공무원(교사포함)   ⑪학생(대학원생포함)   ⑫전업주부   ⑬기타(___) |"
   ]
  },
  {
   "cell_type": "code",
   "execution_count": 3,
   "metadata": {},
   "outputs": [],
   "source": [
    "# 응답자 특성 딕셔너리\n",
    "Resp_Character = {\n",
    "    '성별': {1: '남성', 2: '여성'},\n",
    "    '연령': {1: '10대(15세이상)', 2: '20대', 3: '30대', 4: '40대', 5: '50대', 6: '60대이상'},\n",
    "    '학력': {1: '초등학교 졸업(무학 포함)', 2: '중학교 재학', 3: '중학교 졸업', 4: '고등학교 재학', 5: '고등학교 졸업', 6: '대학교 재학', 7: '대학교 졸업', 8: '대학원 재학(석사 또는 박사)', 9: '대학원 졸업(석사또는 박사)'},\n",
    "    '거주지역': {1: '서울', 2: '부산', 3: '대구', 4: '인천', 5: '광주', 6: '대전', 7: '울산', 8: '세종', 9: '경기', 10: '강원', 11: '충북', 12: '충남', 13: '전북', 14: '전남', 15: '경북', 16: '경남', 17: '제주'},\n",
    "    '직업': {1: '산림임업종사자', 2: '사무종사자', 3: '서비스종사자', 4: '판매종사자', 5: '기술기능종사자', 6: '단순노무종사자', 7: '전문가(교수 포함)', 8: '경영직종사자', 9: '자영업자(개인사업자)', 10: '공무원(교사포함)', 11: '학생(대학원생포함)', 12: '전업주부', 13: '기타'}}"
   ]
  },
  {
   "cell_type": "code",
   "execution_count": 4,
   "metadata": {},
   "outputs": [],
   "source": [
    "# 산림엑스포 설문데이터 로드 및 응답자 특성 매핑\n",
    "df_expo = pd.read_excel('dataset/전국민 산림문화 인식 및 태도 향유실태 조사_산림엑스포_230922.xlsx', sheet_name=\"DATA\")\n",
    "df_expo['SQ1'] = df_expo['SQ1'].replace(Resp_Character['성별'])\n",
    "df_expo['SQ2_1'] = df_expo['SQ2_1'].replace(Resp_Character['연령'])\n",
    "df_expo['SQ3'] = df_expo['SQ3'].replace(Resp_Character['학력'])\n",
    "df_expo['SQ4'] = df_expo['SQ4'].replace(Resp_Character['거주지역'])\n",
    "df_expo['SQ5'] = df_expo['SQ5'].replace(Resp_Character['직업'])\n",
    "# 응답자 특성 5번항목의 '기타'항목자 처리\n",
    "df_expo['SQ5_13_ETC'] = df_expo['SQ5_13_ETC'].fillna('')\n",
    "# 연도 column float to int 변환\n",
    "df_expo['SQ2_2'] = ['' if np.isnan(i) else int(i) for i in df_expo['SQ2_2']]\n",
    "\n",
    "# 일반국민 설문데이터 로드 및 응답자 특성 매핑\n",
    "df_common= pd.read_excel('dataset/전국민 산림문화 인식 태도 향유실태 조사_일반국민_230530.xlsx', sheet_name=\"DATA\")\n",
    "df_common['SQ1'] = df_common['SQ1'].replace(Resp_Character['성별'])\n",
    "df_common['SQ2_1'] = df_common['SQ2_1'] - 1\n",
    "df_common['SQ2_1'] = df_common['SQ2_1'].replace(Resp_Character['연령'])\n",
    "df_common['SQ3'] = df_common['SQ3'].replace(Resp_Character['학력'])\n",
    "df_common['SQ4'] = df_common['SQ4'].replace(Resp_Character['거주지역'])\n",
    "df_common['SQ5'] = df_common['SQ5'].replace(Resp_Character['직업'])\n",
    "# 응답자 특성 5번항목의 '기타'항목자 처리\n",
    "df_common['SQ5_13_ETC'] = df_common['SQ5_13_ETC'].fillna('')"
   ]
  },
  {
   "attachments": {},
   "cell_type": "markdown",
   "metadata": {},
   "source": [
    "## Q4. 산림문화가 추구하는 가치"
   ]
  },
  {
   "cell_type": "code",
   "execution_count": 5,
   "metadata": {},
   "outputs": [],
   "source": [
    "# 응답자 특성과 4번 설문에 대한 항목만 필터링\n",
    "df_expo_4 = df_expo[list(df_expo.columns[:7]) + list(df_expo.columns[12:23])]\n",
    "df_common_4 = df_common[list(df_common.columns[:7]) + list(df_common.columns[11:22])]\n",
    "\n",
    "expo_4_map_dic = { 'Q4_1': '공익적 가치',\n",
    "        'Q4_2': '경제적 가치',\n",
    "        'Q4_3': '환경적 가치',\n",
    "        'Q4_4': '도덕적 가치',\n",
    "        'Q4_5': '역사적 가치',\n",
    "        'Q4_6': '예술적 가치',\n",
    "        'Q4_7': '학술적 가치',\n",
    "        'Q4_8': '생활적 가치',\n",
    "        'Q4_9': '공존적 가치',\n",
    "        'Q4_10': '공동체적 가치',\n",
    "        'Q4_11': '정서적 가치' }"
   ]
  },
  {
   "cell_type": "code",
   "execution_count": 6,
   "metadata": {},
   "outputs": [],
   "source": [
    "# 가중평균 계산 및 리스트 형태로 저장\n",
    "expo_4_dic = {'설문':list(df_expo_4.columns[7:]),\n",
    "              '평균':[],\n",
    "              '5_빈도':[],\n",
    "              '4_빈도':[],\n",
    "              '3_빈도':[],\n",
    "              '2_빈도':[],\n",
    "              '1_빈도':[],\n",
    "              '5_비율':[],\n",
    "              '4_비율':[],\n",
    "              '3_비율':[],\n",
    "              '2_비율':[],\n",
    "              '1_비율':[],\n",
    "            }\n",
    "\n",
    "for question in df_expo_4.columns[7:]:\n",
    "    score_counts = df_expo_4[question].value_counts()#.reset_index()\n",
    "    weighted_sum = (score_counts.index * score_counts).sum()\n",
    "    total_count = score_counts.sum()\n",
    "    weighted_mean = round(weighted_sum / total_count, 2)\n",
    "    expo_4_dic['평균'].append(weighted_mean)\n",
    "\n",
    "    score_counts = score_counts.reset_index()\n",
    "    score_counts.columns = ['점수', '빈도']\n",
    "    score_counts['비율'] = round((score_counts['빈도'] / score_counts['빈도'].sum()) * 100, 1)\n",
    "    for num, freq, rate in zip(range(5,0,-1),score_counts['빈도'].tolist(),score_counts['비율'].tolist()):\n",
    "        expo_4_dic[str(num) + '_빈도'].append(freq)\n",
    "        expo_4_dic[str(num) + '_비율'].append(rate)\n",
    "expo_4_df = pd.DataFrame(expo_4_dic)\n",
    "expo_4_df['설문'] = expo_4_df['설문'].replace(expo_4_map_dic)"
   ]
  },
  {
   "cell_type": "code",
   "execution_count": 7,
   "metadata": {},
   "outputs": [],
   "source": [
    "# 가중평균 계산 및 리스트 형태로 저장\n",
    "common_4_dic = {'설문':list(df_common_4.columns[7:]),\n",
    "              '평균':[],\n",
    "              '5_빈도':[],\n",
    "              '4_빈도':[],\n",
    "              '3_빈도':[],\n",
    "              '2_빈도':[],\n",
    "              '1_빈도':[],\n",
    "              '5_비율':[],\n",
    "              '4_비율':[],\n",
    "              '3_비율':[],\n",
    "              '2_비율':[],\n",
    "              '1_비율':[],\n",
    "            }\n",
    "\n",
    "for question in df_common_4.columns[7:]:\n",
    "    score_counts = df_common_4[question].value_counts()#.reset_index()\n",
    "    weighted_sum = (score_counts.index * score_counts).sum()\n",
    "    total_count = score_counts.sum()\n",
    "    weighted_mean = round(weighted_sum / total_count, 2)\n",
    "    common_4_dic['평균'].append(weighted_mean)\n",
    "\n",
    "    score_counts = score_counts.reset_index()\n",
    "    score_counts.columns = ['점수', '빈도']\n",
    "    score_counts['비율'] = round((score_counts['빈도'] / score_counts['빈도'].sum()) * 100, 1)\n",
    "    for num, freq, rate in zip(range(5,0,-1),score_counts['빈도'].tolist(),score_counts['비율'].tolist()):\n",
    "        common_4_dic[str(num) + '_빈도'].append(freq)\n",
    "        common_4_dic[str(num) + '_비율'].append(rate)\n",
    "common_4_df = pd.DataFrame(common_4_dic)\n",
    "common_4_df['설문'] = common_4_df['설문'].replace(expo_4_map_dic)"
   ]
  },
  {
   "cell_type": "code",
   "execution_count": 203,
   "metadata": {},
   "outputs": [
    {
     "data": {
      "text/html": [
       "<div>\n",
       "<style scoped>\n",
       "    .dataframe tbody tr th:only-of-type {\n",
       "        vertical-align: middle;\n",
       "    }\n",
       "\n",
       "    .dataframe tbody tr th {\n",
       "        vertical-align: top;\n",
       "    }\n",
       "\n",
       "    .dataframe thead th {\n",
       "        text-align: right;\n",
       "    }\n",
       "</style>\n",
       "<table border=\"1\" class=\"dataframe\">\n",
       "  <thead>\n",
       "    <tr style=\"text-align: right;\">\n",
       "      <th></th>\n",
       "      <th>설문</th>\n",
       "      <th>평균</th>\n",
       "      <th>5_빈도</th>\n",
       "      <th>4_빈도</th>\n",
       "      <th>3_빈도</th>\n",
       "      <th>2_빈도</th>\n",
       "      <th>1_빈도</th>\n",
       "      <th>5_비율</th>\n",
       "      <th>4_비율</th>\n",
       "      <th>3_비율</th>\n",
       "      <th>2_비율</th>\n",
       "      <th>1_비율</th>\n",
       "      <th>그래프</th>\n",
       "    </tr>\n",
       "  </thead>\n",
       "  <tbody>\n",
       "    <tr>\n",
       "      <th>0</th>\n",
       "      <td>공익적 가치</td>\n",
       "      <td>3.60</td>\n",
       "      <td>671</td>\n",
       "      <td>583</td>\n",
       "      <td>274</td>\n",
       "      <td>147</td>\n",
       "      <td>25</td>\n",
       "      <td>39.5</td>\n",
       "      <td>34.3</td>\n",
       "      <td>16.1</td>\n",
       "      <td>8.6</td>\n",
       "      <td>1.5</td>\n",
       "      <td>다른 데이터</td>\n",
       "    </tr>\n",
       "    <tr>\n",
       "      <th>1</th>\n",
       "      <td>경제적 가치</td>\n",
       "      <td>3.60</td>\n",
       "      <td>684</td>\n",
       "      <td>595</td>\n",
       "      <td>260</td>\n",
       "      <td>143</td>\n",
       "      <td>18</td>\n",
       "      <td>40.2</td>\n",
       "      <td>35.0</td>\n",
       "      <td>15.3</td>\n",
       "      <td>8.4</td>\n",
       "      <td>1.1</td>\n",
       "      <td>다른 데이터</td>\n",
       "    </tr>\n",
       "    <tr>\n",
       "      <th>2</th>\n",
       "      <td>환경적 가치</td>\n",
       "      <td>4.01</td>\n",
       "      <td>633</td>\n",
       "      <td>587</td>\n",
       "      <td>363</td>\n",
       "      <td>95</td>\n",
       "      <td>22</td>\n",
       "      <td>37.2</td>\n",
       "      <td>34.5</td>\n",
       "      <td>21.4</td>\n",
       "      <td>5.6</td>\n",
       "      <td>1.3</td>\n",
       "      <td>다른 데이터</td>\n",
       "    </tr>\n",
       "    <tr>\n",
       "      <th>3</th>\n",
       "      <td>도덕적 가치</td>\n",
       "      <td>3.48</td>\n",
       "      <td>694</td>\n",
       "      <td>648</td>\n",
       "      <td>184</td>\n",
       "      <td>153</td>\n",
       "      <td>21</td>\n",
       "      <td>40.8</td>\n",
       "      <td>38.1</td>\n",
       "      <td>10.8</td>\n",
       "      <td>9.0</td>\n",
       "      <td>1.2</td>\n",
       "      <td>다른 데이터</td>\n",
       "    </tr>\n",
       "    <tr>\n",
       "      <th>4</th>\n",
       "      <td>역사적 가치</td>\n",
       "      <td>3.49</td>\n",
       "      <td>698</td>\n",
       "      <td>651</td>\n",
       "      <td>184</td>\n",
       "      <td>142</td>\n",
       "      <td>25</td>\n",
       "      <td>41.1</td>\n",
       "      <td>38.3</td>\n",
       "      <td>10.8</td>\n",
       "      <td>8.4</td>\n",
       "      <td>1.5</td>\n",
       "      <td>다른 데이터</td>\n",
       "    </tr>\n",
       "    <tr>\n",
       "      <th>5</th>\n",
       "      <td>예술적 가치</td>\n",
       "      <td>3.44</td>\n",
       "      <td>690</td>\n",
       "      <td>663</td>\n",
       "      <td>160</td>\n",
       "      <td>156</td>\n",
       "      <td>31</td>\n",
       "      <td>40.6</td>\n",
       "      <td>39.0</td>\n",
       "      <td>9.4</td>\n",
       "      <td>9.2</td>\n",
       "      <td>1.8</td>\n",
       "      <td>다른 데이터</td>\n",
       "    </tr>\n",
       "    <tr>\n",
       "      <th>6</th>\n",
       "      <td>학술적 가치</td>\n",
       "      <td>3.53</td>\n",
       "      <td>704</td>\n",
       "      <td>636</td>\n",
       "      <td>191</td>\n",
       "      <td>146</td>\n",
       "      <td>23</td>\n",
       "      <td>41.4</td>\n",
       "      <td>37.4</td>\n",
       "      <td>11.2</td>\n",
       "      <td>8.6</td>\n",
       "      <td>1.4</td>\n",
       "      <td>다른 데이터</td>\n",
       "    </tr>\n",
       "    <tr>\n",
       "      <th>7</th>\n",
       "      <td>생활적 가치</td>\n",
       "      <td>3.81</td>\n",
       "      <td>759</td>\n",
       "      <td>449</td>\n",
       "      <td>376</td>\n",
       "      <td>94</td>\n",
       "      <td>22</td>\n",
       "      <td>44.6</td>\n",
       "      <td>26.4</td>\n",
       "      <td>22.1</td>\n",
       "      <td>5.5</td>\n",
       "      <td>1.3</td>\n",
       "      <td>다른 데이터</td>\n",
       "    </tr>\n",
       "    <tr>\n",
       "      <th>8</th>\n",
       "      <td>공존적 가치</td>\n",
       "      <td>3.88</td>\n",
       "      <td>692</td>\n",
       "      <td>458</td>\n",
       "      <td>455</td>\n",
       "      <td>79</td>\n",
       "      <td>16</td>\n",
       "      <td>40.7</td>\n",
       "      <td>26.9</td>\n",
       "      <td>26.8</td>\n",
       "      <td>4.6</td>\n",
       "      <td>0.9</td>\n",
       "      <td>다른 데이터</td>\n",
       "    </tr>\n",
       "    <tr>\n",
       "      <th>9</th>\n",
       "      <td>공동체적 가치</td>\n",
       "      <td>3.55</td>\n",
       "      <td>680</td>\n",
       "      <td>654</td>\n",
       "      <td>214</td>\n",
       "      <td>128</td>\n",
       "      <td>24</td>\n",
       "      <td>40.0</td>\n",
       "      <td>38.5</td>\n",
       "      <td>12.6</td>\n",
       "      <td>7.5</td>\n",
       "      <td>1.4</td>\n",
       "      <td>다른 데이터</td>\n",
       "    </tr>\n",
       "    <tr>\n",
       "      <th>10</th>\n",
       "      <td>정서적 가치</td>\n",
       "      <td>3.77</td>\n",
       "      <td>734</td>\n",
       "      <td>509</td>\n",
       "      <td>350</td>\n",
       "      <td>89</td>\n",
       "      <td>18</td>\n",
       "      <td>43.2</td>\n",
       "      <td>29.9</td>\n",
       "      <td>20.6</td>\n",
       "      <td>5.2</td>\n",
       "      <td>1.1</td>\n",
       "      <td>다른 데이터</td>\n",
       "    </tr>\n",
       "  </tbody>\n",
       "</table>\n",
       "</div>"
      ],
      "text/plain": [
       "         설문    평균  5_빈도  4_빈도  3_빈도  2_빈도  1_빈도  5_비율  4_비율  3_비율  2_비율  1_비율  \\\n",
       "0    공익적 가치  3.60   671   583   274   147    25  39.5  34.3  16.1   8.6   1.5   \n",
       "1    경제적 가치  3.60   684   595   260   143    18  40.2  35.0  15.3   8.4   1.1   \n",
       "2    환경적 가치  4.01   633   587   363    95    22  37.2  34.5  21.4   5.6   1.3   \n",
       "3    도덕적 가치  3.48   694   648   184   153    21  40.8  38.1  10.8   9.0   1.2   \n",
       "4    역사적 가치  3.49   698   651   184   142    25  41.1  38.3  10.8   8.4   1.5   \n",
       "5    예술적 가치  3.44   690   663   160   156    31  40.6  39.0   9.4   9.2   1.8   \n",
       "6    학술적 가치  3.53   704   636   191   146    23  41.4  37.4  11.2   8.6   1.4   \n",
       "7    생활적 가치  3.81   759   449   376    94    22  44.6  26.4  22.1   5.5   1.3   \n",
       "8    공존적 가치  3.88   692   458   455    79    16  40.7  26.9  26.8   4.6   0.9   \n",
       "9   공동체적 가치  3.55   680   654   214   128    24  40.0  38.5  12.6   7.5   1.4   \n",
       "10   정서적 가치  3.77   734   509   350    89    18  43.2  29.9  20.6   5.2   1.1   \n",
       "\n",
       "       그래프  \n",
       "0   다른 데이터  \n",
       "1   다른 데이터  \n",
       "2   다른 데이터  \n",
       "3   다른 데이터  \n",
       "4   다른 데이터  \n",
       "5   다른 데이터  \n",
       "6   다른 데이터  \n",
       "7   다른 데이터  \n",
       "8   다른 데이터  \n",
       "9   다른 데이터  \n",
       "10  다른 데이터  "
      ]
     },
     "execution_count": 203,
     "metadata": {},
     "output_type": "execute_result"
    }
   ],
   "source": [
    "common_4_df"
   ]
  },
  {
   "cell_type": "code",
   "execution_count": 81,
   "metadata": {},
   "outputs": [
    {
     "data": {
      "application/vnd.plotly.v1+json": {
       "config": {
        "plotlyServerURL": "https://plot.ly"
       },
       "data": [
        {
         "line": {
          "color": "blue"
         },
         "mode": "lines",
         "name": "산림엑스포",
         "type": "scatter",
         "x": [
          "공익적 가치",
          "경제적 가치",
          "환경적 가치",
          "도덕적 가치",
          "역사적 가치",
          "예술적 가치",
          "학술적 가치",
          "생활적 가치",
          "공존적 가치",
          "공동체적 가치",
          "정서적 가치"
         ],
         "y": [
          4.1,
          3.89,
          4.43,
          3.94,
          3.83,
          3.87,
          3.85,
          4.09,
          4.46,
          4,
          4.07
         ]
        },
        {
         "line": {
          "color": "red"
         },
         "mode": "lines",
         "name": "일반국민",
         "type": "scatter",
         "x": [
          "공익적 가치",
          "경제적 가치",
          "환경적 가치",
          "도덕적 가치",
          "역사적 가치",
          "예술적 가치",
          "학술적 가치",
          "생활적 가치",
          "공존적 가치",
          "공동체적 가치",
          "정서적 가치"
         ],
         "y": [
          3.6,
          3.6,
          4.01,
          3.48,
          3.49,
          3.44,
          3.53,
          3.81,
          3.88,
          3.55,
          3.77
         ]
        }
       ],
       "layout": {
        "annotations": [
         {
          "arrowhead": 7,
          "font": {
           "size": 14
          },
          "showarrow": true,
          "text": "4.1",
          "x": "공익적 가치",
          "y": 4.1
         },
         {
          "arrowhead": 7,
          "font": {
           "size": 14
          },
          "showarrow": true,
          "text": "3.89",
          "x": "경제적 가치",
          "y": 3.89
         },
         {
          "arrowhead": 7,
          "font": {
           "size": 14
          },
          "showarrow": true,
          "text": "4.43",
          "x": "환경적 가치",
          "y": 4.43
         },
         {
          "arrowhead": 7,
          "font": {
           "size": 14
          },
          "showarrow": true,
          "text": "3.94",
          "x": "도덕적 가치",
          "y": 3.94
         },
         {
          "arrowhead": 7,
          "font": {
           "size": 14
          },
          "showarrow": true,
          "text": "3.83",
          "x": "역사적 가치",
          "y": 3.83
         },
         {
          "arrowhead": 7,
          "font": {
           "size": 14
          },
          "showarrow": true,
          "text": "3.87",
          "x": "예술적 가치",
          "y": 3.87
         },
         {
          "arrowhead": 7,
          "font": {
           "size": 14
          },
          "showarrow": true,
          "text": "3.85",
          "x": "학술적 가치",
          "y": 3.85
         },
         {
          "arrowhead": 7,
          "font": {
           "size": 14
          },
          "showarrow": true,
          "text": "4.09",
          "x": "생활적 가치",
          "y": 4.09
         },
         {
          "arrowhead": 7,
          "font": {
           "size": 14
          },
          "showarrow": true,
          "text": "4.46",
          "x": "공존적 가치",
          "y": 4.46
         },
         {
          "arrowhead": 7,
          "font": {
           "size": 14
          },
          "showarrow": true,
          "text": "4.0",
          "x": "공동체적 가치",
          "y": 4
         },
         {
          "arrowhead": 7,
          "font": {
           "size": 14
          },
          "showarrow": true,
          "text": "4.07",
          "x": "정서적 가치",
          "y": 4.07
         },
         {
          "arrowhead": 7,
          "font": {
           "size": 14
          },
          "showarrow": true,
          "text": "3.6",
          "x": "공익적 가치",
          "y": 3.6
         },
         {
          "arrowhead": 7,
          "font": {
           "size": 14
          },
          "showarrow": true,
          "text": "3.6",
          "x": "경제적 가치",
          "y": 3.6
         },
         {
          "arrowhead": 7,
          "font": {
           "size": 14
          },
          "showarrow": true,
          "text": "4.01",
          "x": "환경적 가치",
          "y": 4.01
         },
         {
          "arrowhead": 7,
          "font": {
           "size": 14
          },
          "showarrow": true,
          "text": "3.48",
          "x": "도덕적 가치",
          "y": 3.48
         },
         {
          "arrowhead": 7,
          "font": {
           "size": 14
          },
          "showarrow": true,
          "text": "3.49",
          "x": "역사적 가치",
          "y": 3.49
         },
         {
          "arrowhead": 7,
          "font": {
           "size": 14
          },
          "showarrow": true,
          "text": "3.44",
          "x": "예술적 가치",
          "y": 3.44
         },
         {
          "arrowhead": 7,
          "font": {
           "size": 14
          },
          "showarrow": true,
          "text": "3.53",
          "x": "학술적 가치",
          "y": 3.53
         },
         {
          "arrowhead": 7,
          "font": {
           "size": 14
          },
          "showarrow": true,
          "text": "3.81",
          "x": "생활적 가치",
          "y": 3.81
         },
         {
          "arrowhead": 7,
          "font": {
           "size": 14
          },
          "showarrow": true,
          "text": "3.88",
          "x": "공존적 가치",
          "y": 3.88
         },
         {
          "arrowhead": 7,
          "font": {
           "size": 14
          },
          "showarrow": true,
          "text": "3.55",
          "x": "공동체적 가치",
          "y": 3.55
         },
         {
          "arrowhead": 7,
          "font": {
           "size": 14
          },
          "showarrow": true,
          "text": "3.77",
          "x": "정서적 가치",
          "y": 3.77
         }
        ],
        "legend": {
         "orientation": "h",
         "x": 0.02,
         "y": 0.98
        },
        "margin": {
         "b": 70,
         "l": 100,
         "r": 100,
         "t": 70
        },
        "showlegend": true,
        "template": {
         "data": {
          "bar": [
           {
            "error_x": {
             "color": "#2a3f5f"
            },
            "error_y": {
             "color": "#2a3f5f"
            },
            "marker": {
             "line": {
              "color": "#E5ECF6",
              "width": 0.5
             },
             "pattern": {
              "fillmode": "overlay",
              "size": 10,
              "solidity": 0.2
             }
            },
            "type": "bar"
           }
          ],
          "barpolar": [
           {
            "marker": {
             "line": {
              "color": "#E5ECF6",
              "width": 0.5
             },
             "pattern": {
              "fillmode": "overlay",
              "size": 10,
              "solidity": 0.2
             }
            },
            "type": "barpolar"
           }
          ],
          "carpet": [
           {
            "aaxis": {
             "endlinecolor": "#2a3f5f",
             "gridcolor": "white",
             "linecolor": "white",
             "minorgridcolor": "white",
             "startlinecolor": "#2a3f5f"
            },
            "baxis": {
             "endlinecolor": "#2a3f5f",
             "gridcolor": "white",
             "linecolor": "white",
             "minorgridcolor": "white",
             "startlinecolor": "#2a3f5f"
            },
            "type": "carpet"
           }
          ],
          "choropleth": [
           {
            "colorbar": {
             "outlinewidth": 0,
             "ticks": ""
            },
            "type": "choropleth"
           }
          ],
          "contour": [
           {
            "colorbar": {
             "outlinewidth": 0,
             "ticks": ""
            },
            "colorscale": [
             [
              0,
              "#0d0887"
             ],
             [
              0.1111111111111111,
              "#46039f"
             ],
             [
              0.2222222222222222,
              "#7201a8"
             ],
             [
              0.3333333333333333,
              "#9c179e"
             ],
             [
              0.4444444444444444,
              "#bd3786"
             ],
             [
              0.5555555555555556,
              "#d8576b"
             ],
             [
              0.6666666666666666,
              "#ed7953"
             ],
             [
              0.7777777777777778,
              "#fb9f3a"
             ],
             [
              0.8888888888888888,
              "#fdca26"
             ],
             [
              1,
              "#f0f921"
             ]
            ],
            "type": "contour"
           }
          ],
          "contourcarpet": [
           {
            "colorbar": {
             "outlinewidth": 0,
             "ticks": ""
            },
            "type": "contourcarpet"
           }
          ],
          "heatmap": [
           {
            "colorbar": {
             "outlinewidth": 0,
             "ticks": ""
            },
            "colorscale": [
             [
              0,
              "#0d0887"
             ],
             [
              0.1111111111111111,
              "#46039f"
             ],
             [
              0.2222222222222222,
              "#7201a8"
             ],
             [
              0.3333333333333333,
              "#9c179e"
             ],
             [
              0.4444444444444444,
              "#bd3786"
             ],
             [
              0.5555555555555556,
              "#d8576b"
             ],
             [
              0.6666666666666666,
              "#ed7953"
             ],
             [
              0.7777777777777778,
              "#fb9f3a"
             ],
             [
              0.8888888888888888,
              "#fdca26"
             ],
             [
              1,
              "#f0f921"
             ]
            ],
            "type": "heatmap"
           }
          ],
          "heatmapgl": [
           {
            "colorbar": {
             "outlinewidth": 0,
             "ticks": ""
            },
            "colorscale": [
             [
              0,
              "#0d0887"
             ],
             [
              0.1111111111111111,
              "#46039f"
             ],
             [
              0.2222222222222222,
              "#7201a8"
             ],
             [
              0.3333333333333333,
              "#9c179e"
             ],
             [
              0.4444444444444444,
              "#bd3786"
             ],
             [
              0.5555555555555556,
              "#d8576b"
             ],
             [
              0.6666666666666666,
              "#ed7953"
             ],
             [
              0.7777777777777778,
              "#fb9f3a"
             ],
             [
              0.8888888888888888,
              "#fdca26"
             ],
             [
              1,
              "#f0f921"
             ]
            ],
            "type": "heatmapgl"
           }
          ],
          "histogram": [
           {
            "marker": {
             "pattern": {
              "fillmode": "overlay",
              "size": 10,
              "solidity": 0.2
             }
            },
            "type": "histogram"
           }
          ],
          "histogram2d": [
           {
            "colorbar": {
             "outlinewidth": 0,
             "ticks": ""
            },
            "colorscale": [
             [
              0,
              "#0d0887"
             ],
             [
              0.1111111111111111,
              "#46039f"
             ],
             [
              0.2222222222222222,
              "#7201a8"
             ],
             [
              0.3333333333333333,
              "#9c179e"
             ],
             [
              0.4444444444444444,
              "#bd3786"
             ],
             [
              0.5555555555555556,
              "#d8576b"
             ],
             [
              0.6666666666666666,
              "#ed7953"
             ],
             [
              0.7777777777777778,
              "#fb9f3a"
             ],
             [
              0.8888888888888888,
              "#fdca26"
             ],
             [
              1,
              "#f0f921"
             ]
            ],
            "type": "histogram2d"
           }
          ],
          "histogram2dcontour": [
           {
            "colorbar": {
             "outlinewidth": 0,
             "ticks": ""
            },
            "colorscale": [
             [
              0,
              "#0d0887"
             ],
             [
              0.1111111111111111,
              "#46039f"
             ],
             [
              0.2222222222222222,
              "#7201a8"
             ],
             [
              0.3333333333333333,
              "#9c179e"
             ],
             [
              0.4444444444444444,
              "#bd3786"
             ],
             [
              0.5555555555555556,
              "#d8576b"
             ],
             [
              0.6666666666666666,
              "#ed7953"
             ],
             [
              0.7777777777777778,
              "#fb9f3a"
             ],
             [
              0.8888888888888888,
              "#fdca26"
             ],
             [
              1,
              "#f0f921"
             ]
            ],
            "type": "histogram2dcontour"
           }
          ],
          "mesh3d": [
           {
            "colorbar": {
             "outlinewidth": 0,
             "ticks": ""
            },
            "type": "mesh3d"
           }
          ],
          "parcoords": [
           {
            "line": {
             "colorbar": {
              "outlinewidth": 0,
              "ticks": ""
             }
            },
            "type": "parcoords"
           }
          ],
          "pie": [
           {
            "automargin": true,
            "type": "pie"
           }
          ],
          "scatter": [
           {
            "fillpattern": {
             "fillmode": "overlay",
             "size": 10,
             "solidity": 0.2
            },
            "type": "scatter"
           }
          ],
          "scatter3d": [
           {
            "line": {
             "colorbar": {
              "outlinewidth": 0,
              "ticks": ""
             }
            },
            "marker": {
             "colorbar": {
              "outlinewidth": 0,
              "ticks": ""
             }
            },
            "type": "scatter3d"
           }
          ],
          "scattercarpet": [
           {
            "marker": {
             "colorbar": {
              "outlinewidth": 0,
              "ticks": ""
             }
            },
            "type": "scattercarpet"
           }
          ],
          "scattergeo": [
           {
            "marker": {
             "colorbar": {
              "outlinewidth": 0,
              "ticks": ""
             }
            },
            "type": "scattergeo"
           }
          ],
          "scattergl": [
           {
            "marker": {
             "colorbar": {
              "outlinewidth": 0,
              "ticks": ""
             }
            },
            "type": "scattergl"
           }
          ],
          "scattermapbox": [
           {
            "marker": {
             "colorbar": {
              "outlinewidth": 0,
              "ticks": ""
             }
            },
            "type": "scattermapbox"
           }
          ],
          "scatterpolar": [
           {
            "marker": {
             "colorbar": {
              "outlinewidth": 0,
              "ticks": ""
             }
            },
            "type": "scatterpolar"
           }
          ],
          "scatterpolargl": [
           {
            "marker": {
             "colorbar": {
              "outlinewidth": 0,
              "ticks": ""
             }
            },
            "type": "scatterpolargl"
           }
          ],
          "scatterternary": [
           {
            "marker": {
             "colorbar": {
              "outlinewidth": 0,
              "ticks": ""
             }
            },
            "type": "scatterternary"
           }
          ],
          "surface": [
           {
            "colorbar": {
             "outlinewidth": 0,
             "ticks": ""
            },
            "colorscale": [
             [
              0,
              "#0d0887"
             ],
             [
              0.1111111111111111,
              "#46039f"
             ],
             [
              0.2222222222222222,
              "#7201a8"
             ],
             [
              0.3333333333333333,
              "#9c179e"
             ],
             [
              0.4444444444444444,
              "#bd3786"
             ],
             [
              0.5555555555555556,
              "#d8576b"
             ],
             [
              0.6666666666666666,
              "#ed7953"
             ],
             [
              0.7777777777777778,
              "#fb9f3a"
             ],
             [
              0.8888888888888888,
              "#fdca26"
             ],
             [
              1,
              "#f0f921"
             ]
            ],
            "type": "surface"
           }
          ],
          "table": [
           {
            "cells": {
             "fill": {
              "color": "#EBF0F8"
             },
             "line": {
              "color": "white"
             }
            },
            "header": {
             "fill": {
              "color": "#C8D4E3"
             },
             "line": {
              "color": "white"
             }
            },
            "type": "table"
           }
          ]
         },
         "layout": {
          "annotationdefaults": {
           "arrowcolor": "#2a3f5f",
           "arrowhead": 0,
           "arrowwidth": 1
          },
          "autotypenumbers": "strict",
          "coloraxis": {
           "colorbar": {
            "outlinewidth": 0,
            "ticks": ""
           }
          },
          "colorscale": {
           "diverging": [
            [
             0,
             "#8e0152"
            ],
            [
             0.1,
             "#c51b7d"
            ],
            [
             0.2,
             "#de77ae"
            ],
            [
             0.3,
             "#f1b6da"
            ],
            [
             0.4,
             "#fde0ef"
            ],
            [
             0.5,
             "#f7f7f7"
            ],
            [
             0.6,
             "#e6f5d0"
            ],
            [
             0.7,
             "#b8e186"
            ],
            [
             0.8,
             "#7fbc41"
            ],
            [
             0.9,
             "#4d9221"
            ],
            [
             1,
             "#276419"
            ]
           ],
           "sequential": [
            [
             0,
             "#0d0887"
            ],
            [
             0.1111111111111111,
             "#46039f"
            ],
            [
             0.2222222222222222,
             "#7201a8"
            ],
            [
             0.3333333333333333,
             "#9c179e"
            ],
            [
             0.4444444444444444,
             "#bd3786"
            ],
            [
             0.5555555555555556,
             "#d8576b"
            ],
            [
             0.6666666666666666,
             "#ed7953"
            ],
            [
             0.7777777777777778,
             "#fb9f3a"
            ],
            [
             0.8888888888888888,
             "#fdca26"
            ],
            [
             1,
             "#f0f921"
            ]
           ],
           "sequentialminus": [
            [
             0,
             "#0d0887"
            ],
            [
             0.1111111111111111,
             "#46039f"
            ],
            [
             0.2222222222222222,
             "#7201a8"
            ],
            [
             0.3333333333333333,
             "#9c179e"
            ],
            [
             0.4444444444444444,
             "#bd3786"
            ],
            [
             0.5555555555555556,
             "#d8576b"
            ],
            [
             0.6666666666666666,
             "#ed7953"
            ],
            [
             0.7777777777777778,
             "#fb9f3a"
            ],
            [
             0.8888888888888888,
             "#fdca26"
            ],
            [
             1,
             "#f0f921"
            ]
           ]
          },
          "colorway": [
           "#636efa",
           "#EF553B",
           "#00cc96",
           "#ab63fa",
           "#FFA15A",
           "#19d3f3",
           "#FF6692",
           "#B6E880",
           "#FF97FF",
           "#FECB52"
          ],
          "font": {
           "color": "#2a3f5f"
          },
          "geo": {
           "bgcolor": "white",
           "lakecolor": "white",
           "landcolor": "#E5ECF6",
           "showlakes": true,
           "showland": true,
           "subunitcolor": "white"
          },
          "hoverlabel": {
           "align": "left"
          },
          "hovermode": "closest",
          "mapbox": {
           "style": "light"
          },
          "paper_bgcolor": "white",
          "plot_bgcolor": "#E5ECF6",
          "polar": {
           "angularaxis": {
            "gridcolor": "white",
            "linecolor": "white",
            "ticks": ""
           },
           "bgcolor": "#E5ECF6",
           "radialaxis": {
            "gridcolor": "white",
            "linecolor": "white",
            "ticks": ""
           }
          },
          "scene": {
           "xaxis": {
            "backgroundcolor": "#E5ECF6",
            "gridcolor": "white",
            "gridwidth": 2,
            "linecolor": "white",
            "showbackground": true,
            "ticks": "",
            "zerolinecolor": "white"
           },
           "yaxis": {
            "backgroundcolor": "#E5ECF6",
            "gridcolor": "white",
            "gridwidth": 2,
            "linecolor": "white",
            "showbackground": true,
            "ticks": "",
            "zerolinecolor": "white"
           },
           "zaxis": {
            "backgroundcolor": "#E5ECF6",
            "gridcolor": "white",
            "gridwidth": 2,
            "linecolor": "white",
            "showbackground": true,
            "ticks": "",
            "zerolinecolor": "white"
           }
          },
          "shapedefaults": {
           "line": {
            "color": "#2a3f5f"
           }
          },
          "ternary": {
           "aaxis": {
            "gridcolor": "white",
            "linecolor": "white",
            "ticks": ""
           },
           "baxis": {
            "gridcolor": "white",
            "linecolor": "white",
            "ticks": ""
           },
           "bgcolor": "#E5ECF6",
           "caxis": {
            "gridcolor": "white",
            "linecolor": "white",
            "ticks": ""
           }
          },
          "title": {
           "x": 0.05
          },
          "xaxis": {
           "automargin": true,
           "gridcolor": "white",
           "linecolor": "white",
           "ticks": "",
           "title": {
            "standoff": 15
           },
           "zerolinecolor": "white",
           "zerolinewidth": 2
          },
          "yaxis": {
           "automargin": true,
           "gridcolor": "white",
           "linecolor": "white",
           "ticks": "",
           "title": {
            "standoff": 15
           },
           "zerolinecolor": "white",
           "zerolinewidth": 2
          }
         }
        },
        "xaxis": {
         "title": {
          "font": {
           "size": 15
          },
          "text": "문항"
         }
        },
        "yaxis": {
         "title": {
          "font": {
           "size": 15
          },
          "text": "평균"
         }
        }
       }
      }
     },
     "metadata": {},
     "output_type": "display_data"
    }
   ],
   "source": [
    "import plotly.express as px\n",
    "import plotly.graph_objects as go\n",
    "\n",
    "# 그래프 생성\n",
    "fig = go.Figure()\n",
    "\n",
    "# 엑스포 그래프 추가\n",
    "fig.add_trace(go.Scatter(x=expo_4_df['설문'], y=expo_4_df['평균'], mode='lines', name='산림엑스포', line=dict(color='blue')))\n",
    "# 일반국민 그래프 추가\n",
    "fig.add_trace(go.Scatter(x=common_4_df['설문'], y=common_4_df['평균'], mode='lines', name='일반국민', line=dict(color='red')))\n",
    "\n",
    "# 각 지점에 숫자 표시하기\n",
    "for i, row in expo_4_df.iterrows():\n",
    "    fig.add_annotation(\n",
    "        text=row['평균'],\n",
    "        x=row['설문'],\n",
    "        y=row['평균'],\n",
    "        showarrow=True,\n",
    "        arrowhead=7,\n",
    "        font=dict(size=14)  # annotation 폰트\n",
    "    )\n",
    "\n",
    "# 두 번째 꺾은선 그래프의 annotation 추가\n",
    "for i, row in common_4_df.iterrows():\n",
    "    fig.add_annotation(\n",
    "        text=row['평균'],\n",
    "        x=row['설문'],\n",
    "        y=row['평균'],\n",
    "        showarrow=True,\n",
    "        arrowhead=7,\n",
    "        font=dict(size=14)  # annotation 폰트\n",
    "    )\n",
    "\n",
    "# 그래프 레이아웃 설정\n",
    "fig.update_layout(\n",
    "    xaxis_title='문항',\n",
    "    yaxis_title='평균',\n",
    "    margin=dict(l=100, r=20, t=50, b=50),  # 그래프 마진 조정\n",
    "    yaxis_title_font=dict(\n",
    "        size=15,  # Y 레이블 폰트 크기\n",
    "    ),\n",
    "    xaxis_title_font=dict(\n",
    "        size=15,  # X 레이블 폰트 크기\n",
    "    )\n",
    ")\n",
    "\n",
    "# 범례 추가\n",
    "fig.update_layout(legend=dict(orientation=\"h\", x=0.02, y=0.98), showlegend=True)\n",
    "\n",
    "# 여백 (margin) 조정\n",
    "fig.update_layout(margin=dict(l=100, r=100, b=70, t=70))\n",
    "\n",
    "# 그래프 그리기\n",
    "fig.show()"
   ]
  },
  {
   "cell_type": "code",
   "execution_count": 116,
   "metadata": {},
   "outputs": [
    {
     "data": {
      "application/vnd.plotly.v1+json": {
       "config": {
        "plotlyServerURL": "https://plot.ly"
       },
       "data": [
        {
         "marker": {
          "color": "rgb(247,251,255)"
         },
         "name": "1점 (산림엑스포)",
         "text": [
          "<span style=\"font-size: 15px !important;\">1.0%</span>",
          "<span style=\"font-size: 15px !important;\">1.0%</span>",
          "<span style=\"font-size: 15px !important;\">1.9%</span>",
          "<span style=\"font-size: 15px !important;\">1.0%</span>",
          "<span style=\"font-size: 15px !important;\">2.9%</span>",
          "<span style=\"font-size: 15px !important;\">3.8%</span>",
          "<span style=\"font-size: 15px !important;\">3.8%</span>",
          "<span style=\"font-size: 15px !important;\">1.9%</span>",
          "<span style=\"font-size: 15px !important;\">1.0%</span>",
          "<span style=\"font-size: 15px !important;\">2.9%</span>",
          "<span style=\"font-size: 15px !important;\">1.0%</span>"
         ],
         "textposition": "auto",
         "type": "bar",
         "x": [
          "공익적 가치",
          "경제적 가치",
          "환경적 가치",
          "도덕적 가치",
          "역사적 가치",
          "예술적 가치",
          "학술적 가치",
          "생활적 가치",
          "공존적 가치",
          "공동체적 가치",
          "정서적 가치"
         ],
         "y": [
          1,
          1,
          1.9,
          1,
          2.9,
          3.8,
          3.8,
          1.9,
          1,
          2.9,
          1
         ]
        },
        {
         "marker": {
          "color": "rgb(222,235,247)"
         },
         "name": "2점 (산림엑스포)",
         "text": [
          "<span style=\"font-size: 15px !important;\">7.6%</span>",
          "<span style=\"font-size: 15px !important;\">11.4%</span>",
          "<span style=\"font-size: 15px !important;\">1.9%</span>",
          "<span style=\"font-size: 15px !important;\">7.6%</span>",
          "<span style=\"font-size: 15px !important;\">8.6%</span>",
          "<span style=\"font-size: 15px !important;\">6.7%</span>",
          "<span style=\"font-size: 15px !important;\">5.7%</span>",
          "<span style=\"font-size: 15px !important;\">2.9%</span>",
          "<span style=\"font-size: 15px !important;\">3.8%</span>",
          "<span style=\"font-size: 15px !important;\">8.6%</span>",
          "<span style=\"font-size: 15px !important;\">10.5%</span>"
         ],
         "textposition": "auto",
         "type": "bar",
         "x": [
          "공익적 가치",
          "경제적 가치",
          "환경적 가치",
          "도덕적 가치",
          "역사적 가치",
          "예술적 가치",
          "학술적 가치",
          "생활적 가치",
          "공존적 가치",
          "공동체적 가치",
          "정서적 가치"
         ],
         "y": [
          7.6,
          11.4,
          1.9,
          7.6,
          8.6,
          6.7,
          5.7,
          2.9,
          3.8,
          8.6,
          10.5
         ]
        },
        {
         "marker": {
          "color": "rgb(198,219,239)"
         },
         "name": "3점 (산림엑스포)",
         "text": [
          "<span style=\"font-size: 15px !important;\">17.1%</span>",
          "<span style=\"font-size: 15px !important;\">21.0%</span>",
          "<span style=\"font-size: 15px !important;\">10.5%</span>",
          "<span style=\"font-size: 15px !important;\">23.8%</span>",
          "<span style=\"font-size: 15px !important;\">25.7%</span>",
          "<span style=\"font-size: 15px !important;\">24.8%</span>",
          "<span style=\"font-size: 15px !important;\">25.7%</span>",
          "<span style=\"font-size: 15px !important;\">18.1%</span>",
          "<span style=\"font-size: 15px !important;\">11.4%</span>",
          "<span style=\"font-size: 15px !important;\">17.1%</span>",
          "<span style=\"font-size: 15px !important;\">14.3%</span>"
         ],
         "textposition": "auto",
         "type": "bar",
         "x": [
          "공익적 가치",
          "경제적 가치",
          "환경적 가치",
          "도덕적 가치",
          "역사적 가치",
          "예술적 가치",
          "학술적 가치",
          "생활적 가치",
          "공존적 가치",
          "공동체적 가치",
          "정서적 가치"
         ],
         "y": [
          17.1,
          21,
          10.5,
          23.8,
          25.7,
          24.8,
          25.7,
          18.1,
          11.4,
          17.1,
          14.3
         ]
        },
        {
         "marker": {
          "color": "rgb(158,202,225)"
         },
         "name": "4점 (산림엑스포)",
         "text": [
          "<span style=\"font-size: 15px !important;\">29.5%</span>",
          "<span style=\"font-size: 15px !important;\">31.4%</span>",
          "<span style=\"font-size: 15px !important;\">22.9%</span>",
          "<span style=\"font-size: 15px !important;\">31.4%</span>",
          "<span style=\"font-size: 15px !important;\">28.6%</span>",
          "<span style=\"font-size: 15px !important;\">28.6%</span>",
          "<span style=\"font-size: 15px !important;\">31.4%</span>",
          "<span style=\"font-size: 15px !important;\">38.1%</span>",
          "<span style=\"font-size: 15px !important;\">16.2%</span>",
          "<span style=\"font-size: 15px !important;\">28.6%</span>",
          "<span style=\"font-size: 15px !important;\">29.5%</span>"
         ],
         "textposition": "auto",
         "type": "bar",
         "x": [
          "공익적 가치",
          "경제적 가치",
          "환경적 가치",
          "도덕적 가치",
          "역사적 가치",
          "예술적 가치",
          "학술적 가치",
          "생활적 가치",
          "공존적 가치",
          "공동체적 가치",
          "정서적 가치"
         ],
         "y": [
          29.5,
          31.4,
          22.9,
          31.4,
          28.6,
          28.6,
          31.4,
          38.1,
          16.2,
          28.6,
          29.5
         ]
        },
        {
         "marker": {
          "color": "rgb(107,174,214)"
         },
         "name": "5점 (산림엑스포)",
         "text": [
          "<span style=\"font-size: 15px !important;\">44.8%</span>",
          "<span style=\"font-size: 15px !important;\">35.2%</span>",
          "<span style=\"font-size: 15px !important;\">62.9%</span>",
          "<span style=\"font-size: 15px !important;\">36.2%</span>",
          "<span style=\"font-size: 15px !important;\">34.3%</span>",
          "<span style=\"font-size: 15px !important;\">36.2%</span>",
          "<span style=\"font-size: 15px !important;\">33.3%</span>",
          "<span style=\"font-size: 15px !important;\">39.0%</span>",
          "<span style=\"font-size: 15px !important;\">67.6%</span>",
          "<span style=\"font-size: 15px !important;\">42.9%</span>",
          "<span style=\"font-size: 15px !important;\">44.8%</span>"
         ],
         "textposition": "auto",
         "type": "bar",
         "x": [
          "공익적 가치",
          "경제적 가치",
          "환경적 가치",
          "도덕적 가치",
          "역사적 가치",
          "예술적 가치",
          "학술적 가치",
          "생활적 가치",
          "공존적 가치",
          "공동체적 가치",
          "정서적 가치"
         ],
         "y": [
          44.8,
          35.2,
          62.9,
          36.2,
          34.3,
          36.2,
          33.3,
          39,
          67.6,
          42.9,
          44.8
         ]
        },
        {
         "marker": {
          "color": "rgb(255,245,240)"
         },
         "name": "1점 (일반국민대상)",
         "text": [
          "<span style=\"font-size: 15px\">1.5%</span>",
          "<span style=\"font-size: 15px\">1.1%</span>",
          "<span style=\"font-size: 15px\">1.3%</span>",
          "<span style=\"font-size: 15px\">1.2%</span>",
          "<span style=\"font-size: 15px\">1.5%</span>",
          "<span style=\"font-size: 15px\">1.8%</span>",
          "<span style=\"font-size: 15px\">1.4%</span>",
          "<span style=\"font-size: 15px\">1.3%</span>",
          "<span style=\"font-size: 15px\">0.9%</span>",
          "<span style=\"font-size: 15px\">1.4%</span>",
          "<span style=\"font-size: 15px\">1.1%</span>"
         ],
         "textposition": "auto",
         "type": "bar",
         "x": [
          "공익적 가치",
          "경제적 가치",
          "환경적 가치",
          "도덕적 가치",
          "역사적 가치",
          "예술적 가치",
          "학술적 가치",
          "생활적 가치",
          "공존적 가치",
          "공동체적 가치",
          "정서적 가치"
         ],
         "y": [
          1.5,
          1.1,
          1.3,
          1.2,
          1.5,
          1.8,
          1.4,
          1.3,
          0.9,
          1.4,
          1.1
         ]
        },
        {
         "marker": {
          "color": "rgb(254,224,210)"
         },
         "name": "2점 (일반국민대상)",
         "text": [
          "<span style=\"font-size: 15px\">8.6%</span>",
          "<span style=\"font-size: 15px\">8.4%</span>",
          "<span style=\"font-size: 15px\">5.6%</span>",
          "<span style=\"font-size: 15px\">9.0%</span>",
          "<span style=\"font-size: 15px\">8.4%</span>",
          "<span style=\"font-size: 15px\">9.2%</span>",
          "<span style=\"font-size: 15px\">8.6%</span>",
          "<span style=\"font-size: 15px\">5.5%</span>",
          "<span style=\"font-size: 15px\">4.6%</span>",
          "<span style=\"font-size: 15px\">7.5%</span>",
          "<span style=\"font-size: 15px\">5.2%</span>"
         ],
         "textposition": "auto",
         "type": "bar",
         "x": [
          "공익적 가치",
          "경제적 가치",
          "환경적 가치",
          "도덕적 가치",
          "역사적 가치",
          "예술적 가치",
          "학술적 가치",
          "생활적 가치",
          "공존적 가치",
          "공동체적 가치",
          "정서적 가치"
         ],
         "y": [
          8.6,
          8.4,
          5.6,
          9,
          8.4,
          9.2,
          8.6,
          5.5,
          4.6,
          7.5,
          5.2
         ]
        },
        {
         "marker": {
          "color": "rgb(252,187,161)"
         },
         "name": "3점 (일반국민대상)",
         "text": [
          "<span style=\"font-size: 15px\">16.1%</span>",
          "<span style=\"font-size: 15px\">15.3%</span>",
          "<span style=\"font-size: 15px\">21.4%</span>",
          "<span style=\"font-size: 15px\">10.8%</span>",
          "<span style=\"font-size: 15px\">10.8%</span>",
          "<span style=\"font-size: 15px\">9.4%</span>",
          "<span style=\"font-size: 15px\">11.2%</span>",
          "<span style=\"font-size: 15px\">22.1%</span>",
          "<span style=\"font-size: 15px\">26.8%</span>",
          "<span style=\"font-size: 15px\">12.6%</span>",
          "<span style=\"font-size: 15px\">20.6%</span>"
         ],
         "textposition": "auto",
         "type": "bar",
         "x": [
          "공익적 가치",
          "경제적 가치",
          "환경적 가치",
          "도덕적 가치",
          "역사적 가치",
          "예술적 가치",
          "학술적 가치",
          "생활적 가치",
          "공존적 가치",
          "공동체적 가치",
          "정서적 가치"
         ],
         "y": [
          16.1,
          15.3,
          21.4,
          10.8,
          10.8,
          9.4,
          11.2,
          22.1,
          26.8,
          12.6,
          20.6
         ]
        },
        {
         "marker": {
          "color": "rgb(252,146,114)"
         },
         "name": "4점 (일반국민대상)",
         "text": [
          "<span style=\"font-size: 15px\">34.3%</span>",
          "<span style=\"font-size: 15px\">35.0%</span>",
          "<span style=\"font-size: 15px\">34.5%</span>",
          "<span style=\"font-size: 15px\">38.1%</span>",
          "<span style=\"font-size: 15px\">38.3%</span>",
          "<span style=\"font-size: 15px\">39.0%</span>",
          "<span style=\"font-size: 15px\">37.4%</span>",
          "<span style=\"font-size: 15px\">26.4%</span>",
          "<span style=\"font-size: 15px\">26.9%</span>",
          "<span style=\"font-size: 15px\">38.5%</span>",
          "<span style=\"font-size: 15px\">29.9%</span>"
         ],
         "textposition": "auto",
         "type": "bar",
         "x": [
          "공익적 가치",
          "경제적 가치",
          "환경적 가치",
          "도덕적 가치",
          "역사적 가치",
          "예술적 가치",
          "학술적 가치",
          "생활적 가치",
          "공존적 가치",
          "공동체적 가치",
          "정서적 가치"
         ],
         "y": [
          34.3,
          35,
          34.5,
          38.1,
          38.3,
          39,
          37.4,
          26.4,
          26.9,
          38.5,
          29.9
         ]
        },
        {
         "marker": {
          "color": "rgb(251,106,74)"
         },
         "name": "5점 (일반국민대상)",
         "text": [
          "<span style=\"font-size: 15px\">39.5%</span>",
          "<span style=\"font-size: 15px\">40.2%</span>",
          "<span style=\"font-size: 15px\">37.2%</span>",
          "<span style=\"font-size: 15px\">40.8%</span>",
          "<span style=\"font-size: 15px\">41.1%</span>",
          "<span style=\"font-size: 15px\">40.6%</span>",
          "<span style=\"font-size: 15px\">41.4%</span>",
          "<span style=\"font-size: 15px\">44.6%</span>",
          "<span style=\"font-size: 15px\">40.7%</span>",
          "<span style=\"font-size: 15px\">40.0%</span>",
          "<span style=\"font-size: 15px\">43.2%</span>"
         ],
         "textposition": "auto",
         "type": "bar",
         "x": [
          "공익적 가치",
          "경제적 가치",
          "환경적 가치",
          "도덕적 가치",
          "역사적 가치",
          "예술적 가치",
          "학술적 가치",
          "생활적 가치",
          "공존적 가치",
          "공동체적 가치",
          "정서적 가치"
         ],
         "y": [
          39.5,
          40.2,
          37.2,
          40.8,
          41.1,
          40.6,
          41.4,
          44.6,
          40.7,
          40,
          43.2
         ]
        }
       ],
       "layout": {
        "barmode": "group",
        "height": 700,
        "legend": {
         "traceorder": "reversed"
        },
        "margin": {
         "b": 70,
         "l": 100,
         "r": 100,
         "t": 70
        },
        "showlegend": true,
        "template": {
         "data": {
          "bar": [
           {
            "error_x": {
             "color": "#2a3f5f"
            },
            "error_y": {
             "color": "#2a3f5f"
            },
            "marker": {
             "line": {
              "color": "#E5ECF6",
              "width": 0.5
             },
             "pattern": {
              "fillmode": "overlay",
              "size": 10,
              "solidity": 0.2
             }
            },
            "type": "bar"
           }
          ],
          "barpolar": [
           {
            "marker": {
             "line": {
              "color": "#E5ECF6",
              "width": 0.5
             },
             "pattern": {
              "fillmode": "overlay",
              "size": 10,
              "solidity": 0.2
             }
            },
            "type": "barpolar"
           }
          ],
          "carpet": [
           {
            "aaxis": {
             "endlinecolor": "#2a3f5f",
             "gridcolor": "white",
             "linecolor": "white",
             "minorgridcolor": "white",
             "startlinecolor": "#2a3f5f"
            },
            "baxis": {
             "endlinecolor": "#2a3f5f",
             "gridcolor": "white",
             "linecolor": "white",
             "minorgridcolor": "white",
             "startlinecolor": "#2a3f5f"
            },
            "type": "carpet"
           }
          ],
          "choropleth": [
           {
            "colorbar": {
             "outlinewidth": 0,
             "ticks": ""
            },
            "type": "choropleth"
           }
          ],
          "contour": [
           {
            "colorbar": {
             "outlinewidth": 0,
             "ticks": ""
            },
            "colorscale": [
             [
              0,
              "#0d0887"
             ],
             [
              0.1111111111111111,
              "#46039f"
             ],
             [
              0.2222222222222222,
              "#7201a8"
             ],
             [
              0.3333333333333333,
              "#9c179e"
             ],
             [
              0.4444444444444444,
              "#bd3786"
             ],
             [
              0.5555555555555556,
              "#d8576b"
             ],
             [
              0.6666666666666666,
              "#ed7953"
             ],
             [
              0.7777777777777778,
              "#fb9f3a"
             ],
             [
              0.8888888888888888,
              "#fdca26"
             ],
             [
              1,
              "#f0f921"
             ]
            ],
            "type": "contour"
           }
          ],
          "contourcarpet": [
           {
            "colorbar": {
             "outlinewidth": 0,
             "ticks": ""
            },
            "type": "contourcarpet"
           }
          ],
          "heatmap": [
           {
            "colorbar": {
             "outlinewidth": 0,
             "ticks": ""
            },
            "colorscale": [
             [
              0,
              "#0d0887"
             ],
             [
              0.1111111111111111,
              "#46039f"
             ],
             [
              0.2222222222222222,
              "#7201a8"
             ],
             [
              0.3333333333333333,
              "#9c179e"
             ],
             [
              0.4444444444444444,
              "#bd3786"
             ],
             [
              0.5555555555555556,
              "#d8576b"
             ],
             [
              0.6666666666666666,
              "#ed7953"
             ],
             [
              0.7777777777777778,
              "#fb9f3a"
             ],
             [
              0.8888888888888888,
              "#fdca26"
             ],
             [
              1,
              "#f0f921"
             ]
            ],
            "type": "heatmap"
           }
          ],
          "heatmapgl": [
           {
            "colorbar": {
             "outlinewidth": 0,
             "ticks": ""
            },
            "colorscale": [
             [
              0,
              "#0d0887"
             ],
             [
              0.1111111111111111,
              "#46039f"
             ],
             [
              0.2222222222222222,
              "#7201a8"
             ],
             [
              0.3333333333333333,
              "#9c179e"
             ],
             [
              0.4444444444444444,
              "#bd3786"
             ],
             [
              0.5555555555555556,
              "#d8576b"
             ],
             [
              0.6666666666666666,
              "#ed7953"
             ],
             [
              0.7777777777777778,
              "#fb9f3a"
             ],
             [
              0.8888888888888888,
              "#fdca26"
             ],
             [
              1,
              "#f0f921"
             ]
            ],
            "type": "heatmapgl"
           }
          ],
          "histogram": [
           {
            "marker": {
             "pattern": {
              "fillmode": "overlay",
              "size": 10,
              "solidity": 0.2
             }
            },
            "type": "histogram"
           }
          ],
          "histogram2d": [
           {
            "colorbar": {
             "outlinewidth": 0,
             "ticks": ""
            },
            "colorscale": [
             [
              0,
              "#0d0887"
             ],
             [
              0.1111111111111111,
              "#46039f"
             ],
             [
              0.2222222222222222,
              "#7201a8"
             ],
             [
              0.3333333333333333,
              "#9c179e"
             ],
             [
              0.4444444444444444,
              "#bd3786"
             ],
             [
              0.5555555555555556,
              "#d8576b"
             ],
             [
              0.6666666666666666,
              "#ed7953"
             ],
             [
              0.7777777777777778,
              "#fb9f3a"
             ],
             [
              0.8888888888888888,
              "#fdca26"
             ],
             [
              1,
              "#f0f921"
             ]
            ],
            "type": "histogram2d"
           }
          ],
          "histogram2dcontour": [
           {
            "colorbar": {
             "outlinewidth": 0,
             "ticks": ""
            },
            "colorscale": [
             [
              0,
              "#0d0887"
             ],
             [
              0.1111111111111111,
              "#46039f"
             ],
             [
              0.2222222222222222,
              "#7201a8"
             ],
             [
              0.3333333333333333,
              "#9c179e"
             ],
             [
              0.4444444444444444,
              "#bd3786"
             ],
             [
              0.5555555555555556,
              "#d8576b"
             ],
             [
              0.6666666666666666,
              "#ed7953"
             ],
             [
              0.7777777777777778,
              "#fb9f3a"
             ],
             [
              0.8888888888888888,
              "#fdca26"
             ],
             [
              1,
              "#f0f921"
             ]
            ],
            "type": "histogram2dcontour"
           }
          ],
          "mesh3d": [
           {
            "colorbar": {
             "outlinewidth": 0,
             "ticks": ""
            },
            "type": "mesh3d"
           }
          ],
          "parcoords": [
           {
            "line": {
             "colorbar": {
              "outlinewidth": 0,
              "ticks": ""
             }
            },
            "type": "parcoords"
           }
          ],
          "pie": [
           {
            "automargin": true,
            "type": "pie"
           }
          ],
          "scatter": [
           {
            "fillpattern": {
             "fillmode": "overlay",
             "size": 10,
             "solidity": 0.2
            },
            "type": "scatter"
           }
          ],
          "scatter3d": [
           {
            "line": {
             "colorbar": {
              "outlinewidth": 0,
              "ticks": ""
             }
            },
            "marker": {
             "colorbar": {
              "outlinewidth": 0,
              "ticks": ""
             }
            },
            "type": "scatter3d"
           }
          ],
          "scattercarpet": [
           {
            "marker": {
             "colorbar": {
              "outlinewidth": 0,
              "ticks": ""
             }
            },
            "type": "scattercarpet"
           }
          ],
          "scattergeo": [
           {
            "marker": {
             "colorbar": {
              "outlinewidth": 0,
              "ticks": ""
             }
            },
            "type": "scattergeo"
           }
          ],
          "scattergl": [
           {
            "marker": {
             "colorbar": {
              "outlinewidth": 0,
              "ticks": ""
             }
            },
            "type": "scattergl"
           }
          ],
          "scattermapbox": [
           {
            "marker": {
             "colorbar": {
              "outlinewidth": 0,
              "ticks": ""
             }
            },
            "type": "scattermapbox"
           }
          ],
          "scatterpolar": [
           {
            "marker": {
             "colorbar": {
              "outlinewidth": 0,
              "ticks": ""
             }
            },
            "type": "scatterpolar"
           }
          ],
          "scatterpolargl": [
           {
            "marker": {
             "colorbar": {
              "outlinewidth": 0,
              "ticks": ""
             }
            },
            "type": "scatterpolargl"
           }
          ],
          "scatterternary": [
           {
            "marker": {
             "colorbar": {
              "outlinewidth": 0,
              "ticks": ""
             }
            },
            "type": "scatterternary"
           }
          ],
          "surface": [
           {
            "colorbar": {
             "outlinewidth": 0,
             "ticks": ""
            },
            "colorscale": [
             [
              0,
              "#0d0887"
             ],
             [
              0.1111111111111111,
              "#46039f"
             ],
             [
              0.2222222222222222,
              "#7201a8"
             ],
             [
              0.3333333333333333,
              "#9c179e"
             ],
             [
              0.4444444444444444,
              "#bd3786"
             ],
             [
              0.5555555555555556,
              "#d8576b"
             ],
             [
              0.6666666666666666,
              "#ed7953"
             ],
             [
              0.7777777777777778,
              "#fb9f3a"
             ],
             [
              0.8888888888888888,
              "#fdca26"
             ],
             [
              1,
              "#f0f921"
             ]
            ],
            "type": "surface"
           }
          ],
          "table": [
           {
            "cells": {
             "fill": {
              "color": "#EBF0F8"
             },
             "line": {
              "color": "white"
             }
            },
            "header": {
             "fill": {
              "color": "#C8D4E3"
             },
             "line": {
              "color": "white"
             }
            },
            "type": "table"
           }
          ]
         },
         "layout": {
          "annotationdefaults": {
           "arrowcolor": "#2a3f5f",
           "arrowhead": 0,
           "arrowwidth": 1
          },
          "autotypenumbers": "strict",
          "coloraxis": {
           "colorbar": {
            "outlinewidth": 0,
            "ticks": ""
           }
          },
          "colorscale": {
           "diverging": [
            [
             0,
             "#8e0152"
            ],
            [
             0.1,
             "#c51b7d"
            ],
            [
             0.2,
             "#de77ae"
            ],
            [
             0.3,
             "#f1b6da"
            ],
            [
             0.4,
             "#fde0ef"
            ],
            [
             0.5,
             "#f7f7f7"
            ],
            [
             0.6,
             "#e6f5d0"
            ],
            [
             0.7,
             "#b8e186"
            ],
            [
             0.8,
             "#7fbc41"
            ],
            [
             0.9,
             "#4d9221"
            ],
            [
             1,
             "#276419"
            ]
           ],
           "sequential": [
            [
             0,
             "#0d0887"
            ],
            [
             0.1111111111111111,
             "#46039f"
            ],
            [
             0.2222222222222222,
             "#7201a8"
            ],
            [
             0.3333333333333333,
             "#9c179e"
            ],
            [
             0.4444444444444444,
             "#bd3786"
            ],
            [
             0.5555555555555556,
             "#d8576b"
            ],
            [
             0.6666666666666666,
             "#ed7953"
            ],
            [
             0.7777777777777778,
             "#fb9f3a"
            ],
            [
             0.8888888888888888,
             "#fdca26"
            ],
            [
             1,
             "#f0f921"
            ]
           ],
           "sequentialminus": [
            [
             0,
             "#0d0887"
            ],
            [
             0.1111111111111111,
             "#46039f"
            ],
            [
             0.2222222222222222,
             "#7201a8"
            ],
            [
             0.3333333333333333,
             "#9c179e"
            ],
            [
             0.4444444444444444,
             "#bd3786"
            ],
            [
             0.5555555555555556,
             "#d8576b"
            ],
            [
             0.6666666666666666,
             "#ed7953"
            ],
            [
             0.7777777777777778,
             "#fb9f3a"
            ],
            [
             0.8888888888888888,
             "#fdca26"
            ],
            [
             1,
             "#f0f921"
            ]
           ]
          },
          "colorway": [
           "#636efa",
           "#EF553B",
           "#00cc96",
           "#ab63fa",
           "#FFA15A",
           "#19d3f3",
           "#FF6692",
           "#B6E880",
           "#FF97FF",
           "#FECB52"
          ],
          "font": {
           "color": "#2a3f5f"
          },
          "geo": {
           "bgcolor": "white",
           "lakecolor": "white",
           "landcolor": "#E5ECF6",
           "showlakes": true,
           "showland": true,
           "subunitcolor": "white"
          },
          "hoverlabel": {
           "align": "left"
          },
          "hovermode": "closest",
          "mapbox": {
           "style": "light"
          },
          "paper_bgcolor": "white",
          "plot_bgcolor": "#E5ECF6",
          "polar": {
           "angularaxis": {
            "gridcolor": "white",
            "linecolor": "white",
            "ticks": ""
           },
           "bgcolor": "#E5ECF6",
           "radialaxis": {
            "gridcolor": "white",
            "linecolor": "white",
            "ticks": ""
           }
          },
          "scene": {
           "xaxis": {
            "backgroundcolor": "#E5ECF6",
            "gridcolor": "white",
            "gridwidth": 2,
            "linecolor": "white",
            "showbackground": true,
            "ticks": "",
            "zerolinecolor": "white"
           },
           "yaxis": {
            "backgroundcolor": "#E5ECF6",
            "gridcolor": "white",
            "gridwidth": 2,
            "linecolor": "white",
            "showbackground": true,
            "ticks": "",
            "zerolinecolor": "white"
           },
           "zaxis": {
            "backgroundcolor": "#E5ECF6",
            "gridcolor": "white",
            "gridwidth": 2,
            "linecolor": "white",
            "showbackground": true,
            "ticks": "",
            "zerolinecolor": "white"
           }
          },
          "shapedefaults": {
           "line": {
            "color": "#2a3f5f"
           }
          },
          "ternary": {
           "aaxis": {
            "gridcolor": "white",
            "linecolor": "white",
            "ticks": ""
           },
           "baxis": {
            "gridcolor": "white",
            "linecolor": "white",
            "ticks": ""
           },
           "bgcolor": "#E5ECF6",
           "caxis": {
            "gridcolor": "white",
            "linecolor": "white",
            "ticks": ""
           }
          },
          "title": {
           "x": 0.05
          },
          "xaxis": {
           "automargin": true,
           "gridcolor": "white",
           "linecolor": "white",
           "ticks": "",
           "title": {
            "standoff": 15
           },
           "zerolinecolor": "white",
           "zerolinewidth": 2
          },
          "yaxis": {
           "automargin": true,
           "gridcolor": "white",
           "linecolor": "white",
           "ticks": "",
           "title": {
            "standoff": 15
           },
           "zerolinecolor": "white",
           "zerolinewidth": 2
          }
         }
        },
        "title": {
         "text": "산림문화의 추구 가치 비교"
        },
        "width": 1400,
        "xaxis": {
         "title": {
          "text": "<span style='font-size: 15px'>설문</span>"
         }
        },
        "yaxis": {
         "title": {
          "text": "<span style='font-size: 15px'>비율(%)</span>"
         }
        }
       }
      }
     },
     "metadata": {},
     "output_type": "display_data"
    }
   ],
   "source": [
    "import plotly.colors as pc\n",
    "expo_4_num_df = expo_4_df[['설문','5_비율','4_비율', '3_비율', '2_비율', '1_비율']]\n",
    "common_4_num_df = common_4_df[['설문','5_비율','4_비율', '3_비율', '2_비율', '1_비율']]\n",
    "\n",
    "# 컬러맵을 리스트로 불러오기\n",
    "blues_color_map = pc.sequential.Blues\n",
    "reds_color_map = pc.sequential.Reds\n",
    "\n",
    "# 누적 막대그래프 시각화\n",
    "fig = go.Figure()\n",
    "\n",
    "# 막대 그래프 추가 (expo_4_num_df 데이터 사용)\n",
    "for i in range(1, 6):\n",
    "    text_labels = [f'<span style=\"font-size: 15px !important;\">{val:.1f}%</span>' for val in expo_4_num_df[f'{i}_비율']]\n",
    "    fig.add_trace(go.Bar(x=expo_4_num_df['설문'], y=expo_4_num_df[f'{i}_비율'], text=text_labels,\n",
    "                         name=f'{i}점 (산림엑스포)', textposition='auto', marker=dict(color=blues_color_map[i-1])))\n",
    "\n",
    "# 두 번째 막대 그래프 추가 (common_4_num_df 데이터 사용) - 겹치게 표시\n",
    "for i in range(1, 6):\n",
    "    text_labels = [f'<span style=\"font-size: 15px\">{val:.1f}%</span>' for val in common_4_num_df[f'{i}_비율']]\n",
    "    fig.add_trace(go.Bar(x=common_4_num_df['설문'], y=common_4_num_df[f'{i}_비율'], text=text_labels,\n",
    "                         name=f'{i}점 (일반국민대상)', textposition='auto', marker=dict(color=reds_color_map[i-1])))\n",
    "\n",
    "# 그래프 레이아웃 설정\n",
    "fig.update_layout(title=\"산림문화의 추구 가치 비교\", xaxis_title=\"<span style='font-size: 15px'>설문</span>\", yaxis_title=\"<span style='font-size: 15px'>비율(%)</span>\",\n",
    "                  barmode='group', showlegend=True)\n",
    "\n",
    "# 범례 텍스트 수정\n",
    "fig.update_layout(legend=dict(traceorder=\"reversed\"))\n",
    "\n",
    "# 그래프 높이와 너비 조정\n",
    "fig.update_layout(height=700, width=1400)\n",
    "\n",
    "# 여백 (margin) 조정\n",
    "fig.update_layout(margin=dict(l=100, r=100, b=70, t=70))\n",
    "\n",
    "fig.show()\n"
   ]
  },
  {
   "cell_type": "code",
   "execution_count": null,
   "metadata": {},
   "outputs": [],
   "source": [
    "import plotly.colors as pc\n",
    "\n",
    "# 컬러맵을 리스트로 불러오기\n",
    "blues_color_map = pc.sequential.Blues\n",
    "reds_color_map = pc.sequential.Reds\n",
    "\n",
    "# 누적 막대그래프 시각화\n",
    "fig = go.Figure()\n",
    "\n",
    "# 막대 그래프 추가 (expo_4_num_df 데이터 사용)\n",
    "for i in range(1, 6):\n",
    "    text_labels = [f'<span style=\"font-size: 14px !important;\">{val:.1f}%</span>' for val in expo_4_num_df[f'{i}_비율']]\n",
    "    fig.add_trace(go.Bar(x=expo_4_num_df['설문'], y=expo_4_num_df[f'{i}_비율'], text=text_labels,\n",
    "                         name=f'{i}점 (산림엑스포)', textposition='auto', marker=dict(color=blues_color_map[i-1])))\n",
    "\n",
    "# 두 번째 막대 그래프 추가 (common_4_df 데이터 사용) - 겹치게 표시\n",
    "for i in range(1, 6):\n",
    "    text_labels = [f'<span style=\"font-size: 14px !important;\">{val:.1f}%</span>' for val in common_4_df[f'{i}_비율']]\n",
    "    fig.add_trace(go.Bar(x=common_4_df['설문'], y=common_4_df[f'{i}_비율'], text=text_labels,\n",
    "                         name=f'{i}점 (다른 데이터)', textposition='auto', marker=dict(color=reds_color_map[i-1])))\n",
    "\n",
    "# 그래프 레이아웃 설정\n",
    "fig.update_layout(title=\"산림문화의 추구 가치 비교\", xaxis_title=\"설문\", yaxis_title=\"비율 (%)\",\n",
    "                  barmode='relative', showlegend=True)\n",
    "\n",
    "# 범례 텍스트 수정\n",
    "fig.update_layout(legend=dict(traceorder=\"reversed\"))\n",
    "\n",
    "# 그래프 높이와 너비 조정\n",
    "fig.update_layout(height=700, width=1400)\n",
    "\n",
    "# 여백 (margin) 조정\n",
    "fig.update_layout(margin=dict(l=100, r=100, b=70, t=70))\n",
    "\n",
    "fig.show()\n"
   ]
  },
  {
   "attachments": {},
   "cell_type": "markdown",
   "metadata": {},
   "source": [
    "### 산림엑스포만 합산한 표 생성"
   ]
  },
  {
   "cell_type": "code",
   "execution_count": null,
   "metadata": {},
   "outputs": [],
   "source": [
    "# 응답자 특성별 표 정리\n",
    "q4 = ['공익적 가치', '경제적 가치', '환경적 가치', '도덕적 가치', '역사적 가치', '예술적 가치', '학술적 가치', '생활적 가치', '공존적 가치', '공동체적 가치', '정서적 가치', '사례수']\n",
    "resp_map_df = pd.DataFrame(columns = q4)\n",
    "# 응답자 설문 리스트 정의\n",
    "sq_lst = list(Resp_Character.keys())\n",
    "# 응답자 매핑 딕셔너리 정의\n",
    "sq_dic = {'성별': 'SQ1', '연령': 'SQ2_1', '학력': 'SQ3', '거주지역': 'SQ4', '직업': 'SQ5'}\n",
    "\n",
    "# 멀티인덱스를 위한 리스트 생성\n",
    "mult_idx = []\n",
    "\n",
    "for sq in sq_lst:\n",
    "    for val in list(Resp_Character[sq].values()):\n",
    "        # 멀티인덱스 추가\n",
    "        mult_idx.append(sq)\n",
    "        # 'SQ1' 열의 값으로 필터링 및 평균계산\n",
    "        filtered_rows = df_expo_4[df_expo_4[sq_dic[sq]] == val].reset_index(drop=True)\n",
    "        mean_list = [round(filtered_rows[i].mean(),2) for i in filtered_rows.columns[7:]]\n",
    "\n",
    "        resp_map = {}\n",
    "        for col, mean in zip(resp_map_df.columns, mean_list + [0]):\n",
    "            if col == '사례수':\n",
    "                resp_map[col] = filtered_rows.shape[0]\n",
    "            else:\n",
    "                resp_map[col] = [mean]\n",
    "        else:\n",
    "            resp_map = pd.DataFrame(resp_map)\n",
    "            resp_map.index = [val]\n",
    "            resp_map_df = pd.concat([resp_map_df,resp_map])\n",
    "            resp_map_df.fillna(0.0, inplace=True)\n",
    "# 멀티인덱스 생성\n",
    "resp_map_df.set_index([mult_idx, resp_map_df.index], inplace=True)\n",
    "resp_map_df"
   ]
  },
  {
   "cell_type": "markdown",
   "metadata": {},
   "source": [
    "### 가치별 비율 표 (문항만 변경하면 원하는 가치 표출력 가능)"
   ]
  },
  {
   "cell_type": "code",
   "execution_count": 150,
   "metadata": {},
   "outputs": [],
   "source": [
    "# '값' 열의 값을 딕셔너리를 사용하여 일괄적으로 변경하는 함수 정의\n",
    "def map_val(series, dic):\n",
    "        lst = []\n",
    "        for value in series:\n",
    "                lst.append(dic[str(value)])\n",
    "        return lst"
   ]
  },
  {
   "cell_type": "code",
   "execution_count": null,
   "metadata": {},
   "outputs": [],
   "source": [
    "# 응답자 특성별 표 정리\n",
    "q4_map = {'1':'1.매우 가치가 낮다', '2':'2.다소 가치가 낮다', '3':'3.보통이다', '4':'4.다소 가치가 높다', '5':'5.매우 가치가 높다'}\n",
    "q4 = ['1.매우 가치가 낮다', '2.다소 가치가 낮다', '3.보통이다', '4.다소 가치가 높다', '5.매우 가치가 높다', '부정(1+2)', '보통(3)', '긍정(4+5)']\n",
    "resp_map_df = pd.DataFrame(columns = q4)\n",
    "\n",
    "# 응답자 설문 리스트 정의\n",
    "sq_lst = list(Resp_Character.keys())\n",
    "# 응답자 매핑 딕셔너리 정의\n",
    "sq_dic = {'성별': 'SQ1', '연령': 'SQ2_1', '학력': 'SQ3', '거주지역': 'SQ4', '직업': 'SQ5'}\n",
    "\n",
    "# 멀티인덱스를 위한 리스트 생성\n",
    "mult_idx = []\n",
    "\n",
    "for sq in sq_lst:\n",
    "    for val in list(Resp_Character[sq].values()):\n",
    "        # 멀티인덱스 추가\n",
    "        mult_idx.append(sq)\n",
    "        # 'SQ1' 열의 값으로 필터링 및 평균계산\n",
    "        filtered_rows = df_expo_4[df_expo_4[sq_dic[sq]] == val].reset_index(drop=True)\n",
    "        frequency_rate_df = filtered_rows['Q4_1'].value_counts().reset_index()\n",
    "        frequency_rate_df.columns = ['값', '빈도']\n",
    "        frequency_rate_df['값'] = map_val(frequency_rate_df['값'], q4_map)\n",
    "        frequency_rate_df['비율'] = round((frequency_rate_df['빈도'] / frequency_rate_df['빈도'].sum())*100,1)\n",
    "        frequency_rate_df = frequency_rate_df.set_index(keys='값')\n",
    "        \n",
    "        resp_map = {}\n",
    "        for i in resp_map_df.columns:\n",
    "            resp_map[i] = [0.0]\n",
    "        for i in resp_map_df.columns[:5]:\n",
    "            try:\n",
    "                resp_map[i][0] = frequency_rate_df.loc[i, '비율']\n",
    "            except:\n",
    "                pass\n",
    "        for i in resp_map_df.columns[5:]:\n",
    "            try:\n",
    "                f,s = i.split('+')\n",
    "                resp_map[i][0] = resp_map[q4_map[f[-1]]][0] + resp_map[q4_map[s[0]]][0]\n",
    "            except:\n",
    "                f = i.split('(')[1][0]\n",
    "                resp_map[i][0] = resp_map[q4_map[f]][0]\n",
    "        else:\n",
    "            resp_map = pd.DataFrame(resp_map)\n",
    "            resp_map.index = [val]\n",
    "            resp_map_df = pd.concat([resp_map_df,resp_map])\n",
    "# 멀티인덱스 생성\n",
    "resp_map_df.set_index([mult_idx, resp_map_df.index], inplace=True)\n",
    "resp_map_df"
   ]
  },
  {
   "attachments": {},
   "cell_type": "markdown",
   "metadata": {},
   "source": [
    "### 일반국민만 합산한 표 생성"
   ]
  },
  {
   "cell_type": "code",
   "execution_count": null,
   "metadata": {},
   "outputs": [],
   "source": [
    "# 응답자 특성별 표 정리\n",
    "q4 = ['공익적 가치', '경제적 가치', '환경적 가치', '도덕적 가치', '역사적 가치', '예술적 가치', '학술적 가치', '생활적 가치', '공존적 가치', '공동체적 가치', '정서적 가치', '사례수']\n",
    "resp_map_df = pd.DataFrame(columns = q4)\n",
    "# 응답자 설문 리스트 정의\n",
    "sq_lst = list(Resp_Character.keys())\n",
    "# 응답자 매핑 딕셔너리 정의\n",
    "sq_dic = {'성별': 'SQ1', '연령': 'SQ2_1', '학력': 'SQ3', '거주지역': 'SQ4', '직업': 'SQ5'}\n",
    "\n",
    "# 멀티인덱스를 위한 리스트 생성\n",
    "mult_idx = []\n",
    "\n",
    "for sq in sq_lst:\n",
    "    for val in list(Resp_Character[sq].values()):\n",
    "        # 멀티인덱스 추가\n",
    "        mult_idx.append(sq)\n",
    "        # 'SQ1' 열의 값으로 필터링 및 평균계산\n",
    "        filtered_rows = df_common_4[df_common_4[sq_dic[sq]] == val].reset_index(drop=True)\n",
    "        mean_list = [round(filtered_rows[i].mean(),2) for i in filtered_rows.columns[7:]]\n",
    "\n",
    "        resp_map = {}\n",
    "        for col, mean in zip(resp_map_df.columns, mean_list + [0]):\n",
    "            if col == '사례수':\n",
    "                resp_map[col] = filtered_rows.shape[0]\n",
    "            else:\n",
    "                resp_map[col] = [mean]\n",
    "        else:\n",
    "            resp_map = pd.DataFrame(resp_map)\n",
    "            resp_map.index = [val]\n",
    "            resp_map_df = pd.concat([resp_map_df,resp_map])\n",
    "            resp_map_df.fillna(0.0, inplace=True)\n",
    "# 멀티인덱스 생성\n",
    "resp_map_df.set_index([mult_idx, resp_map_df.index], inplace=True)\n",
    "resp_map_df"
   ]
  },
  {
   "cell_type": "markdown",
   "metadata": {},
   "source": [
    "### 가치별 비율 표 (문항만 변경하면 원하는 가치 표출력 가능)"
   ]
  },
  {
   "cell_type": "code",
   "execution_count": 179,
   "metadata": {},
   "outputs": [],
   "source": [
    "# '값' 열의 값을 딕셔너리를 사용하여 일괄적으로 변경하는 함수 정의\n",
    "def map_val(series, dic):\n",
    "        lst = []\n",
    "        for value in series:\n",
    "                lst.append(dic[str(value)])\n",
    "        return lst"
   ]
  },
  {
   "cell_type": "code",
   "execution_count": 180,
   "metadata": {},
   "outputs": [
    {
     "data": {
      "text/html": [
       "<div>\n",
       "<style scoped>\n",
       "    .dataframe tbody tr th:only-of-type {\n",
       "        vertical-align: middle;\n",
       "    }\n",
       "\n",
       "    .dataframe tbody tr th {\n",
       "        vertical-align: top;\n",
       "    }\n",
       "\n",
       "    .dataframe thead th {\n",
       "        text-align: right;\n",
       "    }\n",
       "</style>\n",
       "<table border=\"1\" class=\"dataframe\">\n",
       "  <thead>\n",
       "    <tr style=\"text-align: right;\">\n",
       "      <th></th>\n",
       "      <th></th>\n",
       "      <th>1.매우 가치가 낮다</th>\n",
       "      <th>2.다소 가치가 낮다</th>\n",
       "      <th>3.보통이다</th>\n",
       "      <th>4.다소 가치가 높다</th>\n",
       "      <th>5.매우 가치가 높다</th>\n",
       "      <th>부정(1+2)</th>\n",
       "      <th>보통(3)</th>\n",
       "      <th>긍정(4+5)</th>\n",
       "    </tr>\n",
       "  </thead>\n",
       "  <tbody>\n",
       "    <tr>\n",
       "      <th rowspan=\"2\" valign=\"top\">성별</th>\n",
       "      <th>남성</th>\n",
       "      <td>1.3</td>\n",
       "      <td>8.9</td>\n",
       "      <td>33.8</td>\n",
       "      <td>39.0</td>\n",
       "      <td>17.1</td>\n",
       "      <td>10.2</td>\n",
       "      <td>33.8</td>\n",
       "      <td>56.1</td>\n",
       "    </tr>\n",
       "    <tr>\n",
       "      <th>여성</th>\n",
       "      <td>1.7</td>\n",
       "      <td>8.4</td>\n",
       "      <td>34.9</td>\n",
       "      <td>40.0</td>\n",
       "      <td>15.1</td>\n",
       "      <td>10.1</td>\n",
       "      <td>34.9</td>\n",
       "      <td>55.1</td>\n",
       "    </tr>\n",
       "    <tr>\n",
       "      <th rowspan=\"6\" valign=\"top\">연령</th>\n",
       "      <th>10대(15세이상)</th>\n",
       "      <td>1.8</td>\n",
       "      <td>3.5</td>\n",
       "      <td>36.8</td>\n",
       "      <td>35.1</td>\n",
       "      <td>22.8</td>\n",
       "      <td>5.3</td>\n",
       "      <td>36.8</td>\n",
       "      <td>57.9</td>\n",
       "    </tr>\n",
       "    <tr>\n",
       "      <th>20대</th>\n",
       "      <td>1.9</td>\n",
       "      <td>9.7</td>\n",
       "      <td>36.8</td>\n",
       "      <td>37.7</td>\n",
       "      <td>13.8</td>\n",
       "      <td>11.6</td>\n",
       "      <td>36.8</td>\n",
       "      <td>51.5</td>\n",
       "    </tr>\n",
       "    <tr>\n",
       "      <th>30대</th>\n",
       "      <td>1.4</td>\n",
       "      <td>13.4</td>\n",
       "      <td>38.4</td>\n",
       "      <td>29.6</td>\n",
       "      <td>17.3</td>\n",
       "      <td>14.8</td>\n",
       "      <td>38.4</td>\n",
       "      <td>46.9</td>\n",
       "    </tr>\n",
       "    <tr>\n",
       "      <th>40대</th>\n",
       "      <td>1.4</td>\n",
       "      <td>9.2</td>\n",
       "      <td>33.2</td>\n",
       "      <td>40.4</td>\n",
       "      <td>15.8</td>\n",
       "      <td>10.6</td>\n",
       "      <td>33.2</td>\n",
       "      <td>56.2</td>\n",
       "    </tr>\n",
       "    <tr>\n",
       "      <th>50대</th>\n",
       "      <td>1.4</td>\n",
       "      <td>6.2</td>\n",
       "      <td>31.9</td>\n",
       "      <td>45.7</td>\n",
       "      <td>14.9</td>\n",
       "      <td>7.6</td>\n",
       "      <td>31.9</td>\n",
       "      <td>60.6</td>\n",
       "    </tr>\n",
       "    <tr>\n",
       "      <th>60대이상</th>\n",
       "      <td>1.2</td>\n",
       "      <td>6.5</td>\n",
       "      <td>31.7</td>\n",
       "      <td>42.5</td>\n",
       "      <td>18.0</td>\n",
       "      <td>7.7</td>\n",
       "      <td>31.7</td>\n",
       "      <td>60.5</td>\n",
       "    </tr>\n",
       "    <tr>\n",
       "      <th rowspan=\"9\" valign=\"top\">학력</th>\n",
       "      <th>초등학교 졸업(무학 포함)</th>\n",
       "      <td>0.0</td>\n",
       "      <td>0.0</td>\n",
       "      <td>16.7</td>\n",
       "      <td>33.3</td>\n",
       "      <td>50.0</td>\n",
       "      <td>0.0</td>\n",
       "      <td>16.7</td>\n",
       "      <td>83.3</td>\n",
       "    </tr>\n",
       "    <tr>\n",
       "      <th>중학교 재학</th>\n",
       "      <td>0.0</td>\n",
       "      <td>0.0</td>\n",
       "      <td>28.6</td>\n",
       "      <td>28.6</td>\n",
       "      <td>42.9</td>\n",
       "      <td>0.0</td>\n",
       "      <td>28.6</td>\n",
       "      <td>71.5</td>\n",
       "    </tr>\n",
       "    <tr>\n",
       "      <th>중학교 졸업</th>\n",
       "      <td>0.0</td>\n",
       "      <td>3.8</td>\n",
       "      <td>50.0</td>\n",
       "      <td>38.5</td>\n",
       "      <td>7.7</td>\n",
       "      <td>3.8</td>\n",
       "      <td>50.0</td>\n",
       "      <td>46.2</td>\n",
       "    </tr>\n",
       "    <tr>\n",
       "      <th>고등학교 재학</th>\n",
       "      <td>3.4</td>\n",
       "      <td>6.9</td>\n",
       "      <td>34.5</td>\n",
       "      <td>34.5</td>\n",
       "      <td>20.7</td>\n",
       "      <td>10.3</td>\n",
       "      <td>34.5</td>\n",
       "      <td>55.2</td>\n",
       "    </tr>\n",
       "    <tr>\n",
       "      <th>고등학교 졸업</th>\n",
       "      <td>2.9</td>\n",
       "      <td>9.3</td>\n",
       "      <td>44.5</td>\n",
       "      <td>32.3</td>\n",
       "      <td>10.9</td>\n",
       "      <td>12.2</td>\n",
       "      <td>44.5</td>\n",
       "      <td>43.2</td>\n",
       "    </tr>\n",
       "    <tr>\n",
       "      <th>대학교 재학</th>\n",
       "      <td>1.2</td>\n",
       "      <td>6.0</td>\n",
       "      <td>38.1</td>\n",
       "      <td>38.1</td>\n",
       "      <td>16.7</td>\n",
       "      <td>7.2</td>\n",
       "      <td>38.1</td>\n",
       "      <td>54.8</td>\n",
       "    </tr>\n",
       "    <tr>\n",
       "      <th>대학교 졸업</th>\n",
       "      <td>1.1</td>\n",
       "      <td>9.1</td>\n",
       "      <td>31.6</td>\n",
       "      <td>41.2</td>\n",
       "      <td>17.1</td>\n",
       "      <td>10.2</td>\n",
       "      <td>31.6</td>\n",
       "      <td>58.3</td>\n",
       "    </tr>\n",
       "    <tr>\n",
       "      <th>대학원 재학(석사 또는 박사)</th>\n",
       "      <td>0.0</td>\n",
       "      <td>14.3</td>\n",
       "      <td>9.5</td>\n",
       "      <td>57.1</td>\n",
       "      <td>19.0</td>\n",
       "      <td>14.3</td>\n",
       "      <td>9.5</td>\n",
       "      <td>76.1</td>\n",
       "    </tr>\n",
       "    <tr>\n",
       "      <th>대학원 졸업(석사또는 박사)</th>\n",
       "      <td>0.9</td>\n",
       "      <td>6.0</td>\n",
       "      <td>25.0</td>\n",
       "      <td>47.4</td>\n",
       "      <td>20.7</td>\n",
       "      <td>6.9</td>\n",
       "      <td>25.0</td>\n",
       "      <td>68.1</td>\n",
       "    </tr>\n",
       "    <tr>\n",
       "      <th rowspan=\"17\" valign=\"top\">거주지역</th>\n",
       "      <th>서울</th>\n",
       "      <td>3.1</td>\n",
       "      <td>9.0</td>\n",
       "      <td>38.6</td>\n",
       "      <td>35.5</td>\n",
       "      <td>13.7</td>\n",
       "      <td>12.1</td>\n",
       "      <td>38.6</td>\n",
       "      <td>49.2</td>\n",
       "    </tr>\n",
       "    <tr>\n",
       "      <th>부산</th>\n",
       "      <td>0.0</td>\n",
       "      <td>10.1</td>\n",
       "      <td>32.1</td>\n",
       "      <td>45.0</td>\n",
       "      <td>12.8</td>\n",
       "      <td>10.1</td>\n",
       "      <td>32.1</td>\n",
       "      <td>57.8</td>\n",
       "    </tr>\n",
       "    <tr>\n",
       "      <th>대구</th>\n",
       "      <td>0.0</td>\n",
       "      <td>10.3</td>\n",
       "      <td>30.8</td>\n",
       "      <td>34.6</td>\n",
       "      <td>24.4</td>\n",
       "      <td>10.3</td>\n",
       "      <td>30.8</td>\n",
       "      <td>59.0</td>\n",
       "    </tr>\n",
       "    <tr>\n",
       "      <th>인천</th>\n",
       "      <td>1.0</td>\n",
       "      <td>11.0</td>\n",
       "      <td>35.0</td>\n",
       "      <td>39.0</td>\n",
       "      <td>14.0</td>\n",
       "      <td>12.0</td>\n",
       "      <td>35.0</td>\n",
       "      <td>53.0</td>\n",
       "    </tr>\n",
       "    <tr>\n",
       "      <th>광주</th>\n",
       "      <td>2.1</td>\n",
       "      <td>8.3</td>\n",
       "      <td>27.1</td>\n",
       "      <td>41.7</td>\n",
       "      <td>20.8</td>\n",
       "      <td>10.4</td>\n",
       "      <td>27.1</td>\n",
       "      <td>62.5</td>\n",
       "    </tr>\n",
       "    <tr>\n",
       "      <th>대전</th>\n",
       "      <td>2.0</td>\n",
       "      <td>10.2</td>\n",
       "      <td>36.7</td>\n",
       "      <td>30.6</td>\n",
       "      <td>20.4</td>\n",
       "      <td>12.2</td>\n",
       "      <td>36.7</td>\n",
       "      <td>51.0</td>\n",
       "    </tr>\n",
       "    <tr>\n",
       "      <th>울산</th>\n",
       "      <td>0.0</td>\n",
       "      <td>5.3</td>\n",
       "      <td>42.1</td>\n",
       "      <td>42.1</td>\n",
       "      <td>10.5</td>\n",
       "      <td>5.3</td>\n",
       "      <td>42.1</td>\n",
       "      <td>52.6</td>\n",
       "    </tr>\n",
       "    <tr>\n",
       "      <th>세종</th>\n",
       "      <td>0.0</td>\n",
       "      <td>0.0</td>\n",
       "      <td>23.1</td>\n",
       "      <td>61.5</td>\n",
       "      <td>15.4</td>\n",
       "      <td>0.0</td>\n",
       "      <td>23.1</td>\n",
       "      <td>76.9</td>\n",
       "    </tr>\n",
       "    <tr>\n",
       "      <th>경기</th>\n",
       "      <td>1.1</td>\n",
       "      <td>7.9</td>\n",
       "      <td>33.1</td>\n",
       "      <td>42.3</td>\n",
       "      <td>15.6</td>\n",
       "      <td>9.0</td>\n",
       "      <td>33.1</td>\n",
       "      <td>57.9</td>\n",
       "    </tr>\n",
       "    <tr>\n",
       "      <th>강원</th>\n",
       "      <td>2.0</td>\n",
       "      <td>4.1</td>\n",
       "      <td>30.6</td>\n",
       "      <td>40.8</td>\n",
       "      <td>22.4</td>\n",
       "      <td>6.1</td>\n",
       "      <td>30.6</td>\n",
       "      <td>63.2</td>\n",
       "    </tr>\n",
       "    <tr>\n",
       "      <th>충북</th>\n",
       "      <td>1.9</td>\n",
       "      <td>17.3</td>\n",
       "      <td>32.7</td>\n",
       "      <td>36.5</td>\n",
       "      <td>11.5</td>\n",
       "      <td>19.2</td>\n",
       "      <td>32.7</td>\n",
       "      <td>48.0</td>\n",
       "    </tr>\n",
       "    <tr>\n",
       "      <th>충남</th>\n",
       "      <td>0.0</td>\n",
       "      <td>8.8</td>\n",
       "      <td>30.9</td>\n",
       "      <td>32.4</td>\n",
       "      <td>27.9</td>\n",
       "      <td>8.8</td>\n",
       "      <td>30.9</td>\n",
       "      <td>60.3</td>\n",
       "    </tr>\n",
       "    <tr>\n",
       "      <th>전북</th>\n",
       "      <td>3.6</td>\n",
       "      <td>14.3</td>\n",
       "      <td>41.1</td>\n",
       "      <td>33.9</td>\n",
       "      <td>7.1</td>\n",
       "      <td>17.9</td>\n",
       "      <td>41.1</td>\n",
       "      <td>41.0</td>\n",
       "    </tr>\n",
       "    <tr>\n",
       "      <th>전남</th>\n",
       "      <td>1.9</td>\n",
       "      <td>7.4</td>\n",
       "      <td>33.3</td>\n",
       "      <td>42.6</td>\n",
       "      <td>14.8</td>\n",
       "      <td>9.3</td>\n",
       "      <td>33.3</td>\n",
       "      <td>57.4</td>\n",
       "    </tr>\n",
       "    <tr>\n",
       "      <th>경북</th>\n",
       "      <td>1.2</td>\n",
       "      <td>6.1</td>\n",
       "      <td>32.9</td>\n",
       "      <td>35.4</td>\n",
       "      <td>24.4</td>\n",
       "      <td>7.3</td>\n",
       "      <td>32.9</td>\n",
       "      <td>59.8</td>\n",
       "    </tr>\n",
       "    <tr>\n",
       "      <th>경남</th>\n",
       "      <td>1.0</td>\n",
       "      <td>6.7</td>\n",
       "      <td>36.2</td>\n",
       "      <td>41.9</td>\n",
       "      <td>14.3</td>\n",
       "      <td>7.7</td>\n",
       "      <td>36.2</td>\n",
       "      <td>56.2</td>\n",
       "    </tr>\n",
       "    <tr>\n",
       "      <th>제주</th>\n",
       "      <td>0.0</td>\n",
       "      <td>0.0</td>\n",
       "      <td>22.7</td>\n",
       "      <td>63.6</td>\n",
       "      <td>13.6</td>\n",
       "      <td>0.0</td>\n",
       "      <td>22.7</td>\n",
       "      <td>77.2</td>\n",
       "    </tr>\n",
       "    <tr>\n",
       "      <th rowspan=\"13\" valign=\"top\">직업</th>\n",
       "      <th>산림임업종사자</th>\n",
       "      <td>0.0</td>\n",
       "      <td>0.0</td>\n",
       "      <td>50.0</td>\n",
       "      <td>50.0</td>\n",
       "      <td>0.0</td>\n",
       "      <td>0.0</td>\n",
       "      <td>50.0</td>\n",
       "      <td>50.0</td>\n",
       "    </tr>\n",
       "    <tr>\n",
       "      <th>사무종사자</th>\n",
       "      <td>0.6</td>\n",
       "      <td>10.0</td>\n",
       "      <td>30.5</td>\n",
       "      <td>40.2</td>\n",
       "      <td>18.7</td>\n",
       "      <td>10.6</td>\n",
       "      <td>30.5</td>\n",
       "      <td>58.9</td>\n",
       "    </tr>\n",
       "    <tr>\n",
       "      <th>서비스종사자</th>\n",
       "      <td>0.0</td>\n",
       "      <td>8.7</td>\n",
       "      <td>38.1</td>\n",
       "      <td>38.1</td>\n",
       "      <td>15.1</td>\n",
       "      <td>8.7</td>\n",
       "      <td>38.1</td>\n",
       "      <td>53.2</td>\n",
       "    </tr>\n",
       "    <tr>\n",
       "      <th>판매종사자</th>\n",
       "      <td>5.6</td>\n",
       "      <td>9.3</td>\n",
       "      <td>35.2</td>\n",
       "      <td>35.2</td>\n",
       "      <td>14.8</td>\n",
       "      <td>14.9</td>\n",
       "      <td>35.2</td>\n",
       "      <td>50.0</td>\n",
       "    </tr>\n",
       "    <tr>\n",
       "      <th>기술기능종사자</th>\n",
       "      <td>2.8</td>\n",
       "      <td>8.3</td>\n",
       "      <td>40.3</td>\n",
       "      <td>31.9</td>\n",
       "      <td>16.7</td>\n",
       "      <td>11.1</td>\n",
       "      <td>40.3</td>\n",
       "      <td>48.6</td>\n",
       "    </tr>\n",
       "    <tr>\n",
       "      <th>단순노무종사자</th>\n",
       "      <td>1.4</td>\n",
       "      <td>5.8</td>\n",
       "      <td>40.6</td>\n",
       "      <td>42.0</td>\n",
       "      <td>10.1</td>\n",
       "      <td>7.2</td>\n",
       "      <td>40.6</td>\n",
       "      <td>52.1</td>\n",
       "    </tr>\n",
       "    <tr>\n",
       "      <th>전문가(교수 포함)</th>\n",
       "      <td>1.9</td>\n",
       "      <td>11.3</td>\n",
       "      <td>32.1</td>\n",
       "      <td>35.8</td>\n",
       "      <td>18.9</td>\n",
       "      <td>13.2</td>\n",
       "      <td>32.1</td>\n",
       "      <td>54.7</td>\n",
       "    </tr>\n",
       "    <tr>\n",
       "      <th>경영직종사자</th>\n",
       "      <td>0.0</td>\n",
       "      <td>8.1</td>\n",
       "      <td>24.3</td>\n",
       "      <td>54.1</td>\n",
       "      <td>13.5</td>\n",
       "      <td>8.1</td>\n",
       "      <td>24.3</td>\n",
       "      <td>67.6</td>\n",
       "    </tr>\n",
       "    <tr>\n",
       "      <th>자영업자(개인사업자)</th>\n",
       "      <td>0.9</td>\n",
       "      <td>10.3</td>\n",
       "      <td>36.8</td>\n",
       "      <td>41.9</td>\n",
       "      <td>10.3</td>\n",
       "      <td>11.2</td>\n",
       "      <td>36.8</td>\n",
       "      <td>52.2</td>\n",
       "    </tr>\n",
       "    <tr>\n",
       "      <th>공무원(교사포함)</th>\n",
       "      <td>1.4</td>\n",
       "      <td>8.1</td>\n",
       "      <td>27.0</td>\n",
       "      <td>44.6</td>\n",
       "      <td>18.9</td>\n",
       "      <td>9.5</td>\n",
       "      <td>27.0</td>\n",
       "      <td>63.5</td>\n",
       "    </tr>\n",
       "    <tr>\n",
       "      <th>학생(대학원생포함)</th>\n",
       "      <td>1.6</td>\n",
       "      <td>6.2</td>\n",
       "      <td>34.4</td>\n",
       "      <td>37.5</td>\n",
       "      <td>20.3</td>\n",
       "      <td>7.8</td>\n",
       "      <td>34.4</td>\n",
       "      <td>57.8</td>\n",
       "    </tr>\n",
       "    <tr>\n",
       "      <th>전업주부</th>\n",
       "      <td>1.9</td>\n",
       "      <td>6.6</td>\n",
       "      <td>36.7</td>\n",
       "      <td>40.5</td>\n",
       "      <td>14.3</td>\n",
       "      <td>8.5</td>\n",
       "      <td>36.7</td>\n",
       "      <td>54.8</td>\n",
       "    </tr>\n",
       "    <tr>\n",
       "      <th>기타</th>\n",
       "      <td>3.0</td>\n",
       "      <td>9.8</td>\n",
       "      <td>35.3</td>\n",
       "      <td>38.3</td>\n",
       "      <td>13.5</td>\n",
       "      <td>12.8</td>\n",
       "      <td>35.3</td>\n",
       "      <td>51.8</td>\n",
       "    </tr>\n",
       "  </tbody>\n",
       "</table>\n",
       "</div>"
      ],
      "text/plain": [
       "                       1.매우 가치가 낮다  2.다소 가치가 낮다  3.보통이다  4.다소 가치가 높다  \\\n",
       "성별   남성                        1.3          8.9    33.8         39.0   \n",
       "     여성                        1.7          8.4    34.9         40.0   \n",
       "연령   10대(15세이상)                1.8          3.5    36.8         35.1   \n",
       "     20대                       1.9          9.7    36.8         37.7   \n",
       "     30대                       1.4         13.4    38.4         29.6   \n",
       "     40대                       1.4          9.2    33.2         40.4   \n",
       "     50대                       1.4          6.2    31.9         45.7   \n",
       "     60대이상                     1.2          6.5    31.7         42.5   \n",
       "학력   초등학교 졸업(무학 포함)            0.0          0.0    16.7         33.3   \n",
       "     중학교 재학                    0.0          0.0    28.6         28.6   \n",
       "     중학교 졸업                    0.0          3.8    50.0         38.5   \n",
       "     고등학교 재학                   3.4          6.9    34.5         34.5   \n",
       "     고등학교 졸업                   2.9          9.3    44.5         32.3   \n",
       "     대학교 재학                    1.2          6.0    38.1         38.1   \n",
       "     대학교 졸업                    1.1          9.1    31.6         41.2   \n",
       "     대학원 재학(석사 또는 박사)          0.0         14.3     9.5         57.1   \n",
       "     대학원 졸업(석사또는 박사)           0.9          6.0    25.0         47.4   \n",
       "거주지역 서울                        3.1          9.0    38.6         35.5   \n",
       "     부산                        0.0         10.1    32.1         45.0   \n",
       "     대구                        0.0         10.3    30.8         34.6   \n",
       "     인천                        1.0         11.0    35.0         39.0   \n",
       "     광주                        2.1          8.3    27.1         41.7   \n",
       "     대전                        2.0         10.2    36.7         30.6   \n",
       "     울산                        0.0          5.3    42.1         42.1   \n",
       "     세종                        0.0          0.0    23.1         61.5   \n",
       "     경기                        1.1          7.9    33.1         42.3   \n",
       "     강원                        2.0          4.1    30.6         40.8   \n",
       "     충북                        1.9         17.3    32.7         36.5   \n",
       "     충남                        0.0          8.8    30.9         32.4   \n",
       "     전북                        3.6         14.3    41.1         33.9   \n",
       "     전남                        1.9          7.4    33.3         42.6   \n",
       "     경북                        1.2          6.1    32.9         35.4   \n",
       "     경남                        1.0          6.7    36.2         41.9   \n",
       "     제주                        0.0          0.0    22.7         63.6   \n",
       "직업   산림임업종사자                   0.0          0.0    50.0         50.0   \n",
       "     사무종사자                     0.6         10.0    30.5         40.2   \n",
       "     서비스종사자                    0.0          8.7    38.1         38.1   \n",
       "     판매종사자                     5.6          9.3    35.2         35.2   \n",
       "     기술기능종사자                   2.8          8.3    40.3         31.9   \n",
       "     단순노무종사자                   1.4          5.8    40.6         42.0   \n",
       "     전문가(교수 포함)                1.9         11.3    32.1         35.8   \n",
       "     경영직종사자                    0.0          8.1    24.3         54.1   \n",
       "     자영업자(개인사업자)               0.9         10.3    36.8         41.9   \n",
       "     공무원(교사포함)                 1.4          8.1    27.0         44.6   \n",
       "     학생(대학원생포함)                1.6          6.2    34.4         37.5   \n",
       "     전업주부                      1.9          6.6    36.7         40.5   \n",
       "     기타                        3.0          9.8    35.3         38.3   \n",
       "\n",
       "                       5.매우 가치가 높다  부정(1+2)  보통(3)  긍정(4+5)  \n",
       "성별   남성                       17.1     10.2   33.8     56.1  \n",
       "     여성                       15.1     10.1   34.9     55.1  \n",
       "연령   10대(15세이상)               22.8      5.3   36.8     57.9  \n",
       "     20대                      13.8     11.6   36.8     51.5  \n",
       "     30대                      17.3     14.8   38.4     46.9  \n",
       "     40대                      15.8     10.6   33.2     56.2  \n",
       "     50대                      14.9      7.6   31.9     60.6  \n",
       "     60대이상                    18.0      7.7   31.7     60.5  \n",
       "학력   초등학교 졸업(무학 포함)           50.0      0.0   16.7     83.3  \n",
       "     중학교 재학                   42.9      0.0   28.6     71.5  \n",
       "     중학교 졸업                    7.7      3.8   50.0     46.2  \n",
       "     고등학교 재학                  20.7     10.3   34.5     55.2  \n",
       "     고등학교 졸업                  10.9     12.2   44.5     43.2  \n",
       "     대학교 재학                   16.7      7.2   38.1     54.8  \n",
       "     대학교 졸업                   17.1     10.2   31.6     58.3  \n",
       "     대학원 재학(석사 또는 박사)         19.0     14.3    9.5     76.1  \n",
       "     대학원 졸업(석사또는 박사)          20.7      6.9   25.0     68.1  \n",
       "거주지역 서울                       13.7     12.1   38.6     49.2  \n",
       "     부산                       12.8     10.1   32.1     57.8  \n",
       "     대구                       24.4     10.3   30.8     59.0  \n",
       "     인천                       14.0     12.0   35.0     53.0  \n",
       "     광주                       20.8     10.4   27.1     62.5  \n",
       "     대전                       20.4     12.2   36.7     51.0  \n",
       "     울산                       10.5      5.3   42.1     52.6  \n",
       "     세종                       15.4      0.0   23.1     76.9  \n",
       "     경기                       15.6      9.0   33.1     57.9  \n",
       "     강원                       22.4      6.1   30.6     63.2  \n",
       "     충북                       11.5     19.2   32.7     48.0  \n",
       "     충남                       27.9      8.8   30.9     60.3  \n",
       "     전북                        7.1     17.9   41.1     41.0  \n",
       "     전남                       14.8      9.3   33.3     57.4  \n",
       "     경북                       24.4      7.3   32.9     59.8  \n",
       "     경남                       14.3      7.7   36.2     56.2  \n",
       "     제주                       13.6      0.0   22.7     77.2  \n",
       "직업   산림임업종사자                   0.0      0.0   50.0     50.0  \n",
       "     사무종사자                    18.7     10.6   30.5     58.9  \n",
       "     서비스종사자                   15.1      8.7   38.1     53.2  \n",
       "     판매종사자                    14.8     14.9   35.2     50.0  \n",
       "     기술기능종사자                  16.7     11.1   40.3     48.6  \n",
       "     단순노무종사자                  10.1      7.2   40.6     52.1  \n",
       "     전문가(교수 포함)               18.9     13.2   32.1     54.7  \n",
       "     경영직종사자                   13.5      8.1   24.3     67.6  \n",
       "     자영업자(개인사업자)              10.3     11.2   36.8     52.2  \n",
       "     공무원(교사포함)                18.9      9.5   27.0     63.5  \n",
       "     학생(대학원생포함)               20.3      7.8   34.4     57.8  \n",
       "     전업주부                     14.3      8.5   36.7     54.8  \n",
       "     기타                       13.5     12.8   35.3     51.8  "
      ]
     },
     "execution_count": 180,
     "metadata": {},
     "output_type": "execute_result"
    }
   ],
   "source": [
    "# 응답자 특성별 표 정리\n",
    "q4_map = {'1':'1.매우 가치가 낮다', '2':'2.다소 가치가 낮다', '3':'3.보통이다', '4':'4.다소 가치가 높다', '5':'5.매우 가치가 높다'}\n",
    "q4 = ['1.매우 가치가 낮다', '2.다소 가치가 낮다', '3.보통이다', '4.다소 가치가 높다', '5.매우 가치가 높다', '부정(1+2)', '보통(3)', '긍정(4+5)']\n",
    "resp_map_df = pd.DataFrame(columns = q4)\n",
    "\n",
    "# 응답자 설문 리스트 정의\n",
    "sq_lst = list(Resp_Character.keys())\n",
    "# 응답자 매핑 딕셔너리 정의\n",
    "sq_dic = {'성별': 'SQ1', '연령': 'SQ2_1', '학력': 'SQ3', '거주지역': 'SQ4', '직업': 'SQ5'}\n",
    "\n",
    "# 멀티인덱스를 위한 리스트 생성\n",
    "mult_idx = []\n",
    "\n",
    "for sq in sq_lst:\n",
    "    for val in list(Resp_Character[sq].values()):\n",
    "        # 멀티인덱스 추가\n",
    "        mult_idx.append(sq)\n",
    "        # 'SQ1' 열의 값으로 필터링 및 평균계산\n",
    "        filtered_rows = df_common_4[df_common_4[sq_dic[sq]] == val].reset_index(drop=True)\n",
    "        frequency_rate_df = filtered_rows['Q4_1'].value_counts().reset_index()\n",
    "        frequency_rate_df.columns = ['값', '빈도']\n",
    "        frequency_rate_df['값'] = map_val(frequency_rate_df['값'], q4_map)\n",
    "        frequency_rate_df['비율'] = round((frequency_rate_df['빈도'] / frequency_rate_df['빈도'].sum())*100,1)\n",
    "        frequency_rate_df = frequency_rate_df.set_index(keys='값')\n",
    "        \n",
    "        resp_map = {}\n",
    "        for i in resp_map_df.columns:\n",
    "            resp_map[i] = [0.0]\n",
    "        for i in resp_map_df.columns[:5]:\n",
    "            try:\n",
    "                resp_map[i][0] = frequency_rate_df.loc[i, '비율']\n",
    "            except:\n",
    "                pass\n",
    "        for i in resp_map_df.columns[5:]:\n",
    "            try:\n",
    "                f,s = i.split('+')\n",
    "                resp_map[i][0] = resp_map[q4_map[f[-1]]][0] + resp_map[q4_map[s[0]]][0]\n",
    "            except:\n",
    "                f = i.split('(')[1][0]\n",
    "                resp_map[i][0] = resp_map[q4_map[f]][0]\n",
    "        else:\n",
    "            resp_map = pd.DataFrame(resp_map)\n",
    "            resp_map.index = [val]\n",
    "            resp_map_df = pd.concat([resp_map_df,resp_map])\n",
    "# 멀티인덱스 생성\n",
    "resp_map_df.set_index([mult_idx, resp_map_df.index], inplace=True)\n",
    "resp_map_df"
   ]
  },
  {
   "attachments": {},
   "cell_type": "markdown",
   "metadata": {},
   "source": [
    "## Q5 '산림문화 활동'에 참여하고 싶은 정도"
   ]
  },
  {
   "cell_type": "code",
   "execution_count": 8,
   "metadata": {},
   "outputs": [
    {
     "data": {
      "text/plain": [
       "Index(['Q5_1', 'Q5_2', 'Q5_3', 'Q5_4', 'Q5_5', 'Q5_6', 'Q5_7', 'Q5_8', 'Q5_9',\n",
       "       'Q5_10', 'Q5_11', 'Q5_12', 'Q5_13', 'Q5_14', 'Q5_15', 'Q5_16', 'Q5_17',\n",
       "       'Q5_18', 'Q5_19'],\n",
       "      dtype='object')"
      ]
     },
     "execution_count": 8,
     "metadata": {},
     "output_type": "execute_result"
    }
   ],
   "source": [
    "df_common.columns[24:43]"
   ]
  },
  {
   "cell_type": "code",
   "execution_count": 37,
   "metadata": {},
   "outputs": [],
   "source": [
    "a = [i.split(' ▶ ')[1].split('(')[0] for i in pd.read_excel('dataset/전국민 산림문화 인식 및 태도 향유실태 조사_산림엑스포_230922.xlsx', sheet_name=\"변수가이드\")['문항'].tolist()[154:266:6]]"
   ]
  },
  {
   "cell_type": "code",
   "execution_count": 38,
   "metadata": {},
   "outputs": [
    {
     "data": {
      "text/plain": [
       "{'Q5_1': '숲속 박물관·전시회 관람',\n",
       " 'Q5_2': '숲속 공연·음악연주회 관람',\n",
       " 'Q5_3': '숲속 문학행사 참여',\n",
       " 'Q5_4': '숲속 예술·활동 참여',\n",
       " 'Q5_5': '숲 기반 생활공예·취미활동 참여',\n",
       " 'Q5_6': '숲가꾸기 체험',\n",
       " 'Q5_7': '임산물 수확 체험',\n",
       " 'Q5_8': '동식물 관찰 및 학습',\n",
       " 'Q5_9': '산림레포츠 참여',\n",
       " 'Q5_10': '계곡레포츠 참여',\n",
       " 'Q5_11': '건강증진 활동 참여',\n",
       " 'Q5_12': '숲 탐방',\n",
       " 'Q5_13': '산림문화자산·자연명승지 탐방',\n",
       " 'Q5_14': '자연경관 감상',\n",
       " 'Q5_15': '숲속 생활 체험',\n",
       " 'Q5_16': '산림',\n",
       " 'Q5_17': '산림',\n",
       " 'Q5_18': '산림분야 자기계발 및 학습',\n",
       " 'Q5_19': '산림 관련 사회봉사활동'}"
      ]
     },
     "execution_count": 38,
     "metadata": {},
     "output_type": "execute_result"
    }
   ],
   "source": [
    "dic = {}\n",
    "for k,v in zip(df_common.columns[24:43],a):\n",
    "    dic[k] = v\n",
    "dic"
   ]
  },
  {
   "cell_type": "code",
   "execution_count": 39,
   "metadata": {},
   "outputs": [],
   "source": [
    "# 응답자 특성과 4번 설문에 대한 항목만 필터링\n",
    "df_expo_5 = df_expo[list(df_expo.columns[:7]) + list(df_expo.columns[24:43])]\n",
    "df_common_5 = df_common[list(df_common.columns[:7]) + list(df_common.columns[24:43])]\n",
    "\n",
    "q5_map_dic = {'Q5_1': '숲속 박물관·전시회 관람',\n",
    "            'Q5_2': '숲속 공연·음악연주회 관람',\n",
    "            'Q5_3': '숲속 문학행사 참여',\n",
    "            'Q5_4': '숲속 예술·활동 참여',\n",
    "            'Q5_5': '숲 기반 생활공예·취미활동 참여',\n",
    "            'Q5_6': '숲가꾸기 체험',\n",
    "            'Q5_7': '임산물 수확 체험',\n",
    "            'Q5_8': '동식물 관찰 및 학습',\n",
    "            'Q5_9': '산림레포츠 참여',\n",
    "            'Q5_10': '계곡레포츠 참여',\n",
    "            'Q5_11': '건강증진 활동 참여',\n",
    "            'Q5_12': '숲 탐방',\n",
    "            'Q5_13': '산림문화자산·자연명승지 탐방',\n",
    "            'Q5_14': '자연경관 감상',\n",
    "            'Q5_15': '숲속 생활 체험',\n",
    "            'Q5_16': '산림주제 게임활동',\n",
    "            'Q5_17': '산림주제 독서활동',\n",
    "            'Q5_18': '산림분야 자기계발 및 학습',\n",
    "            'Q5_19': '산림 관련 사회봉사활동'}"
   ]
  },
  {
   "cell_type": "code",
   "execution_count": 40,
   "metadata": {},
   "outputs": [
    {
     "name": "stderr",
     "output_type": "stream",
     "text": [
      "C:\\Users\\user\\AppData\\Local\\Temp\\ipykernel_8832\\2383506667.py:35: FutureWarning:\n",
      "\n",
      "The frame.append method is deprecated and will be removed from pandas in a future version. Use pandas.concat instead.\n",
      "\n",
      "C:\\Users\\user\\AppData\\Local\\Temp\\ipykernel_8832\\2383506667.py:35: FutureWarning:\n",
      "\n",
      "The frame.append method is deprecated and will be removed from pandas in a future version. Use pandas.concat instead.\n",
      "\n"
     ]
    },
    {
     "data": {
      "text/html": [
       "<div>\n",
       "<style scoped>\n",
       "    .dataframe tbody tr th:only-of-type {\n",
       "        vertical-align: middle;\n",
       "    }\n",
       "\n",
       "    .dataframe tbody tr th {\n",
       "        vertical-align: top;\n",
       "    }\n",
       "\n",
       "    .dataframe thead th {\n",
       "        text-align: right;\n",
       "    }\n",
       "</style>\n",
       "<table border=\"1\" class=\"dataframe\">\n",
       "  <thead>\n",
       "    <tr style=\"text-align: right;\">\n",
       "      <th></th>\n",
       "      <th>설문</th>\n",
       "      <th>평균</th>\n",
       "      <th>5_빈도</th>\n",
       "      <th>4_빈도</th>\n",
       "      <th>3_빈도</th>\n",
       "      <th>2_빈도</th>\n",
       "      <th>1_빈도</th>\n",
       "      <th>5_비율</th>\n",
       "      <th>4_비율</th>\n",
       "      <th>3_비율</th>\n",
       "      <th>2_비율</th>\n",
       "      <th>1_비율</th>\n",
       "    </tr>\n",
       "  </thead>\n",
       "  <tbody>\n",
       "    <tr>\n",
       "      <th>0</th>\n",
       "      <td>숲속 박물관·전시회 관람</td>\n",
       "      <td>4.07</td>\n",
       "      <td>42.0</td>\n",
       "      <td>37.0</td>\n",
       "      <td>19.0</td>\n",
       "      <td>5.0</td>\n",
       "      <td>2.0</td>\n",
       "      <td>40.0</td>\n",
       "      <td>35.2</td>\n",
       "      <td>18.1</td>\n",
       "      <td>4.8</td>\n",
       "      <td>1.9</td>\n",
       "    </tr>\n",
       "    <tr>\n",
       "      <th>1</th>\n",
       "      <td>숲속 공연·음악연주회 관람</td>\n",
       "      <td>3.70</td>\n",
       "      <td>39.0</td>\n",
       "      <td>29.0</td>\n",
       "      <td>17.0</td>\n",
       "      <td>17.0</td>\n",
       "      <td>3.0</td>\n",
       "      <td>37.1</td>\n",
       "      <td>27.6</td>\n",
       "      <td>16.2</td>\n",
       "      <td>16.2</td>\n",
       "      <td>2.9</td>\n",
       "    </tr>\n",
       "    <tr>\n",
       "      <th>2</th>\n",
       "      <td>숲속 문학행사 참여</td>\n",
       "      <td>3.53</td>\n",
       "      <td>33.0</td>\n",
       "      <td>27.0</td>\n",
       "      <td>24.0</td>\n",
       "      <td>17.0</td>\n",
       "      <td>4.0</td>\n",
       "      <td>31.4</td>\n",
       "      <td>25.7</td>\n",
       "      <td>22.9</td>\n",
       "      <td>16.2</td>\n",
       "      <td>3.8</td>\n",
       "    </tr>\n",
       "    <tr>\n",
       "      <th>3</th>\n",
       "      <td>숲속 예술·활동 참여</td>\n",
       "      <td>3.80</td>\n",
       "      <td>36.0</td>\n",
       "      <td>29.0</td>\n",
       "      <td>27.0</td>\n",
       "      <td>11.0</td>\n",
       "      <td>2.0</td>\n",
       "      <td>34.3</td>\n",
       "      <td>27.6</td>\n",
       "      <td>25.7</td>\n",
       "      <td>10.5</td>\n",
       "      <td>1.9</td>\n",
       "    </tr>\n",
       "    <tr>\n",
       "      <th>4</th>\n",
       "      <td>숲 기반 생활공예·취미활동 참여</td>\n",
       "      <td>4.10</td>\n",
       "      <td>45.0</td>\n",
       "      <td>32.0</td>\n",
       "      <td>21.0</td>\n",
       "      <td>7.0</td>\n",
       "      <td>0.0</td>\n",
       "      <td>42.9</td>\n",
       "      <td>30.5</td>\n",
       "      <td>20.0</td>\n",
       "      <td>6.7</td>\n",
       "      <td>0.0</td>\n",
       "    </tr>\n",
       "    <tr>\n",
       "      <th>5</th>\n",
       "      <td>숲가꾸기 체험</td>\n",
       "      <td>3.99</td>\n",
       "      <td>41.0</td>\n",
       "      <td>31.0</td>\n",
       "      <td>25.0</td>\n",
       "      <td>7.0</td>\n",
       "      <td>1.0</td>\n",
       "      <td>39.0</td>\n",
       "      <td>29.5</td>\n",
       "      <td>23.8</td>\n",
       "      <td>6.7</td>\n",
       "      <td>1.0</td>\n",
       "    </tr>\n",
       "    <tr>\n",
       "      <th>6</th>\n",
       "      <td>임산물 수확 체험</td>\n",
       "      <td>3.91</td>\n",
       "      <td>43.0</td>\n",
       "      <td>30.0</td>\n",
       "      <td>16.0</td>\n",
       "      <td>12.0</td>\n",
       "      <td>4.0</td>\n",
       "      <td>41.0</td>\n",
       "      <td>28.6</td>\n",
       "      <td>15.2</td>\n",
       "      <td>11.4</td>\n",
       "      <td>3.8</td>\n",
       "    </tr>\n",
       "    <tr>\n",
       "      <th>7</th>\n",
       "      <td>동식물 관찰 및 학습</td>\n",
       "      <td>3.82</td>\n",
       "      <td>33.0</td>\n",
       "      <td>32.0</td>\n",
       "      <td>30.0</td>\n",
       "      <td>8.0</td>\n",
       "      <td>2.0</td>\n",
       "      <td>31.4</td>\n",
       "      <td>30.5</td>\n",
       "      <td>28.6</td>\n",
       "      <td>7.6</td>\n",
       "      <td>1.9</td>\n",
       "    </tr>\n",
       "    <tr>\n",
       "      <th>8</th>\n",
       "      <td>산림레포츠 참여</td>\n",
       "      <td>3.62</td>\n",
       "      <td>32.0</td>\n",
       "      <td>28.0</td>\n",
       "      <td>23.0</td>\n",
       "      <td>17.0</td>\n",
       "      <td>5.0</td>\n",
       "      <td>30.5</td>\n",
       "      <td>26.7</td>\n",
       "      <td>21.9</td>\n",
       "      <td>16.2</td>\n",
       "      <td>4.8</td>\n",
       "    </tr>\n",
       "    <tr>\n",
       "      <th>9</th>\n",
       "      <td>계곡레포츠 참여</td>\n",
       "      <td>3.69</td>\n",
       "      <td>34.0</td>\n",
       "      <td>30.0</td>\n",
       "      <td>20.0</td>\n",
       "      <td>16.0</td>\n",
       "      <td>5.0</td>\n",
       "      <td>32.4</td>\n",
       "      <td>28.6</td>\n",
       "      <td>19.0</td>\n",
       "      <td>15.2</td>\n",
       "      <td>4.8</td>\n",
       "    </tr>\n",
       "    <tr>\n",
       "      <th>10</th>\n",
       "      <td>건강증진 활동 참여</td>\n",
       "      <td>3.99</td>\n",
       "      <td>47.0</td>\n",
       "      <td>28.0</td>\n",
       "      <td>17.0</td>\n",
       "      <td>8.0</td>\n",
       "      <td>5.0</td>\n",
       "      <td>44.8</td>\n",
       "      <td>26.7</td>\n",
       "      <td>16.2</td>\n",
       "      <td>7.6</td>\n",
       "      <td>4.8</td>\n",
       "    </tr>\n",
       "    <tr>\n",
       "      <th>11</th>\n",
       "      <td>숲 탐방</td>\n",
       "      <td>4.01</td>\n",
       "      <td>42.0</td>\n",
       "      <td>32.0</td>\n",
       "      <td>22.0</td>\n",
       "      <td>8.0</td>\n",
       "      <td>1.0</td>\n",
       "      <td>40.0</td>\n",
       "      <td>30.5</td>\n",
       "      <td>21.0</td>\n",
       "      <td>7.6</td>\n",
       "      <td>1.0</td>\n",
       "    </tr>\n",
       "    <tr>\n",
       "      <th>12</th>\n",
       "      <td>산림문화자산·자연명승지 탐방</td>\n",
       "      <td>3.92</td>\n",
       "      <td>38.0</td>\n",
       "      <td>35.0</td>\n",
       "      <td>23.0</td>\n",
       "      <td>7.0</td>\n",
       "      <td>2.0</td>\n",
       "      <td>36.2</td>\n",
       "      <td>33.3</td>\n",
       "      <td>21.9</td>\n",
       "      <td>6.7</td>\n",
       "      <td>1.9</td>\n",
       "    </tr>\n",
       "    <tr>\n",
       "      <th>13</th>\n",
       "      <td>자연경관 감상</td>\n",
       "      <td>4.30</td>\n",
       "      <td>53.0</td>\n",
       "      <td>34.0</td>\n",
       "      <td>14.0</td>\n",
       "      <td>4.0</td>\n",
       "      <td>0.0</td>\n",
       "      <td>50.5</td>\n",
       "      <td>32.4</td>\n",
       "      <td>13.3</td>\n",
       "      <td>3.8</td>\n",
       "      <td>0.0</td>\n",
       "    </tr>\n",
       "    <tr>\n",
       "      <th>14</th>\n",
       "      <td>숲속 생활 체험</td>\n",
       "      <td>4.16</td>\n",
       "      <td>52.0</td>\n",
       "      <td>28.0</td>\n",
       "      <td>19.0</td>\n",
       "      <td>4.0</td>\n",
       "      <td>2.0</td>\n",
       "      <td>49.5</td>\n",
       "      <td>26.7</td>\n",
       "      <td>18.1</td>\n",
       "      <td>3.8</td>\n",
       "      <td>1.9</td>\n",
       "    </tr>\n",
       "    <tr>\n",
       "      <th>15</th>\n",
       "      <td>산림주제 게임활동</td>\n",
       "      <td>3.74</td>\n",
       "      <td>38.0</td>\n",
       "      <td>25.0</td>\n",
       "      <td>24.0</td>\n",
       "      <td>13.0</td>\n",
       "      <td>5.0</td>\n",
       "      <td>36.2</td>\n",
       "      <td>23.8</td>\n",
       "      <td>22.9</td>\n",
       "      <td>12.4</td>\n",
       "      <td>4.8</td>\n",
       "    </tr>\n",
       "    <tr>\n",
       "      <th>16</th>\n",
       "      <td>산림주제 독서활동</td>\n",
       "      <td>3.42</td>\n",
       "      <td>31.0</td>\n",
       "      <td>29.0</td>\n",
       "      <td>20.0</td>\n",
       "      <td>16.0</td>\n",
       "      <td>9.0</td>\n",
       "      <td>29.5</td>\n",
       "      <td>27.6</td>\n",
       "      <td>19.0</td>\n",
       "      <td>15.2</td>\n",
       "      <td>8.6</td>\n",
       "    </tr>\n",
       "    <tr>\n",
       "      <th>17</th>\n",
       "      <td>산림분야 자기계발 및 학습</td>\n",
       "      <td>3.59</td>\n",
       "      <td>37.0</td>\n",
       "      <td>32.0</td>\n",
       "      <td>22.0</td>\n",
       "      <td>10.0</td>\n",
       "      <td>4.0</td>\n",
       "      <td>35.2</td>\n",
       "      <td>30.5</td>\n",
       "      <td>21.0</td>\n",
       "      <td>9.5</td>\n",
       "      <td>3.8</td>\n",
       "    </tr>\n",
       "    <tr>\n",
       "      <th>18</th>\n",
       "      <td>산림 관련 사회봉사활동</td>\n",
       "      <td>3.60</td>\n",
       "      <td>31.0</td>\n",
       "      <td>30.0</td>\n",
       "      <td>25.0</td>\n",
       "      <td>10.0</td>\n",
       "      <td>9.0</td>\n",
       "      <td>29.5</td>\n",
       "      <td>28.6</td>\n",
       "      <td>23.8</td>\n",
       "      <td>9.5</td>\n",
       "      <td>8.6</td>\n",
       "    </tr>\n",
       "  </tbody>\n",
       "</table>\n",
       "</div>"
      ],
      "text/plain": [
       "                   설문    평균  5_빈도  4_빈도  3_빈도  2_빈도  1_빈도  5_비율  4_비율  3_비율  \\\n",
       "0       숲속 박물관·전시회 관람  4.07  42.0  37.0  19.0   5.0   2.0  40.0  35.2  18.1   \n",
       "1      숲속 공연·음악연주회 관람  3.70  39.0  29.0  17.0  17.0   3.0  37.1  27.6  16.2   \n",
       "2          숲속 문학행사 참여  3.53  33.0  27.0  24.0  17.0   4.0  31.4  25.7  22.9   \n",
       "3         숲속 예술·활동 참여  3.80  36.0  29.0  27.0  11.0   2.0  34.3  27.6  25.7   \n",
       "4   숲 기반 생활공예·취미활동 참여  4.10  45.0  32.0  21.0   7.0   0.0  42.9  30.5  20.0   \n",
       "5             숲가꾸기 체험  3.99  41.0  31.0  25.0   7.0   1.0  39.0  29.5  23.8   \n",
       "6           임산물 수확 체험  3.91  43.0  30.0  16.0  12.0   4.0  41.0  28.6  15.2   \n",
       "7         동식물 관찰 및 학습  3.82  33.0  32.0  30.0   8.0   2.0  31.4  30.5  28.6   \n",
       "8            산림레포츠 참여  3.62  32.0  28.0  23.0  17.0   5.0  30.5  26.7  21.9   \n",
       "9            계곡레포츠 참여  3.69  34.0  30.0  20.0  16.0   5.0  32.4  28.6  19.0   \n",
       "10         건강증진 활동 참여  3.99  47.0  28.0  17.0   8.0   5.0  44.8  26.7  16.2   \n",
       "11               숲 탐방  4.01  42.0  32.0  22.0   8.0   1.0  40.0  30.5  21.0   \n",
       "12    산림문화자산·자연명승지 탐방  3.92  38.0  35.0  23.0   7.0   2.0  36.2  33.3  21.9   \n",
       "13            자연경관 감상  4.30  53.0  34.0  14.0   4.0   0.0  50.5  32.4  13.3   \n",
       "14           숲속 생활 체험  4.16  52.0  28.0  19.0   4.0   2.0  49.5  26.7  18.1   \n",
       "15          산림주제 게임활동  3.74  38.0  25.0  24.0  13.0   5.0  36.2  23.8  22.9   \n",
       "16          산림주제 독서활동  3.42  31.0  29.0  20.0  16.0   9.0  29.5  27.6  19.0   \n",
       "17     산림분야 자기계발 및 학습  3.59  37.0  32.0  22.0  10.0   4.0  35.2  30.5  21.0   \n",
       "18       산림 관련 사회봉사활동  3.60  31.0  30.0  25.0  10.0   9.0  29.5  28.6  23.8   \n",
       "\n",
       "    2_비율  1_비율  \n",
       "0    4.8   1.9  \n",
       "1   16.2   2.9  \n",
       "2   16.2   3.8  \n",
       "3   10.5   1.9  \n",
       "4    6.7   0.0  \n",
       "5    6.7   1.0  \n",
       "6   11.4   3.8  \n",
       "7    7.6   1.9  \n",
       "8   16.2   4.8  \n",
       "9   15.2   4.8  \n",
       "10   7.6   4.8  \n",
       "11   7.6   1.0  \n",
       "12   6.7   1.9  \n",
       "13   3.8   0.0  \n",
       "14   3.8   1.9  \n",
       "15  12.4   4.8  \n",
       "16  15.2   8.6  \n",
       "17   9.5   3.8  \n",
       "18   9.5   8.6  "
      ]
     },
     "execution_count": 40,
     "metadata": {},
     "output_type": "execute_result"
    }
   ],
   "source": [
    "# 가중평균 계산 및 리스트 형태로 저장\n",
    "expo_5_dic = {'설문':[],\n",
    "              '평균':[],\n",
    "              '5_빈도':[],\n",
    "              '4_빈도':[],\n",
    "              '3_빈도':[],\n",
    "              '2_빈도':[],\n",
    "              '1_빈도':[],\n",
    "              '5_비율':[],\n",
    "              '4_비율':[],\n",
    "              '3_비율':[],\n",
    "              '2_비율':[],\n",
    "              '1_비율':[],\n",
    "            }\n",
    "\n",
    "for question in df_expo_5.columns[7:]:\n",
    "    score_counts = df_expo_5[question].value_counts()#.reset_index()\n",
    "    weighted_sum = (score_counts.index * score_counts).sum()\n",
    "    total_count = score_counts.sum()\n",
    "    weighted_mean = round(weighted_sum / total_count, 2)\n",
    "    expo_5_dic['설문'].append(question)\n",
    "    expo_5_dic['평균'].append(weighted_mean)\n",
    "\n",
    "    score_counts = score_counts.reset_index()\n",
    "    score_counts.columns = ['점수', '빈도']\n",
    "    score_counts['비율'] = round((score_counts['빈도'] / score_counts['빈도'].sum()) * 100, 1)\n",
    "    \n",
    "    # 존재하는 점수들, 1개도 안나온 값들이 있음\n",
    "    existing_scores = [1, 2, 3, 4, 5]\n",
    "    # 누락된 점수들 찾기\n",
    "    missing_scores = [score for score in existing_scores if score not in score_counts['점수'].tolist()]\n",
    "    # 누락된 점수들을 데이터프레임에 추가\n",
    "    for missing_score in missing_scores:\n",
    "        new_row = {'점수': missing_score, '빈도': 0, '비율': 0.0}\n",
    "        score_counts = score_counts.append(new_row, ignore_index=True)\n",
    "    for num, freq, rate in zip(range(5,0,-1),score_counts['빈도'].tolist(),score_counts['비율'].tolist()):\n",
    "        expo_5_dic[str(num) + '_빈도'].append(freq)\n",
    "        expo_5_dic[str(num) + '_비율'].append(rate)\n",
    "expo_5_df = pd.DataFrame(expo_5_dic)\n",
    "expo_5_df['설문'] = expo_5_df['설문'].replace(q5_map_dic)\n",
    "expo_5_df"
   ]
  },
  {
   "cell_type": "code",
   "execution_count": 41,
   "metadata": {},
   "outputs": [
    {
     "data": {
      "text/html": [
       "<div>\n",
       "<style scoped>\n",
       "    .dataframe tbody tr th:only-of-type {\n",
       "        vertical-align: middle;\n",
       "    }\n",
       "\n",
       "    .dataframe tbody tr th {\n",
       "        vertical-align: top;\n",
       "    }\n",
       "\n",
       "    .dataframe thead th {\n",
       "        text-align: right;\n",
       "    }\n",
       "</style>\n",
       "<table border=\"1\" class=\"dataframe\">\n",
       "  <thead>\n",
       "    <tr style=\"text-align: right;\">\n",
       "      <th></th>\n",
       "      <th>설문</th>\n",
       "      <th>평균</th>\n",
       "      <th>5_빈도</th>\n",
       "      <th>4_빈도</th>\n",
       "      <th>3_빈도</th>\n",
       "      <th>2_빈도</th>\n",
       "      <th>1_빈도</th>\n",
       "      <th>5_비율</th>\n",
       "      <th>4_비율</th>\n",
       "      <th>3_비율</th>\n",
       "      <th>2_비율</th>\n",
       "      <th>1_비율</th>\n",
       "    </tr>\n",
       "  </thead>\n",
       "  <tbody>\n",
       "    <tr>\n",
       "      <th>0</th>\n",
       "      <td>숲속 박물관·전시회 관람</td>\n",
       "      <td>3.68</td>\n",
       "      <td>490</td>\n",
       "      <td>326</td>\n",
       "      <td>215</td>\n",
       "      <td>68</td>\n",
       "      <td>39</td>\n",
       "      <td>43.1</td>\n",
       "      <td>28.6</td>\n",
       "      <td>18.9</td>\n",
       "      <td>6.0</td>\n",
       "      <td>3.4</td>\n",
       "    </tr>\n",
       "    <tr>\n",
       "      <th>1</th>\n",
       "      <td>숲속 공연·음악연주회 관람</td>\n",
       "      <td>3.80</td>\n",
       "      <td>436</td>\n",
       "      <td>310</td>\n",
       "      <td>297</td>\n",
       "      <td>70</td>\n",
       "      <td>25</td>\n",
       "      <td>38.3</td>\n",
       "      <td>27.2</td>\n",
       "      <td>26.1</td>\n",
       "      <td>6.2</td>\n",
       "      <td>2.2</td>\n",
       "    </tr>\n",
       "    <tr>\n",
       "      <th>2</th>\n",
       "      <td>숲속 문학행사 참여</td>\n",
       "      <td>3.23</td>\n",
       "      <td>439</td>\n",
       "      <td>318</td>\n",
       "      <td>179</td>\n",
       "      <td>131</td>\n",
       "      <td>71</td>\n",
       "      <td>38.6</td>\n",
       "      <td>27.9</td>\n",
       "      <td>15.7</td>\n",
       "      <td>11.5</td>\n",
       "      <td>6.2</td>\n",
       "    </tr>\n",
       "    <tr>\n",
       "      <th>3</th>\n",
       "      <td>숲속 예술·활동 참여</td>\n",
       "      <td>3.49</td>\n",
       "      <td>401</td>\n",
       "      <td>366</td>\n",
       "      <td>193</td>\n",
       "      <td>129</td>\n",
       "      <td>49</td>\n",
       "      <td>35.2</td>\n",
       "      <td>32.2</td>\n",
       "      <td>17.0</td>\n",
       "      <td>11.3</td>\n",
       "      <td>4.3</td>\n",
       "    </tr>\n",
       "    <tr>\n",
       "      <th>4</th>\n",
       "      <td>숲 기반 생활공예·취미활동 참여</td>\n",
       "      <td>3.78</td>\n",
       "      <td>462</td>\n",
       "      <td>284</td>\n",
       "      <td>282</td>\n",
       "      <td>76</td>\n",
       "      <td>34</td>\n",
       "      <td>40.6</td>\n",
       "      <td>25.0</td>\n",
       "      <td>24.8</td>\n",
       "      <td>6.7</td>\n",
       "      <td>3.0</td>\n",
       "    </tr>\n",
       "    <tr>\n",
       "      <th>5</th>\n",
       "      <td>숲가꾸기 체험</td>\n",
       "      <td>3.82</td>\n",
       "      <td>477</td>\n",
       "      <td>287</td>\n",
       "      <td>279</td>\n",
       "      <td>70</td>\n",
       "      <td>25</td>\n",
       "      <td>41.9</td>\n",
       "      <td>25.2</td>\n",
       "      <td>24.5</td>\n",
       "      <td>6.2</td>\n",
       "      <td>2.2</td>\n",
       "    </tr>\n",
       "    <tr>\n",
       "      <th>6</th>\n",
       "      <td>임산물 수확 체험</td>\n",
       "      <td>3.88</td>\n",
       "      <td>444</td>\n",
       "      <td>337</td>\n",
       "      <td>265</td>\n",
       "      <td>66</td>\n",
       "      <td>26</td>\n",
       "      <td>39.0</td>\n",
       "      <td>29.6</td>\n",
       "      <td>23.3</td>\n",
       "      <td>5.8</td>\n",
       "      <td>2.3</td>\n",
       "    </tr>\n",
       "    <tr>\n",
       "      <th>7</th>\n",
       "      <td>동식물 관찰 및 학습</td>\n",
       "      <td>3.65</td>\n",
       "      <td>459</td>\n",
       "      <td>340</td>\n",
       "      <td>218</td>\n",
       "      <td>86</td>\n",
       "      <td>35</td>\n",
       "      <td>40.3</td>\n",
       "      <td>29.9</td>\n",
       "      <td>19.2</td>\n",
       "      <td>7.6</td>\n",
       "      <td>3.1</td>\n",
       "    </tr>\n",
       "    <tr>\n",
       "      <th>8</th>\n",
       "      <td>산림레포츠 참여</td>\n",
       "      <td>3.25</td>\n",
       "      <td>366</td>\n",
       "      <td>320</td>\n",
       "      <td>178</td>\n",
       "      <td>173</td>\n",
       "      <td>101</td>\n",
       "      <td>32.2</td>\n",
       "      <td>28.1</td>\n",
       "      <td>15.6</td>\n",
       "      <td>15.2</td>\n",
       "      <td>8.9</td>\n",
       "    </tr>\n",
       "    <tr>\n",
       "      <th>9</th>\n",
       "      <td>계곡레포츠 참여</td>\n",
       "      <td>3.34</td>\n",
       "      <td>352</td>\n",
       "      <td>325</td>\n",
       "      <td>201</td>\n",
       "      <td>148</td>\n",
       "      <td>112</td>\n",
       "      <td>30.9</td>\n",
       "      <td>28.6</td>\n",
       "      <td>17.7</td>\n",
       "      <td>13.0</td>\n",
       "      <td>9.8</td>\n",
       "    </tr>\n",
       "    <tr>\n",
       "      <th>10</th>\n",
       "      <td>건강증진 활동 참여</td>\n",
       "      <td>4.08</td>\n",
       "      <td>454</td>\n",
       "      <td>425</td>\n",
       "      <td>198</td>\n",
       "      <td>44</td>\n",
       "      <td>17</td>\n",
       "      <td>39.9</td>\n",
       "      <td>37.3</td>\n",
       "      <td>17.4</td>\n",
       "      <td>3.9</td>\n",
       "      <td>1.5</td>\n",
       "    </tr>\n",
       "    <tr>\n",
       "      <th>11</th>\n",
       "      <td>숲 탐방</td>\n",
       "      <td>4.11</td>\n",
       "      <td>463</td>\n",
       "      <td>429</td>\n",
       "      <td>199</td>\n",
       "      <td>31</td>\n",
       "      <td>16</td>\n",
       "      <td>40.7</td>\n",
       "      <td>37.7</td>\n",
       "      <td>17.5</td>\n",
       "      <td>2.7</td>\n",
       "      <td>1.4</td>\n",
       "    </tr>\n",
       "    <tr>\n",
       "      <th>12</th>\n",
       "      <td>산림문화자산·자연명승지 탐방</td>\n",
       "      <td>3.89</td>\n",
       "      <td>440</td>\n",
       "      <td>340</td>\n",
       "      <td>277</td>\n",
       "      <td>57</td>\n",
       "      <td>24</td>\n",
       "      <td>38.7</td>\n",
       "      <td>29.9</td>\n",
       "      <td>24.3</td>\n",
       "      <td>5.0</td>\n",
       "      <td>2.1</td>\n",
       "    </tr>\n",
       "    <tr>\n",
       "      <th>13</th>\n",
       "      <td>자연경관 감상</td>\n",
       "      <td>4.12</td>\n",
       "      <td>441</td>\n",
       "      <td>441</td>\n",
       "      <td>212</td>\n",
       "      <td>35</td>\n",
       "      <td>9</td>\n",
       "      <td>38.8</td>\n",
       "      <td>38.8</td>\n",
       "      <td>18.6</td>\n",
       "      <td>3.1</td>\n",
       "      <td>0.8</td>\n",
       "    </tr>\n",
       "    <tr>\n",
       "      <th>14</th>\n",
       "      <td>숲속 생활 체험</td>\n",
       "      <td>3.87</td>\n",
       "      <td>455</td>\n",
       "      <td>329</td>\n",
       "      <td>262</td>\n",
       "      <td>65</td>\n",
       "      <td>27</td>\n",
       "      <td>40.0</td>\n",
       "      <td>28.9</td>\n",
       "      <td>23.0</td>\n",
       "      <td>5.7</td>\n",
       "      <td>2.4</td>\n",
       "    </tr>\n",
       "    <tr>\n",
       "      <th>15</th>\n",
       "      <td>산림주제 게임활동</td>\n",
       "      <td>3.07</td>\n",
       "      <td>420</td>\n",
       "      <td>272</td>\n",
       "      <td>180</td>\n",
       "      <td>137</td>\n",
       "      <td>129</td>\n",
       "      <td>36.9</td>\n",
       "      <td>23.9</td>\n",
       "      <td>15.8</td>\n",
       "      <td>12.0</td>\n",
       "      <td>11.3</td>\n",
       "    </tr>\n",
       "    <tr>\n",
       "      <th>16</th>\n",
       "      <td>산림주제 독서활동</td>\n",
       "      <td>3.22</td>\n",
       "      <td>428</td>\n",
       "      <td>309</td>\n",
       "      <td>180</td>\n",
       "      <td>141</td>\n",
       "      <td>80</td>\n",
       "      <td>37.6</td>\n",
       "      <td>27.2</td>\n",
       "      <td>15.8</td>\n",
       "      <td>12.4</td>\n",
       "      <td>7.0</td>\n",
       "    </tr>\n",
       "    <tr>\n",
       "      <th>17</th>\n",
       "      <td>산림분야 자기계발 및 학습</td>\n",
       "      <td>3.06</td>\n",
       "      <td>403</td>\n",
       "      <td>279</td>\n",
       "      <td>214</td>\n",
       "      <td>121</td>\n",
       "      <td>121</td>\n",
       "      <td>35.4</td>\n",
       "      <td>24.5</td>\n",
       "      <td>18.8</td>\n",
       "      <td>10.6</td>\n",
       "      <td>10.6</td>\n",
       "    </tr>\n",
       "    <tr>\n",
       "      <th>18</th>\n",
       "      <td>산림 관련 사회봉사활동</td>\n",
       "      <td>3.34</td>\n",
       "      <td>444</td>\n",
       "      <td>358</td>\n",
       "      <td>141</td>\n",
       "      <td>139</td>\n",
       "      <td>56</td>\n",
       "      <td>39.0</td>\n",
       "      <td>31.5</td>\n",
       "      <td>12.4</td>\n",
       "      <td>12.2</td>\n",
       "      <td>4.9</td>\n",
       "    </tr>\n",
       "  </tbody>\n",
       "</table>\n",
       "</div>"
      ],
      "text/plain": [
       "                   설문    평균  5_빈도  4_빈도  3_빈도  2_빈도  1_빈도  5_비율  4_비율  3_비율  \\\n",
       "0       숲속 박물관·전시회 관람  3.68   490   326   215    68    39  43.1  28.6  18.9   \n",
       "1      숲속 공연·음악연주회 관람  3.80   436   310   297    70    25  38.3  27.2  26.1   \n",
       "2          숲속 문학행사 참여  3.23   439   318   179   131    71  38.6  27.9  15.7   \n",
       "3         숲속 예술·활동 참여  3.49   401   366   193   129    49  35.2  32.2  17.0   \n",
       "4   숲 기반 생활공예·취미활동 참여  3.78   462   284   282    76    34  40.6  25.0  24.8   \n",
       "5             숲가꾸기 체험  3.82   477   287   279    70    25  41.9  25.2  24.5   \n",
       "6           임산물 수확 체험  3.88   444   337   265    66    26  39.0  29.6  23.3   \n",
       "7         동식물 관찰 및 학습  3.65   459   340   218    86    35  40.3  29.9  19.2   \n",
       "8            산림레포츠 참여  3.25   366   320   178   173   101  32.2  28.1  15.6   \n",
       "9            계곡레포츠 참여  3.34   352   325   201   148   112  30.9  28.6  17.7   \n",
       "10         건강증진 활동 참여  4.08   454   425   198    44    17  39.9  37.3  17.4   \n",
       "11               숲 탐방  4.11   463   429   199    31    16  40.7  37.7  17.5   \n",
       "12    산림문화자산·자연명승지 탐방  3.89   440   340   277    57    24  38.7  29.9  24.3   \n",
       "13            자연경관 감상  4.12   441   441   212    35     9  38.8  38.8  18.6   \n",
       "14           숲속 생활 체험  3.87   455   329   262    65    27  40.0  28.9  23.0   \n",
       "15          산림주제 게임활동  3.07   420   272   180   137   129  36.9  23.9  15.8   \n",
       "16          산림주제 독서활동  3.22   428   309   180   141    80  37.6  27.2  15.8   \n",
       "17     산림분야 자기계발 및 학습  3.06   403   279   214   121   121  35.4  24.5  18.8   \n",
       "18       산림 관련 사회봉사활동  3.34   444   358   141   139    56  39.0  31.5  12.4   \n",
       "\n",
       "    2_비율  1_비율  \n",
       "0    6.0   3.4  \n",
       "1    6.2   2.2  \n",
       "2   11.5   6.2  \n",
       "3   11.3   4.3  \n",
       "4    6.7   3.0  \n",
       "5    6.2   2.2  \n",
       "6    5.8   2.3  \n",
       "7    7.6   3.1  \n",
       "8   15.2   8.9  \n",
       "9   13.0   9.8  \n",
       "10   3.9   1.5  \n",
       "11   2.7   1.4  \n",
       "12   5.0   2.1  \n",
       "13   3.1   0.8  \n",
       "14   5.7   2.4  \n",
       "15  12.0  11.3  \n",
       "16  12.4   7.0  \n",
       "17  10.6  10.6  \n",
       "18  12.2   4.9  "
      ]
     },
     "execution_count": 41,
     "metadata": {},
     "output_type": "execute_result"
    }
   ],
   "source": [
    "# 가중평균 계산 및 리스트 형태로 저장\n",
    "common_5_dic = {'설문':[],\n",
    "              '평균':[],\n",
    "              '5_빈도':[],\n",
    "              '4_빈도':[],\n",
    "              '3_빈도':[],\n",
    "              '2_빈도':[],\n",
    "              '1_빈도':[],\n",
    "              '5_비율':[],\n",
    "              '4_비율':[],\n",
    "              '3_비율':[],\n",
    "              '2_비율':[],\n",
    "              '1_비율':[],\n",
    "            }\n",
    "\n",
    "for question in df_common_5.columns[7:]:\n",
    "    score_counts = df_common_5[question].value_counts()#.reset_index()\n",
    "    weighted_sum = (score_counts.index * score_counts).sum()\n",
    "    total_count = score_counts.sum()\n",
    "    weighted_mean = round(weighted_sum / total_count, 2)\n",
    "    common_5_dic['설문'].append(question)\n",
    "    common_5_dic['평균'].append(weighted_mean)\n",
    "\n",
    "    score_counts = score_counts.reset_index()\n",
    "    score_counts.columns = ['점수', '빈도']\n",
    "    score_counts['비율'] = round((score_counts['빈도'] / score_counts['빈도'].sum()) * 100, 1)\n",
    "    \n",
    "    # 존재하는 점수들, 1개도 안나온 값들이 있음\n",
    "    existing_scores = [1, 2, 3, 4, 5]\n",
    "    # 누락된 점수들 찾기\n",
    "    missing_scores = [score for score in existing_scores if score not in score_counts['점수'].tolist()]\n",
    "    # 누락된 점수들을 데이터프레임에 추가\n",
    "    for missing_score in missing_scores:\n",
    "        new_row = {'점수': missing_score, '빈도': 0, '비율': 0.0}\n",
    "        score_counts = score_counts.append(new_row, ignore_index=True)\n",
    "    for num, freq, rate in zip(range(5,0,-1),score_counts['빈도'].tolist(),score_counts['비율'].tolist()):\n",
    "        common_5_dic[str(num) + '_빈도'].append(freq)\n",
    "        common_5_dic[str(num) + '_비율'].append(rate)\n",
    "common_5_df = pd.DataFrame(common_5_dic)\n",
    "common_5_df['설문'] = common_5_df['설문'].replace(q5_map_dic)\n",
    "common_5_df"
   ]
  },
  {
   "cell_type": "code",
   "execution_count": 45,
   "metadata": {},
   "outputs": [
    {
     "data": {
      "application/vnd.plotly.v1+json": {
       "config": {
        "plotlyServerURL": "https://plot.ly"
       },
       "data": [
        {
         "line": {
          "color": "blue"
         },
         "mode": "lines",
         "name": "산림엑스포",
         "type": "scatter",
         "x": [
          "숲속 박물관·전시회 관람",
          "숲속 공연·음악연주회 관람",
          "숲속 문학행사 참여",
          "숲속 예술·활동 참여",
          "숲 기반 생활공예·취미활동 참여",
          "숲가꾸기 체험",
          "임산물 수확 체험",
          "동식물 관찰 및 학습",
          "산림레포츠 참여",
          "계곡레포츠 참여",
          "건강증진 활동 참여",
          "숲 탐방",
          "산림문화자산·자연명승지 탐방",
          "자연경관 감상",
          "숲속 생활 체험",
          "산림주제 게임활동",
          "산림주제 독서활동",
          "산림분야 자기계발 및 학습",
          "산림 관련 사회봉사활동"
         ],
         "y": [
          4.07,
          3.7,
          3.53,
          3.8,
          4.1,
          3.99,
          3.91,
          3.82,
          3.62,
          3.69,
          3.99,
          4.01,
          3.92,
          4.3,
          4.16,
          3.74,
          3.42,
          3.59,
          3.6
         ]
        },
        {
         "line": {
          "color": "red"
         },
         "mode": "lines",
         "name": "일반국민",
         "type": "scatter",
         "x": [
          "숲속 박물관·전시회 관람",
          "숲속 공연·음악연주회 관람",
          "숲속 문학행사 참여",
          "숲속 예술·활동 참여",
          "숲 기반 생활공예·취미활동 참여",
          "숲가꾸기 체험",
          "임산물 수확 체험",
          "동식물 관찰 및 학습",
          "산림레포츠 참여",
          "계곡레포츠 참여",
          "건강증진 활동 참여",
          "숲 탐방",
          "산림문화자산·자연명승지 탐방",
          "자연경관 감상",
          "숲속 생활 체험",
          "산림주제 게임활동",
          "산림주제 독서활동",
          "산림분야 자기계발 및 학습",
          "산림 관련 사회봉사활동"
         ],
         "y": [
          3.68,
          3.8,
          3.23,
          3.49,
          3.78,
          3.82,
          3.88,
          3.65,
          3.25,
          3.34,
          4.08,
          4.11,
          3.89,
          4.12,
          3.87,
          3.07,
          3.22,
          3.06,
          3.34
         ]
        }
       ],
       "layout": {
        "annotations": [
         {
          "arrowhead": 7,
          "font": {
           "size": 14
          },
          "showarrow": true,
          "text": "4.07",
          "x": "숲속 박물관·전시회 관람",
          "y": 4.07
         },
         {
          "arrowhead": 7,
          "font": {
           "size": 14
          },
          "showarrow": true,
          "text": "3.7",
          "x": "숲속 공연·음악연주회 관람",
          "y": 3.7
         },
         {
          "arrowhead": 7,
          "font": {
           "size": 14
          },
          "showarrow": true,
          "text": "3.53",
          "x": "숲속 문학행사 참여",
          "y": 3.53
         },
         {
          "arrowhead": 7,
          "font": {
           "size": 14
          },
          "showarrow": true,
          "text": "3.8",
          "x": "숲속 예술·활동 참여",
          "y": 3.8
         },
         {
          "arrowhead": 7,
          "font": {
           "size": 14
          },
          "showarrow": true,
          "text": "4.1",
          "x": "숲 기반 생활공예·취미활동 참여",
          "y": 4.1
         },
         {
          "arrowhead": 7,
          "font": {
           "size": 14
          },
          "showarrow": true,
          "text": "3.99",
          "x": "숲가꾸기 체험",
          "y": 3.99
         },
         {
          "arrowhead": 7,
          "font": {
           "size": 14
          },
          "showarrow": true,
          "text": "3.91",
          "x": "임산물 수확 체험",
          "y": 3.91
         },
         {
          "arrowhead": 7,
          "font": {
           "size": 14
          },
          "showarrow": true,
          "text": "3.82",
          "x": "동식물 관찰 및 학습",
          "y": 3.82
         },
         {
          "arrowhead": 7,
          "font": {
           "size": 14
          },
          "showarrow": true,
          "text": "3.62",
          "x": "산림레포츠 참여",
          "y": 3.62
         },
         {
          "arrowhead": 7,
          "font": {
           "size": 14
          },
          "showarrow": true,
          "text": "3.69",
          "x": "계곡레포츠 참여",
          "y": 3.69
         },
         {
          "arrowhead": 7,
          "font": {
           "size": 14
          },
          "showarrow": true,
          "text": "3.99",
          "x": "건강증진 활동 참여",
          "y": 3.99
         },
         {
          "arrowhead": 7,
          "font": {
           "size": 14
          },
          "showarrow": true,
          "text": "4.01",
          "x": "숲 탐방",
          "y": 4.01
         },
         {
          "arrowhead": 7,
          "font": {
           "size": 14
          },
          "showarrow": true,
          "text": "3.92",
          "x": "산림문화자산·자연명승지 탐방",
          "y": 3.92
         },
         {
          "arrowhead": 7,
          "font": {
           "size": 14
          },
          "showarrow": true,
          "text": "4.3",
          "x": "자연경관 감상",
          "y": 4.3
         },
         {
          "arrowhead": 7,
          "font": {
           "size": 14
          },
          "showarrow": true,
          "text": "4.16",
          "x": "숲속 생활 체험",
          "y": 4.16
         },
         {
          "arrowhead": 7,
          "font": {
           "size": 14
          },
          "showarrow": true,
          "text": "3.74",
          "x": "산림주제 게임활동",
          "y": 3.74
         },
         {
          "arrowhead": 7,
          "font": {
           "size": 14
          },
          "showarrow": true,
          "text": "3.42",
          "x": "산림주제 독서활동",
          "y": 3.42
         },
         {
          "arrowhead": 7,
          "font": {
           "size": 14
          },
          "showarrow": true,
          "text": "3.59",
          "x": "산림분야 자기계발 및 학습",
          "y": 3.59
         },
         {
          "arrowhead": 7,
          "font": {
           "size": 14
          },
          "showarrow": true,
          "text": "3.6",
          "x": "산림 관련 사회봉사활동",
          "y": 3.6
         },
         {
          "arrowhead": 7,
          "font": {
           "size": 14
          },
          "showarrow": true,
          "text": "3.68",
          "x": "숲속 박물관·전시회 관람",
          "y": 3.68
         },
         {
          "arrowhead": 7,
          "font": {
           "size": 14
          },
          "showarrow": true,
          "text": "3.8",
          "x": "숲속 공연·음악연주회 관람",
          "y": 3.8
         },
         {
          "arrowhead": 7,
          "font": {
           "size": 14
          },
          "showarrow": true,
          "text": "3.23",
          "x": "숲속 문학행사 참여",
          "y": 3.23
         },
         {
          "arrowhead": 7,
          "font": {
           "size": 14
          },
          "showarrow": true,
          "text": "3.49",
          "x": "숲속 예술·활동 참여",
          "y": 3.49
         },
         {
          "arrowhead": 7,
          "font": {
           "size": 14
          },
          "showarrow": true,
          "text": "3.78",
          "x": "숲 기반 생활공예·취미활동 참여",
          "y": 3.78
         },
         {
          "arrowhead": 7,
          "font": {
           "size": 14
          },
          "showarrow": true,
          "text": "3.82",
          "x": "숲가꾸기 체험",
          "y": 3.82
         },
         {
          "arrowhead": 7,
          "font": {
           "size": 14
          },
          "showarrow": true,
          "text": "3.88",
          "x": "임산물 수확 체험",
          "y": 3.88
         },
         {
          "arrowhead": 7,
          "font": {
           "size": 14
          },
          "showarrow": true,
          "text": "3.65",
          "x": "동식물 관찰 및 학습",
          "y": 3.65
         },
         {
          "arrowhead": 7,
          "font": {
           "size": 14
          },
          "showarrow": true,
          "text": "3.25",
          "x": "산림레포츠 참여",
          "y": 3.25
         },
         {
          "arrowhead": 7,
          "font": {
           "size": 14
          },
          "showarrow": true,
          "text": "3.34",
          "x": "계곡레포츠 참여",
          "y": 3.34
         },
         {
          "arrowhead": 7,
          "font": {
           "size": 14
          },
          "showarrow": true,
          "text": "4.08",
          "x": "건강증진 활동 참여",
          "y": 4.08
         },
         {
          "arrowhead": 7,
          "font": {
           "size": 14
          },
          "showarrow": true,
          "text": "4.11",
          "x": "숲 탐방",
          "y": 4.11
         },
         {
          "arrowhead": 7,
          "font": {
           "size": 14
          },
          "showarrow": true,
          "text": "3.89",
          "x": "산림문화자산·자연명승지 탐방",
          "y": 3.89
         },
         {
          "arrowhead": 7,
          "font": {
           "size": 14
          },
          "showarrow": true,
          "text": "4.12",
          "x": "자연경관 감상",
          "y": 4.12
         },
         {
          "arrowhead": 7,
          "font": {
           "size": 14
          },
          "showarrow": true,
          "text": "3.87",
          "x": "숲속 생활 체험",
          "y": 3.87
         },
         {
          "arrowhead": 7,
          "font": {
           "size": 14
          },
          "showarrow": true,
          "text": "3.07",
          "x": "산림주제 게임활동",
          "y": 3.07
         },
         {
          "arrowhead": 7,
          "font": {
           "size": 14
          },
          "showarrow": true,
          "text": "3.22",
          "x": "산림주제 독서활동",
          "y": 3.22
         },
         {
          "arrowhead": 7,
          "font": {
           "size": 14
          },
          "showarrow": true,
          "text": "3.06",
          "x": "산림분야 자기계발 및 학습",
          "y": 3.06
         },
         {
          "arrowhead": 7,
          "font": {
           "size": 14
          },
          "showarrow": true,
          "text": "3.34",
          "x": "산림 관련 사회봉사활동",
          "y": 3.34
         }
        ],
        "legend": {
         "orientation": "h",
         "x": 0.02,
         "y": 0.98
        },
        "margin": {
         "b": 70,
         "l": 100,
         "r": 100,
         "t": 70
        },
        "showlegend": true,
        "template": {
         "data": {
          "bar": [
           {
            "error_x": {
             "color": "#2a3f5f"
            },
            "error_y": {
             "color": "#2a3f5f"
            },
            "marker": {
             "line": {
              "color": "#E5ECF6",
              "width": 0.5
             },
             "pattern": {
              "fillmode": "overlay",
              "size": 10,
              "solidity": 0.2
             }
            },
            "type": "bar"
           }
          ],
          "barpolar": [
           {
            "marker": {
             "line": {
              "color": "#E5ECF6",
              "width": 0.5
             },
             "pattern": {
              "fillmode": "overlay",
              "size": 10,
              "solidity": 0.2
             }
            },
            "type": "barpolar"
           }
          ],
          "carpet": [
           {
            "aaxis": {
             "endlinecolor": "#2a3f5f",
             "gridcolor": "white",
             "linecolor": "white",
             "minorgridcolor": "white",
             "startlinecolor": "#2a3f5f"
            },
            "baxis": {
             "endlinecolor": "#2a3f5f",
             "gridcolor": "white",
             "linecolor": "white",
             "minorgridcolor": "white",
             "startlinecolor": "#2a3f5f"
            },
            "type": "carpet"
           }
          ],
          "choropleth": [
           {
            "colorbar": {
             "outlinewidth": 0,
             "ticks": ""
            },
            "type": "choropleth"
           }
          ],
          "contour": [
           {
            "colorbar": {
             "outlinewidth": 0,
             "ticks": ""
            },
            "colorscale": [
             [
              0,
              "#0d0887"
             ],
             [
              0.1111111111111111,
              "#46039f"
             ],
             [
              0.2222222222222222,
              "#7201a8"
             ],
             [
              0.3333333333333333,
              "#9c179e"
             ],
             [
              0.4444444444444444,
              "#bd3786"
             ],
             [
              0.5555555555555556,
              "#d8576b"
             ],
             [
              0.6666666666666666,
              "#ed7953"
             ],
             [
              0.7777777777777778,
              "#fb9f3a"
             ],
             [
              0.8888888888888888,
              "#fdca26"
             ],
             [
              1,
              "#f0f921"
             ]
            ],
            "type": "contour"
           }
          ],
          "contourcarpet": [
           {
            "colorbar": {
             "outlinewidth": 0,
             "ticks": ""
            },
            "type": "contourcarpet"
           }
          ],
          "heatmap": [
           {
            "colorbar": {
             "outlinewidth": 0,
             "ticks": ""
            },
            "colorscale": [
             [
              0,
              "#0d0887"
             ],
             [
              0.1111111111111111,
              "#46039f"
             ],
             [
              0.2222222222222222,
              "#7201a8"
             ],
             [
              0.3333333333333333,
              "#9c179e"
             ],
             [
              0.4444444444444444,
              "#bd3786"
             ],
             [
              0.5555555555555556,
              "#d8576b"
             ],
             [
              0.6666666666666666,
              "#ed7953"
             ],
             [
              0.7777777777777778,
              "#fb9f3a"
             ],
             [
              0.8888888888888888,
              "#fdca26"
             ],
             [
              1,
              "#f0f921"
             ]
            ],
            "type": "heatmap"
           }
          ],
          "heatmapgl": [
           {
            "colorbar": {
             "outlinewidth": 0,
             "ticks": ""
            },
            "colorscale": [
             [
              0,
              "#0d0887"
             ],
             [
              0.1111111111111111,
              "#46039f"
             ],
             [
              0.2222222222222222,
              "#7201a8"
             ],
             [
              0.3333333333333333,
              "#9c179e"
             ],
             [
              0.4444444444444444,
              "#bd3786"
             ],
             [
              0.5555555555555556,
              "#d8576b"
             ],
             [
              0.6666666666666666,
              "#ed7953"
             ],
             [
              0.7777777777777778,
              "#fb9f3a"
             ],
             [
              0.8888888888888888,
              "#fdca26"
             ],
             [
              1,
              "#f0f921"
             ]
            ],
            "type": "heatmapgl"
           }
          ],
          "histogram": [
           {
            "marker": {
             "pattern": {
              "fillmode": "overlay",
              "size": 10,
              "solidity": 0.2
             }
            },
            "type": "histogram"
           }
          ],
          "histogram2d": [
           {
            "colorbar": {
             "outlinewidth": 0,
             "ticks": ""
            },
            "colorscale": [
             [
              0,
              "#0d0887"
             ],
             [
              0.1111111111111111,
              "#46039f"
             ],
             [
              0.2222222222222222,
              "#7201a8"
             ],
             [
              0.3333333333333333,
              "#9c179e"
             ],
             [
              0.4444444444444444,
              "#bd3786"
             ],
             [
              0.5555555555555556,
              "#d8576b"
             ],
             [
              0.6666666666666666,
              "#ed7953"
             ],
             [
              0.7777777777777778,
              "#fb9f3a"
             ],
             [
              0.8888888888888888,
              "#fdca26"
             ],
             [
              1,
              "#f0f921"
             ]
            ],
            "type": "histogram2d"
           }
          ],
          "histogram2dcontour": [
           {
            "colorbar": {
             "outlinewidth": 0,
             "ticks": ""
            },
            "colorscale": [
             [
              0,
              "#0d0887"
             ],
             [
              0.1111111111111111,
              "#46039f"
             ],
             [
              0.2222222222222222,
              "#7201a8"
             ],
             [
              0.3333333333333333,
              "#9c179e"
             ],
             [
              0.4444444444444444,
              "#bd3786"
             ],
             [
              0.5555555555555556,
              "#d8576b"
             ],
             [
              0.6666666666666666,
              "#ed7953"
             ],
             [
              0.7777777777777778,
              "#fb9f3a"
             ],
             [
              0.8888888888888888,
              "#fdca26"
             ],
             [
              1,
              "#f0f921"
             ]
            ],
            "type": "histogram2dcontour"
           }
          ],
          "mesh3d": [
           {
            "colorbar": {
             "outlinewidth": 0,
             "ticks": ""
            },
            "type": "mesh3d"
           }
          ],
          "parcoords": [
           {
            "line": {
             "colorbar": {
              "outlinewidth": 0,
              "ticks": ""
             }
            },
            "type": "parcoords"
           }
          ],
          "pie": [
           {
            "automargin": true,
            "type": "pie"
           }
          ],
          "scatter": [
           {
            "fillpattern": {
             "fillmode": "overlay",
             "size": 10,
             "solidity": 0.2
            },
            "type": "scatter"
           }
          ],
          "scatter3d": [
           {
            "line": {
             "colorbar": {
              "outlinewidth": 0,
              "ticks": ""
             }
            },
            "marker": {
             "colorbar": {
              "outlinewidth": 0,
              "ticks": ""
             }
            },
            "type": "scatter3d"
           }
          ],
          "scattercarpet": [
           {
            "marker": {
             "colorbar": {
              "outlinewidth": 0,
              "ticks": ""
             }
            },
            "type": "scattercarpet"
           }
          ],
          "scattergeo": [
           {
            "marker": {
             "colorbar": {
              "outlinewidth": 0,
              "ticks": ""
             }
            },
            "type": "scattergeo"
           }
          ],
          "scattergl": [
           {
            "marker": {
             "colorbar": {
              "outlinewidth": 0,
              "ticks": ""
             }
            },
            "type": "scattergl"
           }
          ],
          "scattermapbox": [
           {
            "marker": {
             "colorbar": {
              "outlinewidth": 0,
              "ticks": ""
             }
            },
            "type": "scattermapbox"
           }
          ],
          "scatterpolar": [
           {
            "marker": {
             "colorbar": {
              "outlinewidth": 0,
              "ticks": ""
             }
            },
            "type": "scatterpolar"
           }
          ],
          "scatterpolargl": [
           {
            "marker": {
             "colorbar": {
              "outlinewidth": 0,
              "ticks": ""
             }
            },
            "type": "scatterpolargl"
           }
          ],
          "scatterternary": [
           {
            "marker": {
             "colorbar": {
              "outlinewidth": 0,
              "ticks": ""
             }
            },
            "type": "scatterternary"
           }
          ],
          "surface": [
           {
            "colorbar": {
             "outlinewidth": 0,
             "ticks": ""
            },
            "colorscale": [
             [
              0,
              "#0d0887"
             ],
             [
              0.1111111111111111,
              "#46039f"
             ],
             [
              0.2222222222222222,
              "#7201a8"
             ],
             [
              0.3333333333333333,
              "#9c179e"
             ],
             [
              0.4444444444444444,
              "#bd3786"
             ],
             [
              0.5555555555555556,
              "#d8576b"
             ],
             [
              0.6666666666666666,
              "#ed7953"
             ],
             [
              0.7777777777777778,
              "#fb9f3a"
             ],
             [
              0.8888888888888888,
              "#fdca26"
             ],
             [
              1,
              "#f0f921"
             ]
            ],
            "type": "surface"
           }
          ],
          "table": [
           {
            "cells": {
             "fill": {
              "color": "#EBF0F8"
             },
             "line": {
              "color": "white"
             }
            },
            "header": {
             "fill": {
              "color": "#C8D4E3"
             },
             "line": {
              "color": "white"
             }
            },
            "type": "table"
           }
          ]
         },
         "layout": {
          "annotationdefaults": {
           "arrowcolor": "#2a3f5f",
           "arrowhead": 0,
           "arrowwidth": 1
          },
          "autotypenumbers": "strict",
          "coloraxis": {
           "colorbar": {
            "outlinewidth": 0,
            "ticks": ""
           }
          },
          "colorscale": {
           "diverging": [
            [
             0,
             "#8e0152"
            ],
            [
             0.1,
             "#c51b7d"
            ],
            [
             0.2,
             "#de77ae"
            ],
            [
             0.3,
             "#f1b6da"
            ],
            [
             0.4,
             "#fde0ef"
            ],
            [
             0.5,
             "#f7f7f7"
            ],
            [
             0.6,
             "#e6f5d0"
            ],
            [
             0.7,
             "#b8e186"
            ],
            [
             0.8,
             "#7fbc41"
            ],
            [
             0.9,
             "#4d9221"
            ],
            [
             1,
             "#276419"
            ]
           ],
           "sequential": [
            [
             0,
             "#0d0887"
            ],
            [
             0.1111111111111111,
             "#46039f"
            ],
            [
             0.2222222222222222,
             "#7201a8"
            ],
            [
             0.3333333333333333,
             "#9c179e"
            ],
            [
             0.4444444444444444,
             "#bd3786"
            ],
            [
             0.5555555555555556,
             "#d8576b"
            ],
            [
             0.6666666666666666,
             "#ed7953"
            ],
            [
             0.7777777777777778,
             "#fb9f3a"
            ],
            [
             0.8888888888888888,
             "#fdca26"
            ],
            [
             1,
             "#f0f921"
            ]
           ],
           "sequentialminus": [
            [
             0,
             "#0d0887"
            ],
            [
             0.1111111111111111,
             "#46039f"
            ],
            [
             0.2222222222222222,
             "#7201a8"
            ],
            [
             0.3333333333333333,
             "#9c179e"
            ],
            [
             0.4444444444444444,
             "#bd3786"
            ],
            [
             0.5555555555555556,
             "#d8576b"
            ],
            [
             0.6666666666666666,
             "#ed7953"
            ],
            [
             0.7777777777777778,
             "#fb9f3a"
            ],
            [
             0.8888888888888888,
             "#fdca26"
            ],
            [
             1,
             "#f0f921"
            ]
           ]
          },
          "colorway": [
           "#636efa",
           "#EF553B",
           "#00cc96",
           "#ab63fa",
           "#FFA15A",
           "#19d3f3",
           "#FF6692",
           "#B6E880",
           "#FF97FF",
           "#FECB52"
          ],
          "font": {
           "color": "#2a3f5f"
          },
          "geo": {
           "bgcolor": "white",
           "lakecolor": "white",
           "landcolor": "#E5ECF6",
           "showlakes": true,
           "showland": true,
           "subunitcolor": "white"
          },
          "hoverlabel": {
           "align": "left"
          },
          "hovermode": "closest",
          "mapbox": {
           "style": "light"
          },
          "paper_bgcolor": "white",
          "plot_bgcolor": "#E5ECF6",
          "polar": {
           "angularaxis": {
            "gridcolor": "white",
            "linecolor": "white",
            "ticks": ""
           },
           "bgcolor": "#E5ECF6",
           "radialaxis": {
            "gridcolor": "white",
            "linecolor": "white",
            "ticks": ""
           }
          },
          "scene": {
           "xaxis": {
            "backgroundcolor": "#E5ECF6",
            "gridcolor": "white",
            "gridwidth": 2,
            "linecolor": "white",
            "showbackground": true,
            "ticks": "",
            "zerolinecolor": "white"
           },
           "yaxis": {
            "backgroundcolor": "#E5ECF6",
            "gridcolor": "white",
            "gridwidth": 2,
            "linecolor": "white",
            "showbackground": true,
            "ticks": "",
            "zerolinecolor": "white"
           },
           "zaxis": {
            "backgroundcolor": "#E5ECF6",
            "gridcolor": "white",
            "gridwidth": 2,
            "linecolor": "white",
            "showbackground": true,
            "ticks": "",
            "zerolinecolor": "white"
           }
          },
          "shapedefaults": {
           "line": {
            "color": "#2a3f5f"
           }
          },
          "ternary": {
           "aaxis": {
            "gridcolor": "white",
            "linecolor": "white",
            "ticks": ""
           },
           "baxis": {
            "gridcolor": "white",
            "linecolor": "white",
            "ticks": ""
           },
           "bgcolor": "#E5ECF6",
           "caxis": {
            "gridcolor": "white",
            "linecolor": "white",
            "ticks": ""
           }
          },
          "title": {
           "x": 0.05
          },
          "xaxis": {
           "automargin": true,
           "gridcolor": "white",
           "linecolor": "white",
           "ticks": "",
           "title": {
            "standoff": 15
           },
           "zerolinecolor": "white",
           "zerolinewidth": 2
          },
          "yaxis": {
           "automargin": true,
           "gridcolor": "white",
           "linecolor": "white",
           "ticks": "",
           "title": {
            "standoff": 15
           },
           "zerolinecolor": "white",
           "zerolinewidth": 2
          }
         }
        },
        "xaxis": {
         "tickangle": 60,
         "title": {
          "font": {
           "size": 15
          },
          "text": "문항"
         }
        },
        "yaxis": {
         "title": {
          "font": {
           "size": 15
          },
          "text": "평균"
         }
        }
       }
      }
     },
     "metadata": {},
     "output_type": "display_data"
    }
   ],
   "source": [
    "import plotly.express as px\n",
    "import plotly.graph_objects as go\n",
    "\n",
    "# 그래프 생성\n",
    "fig = go.Figure()\n",
    "\n",
    "# 엑스포 그래프 추가\n",
    "fig.add_trace(go.Scatter(x=expo_5_df['설문'], y=expo_5_df['평균'], mode='lines', name='산림엑스포', line=dict(color='blue')))\n",
    "# 일반국민 그래프 추가\n",
    "fig.add_trace(go.Scatter(x=common_5_df['설문'], y=common_5_df['평균'], mode='lines', name='일반국민', line=dict(color='red')))\n",
    "\n",
    "# 각 지점에 숫자 표시하기\n",
    "for i, row in expo_5_df.iterrows():\n",
    "    fig.add_annotation(\n",
    "        text=row['평균'],\n",
    "        x=row['설문'],\n",
    "        y=row['평균'],\n",
    "        showarrow=True,\n",
    "        arrowhead=7,\n",
    "        font=dict(size=14)  # annotation 폰트\n",
    "    )\n",
    "\n",
    "# 두 번째 꺾은선 그래프의 annotation 추가\n",
    "for i, row in common_5_df.iterrows():\n",
    "    fig.add_annotation(\n",
    "        text=row['평균'],\n",
    "        x=row['설문'],\n",
    "        y=row['평균'],\n",
    "        showarrow=True,\n",
    "        arrowhead=7,\n",
    "        font=dict(size=14)  # annotation 폰트\n",
    "    )\n",
    "\n",
    "# 그래프 레이아웃 설정\n",
    "fig.update_layout(\n",
    "    xaxis_title='문항',\n",
    "    yaxis_title='평균',\n",
    "    margin=dict(l=100, r=20, t=50, b=50),  # 그래프 마진 조정\n",
    "    yaxis_title_font=dict(\n",
    "        size=15,  # Y 레이블 폰트 크기\n",
    "    ),\n",
    "    xaxis_title_font=dict(\n",
    "        size=15,  # X 레이블 폰트 크기\n",
    "    )\n",
    ")\n",
    "\n",
    "# 범례 추가\n",
    "fig.update_layout(legend=dict(orientation=\"h\", x=0.02, y=0.98), showlegend=True)\n",
    "\n",
    "# 여백 (margin) 조정\n",
    "fig.update_layout(margin=dict(l=100, r=100, b=70, t=70))\n",
    "\n",
    "fig.update_xaxes(tickangle=60)\n",
    "\n",
    "# 그래프 그리기\n",
    "fig.show()"
   ]
  },
  {
   "cell_type": "code",
   "execution_count": 52,
   "metadata": {},
   "outputs": [],
   "source": [
    "expo_5_num_df = expo_5_df[['설문','5_비율','4_비율', '3_비율', '2_비율', '1_비율']]\n",
    "common_5_num_df = common_5_df[['설문','5_비율','4_비율', '3_비율', '2_비율', '1_비율']]"
   ]
  },
  {
   "cell_type": "code",
   "execution_count": 46,
   "metadata": {},
   "outputs": [
    {
     "data": {
      "application/vnd.plotly.v1+json": {
       "config": {
        "plotlyServerURL": "https://plot.ly"
       },
       "data": [
        {
         "marker": {
          "color": "rgb(247,251,255)"
         },
         "name": "1점 (산림엑스포)",
         "text": [
          "<span style=\"font-size: 15px !important;\">1.9%</span>",
          "<span style=\"font-size: 15px !important;\">2.9%</span>",
          "<span style=\"font-size: 15px !important;\">3.8%</span>",
          "<span style=\"font-size: 15px !important;\">1.9%</span>",
          "<span style=\"font-size: 15px !important;\">0.0%</span>",
          "<span style=\"font-size: 15px !important;\">1.0%</span>",
          "<span style=\"font-size: 15px !important;\">3.8%</span>",
          "<span style=\"font-size: 15px !important;\">1.9%</span>",
          "<span style=\"font-size: 15px !important;\">4.8%</span>",
          "<span style=\"font-size: 15px !important;\">4.8%</span>",
          "<span style=\"font-size: 15px !important;\">4.8%</span>",
          "<span style=\"font-size: 15px !important;\">1.0%</span>",
          "<span style=\"font-size: 15px !important;\">1.9%</span>",
          "<span style=\"font-size: 15px !important;\">0.0%</span>",
          "<span style=\"font-size: 15px !important;\">1.9%</span>",
          "<span style=\"font-size: 15px !important;\">4.8%</span>",
          "<span style=\"font-size: 15px !important;\">8.6%</span>",
          "<span style=\"font-size: 15px !important;\">3.8%</span>",
          "<span style=\"font-size: 15px !important;\">8.6%</span>"
         ],
         "textposition": "auto",
         "type": "bar",
         "x": [
          "숲속 박물관·전시회 관람",
          "숲속 공연·음악연주회 관람",
          "숲속 문학행사 참여",
          "숲속 예술·활동 참여",
          "숲 기반 생활공예·취미활동 참여",
          "숲가꾸기 체험",
          "임산물 수확 체험",
          "동식물 관찰 및 학습",
          "산림레포츠 참여",
          "계곡레포츠 참여",
          "건강증진 활동 참여",
          "숲 탐방",
          "산림문화자산·자연명승지 탐방",
          "자연경관 감상",
          "숲속 생활 체험",
          "산림주제 게임활동",
          "산림주제 독서활동",
          "산림분야 자기계발 및 학습",
          "산림 관련 사회봉사활동"
         ],
         "y": [
          1.9,
          2.9,
          3.8,
          1.9,
          0,
          1,
          3.8,
          1.9,
          4.8,
          4.8,
          4.8,
          1,
          1.9,
          0,
          1.9,
          4.8,
          8.6,
          3.8,
          8.6
         ]
        },
        {
         "marker": {
          "color": "rgb(222,235,247)"
         },
         "name": "2점 (산림엑스포)",
         "text": [
          "<span style=\"font-size: 15px !important;\">4.8%</span>",
          "<span style=\"font-size: 15px !important;\">16.2%</span>",
          "<span style=\"font-size: 15px !important;\">16.2%</span>",
          "<span style=\"font-size: 15px !important;\">10.5%</span>",
          "<span style=\"font-size: 15px !important;\">6.7%</span>",
          "<span style=\"font-size: 15px !important;\">6.7%</span>",
          "<span style=\"font-size: 15px !important;\">11.4%</span>",
          "<span style=\"font-size: 15px !important;\">7.6%</span>",
          "<span style=\"font-size: 15px !important;\">16.2%</span>",
          "<span style=\"font-size: 15px !important;\">15.2%</span>",
          "<span style=\"font-size: 15px !important;\">7.6%</span>",
          "<span style=\"font-size: 15px !important;\">7.6%</span>",
          "<span style=\"font-size: 15px !important;\">6.7%</span>",
          "<span style=\"font-size: 15px !important;\">3.8%</span>",
          "<span style=\"font-size: 15px !important;\">3.8%</span>",
          "<span style=\"font-size: 15px !important;\">12.4%</span>",
          "<span style=\"font-size: 15px !important;\">15.2%</span>",
          "<span style=\"font-size: 15px !important;\">9.5%</span>",
          "<span style=\"font-size: 15px !important;\">9.5%</span>"
         ],
         "textposition": "auto",
         "type": "bar",
         "x": [
          "숲속 박물관·전시회 관람",
          "숲속 공연·음악연주회 관람",
          "숲속 문학행사 참여",
          "숲속 예술·활동 참여",
          "숲 기반 생활공예·취미활동 참여",
          "숲가꾸기 체험",
          "임산물 수확 체험",
          "동식물 관찰 및 학습",
          "산림레포츠 참여",
          "계곡레포츠 참여",
          "건강증진 활동 참여",
          "숲 탐방",
          "산림문화자산·자연명승지 탐방",
          "자연경관 감상",
          "숲속 생활 체험",
          "산림주제 게임활동",
          "산림주제 독서활동",
          "산림분야 자기계발 및 학습",
          "산림 관련 사회봉사활동"
         ],
         "y": [
          4.8,
          16.2,
          16.2,
          10.5,
          6.7,
          6.7,
          11.4,
          7.6,
          16.2,
          15.2,
          7.6,
          7.6,
          6.7,
          3.8,
          3.8,
          12.4,
          15.2,
          9.5,
          9.5
         ]
        },
        {
         "marker": {
          "color": "rgb(198,219,239)"
         },
         "name": "3점 (산림엑스포)",
         "text": [
          "<span style=\"font-size: 15px !important;\">18.1%</span>",
          "<span style=\"font-size: 15px !important;\">16.2%</span>",
          "<span style=\"font-size: 15px !important;\">22.9%</span>",
          "<span style=\"font-size: 15px !important;\">25.7%</span>",
          "<span style=\"font-size: 15px !important;\">20.0%</span>",
          "<span style=\"font-size: 15px !important;\">23.8%</span>",
          "<span style=\"font-size: 15px !important;\">15.2%</span>",
          "<span style=\"font-size: 15px !important;\">28.6%</span>",
          "<span style=\"font-size: 15px !important;\">21.9%</span>",
          "<span style=\"font-size: 15px !important;\">19.0%</span>",
          "<span style=\"font-size: 15px !important;\">16.2%</span>",
          "<span style=\"font-size: 15px !important;\">21.0%</span>",
          "<span style=\"font-size: 15px !important;\">21.9%</span>",
          "<span style=\"font-size: 15px !important;\">13.3%</span>",
          "<span style=\"font-size: 15px !important;\">18.1%</span>",
          "<span style=\"font-size: 15px !important;\">22.9%</span>",
          "<span style=\"font-size: 15px !important;\">19.0%</span>",
          "<span style=\"font-size: 15px !important;\">21.0%</span>",
          "<span style=\"font-size: 15px !important;\">23.8%</span>"
         ],
         "textposition": "auto",
         "type": "bar",
         "x": [
          "숲속 박물관·전시회 관람",
          "숲속 공연·음악연주회 관람",
          "숲속 문학행사 참여",
          "숲속 예술·활동 참여",
          "숲 기반 생활공예·취미활동 참여",
          "숲가꾸기 체험",
          "임산물 수확 체험",
          "동식물 관찰 및 학습",
          "산림레포츠 참여",
          "계곡레포츠 참여",
          "건강증진 활동 참여",
          "숲 탐방",
          "산림문화자산·자연명승지 탐방",
          "자연경관 감상",
          "숲속 생활 체험",
          "산림주제 게임활동",
          "산림주제 독서활동",
          "산림분야 자기계발 및 학습",
          "산림 관련 사회봉사활동"
         ],
         "y": [
          18.1,
          16.2,
          22.9,
          25.7,
          20,
          23.8,
          15.2,
          28.6,
          21.9,
          19,
          16.2,
          21,
          21.9,
          13.3,
          18.1,
          22.9,
          19,
          21,
          23.8
         ]
        },
        {
         "marker": {
          "color": "rgb(158,202,225)"
         },
         "name": "4점 (산림엑스포)",
         "text": [
          "<span style=\"font-size: 15px !important;\">35.2%</span>",
          "<span style=\"font-size: 15px !important;\">27.6%</span>",
          "<span style=\"font-size: 15px !important;\">25.7%</span>",
          "<span style=\"font-size: 15px !important;\">27.6%</span>",
          "<span style=\"font-size: 15px !important;\">30.5%</span>",
          "<span style=\"font-size: 15px !important;\">29.5%</span>",
          "<span style=\"font-size: 15px !important;\">28.6%</span>",
          "<span style=\"font-size: 15px !important;\">30.5%</span>",
          "<span style=\"font-size: 15px !important;\">26.7%</span>",
          "<span style=\"font-size: 15px !important;\">28.6%</span>",
          "<span style=\"font-size: 15px !important;\">26.7%</span>",
          "<span style=\"font-size: 15px !important;\">30.5%</span>",
          "<span style=\"font-size: 15px !important;\">33.3%</span>",
          "<span style=\"font-size: 15px !important;\">32.4%</span>",
          "<span style=\"font-size: 15px !important;\">26.7%</span>",
          "<span style=\"font-size: 15px !important;\">23.8%</span>",
          "<span style=\"font-size: 15px !important;\">27.6%</span>",
          "<span style=\"font-size: 15px !important;\">30.5%</span>",
          "<span style=\"font-size: 15px !important;\">28.6%</span>"
         ],
         "textposition": "auto",
         "type": "bar",
         "x": [
          "숲속 박물관·전시회 관람",
          "숲속 공연·음악연주회 관람",
          "숲속 문학행사 참여",
          "숲속 예술·활동 참여",
          "숲 기반 생활공예·취미활동 참여",
          "숲가꾸기 체험",
          "임산물 수확 체험",
          "동식물 관찰 및 학습",
          "산림레포츠 참여",
          "계곡레포츠 참여",
          "건강증진 활동 참여",
          "숲 탐방",
          "산림문화자산·자연명승지 탐방",
          "자연경관 감상",
          "숲속 생활 체험",
          "산림주제 게임활동",
          "산림주제 독서활동",
          "산림분야 자기계발 및 학습",
          "산림 관련 사회봉사활동"
         ],
         "y": [
          35.2,
          27.6,
          25.7,
          27.6,
          30.5,
          29.5,
          28.6,
          30.5,
          26.7,
          28.6,
          26.7,
          30.5,
          33.3,
          32.4,
          26.7,
          23.8,
          27.6,
          30.5,
          28.6
         ]
        },
        {
         "marker": {
          "color": "rgb(107,174,214)"
         },
         "name": "5점 (산림엑스포)",
         "text": [
          "<span style=\"font-size: 15px !important;\">40.0%</span>",
          "<span style=\"font-size: 15px !important;\">37.1%</span>",
          "<span style=\"font-size: 15px !important;\">31.4%</span>",
          "<span style=\"font-size: 15px !important;\">34.3%</span>",
          "<span style=\"font-size: 15px !important;\">42.9%</span>",
          "<span style=\"font-size: 15px !important;\">39.0%</span>",
          "<span style=\"font-size: 15px !important;\">41.0%</span>",
          "<span style=\"font-size: 15px !important;\">31.4%</span>",
          "<span style=\"font-size: 15px !important;\">30.5%</span>",
          "<span style=\"font-size: 15px !important;\">32.4%</span>",
          "<span style=\"font-size: 15px !important;\">44.8%</span>",
          "<span style=\"font-size: 15px !important;\">40.0%</span>",
          "<span style=\"font-size: 15px !important;\">36.2%</span>",
          "<span style=\"font-size: 15px !important;\">50.5%</span>",
          "<span style=\"font-size: 15px !important;\">49.5%</span>",
          "<span style=\"font-size: 15px !important;\">36.2%</span>",
          "<span style=\"font-size: 15px !important;\">29.5%</span>",
          "<span style=\"font-size: 15px !important;\">35.2%</span>",
          "<span style=\"font-size: 15px !important;\">29.5%</span>"
         ],
         "textposition": "auto",
         "type": "bar",
         "x": [
          "숲속 박물관·전시회 관람",
          "숲속 공연·음악연주회 관람",
          "숲속 문학행사 참여",
          "숲속 예술·활동 참여",
          "숲 기반 생활공예·취미활동 참여",
          "숲가꾸기 체험",
          "임산물 수확 체험",
          "동식물 관찰 및 학습",
          "산림레포츠 참여",
          "계곡레포츠 참여",
          "건강증진 활동 참여",
          "숲 탐방",
          "산림문화자산·자연명승지 탐방",
          "자연경관 감상",
          "숲속 생활 체험",
          "산림주제 게임활동",
          "산림주제 독서활동",
          "산림분야 자기계발 및 학습",
          "산림 관련 사회봉사활동"
         ],
         "y": [
          40,
          37.1,
          31.4,
          34.3,
          42.9,
          39,
          41,
          31.4,
          30.5,
          32.4,
          44.8,
          40,
          36.2,
          50.5,
          49.5,
          36.2,
          29.5,
          35.2,
          29.5
         ]
        },
        {
         "marker": {
          "color": "rgb(255,245,240)"
         },
         "name": "1점 (일반국민대상)",
         "text": [
          "<span style=\"font-size: 15px\">3.4%</span>",
          "<span style=\"font-size: 15px\">2.2%</span>",
          "<span style=\"font-size: 15px\">6.2%</span>",
          "<span style=\"font-size: 15px\">4.3%</span>",
          "<span style=\"font-size: 15px\">3.0%</span>",
          "<span style=\"font-size: 15px\">2.2%</span>",
          "<span style=\"font-size: 15px\">2.3%</span>",
          "<span style=\"font-size: 15px\">3.1%</span>",
          "<span style=\"font-size: 15px\">8.9%</span>",
          "<span style=\"font-size: 15px\">9.8%</span>",
          "<span style=\"font-size: 15px\">1.5%</span>",
          "<span style=\"font-size: 15px\">1.4%</span>",
          "<span style=\"font-size: 15px\">2.1%</span>",
          "<span style=\"font-size: 15px\">0.8%</span>",
          "<span style=\"font-size: 15px\">2.4%</span>",
          "<span style=\"font-size: 15px\">11.3%</span>",
          "<span style=\"font-size: 15px\">7.0%</span>",
          "<span style=\"font-size: 15px\">10.6%</span>",
          "<span style=\"font-size: 15px\">4.9%</span>"
         ],
         "textposition": "auto",
         "type": "bar",
         "x": [
          "숲속 박물관·전시회 관람",
          "숲속 공연·음악연주회 관람",
          "숲속 문학행사 참여",
          "숲속 예술·활동 참여",
          "숲 기반 생활공예·취미활동 참여",
          "숲가꾸기 체험",
          "임산물 수확 체험",
          "동식물 관찰 및 학습",
          "산림레포츠 참여",
          "계곡레포츠 참여",
          "건강증진 활동 참여",
          "숲 탐방",
          "산림문화자산·자연명승지 탐방",
          "자연경관 감상",
          "숲속 생활 체험",
          "산림주제 게임활동",
          "산림주제 독서활동",
          "산림분야 자기계발 및 학습",
          "산림 관련 사회봉사활동"
         ],
         "y": [
          3.4,
          2.2,
          6.2,
          4.3,
          3,
          2.2,
          2.3,
          3.1,
          8.9,
          9.8,
          1.5,
          1.4,
          2.1,
          0.8,
          2.4,
          11.3,
          7,
          10.6,
          4.9
         ]
        },
        {
         "marker": {
          "color": "rgb(254,224,210)"
         },
         "name": "2점 (일반국민대상)",
         "text": [
          "<span style=\"font-size: 15px\">6.0%</span>",
          "<span style=\"font-size: 15px\">6.2%</span>",
          "<span style=\"font-size: 15px\">11.5%</span>",
          "<span style=\"font-size: 15px\">11.3%</span>",
          "<span style=\"font-size: 15px\">6.7%</span>",
          "<span style=\"font-size: 15px\">6.2%</span>",
          "<span style=\"font-size: 15px\">5.8%</span>",
          "<span style=\"font-size: 15px\">7.6%</span>",
          "<span style=\"font-size: 15px\">15.2%</span>",
          "<span style=\"font-size: 15px\">13.0%</span>",
          "<span style=\"font-size: 15px\">3.9%</span>",
          "<span style=\"font-size: 15px\">2.7%</span>",
          "<span style=\"font-size: 15px\">5.0%</span>",
          "<span style=\"font-size: 15px\">3.1%</span>",
          "<span style=\"font-size: 15px\">5.7%</span>",
          "<span style=\"font-size: 15px\">12.0%</span>",
          "<span style=\"font-size: 15px\">12.4%</span>",
          "<span style=\"font-size: 15px\">10.6%</span>",
          "<span style=\"font-size: 15px\">12.2%</span>"
         ],
         "textposition": "auto",
         "type": "bar",
         "x": [
          "숲속 박물관·전시회 관람",
          "숲속 공연·음악연주회 관람",
          "숲속 문학행사 참여",
          "숲속 예술·활동 참여",
          "숲 기반 생활공예·취미활동 참여",
          "숲가꾸기 체험",
          "임산물 수확 체험",
          "동식물 관찰 및 학습",
          "산림레포츠 참여",
          "계곡레포츠 참여",
          "건강증진 활동 참여",
          "숲 탐방",
          "산림문화자산·자연명승지 탐방",
          "자연경관 감상",
          "숲속 생활 체험",
          "산림주제 게임활동",
          "산림주제 독서활동",
          "산림분야 자기계발 및 학습",
          "산림 관련 사회봉사활동"
         ],
         "y": [
          6,
          6.2,
          11.5,
          11.3,
          6.7,
          6.2,
          5.8,
          7.6,
          15.2,
          13,
          3.9,
          2.7,
          5,
          3.1,
          5.7,
          12,
          12.4,
          10.6,
          12.2
         ]
        },
        {
         "marker": {
          "color": "rgb(252,187,161)"
         },
         "name": "3점 (일반국민대상)",
         "text": [
          "<span style=\"font-size: 15px\">18.9%</span>",
          "<span style=\"font-size: 15px\">26.1%</span>",
          "<span style=\"font-size: 15px\">15.7%</span>",
          "<span style=\"font-size: 15px\">17.0%</span>",
          "<span style=\"font-size: 15px\">24.8%</span>",
          "<span style=\"font-size: 15px\">24.5%</span>",
          "<span style=\"font-size: 15px\">23.3%</span>",
          "<span style=\"font-size: 15px\">19.2%</span>",
          "<span style=\"font-size: 15px\">15.6%</span>",
          "<span style=\"font-size: 15px\">17.7%</span>",
          "<span style=\"font-size: 15px\">17.4%</span>",
          "<span style=\"font-size: 15px\">17.5%</span>",
          "<span style=\"font-size: 15px\">24.3%</span>",
          "<span style=\"font-size: 15px\">18.6%</span>",
          "<span style=\"font-size: 15px\">23.0%</span>",
          "<span style=\"font-size: 15px\">15.8%</span>",
          "<span style=\"font-size: 15px\">15.8%</span>",
          "<span style=\"font-size: 15px\">18.8%</span>",
          "<span style=\"font-size: 15px\">12.4%</span>"
         ],
         "textposition": "auto",
         "type": "bar",
         "x": [
          "숲속 박물관·전시회 관람",
          "숲속 공연·음악연주회 관람",
          "숲속 문학행사 참여",
          "숲속 예술·활동 참여",
          "숲 기반 생활공예·취미활동 참여",
          "숲가꾸기 체험",
          "임산물 수확 체험",
          "동식물 관찰 및 학습",
          "산림레포츠 참여",
          "계곡레포츠 참여",
          "건강증진 활동 참여",
          "숲 탐방",
          "산림문화자산·자연명승지 탐방",
          "자연경관 감상",
          "숲속 생활 체험",
          "산림주제 게임활동",
          "산림주제 독서활동",
          "산림분야 자기계발 및 학습",
          "산림 관련 사회봉사활동"
         ],
         "y": [
          18.9,
          26.1,
          15.7,
          17,
          24.8,
          24.5,
          23.3,
          19.2,
          15.6,
          17.7,
          17.4,
          17.5,
          24.3,
          18.6,
          23,
          15.8,
          15.8,
          18.8,
          12.4
         ]
        },
        {
         "marker": {
          "color": "rgb(252,146,114)"
         },
         "name": "4점 (일반국민대상)",
         "text": [
          "<span style=\"font-size: 15px\">28.6%</span>",
          "<span style=\"font-size: 15px\">27.2%</span>",
          "<span style=\"font-size: 15px\">27.9%</span>",
          "<span style=\"font-size: 15px\">32.2%</span>",
          "<span style=\"font-size: 15px\">25.0%</span>",
          "<span style=\"font-size: 15px\">25.2%</span>",
          "<span style=\"font-size: 15px\">29.6%</span>",
          "<span style=\"font-size: 15px\">29.9%</span>",
          "<span style=\"font-size: 15px\">28.1%</span>",
          "<span style=\"font-size: 15px\">28.6%</span>",
          "<span style=\"font-size: 15px\">37.3%</span>",
          "<span style=\"font-size: 15px\">37.7%</span>",
          "<span style=\"font-size: 15px\">29.9%</span>",
          "<span style=\"font-size: 15px\">38.8%</span>",
          "<span style=\"font-size: 15px\">28.9%</span>",
          "<span style=\"font-size: 15px\">23.9%</span>",
          "<span style=\"font-size: 15px\">27.2%</span>",
          "<span style=\"font-size: 15px\">24.5%</span>",
          "<span style=\"font-size: 15px\">31.5%</span>"
         ],
         "textposition": "auto",
         "type": "bar",
         "x": [
          "숲속 박물관·전시회 관람",
          "숲속 공연·음악연주회 관람",
          "숲속 문학행사 참여",
          "숲속 예술·활동 참여",
          "숲 기반 생활공예·취미활동 참여",
          "숲가꾸기 체험",
          "임산물 수확 체험",
          "동식물 관찰 및 학습",
          "산림레포츠 참여",
          "계곡레포츠 참여",
          "건강증진 활동 참여",
          "숲 탐방",
          "산림문화자산·자연명승지 탐방",
          "자연경관 감상",
          "숲속 생활 체험",
          "산림주제 게임활동",
          "산림주제 독서활동",
          "산림분야 자기계발 및 학습",
          "산림 관련 사회봉사활동"
         ],
         "y": [
          28.6,
          27.2,
          27.9,
          32.2,
          25,
          25.2,
          29.6,
          29.9,
          28.1,
          28.6,
          37.3,
          37.7,
          29.9,
          38.8,
          28.9,
          23.9,
          27.2,
          24.5,
          31.5
         ]
        },
        {
         "marker": {
          "color": "rgb(251,106,74)"
         },
         "name": "5점 (일반국민대상)",
         "text": [
          "<span style=\"font-size: 15px\">43.1%</span>",
          "<span style=\"font-size: 15px\">38.3%</span>",
          "<span style=\"font-size: 15px\">38.6%</span>",
          "<span style=\"font-size: 15px\">35.2%</span>",
          "<span style=\"font-size: 15px\">40.6%</span>",
          "<span style=\"font-size: 15px\">41.9%</span>",
          "<span style=\"font-size: 15px\">39.0%</span>",
          "<span style=\"font-size: 15px\">40.3%</span>",
          "<span style=\"font-size: 15px\">32.2%</span>",
          "<span style=\"font-size: 15px\">30.9%</span>",
          "<span style=\"font-size: 15px\">39.9%</span>",
          "<span style=\"font-size: 15px\">40.7%</span>",
          "<span style=\"font-size: 15px\">38.7%</span>",
          "<span style=\"font-size: 15px\">38.8%</span>",
          "<span style=\"font-size: 15px\">40.0%</span>",
          "<span style=\"font-size: 15px\">36.9%</span>",
          "<span style=\"font-size: 15px\">37.6%</span>",
          "<span style=\"font-size: 15px\">35.4%</span>",
          "<span style=\"font-size: 15px\">39.0%</span>"
         ],
         "textposition": "auto",
         "type": "bar",
         "x": [
          "숲속 박물관·전시회 관람",
          "숲속 공연·음악연주회 관람",
          "숲속 문학행사 참여",
          "숲속 예술·활동 참여",
          "숲 기반 생활공예·취미활동 참여",
          "숲가꾸기 체험",
          "임산물 수확 체험",
          "동식물 관찰 및 학습",
          "산림레포츠 참여",
          "계곡레포츠 참여",
          "건강증진 활동 참여",
          "숲 탐방",
          "산림문화자산·자연명승지 탐방",
          "자연경관 감상",
          "숲속 생활 체험",
          "산림주제 게임활동",
          "산림주제 독서활동",
          "산림분야 자기계발 및 학습",
          "산림 관련 사회봉사활동"
         ],
         "y": [
          43.1,
          38.3,
          38.6,
          35.2,
          40.6,
          41.9,
          39,
          40.3,
          32.2,
          30.9,
          39.9,
          40.7,
          38.7,
          38.8,
          40,
          36.9,
          37.6,
          35.4,
          39
         ]
        }
       ],
       "layout": {
        "barmode": "group",
        "height": 700,
        "legend": {
         "traceorder": "reversed"
        },
        "margin": {
         "b": 70,
         "l": 100,
         "r": 100,
         "t": 70
        },
        "showlegend": true,
        "template": {
         "data": {
          "bar": [
           {
            "error_x": {
             "color": "#2a3f5f"
            },
            "error_y": {
             "color": "#2a3f5f"
            },
            "marker": {
             "line": {
              "color": "#E5ECF6",
              "width": 0.5
             },
             "pattern": {
              "fillmode": "overlay",
              "size": 10,
              "solidity": 0.2
             }
            },
            "type": "bar"
           }
          ],
          "barpolar": [
           {
            "marker": {
             "line": {
              "color": "#E5ECF6",
              "width": 0.5
             },
             "pattern": {
              "fillmode": "overlay",
              "size": 10,
              "solidity": 0.2
             }
            },
            "type": "barpolar"
           }
          ],
          "carpet": [
           {
            "aaxis": {
             "endlinecolor": "#2a3f5f",
             "gridcolor": "white",
             "linecolor": "white",
             "minorgridcolor": "white",
             "startlinecolor": "#2a3f5f"
            },
            "baxis": {
             "endlinecolor": "#2a3f5f",
             "gridcolor": "white",
             "linecolor": "white",
             "minorgridcolor": "white",
             "startlinecolor": "#2a3f5f"
            },
            "type": "carpet"
           }
          ],
          "choropleth": [
           {
            "colorbar": {
             "outlinewidth": 0,
             "ticks": ""
            },
            "type": "choropleth"
           }
          ],
          "contour": [
           {
            "colorbar": {
             "outlinewidth": 0,
             "ticks": ""
            },
            "colorscale": [
             [
              0,
              "#0d0887"
             ],
             [
              0.1111111111111111,
              "#46039f"
             ],
             [
              0.2222222222222222,
              "#7201a8"
             ],
             [
              0.3333333333333333,
              "#9c179e"
             ],
             [
              0.4444444444444444,
              "#bd3786"
             ],
             [
              0.5555555555555556,
              "#d8576b"
             ],
             [
              0.6666666666666666,
              "#ed7953"
             ],
             [
              0.7777777777777778,
              "#fb9f3a"
             ],
             [
              0.8888888888888888,
              "#fdca26"
             ],
             [
              1,
              "#f0f921"
             ]
            ],
            "type": "contour"
           }
          ],
          "contourcarpet": [
           {
            "colorbar": {
             "outlinewidth": 0,
             "ticks": ""
            },
            "type": "contourcarpet"
           }
          ],
          "heatmap": [
           {
            "colorbar": {
             "outlinewidth": 0,
             "ticks": ""
            },
            "colorscale": [
             [
              0,
              "#0d0887"
             ],
             [
              0.1111111111111111,
              "#46039f"
             ],
             [
              0.2222222222222222,
              "#7201a8"
             ],
             [
              0.3333333333333333,
              "#9c179e"
             ],
             [
              0.4444444444444444,
              "#bd3786"
             ],
             [
              0.5555555555555556,
              "#d8576b"
             ],
             [
              0.6666666666666666,
              "#ed7953"
             ],
             [
              0.7777777777777778,
              "#fb9f3a"
             ],
             [
              0.8888888888888888,
              "#fdca26"
             ],
             [
              1,
              "#f0f921"
             ]
            ],
            "type": "heatmap"
           }
          ],
          "heatmapgl": [
           {
            "colorbar": {
             "outlinewidth": 0,
             "ticks": ""
            },
            "colorscale": [
             [
              0,
              "#0d0887"
             ],
             [
              0.1111111111111111,
              "#46039f"
             ],
             [
              0.2222222222222222,
              "#7201a8"
             ],
             [
              0.3333333333333333,
              "#9c179e"
             ],
             [
              0.4444444444444444,
              "#bd3786"
             ],
             [
              0.5555555555555556,
              "#d8576b"
             ],
             [
              0.6666666666666666,
              "#ed7953"
             ],
             [
              0.7777777777777778,
              "#fb9f3a"
             ],
             [
              0.8888888888888888,
              "#fdca26"
             ],
             [
              1,
              "#f0f921"
             ]
            ],
            "type": "heatmapgl"
           }
          ],
          "histogram": [
           {
            "marker": {
             "pattern": {
              "fillmode": "overlay",
              "size": 10,
              "solidity": 0.2
             }
            },
            "type": "histogram"
           }
          ],
          "histogram2d": [
           {
            "colorbar": {
             "outlinewidth": 0,
             "ticks": ""
            },
            "colorscale": [
             [
              0,
              "#0d0887"
             ],
             [
              0.1111111111111111,
              "#46039f"
             ],
             [
              0.2222222222222222,
              "#7201a8"
             ],
             [
              0.3333333333333333,
              "#9c179e"
             ],
             [
              0.4444444444444444,
              "#bd3786"
             ],
             [
              0.5555555555555556,
              "#d8576b"
             ],
             [
              0.6666666666666666,
              "#ed7953"
             ],
             [
              0.7777777777777778,
              "#fb9f3a"
             ],
             [
              0.8888888888888888,
              "#fdca26"
             ],
             [
              1,
              "#f0f921"
             ]
            ],
            "type": "histogram2d"
           }
          ],
          "histogram2dcontour": [
           {
            "colorbar": {
             "outlinewidth": 0,
             "ticks": ""
            },
            "colorscale": [
             [
              0,
              "#0d0887"
             ],
             [
              0.1111111111111111,
              "#46039f"
             ],
             [
              0.2222222222222222,
              "#7201a8"
             ],
             [
              0.3333333333333333,
              "#9c179e"
             ],
             [
              0.4444444444444444,
              "#bd3786"
             ],
             [
              0.5555555555555556,
              "#d8576b"
             ],
             [
              0.6666666666666666,
              "#ed7953"
             ],
             [
              0.7777777777777778,
              "#fb9f3a"
             ],
             [
              0.8888888888888888,
              "#fdca26"
             ],
             [
              1,
              "#f0f921"
             ]
            ],
            "type": "histogram2dcontour"
           }
          ],
          "mesh3d": [
           {
            "colorbar": {
             "outlinewidth": 0,
             "ticks": ""
            },
            "type": "mesh3d"
           }
          ],
          "parcoords": [
           {
            "line": {
             "colorbar": {
              "outlinewidth": 0,
              "ticks": ""
             }
            },
            "type": "parcoords"
           }
          ],
          "pie": [
           {
            "automargin": true,
            "type": "pie"
           }
          ],
          "scatter": [
           {
            "fillpattern": {
             "fillmode": "overlay",
             "size": 10,
             "solidity": 0.2
            },
            "type": "scatter"
           }
          ],
          "scatter3d": [
           {
            "line": {
             "colorbar": {
              "outlinewidth": 0,
              "ticks": ""
             }
            },
            "marker": {
             "colorbar": {
              "outlinewidth": 0,
              "ticks": ""
             }
            },
            "type": "scatter3d"
           }
          ],
          "scattercarpet": [
           {
            "marker": {
             "colorbar": {
              "outlinewidth": 0,
              "ticks": ""
             }
            },
            "type": "scattercarpet"
           }
          ],
          "scattergeo": [
           {
            "marker": {
             "colorbar": {
              "outlinewidth": 0,
              "ticks": ""
             }
            },
            "type": "scattergeo"
           }
          ],
          "scattergl": [
           {
            "marker": {
             "colorbar": {
              "outlinewidth": 0,
              "ticks": ""
             }
            },
            "type": "scattergl"
           }
          ],
          "scattermapbox": [
           {
            "marker": {
             "colorbar": {
              "outlinewidth": 0,
              "ticks": ""
             }
            },
            "type": "scattermapbox"
           }
          ],
          "scatterpolar": [
           {
            "marker": {
             "colorbar": {
              "outlinewidth": 0,
              "ticks": ""
             }
            },
            "type": "scatterpolar"
           }
          ],
          "scatterpolargl": [
           {
            "marker": {
             "colorbar": {
              "outlinewidth": 0,
              "ticks": ""
             }
            },
            "type": "scatterpolargl"
           }
          ],
          "scatterternary": [
           {
            "marker": {
             "colorbar": {
              "outlinewidth": 0,
              "ticks": ""
             }
            },
            "type": "scatterternary"
           }
          ],
          "surface": [
           {
            "colorbar": {
             "outlinewidth": 0,
             "ticks": ""
            },
            "colorscale": [
             [
              0,
              "#0d0887"
             ],
             [
              0.1111111111111111,
              "#46039f"
             ],
             [
              0.2222222222222222,
              "#7201a8"
             ],
             [
              0.3333333333333333,
              "#9c179e"
             ],
             [
              0.4444444444444444,
              "#bd3786"
             ],
             [
              0.5555555555555556,
              "#d8576b"
             ],
             [
              0.6666666666666666,
              "#ed7953"
             ],
             [
              0.7777777777777778,
              "#fb9f3a"
             ],
             [
              0.8888888888888888,
              "#fdca26"
             ],
             [
              1,
              "#f0f921"
             ]
            ],
            "type": "surface"
           }
          ],
          "table": [
           {
            "cells": {
             "fill": {
              "color": "#EBF0F8"
             },
             "line": {
              "color": "white"
             }
            },
            "header": {
             "fill": {
              "color": "#C8D4E3"
             },
             "line": {
              "color": "white"
             }
            },
            "type": "table"
           }
          ]
         },
         "layout": {
          "annotationdefaults": {
           "arrowcolor": "#2a3f5f",
           "arrowhead": 0,
           "arrowwidth": 1
          },
          "autotypenumbers": "strict",
          "coloraxis": {
           "colorbar": {
            "outlinewidth": 0,
            "ticks": ""
           }
          },
          "colorscale": {
           "diverging": [
            [
             0,
             "#8e0152"
            ],
            [
             0.1,
             "#c51b7d"
            ],
            [
             0.2,
             "#de77ae"
            ],
            [
             0.3,
             "#f1b6da"
            ],
            [
             0.4,
             "#fde0ef"
            ],
            [
             0.5,
             "#f7f7f7"
            ],
            [
             0.6,
             "#e6f5d0"
            ],
            [
             0.7,
             "#b8e186"
            ],
            [
             0.8,
             "#7fbc41"
            ],
            [
             0.9,
             "#4d9221"
            ],
            [
             1,
             "#276419"
            ]
           ],
           "sequential": [
            [
             0,
             "#0d0887"
            ],
            [
             0.1111111111111111,
             "#46039f"
            ],
            [
             0.2222222222222222,
             "#7201a8"
            ],
            [
             0.3333333333333333,
             "#9c179e"
            ],
            [
             0.4444444444444444,
             "#bd3786"
            ],
            [
             0.5555555555555556,
             "#d8576b"
            ],
            [
             0.6666666666666666,
             "#ed7953"
            ],
            [
             0.7777777777777778,
             "#fb9f3a"
            ],
            [
             0.8888888888888888,
             "#fdca26"
            ],
            [
             1,
             "#f0f921"
            ]
           ],
           "sequentialminus": [
            [
             0,
             "#0d0887"
            ],
            [
             0.1111111111111111,
             "#46039f"
            ],
            [
             0.2222222222222222,
             "#7201a8"
            ],
            [
             0.3333333333333333,
             "#9c179e"
            ],
            [
             0.4444444444444444,
             "#bd3786"
            ],
            [
             0.5555555555555556,
             "#d8576b"
            ],
            [
             0.6666666666666666,
             "#ed7953"
            ],
            [
             0.7777777777777778,
             "#fb9f3a"
            ],
            [
             0.8888888888888888,
             "#fdca26"
            ],
            [
             1,
             "#f0f921"
            ]
           ]
          },
          "colorway": [
           "#636efa",
           "#EF553B",
           "#00cc96",
           "#ab63fa",
           "#FFA15A",
           "#19d3f3",
           "#FF6692",
           "#B6E880",
           "#FF97FF",
           "#FECB52"
          ],
          "font": {
           "color": "#2a3f5f"
          },
          "geo": {
           "bgcolor": "white",
           "lakecolor": "white",
           "landcolor": "#E5ECF6",
           "showlakes": true,
           "showland": true,
           "subunitcolor": "white"
          },
          "hoverlabel": {
           "align": "left"
          },
          "hovermode": "closest",
          "mapbox": {
           "style": "light"
          },
          "paper_bgcolor": "white",
          "plot_bgcolor": "#E5ECF6",
          "polar": {
           "angularaxis": {
            "gridcolor": "white",
            "linecolor": "white",
            "ticks": ""
           },
           "bgcolor": "#E5ECF6",
           "radialaxis": {
            "gridcolor": "white",
            "linecolor": "white",
            "ticks": ""
           }
          },
          "scene": {
           "xaxis": {
            "backgroundcolor": "#E5ECF6",
            "gridcolor": "white",
            "gridwidth": 2,
            "linecolor": "white",
            "showbackground": true,
            "ticks": "",
            "zerolinecolor": "white"
           },
           "yaxis": {
            "backgroundcolor": "#E5ECF6",
            "gridcolor": "white",
            "gridwidth": 2,
            "linecolor": "white",
            "showbackground": true,
            "ticks": "",
            "zerolinecolor": "white"
           },
           "zaxis": {
            "backgroundcolor": "#E5ECF6",
            "gridcolor": "white",
            "gridwidth": 2,
            "linecolor": "white",
            "showbackground": true,
            "ticks": "",
            "zerolinecolor": "white"
           }
          },
          "shapedefaults": {
           "line": {
            "color": "#2a3f5f"
           }
          },
          "ternary": {
           "aaxis": {
            "gridcolor": "white",
            "linecolor": "white",
            "ticks": ""
           },
           "baxis": {
            "gridcolor": "white",
            "linecolor": "white",
            "ticks": ""
           },
           "bgcolor": "#E5ECF6",
           "caxis": {
            "gridcolor": "white",
            "linecolor": "white",
            "ticks": ""
           }
          },
          "title": {
           "x": 0.05
          },
          "xaxis": {
           "automargin": true,
           "gridcolor": "white",
           "linecolor": "white",
           "ticks": "",
           "title": {
            "standoff": 15
           },
           "zerolinecolor": "white",
           "zerolinewidth": 2
          },
          "yaxis": {
           "automargin": true,
           "gridcolor": "white",
           "linecolor": "white",
           "ticks": "",
           "title": {
            "standoff": 15
           },
           "zerolinecolor": "white",
           "zerolinewidth": 2
          }
         }
        },
        "title": {
         "text": "산림문화의 추구 가치 비교"
        },
        "width": 1400,
        "xaxis": {
         "tickangle": 60,
         "title": {
          "text": "<span style='font-size: 15px'>설문</span>"
         }
        },
        "yaxis": {
         "title": {
          "text": "<span style='font-size: 15px'>비율(%)</span>"
         }
        }
       }
      }
     },
     "metadata": {},
     "output_type": "display_data"
    }
   ],
   "source": [
    "import plotly.colors as pc\n",
    "\n",
    "# 컬러맵을 리스트로 불러오기\n",
    "blues_color_map = pc.sequential.Blues\n",
    "reds_color_map = pc.sequential.Reds\n",
    "\n",
    "# 누적 막대그래프 시각화\n",
    "fig = go.Figure()\n",
    "\n",
    "# 막대 그래프 추가 (expo_5_num_df 데이터 사용)\n",
    "for i in range(1, 6):\n",
    "    text_labels = [f'<span style=\"font-size: 15px !important;\">{val:.1f}%</span>' for val in expo_5_num_df[f'{i}_비율']]\n",
    "    fig.add_trace(go.Bar(x=expo_5_num_df['설문'], y=expo_5_num_df[f'{i}_비율'], text=text_labels,\n",
    "                         name=f'{i}점 (산림엑스포)', textposition='auto', marker=dict(color=blues_color_map[i-1])))\n",
    "\n",
    "# 두 번째 막대 그래프 추가 (common_5_num_df 데이터 사용) - 겹치게 표시\n",
    "for i in range(1, 6):\n",
    "    text_labels = [f'<span style=\"font-size: 15px\">{val:.1f}%</span>' for val in common_5_num_df[f'{i}_비율']]\n",
    "    fig.add_trace(go.Bar(x=common_5_num_df['설문'], y=common_5_num_df[f'{i}_비율'], text=text_labels,\n",
    "                         name=f'{i}점 (일반국민대상)', textposition='auto', marker=dict(color=reds_color_map[i-1])))\n",
    "\n",
    "# 그래프 레이아웃 설정\n",
    "fig.update_layout(title=\"산림문화의 추구 가치 비교\", xaxis_title=\"<span style='font-size: 15px'>설문</span>\", yaxis_title=\"<span style='font-size: 15px'>비율(%)</span>\",\n",
    "                  barmode='group', showlegend=True)\n",
    "\n",
    "# 범례 텍스트 수정\n",
    "fig.update_layout(legend=dict(traceorder=\"reversed\"))\n",
    "\n",
    "# 그래프 높이와 너비 조정\n",
    "fig.update_layout(height=700, width=1400)\n",
    "\n",
    "# 여백 (margin) 조정\n",
    "fig.update_layout(margin=dict(l=100, r=100, b=70, t=70))\n",
    "\n",
    "fig.update_xaxes(tickangle=60)\n",
    "\n",
    "fig.show()\n"
   ]
  },
  {
   "cell_type": "code",
   "execution_count": 48,
   "metadata": {},
   "outputs": [
    {
     "data": {
      "application/vnd.plotly.v1+json": {
       "config": {
        "plotlyServerURL": "https://plot.ly"
       },
       "data": [
        {
         "marker": {
          "color": "rgb(247,251,255)"
         },
         "name": "1점 (산림엑스포)",
         "text": [
          "<span style=\"font-size: 14px !important;\">1.9%</span>",
          "<span style=\"font-size: 14px !important;\">2.9%</span>",
          "<span style=\"font-size: 14px !important;\">3.8%</span>",
          "<span style=\"font-size: 14px !important;\">1.9%</span>",
          "<span style=\"font-size: 14px !important;\">0.0%</span>",
          "<span style=\"font-size: 14px !important;\">1.0%</span>",
          "<span style=\"font-size: 14px !important;\">3.8%</span>",
          "<span style=\"font-size: 14px !important;\">1.9%</span>",
          "<span style=\"font-size: 14px !important;\">4.8%</span>",
          "<span style=\"font-size: 14px !important;\">4.8%</span>",
          "<span style=\"font-size: 14px !important;\">4.8%</span>",
          "<span style=\"font-size: 14px !important;\">1.0%</span>",
          "<span style=\"font-size: 14px !important;\">1.9%</span>",
          "<span style=\"font-size: 14px !important;\">0.0%</span>",
          "<span style=\"font-size: 14px !important;\">1.9%</span>",
          "<span style=\"font-size: 14px !important;\">4.8%</span>",
          "<span style=\"font-size: 14px !important;\">8.6%</span>",
          "<span style=\"font-size: 14px !important;\">3.8%</span>",
          "<span style=\"font-size: 14px !important;\">8.6%</span>"
         ],
         "textposition": "auto",
         "type": "bar",
         "x": [
          "숲속 박물관·전시회 관람",
          "숲속 공연·음악연주회 관람",
          "숲속 문학행사 참여",
          "숲속 예술·활동 참여",
          "숲 기반 생활공예·취미활동 참여",
          "숲가꾸기 체험",
          "임산물 수확 체험",
          "동식물 관찰 및 학습",
          "산림레포츠 참여",
          "계곡레포츠 참여",
          "건강증진 활동 참여",
          "숲 탐방",
          "산림문화자산·자연명승지 탐방",
          "자연경관 감상",
          "숲속 생활 체험",
          "산림주제 게임활동",
          "산림주제 독서활동",
          "산림분야 자기계발 및 학습",
          "산림 관련 사회봉사활동"
         ],
         "y": [
          1.9,
          2.9,
          3.8,
          1.9,
          0,
          1,
          3.8,
          1.9,
          4.8,
          4.8,
          4.8,
          1,
          1.9,
          0,
          1.9,
          4.8,
          8.6,
          3.8,
          8.6
         ]
        },
        {
         "marker": {
          "color": "rgb(222,235,247)"
         },
         "name": "2점 (산림엑스포)",
         "text": [
          "<span style=\"font-size: 14px !important;\">4.8%</span>",
          "<span style=\"font-size: 14px !important;\">16.2%</span>",
          "<span style=\"font-size: 14px !important;\">16.2%</span>",
          "<span style=\"font-size: 14px !important;\">10.5%</span>",
          "<span style=\"font-size: 14px !important;\">6.7%</span>",
          "<span style=\"font-size: 14px !important;\">6.7%</span>",
          "<span style=\"font-size: 14px !important;\">11.4%</span>",
          "<span style=\"font-size: 14px !important;\">7.6%</span>",
          "<span style=\"font-size: 14px !important;\">16.2%</span>",
          "<span style=\"font-size: 14px !important;\">15.2%</span>",
          "<span style=\"font-size: 14px !important;\">7.6%</span>",
          "<span style=\"font-size: 14px !important;\">7.6%</span>",
          "<span style=\"font-size: 14px !important;\">6.7%</span>",
          "<span style=\"font-size: 14px !important;\">3.8%</span>",
          "<span style=\"font-size: 14px !important;\">3.8%</span>",
          "<span style=\"font-size: 14px !important;\">12.4%</span>",
          "<span style=\"font-size: 14px !important;\">15.2%</span>",
          "<span style=\"font-size: 14px !important;\">9.5%</span>",
          "<span style=\"font-size: 14px !important;\">9.5%</span>"
         ],
         "textposition": "auto",
         "type": "bar",
         "x": [
          "숲속 박물관·전시회 관람",
          "숲속 공연·음악연주회 관람",
          "숲속 문학행사 참여",
          "숲속 예술·활동 참여",
          "숲 기반 생활공예·취미활동 참여",
          "숲가꾸기 체험",
          "임산물 수확 체험",
          "동식물 관찰 및 학습",
          "산림레포츠 참여",
          "계곡레포츠 참여",
          "건강증진 활동 참여",
          "숲 탐방",
          "산림문화자산·자연명승지 탐방",
          "자연경관 감상",
          "숲속 생활 체험",
          "산림주제 게임활동",
          "산림주제 독서활동",
          "산림분야 자기계발 및 학습",
          "산림 관련 사회봉사활동"
         ],
         "y": [
          4.8,
          16.2,
          16.2,
          10.5,
          6.7,
          6.7,
          11.4,
          7.6,
          16.2,
          15.2,
          7.6,
          7.6,
          6.7,
          3.8,
          3.8,
          12.4,
          15.2,
          9.5,
          9.5
         ]
        },
        {
         "marker": {
          "color": "rgb(198,219,239)"
         },
         "name": "3점 (산림엑스포)",
         "text": [
          "<span style=\"font-size: 14px !important;\">18.1%</span>",
          "<span style=\"font-size: 14px !important;\">16.2%</span>",
          "<span style=\"font-size: 14px !important;\">22.9%</span>",
          "<span style=\"font-size: 14px !important;\">25.7%</span>",
          "<span style=\"font-size: 14px !important;\">20.0%</span>",
          "<span style=\"font-size: 14px !important;\">23.8%</span>",
          "<span style=\"font-size: 14px !important;\">15.2%</span>",
          "<span style=\"font-size: 14px !important;\">28.6%</span>",
          "<span style=\"font-size: 14px !important;\">21.9%</span>",
          "<span style=\"font-size: 14px !important;\">19.0%</span>",
          "<span style=\"font-size: 14px !important;\">16.2%</span>",
          "<span style=\"font-size: 14px !important;\">21.0%</span>",
          "<span style=\"font-size: 14px !important;\">21.9%</span>",
          "<span style=\"font-size: 14px !important;\">13.3%</span>",
          "<span style=\"font-size: 14px !important;\">18.1%</span>",
          "<span style=\"font-size: 14px !important;\">22.9%</span>",
          "<span style=\"font-size: 14px !important;\">19.0%</span>",
          "<span style=\"font-size: 14px !important;\">21.0%</span>",
          "<span style=\"font-size: 14px !important;\">23.8%</span>"
         ],
         "textposition": "auto",
         "type": "bar",
         "x": [
          "숲속 박물관·전시회 관람",
          "숲속 공연·음악연주회 관람",
          "숲속 문학행사 참여",
          "숲속 예술·활동 참여",
          "숲 기반 생활공예·취미활동 참여",
          "숲가꾸기 체험",
          "임산물 수확 체험",
          "동식물 관찰 및 학습",
          "산림레포츠 참여",
          "계곡레포츠 참여",
          "건강증진 활동 참여",
          "숲 탐방",
          "산림문화자산·자연명승지 탐방",
          "자연경관 감상",
          "숲속 생활 체험",
          "산림주제 게임활동",
          "산림주제 독서활동",
          "산림분야 자기계발 및 학습",
          "산림 관련 사회봉사활동"
         ],
         "y": [
          18.1,
          16.2,
          22.9,
          25.7,
          20,
          23.8,
          15.2,
          28.6,
          21.9,
          19,
          16.2,
          21,
          21.9,
          13.3,
          18.1,
          22.9,
          19,
          21,
          23.8
         ]
        },
        {
         "marker": {
          "color": "rgb(158,202,225)"
         },
         "name": "4점 (산림엑스포)",
         "text": [
          "<span style=\"font-size: 14px !important;\">35.2%</span>",
          "<span style=\"font-size: 14px !important;\">27.6%</span>",
          "<span style=\"font-size: 14px !important;\">25.7%</span>",
          "<span style=\"font-size: 14px !important;\">27.6%</span>",
          "<span style=\"font-size: 14px !important;\">30.5%</span>",
          "<span style=\"font-size: 14px !important;\">29.5%</span>",
          "<span style=\"font-size: 14px !important;\">28.6%</span>",
          "<span style=\"font-size: 14px !important;\">30.5%</span>",
          "<span style=\"font-size: 14px !important;\">26.7%</span>",
          "<span style=\"font-size: 14px !important;\">28.6%</span>",
          "<span style=\"font-size: 14px !important;\">26.7%</span>",
          "<span style=\"font-size: 14px !important;\">30.5%</span>",
          "<span style=\"font-size: 14px !important;\">33.3%</span>",
          "<span style=\"font-size: 14px !important;\">32.4%</span>",
          "<span style=\"font-size: 14px !important;\">26.7%</span>",
          "<span style=\"font-size: 14px !important;\">23.8%</span>",
          "<span style=\"font-size: 14px !important;\">27.6%</span>",
          "<span style=\"font-size: 14px !important;\">30.5%</span>",
          "<span style=\"font-size: 14px !important;\">28.6%</span>"
         ],
         "textposition": "auto",
         "type": "bar",
         "x": [
          "숲속 박물관·전시회 관람",
          "숲속 공연·음악연주회 관람",
          "숲속 문학행사 참여",
          "숲속 예술·활동 참여",
          "숲 기반 생활공예·취미활동 참여",
          "숲가꾸기 체험",
          "임산물 수확 체험",
          "동식물 관찰 및 학습",
          "산림레포츠 참여",
          "계곡레포츠 참여",
          "건강증진 활동 참여",
          "숲 탐방",
          "산림문화자산·자연명승지 탐방",
          "자연경관 감상",
          "숲속 생활 체험",
          "산림주제 게임활동",
          "산림주제 독서활동",
          "산림분야 자기계발 및 학습",
          "산림 관련 사회봉사활동"
         ],
         "y": [
          35.2,
          27.6,
          25.7,
          27.6,
          30.5,
          29.5,
          28.6,
          30.5,
          26.7,
          28.6,
          26.7,
          30.5,
          33.3,
          32.4,
          26.7,
          23.8,
          27.6,
          30.5,
          28.6
         ]
        },
        {
         "marker": {
          "color": "rgb(107,174,214)"
         },
         "name": "5점 (산림엑스포)",
         "text": [
          "<span style=\"font-size: 14px !important;\">40.0%</span>",
          "<span style=\"font-size: 14px !important;\">37.1%</span>",
          "<span style=\"font-size: 14px !important;\">31.4%</span>",
          "<span style=\"font-size: 14px !important;\">34.3%</span>",
          "<span style=\"font-size: 14px !important;\">42.9%</span>",
          "<span style=\"font-size: 14px !important;\">39.0%</span>",
          "<span style=\"font-size: 14px !important;\">41.0%</span>",
          "<span style=\"font-size: 14px !important;\">31.4%</span>",
          "<span style=\"font-size: 14px !important;\">30.5%</span>",
          "<span style=\"font-size: 14px !important;\">32.4%</span>",
          "<span style=\"font-size: 14px !important;\">44.8%</span>",
          "<span style=\"font-size: 14px !important;\">40.0%</span>",
          "<span style=\"font-size: 14px !important;\">36.2%</span>",
          "<span style=\"font-size: 14px !important;\">50.5%</span>",
          "<span style=\"font-size: 14px !important;\">49.5%</span>",
          "<span style=\"font-size: 14px !important;\">36.2%</span>",
          "<span style=\"font-size: 14px !important;\">29.5%</span>",
          "<span style=\"font-size: 14px !important;\">35.2%</span>",
          "<span style=\"font-size: 14px !important;\">29.5%</span>"
         ],
         "textposition": "auto",
         "type": "bar",
         "x": [
          "숲속 박물관·전시회 관람",
          "숲속 공연·음악연주회 관람",
          "숲속 문학행사 참여",
          "숲속 예술·활동 참여",
          "숲 기반 생활공예·취미활동 참여",
          "숲가꾸기 체험",
          "임산물 수확 체험",
          "동식물 관찰 및 학습",
          "산림레포츠 참여",
          "계곡레포츠 참여",
          "건강증진 활동 참여",
          "숲 탐방",
          "산림문화자산·자연명승지 탐방",
          "자연경관 감상",
          "숲속 생활 체험",
          "산림주제 게임활동",
          "산림주제 독서활동",
          "산림분야 자기계발 및 학습",
          "산림 관련 사회봉사활동"
         ],
         "y": [
          40,
          37.1,
          31.4,
          34.3,
          42.9,
          39,
          41,
          31.4,
          30.5,
          32.4,
          44.8,
          40,
          36.2,
          50.5,
          49.5,
          36.2,
          29.5,
          35.2,
          29.5
         ]
        },
        {
         "marker": {
          "color": "rgb(255,245,240)"
         },
         "name": "1점 (다른 데이터)",
         "text": [
          "<span style=\"font-size: 14px !important;\">3.4%</span>",
          "<span style=\"font-size: 14px !important;\">2.2%</span>",
          "<span style=\"font-size: 14px !important;\">6.2%</span>",
          "<span style=\"font-size: 14px !important;\">4.3%</span>",
          "<span style=\"font-size: 14px !important;\">3.0%</span>",
          "<span style=\"font-size: 14px !important;\">2.2%</span>",
          "<span style=\"font-size: 14px !important;\">2.3%</span>",
          "<span style=\"font-size: 14px !important;\">3.1%</span>",
          "<span style=\"font-size: 14px !important;\">8.9%</span>",
          "<span style=\"font-size: 14px !important;\">9.8%</span>",
          "<span style=\"font-size: 14px !important;\">1.5%</span>",
          "<span style=\"font-size: 14px !important;\">1.4%</span>",
          "<span style=\"font-size: 14px !important;\">2.1%</span>",
          "<span style=\"font-size: 14px !important;\">0.8%</span>",
          "<span style=\"font-size: 14px !important;\">2.4%</span>",
          "<span style=\"font-size: 14px !important;\">11.3%</span>",
          "<span style=\"font-size: 14px !important;\">7.0%</span>",
          "<span style=\"font-size: 14px !important;\">10.6%</span>",
          "<span style=\"font-size: 14px !important;\">4.9%</span>"
         ],
         "textposition": "auto",
         "type": "bar",
         "x": [
          "숲속 박물관·전시회 관람",
          "숲속 공연·음악연주회 관람",
          "숲속 문학행사 참여",
          "숲속 예술·활동 참여",
          "숲 기반 생활공예·취미활동 참여",
          "숲가꾸기 체험",
          "임산물 수확 체험",
          "동식물 관찰 및 학습",
          "산림레포츠 참여",
          "계곡레포츠 참여",
          "건강증진 활동 참여",
          "숲 탐방",
          "산림문화자산·자연명승지 탐방",
          "자연경관 감상",
          "숲속 생활 체험",
          "산림주제 게임활동",
          "산림주제 독서활동",
          "산림분야 자기계발 및 학습",
          "산림 관련 사회봉사활동"
         ],
         "y": [
          3.4,
          2.2,
          6.2,
          4.3,
          3,
          2.2,
          2.3,
          3.1,
          8.9,
          9.8,
          1.5,
          1.4,
          2.1,
          0.8,
          2.4,
          11.3,
          7,
          10.6,
          4.9
         ]
        },
        {
         "marker": {
          "color": "rgb(254,224,210)"
         },
         "name": "2점 (다른 데이터)",
         "text": [
          "<span style=\"font-size: 14px !important;\">6.0%</span>",
          "<span style=\"font-size: 14px !important;\">6.2%</span>",
          "<span style=\"font-size: 14px !important;\">11.5%</span>",
          "<span style=\"font-size: 14px !important;\">11.3%</span>",
          "<span style=\"font-size: 14px !important;\">6.7%</span>",
          "<span style=\"font-size: 14px !important;\">6.2%</span>",
          "<span style=\"font-size: 14px !important;\">5.8%</span>",
          "<span style=\"font-size: 14px !important;\">7.6%</span>",
          "<span style=\"font-size: 14px !important;\">15.2%</span>",
          "<span style=\"font-size: 14px !important;\">13.0%</span>",
          "<span style=\"font-size: 14px !important;\">3.9%</span>",
          "<span style=\"font-size: 14px !important;\">2.7%</span>",
          "<span style=\"font-size: 14px !important;\">5.0%</span>",
          "<span style=\"font-size: 14px !important;\">3.1%</span>",
          "<span style=\"font-size: 14px !important;\">5.7%</span>",
          "<span style=\"font-size: 14px !important;\">12.0%</span>",
          "<span style=\"font-size: 14px !important;\">12.4%</span>",
          "<span style=\"font-size: 14px !important;\">10.6%</span>",
          "<span style=\"font-size: 14px !important;\">12.2%</span>"
         ],
         "textposition": "auto",
         "type": "bar",
         "x": [
          "숲속 박물관·전시회 관람",
          "숲속 공연·음악연주회 관람",
          "숲속 문학행사 참여",
          "숲속 예술·활동 참여",
          "숲 기반 생활공예·취미활동 참여",
          "숲가꾸기 체험",
          "임산물 수확 체험",
          "동식물 관찰 및 학습",
          "산림레포츠 참여",
          "계곡레포츠 참여",
          "건강증진 활동 참여",
          "숲 탐방",
          "산림문화자산·자연명승지 탐방",
          "자연경관 감상",
          "숲속 생활 체험",
          "산림주제 게임활동",
          "산림주제 독서활동",
          "산림분야 자기계발 및 학습",
          "산림 관련 사회봉사활동"
         ],
         "y": [
          6,
          6.2,
          11.5,
          11.3,
          6.7,
          6.2,
          5.8,
          7.6,
          15.2,
          13,
          3.9,
          2.7,
          5,
          3.1,
          5.7,
          12,
          12.4,
          10.6,
          12.2
         ]
        },
        {
         "marker": {
          "color": "rgb(252,187,161)"
         },
         "name": "3점 (다른 데이터)",
         "text": [
          "<span style=\"font-size: 14px !important;\">18.9%</span>",
          "<span style=\"font-size: 14px !important;\">26.1%</span>",
          "<span style=\"font-size: 14px !important;\">15.7%</span>",
          "<span style=\"font-size: 14px !important;\">17.0%</span>",
          "<span style=\"font-size: 14px !important;\">24.8%</span>",
          "<span style=\"font-size: 14px !important;\">24.5%</span>",
          "<span style=\"font-size: 14px !important;\">23.3%</span>",
          "<span style=\"font-size: 14px !important;\">19.2%</span>",
          "<span style=\"font-size: 14px !important;\">15.6%</span>",
          "<span style=\"font-size: 14px !important;\">17.7%</span>",
          "<span style=\"font-size: 14px !important;\">17.4%</span>",
          "<span style=\"font-size: 14px !important;\">17.5%</span>",
          "<span style=\"font-size: 14px !important;\">24.3%</span>",
          "<span style=\"font-size: 14px !important;\">18.6%</span>",
          "<span style=\"font-size: 14px !important;\">23.0%</span>",
          "<span style=\"font-size: 14px !important;\">15.8%</span>",
          "<span style=\"font-size: 14px !important;\">15.8%</span>",
          "<span style=\"font-size: 14px !important;\">18.8%</span>",
          "<span style=\"font-size: 14px !important;\">12.4%</span>"
         ],
         "textposition": "auto",
         "type": "bar",
         "x": [
          "숲속 박물관·전시회 관람",
          "숲속 공연·음악연주회 관람",
          "숲속 문학행사 참여",
          "숲속 예술·활동 참여",
          "숲 기반 생활공예·취미활동 참여",
          "숲가꾸기 체험",
          "임산물 수확 체험",
          "동식물 관찰 및 학습",
          "산림레포츠 참여",
          "계곡레포츠 참여",
          "건강증진 활동 참여",
          "숲 탐방",
          "산림문화자산·자연명승지 탐방",
          "자연경관 감상",
          "숲속 생활 체험",
          "산림주제 게임활동",
          "산림주제 독서활동",
          "산림분야 자기계발 및 학습",
          "산림 관련 사회봉사활동"
         ],
         "y": [
          18.9,
          26.1,
          15.7,
          17,
          24.8,
          24.5,
          23.3,
          19.2,
          15.6,
          17.7,
          17.4,
          17.5,
          24.3,
          18.6,
          23,
          15.8,
          15.8,
          18.8,
          12.4
         ]
        },
        {
         "marker": {
          "color": "rgb(252,146,114)"
         },
         "name": "4점 (다른 데이터)",
         "text": [
          "<span style=\"font-size: 14px !important;\">28.6%</span>",
          "<span style=\"font-size: 14px !important;\">27.2%</span>",
          "<span style=\"font-size: 14px !important;\">27.9%</span>",
          "<span style=\"font-size: 14px !important;\">32.2%</span>",
          "<span style=\"font-size: 14px !important;\">25.0%</span>",
          "<span style=\"font-size: 14px !important;\">25.2%</span>",
          "<span style=\"font-size: 14px !important;\">29.6%</span>",
          "<span style=\"font-size: 14px !important;\">29.9%</span>",
          "<span style=\"font-size: 14px !important;\">28.1%</span>",
          "<span style=\"font-size: 14px !important;\">28.6%</span>",
          "<span style=\"font-size: 14px !important;\">37.3%</span>",
          "<span style=\"font-size: 14px !important;\">37.7%</span>",
          "<span style=\"font-size: 14px !important;\">29.9%</span>",
          "<span style=\"font-size: 14px !important;\">38.8%</span>",
          "<span style=\"font-size: 14px !important;\">28.9%</span>",
          "<span style=\"font-size: 14px !important;\">23.9%</span>",
          "<span style=\"font-size: 14px !important;\">27.2%</span>",
          "<span style=\"font-size: 14px !important;\">24.5%</span>",
          "<span style=\"font-size: 14px !important;\">31.5%</span>"
         ],
         "textposition": "auto",
         "type": "bar",
         "x": [
          "숲속 박물관·전시회 관람",
          "숲속 공연·음악연주회 관람",
          "숲속 문학행사 참여",
          "숲속 예술·활동 참여",
          "숲 기반 생활공예·취미활동 참여",
          "숲가꾸기 체험",
          "임산물 수확 체험",
          "동식물 관찰 및 학습",
          "산림레포츠 참여",
          "계곡레포츠 참여",
          "건강증진 활동 참여",
          "숲 탐방",
          "산림문화자산·자연명승지 탐방",
          "자연경관 감상",
          "숲속 생활 체험",
          "산림주제 게임활동",
          "산림주제 독서활동",
          "산림분야 자기계발 및 학습",
          "산림 관련 사회봉사활동"
         ],
         "y": [
          28.6,
          27.2,
          27.9,
          32.2,
          25,
          25.2,
          29.6,
          29.9,
          28.1,
          28.6,
          37.3,
          37.7,
          29.9,
          38.8,
          28.9,
          23.9,
          27.2,
          24.5,
          31.5
         ]
        },
        {
         "marker": {
          "color": "rgb(251,106,74)"
         },
         "name": "5점 (다른 데이터)",
         "text": [
          "<span style=\"font-size: 14px !important;\">43.1%</span>",
          "<span style=\"font-size: 14px !important;\">38.3%</span>",
          "<span style=\"font-size: 14px !important;\">38.6%</span>",
          "<span style=\"font-size: 14px !important;\">35.2%</span>",
          "<span style=\"font-size: 14px !important;\">40.6%</span>",
          "<span style=\"font-size: 14px !important;\">41.9%</span>",
          "<span style=\"font-size: 14px !important;\">39.0%</span>",
          "<span style=\"font-size: 14px !important;\">40.3%</span>",
          "<span style=\"font-size: 14px !important;\">32.2%</span>",
          "<span style=\"font-size: 14px !important;\">30.9%</span>",
          "<span style=\"font-size: 14px !important;\">39.9%</span>",
          "<span style=\"font-size: 14px !important;\">40.7%</span>",
          "<span style=\"font-size: 14px !important;\">38.7%</span>",
          "<span style=\"font-size: 14px !important;\">38.8%</span>",
          "<span style=\"font-size: 14px !important;\">40.0%</span>",
          "<span style=\"font-size: 14px !important;\">36.9%</span>",
          "<span style=\"font-size: 14px !important;\">37.6%</span>",
          "<span style=\"font-size: 14px !important;\">35.4%</span>",
          "<span style=\"font-size: 14px !important;\">39.0%</span>"
         ],
         "textposition": "auto",
         "type": "bar",
         "x": [
          "숲속 박물관·전시회 관람",
          "숲속 공연·음악연주회 관람",
          "숲속 문학행사 참여",
          "숲속 예술·활동 참여",
          "숲 기반 생활공예·취미활동 참여",
          "숲가꾸기 체험",
          "임산물 수확 체험",
          "동식물 관찰 및 학습",
          "산림레포츠 참여",
          "계곡레포츠 참여",
          "건강증진 활동 참여",
          "숲 탐방",
          "산림문화자산·자연명승지 탐방",
          "자연경관 감상",
          "숲속 생활 체험",
          "산림주제 게임활동",
          "산림주제 독서활동",
          "산림분야 자기계발 및 학습",
          "산림 관련 사회봉사활동"
         ],
         "y": [
          43.1,
          38.3,
          38.6,
          35.2,
          40.6,
          41.9,
          39,
          40.3,
          32.2,
          30.9,
          39.9,
          40.7,
          38.7,
          38.8,
          40,
          36.9,
          37.6,
          35.4,
          39
         ]
        }
       ],
       "layout": {
        "barmode": "relative",
        "height": 700,
        "legend": {
         "traceorder": "reversed"
        },
        "margin": {
         "b": 70,
         "l": 100,
         "r": 100,
         "t": 70
        },
        "showlegend": true,
        "template": {
         "data": {
          "bar": [
           {
            "error_x": {
             "color": "#2a3f5f"
            },
            "error_y": {
             "color": "#2a3f5f"
            },
            "marker": {
             "line": {
              "color": "#E5ECF6",
              "width": 0.5
             },
             "pattern": {
              "fillmode": "overlay",
              "size": 10,
              "solidity": 0.2
             }
            },
            "type": "bar"
           }
          ],
          "barpolar": [
           {
            "marker": {
             "line": {
              "color": "#E5ECF6",
              "width": 0.5
             },
             "pattern": {
              "fillmode": "overlay",
              "size": 10,
              "solidity": 0.2
             }
            },
            "type": "barpolar"
           }
          ],
          "carpet": [
           {
            "aaxis": {
             "endlinecolor": "#2a3f5f",
             "gridcolor": "white",
             "linecolor": "white",
             "minorgridcolor": "white",
             "startlinecolor": "#2a3f5f"
            },
            "baxis": {
             "endlinecolor": "#2a3f5f",
             "gridcolor": "white",
             "linecolor": "white",
             "minorgridcolor": "white",
             "startlinecolor": "#2a3f5f"
            },
            "type": "carpet"
           }
          ],
          "choropleth": [
           {
            "colorbar": {
             "outlinewidth": 0,
             "ticks": ""
            },
            "type": "choropleth"
           }
          ],
          "contour": [
           {
            "colorbar": {
             "outlinewidth": 0,
             "ticks": ""
            },
            "colorscale": [
             [
              0,
              "#0d0887"
             ],
             [
              0.1111111111111111,
              "#46039f"
             ],
             [
              0.2222222222222222,
              "#7201a8"
             ],
             [
              0.3333333333333333,
              "#9c179e"
             ],
             [
              0.4444444444444444,
              "#bd3786"
             ],
             [
              0.5555555555555556,
              "#d8576b"
             ],
             [
              0.6666666666666666,
              "#ed7953"
             ],
             [
              0.7777777777777778,
              "#fb9f3a"
             ],
             [
              0.8888888888888888,
              "#fdca26"
             ],
             [
              1,
              "#f0f921"
             ]
            ],
            "type": "contour"
           }
          ],
          "contourcarpet": [
           {
            "colorbar": {
             "outlinewidth": 0,
             "ticks": ""
            },
            "type": "contourcarpet"
           }
          ],
          "heatmap": [
           {
            "colorbar": {
             "outlinewidth": 0,
             "ticks": ""
            },
            "colorscale": [
             [
              0,
              "#0d0887"
             ],
             [
              0.1111111111111111,
              "#46039f"
             ],
             [
              0.2222222222222222,
              "#7201a8"
             ],
             [
              0.3333333333333333,
              "#9c179e"
             ],
             [
              0.4444444444444444,
              "#bd3786"
             ],
             [
              0.5555555555555556,
              "#d8576b"
             ],
             [
              0.6666666666666666,
              "#ed7953"
             ],
             [
              0.7777777777777778,
              "#fb9f3a"
             ],
             [
              0.8888888888888888,
              "#fdca26"
             ],
             [
              1,
              "#f0f921"
             ]
            ],
            "type": "heatmap"
           }
          ],
          "heatmapgl": [
           {
            "colorbar": {
             "outlinewidth": 0,
             "ticks": ""
            },
            "colorscale": [
             [
              0,
              "#0d0887"
             ],
             [
              0.1111111111111111,
              "#46039f"
             ],
             [
              0.2222222222222222,
              "#7201a8"
             ],
             [
              0.3333333333333333,
              "#9c179e"
             ],
             [
              0.4444444444444444,
              "#bd3786"
             ],
             [
              0.5555555555555556,
              "#d8576b"
             ],
             [
              0.6666666666666666,
              "#ed7953"
             ],
             [
              0.7777777777777778,
              "#fb9f3a"
             ],
             [
              0.8888888888888888,
              "#fdca26"
             ],
             [
              1,
              "#f0f921"
             ]
            ],
            "type": "heatmapgl"
           }
          ],
          "histogram": [
           {
            "marker": {
             "pattern": {
              "fillmode": "overlay",
              "size": 10,
              "solidity": 0.2
             }
            },
            "type": "histogram"
           }
          ],
          "histogram2d": [
           {
            "colorbar": {
             "outlinewidth": 0,
             "ticks": ""
            },
            "colorscale": [
             [
              0,
              "#0d0887"
             ],
             [
              0.1111111111111111,
              "#46039f"
             ],
             [
              0.2222222222222222,
              "#7201a8"
             ],
             [
              0.3333333333333333,
              "#9c179e"
             ],
             [
              0.4444444444444444,
              "#bd3786"
             ],
             [
              0.5555555555555556,
              "#d8576b"
             ],
             [
              0.6666666666666666,
              "#ed7953"
             ],
             [
              0.7777777777777778,
              "#fb9f3a"
             ],
             [
              0.8888888888888888,
              "#fdca26"
             ],
             [
              1,
              "#f0f921"
             ]
            ],
            "type": "histogram2d"
           }
          ],
          "histogram2dcontour": [
           {
            "colorbar": {
             "outlinewidth": 0,
             "ticks": ""
            },
            "colorscale": [
             [
              0,
              "#0d0887"
             ],
             [
              0.1111111111111111,
              "#46039f"
             ],
             [
              0.2222222222222222,
              "#7201a8"
             ],
             [
              0.3333333333333333,
              "#9c179e"
             ],
             [
              0.4444444444444444,
              "#bd3786"
             ],
             [
              0.5555555555555556,
              "#d8576b"
             ],
             [
              0.6666666666666666,
              "#ed7953"
             ],
             [
              0.7777777777777778,
              "#fb9f3a"
             ],
             [
              0.8888888888888888,
              "#fdca26"
             ],
             [
              1,
              "#f0f921"
             ]
            ],
            "type": "histogram2dcontour"
           }
          ],
          "mesh3d": [
           {
            "colorbar": {
             "outlinewidth": 0,
             "ticks": ""
            },
            "type": "mesh3d"
           }
          ],
          "parcoords": [
           {
            "line": {
             "colorbar": {
              "outlinewidth": 0,
              "ticks": ""
             }
            },
            "type": "parcoords"
           }
          ],
          "pie": [
           {
            "automargin": true,
            "type": "pie"
           }
          ],
          "scatter": [
           {
            "fillpattern": {
             "fillmode": "overlay",
             "size": 10,
             "solidity": 0.2
            },
            "type": "scatter"
           }
          ],
          "scatter3d": [
           {
            "line": {
             "colorbar": {
              "outlinewidth": 0,
              "ticks": ""
             }
            },
            "marker": {
             "colorbar": {
              "outlinewidth": 0,
              "ticks": ""
             }
            },
            "type": "scatter3d"
           }
          ],
          "scattercarpet": [
           {
            "marker": {
             "colorbar": {
              "outlinewidth": 0,
              "ticks": ""
             }
            },
            "type": "scattercarpet"
           }
          ],
          "scattergeo": [
           {
            "marker": {
             "colorbar": {
              "outlinewidth": 0,
              "ticks": ""
             }
            },
            "type": "scattergeo"
           }
          ],
          "scattergl": [
           {
            "marker": {
             "colorbar": {
              "outlinewidth": 0,
              "ticks": ""
             }
            },
            "type": "scattergl"
           }
          ],
          "scattermapbox": [
           {
            "marker": {
             "colorbar": {
              "outlinewidth": 0,
              "ticks": ""
             }
            },
            "type": "scattermapbox"
           }
          ],
          "scatterpolar": [
           {
            "marker": {
             "colorbar": {
              "outlinewidth": 0,
              "ticks": ""
             }
            },
            "type": "scatterpolar"
           }
          ],
          "scatterpolargl": [
           {
            "marker": {
             "colorbar": {
              "outlinewidth": 0,
              "ticks": ""
             }
            },
            "type": "scatterpolargl"
           }
          ],
          "scatterternary": [
           {
            "marker": {
             "colorbar": {
              "outlinewidth": 0,
              "ticks": ""
             }
            },
            "type": "scatterternary"
           }
          ],
          "surface": [
           {
            "colorbar": {
             "outlinewidth": 0,
             "ticks": ""
            },
            "colorscale": [
             [
              0,
              "#0d0887"
             ],
             [
              0.1111111111111111,
              "#46039f"
             ],
             [
              0.2222222222222222,
              "#7201a8"
             ],
             [
              0.3333333333333333,
              "#9c179e"
             ],
             [
              0.4444444444444444,
              "#bd3786"
             ],
             [
              0.5555555555555556,
              "#d8576b"
             ],
             [
              0.6666666666666666,
              "#ed7953"
             ],
             [
              0.7777777777777778,
              "#fb9f3a"
             ],
             [
              0.8888888888888888,
              "#fdca26"
             ],
             [
              1,
              "#f0f921"
             ]
            ],
            "type": "surface"
           }
          ],
          "table": [
           {
            "cells": {
             "fill": {
              "color": "#EBF0F8"
             },
             "line": {
              "color": "white"
             }
            },
            "header": {
             "fill": {
              "color": "#C8D4E3"
             },
             "line": {
              "color": "white"
             }
            },
            "type": "table"
           }
          ]
         },
         "layout": {
          "annotationdefaults": {
           "arrowcolor": "#2a3f5f",
           "arrowhead": 0,
           "arrowwidth": 1
          },
          "autotypenumbers": "strict",
          "coloraxis": {
           "colorbar": {
            "outlinewidth": 0,
            "ticks": ""
           }
          },
          "colorscale": {
           "diverging": [
            [
             0,
             "#8e0152"
            ],
            [
             0.1,
             "#c51b7d"
            ],
            [
             0.2,
             "#de77ae"
            ],
            [
             0.3,
             "#f1b6da"
            ],
            [
             0.4,
             "#fde0ef"
            ],
            [
             0.5,
             "#f7f7f7"
            ],
            [
             0.6,
             "#e6f5d0"
            ],
            [
             0.7,
             "#b8e186"
            ],
            [
             0.8,
             "#7fbc41"
            ],
            [
             0.9,
             "#4d9221"
            ],
            [
             1,
             "#276419"
            ]
           ],
           "sequential": [
            [
             0,
             "#0d0887"
            ],
            [
             0.1111111111111111,
             "#46039f"
            ],
            [
             0.2222222222222222,
             "#7201a8"
            ],
            [
             0.3333333333333333,
             "#9c179e"
            ],
            [
             0.4444444444444444,
             "#bd3786"
            ],
            [
             0.5555555555555556,
             "#d8576b"
            ],
            [
             0.6666666666666666,
             "#ed7953"
            ],
            [
             0.7777777777777778,
             "#fb9f3a"
            ],
            [
             0.8888888888888888,
             "#fdca26"
            ],
            [
             1,
             "#f0f921"
            ]
           ],
           "sequentialminus": [
            [
             0,
             "#0d0887"
            ],
            [
             0.1111111111111111,
             "#46039f"
            ],
            [
             0.2222222222222222,
             "#7201a8"
            ],
            [
             0.3333333333333333,
             "#9c179e"
            ],
            [
             0.4444444444444444,
             "#bd3786"
            ],
            [
             0.5555555555555556,
             "#d8576b"
            ],
            [
             0.6666666666666666,
             "#ed7953"
            ],
            [
             0.7777777777777778,
             "#fb9f3a"
            ],
            [
             0.8888888888888888,
             "#fdca26"
            ],
            [
             1,
             "#f0f921"
            ]
           ]
          },
          "colorway": [
           "#636efa",
           "#EF553B",
           "#00cc96",
           "#ab63fa",
           "#FFA15A",
           "#19d3f3",
           "#FF6692",
           "#B6E880",
           "#FF97FF",
           "#FECB52"
          ],
          "font": {
           "color": "#2a3f5f"
          },
          "geo": {
           "bgcolor": "white",
           "lakecolor": "white",
           "landcolor": "#E5ECF6",
           "showlakes": true,
           "showland": true,
           "subunitcolor": "white"
          },
          "hoverlabel": {
           "align": "left"
          },
          "hovermode": "closest",
          "mapbox": {
           "style": "light"
          },
          "paper_bgcolor": "white",
          "plot_bgcolor": "#E5ECF6",
          "polar": {
           "angularaxis": {
            "gridcolor": "white",
            "linecolor": "white",
            "ticks": ""
           },
           "bgcolor": "#E5ECF6",
           "radialaxis": {
            "gridcolor": "white",
            "linecolor": "white",
            "ticks": ""
           }
          },
          "scene": {
           "xaxis": {
            "backgroundcolor": "#E5ECF6",
            "gridcolor": "white",
            "gridwidth": 2,
            "linecolor": "white",
            "showbackground": true,
            "ticks": "",
            "zerolinecolor": "white"
           },
           "yaxis": {
            "backgroundcolor": "#E5ECF6",
            "gridcolor": "white",
            "gridwidth": 2,
            "linecolor": "white",
            "showbackground": true,
            "ticks": "",
            "zerolinecolor": "white"
           },
           "zaxis": {
            "backgroundcolor": "#E5ECF6",
            "gridcolor": "white",
            "gridwidth": 2,
            "linecolor": "white",
            "showbackground": true,
            "ticks": "",
            "zerolinecolor": "white"
           }
          },
          "shapedefaults": {
           "line": {
            "color": "#2a3f5f"
           }
          },
          "ternary": {
           "aaxis": {
            "gridcolor": "white",
            "linecolor": "white",
            "ticks": ""
           },
           "baxis": {
            "gridcolor": "white",
            "linecolor": "white",
            "ticks": ""
           },
           "bgcolor": "#E5ECF6",
           "caxis": {
            "gridcolor": "white",
            "linecolor": "white",
            "ticks": ""
           }
          },
          "title": {
           "x": 0.05
          },
          "xaxis": {
           "automargin": true,
           "gridcolor": "white",
           "linecolor": "white",
           "ticks": "",
           "title": {
            "standoff": 15
           },
           "zerolinecolor": "white",
           "zerolinewidth": 2
          },
          "yaxis": {
           "automargin": true,
           "gridcolor": "white",
           "linecolor": "white",
           "ticks": "",
           "title": {
            "standoff": 15
           },
           "zerolinecolor": "white",
           "zerolinewidth": 2
          }
         }
        },
        "title": {
         "text": "산림문화의 추구 가치 비교"
        },
        "width": 1400,
        "xaxis": {
         "tickangle": 60,
         "title": {
          "text": "설문"
         }
        },
        "yaxis": {
         "title": {
          "text": "비율 (%)"
         }
        }
       }
      }
     },
     "metadata": {},
     "output_type": "display_data"
    }
   ],
   "source": [
    "import plotly.colors as pc\n",
    "\n",
    "# 컬러맵을 리스트로 불러오기\n",
    "blues_color_map = pc.sequential.Blues\n",
    "reds_color_map = pc.sequential.Reds\n",
    "\n",
    "# 누적 막대그래프 시각화\n",
    "fig = go.Figure()\n",
    "\n",
    "# 막대 그래프 추가 (expo_5_num_df 데이터 사용)\n",
    "for i in range(1, 6):\n",
    "    text_labels = [f'<span style=\"font-size: 14px !important;\">{val:.1f}%</span>' for val in expo_5_num_df[f'{i}_비율']]\n",
    "    fig.add_trace(go.Bar(x=expo_5_num_df['설문'], y=expo_5_num_df[f'{i}_비율'], text=text_labels,\n",
    "                         name=f'{i}점 (산림엑스포)', textposition='auto', marker=dict(color=blues_color_map[i-1])))\n",
    "\n",
    "# 두 번째 막대 그래프 추가 (common_5_df 데이터 사용) - 겹치게 표시\n",
    "for i in range(1, 6):\n",
    "    text_labels = [f'<span style=\"font-size: 14px !important;\">{val:.1f}%</span>' for val in common_5_df[f'{i}_비율']]\n",
    "    fig.add_trace(go.Bar(x=common_5_df['설문'], y=common_5_df[f'{i}_비율'], text=text_labels,\n",
    "                         name=f'{i}점 (다른 데이터)', textposition='auto', marker=dict(color=reds_color_map[i-1])))\n",
    "\n",
    "# 그래프 레이아웃 설정\n",
    "fig.update_layout(title=\"산림문화의 추구 가치 비교\", xaxis_title=\"설문\", yaxis_title=\"비율 (%)\",\n",
    "                  barmode='relative', showlegend=True)\n",
    "\n",
    "# 범례 텍스트 수정\n",
    "fig.update_layout(legend=dict(traceorder=\"reversed\"))\n",
    "\n",
    "# 그래프 높이와 너비 조정\n",
    "fig.update_layout(height=700, width=1400)\n",
    "\n",
    "# 여백 (margin) 조정\n",
    "fig.update_layout(margin=dict(l=100, r=100, b=70, t=70))\n",
    "\n",
    "fig.update_xaxes(tickangle=60)\n",
    "\n",
    "fig.show()\n"
   ]
  },
  {
   "attachments": {},
   "cell_type": "markdown",
   "metadata": {},
   "source": [
    "### 산림엑스포만 합산한 표 생성"
   ]
  },
  {
   "cell_type": "code",
   "execution_count": null,
   "metadata": {},
   "outputs": [],
   "source": [
    "q5 = list(q5_map_dic.values())"
   ]
  },
  {
   "cell_type": "code",
   "execution_count": null,
   "metadata": {},
   "outputs": [],
   "source": [
    "# 응답자 특성별 표 정리\n",
    "q5 = list(q5_map_dic.values())\n",
    "resp_map_df = pd.DataFrame(columns = q5)\n",
    "# 응답자 설문 리스트 정의\n",
    "sq_lst = list(Resp_Character.keys())\n",
    "# 응답자 매핑 딕셔너리 정의\n",
    "sq_dic = {'성별': 'SQ1', '연령': 'SQ2_1', '학력': 'SQ3', '거주지역': 'SQ4', '직업': 'SQ5'}\n",
    "\n",
    "# 멀티인덱스를 위한 리스트 생성\n",
    "mult_idx = []\n",
    "\n",
    "for sq in sq_lst:\n",
    "    for val in list(Resp_Character[sq].values()):\n",
    "        # 멀티인덱스 추가\n",
    "        mult_idx.append(sq)\n",
    "        # 'SQ1' 열의 값으로 필터링 및 평균계산\n",
    "        filtered_rows = df_expo_5[df_expo_5[sq_dic[sq]] == val].reset_index(drop=True)\n",
    "        mean_list = [round(filtered_rows[i].mean(),2) for i in filtered_rows.columns[7:]]\n",
    "\n",
    "        resp_map = {}\n",
    "        for col, mean in zip(resp_map_df.columns, mean_list + [0]):\n",
    "            if col == '사례수':\n",
    "                resp_map[col] = filtered_rows.shape[0]\n",
    "            else:\n",
    "                resp_map[col] = [mean]\n",
    "        else:\n",
    "            resp_map = pd.DataFrame(resp_map)\n",
    "            resp_map.index = [val]\n",
    "            resp_map_df = pd.concat([resp_map_df,resp_map])\n",
    "            resp_map_df.fillna(0.0, inplace=True)\n",
    "# 멀티인덱스 생성\n",
    "resp_map_df.set_index([mult_idx, resp_map_df.index], inplace=True)\n",
    "resp_map_df"
   ]
  },
  {
   "cell_type": "markdown",
   "metadata": {},
   "source": [
    "### 가치별 비율 표 (문항만 변경하면 원하는 가치 표출력 가능)"
   ]
  },
  {
   "cell_type": "code",
   "execution_count": 55,
   "metadata": {},
   "outputs": [],
   "source": [
    "# '값' 열의 값을 딕셔너리를 사용하여 일괄적으로 변경하는 함수 정의\n",
    "def map_val(series, dic):\n",
    "        lst = []\n",
    "        for value in series:\n",
    "                lst.append(dic[str(value)])\n",
    "        return lst"
   ]
  },
  {
   "cell_type": "code",
   "execution_count": null,
   "metadata": {},
   "outputs": [],
   "source": [
    "# 응답자 특성별 표 정리\n",
    "q5_map = {'1':'1.매우 참여하고 싶지않다', '2':'2.참여하고 싶지않다', '3':'3.보통이다', '4':'4.참여하고 싶다', '5':'5.매우 참여하고 싶다'}\n",
    "q5 = ['1.매우 참여하고 싶지않다', '2.참여하고 싶지않다', '3.보통이다', '4.참여하고 싶다', '5.매우 참여하고 싶다', '부정(1+2)', '보통(3)', '긍정(4+5)']\n",
    "resp_map_df = pd.DataFrame(columns = q5)\n",
    "\n",
    "# 응답자 설문 리스트 정의\n",
    "sq_lst = list(Resp_Character.keys())\n",
    "# 응답자 매핑 딕셔너리 정의\n",
    "sq_dic = {'성별': 'SQ1', '연령': 'SQ2_1', '학력': 'SQ3', '거주지역': 'SQ4', '직업': 'SQ5'}\n",
    "\n",
    "# 멀티인덱스를 위한 리스트 생성\n",
    "mult_idx = []\n",
    "\n",
    "for sq in sq_lst:\n",
    "    for val in list(Resp_Character[sq].values()):\n",
    "        # 멀티인덱스 추가\n",
    "        mult_idx.append(sq)\n",
    "        # 'SQ1' 열의 값으로 필터링 및 평균계산\n",
    "        filtered_rows = df_expo_5[df_expo_5[sq_dic[sq]] == val].reset_index(drop=True)\n",
    "        frequency_rate_df = filtered_rows['Q5_1'].value_counts().reset_index()\n",
    "        frequency_rate_df.columns = ['값', '빈도']\n",
    "        frequency_rate_df['값'] = map_val(frequency_rate_df['값'], q5_map)\n",
    "        frequency_rate_df['비율'] = round((frequency_rate_df['빈도'] / frequency_rate_df['빈도'].sum())*100,1)\n",
    "        frequency_rate_df = frequency_rate_df.set_index(keys='값')\n",
    "        \n",
    "        resp_map = {}\n",
    "        for i in resp_map_df.columns:\n",
    "            resp_map[i] = [0.0]\n",
    "        for i in resp_map_df.columns[:5]:\n",
    "            try:\n",
    "                resp_map[i][0] = frequency_rate_df.loc[i, '비율']\n",
    "            except:\n",
    "                pass\n",
    "        for i in resp_map_df.columns[5:]:\n",
    "            try:\n",
    "                f,s = i.split('+')\n",
    "                resp_map[i][0] = resp_map[q5_map[f[-1]]][0] + resp_map[q5_map[s[0]]][0]\n",
    "            except:\n",
    "                f = i.split('(')[1][0]\n",
    "                resp_map[i][0] = resp_map[q5_map[f]][0]\n",
    "        else:\n",
    "            resp_map = pd.DataFrame(resp_map)\n",
    "            resp_map.index = [val]\n",
    "            resp_map_df = pd.concat([resp_map_df,resp_map])\n",
    "# 멀티인덱스 생성\n",
    "resp_map_df.set_index([mult_idx, resp_map_df.index], inplace=True)\n",
    "resp_map_df"
   ]
  },
  {
   "attachments": {},
   "cell_type": "markdown",
   "metadata": {},
   "source": [
    "### 일반국민만 합산한 표 생성"
   ]
  },
  {
   "cell_type": "code",
   "execution_count": null,
   "metadata": {},
   "outputs": [],
   "source": [
    "# 응답자 특성별 표 정리\n",
    "q5 = list(q5_map_dic.values())\n",
    "resp_map_df = pd.DataFrame(columns = q5)\n",
    "# 응답자 설문 리스트 정의\n",
    "sq_lst = list(Resp_Character.keys())\n",
    "# 응답자 매핑 딕셔너리 정의\n",
    "sq_dic = {'성별': 'SQ1', '연령': 'SQ2_1', '학력': 'SQ3', '거주지역': 'SQ4', '직업': 'SQ5'}\n",
    "\n",
    "# 멀티인덱스를 위한 리스트 생성\n",
    "mult_idx = []\n",
    "\n",
    "for sq in sq_lst:\n",
    "    for val in list(Resp_Character[sq].values()):\n",
    "        # 멀티인덱스 추가\n",
    "        mult_idx.append(sq)\n",
    "        # 'SQ1' 열의 값으로 필터링 및 평균계산\n",
    "        filtered_rows = df_common_5[df_common_5[sq_dic[sq]] == val].reset_index(drop=True)\n",
    "        mean_list = [round(filtered_rows[i].mean(),2) for i in filtered_rows.columns[7:]]\n",
    "\n",
    "        resp_map = {}\n",
    "        for col, mean in zip(resp_map_df.columns, mean_list + [0]):\n",
    "            if col == '사례수':\n",
    "                resp_map[col] = filtered_rows.shape[0]\n",
    "            else:\n",
    "                resp_map[col] = [mean]\n",
    "        else:\n",
    "            resp_map = pd.DataFrame(resp_map)\n",
    "            resp_map.index = [val]\n",
    "            resp_map_df = pd.concat([resp_map_df,resp_map])\n",
    "            resp_map_df.fillna(0.0, inplace=True)\n",
    "# 멀티인덱스 생성\n",
    "resp_map_df.set_index([mult_idx, resp_map_df.index], inplace=True)\n",
    "resp_map_df"
   ]
  },
  {
   "cell_type": "markdown",
   "metadata": {},
   "source": [
    "### 가치별 비율 표 (문항만 변경하면 원하는 가치 표출력 가능)"
   ]
  },
  {
   "cell_type": "code",
   "execution_count": 60,
   "metadata": {},
   "outputs": [],
   "source": [
    "# '값' 열의 값을 딕셔너리를 사용하여 일괄적으로 변경하는 함수 정의\n",
    "def map_val(series, dic):\n",
    "        lst = []\n",
    "        for value in series:\n",
    "                lst.append(dic[str(value)])\n",
    "        return lst"
   ]
  },
  {
   "cell_type": "code",
   "execution_count": 67,
   "metadata": {},
   "outputs": [
    {
     "data": {
      "text/html": [
       "<div>\n",
       "<style scoped>\n",
       "    .dataframe tbody tr th:only-of-type {\n",
       "        vertical-align: middle;\n",
       "    }\n",
       "\n",
       "    .dataframe tbody tr th {\n",
       "        vertical-align: top;\n",
       "    }\n",
       "\n",
       "    .dataframe thead th {\n",
       "        text-align: right;\n",
       "    }\n",
       "</style>\n",
       "<table border=\"1\" class=\"dataframe\">\n",
       "  <thead>\n",
       "    <tr style=\"text-align: right;\">\n",
       "      <th></th>\n",
       "      <th></th>\n",
       "      <th>1.매우 참여하고 싶지않다</th>\n",
       "      <th>2.참여하고 싶지않다</th>\n",
       "      <th>3.보통이다</th>\n",
       "      <th>4.참여하고 싶다</th>\n",
       "      <th>5.매우 참여하고 싶다</th>\n",
       "      <th>부정(1+2)</th>\n",
       "      <th>보통(3)</th>\n",
       "      <th>긍정(4+5)</th>\n",
       "    </tr>\n",
       "  </thead>\n",
       "  <tbody>\n",
       "    <tr>\n",
       "      <th rowspan=\"2\" valign=\"top\">성별</th>\n",
       "      <th>남성</th>\n",
       "      <td>4.0</td>\n",
       "      <td>7.2</td>\n",
       "      <td>30.7</td>\n",
       "      <td>42.9</td>\n",
       "      <td>15.2</td>\n",
       "      <td>11.2</td>\n",
       "      <td>30.7</td>\n",
       "      <td>58.1</td>\n",
       "    </tr>\n",
       "    <tr>\n",
       "      <th>여성</th>\n",
       "      <td>2.8</td>\n",
       "      <td>4.6</td>\n",
       "      <td>26.4</td>\n",
       "      <td>43.3</td>\n",
       "      <td>22.9</td>\n",
       "      <td>7.4</td>\n",
       "      <td>26.4</td>\n",
       "      <td>66.2</td>\n",
       "    </tr>\n",
       "    <tr>\n",
       "      <th rowspan=\"6\" valign=\"top\">연령</th>\n",
       "      <th>10대(15세이상)</th>\n",
       "      <td>2.6</td>\n",
       "      <td>2.6</td>\n",
       "      <td>18.4</td>\n",
       "      <td>57.9</td>\n",
       "      <td>18.4</td>\n",
       "      <td>5.2</td>\n",
       "      <td>18.4</td>\n",
       "      <td>76.3</td>\n",
       "    </tr>\n",
       "    <tr>\n",
       "      <th>20대</th>\n",
       "      <td>2.5</td>\n",
       "      <td>5.5</td>\n",
       "      <td>31.2</td>\n",
       "      <td>41.2</td>\n",
       "      <td>19.6</td>\n",
       "      <td>8.0</td>\n",
       "      <td>31.2</td>\n",
       "      <td>60.8</td>\n",
       "    </tr>\n",
       "    <tr>\n",
       "      <th>30대</th>\n",
       "      <td>3.9</td>\n",
       "      <td>7.7</td>\n",
       "      <td>24.3</td>\n",
       "      <td>48.1</td>\n",
       "      <td>16.0</td>\n",
       "      <td>11.6</td>\n",
       "      <td>24.3</td>\n",
       "      <td>64.1</td>\n",
       "    </tr>\n",
       "    <tr>\n",
       "      <th>40대</th>\n",
       "      <td>4.1</td>\n",
       "      <td>5.3</td>\n",
       "      <td>29.4</td>\n",
       "      <td>43.3</td>\n",
       "      <td>18.0</td>\n",
       "      <td>9.4</td>\n",
       "      <td>29.4</td>\n",
       "      <td>61.3</td>\n",
       "    </tr>\n",
       "    <tr>\n",
       "      <th>50대</th>\n",
       "      <td>3.1</td>\n",
       "      <td>7.4</td>\n",
       "      <td>29.2</td>\n",
       "      <td>40.9</td>\n",
       "      <td>19.5</td>\n",
       "      <td>10.5</td>\n",
       "      <td>29.2</td>\n",
       "      <td>60.4</td>\n",
       "    </tr>\n",
       "    <tr>\n",
       "      <th>60대이상</th>\n",
       "      <td>3.7</td>\n",
       "      <td>4.6</td>\n",
       "      <td>30.3</td>\n",
       "      <td>40.4</td>\n",
       "      <td>21.1</td>\n",
       "      <td>8.3</td>\n",
       "      <td>30.3</td>\n",
       "      <td>61.5</td>\n",
       "    </tr>\n",
       "    <tr>\n",
       "      <th rowspan=\"9\" valign=\"top\">학력</th>\n",
       "      <th>초등학교 졸업(무학 포함)</th>\n",
       "      <td>0.0</td>\n",
       "      <td>0.0</td>\n",
       "      <td>50.0</td>\n",
       "      <td>50.0</td>\n",
       "      <td>0.0</td>\n",
       "      <td>0.0</td>\n",
       "      <td>50.0</td>\n",
       "      <td>50.0</td>\n",
       "    </tr>\n",
       "    <tr>\n",
       "      <th>중학교 재학</th>\n",
       "      <td>0.0</td>\n",
       "      <td>0.0</td>\n",
       "      <td>20.0</td>\n",
       "      <td>60.0</td>\n",
       "      <td>20.0</td>\n",
       "      <td>0.0</td>\n",
       "      <td>20.0</td>\n",
       "      <td>80.0</td>\n",
       "    </tr>\n",
       "    <tr>\n",
       "      <th>중학교 졸업</th>\n",
       "      <td>7.1</td>\n",
       "      <td>7.1</td>\n",
       "      <td>57.1</td>\n",
       "      <td>21.4</td>\n",
       "      <td>7.1</td>\n",
       "      <td>14.2</td>\n",
       "      <td>57.1</td>\n",
       "      <td>28.5</td>\n",
       "    </tr>\n",
       "    <tr>\n",
       "      <th>고등학교 재학</th>\n",
       "      <td>5.3</td>\n",
       "      <td>5.3</td>\n",
       "      <td>10.5</td>\n",
       "      <td>57.9</td>\n",
       "      <td>21.1</td>\n",
       "      <td>10.6</td>\n",
       "      <td>10.5</td>\n",
       "      <td>79.0</td>\n",
       "    </tr>\n",
       "    <tr>\n",
       "      <th>고등학교 졸업</th>\n",
       "      <td>3.3</td>\n",
       "      <td>6.6</td>\n",
       "      <td>32.5</td>\n",
       "      <td>39.2</td>\n",
       "      <td>18.4</td>\n",
       "      <td>9.9</td>\n",
       "      <td>32.5</td>\n",
       "      <td>57.6</td>\n",
       "    </tr>\n",
       "    <tr>\n",
       "      <th>대학교 재학</th>\n",
       "      <td>3.6</td>\n",
       "      <td>10.9</td>\n",
       "      <td>25.5</td>\n",
       "      <td>47.3</td>\n",
       "      <td>12.7</td>\n",
       "      <td>14.5</td>\n",
       "      <td>25.5</td>\n",
       "      <td>60.0</td>\n",
       "    </tr>\n",
       "    <tr>\n",
       "      <th>대학교 졸업</th>\n",
       "      <td>3.6</td>\n",
       "      <td>5.4</td>\n",
       "      <td>27.6</td>\n",
       "      <td>43.9</td>\n",
       "      <td>19.6</td>\n",
       "      <td>9.0</td>\n",
       "      <td>27.6</td>\n",
       "      <td>63.5</td>\n",
       "    </tr>\n",
       "    <tr>\n",
       "      <th>대학원 재학(석사 또는 박사)</th>\n",
       "      <td>7.7</td>\n",
       "      <td>30.8</td>\n",
       "      <td>23.1</td>\n",
       "      <td>30.8</td>\n",
       "      <td>7.7</td>\n",
       "      <td>38.5</td>\n",
       "      <td>23.1</td>\n",
       "      <td>38.5</td>\n",
       "    </tr>\n",
       "    <tr>\n",
       "      <th>대학원 졸업(석사또는 박사)</th>\n",
       "      <td>1.1</td>\n",
       "      <td>3.4</td>\n",
       "      <td>29.2</td>\n",
       "      <td>43.8</td>\n",
       "      <td>22.5</td>\n",
       "      <td>4.5</td>\n",
       "      <td>29.2</td>\n",
       "      <td>66.3</td>\n",
       "    </tr>\n",
       "    <tr>\n",
       "      <th rowspan=\"17\" valign=\"top\">거주지역</th>\n",
       "      <th>서울</th>\n",
       "      <td>3.8</td>\n",
       "      <td>6.7</td>\n",
       "      <td>29.0</td>\n",
       "      <td>43.8</td>\n",
       "      <td>16.7</td>\n",
       "      <td>10.5</td>\n",
       "      <td>29.0</td>\n",
       "      <td>60.5</td>\n",
       "    </tr>\n",
       "    <tr>\n",
       "      <th>부산</th>\n",
       "      <td>1.3</td>\n",
       "      <td>0.0</td>\n",
       "      <td>29.3</td>\n",
       "      <td>52.0</td>\n",
       "      <td>17.3</td>\n",
       "      <td>1.3</td>\n",
       "      <td>29.3</td>\n",
       "      <td>69.3</td>\n",
       "    </tr>\n",
       "    <tr>\n",
       "      <th>대구</th>\n",
       "      <td>0.0</td>\n",
       "      <td>6.0</td>\n",
       "      <td>36.0</td>\n",
       "      <td>42.0</td>\n",
       "      <td>16.0</td>\n",
       "      <td>6.0</td>\n",
       "      <td>36.0</td>\n",
       "      <td>58.0</td>\n",
       "    </tr>\n",
       "    <tr>\n",
       "      <th>인천</th>\n",
       "      <td>3.6</td>\n",
       "      <td>5.4</td>\n",
       "      <td>23.2</td>\n",
       "      <td>44.6</td>\n",
       "      <td>23.2</td>\n",
       "      <td>9.0</td>\n",
       "      <td>23.2</td>\n",
       "      <td>67.8</td>\n",
       "    </tr>\n",
       "    <tr>\n",
       "      <th>광주</th>\n",
       "      <td>5.7</td>\n",
       "      <td>2.9</td>\n",
       "      <td>22.9</td>\n",
       "      <td>45.7</td>\n",
       "      <td>22.9</td>\n",
       "      <td>8.6</td>\n",
       "      <td>22.9</td>\n",
       "      <td>68.6</td>\n",
       "    </tr>\n",
       "    <tr>\n",
       "      <th>대전</th>\n",
       "      <td>3.2</td>\n",
       "      <td>0.0</td>\n",
       "      <td>22.6</td>\n",
       "      <td>64.5</td>\n",
       "      <td>9.7</td>\n",
       "      <td>3.2</td>\n",
       "      <td>22.6</td>\n",
       "      <td>74.2</td>\n",
       "    </tr>\n",
       "    <tr>\n",
       "      <th>울산</th>\n",
       "      <td>4.2</td>\n",
       "      <td>8.3</td>\n",
       "      <td>41.7</td>\n",
       "      <td>41.7</td>\n",
       "      <td>4.2</td>\n",
       "      <td>12.5</td>\n",
       "      <td>41.7</td>\n",
       "      <td>45.9</td>\n",
       "    </tr>\n",
       "    <tr>\n",
       "      <th>세종</th>\n",
       "      <td>0.0</td>\n",
       "      <td>11.1</td>\n",
       "      <td>11.1</td>\n",
       "      <td>55.6</td>\n",
       "      <td>22.2</td>\n",
       "      <td>11.1</td>\n",
       "      <td>11.1</td>\n",
       "      <td>77.8</td>\n",
       "    </tr>\n",
       "    <tr>\n",
       "      <th>경기</th>\n",
       "      <td>3.2</td>\n",
       "      <td>7.0</td>\n",
       "      <td>29.9</td>\n",
       "      <td>40.4</td>\n",
       "      <td>19.4</td>\n",
       "      <td>10.2</td>\n",
       "      <td>29.9</td>\n",
       "      <td>59.8</td>\n",
       "    </tr>\n",
       "    <tr>\n",
       "      <th>강원</th>\n",
       "      <td>3.1</td>\n",
       "      <td>3.1</td>\n",
       "      <td>21.9</td>\n",
       "      <td>43.8</td>\n",
       "      <td>28.1</td>\n",
       "      <td>6.2</td>\n",
       "      <td>21.9</td>\n",
       "      <td>71.9</td>\n",
       "    </tr>\n",
       "    <tr>\n",
       "      <th>충북</th>\n",
       "      <td>2.7</td>\n",
       "      <td>2.7</td>\n",
       "      <td>40.5</td>\n",
       "      <td>40.5</td>\n",
       "      <td>13.5</td>\n",
       "      <td>5.4</td>\n",
       "      <td>40.5</td>\n",
       "      <td>54.0</td>\n",
       "    </tr>\n",
       "    <tr>\n",
       "      <th>충남</th>\n",
       "      <td>6.1</td>\n",
       "      <td>10.2</td>\n",
       "      <td>28.6</td>\n",
       "      <td>22.4</td>\n",
       "      <td>32.7</td>\n",
       "      <td>16.3</td>\n",
       "      <td>28.6</td>\n",
       "      <td>55.1</td>\n",
       "    </tr>\n",
       "    <tr>\n",
       "      <th>전북</th>\n",
       "      <td>2.9</td>\n",
       "      <td>8.6</td>\n",
       "      <td>28.6</td>\n",
       "      <td>42.9</td>\n",
       "      <td>17.1</td>\n",
       "      <td>11.5</td>\n",
       "      <td>28.6</td>\n",
       "      <td>60.0</td>\n",
       "    </tr>\n",
       "    <tr>\n",
       "      <th>전남</th>\n",
       "      <td>9.8</td>\n",
       "      <td>17.1</td>\n",
       "      <td>17.1</td>\n",
       "      <td>39.0</td>\n",
       "      <td>17.1</td>\n",
       "      <td>26.9</td>\n",
       "      <td>17.1</td>\n",
       "      <td>56.1</td>\n",
       "    </tr>\n",
       "    <tr>\n",
       "      <th>경북</th>\n",
       "      <td>3.5</td>\n",
       "      <td>3.5</td>\n",
       "      <td>28.1</td>\n",
       "      <td>43.9</td>\n",
       "      <td>21.1</td>\n",
       "      <td>7.0</td>\n",
       "      <td>28.1</td>\n",
       "      <td>65.0</td>\n",
       "    </tr>\n",
       "    <tr>\n",
       "      <th>경남</th>\n",
       "      <td>3.2</td>\n",
       "      <td>3.2</td>\n",
       "      <td>25.4</td>\n",
       "      <td>46.0</td>\n",
       "      <td>22.2</td>\n",
       "      <td>6.4</td>\n",
       "      <td>25.4</td>\n",
       "      <td>68.2</td>\n",
       "    </tr>\n",
       "    <tr>\n",
       "      <th>제주</th>\n",
       "      <td>0.0</td>\n",
       "      <td>5.0</td>\n",
       "      <td>35.0</td>\n",
       "      <td>50.0</td>\n",
       "      <td>10.0</td>\n",
       "      <td>5.0</td>\n",
       "      <td>35.0</td>\n",
       "      <td>60.0</td>\n",
       "    </tr>\n",
       "    <tr>\n",
       "      <th rowspan=\"13\" valign=\"top\">직업</th>\n",
       "      <th>산림임업종사자</th>\n",
       "      <td>0.0</td>\n",
       "      <td>0.0</td>\n",
       "      <td>75.0</td>\n",
       "      <td>25.0</td>\n",
       "      <td>0.0</td>\n",
       "      <td>0.0</td>\n",
       "      <td>75.0</td>\n",
       "      <td>25.0</td>\n",
       "    </tr>\n",
       "    <tr>\n",
       "      <th>사무종사자</th>\n",
       "      <td>3.4</td>\n",
       "      <td>4.2</td>\n",
       "      <td>26.6</td>\n",
       "      <td>46.8</td>\n",
       "      <td>19.0</td>\n",
       "      <td>7.6</td>\n",
       "      <td>26.6</td>\n",
       "      <td>65.8</td>\n",
       "    </tr>\n",
       "    <tr>\n",
       "      <th>서비스종사자</th>\n",
       "      <td>6.3</td>\n",
       "      <td>7.6</td>\n",
       "      <td>22.8</td>\n",
       "      <td>39.2</td>\n",
       "      <td>24.1</td>\n",
       "      <td>13.9</td>\n",
       "      <td>22.8</td>\n",
       "      <td>63.3</td>\n",
       "    </tr>\n",
       "    <tr>\n",
       "      <th>판매종사자</th>\n",
       "      <td>0.0</td>\n",
       "      <td>2.7</td>\n",
       "      <td>40.5</td>\n",
       "      <td>37.8</td>\n",
       "      <td>18.9</td>\n",
       "      <td>2.7</td>\n",
       "      <td>40.5</td>\n",
       "      <td>56.7</td>\n",
       "    </tr>\n",
       "    <tr>\n",
       "      <th>기술기능종사자</th>\n",
       "      <td>5.9</td>\n",
       "      <td>9.8</td>\n",
       "      <td>38.2</td>\n",
       "      <td>33.3</td>\n",
       "      <td>12.7</td>\n",
       "      <td>15.7</td>\n",
       "      <td>38.2</td>\n",
       "      <td>46.0</td>\n",
       "    </tr>\n",
       "    <tr>\n",
       "      <th>단순노무종사자</th>\n",
       "      <td>10.0</td>\n",
       "      <td>5.0</td>\n",
       "      <td>32.5</td>\n",
       "      <td>32.5</td>\n",
       "      <td>20.0</td>\n",
       "      <td>15.0</td>\n",
       "      <td>32.5</td>\n",
       "      <td>52.5</td>\n",
       "    </tr>\n",
       "    <tr>\n",
       "      <th>전문가(교수 포함)</th>\n",
       "      <td>0.0</td>\n",
       "      <td>7.9</td>\n",
       "      <td>15.8</td>\n",
       "      <td>44.7</td>\n",
       "      <td>31.6</td>\n",
       "      <td>7.9</td>\n",
       "      <td>15.8</td>\n",
       "      <td>76.3</td>\n",
       "    </tr>\n",
       "    <tr>\n",
       "      <th>경영직종사자</th>\n",
       "      <td>3.4</td>\n",
       "      <td>10.3</td>\n",
       "      <td>27.6</td>\n",
       "      <td>37.9</td>\n",
       "      <td>20.7</td>\n",
       "      <td>13.7</td>\n",
       "      <td>27.6</td>\n",
       "      <td>58.6</td>\n",
       "    </tr>\n",
       "    <tr>\n",
       "      <th>자영업자(개인사업자)</th>\n",
       "      <td>0.0</td>\n",
       "      <td>7.3</td>\n",
       "      <td>35.4</td>\n",
       "      <td>48.8</td>\n",
       "      <td>8.5</td>\n",
       "      <td>7.3</td>\n",
       "      <td>35.4</td>\n",
       "      <td>57.3</td>\n",
       "    </tr>\n",
       "    <tr>\n",
       "      <th>공무원(교사포함)</th>\n",
       "      <td>0.0</td>\n",
       "      <td>5.4</td>\n",
       "      <td>30.4</td>\n",
       "      <td>42.9</td>\n",
       "      <td>21.4</td>\n",
       "      <td>5.4</td>\n",
       "      <td>30.4</td>\n",
       "      <td>64.3</td>\n",
       "    </tr>\n",
       "    <tr>\n",
       "      <th>학생(대학원생포함)</th>\n",
       "      <td>3.6</td>\n",
       "      <td>9.6</td>\n",
       "      <td>22.9</td>\n",
       "      <td>49.4</td>\n",
       "      <td>14.5</td>\n",
       "      <td>13.2</td>\n",
       "      <td>22.9</td>\n",
       "      <td>63.9</td>\n",
       "    </tr>\n",
       "    <tr>\n",
       "      <th>전업주부</th>\n",
       "      <td>2.6</td>\n",
       "      <td>4.5</td>\n",
       "      <td>23.7</td>\n",
       "      <td>46.8</td>\n",
       "      <td>22.4</td>\n",
       "      <td>7.1</td>\n",
       "      <td>23.7</td>\n",
       "      <td>69.2</td>\n",
       "    </tr>\n",
       "    <tr>\n",
       "      <th>기타</th>\n",
       "      <td>5.3</td>\n",
       "      <td>5.3</td>\n",
       "      <td>36.0</td>\n",
       "      <td>32.0</td>\n",
       "      <td>21.3</td>\n",
       "      <td>10.6</td>\n",
       "      <td>36.0</td>\n",
       "      <td>53.3</td>\n",
       "    </tr>\n",
       "  </tbody>\n",
       "</table>\n",
       "</div>"
      ],
      "text/plain": [
       "                       1.매우 참여하고 싶지않다  2.참여하고 싶지않다  3.보통이다  4.참여하고 싶다  \\\n",
       "성별   남성                           4.0          7.2    30.7       42.9   \n",
       "     여성                           2.8          4.6    26.4       43.3   \n",
       "연령   10대(15세이상)                   2.6          2.6    18.4       57.9   \n",
       "     20대                          2.5          5.5    31.2       41.2   \n",
       "     30대                          3.9          7.7    24.3       48.1   \n",
       "     40대                          4.1          5.3    29.4       43.3   \n",
       "     50대                          3.1          7.4    29.2       40.9   \n",
       "     60대이상                        3.7          4.6    30.3       40.4   \n",
       "학력   초등학교 졸업(무학 포함)               0.0          0.0    50.0       50.0   \n",
       "     중학교 재학                       0.0          0.0    20.0       60.0   \n",
       "     중학교 졸업                       7.1          7.1    57.1       21.4   \n",
       "     고등학교 재학                      5.3          5.3    10.5       57.9   \n",
       "     고등학교 졸업                      3.3          6.6    32.5       39.2   \n",
       "     대학교 재학                       3.6         10.9    25.5       47.3   \n",
       "     대학교 졸업                       3.6          5.4    27.6       43.9   \n",
       "     대학원 재학(석사 또는 박사)             7.7         30.8    23.1       30.8   \n",
       "     대학원 졸업(석사또는 박사)              1.1          3.4    29.2       43.8   \n",
       "거주지역 서울                           3.8          6.7    29.0       43.8   \n",
       "     부산                           1.3          0.0    29.3       52.0   \n",
       "     대구                           0.0          6.0    36.0       42.0   \n",
       "     인천                           3.6          5.4    23.2       44.6   \n",
       "     광주                           5.7          2.9    22.9       45.7   \n",
       "     대전                           3.2          0.0    22.6       64.5   \n",
       "     울산                           4.2          8.3    41.7       41.7   \n",
       "     세종                           0.0         11.1    11.1       55.6   \n",
       "     경기                           3.2          7.0    29.9       40.4   \n",
       "     강원                           3.1          3.1    21.9       43.8   \n",
       "     충북                           2.7          2.7    40.5       40.5   \n",
       "     충남                           6.1         10.2    28.6       22.4   \n",
       "     전북                           2.9          8.6    28.6       42.9   \n",
       "     전남                           9.8         17.1    17.1       39.0   \n",
       "     경북                           3.5          3.5    28.1       43.9   \n",
       "     경남                           3.2          3.2    25.4       46.0   \n",
       "     제주                           0.0          5.0    35.0       50.0   \n",
       "직업   산림임업종사자                      0.0          0.0    75.0       25.0   \n",
       "     사무종사자                        3.4          4.2    26.6       46.8   \n",
       "     서비스종사자                       6.3          7.6    22.8       39.2   \n",
       "     판매종사자                        0.0          2.7    40.5       37.8   \n",
       "     기술기능종사자                      5.9          9.8    38.2       33.3   \n",
       "     단순노무종사자                     10.0          5.0    32.5       32.5   \n",
       "     전문가(교수 포함)                   0.0          7.9    15.8       44.7   \n",
       "     경영직종사자                       3.4         10.3    27.6       37.9   \n",
       "     자영업자(개인사업자)                  0.0          7.3    35.4       48.8   \n",
       "     공무원(교사포함)                    0.0          5.4    30.4       42.9   \n",
       "     학생(대학원생포함)                   3.6          9.6    22.9       49.4   \n",
       "     전업주부                         2.6          4.5    23.7       46.8   \n",
       "     기타                           5.3          5.3    36.0       32.0   \n",
       "\n",
       "                       5.매우 참여하고 싶다  부정(1+2)  보통(3)  긍정(4+5)  \n",
       "성별   남성                        15.2     11.2   30.7     58.1  \n",
       "     여성                        22.9      7.4   26.4     66.2  \n",
       "연령   10대(15세이상)                18.4      5.2   18.4     76.3  \n",
       "     20대                       19.6      8.0   31.2     60.8  \n",
       "     30대                       16.0     11.6   24.3     64.1  \n",
       "     40대                       18.0      9.4   29.4     61.3  \n",
       "     50대                       19.5     10.5   29.2     60.4  \n",
       "     60대이상                     21.1      8.3   30.3     61.5  \n",
       "학력   초등학교 졸업(무학 포함)             0.0      0.0   50.0     50.0  \n",
       "     중학교 재학                    20.0      0.0   20.0     80.0  \n",
       "     중학교 졸업                     7.1     14.2   57.1     28.5  \n",
       "     고등학교 재학                   21.1     10.6   10.5     79.0  \n",
       "     고등학교 졸업                   18.4      9.9   32.5     57.6  \n",
       "     대학교 재학                    12.7     14.5   25.5     60.0  \n",
       "     대학교 졸업                    19.6      9.0   27.6     63.5  \n",
       "     대학원 재학(석사 또는 박사)           7.7     38.5   23.1     38.5  \n",
       "     대학원 졸업(석사또는 박사)           22.5      4.5   29.2     66.3  \n",
       "거주지역 서울                        16.7     10.5   29.0     60.5  \n",
       "     부산                        17.3      1.3   29.3     69.3  \n",
       "     대구                        16.0      6.0   36.0     58.0  \n",
       "     인천                        23.2      9.0   23.2     67.8  \n",
       "     광주                        22.9      8.6   22.9     68.6  \n",
       "     대전                         9.7      3.2   22.6     74.2  \n",
       "     울산                         4.2     12.5   41.7     45.9  \n",
       "     세종                        22.2     11.1   11.1     77.8  \n",
       "     경기                        19.4     10.2   29.9     59.8  \n",
       "     강원                        28.1      6.2   21.9     71.9  \n",
       "     충북                        13.5      5.4   40.5     54.0  \n",
       "     충남                        32.7     16.3   28.6     55.1  \n",
       "     전북                        17.1     11.5   28.6     60.0  \n",
       "     전남                        17.1     26.9   17.1     56.1  \n",
       "     경북                        21.1      7.0   28.1     65.0  \n",
       "     경남                        22.2      6.4   25.4     68.2  \n",
       "     제주                        10.0      5.0   35.0     60.0  \n",
       "직업   산림임업종사자                    0.0      0.0   75.0     25.0  \n",
       "     사무종사자                     19.0      7.6   26.6     65.8  \n",
       "     서비스종사자                    24.1     13.9   22.8     63.3  \n",
       "     판매종사자                     18.9      2.7   40.5     56.7  \n",
       "     기술기능종사자                   12.7     15.7   38.2     46.0  \n",
       "     단순노무종사자                   20.0     15.0   32.5     52.5  \n",
       "     전문가(교수 포함)                31.6      7.9   15.8     76.3  \n",
       "     경영직종사자                    20.7     13.7   27.6     58.6  \n",
       "     자영업자(개인사업자)                8.5      7.3   35.4     57.3  \n",
       "     공무원(교사포함)                 21.4      5.4   30.4     64.3  \n",
       "     학생(대학원생포함)                14.5     13.2   22.9     63.9  \n",
       "     전업주부                      22.4      7.1   23.7     69.2  \n",
       "     기타                        21.3     10.6   36.0     53.3  "
      ]
     },
     "execution_count": 67,
     "metadata": {},
     "output_type": "execute_result"
    }
   ],
   "source": [
    "# 응답자 특성별 표 정리\n",
    "q5_map = {'1':'1.매우 참여하고 싶지않다', '2':'2.참여하고 싶지않다', '3':'3.보통이다', '4':'4.참여하고 싶다', '5':'5.매우 참여하고 싶다'}\n",
    "q5 = ['1.매우 참여하고 싶지않다', '2.참여하고 싶지않다', '3.보통이다', '4.참여하고 싶다', '5.매우 참여하고 싶다', '부정(1+2)', '보통(3)', '긍정(4+5)']\n",
    "resp_map_df = pd.DataFrame(columns = q5)\n",
    "\n",
    "# 응답자 설문 리스트 정의\n",
    "sq_lst = list(Resp_Character.keys())\n",
    "# 응답자 매핑 딕셔너리 정의\n",
    "sq_dic = {'성별': 'SQ1', '연령': 'SQ2_1', '학력': 'SQ3', '거주지역': 'SQ4', '직업': 'SQ5'}\n",
    "\n",
    "# 멀티인덱스를 위한 리스트 생성\n",
    "mult_idx = []\n",
    "\n",
    "for sq in sq_lst:\n",
    "    for val in list(Resp_Character[sq].values()):\n",
    "        # 멀티인덱스 추가\n",
    "        mult_idx.append(sq)\n",
    "        # 'SQ1' 열의 값으로 필터링 및 평균계산\n",
    "        filtered_rows = df_common_5[df_common_5[sq_dic[sq]] == val].reset_index(drop=True)\n",
    "        frequency_rate_df = filtered_rows['Q5_1'].value_counts().reset_index()\n",
    "        frequency_rate_df.columns = ['값', '빈도']\n",
    "        frequency_rate_df['값'] = frequency_rate_df['값'].astype(int)\n",
    "        frequency_rate_df['값'] = map_val(frequency_rate_df['값'], q5_map)\n",
    "        frequency_rate_df['비율'] = round((frequency_rate_df['빈도'] / frequency_rate_df['빈도'].sum())*100,1)\n",
    "        frequency_rate_df = frequency_rate_df.set_index(keys='값')\n",
    "        \n",
    "        resp_map = {}\n",
    "        for i in resp_map_df.columns:\n",
    "            resp_map[i] = [0.0]\n",
    "        for i in resp_map_df.columns[:5]:\n",
    "            try:\n",
    "                resp_map[i][0] = frequency_rate_df.loc[i, '비율']\n",
    "            except:\n",
    "                pass\n",
    "        for i in resp_map_df.columns[5:]:\n",
    "            try:\n",
    "                f,s = i.split('+')\n",
    "                resp_map[i][0] = resp_map[q5_map[f[-1]]][0] + resp_map[q5_map[s[0]]][0]\n",
    "            except:\n",
    "                f = i.split('(')[1][0]\n",
    "                resp_map[i][0] = resp_map[q5_map[f]][0]\n",
    "        else:\n",
    "            resp_map = pd.DataFrame(resp_map)\n",
    "            resp_map.index = [val]\n",
    "            resp_map_df = pd.concat([resp_map_df,resp_map])\n",
    "# 멀티인덱스 생성\n",
    "resp_map_df.set_index([mult_idx, resp_map_df.index], inplace=True)\n",
    "resp_map_df"
   ]
  }
 ],
 "metadata": {
  "kernelspec": {
   "display_name": "Python 3.10.9 ('base')",
   "language": "python",
   "name": "python3"
  },
  "language_info": {
   "codemirror_mode": {
    "name": "ipython",
    "version": 3
   },
   "file_extension": ".py",
   "mimetype": "text/x-python",
   "name": "python",
   "nbconvert_exporter": "python",
   "pygments_lexer": "ipython3",
   "version": "3.10.9"
  },
  "orig_nbformat": 4,
  "vscode": {
   "interpreter": {
    "hash": "a077222d77dfe082b8f1dd562ad70e458ac2ab76993a0b248ab0476e32e9e8dd"
   }
  }
 },
 "nbformat": 4,
 "nbformat_minor": 2
}
