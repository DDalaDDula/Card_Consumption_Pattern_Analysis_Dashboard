{
 "cells": [
  {
   "attachments": {},
   "cell_type": "markdown",
   "metadata": {},
   "source": [
    "## 설문조사 단일항목(산림엑스포 설문) 데이터 전처리\n",
    "\n",
    "데이터수집 - 전처리 - 분석 - 결과도출 순으로 진행"
   ]
  },
  {
   "cell_type": "code",
   "execution_count": 4,
   "metadata": {},
   "outputs": [],
   "source": [
    "import math # NaN값 구별때문에 import\n",
    "import pandas as pd\n",
    "import matplotlib.pyplot as plt\n",
    "import matplotlib as mpl\n",
    "import plotly.express as px\n",
    "import numpy as np\n",
    "\n",
    "# matplotlib 한글 글꼴 설정\n",
    "plt.rc('font', family='Malgun Gothic')\n",
    "\n",
    "# 모든 열이 생략되지 않도록 설정\n",
    "pd.set_option('display.max_columns', None)\n",
    "\n",
    "# 테마 컬러맵 미리 정의\n",
    "color_scale = ['rgb(5,31,69)',\n",
    "               'rgb(8,48,107)',\n",
    "               'rgb(11,62,138)',\n",
    "               'rgb(8,81,156)',\n",
    "               'rgb(7,90,176)',\n",
    "               'rgb(33,113,181)',\n",
    "               'rgb(66,146,198)',\n",
    "               'rgb(81,157,207)',\n",
    "               'rgb(107,174,214)',\n",
    "               'rgb(158,202,225)',\n",
    "               'rgb(198,219,239)',\n",
    "               'rgb(222,235,247)',\n",
    "               'rgb(247,251,255)']"
   ]
  },
  {
   "attachments": {},
   "cell_type": "markdown",
   "metadata": {},
   "source": [
    "### 응답자 특성 설문\n",
    "| `문항` | `보기` |\n",
    "|:---------:|:---------:|\n",
    "| <b>`성별`<b> | ①남성    ②여성 |\n",
    "| <b>`연령`<b>   | ①10대(15세이상)    ②20대   ③30대   ④40대   ⑤50대   ⑥60대이상, 추가설문 : 출생년도(___)년 |\n",
    "| <b>`학력`<b>   | ①초등학교 졸업(무학 포함)    ②중학교 재학   ③중학교 졸업   ④고등학교 재학   ⑤고등학교 졸업<br>   ⑥대학교 재학    ⑦대학교 졸업    ⑧대학원 재학(석사 또는 박사) ⑨ 대학원 졸업(석사또는 박사) |\n",
    "| <b>`거주지역`<b>   | ①서울    ②부산   ③대구   ④인천   ⑤광주   ⑥대전    ⑦울산    ⑧세종   ⑨경기<br>   ⑩강원   ⑪충북   ⑫충남   ⑬전북   ⑭전남   ⑮경북   ⑯경남   ⑰제주 |\n",
    "| <b>`직업`<b>   | ①산림임업종사자    ②사무종사자   ③서비스종사자   ④판매종사자   ⑤기술기능종사자   ⑥단순노무종사자    ⑦전문가(교수 포함)<br>    ⑧경영직종사자   ⑨자영업자(개인사업자)   ⑩공무원(교사포함)   ⑪학생(대학원생포함)   ⑫전업주부   ⑬기타(___) |"
   ]
  },
  {
   "cell_type": "code",
   "execution_count": 5,
   "metadata": {},
   "outputs": [],
   "source": [
    "# 응답자 특성 딕셔너리\n",
    "Resp_Character = {\n",
    "    '성별': {1: '남성', 2: '여성'},\n",
    "    '연령': {1: '10대(15세이상)', 2: '20대', 3: '30대', 4: '40대', 5: '50대', 6: '60대이상'},\n",
    "    '학력': {1: '초등학교 졸업(무학 포함)', 2: '중학교 재학', 3: '중학교 졸업', 4: '고등학교 재학', 5: '고등학교 졸업', 6: '대학교 재학', 7: '대학교 졸업', 8: '대학원 재학(석사 또는 박사)', 9: '대학원 졸업(석사또는 박사)'},\n",
    "    '거주지역': {1: '서울', 2: '부산', 3: '대구', 4: '인천', 5: '광주', 6: '대전', 7: '울산', 8: '세종', 9: '경기', 10: '강원', 11: '충북', 12: '충남', 13: '전북', 14: '전남', 15: '경북', 16: '경남', 17: '제주'},\n",
    "    '직업': {1: '산림임업종사자', 2: '사무종사자', 3: '서비스종사자', 4: '판매종사자', 5: '기술기능종사자', 6: '단순노무종사자', 7: '전문가(교수 포함)', 8: '경영직종사자', 9: '자영업자(개인사업자)', 10: '공무원(교사포함)', 11: '학생(대학원생포함)', 12: '전업주부', 13: '기타'}}"
   ]
  },
  {
   "cell_type": "code",
   "execution_count": 6,
   "metadata": {},
   "outputs": [],
   "source": [
    "# 산림엑스포 설문데이터 로드 및 응답자 특성 매핑\n",
    "df_expo = pd.read_excel('dataset/전국민 산림문화 인식 및 태도 향유실태 조사_산림엑스포_230922.xlsx', sheet_name=\"DATA\")\n",
    "df_expo['SQ1'] = df_expo['SQ1'].replace(Resp_Character['성별'])\n",
    "df_expo['SQ2_1'] = df_expo['SQ2_1'].replace(Resp_Character['연령'])\n",
    "df_expo['SQ3'] = df_expo['SQ3'].replace(Resp_Character['학력'])\n",
    "df_expo['SQ4'] = df_expo['SQ4'].replace(Resp_Character['거주지역'])\n",
    "df_expo['SQ5'] = df_expo['SQ5'].replace(Resp_Character['직업'])\n",
    "# 응답자 특성 5번항목의 '기타'항목자 처리\n",
    "df_expo['SQ5_13_ETC'] = df_expo['SQ5_13_ETC'].fillna('')\n",
    "# 연도 column float to int 변환\n",
    "df_expo['SQ2_2'] = ['' if np.isnan(i) else int(i) for i in df_expo['SQ2_2']]\n",
    "\n",
    "# 일반국민 설문데이터 로드 및 응답자 특성 매핑\n",
    "df_common= pd.read_excel('dataset/전국민 산림문화 인식 태도 향유실태 조사_일반국민_230530.xlsx', sheet_name=\"DATA\")\n",
    "df_common['SQ1'] = df_common['SQ1'].replace(Resp_Character['성별'])\n",
    "df_common['SQ2_1'] = df_common['SQ2_1'] - 1\n",
    "df_common['SQ2_1'] = df_common['SQ2_1'].replace(Resp_Character['연령'])\n",
    "df_common['SQ3'] = df_common['SQ3'].replace(Resp_Character['학력'])\n",
    "df_common['SQ4'] = df_common['SQ4'].replace(Resp_Character['거주지역'])\n",
    "df_common['SQ5'] = df_common['SQ5'].replace(Resp_Character['직업'])\n",
    "# 응답자 특성 5번항목의 '기타'항목자 처리\n",
    "df_common['SQ5_13_ETC'] = df_common['SQ5_13_ETC'].fillna('')"
   ]
  },
  {
   "attachments": {},
   "cell_type": "markdown",
   "metadata": {},
   "source": [
    "## Q1. 귀하가 강원세계산림엑스포에 참여하는 참여동기는 무엇입니까? - 빈도분석"
   ]
  },
  {
   "cell_type": "code",
   "execution_count": 7,
   "metadata": {},
   "outputs": [],
   "source": [
    "# 매핑 딕셔너리 정의\n",
    "Q1_map = {'1': '휴식 및 건강증진',\n",
    "        '2': '자기계발',\n",
    "        '3': '산림에 대한 소양증진(지식,정보등 습득)',\n",
    "        '4': '즐겁고 재미난 체험',\n",
    "        '5': '자연(산림) 감수성함양',\n",
    "        '6': '가족과의 시간',\n",
    "        '7': '대인관계형성',\n",
    "        '8': '창작활동에 대한 기대',\n",
    "        '9': '지역의 독특한 자연 또는 문화체험',\n",
    "        '10': '기타'}\n",
    "\n",
    "# 데이터프레임에서 'Q1_1' 열과 'Q1_2' 열의 빈도분석을 수행\n",
    "frequency1_1 = df_expo['Q1_1'].value_counts().reset_index()\n",
    "frequency1_1.columns = ['값', '1순위']\n",
    "\n",
    "frequency1_2 = df_expo['Q1_2'].value_counts().reset_index()\n",
    "frequency1_2.columns = ['값', '2순위']\n",
    "\n",
    "# '값' 열의 값을 딕셔너리를 사용하여 일괄적으로 변경하는 함수 정의\n",
    "def map_val(series, dic):\n",
    "        lst = []\n",
    "        for value in series:\n",
    "                if str(value).isdigit():\n",
    "                        lst.append(dic[str(value)])\n",
    "                else:\n",
    "                        lst.append(value.replace('10', '기타'))\n",
    "        return lst\n",
    "        \n",
    "frequency1_1['값'] = map_val(frequency1_1['값'], Q1_map)\n",
    "frequency1_2['값'] = map_val(frequency1_2['값'], Q1_map)"
   ]
  },
  {
   "cell_type": "code",
   "execution_count": 8,
   "metadata": {},
   "outputs": [
    {
     "data": {
      "text/html": [
       "<div>\n",
       "<style scoped>\n",
       "    .dataframe tbody tr th:only-of-type {\n",
       "        vertical-align: middle;\n",
       "    }\n",
       "\n",
       "    .dataframe tbody tr th {\n",
       "        vertical-align: top;\n",
       "    }\n",
       "\n",
       "    .dataframe thead th {\n",
       "        text-align: right;\n",
       "    }\n",
       "</style>\n",
       "<table border=\"1\" class=\"dataframe\">\n",
       "  <thead>\n",
       "    <tr style=\"text-align: right;\">\n",
       "      <th></th>\n",
       "      <th>값</th>\n",
       "      <th>1순위+2순위_빈도</th>\n",
       "    </tr>\n",
       "  </thead>\n",
       "  <tbody>\n",
       "    <tr>\n",
       "      <th>3</th>\n",
       "      <td>즐겁고 재미난 체험</td>\n",
       "      <td>37</td>\n",
       "    </tr>\n",
       "    <tr>\n",
       "      <th>0</th>\n",
       "      <td>휴식 및 건강증진</td>\n",
       "      <td>35</td>\n",
       "    </tr>\n",
       "    <tr>\n",
       "      <th>1</th>\n",
       "      <td>산림에 대한 소양증진(지식,정보등 습득)</td>\n",
       "      <td>33</td>\n",
       "    </tr>\n",
       "    <tr>\n",
       "      <th>2</th>\n",
       "      <td>지역의 독특한 자연 또는 문화체험</td>\n",
       "      <td>33</td>\n",
       "    </tr>\n",
       "    <tr>\n",
       "      <th>4</th>\n",
       "      <td>자기계발</td>\n",
       "      <td>17</td>\n",
       "    </tr>\n",
       "    <tr>\n",
       "      <th>9</th>\n",
       "      <td>자연(산림) 감수성함양</td>\n",
       "      <td>17</td>\n",
       "    </tr>\n",
       "    <tr>\n",
       "      <th>6</th>\n",
       "      <td>대인관계형성</td>\n",
       "      <td>14</td>\n",
       "    </tr>\n",
       "    <tr>\n",
       "      <th>5</th>\n",
       "      <td>기타(업무)</td>\n",
       "      <td>7</td>\n",
       "    </tr>\n",
       "    <tr>\n",
       "      <th>7</th>\n",
       "      <td>기타(학과행사)</td>\n",
       "      <td>6</td>\n",
       "    </tr>\n",
       "    <tr>\n",
       "      <th>8</th>\n",
       "      <td>기타(체험학습)</td>\n",
       "      <td>5</td>\n",
       "    </tr>\n",
       "    <tr>\n",
       "      <th>11</th>\n",
       "      <td>창작활동에 대한 기대</td>\n",
       "      <td>4</td>\n",
       "    </tr>\n",
       "    <tr>\n",
       "      <th>10</th>\n",
       "      <td>가족과의 시간</td>\n",
       "      <td>2</td>\n",
       "    </tr>\n",
       "  </tbody>\n",
       "</table>\n",
       "</div>"
      ],
      "text/plain": [
       "                         값  1순위+2순위_빈도\n",
       "3               즐겁고 재미난 체험          37\n",
       "0                휴식 및 건강증진          35\n",
       "1   산림에 대한 소양증진(지식,정보등 습득)          33\n",
       "2       지역의 독특한 자연 또는 문화체험          33\n",
       "4                     자기계발          17\n",
       "9             자연(산림) 감수성함양          17\n",
       "6                   대인관계형성          14\n",
       "5                   기타(업무)           7\n",
       "7                 기타(학과행사)           6\n",
       "8                 기타(체험학습)           5\n",
       "11             창작활동에 대한 기대           4\n",
       "10                 가족과의 시간           2"
      ]
     },
     "execution_count": 8,
     "metadata": {},
     "output_type": "execute_result"
    }
   ],
   "source": [
    "# '값' column을 기준으로 데이터프레임을 병합\n",
    "frequency1_C = pd.merge(frequency1_1, frequency1_2, on='값', how='outer')\n",
    "frequency1_C.fillna(0, inplace=True)\n",
    "frequency1_C['2순위'] = frequency1_C['2순위'].astype(int)\n",
    "# '1순위'와 '2순위' 빈도를 합산\n",
    "frequency1_C['1순위+2순위_빈도'] = frequency1_C['1순위'] + frequency1_C['2순위']\n",
    "frequency1_C = frequency1_C[['값', '1순위+2순위_빈도']]\n",
    "frequency1_C.sort_values('1순위+2순위_빈도', ascending=False, inplace=True)\n",
    "frequency1_C"
   ]
  },
  {
   "cell_type": "code",
   "execution_count": 36,
   "metadata": {},
   "outputs": [
    {
     "data": {
      "application/vnd.plotly.v1+json": {
       "config": {
        "plotlyServerURL": "https://plot.ly"
       },
       "data": [
        {
         "domain": {
          "x": [
           0,
           1
          ],
          "y": [
           0,
           1
          ]
         },
         "hole": 0.2,
         "hovertemplate": "값=%{label}<br>비율=%{value}<extra></extra>",
         "insidetextorientation": "horizontal",
         "labels": [
          "휴식 및 건강증진",
          "산림에 대한 소양증진(지식,정보등 습득)",
          "지역의 독특한 자연 또는 문화체험",
          "즐겁고 재미난 체험",
          "자기계발",
          "기타(업무)",
          "대인관계형성",
          "기타(학과행사)",
          "기타(체험학습)",
          "자연(산림) 감수성함양",
          "가족과의 시간",
          "창작활동에 대한 기대"
         ],
         "legendgroup": "",
         "name": "",
         "pull": [
          0.01,
          0.01,
          0.01,
          0.01,
          0.01,
          0.01,
          0.01,
          0.01,
          0.01,
          0.01,
          0.01,
          0.01
         ],
         "showlegend": true,
         "textinfo": "percent+label",
         "type": "pie",
         "values": [
          0.2,
          0.19047619047619047,
          0.1619047619047619,
          0.12380952380952381,
          0.06666666666666667,
          0.06666666666666667,
          0.05714285714285714,
          0.047619047619047616,
          0.0380952380952381,
          0.02857142857142857,
          0.009523809523809525,
          0.009523809523809525
         ]
        }
       ],
       "layout": {
        "font": {
         "size": 13
        },
        "height": 900,
        "legend": {
         "tracegroupgap": 0,
         "x": 1.3,
         "y": 0.5
        },
        "piecolorway": [
         "rgb(5,31,69)",
         "rgb(8,48,107)",
         "rgb(11,62,138)",
         "rgb(8,81,156)",
         "rgb(7,90,176)",
         "rgb(33,113,181)",
         "rgb(66,146,198)",
         "rgb(81,157,207)",
         "rgb(107,174,214)",
         "rgb(158,202,225)",
         "rgb(198,219,239)",
         "rgb(222,235,247)",
         "rgb(247,251,255)"
        ],
        "template": {
         "data": {
          "bar": [
           {
            "error_x": {
             "color": "#2a3f5f"
            },
            "error_y": {
             "color": "#2a3f5f"
            },
            "marker": {
             "line": {
              "color": "#E5ECF6",
              "width": 0.5
             }
            },
            "type": "bar"
           }
          ],
          "barpolar": [
           {
            "marker": {
             "line": {
              "color": "#E5ECF6",
              "width": 0.5
             }
            },
            "type": "barpolar"
           }
          ],
          "carpet": [
           {
            "aaxis": {
             "endlinecolor": "#2a3f5f",
             "gridcolor": "white",
             "linecolor": "white",
             "minorgridcolor": "white",
             "startlinecolor": "#2a3f5f"
            },
            "baxis": {
             "endlinecolor": "#2a3f5f",
             "gridcolor": "white",
             "linecolor": "white",
             "minorgridcolor": "white",
             "startlinecolor": "#2a3f5f"
            },
            "type": "carpet"
           }
          ],
          "choropleth": [
           {
            "colorbar": {
             "outlinewidth": 0,
             "ticks": ""
            },
            "type": "choropleth"
           }
          ],
          "contour": [
           {
            "colorbar": {
             "outlinewidth": 0,
             "ticks": ""
            },
            "colorscale": [
             [
              0,
              "#0d0887"
             ],
             [
              0.1111111111111111,
              "#46039f"
             ],
             [
              0.2222222222222222,
              "#7201a8"
             ],
             [
              0.3333333333333333,
              "#9c179e"
             ],
             [
              0.4444444444444444,
              "#bd3786"
             ],
             [
              0.5555555555555556,
              "#d8576b"
             ],
             [
              0.6666666666666666,
              "#ed7953"
             ],
             [
              0.7777777777777778,
              "#fb9f3a"
             ],
             [
              0.8888888888888888,
              "#fdca26"
             ],
             [
              1,
              "#f0f921"
             ]
            ],
            "type": "contour"
           }
          ],
          "contourcarpet": [
           {
            "colorbar": {
             "outlinewidth": 0,
             "ticks": ""
            },
            "type": "contourcarpet"
           }
          ],
          "heatmap": [
           {
            "colorbar": {
             "outlinewidth": 0,
             "ticks": ""
            },
            "colorscale": [
             [
              0,
              "#0d0887"
             ],
             [
              0.1111111111111111,
              "#46039f"
             ],
             [
              0.2222222222222222,
              "#7201a8"
             ],
             [
              0.3333333333333333,
              "#9c179e"
             ],
             [
              0.4444444444444444,
              "#bd3786"
             ],
             [
              0.5555555555555556,
              "#d8576b"
             ],
             [
              0.6666666666666666,
              "#ed7953"
             ],
             [
              0.7777777777777778,
              "#fb9f3a"
             ],
             [
              0.8888888888888888,
              "#fdca26"
             ],
             [
              1,
              "#f0f921"
             ]
            ],
            "type": "heatmap"
           }
          ],
          "heatmapgl": [
           {
            "colorbar": {
             "outlinewidth": 0,
             "ticks": ""
            },
            "colorscale": [
             [
              0,
              "#0d0887"
             ],
             [
              0.1111111111111111,
              "#46039f"
             ],
             [
              0.2222222222222222,
              "#7201a8"
             ],
             [
              0.3333333333333333,
              "#9c179e"
             ],
             [
              0.4444444444444444,
              "#bd3786"
             ],
             [
              0.5555555555555556,
              "#d8576b"
             ],
             [
              0.6666666666666666,
              "#ed7953"
             ],
             [
              0.7777777777777778,
              "#fb9f3a"
             ],
             [
              0.8888888888888888,
              "#fdca26"
             ],
             [
              1,
              "#f0f921"
             ]
            ],
            "type": "heatmapgl"
           }
          ],
          "histogram": [
           {
            "marker": {
             "colorbar": {
              "outlinewidth": 0,
              "ticks": ""
             }
            },
            "type": "histogram"
           }
          ],
          "histogram2d": [
           {
            "colorbar": {
             "outlinewidth": 0,
             "ticks": ""
            },
            "colorscale": [
             [
              0,
              "#0d0887"
             ],
             [
              0.1111111111111111,
              "#46039f"
             ],
             [
              0.2222222222222222,
              "#7201a8"
             ],
             [
              0.3333333333333333,
              "#9c179e"
             ],
             [
              0.4444444444444444,
              "#bd3786"
             ],
             [
              0.5555555555555556,
              "#d8576b"
             ],
             [
              0.6666666666666666,
              "#ed7953"
             ],
             [
              0.7777777777777778,
              "#fb9f3a"
             ],
             [
              0.8888888888888888,
              "#fdca26"
             ],
             [
              1,
              "#f0f921"
             ]
            ],
            "type": "histogram2d"
           }
          ],
          "histogram2dcontour": [
           {
            "colorbar": {
             "outlinewidth": 0,
             "ticks": ""
            },
            "colorscale": [
             [
              0,
              "#0d0887"
             ],
             [
              0.1111111111111111,
              "#46039f"
             ],
             [
              0.2222222222222222,
              "#7201a8"
             ],
             [
              0.3333333333333333,
              "#9c179e"
             ],
             [
              0.4444444444444444,
              "#bd3786"
             ],
             [
              0.5555555555555556,
              "#d8576b"
             ],
             [
              0.6666666666666666,
              "#ed7953"
             ],
             [
              0.7777777777777778,
              "#fb9f3a"
             ],
             [
              0.8888888888888888,
              "#fdca26"
             ],
             [
              1,
              "#f0f921"
             ]
            ],
            "type": "histogram2dcontour"
           }
          ],
          "mesh3d": [
           {
            "colorbar": {
             "outlinewidth": 0,
             "ticks": ""
            },
            "type": "mesh3d"
           }
          ],
          "parcoords": [
           {
            "line": {
             "colorbar": {
              "outlinewidth": 0,
              "ticks": ""
             }
            },
            "type": "parcoords"
           }
          ],
          "pie": [
           {
            "automargin": true,
            "type": "pie"
           }
          ],
          "scatter": [
           {
            "marker": {
             "colorbar": {
              "outlinewidth": 0,
              "ticks": ""
             }
            },
            "type": "scatter"
           }
          ],
          "scatter3d": [
           {
            "line": {
             "colorbar": {
              "outlinewidth": 0,
              "ticks": ""
             }
            },
            "marker": {
             "colorbar": {
              "outlinewidth": 0,
              "ticks": ""
             }
            },
            "type": "scatter3d"
           }
          ],
          "scattercarpet": [
           {
            "marker": {
             "colorbar": {
              "outlinewidth": 0,
              "ticks": ""
             }
            },
            "type": "scattercarpet"
           }
          ],
          "scattergeo": [
           {
            "marker": {
             "colorbar": {
              "outlinewidth": 0,
              "ticks": ""
             }
            },
            "type": "scattergeo"
           }
          ],
          "scattergl": [
           {
            "marker": {
             "colorbar": {
              "outlinewidth": 0,
              "ticks": ""
             }
            },
            "type": "scattergl"
           }
          ],
          "scattermapbox": [
           {
            "marker": {
             "colorbar": {
              "outlinewidth": 0,
              "ticks": ""
             }
            },
            "type": "scattermapbox"
           }
          ],
          "scatterpolar": [
           {
            "marker": {
             "colorbar": {
              "outlinewidth": 0,
              "ticks": ""
             }
            },
            "type": "scatterpolar"
           }
          ],
          "scatterpolargl": [
           {
            "marker": {
             "colorbar": {
              "outlinewidth": 0,
              "ticks": ""
             }
            },
            "type": "scatterpolargl"
           }
          ],
          "scatterternary": [
           {
            "marker": {
             "colorbar": {
              "outlinewidth": 0,
              "ticks": ""
             }
            },
            "type": "scatterternary"
           }
          ],
          "surface": [
           {
            "colorbar": {
             "outlinewidth": 0,
             "ticks": ""
            },
            "colorscale": [
             [
              0,
              "#0d0887"
             ],
             [
              0.1111111111111111,
              "#46039f"
             ],
             [
              0.2222222222222222,
              "#7201a8"
             ],
             [
              0.3333333333333333,
              "#9c179e"
             ],
             [
              0.4444444444444444,
              "#bd3786"
             ],
             [
              0.5555555555555556,
              "#d8576b"
             ],
             [
              0.6666666666666666,
              "#ed7953"
             ],
             [
              0.7777777777777778,
              "#fb9f3a"
             ],
             [
              0.8888888888888888,
              "#fdca26"
             ],
             [
              1,
              "#f0f921"
             ]
            ],
            "type": "surface"
           }
          ],
          "table": [
           {
            "cells": {
             "fill": {
              "color": "#EBF0F8"
             },
             "line": {
              "color": "white"
             }
            },
            "header": {
             "fill": {
              "color": "#C8D4E3"
             },
             "line": {
              "color": "white"
             }
            },
            "type": "table"
           }
          ]
         },
         "layout": {
          "annotationdefaults": {
           "arrowcolor": "#2a3f5f",
           "arrowhead": 0,
           "arrowwidth": 1
          },
          "autotypenumbers": "strict",
          "coloraxis": {
           "colorbar": {
            "outlinewidth": 0,
            "ticks": ""
           }
          },
          "colorscale": {
           "diverging": [
            [
             0,
             "#8e0152"
            ],
            [
             0.1,
             "#c51b7d"
            ],
            [
             0.2,
             "#de77ae"
            ],
            [
             0.3,
             "#f1b6da"
            ],
            [
             0.4,
             "#fde0ef"
            ],
            [
             0.5,
             "#f7f7f7"
            ],
            [
             0.6,
             "#e6f5d0"
            ],
            [
             0.7,
             "#b8e186"
            ],
            [
             0.8,
             "#7fbc41"
            ],
            [
             0.9,
             "#4d9221"
            ],
            [
             1,
             "#276419"
            ]
           ],
           "sequential": [
            [
             0,
             "#0d0887"
            ],
            [
             0.1111111111111111,
             "#46039f"
            ],
            [
             0.2222222222222222,
             "#7201a8"
            ],
            [
             0.3333333333333333,
             "#9c179e"
            ],
            [
             0.4444444444444444,
             "#bd3786"
            ],
            [
             0.5555555555555556,
             "#d8576b"
            ],
            [
             0.6666666666666666,
             "#ed7953"
            ],
            [
             0.7777777777777778,
             "#fb9f3a"
            ],
            [
             0.8888888888888888,
             "#fdca26"
            ],
            [
             1,
             "#f0f921"
            ]
           ],
           "sequentialminus": [
            [
             0,
             "#0d0887"
            ],
            [
             0.1111111111111111,
             "#46039f"
            ],
            [
             0.2222222222222222,
             "#7201a8"
            ],
            [
             0.3333333333333333,
             "#9c179e"
            ],
            [
             0.4444444444444444,
             "#bd3786"
            ],
            [
             0.5555555555555556,
             "#d8576b"
            ],
            [
             0.6666666666666666,
             "#ed7953"
            ],
            [
             0.7777777777777778,
             "#fb9f3a"
            ],
            [
             0.8888888888888888,
             "#fdca26"
            ],
            [
             1,
             "#f0f921"
            ]
           ]
          },
          "colorway": [
           "#636efa",
           "#EF553B",
           "#00cc96",
           "#ab63fa",
           "#FFA15A",
           "#19d3f3",
           "#FF6692",
           "#B6E880",
           "#FF97FF",
           "#FECB52"
          ],
          "font": {
           "color": "#2a3f5f"
          },
          "geo": {
           "bgcolor": "white",
           "lakecolor": "white",
           "landcolor": "#E5ECF6",
           "showlakes": true,
           "showland": true,
           "subunitcolor": "white"
          },
          "hoverlabel": {
           "align": "left"
          },
          "hovermode": "closest",
          "mapbox": {
           "style": "light"
          },
          "paper_bgcolor": "white",
          "plot_bgcolor": "#E5ECF6",
          "polar": {
           "angularaxis": {
            "gridcolor": "white",
            "linecolor": "white",
            "ticks": ""
           },
           "bgcolor": "#E5ECF6",
           "radialaxis": {
            "gridcolor": "white",
            "linecolor": "white",
            "ticks": ""
           }
          },
          "scene": {
           "xaxis": {
            "backgroundcolor": "#E5ECF6",
            "gridcolor": "white",
            "gridwidth": 2,
            "linecolor": "white",
            "showbackground": true,
            "ticks": "",
            "zerolinecolor": "white"
           },
           "yaxis": {
            "backgroundcolor": "#E5ECF6",
            "gridcolor": "white",
            "gridwidth": 2,
            "linecolor": "white",
            "showbackground": true,
            "ticks": "",
            "zerolinecolor": "white"
           },
           "zaxis": {
            "backgroundcolor": "#E5ECF6",
            "gridcolor": "white",
            "gridwidth": 2,
            "linecolor": "white",
            "showbackground": true,
            "ticks": "",
            "zerolinecolor": "white"
           }
          },
          "shapedefaults": {
           "line": {
            "color": "#2a3f5f"
           }
          },
          "ternary": {
           "aaxis": {
            "gridcolor": "white",
            "linecolor": "white",
            "ticks": ""
           },
           "baxis": {
            "gridcolor": "white",
            "linecolor": "white",
            "ticks": ""
           },
           "bgcolor": "#E5ECF6",
           "caxis": {
            "gridcolor": "white",
            "linecolor": "white",
            "ticks": ""
           }
          },
          "title": {
           "x": 0.05
          },
          "xaxis": {
           "automargin": true,
           "gridcolor": "white",
           "linecolor": "white",
           "ticks": "",
           "title": {
            "standoff": 15
           },
           "zerolinecolor": "white",
           "zerolinewidth": 2
          },
          "yaxis": {
           "automargin": true,
           "gridcolor": "white",
           "linecolor": "white",
           "ticks": "",
           "title": {
            "standoff": 15
           },
           "zerolinecolor": "white",
           "zerolinewidth": 2
          }
         }
        },
        "title": {
         "text": "<b>귀하가 강원세계산림엑스포에 참여하는 참여동기는 무엇입니까? - 1순위</b>"
        },
        "width": 1400
       }
      }
     },
     "metadata": {},
     "output_type": "display_data"
    }
   ],
   "source": [
    "# 빈도를 비율로 변환\n",
    "frequency1_1['비율'] = frequency1_1['1순위'] / frequency1_1['1순위'].sum()\n",
    "\n",
    "# 파이 차트 시각화 (크기 조절)\n",
    "fig = px.pie(frequency1_1, values='비율', names='값', title=\"<b>귀하가 강원세계산림엑스포에 참여하는 참여동기는 무엇입니까? - 1순위</b>\", hole=0.2,\n",
    "                color_discrete_sequence=color_scale)\n",
    "\n",
    "fig.update_layout(\n",
    "    font=dict(size=13),\n",
    "    height=900,  # 그림의 높이 설정\n",
    "    width=1400,    # 그림의 너비 설정\n",
    "    legend=dict(x=1.3, y=0.5)  # 범례 위치 조정 (x, y 조절 가능)\n",
    ")\n",
    "# 차트 내에 비율 숫자 직접 표시\n",
    "pull_lst = [0.01] * 12\n",
    "fig.update_traces(textinfo='percent+label', pull=pull_lst, insidetextorientation='horizontal')  # 비율 숫자를 라벨과 함께 표시\n",
    "\n",
    "fig.show()\n"
   ]
  },
  {
   "cell_type": "code",
   "execution_count": null,
   "metadata": {},
   "outputs": [],
   "source": [
    "# 빈도를 비율로 변환\n",
    "frequency1_2['비율'] = frequency1_2['2순위'] / frequency1_2['2순위'].sum()\n",
    "\n",
    "# 파이 차트 시각화 (크기 조절)\n",
    "fig = px.pie(frequency1_2, values='비율', names='값', title=\"<b>귀하가 강원세계산림엑스포에 참여하는 참여동기는 무엇입니까? - 2순위</b>\", hole=0.2,\n",
    "                color_discrete_sequence=color_scale)\n",
    "fig.update_layout(\n",
    "    font=dict(size=13),\n",
    "    height=900,  # 그림의 높이 설정\n",
    "    width=1400,    # 그림의 너비 설정\n",
    "    legend=dict(x=1.3, y=0.5)  # 범례 위치 조정 (x, y 조절 가능)\n",
    ")\n",
    "# 차트 내에 비율 숫자 직접 표시\n",
    "pull_lst = [0.01] * 12\n",
    "fig.update_traces(textinfo='percent+label', pull=pull_lst, insidetextorientation='horizontal')  # 비율 숫자를 라벨과 함께 표시\n",
    "\n",
    "fig.show()"
   ]
  },
  {
   "cell_type": "code",
   "execution_count": 11,
   "metadata": {},
   "outputs": [
    {
     "data": {
      "application/vnd.plotly.v1+json": {
       "config": {
        "plotlyServerURL": "https://plot.ly"
       },
       "data": [
        {
         "domain": {
          "x": [
           0,
           1
          ],
          "y": [
           0,
           1
          ]
         },
         "hole": 0.2,
         "hovertemplate": "값=%{label}<br>비율=%{value}<extra></extra>",
         "insidetextorientation": "horizontal",
         "labels": [
          "즐겁고 재미난 체험",
          "휴식 및 건강증진",
          "산림에 대한 소양증진(지식,정보등 습득)",
          "지역의 독특한 자연 또는 문화체험",
          "자기계발",
          "자연(산림) 감수성함양",
          "대인관계형성",
          "기타(업무)",
          "기타(학과행사)",
          "기타(체험학습)",
          "창작활동에 대한 기대",
          "가족과의 시간"
         ],
         "legendgroup": "",
         "name": "",
         "pull": [
          0.01,
          0.01,
          0.01,
          0.01,
          0.01,
          0.01,
          0.01,
          0.01,
          0.01,
          0.01,
          0.01,
          0.01
         ],
         "showlegend": true,
         "textinfo": "percent+label",
         "type": "pie",
         "values": [
          0.1761904761904762,
          0.16666666666666666,
          0.15714285714285714,
          0.15714285714285714,
          0.08095238095238096,
          0.08095238095238096,
          0.06666666666666667,
          0.03333333333333333,
          0.02857142857142857,
          0.023809523809523808,
          0.01904761904761905,
          0.009523809523809525
         ]
        }
       ],
       "layout": {
        "font": {
         "size": 13
        },
        "height": 900,
        "legend": {
         "tracegroupgap": 0,
         "x": 1.3,
         "y": 0.5
        },
        "piecolorway": [
         "rgb(5,31,69)",
         "rgb(8,48,107)",
         "rgb(11,62,138)",
         "rgb(8,81,156)",
         "rgb(7,90,176)",
         "rgb(33,113,181)",
         "rgb(66,146,198)",
         "rgb(81,157,207)",
         "rgb(107,174,214)",
         "rgb(158,202,225)",
         "rgb(198,219,239)",
         "rgb(222,235,247)",
         "rgb(247,251,255)"
        ],
        "template": {
         "data": {
          "bar": [
           {
            "error_x": {
             "color": "#2a3f5f"
            },
            "error_y": {
             "color": "#2a3f5f"
            },
            "marker": {
             "line": {
              "color": "#E5ECF6",
              "width": 0.5
             }
            },
            "type": "bar"
           }
          ],
          "barpolar": [
           {
            "marker": {
             "line": {
              "color": "#E5ECF6",
              "width": 0.5
             }
            },
            "type": "barpolar"
           }
          ],
          "carpet": [
           {
            "aaxis": {
             "endlinecolor": "#2a3f5f",
             "gridcolor": "white",
             "linecolor": "white",
             "minorgridcolor": "white",
             "startlinecolor": "#2a3f5f"
            },
            "baxis": {
             "endlinecolor": "#2a3f5f",
             "gridcolor": "white",
             "linecolor": "white",
             "minorgridcolor": "white",
             "startlinecolor": "#2a3f5f"
            },
            "type": "carpet"
           }
          ],
          "choropleth": [
           {
            "colorbar": {
             "outlinewidth": 0,
             "ticks": ""
            },
            "type": "choropleth"
           }
          ],
          "contour": [
           {
            "colorbar": {
             "outlinewidth": 0,
             "ticks": ""
            },
            "colorscale": [
             [
              0,
              "#0d0887"
             ],
             [
              0.1111111111111111,
              "#46039f"
             ],
             [
              0.2222222222222222,
              "#7201a8"
             ],
             [
              0.3333333333333333,
              "#9c179e"
             ],
             [
              0.4444444444444444,
              "#bd3786"
             ],
             [
              0.5555555555555556,
              "#d8576b"
             ],
             [
              0.6666666666666666,
              "#ed7953"
             ],
             [
              0.7777777777777778,
              "#fb9f3a"
             ],
             [
              0.8888888888888888,
              "#fdca26"
             ],
             [
              1,
              "#f0f921"
             ]
            ],
            "type": "contour"
           }
          ],
          "contourcarpet": [
           {
            "colorbar": {
             "outlinewidth": 0,
             "ticks": ""
            },
            "type": "contourcarpet"
           }
          ],
          "heatmap": [
           {
            "colorbar": {
             "outlinewidth": 0,
             "ticks": ""
            },
            "colorscale": [
             [
              0,
              "#0d0887"
             ],
             [
              0.1111111111111111,
              "#46039f"
             ],
             [
              0.2222222222222222,
              "#7201a8"
             ],
             [
              0.3333333333333333,
              "#9c179e"
             ],
             [
              0.4444444444444444,
              "#bd3786"
             ],
             [
              0.5555555555555556,
              "#d8576b"
             ],
             [
              0.6666666666666666,
              "#ed7953"
             ],
             [
              0.7777777777777778,
              "#fb9f3a"
             ],
             [
              0.8888888888888888,
              "#fdca26"
             ],
             [
              1,
              "#f0f921"
             ]
            ],
            "type": "heatmap"
           }
          ],
          "heatmapgl": [
           {
            "colorbar": {
             "outlinewidth": 0,
             "ticks": ""
            },
            "colorscale": [
             [
              0,
              "#0d0887"
             ],
             [
              0.1111111111111111,
              "#46039f"
             ],
             [
              0.2222222222222222,
              "#7201a8"
             ],
             [
              0.3333333333333333,
              "#9c179e"
             ],
             [
              0.4444444444444444,
              "#bd3786"
             ],
             [
              0.5555555555555556,
              "#d8576b"
             ],
             [
              0.6666666666666666,
              "#ed7953"
             ],
             [
              0.7777777777777778,
              "#fb9f3a"
             ],
             [
              0.8888888888888888,
              "#fdca26"
             ],
             [
              1,
              "#f0f921"
             ]
            ],
            "type": "heatmapgl"
           }
          ],
          "histogram": [
           {
            "marker": {
             "colorbar": {
              "outlinewidth": 0,
              "ticks": ""
             }
            },
            "type": "histogram"
           }
          ],
          "histogram2d": [
           {
            "colorbar": {
             "outlinewidth": 0,
             "ticks": ""
            },
            "colorscale": [
             [
              0,
              "#0d0887"
             ],
             [
              0.1111111111111111,
              "#46039f"
             ],
             [
              0.2222222222222222,
              "#7201a8"
             ],
             [
              0.3333333333333333,
              "#9c179e"
             ],
             [
              0.4444444444444444,
              "#bd3786"
             ],
             [
              0.5555555555555556,
              "#d8576b"
             ],
             [
              0.6666666666666666,
              "#ed7953"
             ],
             [
              0.7777777777777778,
              "#fb9f3a"
             ],
             [
              0.8888888888888888,
              "#fdca26"
             ],
             [
              1,
              "#f0f921"
             ]
            ],
            "type": "histogram2d"
           }
          ],
          "histogram2dcontour": [
           {
            "colorbar": {
             "outlinewidth": 0,
             "ticks": ""
            },
            "colorscale": [
             [
              0,
              "#0d0887"
             ],
             [
              0.1111111111111111,
              "#46039f"
             ],
             [
              0.2222222222222222,
              "#7201a8"
             ],
             [
              0.3333333333333333,
              "#9c179e"
             ],
             [
              0.4444444444444444,
              "#bd3786"
             ],
             [
              0.5555555555555556,
              "#d8576b"
             ],
             [
              0.6666666666666666,
              "#ed7953"
             ],
             [
              0.7777777777777778,
              "#fb9f3a"
             ],
             [
              0.8888888888888888,
              "#fdca26"
             ],
             [
              1,
              "#f0f921"
             ]
            ],
            "type": "histogram2dcontour"
           }
          ],
          "mesh3d": [
           {
            "colorbar": {
             "outlinewidth": 0,
             "ticks": ""
            },
            "type": "mesh3d"
           }
          ],
          "parcoords": [
           {
            "line": {
             "colorbar": {
              "outlinewidth": 0,
              "ticks": ""
             }
            },
            "type": "parcoords"
           }
          ],
          "pie": [
           {
            "automargin": true,
            "type": "pie"
           }
          ],
          "scatter": [
           {
            "marker": {
             "colorbar": {
              "outlinewidth": 0,
              "ticks": ""
             }
            },
            "type": "scatter"
           }
          ],
          "scatter3d": [
           {
            "line": {
             "colorbar": {
              "outlinewidth": 0,
              "ticks": ""
             }
            },
            "marker": {
             "colorbar": {
              "outlinewidth": 0,
              "ticks": ""
             }
            },
            "type": "scatter3d"
           }
          ],
          "scattercarpet": [
           {
            "marker": {
             "colorbar": {
              "outlinewidth": 0,
              "ticks": ""
             }
            },
            "type": "scattercarpet"
           }
          ],
          "scattergeo": [
           {
            "marker": {
             "colorbar": {
              "outlinewidth": 0,
              "ticks": ""
             }
            },
            "type": "scattergeo"
           }
          ],
          "scattergl": [
           {
            "marker": {
             "colorbar": {
              "outlinewidth": 0,
              "ticks": ""
             }
            },
            "type": "scattergl"
           }
          ],
          "scattermapbox": [
           {
            "marker": {
             "colorbar": {
              "outlinewidth": 0,
              "ticks": ""
             }
            },
            "type": "scattermapbox"
           }
          ],
          "scatterpolar": [
           {
            "marker": {
             "colorbar": {
              "outlinewidth": 0,
              "ticks": ""
             }
            },
            "type": "scatterpolar"
           }
          ],
          "scatterpolargl": [
           {
            "marker": {
             "colorbar": {
              "outlinewidth": 0,
              "ticks": ""
             }
            },
            "type": "scatterpolargl"
           }
          ],
          "scatterternary": [
           {
            "marker": {
             "colorbar": {
              "outlinewidth": 0,
              "ticks": ""
             }
            },
            "type": "scatterternary"
           }
          ],
          "surface": [
           {
            "colorbar": {
             "outlinewidth": 0,
             "ticks": ""
            },
            "colorscale": [
             [
              0,
              "#0d0887"
             ],
             [
              0.1111111111111111,
              "#46039f"
             ],
             [
              0.2222222222222222,
              "#7201a8"
             ],
             [
              0.3333333333333333,
              "#9c179e"
             ],
             [
              0.4444444444444444,
              "#bd3786"
             ],
             [
              0.5555555555555556,
              "#d8576b"
             ],
             [
              0.6666666666666666,
              "#ed7953"
             ],
             [
              0.7777777777777778,
              "#fb9f3a"
             ],
             [
              0.8888888888888888,
              "#fdca26"
             ],
             [
              1,
              "#f0f921"
             ]
            ],
            "type": "surface"
           }
          ],
          "table": [
           {
            "cells": {
             "fill": {
              "color": "#EBF0F8"
             },
             "line": {
              "color": "white"
             }
            },
            "header": {
             "fill": {
              "color": "#C8D4E3"
             },
             "line": {
              "color": "white"
             }
            },
            "type": "table"
           }
          ]
         },
         "layout": {
          "annotationdefaults": {
           "arrowcolor": "#2a3f5f",
           "arrowhead": 0,
           "arrowwidth": 1
          },
          "autotypenumbers": "strict",
          "coloraxis": {
           "colorbar": {
            "outlinewidth": 0,
            "ticks": ""
           }
          },
          "colorscale": {
           "diverging": [
            [
             0,
             "#8e0152"
            ],
            [
             0.1,
             "#c51b7d"
            ],
            [
             0.2,
             "#de77ae"
            ],
            [
             0.3,
             "#f1b6da"
            ],
            [
             0.4,
             "#fde0ef"
            ],
            [
             0.5,
             "#f7f7f7"
            ],
            [
             0.6,
             "#e6f5d0"
            ],
            [
             0.7,
             "#b8e186"
            ],
            [
             0.8,
             "#7fbc41"
            ],
            [
             0.9,
             "#4d9221"
            ],
            [
             1,
             "#276419"
            ]
           ],
           "sequential": [
            [
             0,
             "#0d0887"
            ],
            [
             0.1111111111111111,
             "#46039f"
            ],
            [
             0.2222222222222222,
             "#7201a8"
            ],
            [
             0.3333333333333333,
             "#9c179e"
            ],
            [
             0.4444444444444444,
             "#bd3786"
            ],
            [
             0.5555555555555556,
             "#d8576b"
            ],
            [
             0.6666666666666666,
             "#ed7953"
            ],
            [
             0.7777777777777778,
             "#fb9f3a"
            ],
            [
             0.8888888888888888,
             "#fdca26"
            ],
            [
             1,
             "#f0f921"
            ]
           ],
           "sequentialminus": [
            [
             0,
             "#0d0887"
            ],
            [
             0.1111111111111111,
             "#46039f"
            ],
            [
             0.2222222222222222,
             "#7201a8"
            ],
            [
             0.3333333333333333,
             "#9c179e"
            ],
            [
             0.4444444444444444,
             "#bd3786"
            ],
            [
             0.5555555555555556,
             "#d8576b"
            ],
            [
             0.6666666666666666,
             "#ed7953"
            ],
            [
             0.7777777777777778,
             "#fb9f3a"
            ],
            [
             0.8888888888888888,
             "#fdca26"
            ],
            [
             1,
             "#f0f921"
            ]
           ]
          },
          "colorway": [
           "#636efa",
           "#EF553B",
           "#00cc96",
           "#ab63fa",
           "#FFA15A",
           "#19d3f3",
           "#FF6692",
           "#B6E880",
           "#FF97FF",
           "#FECB52"
          ],
          "font": {
           "color": "#2a3f5f"
          },
          "geo": {
           "bgcolor": "white",
           "lakecolor": "white",
           "landcolor": "#E5ECF6",
           "showlakes": true,
           "showland": true,
           "subunitcolor": "white"
          },
          "hoverlabel": {
           "align": "left"
          },
          "hovermode": "closest",
          "mapbox": {
           "style": "light"
          },
          "paper_bgcolor": "white",
          "plot_bgcolor": "#E5ECF6",
          "polar": {
           "angularaxis": {
            "gridcolor": "white",
            "linecolor": "white",
            "ticks": ""
           },
           "bgcolor": "#E5ECF6",
           "radialaxis": {
            "gridcolor": "white",
            "linecolor": "white",
            "ticks": ""
           }
          },
          "scene": {
           "xaxis": {
            "backgroundcolor": "#E5ECF6",
            "gridcolor": "white",
            "gridwidth": 2,
            "linecolor": "white",
            "showbackground": true,
            "ticks": "",
            "zerolinecolor": "white"
           },
           "yaxis": {
            "backgroundcolor": "#E5ECF6",
            "gridcolor": "white",
            "gridwidth": 2,
            "linecolor": "white",
            "showbackground": true,
            "ticks": "",
            "zerolinecolor": "white"
           },
           "zaxis": {
            "backgroundcolor": "#E5ECF6",
            "gridcolor": "white",
            "gridwidth": 2,
            "linecolor": "white",
            "showbackground": true,
            "ticks": "",
            "zerolinecolor": "white"
           }
          },
          "shapedefaults": {
           "line": {
            "color": "#2a3f5f"
           }
          },
          "ternary": {
           "aaxis": {
            "gridcolor": "white",
            "linecolor": "white",
            "ticks": ""
           },
           "baxis": {
            "gridcolor": "white",
            "linecolor": "white",
            "ticks": ""
           },
           "bgcolor": "#E5ECF6",
           "caxis": {
            "gridcolor": "white",
            "linecolor": "white",
            "ticks": ""
           }
          },
          "title": {
           "x": 0.05
          },
          "xaxis": {
           "automargin": true,
           "gridcolor": "white",
           "linecolor": "white",
           "ticks": "",
           "title": {
            "standoff": 15
           },
           "zerolinecolor": "white",
           "zerolinewidth": 2
          },
          "yaxis": {
           "automargin": true,
           "gridcolor": "white",
           "linecolor": "white",
           "ticks": "",
           "title": {
            "standoff": 15
           },
           "zerolinecolor": "white",
           "zerolinewidth": 2
          }
         }
        },
        "title": {
         "text": "<b>귀하가 강원세계산림엑스포에 참여하는 참여동기는 무엇입니까? - 1순위+2순위</b>"
        },
        "width": 1400
       }
      }
     },
     "metadata": {},
     "output_type": "display_data"
    }
   ],
   "source": [
    "# 빈도를 비율로 변환\n",
    "frequency1_C['비율'] = frequency1_C['1순위+2순위_빈도'] / frequency1_C['1순위+2순위_빈도'].sum()\n",
    "\n",
    "# 파이 차트 시각화 (크기 조절)\n",
    "fig = px.pie(frequency1_C, values='비율', names='값', title=\"<b>귀하가 강원세계산림엑스포에 참여하는 참여동기는 무엇입니까? - 1순위+2순위</b>\", hole=0.2,\n",
    "                color_discrete_sequence=color_scale)\n",
    "fig.update_layout(\n",
    "    font=dict(size=13),\n",
    "    height=900,  # 그림의 높이 설정\n",
    "    width=1400,    # 그림의 너비 설정\n",
    "    legend=dict(x=1.3, y=0.5)  # 범례 위치 조정 (x, y 조절 가능)\n",
    ")\n",
    "# 차트 내에 비율 숫자 직접 표시\n",
    "pull_lst = [0.01] * 12\n",
    "fig.update_traces(textinfo='percent+label', pull=pull_lst, insidetextorientation='horizontal')  # 비율 숫자를 라벨과 함께 표시\n",
    "\n",
    "fig.show()"
   ]
  },
  {
   "attachments": {},
   "cell_type": "markdown",
   "metadata": {},
   "source": [
    "### 1순위만 합산한 표 생성"
   ]
  },
  {
   "cell_type": "code",
   "execution_count": 38,
   "metadata": {},
   "outputs": [
    {
     "name": "stderr",
     "output_type": "stream",
     "text": [
      "C:\\Users\\user\\AppData\\Local\\Temp\\ipykernel_19340\\574727462.py:46: FutureWarning:\n",
      "\n",
      "The behavior of DataFrame concatenation with empty or all-NA entries is deprecated. In a future version, this will no longer exclude empty or all-NA columns when determining the result dtypes. To retain the old behavior, exclude the relevant entries before the concat operation.\n",
      "\n"
     ]
    },
    {
     "data": {
      "text/html": [
       "<div>\n",
       "<style scoped>\n",
       "    .dataframe tbody tr th:only-of-type {\n",
       "        vertical-align: middle;\n",
       "    }\n",
       "\n",
       "    .dataframe tbody tr th {\n",
       "        vertical-align: top;\n",
       "    }\n",
       "\n",
       "    .dataframe thead th {\n",
       "        text-align: right;\n",
       "    }\n",
       "</style>\n",
       "<table border=\"1\" class=\"dataframe\">\n",
       "  <thead>\n",
       "    <tr style=\"text-align: right;\">\n",
       "      <th></th>\n",
       "      <th></th>\n",
       "      <th>휴식 및 건강증진-빈도</th>\n",
       "      <th>휴식 및 건강증진-비율</th>\n",
       "      <th>자기계발-빈도</th>\n",
       "      <th>자기계발-비율</th>\n",
       "      <th>산림에 대한 소양증진(지식,정보등 습득)-빈도</th>\n",
       "      <th>산림에 대한 소양증진(지식,정보등 습득)-비율</th>\n",
       "      <th>즐겁고 재미난 체험-빈도</th>\n",
       "      <th>즐겁고 재미난 체험-비율</th>\n",
       "      <th>자연(산림) 감수성함양-빈도</th>\n",
       "      <th>자연(산림) 감수성함양-비율</th>\n",
       "      <th>가족과의 시간-빈도</th>\n",
       "      <th>가족과의 시간-비율</th>\n",
       "      <th>대인관계형성-빈도</th>\n",
       "      <th>대인관계형성-비율</th>\n",
       "      <th>창작활동에 대한 기대-빈도</th>\n",
       "      <th>창작활동에 대한 기대-비율</th>\n",
       "      <th>지역의 독특한 자연 또는 문화체험-빈도</th>\n",
       "      <th>지역의 독특한 자연 또는 문화체험-비율</th>\n",
       "      <th>기타(업무)-빈도</th>\n",
       "      <th>기타(업무)-비율</th>\n",
       "      <th>기타(학과행사)-빈도</th>\n",
       "      <th>기타(학과행사)-비율</th>\n",
       "      <th>기타(체험학습)-빈도</th>\n",
       "      <th>기타(체험학습)-비율</th>\n",
       "      <th>사례수</th>\n",
       "    </tr>\n",
       "  </thead>\n",
       "  <tbody>\n",
       "    <tr>\n",
       "      <th rowspan=\"2\" valign=\"top\">성별</th>\n",
       "      <th>남성</th>\n",
       "      <td>13</td>\n",
       "      <td>26.0</td>\n",
       "      <td>4</td>\n",
       "      <td>8.0</td>\n",
       "      <td>9</td>\n",
       "      <td>18.0</td>\n",
       "      <td>5</td>\n",
       "      <td>10.0</td>\n",
       "      <td>1</td>\n",
       "      <td>2.0</td>\n",
       "      <td>1</td>\n",
       "      <td>2.0</td>\n",
       "      <td>4</td>\n",
       "      <td>8.0</td>\n",
       "      <td>1</td>\n",
       "      <td>2.0</td>\n",
       "      <td>5</td>\n",
       "      <td>10.0</td>\n",
       "      <td>4</td>\n",
       "      <td>8.0</td>\n",
       "      <td>2</td>\n",
       "      <td>4.0</td>\n",
       "      <td>1</td>\n",
       "      <td>2.0</td>\n",
       "      <td>50</td>\n",
       "    </tr>\n",
       "    <tr>\n",
       "      <th>여성</th>\n",
       "      <td>8</td>\n",
       "      <td>14.5</td>\n",
       "      <td>3</td>\n",
       "      <td>5.5</td>\n",
       "      <td>11</td>\n",
       "      <td>20.0</td>\n",
       "      <td>8</td>\n",
       "      <td>14.5</td>\n",
       "      <td>2</td>\n",
       "      <td>3.6</td>\n",
       "      <td>0</td>\n",
       "      <td>0.0</td>\n",
       "      <td>2</td>\n",
       "      <td>3.6</td>\n",
       "      <td>0</td>\n",
       "      <td>0.0</td>\n",
       "      <td>12</td>\n",
       "      <td>21.8</td>\n",
       "      <td>3</td>\n",
       "      <td>5.5</td>\n",
       "      <td>3</td>\n",
       "      <td>5.5</td>\n",
       "      <td>3</td>\n",
       "      <td>5.5</td>\n",
       "      <td>55</td>\n",
       "    </tr>\n",
       "    <tr>\n",
       "      <th rowspan=\"6\" valign=\"top\">연령</th>\n",
       "      <th>10대(15세이상)</th>\n",
       "      <td>0</td>\n",
       "      <td>0.0</td>\n",
       "      <td>0</td>\n",
       "      <td>0.0</td>\n",
       "      <td>0</td>\n",
       "      <td>0.0</td>\n",
       "      <td>1</td>\n",
       "      <td>14.3</td>\n",
       "      <td>0</td>\n",
       "      <td>0.0</td>\n",
       "      <td>0</td>\n",
       "      <td>0.0</td>\n",
       "      <td>0</td>\n",
       "      <td>0.0</td>\n",
       "      <td>0</td>\n",
       "      <td>0.0</td>\n",
       "      <td>2</td>\n",
       "      <td>28.6</td>\n",
       "      <td>0</td>\n",
       "      <td>0.0</td>\n",
       "      <td>0</td>\n",
       "      <td>0.0</td>\n",
       "      <td>4</td>\n",
       "      <td>57.1</td>\n",
       "      <td>7</td>\n",
       "    </tr>\n",
       "    <tr>\n",
       "      <th>20대</th>\n",
       "      <td>5</td>\n",
       "      <td>17.9</td>\n",
       "      <td>3</td>\n",
       "      <td>10.7</td>\n",
       "      <td>6</td>\n",
       "      <td>21.4</td>\n",
       "      <td>6</td>\n",
       "      <td>21.4</td>\n",
       "      <td>1</td>\n",
       "      <td>3.6</td>\n",
       "      <td>0</td>\n",
       "      <td>0.0</td>\n",
       "      <td>0</td>\n",
       "      <td>0.0</td>\n",
       "      <td>0</td>\n",
       "      <td>0.0</td>\n",
       "      <td>1</td>\n",
       "      <td>3.6</td>\n",
       "      <td>1</td>\n",
       "      <td>3.6</td>\n",
       "      <td>5</td>\n",
       "      <td>17.9</td>\n",
       "      <td>0</td>\n",
       "      <td>0.0</td>\n",
       "      <td>28</td>\n",
       "    </tr>\n",
       "    <tr>\n",
       "      <th>30대</th>\n",
       "      <td>4</td>\n",
       "      <td>28.6</td>\n",
       "      <td>2</td>\n",
       "      <td>14.3</td>\n",
       "      <td>1</td>\n",
       "      <td>7.1</td>\n",
       "      <td>1</td>\n",
       "      <td>7.1</td>\n",
       "      <td>1</td>\n",
       "      <td>7.1</td>\n",
       "      <td>1</td>\n",
       "      <td>7.1</td>\n",
       "      <td>0</td>\n",
       "      <td>0.0</td>\n",
       "      <td>0</td>\n",
       "      <td>0.0</td>\n",
       "      <td>1</td>\n",
       "      <td>7.1</td>\n",
       "      <td>3</td>\n",
       "      <td>21.4</td>\n",
       "      <td>0</td>\n",
       "      <td>0.0</td>\n",
       "      <td>0</td>\n",
       "      <td>0.0</td>\n",
       "      <td>14</td>\n",
       "    </tr>\n",
       "    <tr>\n",
       "      <th>40대</th>\n",
       "      <td>3</td>\n",
       "      <td>21.4</td>\n",
       "      <td>0</td>\n",
       "      <td>0.0</td>\n",
       "      <td>2</td>\n",
       "      <td>14.3</td>\n",
       "      <td>2</td>\n",
       "      <td>14.3</td>\n",
       "      <td>0</td>\n",
       "      <td>0.0</td>\n",
       "      <td>0</td>\n",
       "      <td>0.0</td>\n",
       "      <td>2</td>\n",
       "      <td>14.3</td>\n",
       "      <td>1</td>\n",
       "      <td>7.1</td>\n",
       "      <td>2</td>\n",
       "      <td>14.3</td>\n",
       "      <td>2</td>\n",
       "      <td>14.3</td>\n",
       "      <td>0</td>\n",
       "      <td>0.0</td>\n",
       "      <td>0</td>\n",
       "      <td>0.0</td>\n",
       "      <td>14</td>\n",
       "    </tr>\n",
       "    <tr>\n",
       "      <th>50대</th>\n",
       "      <td>6</td>\n",
       "      <td>31.6</td>\n",
       "      <td>1</td>\n",
       "      <td>5.3</td>\n",
       "      <td>3</td>\n",
       "      <td>15.8</td>\n",
       "      <td>1</td>\n",
       "      <td>5.3</td>\n",
       "      <td>0</td>\n",
       "      <td>0.0</td>\n",
       "      <td>0</td>\n",
       "      <td>0.0</td>\n",
       "      <td>2</td>\n",
       "      <td>10.5</td>\n",
       "      <td>0</td>\n",
       "      <td>0.0</td>\n",
       "      <td>5</td>\n",
       "      <td>26.3</td>\n",
       "      <td>1</td>\n",
       "      <td>5.3</td>\n",
       "      <td>0</td>\n",
       "      <td>0.0</td>\n",
       "      <td>0</td>\n",
       "      <td>0.0</td>\n",
       "      <td>19</td>\n",
       "    </tr>\n",
       "    <tr>\n",
       "      <th>60대이상</th>\n",
       "      <td>3</td>\n",
       "      <td>13.0</td>\n",
       "      <td>1</td>\n",
       "      <td>4.3</td>\n",
       "      <td>8</td>\n",
       "      <td>34.8</td>\n",
       "      <td>2</td>\n",
       "      <td>8.7</td>\n",
       "      <td>1</td>\n",
       "      <td>4.3</td>\n",
       "      <td>0</td>\n",
       "      <td>0.0</td>\n",
       "      <td>2</td>\n",
       "      <td>8.7</td>\n",
       "      <td>0</td>\n",
       "      <td>0.0</td>\n",
       "      <td>6</td>\n",
       "      <td>26.1</td>\n",
       "      <td>0</td>\n",
       "      <td>0.0</td>\n",
       "      <td>0</td>\n",
       "      <td>0.0</td>\n",
       "      <td>0</td>\n",
       "      <td>0.0</td>\n",
       "      <td>23</td>\n",
       "    </tr>\n",
       "    <tr>\n",
       "      <th rowspan=\"9\" valign=\"top\">학력</th>\n",
       "      <th>초등학교 졸업(무학 포함)</th>\n",
       "      <td>0</td>\n",
       "      <td>0.0</td>\n",
       "      <td>0</td>\n",
       "      <td>0.0</td>\n",
       "      <td>1</td>\n",
       "      <td>25.0</td>\n",
       "      <td>0</td>\n",
       "      <td>0.0</td>\n",
       "      <td>1</td>\n",
       "      <td>25.0</td>\n",
       "      <td>0</td>\n",
       "      <td>0.0</td>\n",
       "      <td>0</td>\n",
       "      <td>0.0</td>\n",
       "      <td>0</td>\n",
       "      <td>0.0</td>\n",
       "      <td>2</td>\n",
       "      <td>50.0</td>\n",
       "      <td>0</td>\n",
       "      <td>0.0</td>\n",
       "      <td>0</td>\n",
       "      <td>0.0</td>\n",
       "      <td>0</td>\n",
       "      <td>0.0</td>\n",
       "      <td>4</td>\n",
       "    </tr>\n",
       "    <tr>\n",
       "      <th>중학교 재학</th>\n",
       "      <td>0</td>\n",
       "      <td>0.0</td>\n",
       "      <td>1</td>\n",
       "      <td>10.0</td>\n",
       "      <td>1</td>\n",
       "      <td>10.0</td>\n",
       "      <td>1</td>\n",
       "      <td>10.0</td>\n",
       "      <td>0</td>\n",
       "      <td>0.0</td>\n",
       "      <td>0</td>\n",
       "      <td>0.0</td>\n",
       "      <td>0</td>\n",
       "      <td>0.0</td>\n",
       "      <td>0</td>\n",
       "      <td>0.0</td>\n",
       "      <td>3</td>\n",
       "      <td>30.0</td>\n",
       "      <td>0</td>\n",
       "      <td>0.0</td>\n",
       "      <td>0</td>\n",
       "      <td>0.0</td>\n",
       "      <td>4</td>\n",
       "      <td>40.0</td>\n",
       "      <td>10</td>\n",
       "    </tr>\n",
       "    <tr>\n",
       "      <th>중학교 졸업</th>\n",
       "      <td>1</td>\n",
       "      <td>25.0</td>\n",
       "      <td>0</td>\n",
       "      <td>0.0</td>\n",
       "      <td>1</td>\n",
       "      <td>25.0</td>\n",
       "      <td>0</td>\n",
       "      <td>0.0</td>\n",
       "      <td>0</td>\n",
       "      <td>0.0</td>\n",
       "      <td>0</td>\n",
       "      <td>0.0</td>\n",
       "      <td>1</td>\n",
       "      <td>25.0</td>\n",
       "      <td>0</td>\n",
       "      <td>0.0</td>\n",
       "      <td>1</td>\n",
       "      <td>25.0</td>\n",
       "      <td>0</td>\n",
       "      <td>0.0</td>\n",
       "      <td>0</td>\n",
       "      <td>0.0</td>\n",
       "      <td>0</td>\n",
       "      <td>0.0</td>\n",
       "      <td>4</td>\n",
       "    </tr>\n",
       "    <tr>\n",
       "      <th>고등학교 재학</th>\n",
       "      <td>1</td>\n",
       "      <td>50.0</td>\n",
       "      <td>0</td>\n",
       "      <td>0.0</td>\n",
       "      <td>1</td>\n",
       "      <td>50.0</td>\n",
       "      <td>0</td>\n",
       "      <td>0.0</td>\n",
       "      <td>0</td>\n",
       "      <td>0.0</td>\n",
       "      <td>0</td>\n",
       "      <td>0.0</td>\n",
       "      <td>0</td>\n",
       "      <td>0.0</td>\n",
       "      <td>0</td>\n",
       "      <td>0.0</td>\n",
       "      <td>0</td>\n",
       "      <td>0.0</td>\n",
       "      <td>0</td>\n",
       "      <td>0.0</td>\n",
       "      <td>0</td>\n",
       "      <td>0.0</td>\n",
       "      <td>0</td>\n",
       "      <td>0.0</td>\n",
       "      <td>2</td>\n",
       "    </tr>\n",
       "    <tr>\n",
       "      <th>고등학교 졸업</th>\n",
       "      <td>3</td>\n",
       "      <td>27.3</td>\n",
       "      <td>1</td>\n",
       "      <td>9.1</td>\n",
       "      <td>2</td>\n",
       "      <td>18.2</td>\n",
       "      <td>1</td>\n",
       "      <td>9.1</td>\n",
       "      <td>0</td>\n",
       "      <td>0.0</td>\n",
       "      <td>0</td>\n",
       "      <td>0.0</td>\n",
       "      <td>3</td>\n",
       "      <td>27.3</td>\n",
       "      <td>0</td>\n",
       "      <td>0.0</td>\n",
       "      <td>1</td>\n",
       "      <td>9.1</td>\n",
       "      <td>0</td>\n",
       "      <td>0.0</td>\n",
       "      <td>0</td>\n",
       "      <td>0.0</td>\n",
       "      <td>0</td>\n",
       "      <td>0.0</td>\n",
       "      <td>11</td>\n",
       "    </tr>\n",
       "    <tr>\n",
       "      <th>대학교 재학</th>\n",
       "      <td>4</td>\n",
       "      <td>16.0</td>\n",
       "      <td>3</td>\n",
       "      <td>12.0</td>\n",
       "      <td>6</td>\n",
       "      <td>24.0</td>\n",
       "      <td>4</td>\n",
       "      <td>16.0</td>\n",
       "      <td>1</td>\n",
       "      <td>4.0</td>\n",
       "      <td>0</td>\n",
       "      <td>0.0</td>\n",
       "      <td>1</td>\n",
       "      <td>4.0</td>\n",
       "      <td>0</td>\n",
       "      <td>0.0</td>\n",
       "      <td>1</td>\n",
       "      <td>4.0</td>\n",
       "      <td>0</td>\n",
       "      <td>0.0</td>\n",
       "      <td>5</td>\n",
       "      <td>20.0</td>\n",
       "      <td>0</td>\n",
       "      <td>0.0</td>\n",
       "      <td>25</td>\n",
       "    </tr>\n",
       "    <tr>\n",
       "      <th>대학교 졸업</th>\n",
       "      <td>9</td>\n",
       "      <td>21.4</td>\n",
       "      <td>2</td>\n",
       "      <td>4.8</td>\n",
       "      <td>7</td>\n",
       "      <td>16.7</td>\n",
       "      <td>6</td>\n",
       "      <td>14.3</td>\n",
       "      <td>1</td>\n",
       "      <td>2.4</td>\n",
       "      <td>1</td>\n",
       "      <td>2.4</td>\n",
       "      <td>1</td>\n",
       "      <td>2.4</td>\n",
       "      <td>1</td>\n",
       "      <td>2.4</td>\n",
       "      <td>7</td>\n",
       "      <td>16.7</td>\n",
       "      <td>7</td>\n",
       "      <td>16.7</td>\n",
       "      <td>0</td>\n",
       "      <td>0.0</td>\n",
       "      <td>0</td>\n",
       "      <td>0.0</td>\n",
       "      <td>42</td>\n",
       "    </tr>\n",
       "    <tr>\n",
       "      <th>대학원 재학(석사 또는 박사)</th>\n",
       "      <td>0</td>\n",
       "      <td>0.0</td>\n",
       "      <td>0</td>\n",
       "      <td>0.0</td>\n",
       "      <td>0</td>\n",
       "      <td>0.0</td>\n",
       "      <td>1</td>\n",
       "      <td>50.0</td>\n",
       "      <td>0</td>\n",
       "      <td>0.0</td>\n",
       "      <td>0</td>\n",
       "      <td>0.0</td>\n",
       "      <td>0</td>\n",
       "      <td>0.0</td>\n",
       "      <td>0</td>\n",
       "      <td>0.0</td>\n",
       "      <td>1</td>\n",
       "      <td>50.0</td>\n",
       "      <td>0</td>\n",
       "      <td>0.0</td>\n",
       "      <td>0</td>\n",
       "      <td>0.0</td>\n",
       "      <td>0</td>\n",
       "      <td>0.0</td>\n",
       "      <td>2</td>\n",
       "    </tr>\n",
       "    <tr>\n",
       "      <th>대학원 졸업(석사또는 박사)</th>\n",
       "      <td>3</td>\n",
       "      <td>60.0</td>\n",
       "      <td>0</td>\n",
       "      <td>0.0</td>\n",
       "      <td>1</td>\n",
       "      <td>20.0</td>\n",
       "      <td>0</td>\n",
       "      <td>0.0</td>\n",
       "      <td>0</td>\n",
       "      <td>0.0</td>\n",
       "      <td>0</td>\n",
       "      <td>0.0</td>\n",
       "      <td>0</td>\n",
       "      <td>0.0</td>\n",
       "      <td>0</td>\n",
       "      <td>0.0</td>\n",
       "      <td>1</td>\n",
       "      <td>20.0</td>\n",
       "      <td>0</td>\n",
       "      <td>0.0</td>\n",
       "      <td>0</td>\n",
       "      <td>0.0</td>\n",
       "      <td>0</td>\n",
       "      <td>0.0</td>\n",
       "      <td>5</td>\n",
       "    </tr>\n",
       "    <tr>\n",
       "      <th rowspan=\"17\" valign=\"top\">거주지역</th>\n",
       "      <th>서울</th>\n",
       "      <td>2</td>\n",
       "      <td>20.0</td>\n",
       "      <td>0</td>\n",
       "      <td>0.0</td>\n",
       "      <td>0</td>\n",
       "      <td>0.0</td>\n",
       "      <td>5</td>\n",
       "      <td>50.0</td>\n",
       "      <td>1</td>\n",
       "      <td>10.0</td>\n",
       "      <td>0</td>\n",
       "      <td>0.0</td>\n",
       "      <td>0</td>\n",
       "      <td>0.0</td>\n",
       "      <td>0</td>\n",
       "      <td>0.0</td>\n",
       "      <td>1</td>\n",
       "      <td>10.0</td>\n",
       "      <td>0</td>\n",
       "      <td>0.0</td>\n",
       "      <td>1</td>\n",
       "      <td>10.0</td>\n",
       "      <td>0</td>\n",
       "      <td>0.0</td>\n",
       "      <td>10</td>\n",
       "    </tr>\n",
       "    <tr>\n",
       "      <th>부산</th>\n",
       "      <td>0</td>\n",
       "      <td>0.0</td>\n",
       "      <td>0</td>\n",
       "      <td>0.0</td>\n",
       "      <td>0</td>\n",
       "      <td>0.0</td>\n",
       "      <td>0</td>\n",
       "      <td>0.0</td>\n",
       "      <td>0</td>\n",
       "      <td>0.0</td>\n",
       "      <td>0</td>\n",
       "      <td>0.0</td>\n",
       "      <td>0</td>\n",
       "      <td>0.0</td>\n",
       "      <td>0</td>\n",
       "      <td>0.0</td>\n",
       "      <td>0</td>\n",
       "      <td>0.0</td>\n",
       "      <td>0</td>\n",
       "      <td>0.0</td>\n",
       "      <td>0</td>\n",
       "      <td>0.0</td>\n",
       "      <td>0</td>\n",
       "      <td>0.0</td>\n",
       "      <td>0</td>\n",
       "    </tr>\n",
       "    <tr>\n",
       "      <th>대구</th>\n",
       "      <td>0</td>\n",
       "      <td>0.0</td>\n",
       "      <td>0</td>\n",
       "      <td>0.0</td>\n",
       "      <td>0</td>\n",
       "      <td>0.0</td>\n",
       "      <td>0</td>\n",
       "      <td>0.0</td>\n",
       "      <td>0</td>\n",
       "      <td>0.0</td>\n",
       "      <td>0</td>\n",
       "      <td>0.0</td>\n",
       "      <td>0</td>\n",
       "      <td>0.0</td>\n",
       "      <td>0</td>\n",
       "      <td>0.0</td>\n",
       "      <td>0</td>\n",
       "      <td>0.0</td>\n",
       "      <td>0</td>\n",
       "      <td>0.0</td>\n",
       "      <td>0</td>\n",
       "      <td>0.0</td>\n",
       "      <td>0</td>\n",
       "      <td>0.0</td>\n",
       "      <td>0</td>\n",
       "    </tr>\n",
       "    <tr>\n",
       "      <th>인천</th>\n",
       "      <td>0</td>\n",
       "      <td>0.0</td>\n",
       "      <td>0</td>\n",
       "      <td>0.0</td>\n",
       "      <td>0</td>\n",
       "      <td>0.0</td>\n",
       "      <td>0</td>\n",
       "      <td>0.0</td>\n",
       "      <td>0</td>\n",
       "      <td>0.0</td>\n",
       "      <td>0</td>\n",
       "      <td>0.0</td>\n",
       "      <td>0</td>\n",
       "      <td>0.0</td>\n",
       "      <td>0</td>\n",
       "      <td>0.0</td>\n",
       "      <td>1</td>\n",
       "      <td>50.0</td>\n",
       "      <td>0</td>\n",
       "      <td>0.0</td>\n",
       "      <td>1</td>\n",
       "      <td>50.0</td>\n",
       "      <td>0</td>\n",
       "      <td>0.0</td>\n",
       "      <td>2</td>\n",
       "    </tr>\n",
       "    <tr>\n",
       "      <th>광주</th>\n",
       "      <td>0</td>\n",
       "      <td>0.0</td>\n",
       "      <td>0</td>\n",
       "      <td>0.0</td>\n",
       "      <td>0</td>\n",
       "      <td>0.0</td>\n",
       "      <td>0</td>\n",
       "      <td>0.0</td>\n",
       "      <td>0</td>\n",
       "      <td>0.0</td>\n",
       "      <td>0</td>\n",
       "      <td>0.0</td>\n",
       "      <td>0</td>\n",
       "      <td>0.0</td>\n",
       "      <td>0</td>\n",
       "      <td>0.0</td>\n",
       "      <td>0</td>\n",
       "      <td>0.0</td>\n",
       "      <td>1</td>\n",
       "      <td>100.0</td>\n",
       "      <td>0</td>\n",
       "      <td>0.0</td>\n",
       "      <td>0</td>\n",
       "      <td>0.0</td>\n",
       "      <td>1</td>\n",
       "    </tr>\n",
       "    <tr>\n",
       "      <th>대전</th>\n",
       "      <td>0</td>\n",
       "      <td>0.0</td>\n",
       "      <td>0</td>\n",
       "      <td>0.0</td>\n",
       "      <td>0</td>\n",
       "      <td>0.0</td>\n",
       "      <td>0</td>\n",
       "      <td>0.0</td>\n",
       "      <td>0</td>\n",
       "      <td>0.0</td>\n",
       "      <td>0</td>\n",
       "      <td>0.0</td>\n",
       "      <td>0</td>\n",
       "      <td>0.0</td>\n",
       "      <td>0</td>\n",
       "      <td>0.0</td>\n",
       "      <td>0</td>\n",
       "      <td>0.0</td>\n",
       "      <td>0</td>\n",
       "      <td>0.0</td>\n",
       "      <td>0</td>\n",
       "      <td>0.0</td>\n",
       "      <td>0</td>\n",
       "      <td>0.0</td>\n",
       "      <td>0</td>\n",
       "    </tr>\n",
       "    <tr>\n",
       "      <th>울산</th>\n",
       "      <td>0</td>\n",
       "      <td>0.0</td>\n",
       "      <td>0</td>\n",
       "      <td>0.0</td>\n",
       "      <td>0</td>\n",
       "      <td>0.0</td>\n",
       "      <td>0</td>\n",
       "      <td>0.0</td>\n",
       "      <td>0</td>\n",
       "      <td>0.0</td>\n",
       "      <td>0</td>\n",
       "      <td>0.0</td>\n",
       "      <td>0</td>\n",
       "      <td>0.0</td>\n",
       "      <td>0</td>\n",
       "      <td>0.0</td>\n",
       "      <td>0</td>\n",
       "      <td>0.0</td>\n",
       "      <td>0</td>\n",
       "      <td>0.0</td>\n",
       "      <td>0</td>\n",
       "      <td>0.0</td>\n",
       "      <td>0</td>\n",
       "      <td>0.0</td>\n",
       "      <td>0</td>\n",
       "    </tr>\n",
       "    <tr>\n",
       "      <th>세종</th>\n",
       "      <td>0</td>\n",
       "      <td>0.0</td>\n",
       "      <td>0</td>\n",
       "      <td>0.0</td>\n",
       "      <td>0</td>\n",
       "      <td>0.0</td>\n",
       "      <td>0</td>\n",
       "      <td>0.0</td>\n",
       "      <td>0</td>\n",
       "      <td>0.0</td>\n",
       "      <td>0</td>\n",
       "      <td>0.0</td>\n",
       "      <td>0</td>\n",
       "      <td>0.0</td>\n",
       "      <td>0</td>\n",
       "      <td>0.0</td>\n",
       "      <td>0</td>\n",
       "      <td>0.0</td>\n",
       "      <td>0</td>\n",
       "      <td>0.0</td>\n",
       "      <td>0</td>\n",
       "      <td>0.0</td>\n",
       "      <td>0</td>\n",
       "      <td>0.0</td>\n",
       "      <td>0</td>\n",
       "    </tr>\n",
       "    <tr>\n",
       "      <th>경기</th>\n",
       "      <td>5</td>\n",
       "      <td>21.7</td>\n",
       "      <td>4</td>\n",
       "      <td>17.4</td>\n",
       "      <td>3</td>\n",
       "      <td>13.0</td>\n",
       "      <td>2</td>\n",
       "      <td>8.7</td>\n",
       "      <td>1</td>\n",
       "      <td>4.3</td>\n",
       "      <td>0</td>\n",
       "      <td>0.0</td>\n",
       "      <td>3</td>\n",
       "      <td>13.0</td>\n",
       "      <td>0</td>\n",
       "      <td>0.0</td>\n",
       "      <td>3</td>\n",
       "      <td>13.0</td>\n",
       "      <td>0</td>\n",
       "      <td>0.0</td>\n",
       "      <td>2</td>\n",
       "      <td>8.7</td>\n",
       "      <td>0</td>\n",
       "      <td>0.0</td>\n",
       "      <td>23</td>\n",
       "    </tr>\n",
       "    <tr>\n",
       "      <th>강원</th>\n",
       "      <td>14</td>\n",
       "      <td>20.9</td>\n",
       "      <td>2</td>\n",
       "      <td>3.0</td>\n",
       "      <td>16</td>\n",
       "      <td>23.9</td>\n",
       "      <td>6</td>\n",
       "      <td>9.0</td>\n",
       "      <td>1</td>\n",
       "      <td>1.5</td>\n",
       "      <td>1</td>\n",
       "      <td>1.5</td>\n",
       "      <td>3</td>\n",
       "      <td>4.5</td>\n",
       "      <td>1</td>\n",
       "      <td>1.5</td>\n",
       "      <td>12</td>\n",
       "      <td>17.9</td>\n",
       "      <td>6</td>\n",
       "      <td>9.0</td>\n",
       "      <td>1</td>\n",
       "      <td>1.5</td>\n",
       "      <td>4</td>\n",
       "      <td>6.0</td>\n",
       "      <td>67</td>\n",
       "    </tr>\n",
       "    <tr>\n",
       "      <th>충북</th>\n",
       "      <td>0</td>\n",
       "      <td>0.0</td>\n",
       "      <td>0</td>\n",
       "      <td>0.0</td>\n",
       "      <td>0</td>\n",
       "      <td>0.0</td>\n",
       "      <td>0</td>\n",
       "      <td>0.0</td>\n",
       "      <td>0</td>\n",
       "      <td>0.0</td>\n",
       "      <td>0</td>\n",
       "      <td>0.0</td>\n",
       "      <td>0</td>\n",
       "      <td>0.0</td>\n",
       "      <td>0</td>\n",
       "      <td>0.0</td>\n",
       "      <td>0</td>\n",
       "      <td>0.0</td>\n",
       "      <td>0</td>\n",
       "      <td>0.0</td>\n",
       "      <td>0</td>\n",
       "      <td>0.0</td>\n",
       "      <td>0</td>\n",
       "      <td>0.0</td>\n",
       "      <td>0</td>\n",
       "    </tr>\n",
       "    <tr>\n",
       "      <th>충남</th>\n",
       "      <td>0</td>\n",
       "      <td>0.0</td>\n",
       "      <td>0</td>\n",
       "      <td>0.0</td>\n",
       "      <td>0</td>\n",
       "      <td>0.0</td>\n",
       "      <td>0</td>\n",
       "      <td>0.0</td>\n",
       "      <td>0</td>\n",
       "      <td>0.0</td>\n",
       "      <td>0</td>\n",
       "      <td>0.0</td>\n",
       "      <td>0</td>\n",
       "      <td>0.0</td>\n",
       "      <td>0</td>\n",
       "      <td>0.0</td>\n",
       "      <td>0</td>\n",
       "      <td>0.0</td>\n",
       "      <td>0</td>\n",
       "      <td>0.0</td>\n",
       "      <td>0</td>\n",
       "      <td>0.0</td>\n",
       "      <td>0</td>\n",
       "      <td>0.0</td>\n",
       "      <td>0</td>\n",
       "    </tr>\n",
       "    <tr>\n",
       "      <th>전북</th>\n",
       "      <td>0</td>\n",
       "      <td>0.0</td>\n",
       "      <td>0</td>\n",
       "      <td>0.0</td>\n",
       "      <td>0</td>\n",
       "      <td>0.0</td>\n",
       "      <td>0</td>\n",
       "      <td>0.0</td>\n",
       "      <td>0</td>\n",
       "      <td>0.0</td>\n",
       "      <td>0</td>\n",
       "      <td>0.0</td>\n",
       "      <td>0</td>\n",
       "      <td>0.0</td>\n",
       "      <td>0</td>\n",
       "      <td>0.0</td>\n",
       "      <td>0</td>\n",
       "      <td>0.0</td>\n",
       "      <td>0</td>\n",
       "      <td>0.0</td>\n",
       "      <td>0</td>\n",
       "      <td>0.0</td>\n",
       "      <td>0</td>\n",
       "      <td>0.0</td>\n",
       "      <td>0</td>\n",
       "    </tr>\n",
       "    <tr>\n",
       "      <th>전남</th>\n",
       "      <td>0</td>\n",
       "      <td>0.0</td>\n",
       "      <td>0</td>\n",
       "      <td>0.0</td>\n",
       "      <td>1</td>\n",
       "      <td>100.0</td>\n",
       "      <td>0</td>\n",
       "      <td>0.0</td>\n",
       "      <td>0</td>\n",
       "      <td>0.0</td>\n",
       "      <td>0</td>\n",
       "      <td>0.0</td>\n",
       "      <td>0</td>\n",
       "      <td>0.0</td>\n",
       "      <td>0</td>\n",
       "      <td>0.0</td>\n",
       "      <td>0</td>\n",
       "      <td>0.0</td>\n",
       "      <td>0</td>\n",
       "      <td>0.0</td>\n",
       "      <td>0</td>\n",
       "      <td>0.0</td>\n",
       "      <td>0</td>\n",
       "      <td>0.0</td>\n",
       "      <td>1</td>\n",
       "    </tr>\n",
       "    <tr>\n",
       "      <th>경북</th>\n",
       "      <td>0</td>\n",
       "      <td>0.0</td>\n",
       "      <td>1</td>\n",
       "      <td>100.0</td>\n",
       "      <td>0</td>\n",
       "      <td>0.0</td>\n",
       "      <td>0</td>\n",
       "      <td>0.0</td>\n",
       "      <td>0</td>\n",
       "      <td>0.0</td>\n",
       "      <td>0</td>\n",
       "      <td>0.0</td>\n",
       "      <td>0</td>\n",
       "      <td>0.0</td>\n",
       "      <td>0</td>\n",
       "      <td>0.0</td>\n",
       "      <td>0</td>\n",
       "      <td>0.0</td>\n",
       "      <td>0</td>\n",
       "      <td>0.0</td>\n",
       "      <td>0</td>\n",
       "      <td>0.0</td>\n",
       "      <td>0</td>\n",
       "      <td>0.0</td>\n",
       "      <td>1</td>\n",
       "    </tr>\n",
       "    <tr>\n",
       "      <th>경남</th>\n",
       "      <td>0</td>\n",
       "      <td>0.0</td>\n",
       "      <td>0</td>\n",
       "      <td>0.0</td>\n",
       "      <td>0</td>\n",
       "      <td>0.0</td>\n",
       "      <td>0</td>\n",
       "      <td>0.0</td>\n",
       "      <td>0</td>\n",
       "      <td>0.0</td>\n",
       "      <td>0</td>\n",
       "      <td>0.0</td>\n",
       "      <td>0</td>\n",
       "      <td>0.0</td>\n",
       "      <td>0</td>\n",
       "      <td>0.0</td>\n",
       "      <td>0</td>\n",
       "      <td>0.0</td>\n",
       "      <td>0</td>\n",
       "      <td>0.0</td>\n",
       "      <td>0</td>\n",
       "      <td>0.0</td>\n",
       "      <td>0</td>\n",
       "      <td>0.0</td>\n",
       "      <td>0</td>\n",
       "    </tr>\n",
       "    <tr>\n",
       "      <th>제주</th>\n",
       "      <td>0</td>\n",
       "      <td>0.0</td>\n",
       "      <td>0</td>\n",
       "      <td>0.0</td>\n",
       "      <td>0</td>\n",
       "      <td>0.0</td>\n",
       "      <td>0</td>\n",
       "      <td>0.0</td>\n",
       "      <td>0</td>\n",
       "      <td>0.0</td>\n",
       "      <td>0</td>\n",
       "      <td>0.0</td>\n",
       "      <td>0</td>\n",
       "      <td>0.0</td>\n",
       "      <td>0</td>\n",
       "      <td>0.0</td>\n",
       "      <td>0</td>\n",
       "      <td>0.0</td>\n",
       "      <td>0</td>\n",
       "      <td>0.0</td>\n",
       "      <td>0</td>\n",
       "      <td>0.0</td>\n",
       "      <td>0</td>\n",
       "      <td>0.0</td>\n",
       "      <td>0</td>\n",
       "    </tr>\n",
       "    <tr>\n",
       "      <th rowspan=\"13\" valign=\"top\">직업</th>\n",
       "      <th>산림임업종사자</th>\n",
       "      <td>1</td>\n",
       "      <td>9.1</td>\n",
       "      <td>1</td>\n",
       "      <td>9.1</td>\n",
       "      <td>4</td>\n",
       "      <td>36.4</td>\n",
       "      <td>0</td>\n",
       "      <td>0.0</td>\n",
       "      <td>0</td>\n",
       "      <td>0.0</td>\n",
       "      <td>0</td>\n",
       "      <td>0.0</td>\n",
       "      <td>2</td>\n",
       "      <td>18.2</td>\n",
       "      <td>0</td>\n",
       "      <td>0.0</td>\n",
       "      <td>1</td>\n",
       "      <td>9.1</td>\n",
       "      <td>2</td>\n",
       "      <td>18.2</td>\n",
       "      <td>0</td>\n",
       "      <td>0.0</td>\n",
       "      <td>0</td>\n",
       "      <td>0.0</td>\n",
       "      <td>11</td>\n",
       "    </tr>\n",
       "    <tr>\n",
       "      <th>사무종사자</th>\n",
       "      <td>1</td>\n",
       "      <td>25.0</td>\n",
       "      <td>0</td>\n",
       "      <td>0.0</td>\n",
       "      <td>1</td>\n",
       "      <td>25.0</td>\n",
       "      <td>0</td>\n",
       "      <td>0.0</td>\n",
       "      <td>0</td>\n",
       "      <td>0.0</td>\n",
       "      <td>0</td>\n",
       "      <td>0.0</td>\n",
       "      <td>0</td>\n",
       "      <td>0.0</td>\n",
       "      <td>0</td>\n",
       "      <td>0.0</td>\n",
       "      <td>2</td>\n",
       "      <td>50.0</td>\n",
       "      <td>0</td>\n",
       "      <td>0.0</td>\n",
       "      <td>0</td>\n",
       "      <td>0.0</td>\n",
       "      <td>0</td>\n",
       "      <td>0.0</td>\n",
       "      <td>4</td>\n",
       "    </tr>\n",
       "    <tr>\n",
       "      <th>서비스종사자</th>\n",
       "      <td>1</td>\n",
       "      <td>12.5</td>\n",
       "      <td>1</td>\n",
       "      <td>12.5</td>\n",
       "      <td>3</td>\n",
       "      <td>37.5</td>\n",
       "      <td>0</td>\n",
       "      <td>0.0</td>\n",
       "      <td>1</td>\n",
       "      <td>12.5</td>\n",
       "      <td>0</td>\n",
       "      <td>0.0</td>\n",
       "      <td>0</td>\n",
       "      <td>0.0</td>\n",
       "      <td>0</td>\n",
       "      <td>0.0</td>\n",
       "      <td>2</td>\n",
       "      <td>25.0</td>\n",
       "      <td>0</td>\n",
       "      <td>0.0</td>\n",
       "      <td>0</td>\n",
       "      <td>0.0</td>\n",
       "      <td>0</td>\n",
       "      <td>0.0</td>\n",
       "      <td>8</td>\n",
       "    </tr>\n",
       "    <tr>\n",
       "      <th>판매종사자</th>\n",
       "      <td>0</td>\n",
       "      <td>0.0</td>\n",
       "      <td>0</td>\n",
       "      <td>0.0</td>\n",
       "      <td>1</td>\n",
       "      <td>25.0</td>\n",
       "      <td>0</td>\n",
       "      <td>0.0</td>\n",
       "      <td>0</td>\n",
       "      <td>0.0</td>\n",
       "      <td>0</td>\n",
       "      <td>0.0</td>\n",
       "      <td>2</td>\n",
       "      <td>50.0</td>\n",
       "      <td>0</td>\n",
       "      <td>0.0</td>\n",
       "      <td>0</td>\n",
       "      <td>0.0</td>\n",
       "      <td>1</td>\n",
       "      <td>25.0</td>\n",
       "      <td>0</td>\n",
       "      <td>0.0</td>\n",
       "      <td>0</td>\n",
       "      <td>0.0</td>\n",
       "      <td>4</td>\n",
       "    </tr>\n",
       "    <tr>\n",
       "      <th>기술기능종사자</th>\n",
       "      <td>1</td>\n",
       "      <td>33.3</td>\n",
       "      <td>0</td>\n",
       "      <td>0.0</td>\n",
       "      <td>0</td>\n",
       "      <td>0.0</td>\n",
       "      <td>0</td>\n",
       "      <td>0.0</td>\n",
       "      <td>1</td>\n",
       "      <td>33.3</td>\n",
       "      <td>0</td>\n",
       "      <td>0.0</td>\n",
       "      <td>0</td>\n",
       "      <td>0.0</td>\n",
       "      <td>1</td>\n",
       "      <td>33.3</td>\n",
       "      <td>0</td>\n",
       "      <td>0.0</td>\n",
       "      <td>0</td>\n",
       "      <td>0.0</td>\n",
       "      <td>0</td>\n",
       "      <td>0.0</td>\n",
       "      <td>0</td>\n",
       "      <td>0.0</td>\n",
       "      <td>3</td>\n",
       "    </tr>\n",
       "    <tr>\n",
       "      <th>단순노무종사자</th>\n",
       "      <td>0</td>\n",
       "      <td>0.0</td>\n",
       "      <td>0</td>\n",
       "      <td>0.0</td>\n",
       "      <td>0</td>\n",
       "      <td>0.0</td>\n",
       "      <td>0</td>\n",
       "      <td>0.0</td>\n",
       "      <td>0</td>\n",
       "      <td>0.0</td>\n",
       "      <td>0</td>\n",
       "      <td>0.0</td>\n",
       "      <td>0</td>\n",
       "      <td>0.0</td>\n",
       "      <td>0</td>\n",
       "      <td>0.0</td>\n",
       "      <td>0</td>\n",
       "      <td>0.0</td>\n",
       "      <td>0</td>\n",
       "      <td>0.0</td>\n",
       "      <td>0</td>\n",
       "      <td>0.0</td>\n",
       "      <td>0</td>\n",
       "      <td>0.0</td>\n",
       "      <td>0</td>\n",
       "    </tr>\n",
       "    <tr>\n",
       "      <th>전문가(교수 포함)</th>\n",
       "      <td>1</td>\n",
       "      <td>33.3</td>\n",
       "      <td>0</td>\n",
       "      <td>0.0</td>\n",
       "      <td>0</td>\n",
       "      <td>0.0</td>\n",
       "      <td>1</td>\n",
       "      <td>33.3</td>\n",
       "      <td>0</td>\n",
       "      <td>0.0</td>\n",
       "      <td>0</td>\n",
       "      <td>0.0</td>\n",
       "      <td>0</td>\n",
       "      <td>0.0</td>\n",
       "      <td>0</td>\n",
       "      <td>0.0</td>\n",
       "      <td>1</td>\n",
       "      <td>33.3</td>\n",
       "      <td>0</td>\n",
       "      <td>0.0</td>\n",
       "      <td>0</td>\n",
       "      <td>0.0</td>\n",
       "      <td>0</td>\n",
       "      <td>0.0</td>\n",
       "      <td>3</td>\n",
       "    </tr>\n",
       "    <tr>\n",
       "      <th>경영직종사자</th>\n",
       "      <td>0</td>\n",
       "      <td>0.0</td>\n",
       "      <td>0</td>\n",
       "      <td>0.0</td>\n",
       "      <td>0</td>\n",
       "      <td>0.0</td>\n",
       "      <td>0</td>\n",
       "      <td>0.0</td>\n",
       "      <td>0</td>\n",
       "      <td>0.0</td>\n",
       "      <td>0</td>\n",
       "      <td>0.0</td>\n",
       "      <td>0</td>\n",
       "      <td>0.0</td>\n",
       "      <td>0</td>\n",
       "      <td>0.0</td>\n",
       "      <td>0</td>\n",
       "      <td>0.0</td>\n",
       "      <td>0</td>\n",
       "      <td>0.0</td>\n",
       "      <td>0</td>\n",
       "      <td>0.0</td>\n",
       "      <td>0</td>\n",
       "      <td>0.0</td>\n",
       "      <td>0</td>\n",
       "    </tr>\n",
       "    <tr>\n",
       "      <th>자영업자(개인사업자)</th>\n",
       "      <td>2</td>\n",
       "      <td>25.0</td>\n",
       "      <td>1</td>\n",
       "      <td>12.5</td>\n",
       "      <td>2</td>\n",
       "      <td>25.0</td>\n",
       "      <td>1</td>\n",
       "      <td>12.5</td>\n",
       "      <td>0</td>\n",
       "      <td>0.0</td>\n",
       "      <td>0</td>\n",
       "      <td>0.0</td>\n",
       "      <td>0</td>\n",
       "      <td>0.0</td>\n",
       "      <td>0</td>\n",
       "      <td>0.0</td>\n",
       "      <td>2</td>\n",
       "      <td>25.0</td>\n",
       "      <td>0</td>\n",
       "      <td>0.0</td>\n",
       "      <td>0</td>\n",
       "      <td>0.0</td>\n",
       "      <td>0</td>\n",
       "      <td>0.0</td>\n",
       "      <td>8</td>\n",
       "    </tr>\n",
       "    <tr>\n",
       "      <th>공무원(교사포함)</th>\n",
       "      <td>9</td>\n",
       "      <td>45.0</td>\n",
       "      <td>0</td>\n",
       "      <td>0.0</td>\n",
       "      <td>2</td>\n",
       "      <td>10.0</td>\n",
       "      <td>2</td>\n",
       "      <td>10.0</td>\n",
       "      <td>0</td>\n",
       "      <td>0.0</td>\n",
       "      <td>1</td>\n",
       "      <td>5.0</td>\n",
       "      <td>1</td>\n",
       "      <td>5.0</td>\n",
       "      <td>0</td>\n",
       "      <td>0.0</td>\n",
       "      <td>2</td>\n",
       "      <td>10.0</td>\n",
       "      <td>3</td>\n",
       "      <td>15.0</td>\n",
       "      <td>0</td>\n",
       "      <td>0.0</td>\n",
       "      <td>0</td>\n",
       "      <td>0.0</td>\n",
       "      <td>20</td>\n",
       "    </tr>\n",
       "    <tr>\n",
       "      <th>학생(대학원생포함)</th>\n",
       "      <td>4</td>\n",
       "      <td>12.1</td>\n",
       "      <td>3</td>\n",
       "      <td>9.1</td>\n",
       "      <td>6</td>\n",
       "      <td>18.2</td>\n",
       "      <td>7</td>\n",
       "      <td>21.2</td>\n",
       "      <td>1</td>\n",
       "      <td>3.0</td>\n",
       "      <td>0</td>\n",
       "      <td>0.0</td>\n",
       "      <td>0</td>\n",
       "      <td>0.0</td>\n",
       "      <td>0</td>\n",
       "      <td>0.0</td>\n",
       "      <td>3</td>\n",
       "      <td>9.1</td>\n",
       "      <td>0</td>\n",
       "      <td>0.0</td>\n",
       "      <td>5</td>\n",
       "      <td>15.2</td>\n",
       "      <td>4</td>\n",
       "      <td>12.1</td>\n",
       "      <td>33</td>\n",
       "    </tr>\n",
       "    <tr>\n",
       "      <th>전업주부</th>\n",
       "      <td>1</td>\n",
       "      <td>12.5</td>\n",
       "      <td>1</td>\n",
       "      <td>12.5</td>\n",
       "      <td>0</td>\n",
       "      <td>0.0</td>\n",
       "      <td>2</td>\n",
       "      <td>25.0</td>\n",
       "      <td>0</td>\n",
       "      <td>0.0</td>\n",
       "      <td>0</td>\n",
       "      <td>0.0</td>\n",
       "      <td>1</td>\n",
       "      <td>12.5</td>\n",
       "      <td>0</td>\n",
       "      <td>0.0</td>\n",
       "      <td>3</td>\n",
       "      <td>37.5</td>\n",
       "      <td>0</td>\n",
       "      <td>0.0</td>\n",
       "      <td>0</td>\n",
       "      <td>0.0</td>\n",
       "      <td>0</td>\n",
       "      <td>0.0</td>\n",
       "      <td>8</td>\n",
       "    </tr>\n",
       "    <tr>\n",
       "      <th>기타</th>\n",
       "      <td>0</td>\n",
       "      <td>0.0</td>\n",
       "      <td>0</td>\n",
       "      <td>0.0</td>\n",
       "      <td>1</td>\n",
       "      <td>33.3</td>\n",
       "      <td>0</td>\n",
       "      <td>0.0</td>\n",
       "      <td>0</td>\n",
       "      <td>0.0</td>\n",
       "      <td>0</td>\n",
       "      <td>0.0</td>\n",
       "      <td>0</td>\n",
       "      <td>0.0</td>\n",
       "      <td>0</td>\n",
       "      <td>0.0</td>\n",
       "      <td>1</td>\n",
       "      <td>33.3</td>\n",
       "      <td>1</td>\n",
       "      <td>33.3</td>\n",
       "      <td>0</td>\n",
       "      <td>0.0</td>\n",
       "      <td>0</td>\n",
       "      <td>0.0</td>\n",
       "      <td>3</td>\n",
       "    </tr>\n",
       "  </tbody>\n",
       "</table>\n",
       "</div>"
      ],
      "text/plain": [
       "                      휴식 및 건강증진-빈도  휴식 및 건강증진-비율 자기계발-빈도  자기계발-비율  \\\n",
       "성별   남성                         13          26.0       4      8.0   \n",
       "     여성                          8          14.5       3      5.5   \n",
       "연령   10대(15세이상)                  0           0.0       0      0.0   \n",
       "     20대                         5          17.9       3     10.7   \n",
       "     30대                         4          28.6       2     14.3   \n",
       "     40대                         3          21.4       0      0.0   \n",
       "     50대                         6          31.6       1      5.3   \n",
       "     60대이상                       3          13.0       1      4.3   \n",
       "학력   초등학교 졸업(무학 포함)              0           0.0       0      0.0   \n",
       "     중학교 재학                      0           0.0       1     10.0   \n",
       "     중학교 졸업                      1          25.0       0      0.0   \n",
       "     고등학교 재학                     1          50.0       0      0.0   \n",
       "     고등학교 졸업                     3          27.3       1      9.1   \n",
       "     대학교 재학                      4          16.0       3     12.0   \n",
       "     대학교 졸업                      9          21.4       2      4.8   \n",
       "     대학원 재학(석사 또는 박사)            0           0.0       0      0.0   \n",
       "     대학원 졸업(석사또는 박사)             3          60.0       0      0.0   \n",
       "거주지역 서울                          2          20.0       0      0.0   \n",
       "     부산                          0           0.0       0      0.0   \n",
       "     대구                          0           0.0       0      0.0   \n",
       "     인천                          0           0.0       0      0.0   \n",
       "     광주                          0           0.0       0      0.0   \n",
       "     대전                          0           0.0       0      0.0   \n",
       "     울산                          0           0.0       0      0.0   \n",
       "     세종                          0           0.0       0      0.0   \n",
       "     경기                          5          21.7       4     17.4   \n",
       "     강원                         14          20.9       2      3.0   \n",
       "     충북                          0           0.0       0      0.0   \n",
       "     충남                          0           0.0       0      0.0   \n",
       "     전북                          0           0.0       0      0.0   \n",
       "     전남                          0           0.0       0      0.0   \n",
       "     경북                          0           0.0       1    100.0   \n",
       "     경남                          0           0.0       0      0.0   \n",
       "     제주                          0           0.0       0      0.0   \n",
       "직업   산림임업종사자                     1           9.1       1      9.1   \n",
       "     사무종사자                       1          25.0       0      0.0   \n",
       "     서비스종사자                      1          12.5       1     12.5   \n",
       "     판매종사자                       0           0.0       0      0.0   \n",
       "     기술기능종사자                     1          33.3       0      0.0   \n",
       "     단순노무종사자                     0           0.0       0      0.0   \n",
       "     전문가(교수 포함)                  1          33.3       0      0.0   \n",
       "     경영직종사자                      0           0.0       0      0.0   \n",
       "     자영업자(개인사업자)                 2          25.0       1     12.5   \n",
       "     공무원(교사포함)                   9          45.0       0      0.0   \n",
       "     학생(대학원생포함)                  4          12.1       3      9.1   \n",
       "     전업주부                        1          12.5       1     12.5   \n",
       "     기타                          0           0.0       0      0.0   \n",
       "\n",
       "                      산림에 대한 소양증진(지식,정보등 습득)-빈도  산림에 대한 소양증진(지식,정보등 습득)-비율  \\\n",
       "성별   남성                                       9                       18.0   \n",
       "     여성                                      11                       20.0   \n",
       "연령   10대(15세이상)                               0                        0.0   \n",
       "     20대                                      6                       21.4   \n",
       "     30대                                      1                        7.1   \n",
       "     40대                                      2                       14.3   \n",
       "     50대                                      3                       15.8   \n",
       "     60대이상                                    8                       34.8   \n",
       "학력   초등학교 졸업(무학 포함)                           1                       25.0   \n",
       "     중학교 재학                                   1                       10.0   \n",
       "     중학교 졸업                                   1                       25.0   \n",
       "     고등학교 재학                                  1                       50.0   \n",
       "     고등학교 졸업                                  2                       18.2   \n",
       "     대학교 재학                                   6                       24.0   \n",
       "     대학교 졸업                                   7                       16.7   \n",
       "     대학원 재학(석사 또는 박사)                         0                        0.0   \n",
       "     대학원 졸업(석사또는 박사)                          1                       20.0   \n",
       "거주지역 서울                                       0                        0.0   \n",
       "     부산                                       0                        0.0   \n",
       "     대구                                       0                        0.0   \n",
       "     인천                                       0                        0.0   \n",
       "     광주                                       0                        0.0   \n",
       "     대전                                       0                        0.0   \n",
       "     울산                                       0                        0.0   \n",
       "     세종                                       0                        0.0   \n",
       "     경기                                       3                       13.0   \n",
       "     강원                                      16                       23.9   \n",
       "     충북                                       0                        0.0   \n",
       "     충남                                       0                        0.0   \n",
       "     전북                                       0                        0.0   \n",
       "     전남                                       1                      100.0   \n",
       "     경북                                       0                        0.0   \n",
       "     경남                                       0                        0.0   \n",
       "     제주                                       0                        0.0   \n",
       "직업   산림임업종사자                                  4                       36.4   \n",
       "     사무종사자                                    1                       25.0   \n",
       "     서비스종사자                                   3                       37.5   \n",
       "     판매종사자                                    1                       25.0   \n",
       "     기술기능종사자                                  0                        0.0   \n",
       "     단순노무종사자                                  0                        0.0   \n",
       "     전문가(교수 포함)                               0                        0.0   \n",
       "     경영직종사자                                   0                        0.0   \n",
       "     자영업자(개인사업자)                              2                       25.0   \n",
       "     공무원(교사포함)                                2                       10.0   \n",
       "     학생(대학원생포함)                               6                       18.2   \n",
       "     전업주부                                     0                        0.0   \n",
       "     기타                                       1                       33.3   \n",
       "\n",
       "                      즐겁고 재미난 체험-빈도  즐겁고 재미난 체험-비율 자연(산림) 감수성함양-빈도  \\\n",
       "성별   남성                           5           10.0               1   \n",
       "     여성                           8           14.5               2   \n",
       "연령   10대(15세이상)                   1           14.3               0   \n",
       "     20대                          6           21.4               1   \n",
       "     30대                          1            7.1               1   \n",
       "     40대                          2           14.3               0   \n",
       "     50대                          1            5.3               0   \n",
       "     60대이상                        2            8.7               1   \n",
       "학력   초등학교 졸업(무학 포함)               0            0.0               1   \n",
       "     중학교 재학                       1           10.0               0   \n",
       "     중학교 졸업                       0            0.0               0   \n",
       "     고등학교 재학                      0            0.0               0   \n",
       "     고등학교 졸업                      1            9.1               0   \n",
       "     대학교 재학                       4           16.0               1   \n",
       "     대학교 졸업                       6           14.3               1   \n",
       "     대학원 재학(석사 또는 박사)             1           50.0               0   \n",
       "     대학원 졸업(석사또는 박사)              0            0.0               0   \n",
       "거주지역 서울                           5           50.0               1   \n",
       "     부산                           0            0.0               0   \n",
       "     대구                           0            0.0               0   \n",
       "     인천                           0            0.0               0   \n",
       "     광주                           0            0.0               0   \n",
       "     대전                           0            0.0               0   \n",
       "     울산                           0            0.0               0   \n",
       "     세종                           0            0.0               0   \n",
       "     경기                           2            8.7               1   \n",
       "     강원                           6            9.0               1   \n",
       "     충북                           0            0.0               0   \n",
       "     충남                           0            0.0               0   \n",
       "     전북                           0            0.0               0   \n",
       "     전남                           0            0.0               0   \n",
       "     경북                           0            0.0               0   \n",
       "     경남                           0            0.0               0   \n",
       "     제주                           0            0.0               0   \n",
       "직업   산림임업종사자                      0            0.0               0   \n",
       "     사무종사자                        0            0.0               0   \n",
       "     서비스종사자                       0            0.0               1   \n",
       "     판매종사자                        0            0.0               0   \n",
       "     기술기능종사자                      0            0.0               1   \n",
       "     단순노무종사자                      0            0.0               0   \n",
       "     전문가(교수 포함)                   1           33.3               0   \n",
       "     경영직종사자                       0            0.0               0   \n",
       "     자영업자(개인사업자)                  1           12.5               0   \n",
       "     공무원(교사포함)                    2           10.0               0   \n",
       "     학생(대학원생포함)                   7           21.2               1   \n",
       "     전업주부                         2           25.0               0   \n",
       "     기타                           0            0.0               0   \n",
       "\n",
       "                       자연(산림) 감수성함양-비율 가족과의 시간-빈도  가족과의 시간-비율 대인관계형성-빈도  \\\n",
       "성별   남성                            2.0          1         2.0         4   \n",
       "     여성                            3.6          0         0.0         2   \n",
       "연령   10대(15세이상)                    0.0          0         0.0         0   \n",
       "     20대                           3.6          0         0.0         0   \n",
       "     30대                           7.1          1         7.1         0   \n",
       "     40대                           0.0          0         0.0         2   \n",
       "     50대                           0.0          0         0.0         2   \n",
       "     60대이상                         4.3          0         0.0         2   \n",
       "학력   초등학교 졸업(무학 포함)               25.0          0         0.0         0   \n",
       "     중학교 재학                        0.0          0         0.0         0   \n",
       "     중학교 졸업                        0.0          0         0.0         1   \n",
       "     고등학교 재학                       0.0          0         0.0         0   \n",
       "     고등학교 졸업                       0.0          0         0.0         3   \n",
       "     대학교 재학                        4.0          0         0.0         1   \n",
       "     대학교 졸업                        2.4          1         2.4         1   \n",
       "     대학원 재학(석사 또는 박사)              0.0          0         0.0         0   \n",
       "     대학원 졸업(석사또는 박사)               0.0          0         0.0         0   \n",
       "거주지역 서울                           10.0          0         0.0         0   \n",
       "     부산                            0.0          0         0.0         0   \n",
       "     대구                            0.0          0         0.0         0   \n",
       "     인천                            0.0          0         0.0         0   \n",
       "     광주                            0.0          0         0.0         0   \n",
       "     대전                            0.0          0         0.0         0   \n",
       "     울산                            0.0          0         0.0         0   \n",
       "     세종                            0.0          0         0.0         0   \n",
       "     경기                            4.3          0         0.0         3   \n",
       "     강원                            1.5          1         1.5         3   \n",
       "     충북                            0.0          0         0.0         0   \n",
       "     충남                            0.0          0         0.0         0   \n",
       "     전북                            0.0          0         0.0         0   \n",
       "     전남                            0.0          0         0.0         0   \n",
       "     경북                            0.0          0         0.0         0   \n",
       "     경남                            0.0          0         0.0         0   \n",
       "     제주                            0.0          0         0.0         0   \n",
       "직업   산림임업종사자                       0.0          0         0.0         2   \n",
       "     사무종사자                         0.0          0         0.0         0   \n",
       "     서비스종사자                       12.5          0         0.0         0   \n",
       "     판매종사자                         0.0          0         0.0         2   \n",
       "     기술기능종사자                      33.3          0         0.0         0   \n",
       "     단순노무종사자                       0.0          0         0.0         0   \n",
       "     전문가(교수 포함)                    0.0          0         0.0         0   \n",
       "     경영직종사자                        0.0          0         0.0         0   \n",
       "     자영업자(개인사업자)                   0.0          0         0.0         0   \n",
       "     공무원(교사포함)                     0.0          1         5.0         1   \n",
       "     학생(대학원생포함)                    3.0          0         0.0         0   \n",
       "     전업주부                          0.0          0         0.0         1   \n",
       "     기타                            0.0          0         0.0         0   \n",
       "\n",
       "                       대인관계형성-비율 창작활동에 대한 기대-빈도  창작활동에 대한 기대-비율  \\\n",
       "성별   남성                      8.0              1             2.0   \n",
       "     여성                      3.6              0             0.0   \n",
       "연령   10대(15세이상)              0.0              0             0.0   \n",
       "     20대                     0.0              0             0.0   \n",
       "     30대                     0.0              0             0.0   \n",
       "     40대                    14.3              1             7.1   \n",
       "     50대                    10.5              0             0.0   \n",
       "     60대이상                   8.7              0             0.0   \n",
       "학력   초등학교 졸업(무학 포함)          0.0              0             0.0   \n",
       "     중학교 재학                  0.0              0             0.0   \n",
       "     중학교 졸업                 25.0              0             0.0   \n",
       "     고등학교 재학                 0.0              0             0.0   \n",
       "     고등학교 졸업                27.3              0             0.0   \n",
       "     대학교 재학                  4.0              0             0.0   \n",
       "     대학교 졸업                  2.4              1             2.4   \n",
       "     대학원 재학(석사 또는 박사)        0.0              0             0.0   \n",
       "     대학원 졸업(석사또는 박사)         0.0              0             0.0   \n",
       "거주지역 서울                      0.0              0             0.0   \n",
       "     부산                      0.0              0             0.0   \n",
       "     대구                      0.0              0             0.0   \n",
       "     인천                      0.0              0             0.0   \n",
       "     광주                      0.0              0             0.0   \n",
       "     대전                      0.0              0             0.0   \n",
       "     울산                      0.0              0             0.0   \n",
       "     세종                      0.0              0             0.0   \n",
       "     경기                     13.0              0             0.0   \n",
       "     강원                      4.5              1             1.5   \n",
       "     충북                      0.0              0             0.0   \n",
       "     충남                      0.0              0             0.0   \n",
       "     전북                      0.0              0             0.0   \n",
       "     전남                      0.0              0             0.0   \n",
       "     경북                      0.0              0             0.0   \n",
       "     경남                      0.0              0             0.0   \n",
       "     제주                      0.0              0             0.0   \n",
       "직업   산림임업종사자                18.2              0             0.0   \n",
       "     사무종사자                   0.0              0             0.0   \n",
       "     서비스종사자                  0.0              0             0.0   \n",
       "     판매종사자                  50.0              0             0.0   \n",
       "     기술기능종사자                 0.0              1            33.3   \n",
       "     단순노무종사자                 0.0              0             0.0   \n",
       "     전문가(교수 포함)              0.0              0             0.0   \n",
       "     경영직종사자                  0.0              0             0.0   \n",
       "     자영업자(개인사업자)             0.0              0             0.0   \n",
       "     공무원(교사포함)               5.0              0             0.0   \n",
       "     학생(대학원생포함)              0.0              0             0.0   \n",
       "     전업주부                   12.5              0             0.0   \n",
       "     기타                      0.0              0             0.0   \n",
       "\n",
       "                      지역의 독특한 자연 또는 문화체험-빈도  지역의 독특한 자연 또는 문화체험-비율 기타(업무)-빈도  \\\n",
       "성별   남성                                   5                   10.0         4   \n",
       "     여성                                  12                   21.8         3   \n",
       "연령   10대(15세이상)                           2                   28.6         0   \n",
       "     20대                                  1                    3.6         1   \n",
       "     30대                                  1                    7.1         3   \n",
       "     40대                                  2                   14.3         2   \n",
       "     50대                                  5                   26.3         1   \n",
       "     60대이상                                6                   26.1         0   \n",
       "학력   초등학교 졸업(무학 포함)                       2                   50.0         0   \n",
       "     중학교 재학                               3                   30.0         0   \n",
       "     중학교 졸업                               1                   25.0         0   \n",
       "     고등학교 재학                              0                    0.0         0   \n",
       "     고등학교 졸업                              1                    9.1         0   \n",
       "     대학교 재학                               1                    4.0         0   \n",
       "     대학교 졸업                               7                   16.7         7   \n",
       "     대학원 재학(석사 또는 박사)                     1                   50.0         0   \n",
       "     대학원 졸업(석사또는 박사)                      1                   20.0         0   \n",
       "거주지역 서울                                   1                   10.0         0   \n",
       "     부산                                   0                    0.0         0   \n",
       "     대구                                   0                    0.0         0   \n",
       "     인천                                   1                   50.0         0   \n",
       "     광주                                   0                    0.0         1   \n",
       "     대전                                   0                    0.0         0   \n",
       "     울산                                   0                    0.0         0   \n",
       "     세종                                   0                    0.0         0   \n",
       "     경기                                   3                   13.0         0   \n",
       "     강원                                  12                   17.9         6   \n",
       "     충북                                   0                    0.0         0   \n",
       "     충남                                   0                    0.0         0   \n",
       "     전북                                   0                    0.0         0   \n",
       "     전남                                   0                    0.0         0   \n",
       "     경북                                   0                    0.0         0   \n",
       "     경남                                   0                    0.0         0   \n",
       "     제주                                   0                    0.0         0   \n",
       "직업   산림임업종사자                              1                    9.1         2   \n",
       "     사무종사자                                2                   50.0         0   \n",
       "     서비스종사자                               2                   25.0         0   \n",
       "     판매종사자                                0                    0.0         1   \n",
       "     기술기능종사자                              0                    0.0         0   \n",
       "     단순노무종사자                              0                    0.0         0   \n",
       "     전문가(교수 포함)                           1                   33.3         0   \n",
       "     경영직종사자                               0                    0.0         0   \n",
       "     자영업자(개인사업자)                          2                   25.0         0   \n",
       "     공무원(교사포함)                            2                   10.0         3   \n",
       "     학생(대학원생포함)                           3                    9.1         0   \n",
       "     전업주부                                 3                   37.5         0   \n",
       "     기타                                   1                   33.3         1   \n",
       "\n",
       "                       기타(업무)-비율 기타(학과행사)-빈도  기타(학과행사)-비율 기타(체험학습)-빈도  \\\n",
       "성별   남성                      8.0           2          4.0           1   \n",
       "     여성                      5.5           3          5.5           3   \n",
       "연령   10대(15세이상)              0.0           0          0.0           4   \n",
       "     20대                     3.6           5         17.9           0   \n",
       "     30대                    21.4           0          0.0           0   \n",
       "     40대                    14.3           0          0.0           0   \n",
       "     50대                     5.3           0          0.0           0   \n",
       "     60대이상                   0.0           0          0.0           0   \n",
       "학력   초등학교 졸업(무학 포함)          0.0           0          0.0           0   \n",
       "     중학교 재학                  0.0           0          0.0           4   \n",
       "     중학교 졸업                  0.0           0          0.0           0   \n",
       "     고등학교 재학                 0.0           0          0.0           0   \n",
       "     고등학교 졸업                 0.0           0          0.0           0   \n",
       "     대학교 재학                  0.0           5         20.0           0   \n",
       "     대학교 졸업                 16.7           0          0.0           0   \n",
       "     대학원 재학(석사 또는 박사)        0.0           0          0.0           0   \n",
       "     대학원 졸업(석사또는 박사)         0.0           0          0.0           0   \n",
       "거주지역 서울                      0.0           1         10.0           0   \n",
       "     부산                      0.0           0          0.0           0   \n",
       "     대구                      0.0           0          0.0           0   \n",
       "     인천                      0.0           1         50.0           0   \n",
       "     광주                    100.0           0          0.0           0   \n",
       "     대전                      0.0           0          0.0           0   \n",
       "     울산                      0.0           0          0.0           0   \n",
       "     세종                      0.0           0          0.0           0   \n",
       "     경기                      0.0           2          8.7           0   \n",
       "     강원                      9.0           1          1.5           4   \n",
       "     충북                      0.0           0          0.0           0   \n",
       "     충남                      0.0           0          0.0           0   \n",
       "     전북                      0.0           0          0.0           0   \n",
       "     전남                      0.0           0          0.0           0   \n",
       "     경북                      0.0           0          0.0           0   \n",
       "     경남                      0.0           0          0.0           0   \n",
       "     제주                      0.0           0          0.0           0   \n",
       "직업   산림임업종사자                18.2           0          0.0           0   \n",
       "     사무종사자                   0.0           0          0.0           0   \n",
       "     서비스종사자                  0.0           0          0.0           0   \n",
       "     판매종사자                  25.0           0          0.0           0   \n",
       "     기술기능종사자                 0.0           0          0.0           0   \n",
       "     단순노무종사자                 0.0           0          0.0           0   \n",
       "     전문가(교수 포함)              0.0           0          0.0           0   \n",
       "     경영직종사자                  0.0           0          0.0           0   \n",
       "     자영업자(개인사업자)             0.0           0          0.0           0   \n",
       "     공무원(교사포함)              15.0           0          0.0           0   \n",
       "     학생(대학원생포함)              0.0           5         15.2           4   \n",
       "     전업주부                    0.0           0          0.0           0   \n",
       "     기타                     33.3           0          0.0           0   \n",
       "\n",
       "                       기타(체험학습)-비율  사례수  \n",
       "성별   남성                        2.0   50  \n",
       "     여성                        5.5   55  \n",
       "연령   10대(15세이상)               57.1    7  \n",
       "     20대                       0.0   28  \n",
       "     30대                       0.0   14  \n",
       "     40대                       0.0   14  \n",
       "     50대                       0.0   19  \n",
       "     60대이상                     0.0   23  \n",
       "학력   초등학교 졸업(무학 포함)            0.0    4  \n",
       "     중학교 재학                   40.0   10  \n",
       "     중학교 졸업                    0.0    4  \n",
       "     고등학교 재학                   0.0    2  \n",
       "     고등학교 졸업                   0.0   11  \n",
       "     대학교 재학                    0.0   25  \n",
       "     대학교 졸업                    0.0   42  \n",
       "     대학원 재학(석사 또는 박사)          0.0    2  \n",
       "     대학원 졸업(석사또는 박사)           0.0    5  \n",
       "거주지역 서울                        0.0   10  \n",
       "     부산                        0.0    0  \n",
       "     대구                        0.0    0  \n",
       "     인천                        0.0    2  \n",
       "     광주                        0.0    1  \n",
       "     대전                        0.0    0  \n",
       "     울산                        0.0    0  \n",
       "     세종                        0.0    0  \n",
       "     경기                        0.0   23  \n",
       "     강원                        6.0   67  \n",
       "     충북                        0.0    0  \n",
       "     충남                        0.0    0  \n",
       "     전북                        0.0    0  \n",
       "     전남                        0.0    1  \n",
       "     경북                        0.0    1  \n",
       "     경남                        0.0    0  \n",
       "     제주                        0.0    0  \n",
       "직업   산림임업종사자                   0.0   11  \n",
       "     사무종사자                     0.0    4  \n",
       "     서비스종사자                    0.0    8  \n",
       "     판매종사자                     0.0    4  \n",
       "     기술기능종사자                   0.0    3  \n",
       "     단순노무종사자                   0.0    0  \n",
       "     전문가(교수 포함)                0.0    3  \n",
       "     경영직종사자                    0.0    0  \n",
       "     자영업자(개인사업자)               0.0    8  \n",
       "     공무원(교사포함)                 0.0   20  \n",
       "     학생(대학원생포함)               12.1   33  \n",
       "     전업주부                      0.0    8  \n",
       "     기타                        0.0    3  "
      ]
     },
     "execution_count": 38,
     "metadata": {},
     "output_type": "execute_result"
    }
   ],
   "source": [
    "# 응답자 특성별 표 정리\n",
    "q1 = ['휴식 및 건강증진','자기계발','산림에 대한 소양증진(지식,정보등 습득)','즐겁고 재미난 체험','자연(산림) 감수성함양','가족과의 시간','대인관계형성','창작활동에 대한 기대','지역의 독특한 자연 또는 문화체험','기타(업무)','기타(학과행사)','기타(체험학습)']\n",
    "combined_list = q1\n",
    "column_lst = []\n",
    "for i in combined_list:\n",
    "    column_lst.append(\"%s-빈도\"%i)\n",
    "    column_lst.append(\"%s-비율\"%i)\n",
    "resp_map_df = pd.DataFrame(columns = column_lst)\n",
    "\n",
    "# 응답자 설문 리스트 정의\n",
    "sq_lst = list(Resp_Character.keys())\n",
    "# 응답자 매핑 딕셔너리 정의\n",
    "sq_dic = {'성별': 'SQ1', '연령': 'SQ2_1', '학력': 'SQ3', '거주지역': 'SQ4', '직업': 'SQ5'}\n",
    "\n",
    "# 멀티인덱스를 위한 리스트 생성\n",
    "mult_idx = []\n",
    "\n",
    "for sq in sq_lst:\n",
    "    for val in list(Resp_Character[sq].values()):\n",
    "        # 멀티인덱스 추가\n",
    "        mult_idx.append(sq)\n",
    "        # 'SQ1' 열의 값으로 필터링\n",
    "        filtered_rows = df_expo[df_expo[sq_dic[sq]] == val].reset_index(drop=True)\n",
    "        frequency_rate_df = filtered_rows['Q1_1'].value_counts().reset_index()\n",
    "        frequency_rate_df.columns = ['값', '빈도']\n",
    "        frequency_rate_df['값'] = map_val(frequency_rate_df['값'], Q1_map)\n",
    "        frequency_rate_df['비율'] = round((frequency_rate_df['빈도'] / frequency_rate_df['빈도'].sum())*100,1)\n",
    "        frequency_rate_df = frequency_rate_df.set_index(keys='값')\n",
    "        \n",
    "        resp_map = {}\n",
    "        for i in resp_map_df.columns:\n",
    "            if i.endswith('빈도'):\n",
    "                resp_map[i] = [0]\n",
    "            else:\n",
    "                resp_map[i] = [0.0]\n",
    "\n",
    "        for i in resp_map_df.columns:\n",
    "            try:       \n",
    "                response, method = i.split('-')\n",
    "                resp_map[i][0] = frequency_rate_df.loc[response, method]\n",
    "            except:\n",
    "                pass\n",
    "        else:\n",
    "            map_df = pd.DataFrame(resp_map)\n",
    "            map_df.index = [val]\n",
    "            resp_map_df = pd.concat([resp_map_df,map_df])\n",
    "resp_map_df['사례수'] = resp_map_df.filter(like='빈도').sum(axis=1).astype(int)\n",
    "# 멀티인덱스 생성\n",
    "resp_map_df.set_index([mult_idx, resp_map_df.index], inplace=True)\n",
    "resp_map_df"
   ]
  },
  {
   "attachments": {},
   "cell_type": "markdown",
   "metadata": {},
   "source": [
    "### 1순위 + 2순위 합산한 표 생성"
   ]
  },
  {
   "cell_type": "code",
   "execution_count": 40,
   "metadata": {},
   "outputs": [
    {
     "name": "stderr",
     "output_type": "stream",
     "text": [
      "C:\\Users\\user\\AppData\\Local\\Temp\\ipykernel_19340\\1926766133.py:51: FutureWarning:\n",
      "\n",
      "The behavior of DataFrame concatenation with empty or all-NA entries is deprecated. In a future version, this will no longer exclude empty or all-NA columns when determining the result dtypes. To retain the old behavior, exclude the relevant entries before the concat operation.\n",
      "\n"
     ]
    },
    {
     "data": {
      "text/html": [
       "<div>\n",
       "<style scoped>\n",
       "    .dataframe tbody tr th:only-of-type {\n",
       "        vertical-align: middle;\n",
       "    }\n",
       "\n",
       "    .dataframe tbody tr th {\n",
       "        vertical-align: top;\n",
       "    }\n",
       "\n",
       "    .dataframe thead th {\n",
       "        text-align: right;\n",
       "    }\n",
       "</style>\n",
       "<table border=\"1\" class=\"dataframe\">\n",
       "  <thead>\n",
       "    <tr style=\"text-align: right;\">\n",
       "      <th></th>\n",
       "      <th></th>\n",
       "      <th>휴식 및 건강증진-빈도</th>\n",
       "      <th>휴식 및 건강증진-비율</th>\n",
       "      <th>자기계발-빈도</th>\n",
       "      <th>자기계발-비율</th>\n",
       "      <th>산림에 대한 소양증진(지식,정보등 습득)-빈도</th>\n",
       "      <th>산림에 대한 소양증진(지식,정보등 습득)-비율</th>\n",
       "      <th>즐겁고 재미난 체험-빈도</th>\n",
       "      <th>즐겁고 재미난 체험-비율</th>\n",
       "      <th>자연(산림) 감수성함양-빈도</th>\n",
       "      <th>자연(산림) 감수성함양-비율</th>\n",
       "      <th>가족과의 시간-빈도</th>\n",
       "      <th>가족과의 시간-비율</th>\n",
       "      <th>대인관계형성-빈도</th>\n",
       "      <th>대인관계형성-비율</th>\n",
       "      <th>창작활동에 대한 기대-빈도</th>\n",
       "      <th>창작활동에 대한 기대-비율</th>\n",
       "      <th>지역의 독특한 자연 또는 문화체험-빈도</th>\n",
       "      <th>지역의 독특한 자연 또는 문화체험-비율</th>\n",
       "      <th>기타(업무)-빈도</th>\n",
       "      <th>기타(업무)-비율</th>\n",
       "      <th>기타(학과행사)-빈도</th>\n",
       "      <th>기타(학과행사)-비율</th>\n",
       "      <th>기타(체험학습)-빈도</th>\n",
       "      <th>기타(체험학습)-비율</th>\n",
       "      <th>사례수</th>\n",
       "    </tr>\n",
       "  </thead>\n",
       "  <tbody>\n",
       "    <tr>\n",
       "      <th rowspan=\"2\" valign=\"top\">성별</th>\n",
       "      <th>남성</th>\n",
       "      <td>20</td>\n",
       "      <td>20.0</td>\n",
       "      <td>11</td>\n",
       "      <td>11.0</td>\n",
       "      <td>16</td>\n",
       "      <td>16.0</td>\n",
       "      <td>16</td>\n",
       "      <td>16.0</td>\n",
       "      <td>7</td>\n",
       "      <td>7.0</td>\n",
       "      <td>2</td>\n",
       "      <td>2.0</td>\n",
       "      <td>7</td>\n",
       "      <td>7.0</td>\n",
       "      <td>1</td>\n",
       "      <td>1.0</td>\n",
       "      <td>13</td>\n",
       "      <td>13.0</td>\n",
       "      <td>4</td>\n",
       "      <td>4.0</td>\n",
       "      <td>2</td>\n",
       "      <td>2.0</td>\n",
       "      <td>1</td>\n",
       "      <td>1.0</td>\n",
       "      <td>100</td>\n",
       "    </tr>\n",
       "    <tr>\n",
       "      <th>여성</th>\n",
       "      <td>15</td>\n",
       "      <td>13.6</td>\n",
       "      <td>6</td>\n",
       "      <td>5.5</td>\n",
       "      <td>17</td>\n",
       "      <td>15.5</td>\n",
       "      <td>21</td>\n",
       "      <td>19.1</td>\n",
       "      <td>10</td>\n",
       "      <td>9.1</td>\n",
       "      <td>0</td>\n",
       "      <td>0.0</td>\n",
       "      <td>7</td>\n",
       "      <td>6.4</td>\n",
       "      <td>3</td>\n",
       "      <td>2.7</td>\n",
       "      <td>20</td>\n",
       "      <td>18.2</td>\n",
       "      <td>3</td>\n",
       "      <td>2.7</td>\n",
       "      <td>4</td>\n",
       "      <td>3.6</td>\n",
       "      <td>4</td>\n",
       "      <td>3.6</td>\n",
       "      <td>110</td>\n",
       "    </tr>\n",
       "    <tr>\n",
       "      <th rowspan=\"6\" valign=\"top\">연령</th>\n",
       "      <th>10대(15세이상)</th>\n",
       "      <td>0</td>\n",
       "      <td>0.0</td>\n",
       "      <td>1</td>\n",
       "      <td>7.1</td>\n",
       "      <td>0</td>\n",
       "      <td>0.0</td>\n",
       "      <td>3</td>\n",
       "      <td>21.4</td>\n",
       "      <td>1</td>\n",
       "      <td>7.1</td>\n",
       "      <td>0</td>\n",
       "      <td>0.0</td>\n",
       "      <td>0</td>\n",
       "      <td>0.0</td>\n",
       "      <td>1</td>\n",
       "      <td>7.1</td>\n",
       "      <td>3</td>\n",
       "      <td>21.4</td>\n",
       "      <td>0</td>\n",
       "      <td>0.0</td>\n",
       "      <td>0</td>\n",
       "      <td>0.0</td>\n",
       "      <td>5</td>\n",
       "      <td>35.7</td>\n",
       "      <td>14</td>\n",
       "    </tr>\n",
       "    <tr>\n",
       "      <th>20대</th>\n",
       "      <td>7</td>\n",
       "      <td>12.5</td>\n",
       "      <td>11</td>\n",
       "      <td>19.6</td>\n",
       "      <td>9</td>\n",
       "      <td>16.1</td>\n",
       "      <td>8</td>\n",
       "      <td>14.3</td>\n",
       "      <td>8</td>\n",
       "      <td>14.3</td>\n",
       "      <td>0</td>\n",
       "      <td>0.0</td>\n",
       "      <td>1</td>\n",
       "      <td>1.8</td>\n",
       "      <td>1</td>\n",
       "      <td>1.8</td>\n",
       "      <td>4</td>\n",
       "      <td>7.1</td>\n",
       "      <td>1</td>\n",
       "      <td>1.8</td>\n",
       "      <td>6</td>\n",
       "      <td>10.7</td>\n",
       "      <td>0</td>\n",
       "      <td>0.0</td>\n",
       "      <td>56</td>\n",
       "    </tr>\n",
       "    <tr>\n",
       "      <th>30대</th>\n",
       "      <td>8</td>\n",
       "      <td>28.6</td>\n",
       "      <td>2</td>\n",
       "      <td>7.1</td>\n",
       "      <td>2</td>\n",
       "      <td>7.1</td>\n",
       "      <td>7</td>\n",
       "      <td>25.0</td>\n",
       "      <td>2</td>\n",
       "      <td>7.1</td>\n",
       "      <td>1</td>\n",
       "      <td>3.6</td>\n",
       "      <td>0</td>\n",
       "      <td>0.0</td>\n",
       "      <td>0</td>\n",
       "      <td>0.0</td>\n",
       "      <td>3</td>\n",
       "      <td>10.7</td>\n",
       "      <td>3</td>\n",
       "      <td>10.7</td>\n",
       "      <td>0</td>\n",
       "      <td>0.0</td>\n",
       "      <td>0</td>\n",
       "      <td>0.0</td>\n",
       "      <td>28</td>\n",
       "    </tr>\n",
       "    <tr>\n",
       "      <th>40대</th>\n",
       "      <td>5</td>\n",
       "      <td>17.9</td>\n",
       "      <td>0</td>\n",
       "      <td>0.0</td>\n",
       "      <td>5</td>\n",
       "      <td>17.9</td>\n",
       "      <td>7</td>\n",
       "      <td>25.0</td>\n",
       "      <td>0</td>\n",
       "      <td>0.0</td>\n",
       "      <td>1</td>\n",
       "      <td>3.6</td>\n",
       "      <td>3</td>\n",
       "      <td>10.7</td>\n",
       "      <td>1</td>\n",
       "      <td>3.6</td>\n",
       "      <td>4</td>\n",
       "      <td>14.3</td>\n",
       "      <td>2</td>\n",
       "      <td>7.1</td>\n",
       "      <td>0</td>\n",
       "      <td>0.0</td>\n",
       "      <td>0</td>\n",
       "      <td>0.0</td>\n",
       "      <td>28</td>\n",
       "    </tr>\n",
       "    <tr>\n",
       "      <th>50대</th>\n",
       "      <td>9</td>\n",
       "      <td>23.7</td>\n",
       "      <td>1</td>\n",
       "      <td>2.6</td>\n",
       "      <td>6</td>\n",
       "      <td>15.8</td>\n",
       "      <td>4</td>\n",
       "      <td>10.5</td>\n",
       "      <td>4</td>\n",
       "      <td>10.5</td>\n",
       "      <td>0</td>\n",
       "      <td>0.0</td>\n",
       "      <td>5</td>\n",
       "      <td>13.2</td>\n",
       "      <td>1</td>\n",
       "      <td>2.6</td>\n",
       "      <td>7</td>\n",
       "      <td>18.4</td>\n",
       "      <td>1</td>\n",
       "      <td>2.6</td>\n",
       "      <td>0</td>\n",
       "      <td>0.0</td>\n",
       "      <td>0</td>\n",
       "      <td>0.0</td>\n",
       "      <td>38</td>\n",
       "    </tr>\n",
       "    <tr>\n",
       "      <th>60대이상</th>\n",
       "      <td>6</td>\n",
       "      <td>13.0</td>\n",
       "      <td>2</td>\n",
       "      <td>4.3</td>\n",
       "      <td>11</td>\n",
       "      <td>23.9</td>\n",
       "      <td>8</td>\n",
       "      <td>17.4</td>\n",
       "      <td>2</td>\n",
       "      <td>4.3</td>\n",
       "      <td>0</td>\n",
       "      <td>0.0</td>\n",
       "      <td>5</td>\n",
       "      <td>10.9</td>\n",
       "      <td>0</td>\n",
       "      <td>0.0</td>\n",
       "      <td>12</td>\n",
       "      <td>26.1</td>\n",
       "      <td>0</td>\n",
       "      <td>0.0</td>\n",
       "      <td>0</td>\n",
       "      <td>0.0</td>\n",
       "      <td>0</td>\n",
       "      <td>0.0</td>\n",
       "      <td>46</td>\n",
       "    </tr>\n",
       "    <tr>\n",
       "      <th rowspan=\"9\" valign=\"top\">학력</th>\n",
       "      <th>초등학교 졸업(무학 포함)</th>\n",
       "      <td>0</td>\n",
       "      <td>0.0</td>\n",
       "      <td>0</td>\n",
       "      <td>0.0</td>\n",
       "      <td>1</td>\n",
       "      <td>12.5</td>\n",
       "      <td>1</td>\n",
       "      <td>12.5</td>\n",
       "      <td>1</td>\n",
       "      <td>12.5</td>\n",
       "      <td>0</td>\n",
       "      <td>0.0</td>\n",
       "      <td>2</td>\n",
       "      <td>25.0</td>\n",
       "      <td>0</td>\n",
       "      <td>0.0</td>\n",
       "      <td>3</td>\n",
       "      <td>37.5</td>\n",
       "      <td>0</td>\n",
       "      <td>0.0</td>\n",
       "      <td>0</td>\n",
       "      <td>0.0</td>\n",
       "      <td>0</td>\n",
       "      <td>0.0</td>\n",
       "      <td>8</td>\n",
       "    </tr>\n",
       "    <tr>\n",
       "      <th>중학교 재학</th>\n",
       "      <td>1</td>\n",
       "      <td>5.0</td>\n",
       "      <td>2</td>\n",
       "      <td>10.0</td>\n",
       "      <td>2</td>\n",
       "      <td>10.0</td>\n",
       "      <td>4</td>\n",
       "      <td>20.0</td>\n",
       "      <td>1</td>\n",
       "      <td>5.0</td>\n",
       "      <td>0</td>\n",
       "      <td>0.0</td>\n",
       "      <td>0</td>\n",
       "      <td>0.0</td>\n",
       "      <td>1</td>\n",
       "      <td>5.0</td>\n",
       "      <td>4</td>\n",
       "      <td>20.0</td>\n",
       "      <td>0</td>\n",
       "      <td>0.0</td>\n",
       "      <td>0</td>\n",
       "      <td>0.0</td>\n",
       "      <td>5</td>\n",
       "      <td>25.0</td>\n",
       "      <td>20</td>\n",
       "    </tr>\n",
       "    <tr>\n",
       "      <th>중학교 졸업</th>\n",
       "      <td>1</td>\n",
       "      <td>12.5</td>\n",
       "      <td>0</td>\n",
       "      <td>0.0</td>\n",
       "      <td>1</td>\n",
       "      <td>12.5</td>\n",
       "      <td>2</td>\n",
       "      <td>25.0</td>\n",
       "      <td>1</td>\n",
       "      <td>12.5</td>\n",
       "      <td>0</td>\n",
       "      <td>0.0</td>\n",
       "      <td>1</td>\n",
       "      <td>12.5</td>\n",
       "      <td>0</td>\n",
       "      <td>0.0</td>\n",
       "      <td>2</td>\n",
       "      <td>25.0</td>\n",
       "      <td>0</td>\n",
       "      <td>0.0</td>\n",
       "      <td>0</td>\n",
       "      <td>0.0</td>\n",
       "      <td>0</td>\n",
       "      <td>0.0</td>\n",
       "      <td>8</td>\n",
       "    </tr>\n",
       "    <tr>\n",
       "      <th>고등학교 재학</th>\n",
       "      <td>1</td>\n",
       "      <td>25.0</td>\n",
       "      <td>0</td>\n",
       "      <td>0.0</td>\n",
       "      <td>1</td>\n",
       "      <td>25.0</td>\n",
       "      <td>1</td>\n",
       "      <td>25.0</td>\n",
       "      <td>0</td>\n",
       "      <td>0.0</td>\n",
       "      <td>0</td>\n",
       "      <td>0.0</td>\n",
       "      <td>0</td>\n",
       "      <td>0.0</td>\n",
       "      <td>0</td>\n",
       "      <td>0.0</td>\n",
       "      <td>1</td>\n",
       "      <td>25.0</td>\n",
       "      <td>0</td>\n",
       "      <td>0.0</td>\n",
       "      <td>0</td>\n",
       "      <td>0.0</td>\n",
       "      <td>0</td>\n",
       "      <td>0.0</td>\n",
       "      <td>4</td>\n",
       "    </tr>\n",
       "    <tr>\n",
       "      <th>고등학교 졸업</th>\n",
       "      <td>5</td>\n",
       "      <td>22.7</td>\n",
       "      <td>1</td>\n",
       "      <td>4.5</td>\n",
       "      <td>3</td>\n",
       "      <td>13.6</td>\n",
       "      <td>2</td>\n",
       "      <td>9.1</td>\n",
       "      <td>3</td>\n",
       "      <td>13.6</td>\n",
       "      <td>0</td>\n",
       "      <td>0.0</td>\n",
       "      <td>4</td>\n",
       "      <td>18.2</td>\n",
       "      <td>0</td>\n",
       "      <td>0.0</td>\n",
       "      <td>4</td>\n",
       "      <td>18.2</td>\n",
       "      <td>0</td>\n",
       "      <td>0.0</td>\n",
       "      <td>0</td>\n",
       "      <td>0.0</td>\n",
       "      <td>0</td>\n",
       "      <td>0.0</td>\n",
       "      <td>22</td>\n",
       "    </tr>\n",
       "    <tr>\n",
       "      <th>대학교 재학</th>\n",
       "      <td>6</td>\n",
       "      <td>12.0</td>\n",
       "      <td>10</td>\n",
       "      <td>20.0</td>\n",
       "      <td>9</td>\n",
       "      <td>18.0</td>\n",
       "      <td>6</td>\n",
       "      <td>12.0</td>\n",
       "      <td>7</td>\n",
       "      <td>14.0</td>\n",
       "      <td>0</td>\n",
       "      <td>0.0</td>\n",
       "      <td>2</td>\n",
       "      <td>4.0</td>\n",
       "      <td>0</td>\n",
       "      <td>0.0</td>\n",
       "      <td>4</td>\n",
       "      <td>8.0</td>\n",
       "      <td>0</td>\n",
       "      <td>0.0</td>\n",
       "      <td>6</td>\n",
       "      <td>12.0</td>\n",
       "      <td>0</td>\n",
       "      <td>0.0</td>\n",
       "      <td>50</td>\n",
       "    </tr>\n",
       "    <tr>\n",
       "      <th>대학교 졸업</th>\n",
       "      <td>16</td>\n",
       "      <td>19.0</td>\n",
       "      <td>3</td>\n",
       "      <td>3.6</td>\n",
       "      <td>14</td>\n",
       "      <td>16.7</td>\n",
       "      <td>19</td>\n",
       "      <td>22.6</td>\n",
       "      <td>3</td>\n",
       "      <td>3.6</td>\n",
       "      <td>2</td>\n",
       "      <td>2.4</td>\n",
       "      <td>4</td>\n",
       "      <td>4.8</td>\n",
       "      <td>3</td>\n",
       "      <td>3.6</td>\n",
       "      <td>13</td>\n",
       "      <td>15.5</td>\n",
       "      <td>7</td>\n",
       "      <td>8.3</td>\n",
       "      <td>0</td>\n",
       "      <td>0.0</td>\n",
       "      <td>0</td>\n",
       "      <td>0.0</td>\n",
       "      <td>84</td>\n",
       "    </tr>\n",
       "    <tr>\n",
       "      <th>대학원 재학(석사 또는 박사)</th>\n",
       "      <td>1</td>\n",
       "      <td>25.0</td>\n",
       "      <td>0</td>\n",
       "      <td>0.0</td>\n",
       "      <td>0</td>\n",
       "      <td>0.0</td>\n",
       "      <td>1</td>\n",
       "      <td>25.0</td>\n",
       "      <td>1</td>\n",
       "      <td>25.0</td>\n",
       "      <td>0</td>\n",
       "      <td>0.0</td>\n",
       "      <td>0</td>\n",
       "      <td>0.0</td>\n",
       "      <td>0</td>\n",
       "      <td>0.0</td>\n",
       "      <td>1</td>\n",
       "      <td>25.0</td>\n",
       "      <td>0</td>\n",
       "      <td>0.0</td>\n",
       "      <td>0</td>\n",
       "      <td>0.0</td>\n",
       "      <td>0</td>\n",
       "      <td>0.0</td>\n",
       "      <td>4</td>\n",
       "    </tr>\n",
       "    <tr>\n",
       "      <th>대학원 졸업(석사또는 박사)</th>\n",
       "      <td>4</td>\n",
       "      <td>40.0</td>\n",
       "      <td>1</td>\n",
       "      <td>10.0</td>\n",
       "      <td>2</td>\n",
       "      <td>20.0</td>\n",
       "      <td>1</td>\n",
       "      <td>10.0</td>\n",
       "      <td>0</td>\n",
       "      <td>0.0</td>\n",
       "      <td>0</td>\n",
       "      <td>0.0</td>\n",
       "      <td>1</td>\n",
       "      <td>10.0</td>\n",
       "      <td>0</td>\n",
       "      <td>0.0</td>\n",
       "      <td>1</td>\n",
       "      <td>10.0</td>\n",
       "      <td>0</td>\n",
       "      <td>0.0</td>\n",
       "      <td>0</td>\n",
       "      <td>0.0</td>\n",
       "      <td>0</td>\n",
       "      <td>0.0</td>\n",
       "      <td>10</td>\n",
       "    </tr>\n",
       "    <tr>\n",
       "      <th rowspan=\"17\" valign=\"top\">거주지역</th>\n",
       "      <th>서울</th>\n",
       "      <td>3</td>\n",
       "      <td>15.0</td>\n",
       "      <td>2</td>\n",
       "      <td>10.0</td>\n",
       "      <td>2</td>\n",
       "      <td>10.0</td>\n",
       "      <td>5</td>\n",
       "      <td>25.0</td>\n",
       "      <td>3</td>\n",
       "      <td>15.0</td>\n",
       "      <td>0</td>\n",
       "      <td>0.0</td>\n",
       "      <td>0</td>\n",
       "      <td>0.0</td>\n",
       "      <td>1</td>\n",
       "      <td>5.0</td>\n",
       "      <td>3</td>\n",
       "      <td>15.0</td>\n",
       "      <td>0</td>\n",
       "      <td>0.0</td>\n",
       "      <td>1</td>\n",
       "      <td>5.0</td>\n",
       "      <td>0</td>\n",
       "      <td>0.0</td>\n",
       "      <td>20</td>\n",
       "    </tr>\n",
       "    <tr>\n",
       "      <th>부산</th>\n",
       "      <td>0</td>\n",
       "      <td>0.0</td>\n",
       "      <td>0</td>\n",
       "      <td>0.0</td>\n",
       "      <td>0</td>\n",
       "      <td>0.0</td>\n",
       "      <td>0</td>\n",
       "      <td>0.0</td>\n",
       "      <td>0</td>\n",
       "      <td>0.0</td>\n",
       "      <td>0</td>\n",
       "      <td>0.0</td>\n",
       "      <td>0</td>\n",
       "      <td>0.0</td>\n",
       "      <td>0</td>\n",
       "      <td>0.0</td>\n",
       "      <td>0</td>\n",
       "      <td>0.0</td>\n",
       "      <td>0</td>\n",
       "      <td>0.0</td>\n",
       "      <td>0</td>\n",
       "      <td>0.0</td>\n",
       "      <td>0</td>\n",
       "      <td>0.0</td>\n",
       "      <td>0</td>\n",
       "    </tr>\n",
       "    <tr>\n",
       "      <th>대구</th>\n",
       "      <td>0</td>\n",
       "      <td>0.0</td>\n",
       "      <td>0</td>\n",
       "      <td>0.0</td>\n",
       "      <td>0</td>\n",
       "      <td>0.0</td>\n",
       "      <td>0</td>\n",
       "      <td>0.0</td>\n",
       "      <td>0</td>\n",
       "      <td>0.0</td>\n",
       "      <td>0</td>\n",
       "      <td>0.0</td>\n",
       "      <td>0</td>\n",
       "      <td>0.0</td>\n",
       "      <td>0</td>\n",
       "      <td>0.0</td>\n",
       "      <td>0</td>\n",
       "      <td>0.0</td>\n",
       "      <td>0</td>\n",
       "      <td>0.0</td>\n",
       "      <td>0</td>\n",
       "      <td>0.0</td>\n",
       "      <td>0</td>\n",
       "      <td>0.0</td>\n",
       "      <td>0</td>\n",
       "    </tr>\n",
       "    <tr>\n",
       "      <th>인천</th>\n",
       "      <td>1</td>\n",
       "      <td>25.0</td>\n",
       "      <td>0</td>\n",
       "      <td>0.0</td>\n",
       "      <td>0</td>\n",
       "      <td>0.0</td>\n",
       "      <td>0</td>\n",
       "      <td>0.0</td>\n",
       "      <td>1</td>\n",
       "      <td>25.0</td>\n",
       "      <td>0</td>\n",
       "      <td>0.0</td>\n",
       "      <td>0</td>\n",
       "      <td>0.0</td>\n",
       "      <td>0</td>\n",
       "      <td>0.0</td>\n",
       "      <td>1</td>\n",
       "      <td>25.0</td>\n",
       "      <td>0</td>\n",
       "      <td>0.0</td>\n",
       "      <td>1</td>\n",
       "      <td>25.0</td>\n",
       "      <td>0</td>\n",
       "      <td>0.0</td>\n",
       "      <td>4</td>\n",
       "    </tr>\n",
       "    <tr>\n",
       "      <th>광주</th>\n",
       "      <td>0</td>\n",
       "      <td>0.0</td>\n",
       "      <td>0</td>\n",
       "      <td>0.0</td>\n",
       "      <td>1</td>\n",
       "      <td>50.0</td>\n",
       "      <td>0</td>\n",
       "      <td>0.0</td>\n",
       "      <td>0</td>\n",
       "      <td>0.0</td>\n",
       "      <td>0</td>\n",
       "      <td>0.0</td>\n",
       "      <td>0</td>\n",
       "      <td>0.0</td>\n",
       "      <td>0</td>\n",
       "      <td>0.0</td>\n",
       "      <td>0</td>\n",
       "      <td>0.0</td>\n",
       "      <td>1</td>\n",
       "      <td>50.0</td>\n",
       "      <td>0</td>\n",
       "      <td>0.0</td>\n",
       "      <td>0</td>\n",
       "      <td>0.0</td>\n",
       "      <td>2</td>\n",
       "    </tr>\n",
       "    <tr>\n",
       "      <th>대전</th>\n",
       "      <td>0</td>\n",
       "      <td>0.0</td>\n",
       "      <td>0</td>\n",
       "      <td>0.0</td>\n",
       "      <td>0</td>\n",
       "      <td>0.0</td>\n",
       "      <td>0</td>\n",
       "      <td>0.0</td>\n",
       "      <td>0</td>\n",
       "      <td>0.0</td>\n",
       "      <td>0</td>\n",
       "      <td>0.0</td>\n",
       "      <td>0</td>\n",
       "      <td>0.0</td>\n",
       "      <td>0</td>\n",
       "      <td>0.0</td>\n",
       "      <td>0</td>\n",
       "      <td>0.0</td>\n",
       "      <td>0</td>\n",
       "      <td>0.0</td>\n",
       "      <td>0</td>\n",
       "      <td>0.0</td>\n",
       "      <td>0</td>\n",
       "      <td>0.0</td>\n",
       "      <td>0</td>\n",
       "    </tr>\n",
       "    <tr>\n",
       "      <th>울산</th>\n",
       "      <td>0</td>\n",
       "      <td>0.0</td>\n",
       "      <td>0</td>\n",
       "      <td>0.0</td>\n",
       "      <td>0</td>\n",
       "      <td>0.0</td>\n",
       "      <td>0</td>\n",
       "      <td>0.0</td>\n",
       "      <td>0</td>\n",
       "      <td>0.0</td>\n",
       "      <td>0</td>\n",
       "      <td>0.0</td>\n",
       "      <td>0</td>\n",
       "      <td>0.0</td>\n",
       "      <td>0</td>\n",
       "      <td>0.0</td>\n",
       "      <td>0</td>\n",
       "      <td>0.0</td>\n",
       "      <td>0</td>\n",
       "      <td>0.0</td>\n",
       "      <td>0</td>\n",
       "      <td>0.0</td>\n",
       "      <td>0</td>\n",
       "      <td>0.0</td>\n",
       "      <td>0</td>\n",
       "    </tr>\n",
       "    <tr>\n",
       "      <th>세종</th>\n",
       "      <td>0</td>\n",
       "      <td>0.0</td>\n",
       "      <td>0</td>\n",
       "      <td>0.0</td>\n",
       "      <td>0</td>\n",
       "      <td>0.0</td>\n",
       "      <td>0</td>\n",
       "      <td>0.0</td>\n",
       "      <td>0</td>\n",
       "      <td>0.0</td>\n",
       "      <td>0</td>\n",
       "      <td>0.0</td>\n",
       "      <td>0</td>\n",
       "      <td>0.0</td>\n",
       "      <td>0</td>\n",
       "      <td>0.0</td>\n",
       "      <td>0</td>\n",
       "      <td>0.0</td>\n",
       "      <td>0</td>\n",
       "      <td>0.0</td>\n",
       "      <td>0</td>\n",
       "      <td>0.0</td>\n",
       "      <td>0</td>\n",
       "      <td>0.0</td>\n",
       "      <td>0</td>\n",
       "    </tr>\n",
       "    <tr>\n",
       "      <th>경기</th>\n",
       "      <td>9</td>\n",
       "      <td>19.6</td>\n",
       "      <td>5</td>\n",
       "      <td>10.9</td>\n",
       "      <td>7</td>\n",
       "      <td>15.2</td>\n",
       "      <td>7</td>\n",
       "      <td>15.2</td>\n",
       "      <td>4</td>\n",
       "      <td>8.7</td>\n",
       "      <td>0</td>\n",
       "      <td>0.0</td>\n",
       "      <td>6</td>\n",
       "      <td>13.0</td>\n",
       "      <td>0</td>\n",
       "      <td>0.0</td>\n",
       "      <td>6</td>\n",
       "      <td>13.0</td>\n",
       "      <td>0</td>\n",
       "      <td>0.0</td>\n",
       "      <td>2</td>\n",
       "      <td>4.3</td>\n",
       "      <td>0</td>\n",
       "      <td>0.0</td>\n",
       "      <td>46</td>\n",
       "    </tr>\n",
       "    <tr>\n",
       "      <th>강원</th>\n",
       "      <td>22</td>\n",
       "      <td>16.4</td>\n",
       "      <td>9</td>\n",
       "      <td>6.7</td>\n",
       "      <td>21</td>\n",
       "      <td>15.7</td>\n",
       "      <td>25</td>\n",
       "      <td>18.7</td>\n",
       "      <td>8</td>\n",
       "      <td>6.0</td>\n",
       "      <td>2</td>\n",
       "      <td>1.5</td>\n",
       "      <td>8</td>\n",
       "      <td>6.0</td>\n",
       "      <td>3</td>\n",
       "      <td>2.2</td>\n",
       "      <td>23</td>\n",
       "      <td>17.2</td>\n",
       "      <td>6</td>\n",
       "      <td>4.5</td>\n",
       "      <td>2</td>\n",
       "      <td>1.5</td>\n",
       "      <td>5</td>\n",
       "      <td>3.7</td>\n",
       "      <td>134</td>\n",
       "    </tr>\n",
       "    <tr>\n",
       "      <th>충북</th>\n",
       "      <td>0</td>\n",
       "      <td>0.0</td>\n",
       "      <td>0</td>\n",
       "      <td>0.0</td>\n",
       "      <td>0</td>\n",
       "      <td>0.0</td>\n",
       "      <td>0</td>\n",
       "      <td>0.0</td>\n",
       "      <td>0</td>\n",
       "      <td>0.0</td>\n",
       "      <td>0</td>\n",
       "      <td>0.0</td>\n",
       "      <td>0</td>\n",
       "      <td>0.0</td>\n",
       "      <td>0</td>\n",
       "      <td>0.0</td>\n",
       "      <td>0</td>\n",
       "      <td>0.0</td>\n",
       "      <td>0</td>\n",
       "      <td>0.0</td>\n",
       "      <td>0</td>\n",
       "      <td>0.0</td>\n",
       "      <td>0</td>\n",
       "      <td>0.0</td>\n",
       "      <td>0</td>\n",
       "    </tr>\n",
       "    <tr>\n",
       "      <th>충남</th>\n",
       "      <td>0</td>\n",
       "      <td>0.0</td>\n",
       "      <td>0</td>\n",
       "      <td>0.0</td>\n",
       "      <td>0</td>\n",
       "      <td>0.0</td>\n",
       "      <td>0</td>\n",
       "      <td>0.0</td>\n",
       "      <td>0</td>\n",
       "      <td>0.0</td>\n",
       "      <td>0</td>\n",
       "      <td>0.0</td>\n",
       "      <td>0</td>\n",
       "      <td>0.0</td>\n",
       "      <td>0</td>\n",
       "      <td>0.0</td>\n",
       "      <td>0</td>\n",
       "      <td>0.0</td>\n",
       "      <td>0</td>\n",
       "      <td>0.0</td>\n",
       "      <td>0</td>\n",
       "      <td>0.0</td>\n",
       "      <td>0</td>\n",
       "      <td>0.0</td>\n",
       "      <td>0</td>\n",
       "    </tr>\n",
       "    <tr>\n",
       "      <th>전북</th>\n",
       "      <td>0</td>\n",
       "      <td>0.0</td>\n",
       "      <td>0</td>\n",
       "      <td>0.0</td>\n",
       "      <td>0</td>\n",
       "      <td>0.0</td>\n",
       "      <td>0</td>\n",
       "      <td>0.0</td>\n",
       "      <td>0</td>\n",
       "      <td>0.0</td>\n",
       "      <td>0</td>\n",
       "      <td>0.0</td>\n",
       "      <td>0</td>\n",
       "      <td>0.0</td>\n",
       "      <td>0</td>\n",
       "      <td>0.0</td>\n",
       "      <td>0</td>\n",
       "      <td>0.0</td>\n",
       "      <td>0</td>\n",
       "      <td>0.0</td>\n",
       "      <td>0</td>\n",
       "      <td>0.0</td>\n",
       "      <td>0</td>\n",
       "      <td>0.0</td>\n",
       "      <td>0</td>\n",
       "    </tr>\n",
       "    <tr>\n",
       "      <th>전남</th>\n",
       "      <td>0</td>\n",
       "      <td>0.0</td>\n",
       "      <td>0</td>\n",
       "      <td>0.0</td>\n",
       "      <td>1</td>\n",
       "      <td>50.0</td>\n",
       "      <td>0</td>\n",
       "      <td>0.0</td>\n",
       "      <td>1</td>\n",
       "      <td>50.0</td>\n",
       "      <td>0</td>\n",
       "      <td>0.0</td>\n",
       "      <td>0</td>\n",
       "      <td>0.0</td>\n",
       "      <td>0</td>\n",
       "      <td>0.0</td>\n",
       "      <td>0</td>\n",
       "      <td>0.0</td>\n",
       "      <td>0</td>\n",
       "      <td>0.0</td>\n",
       "      <td>0</td>\n",
       "      <td>0.0</td>\n",
       "      <td>0</td>\n",
       "      <td>0.0</td>\n",
       "      <td>2</td>\n",
       "    </tr>\n",
       "    <tr>\n",
       "      <th>경북</th>\n",
       "      <td>0</td>\n",
       "      <td>0.0</td>\n",
       "      <td>1</td>\n",
       "      <td>50.0</td>\n",
       "      <td>1</td>\n",
       "      <td>50.0</td>\n",
       "      <td>0</td>\n",
       "      <td>0.0</td>\n",
       "      <td>0</td>\n",
       "      <td>0.0</td>\n",
       "      <td>0</td>\n",
       "      <td>0.0</td>\n",
       "      <td>0</td>\n",
       "      <td>0.0</td>\n",
       "      <td>0</td>\n",
       "      <td>0.0</td>\n",
       "      <td>0</td>\n",
       "      <td>0.0</td>\n",
       "      <td>0</td>\n",
       "      <td>0.0</td>\n",
       "      <td>0</td>\n",
       "      <td>0.0</td>\n",
       "      <td>0</td>\n",
       "      <td>0.0</td>\n",
       "      <td>2</td>\n",
       "    </tr>\n",
       "    <tr>\n",
       "      <th>경남</th>\n",
       "      <td>0</td>\n",
       "      <td>0.0</td>\n",
       "      <td>0</td>\n",
       "      <td>0.0</td>\n",
       "      <td>0</td>\n",
       "      <td>0.0</td>\n",
       "      <td>0</td>\n",
       "      <td>0.0</td>\n",
       "      <td>0</td>\n",
       "      <td>0.0</td>\n",
       "      <td>0</td>\n",
       "      <td>0.0</td>\n",
       "      <td>0</td>\n",
       "      <td>0.0</td>\n",
       "      <td>0</td>\n",
       "      <td>0.0</td>\n",
       "      <td>0</td>\n",
       "      <td>0.0</td>\n",
       "      <td>0</td>\n",
       "      <td>0.0</td>\n",
       "      <td>0</td>\n",
       "      <td>0.0</td>\n",
       "      <td>0</td>\n",
       "      <td>0.0</td>\n",
       "      <td>0</td>\n",
       "    </tr>\n",
       "    <tr>\n",
       "      <th>제주</th>\n",
       "      <td>0</td>\n",
       "      <td>0.0</td>\n",
       "      <td>0</td>\n",
       "      <td>0.0</td>\n",
       "      <td>0</td>\n",
       "      <td>0.0</td>\n",
       "      <td>0</td>\n",
       "      <td>0.0</td>\n",
       "      <td>0</td>\n",
       "      <td>0.0</td>\n",
       "      <td>0</td>\n",
       "      <td>0.0</td>\n",
       "      <td>0</td>\n",
       "      <td>0.0</td>\n",
       "      <td>0</td>\n",
       "      <td>0.0</td>\n",
       "      <td>0</td>\n",
       "      <td>0.0</td>\n",
       "      <td>0</td>\n",
       "      <td>0.0</td>\n",
       "      <td>0</td>\n",
       "      <td>0.0</td>\n",
       "      <td>0</td>\n",
       "      <td>0.0</td>\n",
       "      <td>0</td>\n",
       "    </tr>\n",
       "    <tr>\n",
       "      <th rowspan=\"13\" valign=\"top\">직업</th>\n",
       "      <th>산림임업종사자</th>\n",
       "      <td>3</td>\n",
       "      <td>13.6</td>\n",
       "      <td>1</td>\n",
       "      <td>4.5</td>\n",
       "      <td>4</td>\n",
       "      <td>18.2</td>\n",
       "      <td>3</td>\n",
       "      <td>13.6</td>\n",
       "      <td>1</td>\n",
       "      <td>4.5</td>\n",
       "      <td>0</td>\n",
       "      <td>0.0</td>\n",
       "      <td>2</td>\n",
       "      <td>9.1</td>\n",
       "      <td>0</td>\n",
       "      <td>0.0</td>\n",
       "      <td>6</td>\n",
       "      <td>27.3</td>\n",
       "      <td>2</td>\n",
       "      <td>9.1</td>\n",
       "      <td>0</td>\n",
       "      <td>0.0</td>\n",
       "      <td>0</td>\n",
       "      <td>0.0</td>\n",
       "      <td>22</td>\n",
       "    </tr>\n",
       "    <tr>\n",
       "      <th>사무종사자</th>\n",
       "      <td>1</td>\n",
       "      <td>12.5</td>\n",
       "      <td>0</td>\n",
       "      <td>0.0</td>\n",
       "      <td>1</td>\n",
       "      <td>12.5</td>\n",
       "      <td>3</td>\n",
       "      <td>37.5</td>\n",
       "      <td>1</td>\n",
       "      <td>12.5</td>\n",
       "      <td>0</td>\n",
       "      <td>0.0</td>\n",
       "      <td>0</td>\n",
       "      <td>0.0</td>\n",
       "      <td>0</td>\n",
       "      <td>0.0</td>\n",
       "      <td>2</td>\n",
       "      <td>25.0</td>\n",
       "      <td>0</td>\n",
       "      <td>0.0</td>\n",
       "      <td>0</td>\n",
       "      <td>0.0</td>\n",
       "      <td>0</td>\n",
       "      <td>0.0</td>\n",
       "      <td>8</td>\n",
       "    </tr>\n",
       "    <tr>\n",
       "      <th>서비스종사자</th>\n",
       "      <td>2</td>\n",
       "      <td>12.5</td>\n",
       "      <td>1</td>\n",
       "      <td>6.2</td>\n",
       "      <td>4</td>\n",
       "      <td>25.0</td>\n",
       "      <td>3</td>\n",
       "      <td>18.8</td>\n",
       "      <td>1</td>\n",
       "      <td>6.2</td>\n",
       "      <td>0</td>\n",
       "      <td>0.0</td>\n",
       "      <td>1</td>\n",
       "      <td>6.2</td>\n",
       "      <td>0</td>\n",
       "      <td>0.0</td>\n",
       "      <td>4</td>\n",
       "      <td>25.0</td>\n",
       "      <td>0</td>\n",
       "      <td>0.0</td>\n",
       "      <td>0</td>\n",
       "      <td>0.0</td>\n",
       "      <td>0</td>\n",
       "      <td>0.0</td>\n",
       "      <td>16</td>\n",
       "    </tr>\n",
       "    <tr>\n",
       "      <th>판매종사자</th>\n",
       "      <td>1</td>\n",
       "      <td>12.5</td>\n",
       "      <td>0</td>\n",
       "      <td>0.0</td>\n",
       "      <td>2</td>\n",
       "      <td>25.0</td>\n",
       "      <td>0</td>\n",
       "      <td>0.0</td>\n",
       "      <td>1</td>\n",
       "      <td>12.5</td>\n",
       "      <td>0</td>\n",
       "      <td>0.0</td>\n",
       "      <td>2</td>\n",
       "      <td>25.0</td>\n",
       "      <td>0</td>\n",
       "      <td>0.0</td>\n",
       "      <td>1</td>\n",
       "      <td>12.5</td>\n",
       "      <td>1</td>\n",
       "      <td>12.5</td>\n",
       "      <td>0</td>\n",
       "      <td>0.0</td>\n",
       "      <td>0</td>\n",
       "      <td>0.0</td>\n",
       "      <td>8</td>\n",
       "    </tr>\n",
       "    <tr>\n",
       "      <th>기술기능종사자</th>\n",
       "      <td>1</td>\n",
       "      <td>16.7</td>\n",
       "      <td>0</td>\n",
       "      <td>0.0</td>\n",
       "      <td>1</td>\n",
       "      <td>16.7</td>\n",
       "      <td>2</td>\n",
       "      <td>33.3</td>\n",
       "      <td>1</td>\n",
       "      <td>16.7</td>\n",
       "      <td>0</td>\n",
       "      <td>0.0</td>\n",
       "      <td>0</td>\n",
       "      <td>0.0</td>\n",
       "      <td>1</td>\n",
       "      <td>16.7</td>\n",
       "      <td>0</td>\n",
       "      <td>0.0</td>\n",
       "      <td>0</td>\n",
       "      <td>0.0</td>\n",
       "      <td>0</td>\n",
       "      <td>0.0</td>\n",
       "      <td>0</td>\n",
       "      <td>0.0</td>\n",
       "      <td>6</td>\n",
       "    </tr>\n",
       "    <tr>\n",
       "      <th>단순노무종사자</th>\n",
       "      <td>0</td>\n",
       "      <td>0.0</td>\n",
       "      <td>0</td>\n",
       "      <td>0.0</td>\n",
       "      <td>0</td>\n",
       "      <td>0.0</td>\n",
       "      <td>0</td>\n",
       "      <td>0.0</td>\n",
       "      <td>0</td>\n",
       "      <td>0.0</td>\n",
       "      <td>0</td>\n",
       "      <td>0.0</td>\n",
       "      <td>0</td>\n",
       "      <td>0.0</td>\n",
       "      <td>0</td>\n",
       "      <td>0.0</td>\n",
       "      <td>0</td>\n",
       "      <td>0.0</td>\n",
       "      <td>0</td>\n",
       "      <td>0.0</td>\n",
       "      <td>0</td>\n",
       "      <td>0.0</td>\n",
       "      <td>0</td>\n",
       "      <td>0.0</td>\n",
       "      <td>0</td>\n",
       "    </tr>\n",
       "    <tr>\n",
       "      <th>전문가(교수 포함)</th>\n",
       "      <td>2</td>\n",
       "      <td>33.3</td>\n",
       "      <td>0</td>\n",
       "      <td>0.0</td>\n",
       "      <td>0</td>\n",
       "      <td>0.0</td>\n",
       "      <td>1</td>\n",
       "      <td>16.7</td>\n",
       "      <td>0</td>\n",
       "      <td>0.0</td>\n",
       "      <td>0</td>\n",
       "      <td>0.0</td>\n",
       "      <td>0</td>\n",
       "      <td>0.0</td>\n",
       "      <td>1</td>\n",
       "      <td>16.7</td>\n",
       "      <td>2</td>\n",
       "      <td>33.3</td>\n",
       "      <td>0</td>\n",
       "      <td>0.0</td>\n",
       "      <td>0</td>\n",
       "      <td>0.0</td>\n",
       "      <td>0</td>\n",
       "      <td>0.0</td>\n",
       "      <td>6</td>\n",
       "    </tr>\n",
       "    <tr>\n",
       "      <th>경영직종사자</th>\n",
       "      <td>0</td>\n",
       "      <td>0.0</td>\n",
       "      <td>0</td>\n",
       "      <td>0.0</td>\n",
       "      <td>0</td>\n",
       "      <td>0.0</td>\n",
       "      <td>0</td>\n",
       "      <td>0.0</td>\n",
       "      <td>0</td>\n",
       "      <td>0.0</td>\n",
       "      <td>0</td>\n",
       "      <td>0.0</td>\n",
       "      <td>0</td>\n",
       "      <td>0.0</td>\n",
       "      <td>0</td>\n",
       "      <td>0.0</td>\n",
       "      <td>0</td>\n",
       "      <td>0.0</td>\n",
       "      <td>0</td>\n",
       "      <td>0.0</td>\n",
       "      <td>0</td>\n",
       "      <td>0.0</td>\n",
       "      <td>0</td>\n",
       "      <td>0.0</td>\n",
       "      <td>0</td>\n",
       "    </tr>\n",
       "    <tr>\n",
       "      <th>자영업자(개인사업자)</th>\n",
       "      <td>4</td>\n",
       "      <td>25.0</td>\n",
       "      <td>2</td>\n",
       "      <td>12.5</td>\n",
       "      <td>5</td>\n",
       "      <td>31.2</td>\n",
       "      <td>1</td>\n",
       "      <td>6.2</td>\n",
       "      <td>0</td>\n",
       "      <td>0.0</td>\n",
       "      <td>0</td>\n",
       "      <td>0.0</td>\n",
       "      <td>2</td>\n",
       "      <td>12.5</td>\n",
       "      <td>0</td>\n",
       "      <td>0.0</td>\n",
       "      <td>2</td>\n",
       "      <td>12.5</td>\n",
       "      <td>0</td>\n",
       "      <td>0.0</td>\n",
       "      <td>0</td>\n",
       "      <td>0.0</td>\n",
       "      <td>0</td>\n",
       "      <td>0.0</td>\n",
       "      <td>16</td>\n",
       "    </tr>\n",
       "    <tr>\n",
       "      <th>공무원(교사포함)</th>\n",
       "      <td>13</td>\n",
       "      <td>32.5</td>\n",
       "      <td>1</td>\n",
       "      <td>2.5</td>\n",
       "      <td>3</td>\n",
       "      <td>7.5</td>\n",
       "      <td>8</td>\n",
       "      <td>20.0</td>\n",
       "      <td>3</td>\n",
       "      <td>7.5</td>\n",
       "      <td>2</td>\n",
       "      <td>5.0</td>\n",
       "      <td>3</td>\n",
       "      <td>7.5</td>\n",
       "      <td>0</td>\n",
       "      <td>0.0</td>\n",
       "      <td>4</td>\n",
       "      <td>10.0</td>\n",
       "      <td>3</td>\n",
       "      <td>7.5</td>\n",
       "      <td>0</td>\n",
       "      <td>0.0</td>\n",
       "      <td>0</td>\n",
       "      <td>0.0</td>\n",
       "      <td>40</td>\n",
       "    </tr>\n",
       "    <tr>\n",
       "      <th>학생(대학원생포함)</th>\n",
       "      <td>6</td>\n",
       "      <td>9.1</td>\n",
       "      <td>11</td>\n",
       "      <td>16.7</td>\n",
       "      <td>9</td>\n",
       "      <td>13.6</td>\n",
       "      <td>11</td>\n",
       "      <td>16.7</td>\n",
       "      <td>9</td>\n",
       "      <td>13.6</td>\n",
       "      <td>0</td>\n",
       "      <td>0.0</td>\n",
       "      <td>1</td>\n",
       "      <td>1.5</td>\n",
       "      <td>2</td>\n",
       "      <td>3.0</td>\n",
       "      <td>6</td>\n",
       "      <td>9.1</td>\n",
       "      <td>0</td>\n",
       "      <td>0.0</td>\n",
       "      <td>6</td>\n",
       "      <td>9.1</td>\n",
       "      <td>5</td>\n",
       "      <td>7.6</td>\n",
       "      <td>66</td>\n",
       "    </tr>\n",
       "    <tr>\n",
       "      <th>전업주부</th>\n",
       "      <td>2</td>\n",
       "      <td>12.5</td>\n",
       "      <td>1</td>\n",
       "      <td>6.2</td>\n",
       "      <td>2</td>\n",
       "      <td>12.5</td>\n",
       "      <td>5</td>\n",
       "      <td>31.2</td>\n",
       "      <td>0</td>\n",
       "      <td>0.0</td>\n",
       "      <td>0</td>\n",
       "      <td>0.0</td>\n",
       "      <td>2</td>\n",
       "      <td>12.5</td>\n",
       "      <td>0</td>\n",
       "      <td>0.0</td>\n",
       "      <td>4</td>\n",
       "      <td>25.0</td>\n",
       "      <td>0</td>\n",
       "      <td>0.0</td>\n",
       "      <td>0</td>\n",
       "      <td>0.0</td>\n",
       "      <td>0</td>\n",
       "      <td>0.0</td>\n",
       "      <td>16</td>\n",
       "    </tr>\n",
       "    <tr>\n",
       "      <th>기타</th>\n",
       "      <td>0</td>\n",
       "      <td>0.0</td>\n",
       "      <td>0</td>\n",
       "      <td>0.0</td>\n",
       "      <td>2</td>\n",
       "      <td>33.3</td>\n",
       "      <td>0</td>\n",
       "      <td>0.0</td>\n",
       "      <td>0</td>\n",
       "      <td>0.0</td>\n",
       "      <td>0</td>\n",
       "      <td>0.0</td>\n",
       "      <td>1</td>\n",
       "      <td>16.7</td>\n",
       "      <td>0</td>\n",
       "      <td>0.0</td>\n",
       "      <td>2</td>\n",
       "      <td>33.3</td>\n",
       "      <td>1</td>\n",
       "      <td>16.7</td>\n",
       "      <td>0</td>\n",
       "      <td>0.0</td>\n",
       "      <td>0</td>\n",
       "      <td>0.0</td>\n",
       "      <td>6</td>\n",
       "    </tr>\n",
       "  </tbody>\n",
       "</table>\n",
       "</div>"
      ],
      "text/plain": [
       "                      휴식 및 건강증진-빈도  휴식 및 건강증진-비율 자기계발-빈도  자기계발-비율  \\\n",
       "성별   남성                         20          20.0      11     11.0   \n",
       "     여성                         15          13.6       6      5.5   \n",
       "연령   10대(15세이상)                  0           0.0       1      7.1   \n",
       "     20대                         7          12.5      11     19.6   \n",
       "     30대                         8          28.6       2      7.1   \n",
       "     40대                         5          17.9       0      0.0   \n",
       "     50대                         9          23.7       1      2.6   \n",
       "     60대이상                       6          13.0       2      4.3   \n",
       "학력   초등학교 졸업(무학 포함)              0           0.0       0      0.0   \n",
       "     중학교 재학                      1           5.0       2     10.0   \n",
       "     중학교 졸업                      1          12.5       0      0.0   \n",
       "     고등학교 재학                     1          25.0       0      0.0   \n",
       "     고등학교 졸업                     5          22.7       1      4.5   \n",
       "     대학교 재학                      6          12.0      10     20.0   \n",
       "     대학교 졸업                     16          19.0       3      3.6   \n",
       "     대학원 재학(석사 또는 박사)            1          25.0       0      0.0   \n",
       "     대학원 졸업(석사또는 박사)             4          40.0       1     10.0   \n",
       "거주지역 서울                          3          15.0       2     10.0   \n",
       "     부산                          0           0.0       0      0.0   \n",
       "     대구                          0           0.0       0      0.0   \n",
       "     인천                          1          25.0       0      0.0   \n",
       "     광주                          0           0.0       0      0.0   \n",
       "     대전                          0           0.0       0      0.0   \n",
       "     울산                          0           0.0       0      0.0   \n",
       "     세종                          0           0.0       0      0.0   \n",
       "     경기                          9          19.6       5     10.9   \n",
       "     강원                         22          16.4       9      6.7   \n",
       "     충북                          0           0.0       0      0.0   \n",
       "     충남                          0           0.0       0      0.0   \n",
       "     전북                          0           0.0       0      0.0   \n",
       "     전남                          0           0.0       0      0.0   \n",
       "     경북                          0           0.0       1     50.0   \n",
       "     경남                          0           0.0       0      0.0   \n",
       "     제주                          0           0.0       0      0.0   \n",
       "직업   산림임업종사자                     3          13.6       1      4.5   \n",
       "     사무종사자                       1          12.5       0      0.0   \n",
       "     서비스종사자                      2          12.5       1      6.2   \n",
       "     판매종사자                       1          12.5       0      0.0   \n",
       "     기술기능종사자                     1          16.7       0      0.0   \n",
       "     단순노무종사자                     0           0.0       0      0.0   \n",
       "     전문가(교수 포함)                  2          33.3       0      0.0   \n",
       "     경영직종사자                      0           0.0       0      0.0   \n",
       "     자영업자(개인사업자)                 4          25.0       2     12.5   \n",
       "     공무원(교사포함)                  13          32.5       1      2.5   \n",
       "     학생(대학원생포함)                  6           9.1      11     16.7   \n",
       "     전업주부                        2          12.5       1      6.2   \n",
       "     기타                          0           0.0       0      0.0   \n",
       "\n",
       "                      산림에 대한 소양증진(지식,정보등 습득)-빈도  산림에 대한 소양증진(지식,정보등 습득)-비율  \\\n",
       "성별   남성                                      16                       16.0   \n",
       "     여성                                      17                       15.5   \n",
       "연령   10대(15세이상)                               0                        0.0   \n",
       "     20대                                      9                       16.1   \n",
       "     30대                                      2                        7.1   \n",
       "     40대                                      5                       17.9   \n",
       "     50대                                      6                       15.8   \n",
       "     60대이상                                   11                       23.9   \n",
       "학력   초등학교 졸업(무학 포함)                           1                       12.5   \n",
       "     중학교 재학                                   2                       10.0   \n",
       "     중학교 졸업                                   1                       12.5   \n",
       "     고등학교 재학                                  1                       25.0   \n",
       "     고등학교 졸업                                  3                       13.6   \n",
       "     대학교 재학                                   9                       18.0   \n",
       "     대학교 졸업                                  14                       16.7   \n",
       "     대학원 재학(석사 또는 박사)                         0                        0.0   \n",
       "     대학원 졸업(석사또는 박사)                          2                       20.0   \n",
       "거주지역 서울                                       2                       10.0   \n",
       "     부산                                       0                        0.0   \n",
       "     대구                                       0                        0.0   \n",
       "     인천                                       0                        0.0   \n",
       "     광주                                       1                       50.0   \n",
       "     대전                                       0                        0.0   \n",
       "     울산                                       0                        0.0   \n",
       "     세종                                       0                        0.0   \n",
       "     경기                                       7                       15.2   \n",
       "     강원                                      21                       15.7   \n",
       "     충북                                       0                        0.0   \n",
       "     충남                                       0                        0.0   \n",
       "     전북                                       0                        0.0   \n",
       "     전남                                       1                       50.0   \n",
       "     경북                                       1                       50.0   \n",
       "     경남                                       0                        0.0   \n",
       "     제주                                       0                        0.0   \n",
       "직업   산림임업종사자                                  4                       18.2   \n",
       "     사무종사자                                    1                       12.5   \n",
       "     서비스종사자                                   4                       25.0   \n",
       "     판매종사자                                    2                       25.0   \n",
       "     기술기능종사자                                  1                       16.7   \n",
       "     단순노무종사자                                  0                        0.0   \n",
       "     전문가(교수 포함)                               0                        0.0   \n",
       "     경영직종사자                                   0                        0.0   \n",
       "     자영업자(개인사업자)                              5                       31.2   \n",
       "     공무원(교사포함)                                3                        7.5   \n",
       "     학생(대학원생포함)                               9                       13.6   \n",
       "     전업주부                                     2                       12.5   \n",
       "     기타                                       2                       33.3   \n",
       "\n",
       "                      즐겁고 재미난 체험-빈도  즐겁고 재미난 체험-비율 자연(산림) 감수성함양-빈도  \\\n",
       "성별   남성                          16           16.0               7   \n",
       "     여성                          21           19.1              10   \n",
       "연령   10대(15세이상)                   3           21.4               1   \n",
       "     20대                          8           14.3               8   \n",
       "     30대                          7           25.0               2   \n",
       "     40대                          7           25.0               0   \n",
       "     50대                          4           10.5               4   \n",
       "     60대이상                        8           17.4               2   \n",
       "학력   초등학교 졸업(무학 포함)               1           12.5               1   \n",
       "     중학교 재학                       4           20.0               1   \n",
       "     중학교 졸업                       2           25.0               1   \n",
       "     고등학교 재학                      1           25.0               0   \n",
       "     고등학교 졸업                      2            9.1               3   \n",
       "     대학교 재학                       6           12.0               7   \n",
       "     대학교 졸업                      19           22.6               3   \n",
       "     대학원 재학(석사 또는 박사)             1           25.0               1   \n",
       "     대학원 졸업(석사또는 박사)              1           10.0               0   \n",
       "거주지역 서울                           5           25.0               3   \n",
       "     부산                           0            0.0               0   \n",
       "     대구                           0            0.0               0   \n",
       "     인천                           0            0.0               1   \n",
       "     광주                           0            0.0               0   \n",
       "     대전                           0            0.0               0   \n",
       "     울산                           0            0.0               0   \n",
       "     세종                           0            0.0               0   \n",
       "     경기                           7           15.2               4   \n",
       "     강원                          25           18.7               8   \n",
       "     충북                           0            0.0               0   \n",
       "     충남                           0            0.0               0   \n",
       "     전북                           0            0.0               0   \n",
       "     전남                           0            0.0               1   \n",
       "     경북                           0            0.0               0   \n",
       "     경남                           0            0.0               0   \n",
       "     제주                           0            0.0               0   \n",
       "직업   산림임업종사자                      3           13.6               1   \n",
       "     사무종사자                        3           37.5               1   \n",
       "     서비스종사자                       3           18.8               1   \n",
       "     판매종사자                        0            0.0               1   \n",
       "     기술기능종사자                      2           33.3               1   \n",
       "     단순노무종사자                      0            0.0               0   \n",
       "     전문가(교수 포함)                   1           16.7               0   \n",
       "     경영직종사자                       0            0.0               0   \n",
       "     자영업자(개인사업자)                  1            6.2               0   \n",
       "     공무원(교사포함)                    8           20.0               3   \n",
       "     학생(대학원생포함)                  11           16.7               9   \n",
       "     전업주부                         5           31.2               0   \n",
       "     기타                           0            0.0               0   \n",
       "\n",
       "                       자연(산림) 감수성함양-비율 가족과의 시간-빈도  가족과의 시간-비율 대인관계형성-빈도  \\\n",
       "성별   남성                            7.0          2         2.0         7   \n",
       "     여성                            9.1          0         0.0         7   \n",
       "연령   10대(15세이상)                    7.1          0         0.0         0   \n",
       "     20대                          14.3          0         0.0         1   \n",
       "     30대                           7.1          1         3.6         0   \n",
       "     40대                           0.0          1         3.6         3   \n",
       "     50대                          10.5          0         0.0         5   \n",
       "     60대이상                         4.3          0         0.0         5   \n",
       "학력   초등학교 졸업(무학 포함)               12.5          0         0.0         2   \n",
       "     중학교 재학                        5.0          0         0.0         0   \n",
       "     중학교 졸업                       12.5          0         0.0         1   \n",
       "     고등학교 재학                       0.0          0         0.0         0   \n",
       "     고등학교 졸업                      13.6          0         0.0         4   \n",
       "     대학교 재학                       14.0          0         0.0         2   \n",
       "     대학교 졸업                        3.6          2         2.4         4   \n",
       "     대학원 재학(석사 또는 박사)             25.0          0         0.0         0   \n",
       "     대학원 졸업(석사또는 박사)               0.0          0         0.0         1   \n",
       "거주지역 서울                           15.0          0         0.0         0   \n",
       "     부산                            0.0          0         0.0         0   \n",
       "     대구                            0.0          0         0.0         0   \n",
       "     인천                           25.0          0         0.0         0   \n",
       "     광주                            0.0          0         0.0         0   \n",
       "     대전                            0.0          0         0.0         0   \n",
       "     울산                            0.0          0         0.0         0   \n",
       "     세종                            0.0          0         0.0         0   \n",
       "     경기                            8.7          0         0.0         6   \n",
       "     강원                            6.0          2         1.5         8   \n",
       "     충북                            0.0          0         0.0         0   \n",
       "     충남                            0.0          0         0.0         0   \n",
       "     전북                            0.0          0         0.0         0   \n",
       "     전남                           50.0          0         0.0         0   \n",
       "     경북                            0.0          0         0.0         0   \n",
       "     경남                            0.0          0         0.0         0   \n",
       "     제주                            0.0          0         0.0         0   \n",
       "직업   산림임업종사자                       4.5          0         0.0         2   \n",
       "     사무종사자                        12.5          0         0.0         0   \n",
       "     서비스종사자                        6.2          0         0.0         1   \n",
       "     판매종사자                        12.5          0         0.0         2   \n",
       "     기술기능종사자                      16.7          0         0.0         0   \n",
       "     단순노무종사자                       0.0          0         0.0         0   \n",
       "     전문가(교수 포함)                    0.0          0         0.0         0   \n",
       "     경영직종사자                        0.0          0         0.0         0   \n",
       "     자영업자(개인사업자)                   0.0          0         0.0         2   \n",
       "     공무원(교사포함)                     7.5          2         5.0         3   \n",
       "     학생(대학원생포함)                   13.6          0         0.0         1   \n",
       "     전업주부                          0.0          0         0.0         2   \n",
       "     기타                            0.0          0         0.0         1   \n",
       "\n",
       "                       대인관계형성-비율 창작활동에 대한 기대-빈도  창작활동에 대한 기대-비율  \\\n",
       "성별   남성                      7.0              1             1.0   \n",
       "     여성                      6.4              3             2.7   \n",
       "연령   10대(15세이상)              0.0              1             7.1   \n",
       "     20대                     1.8              1             1.8   \n",
       "     30대                     0.0              0             0.0   \n",
       "     40대                    10.7              1             3.6   \n",
       "     50대                    13.2              1             2.6   \n",
       "     60대이상                  10.9              0             0.0   \n",
       "학력   초등학교 졸업(무학 포함)         25.0              0             0.0   \n",
       "     중학교 재학                  0.0              1             5.0   \n",
       "     중학교 졸업                 12.5              0             0.0   \n",
       "     고등학교 재학                 0.0              0             0.0   \n",
       "     고등학교 졸업                18.2              0             0.0   \n",
       "     대학교 재학                  4.0              0             0.0   \n",
       "     대학교 졸업                  4.8              3             3.6   \n",
       "     대학원 재학(석사 또는 박사)        0.0              0             0.0   \n",
       "     대학원 졸업(석사또는 박사)        10.0              0             0.0   \n",
       "거주지역 서울                      0.0              1             5.0   \n",
       "     부산                      0.0              0             0.0   \n",
       "     대구                      0.0              0             0.0   \n",
       "     인천                      0.0              0             0.0   \n",
       "     광주                      0.0              0             0.0   \n",
       "     대전                      0.0              0             0.0   \n",
       "     울산                      0.0              0             0.0   \n",
       "     세종                      0.0              0             0.0   \n",
       "     경기                     13.0              0             0.0   \n",
       "     강원                      6.0              3             2.2   \n",
       "     충북                      0.0              0             0.0   \n",
       "     충남                      0.0              0             0.0   \n",
       "     전북                      0.0              0             0.0   \n",
       "     전남                      0.0              0             0.0   \n",
       "     경북                      0.0              0             0.0   \n",
       "     경남                      0.0              0             0.0   \n",
       "     제주                      0.0              0             0.0   \n",
       "직업   산림임업종사자                 9.1              0             0.0   \n",
       "     사무종사자                   0.0              0             0.0   \n",
       "     서비스종사자                  6.2              0             0.0   \n",
       "     판매종사자                  25.0              0             0.0   \n",
       "     기술기능종사자                 0.0              1            16.7   \n",
       "     단순노무종사자                 0.0              0             0.0   \n",
       "     전문가(교수 포함)              0.0              1            16.7   \n",
       "     경영직종사자                  0.0              0             0.0   \n",
       "     자영업자(개인사업자)            12.5              0             0.0   \n",
       "     공무원(교사포함)               7.5              0             0.0   \n",
       "     학생(대학원생포함)              1.5              2             3.0   \n",
       "     전업주부                   12.5              0             0.0   \n",
       "     기타                     16.7              0             0.0   \n",
       "\n",
       "                      지역의 독특한 자연 또는 문화체험-빈도  지역의 독특한 자연 또는 문화체험-비율 기타(업무)-빈도  \\\n",
       "성별   남성                                  13                   13.0         4   \n",
       "     여성                                  20                   18.2         3   \n",
       "연령   10대(15세이상)                           3                   21.4         0   \n",
       "     20대                                  4                    7.1         1   \n",
       "     30대                                  3                   10.7         3   \n",
       "     40대                                  4                   14.3         2   \n",
       "     50대                                  7                   18.4         1   \n",
       "     60대이상                               12                   26.1         0   \n",
       "학력   초등학교 졸업(무학 포함)                       3                   37.5         0   \n",
       "     중학교 재학                               4                   20.0         0   \n",
       "     중학교 졸업                               2                   25.0         0   \n",
       "     고등학교 재학                              1                   25.0         0   \n",
       "     고등학교 졸업                              4                   18.2         0   \n",
       "     대학교 재학                               4                    8.0         0   \n",
       "     대학교 졸업                              13                   15.5         7   \n",
       "     대학원 재학(석사 또는 박사)                     1                   25.0         0   \n",
       "     대학원 졸업(석사또는 박사)                      1                   10.0         0   \n",
       "거주지역 서울                                   3                   15.0         0   \n",
       "     부산                                   0                    0.0         0   \n",
       "     대구                                   0                    0.0         0   \n",
       "     인천                                   1                   25.0         0   \n",
       "     광주                                   0                    0.0         1   \n",
       "     대전                                   0                    0.0         0   \n",
       "     울산                                   0                    0.0         0   \n",
       "     세종                                   0                    0.0         0   \n",
       "     경기                                   6                   13.0         0   \n",
       "     강원                                  23                   17.2         6   \n",
       "     충북                                   0                    0.0         0   \n",
       "     충남                                   0                    0.0         0   \n",
       "     전북                                   0                    0.0         0   \n",
       "     전남                                   0                    0.0         0   \n",
       "     경북                                   0                    0.0         0   \n",
       "     경남                                   0                    0.0         0   \n",
       "     제주                                   0                    0.0         0   \n",
       "직업   산림임업종사자                              6                   27.3         2   \n",
       "     사무종사자                                2                   25.0         0   \n",
       "     서비스종사자                               4                   25.0         0   \n",
       "     판매종사자                                1                   12.5         1   \n",
       "     기술기능종사자                              0                    0.0         0   \n",
       "     단순노무종사자                              0                    0.0         0   \n",
       "     전문가(교수 포함)                           2                   33.3         0   \n",
       "     경영직종사자                               0                    0.0         0   \n",
       "     자영업자(개인사업자)                          2                   12.5         0   \n",
       "     공무원(교사포함)                            4                   10.0         3   \n",
       "     학생(대학원생포함)                           6                    9.1         0   \n",
       "     전업주부                                 4                   25.0         0   \n",
       "     기타                                   2                   33.3         1   \n",
       "\n",
       "                       기타(업무)-비율 기타(학과행사)-빈도  기타(학과행사)-비율 기타(체험학습)-빈도  \\\n",
       "성별   남성                      4.0           2          2.0           1   \n",
       "     여성                      2.7           4          3.6           4   \n",
       "연령   10대(15세이상)              0.0           0          0.0           5   \n",
       "     20대                     1.8           6         10.7           0   \n",
       "     30대                    10.7           0          0.0           0   \n",
       "     40대                     7.1           0          0.0           0   \n",
       "     50대                     2.6           0          0.0           0   \n",
       "     60대이상                   0.0           0          0.0           0   \n",
       "학력   초등학교 졸업(무학 포함)          0.0           0          0.0           0   \n",
       "     중학교 재학                  0.0           0          0.0           5   \n",
       "     중학교 졸업                  0.0           0          0.0           0   \n",
       "     고등학교 재학                 0.0           0          0.0           0   \n",
       "     고등학교 졸업                 0.0           0          0.0           0   \n",
       "     대학교 재학                  0.0           6         12.0           0   \n",
       "     대학교 졸업                  8.3           0          0.0           0   \n",
       "     대학원 재학(석사 또는 박사)        0.0           0          0.0           0   \n",
       "     대학원 졸업(석사또는 박사)         0.0           0          0.0           0   \n",
       "거주지역 서울                      0.0           1          5.0           0   \n",
       "     부산                      0.0           0          0.0           0   \n",
       "     대구                      0.0           0          0.0           0   \n",
       "     인천                      0.0           1         25.0           0   \n",
       "     광주                     50.0           0          0.0           0   \n",
       "     대전                      0.0           0          0.0           0   \n",
       "     울산                      0.0           0          0.0           0   \n",
       "     세종                      0.0           0          0.0           0   \n",
       "     경기                      0.0           2          4.3           0   \n",
       "     강원                      4.5           2          1.5           5   \n",
       "     충북                      0.0           0          0.0           0   \n",
       "     충남                      0.0           0          0.0           0   \n",
       "     전북                      0.0           0          0.0           0   \n",
       "     전남                      0.0           0          0.0           0   \n",
       "     경북                      0.0           0          0.0           0   \n",
       "     경남                      0.0           0          0.0           0   \n",
       "     제주                      0.0           0          0.0           0   \n",
       "직업   산림임업종사자                 9.1           0          0.0           0   \n",
       "     사무종사자                   0.0           0          0.0           0   \n",
       "     서비스종사자                  0.0           0          0.0           0   \n",
       "     판매종사자                  12.5           0          0.0           0   \n",
       "     기술기능종사자                 0.0           0          0.0           0   \n",
       "     단순노무종사자                 0.0           0          0.0           0   \n",
       "     전문가(교수 포함)              0.0           0          0.0           0   \n",
       "     경영직종사자                  0.0           0          0.0           0   \n",
       "     자영업자(개인사업자)             0.0           0          0.0           0   \n",
       "     공무원(교사포함)               7.5           0          0.0           0   \n",
       "     학생(대학원생포함)              0.0           6          9.1           5   \n",
       "     전업주부                    0.0           0          0.0           0   \n",
       "     기타                     16.7           0          0.0           0   \n",
       "\n",
       "                       기타(체험학습)-비율  사례수  \n",
       "성별   남성                        1.0  100  \n",
       "     여성                        3.6  110  \n",
       "연령   10대(15세이상)               35.7   14  \n",
       "     20대                       0.0   56  \n",
       "     30대                       0.0   28  \n",
       "     40대                       0.0   28  \n",
       "     50대                       0.0   38  \n",
       "     60대이상                     0.0   46  \n",
       "학력   초등학교 졸업(무학 포함)            0.0    8  \n",
       "     중학교 재학                   25.0   20  \n",
       "     중학교 졸업                    0.0    8  \n",
       "     고등학교 재학                   0.0    4  \n",
       "     고등학교 졸업                   0.0   22  \n",
       "     대학교 재학                    0.0   50  \n",
       "     대학교 졸업                    0.0   84  \n",
       "     대학원 재학(석사 또는 박사)          0.0    4  \n",
       "     대학원 졸업(석사또는 박사)           0.0   10  \n",
       "거주지역 서울                        0.0   20  \n",
       "     부산                        0.0    0  \n",
       "     대구                        0.0    0  \n",
       "     인천                        0.0    4  \n",
       "     광주                        0.0    2  \n",
       "     대전                        0.0    0  \n",
       "     울산                        0.0    0  \n",
       "     세종                        0.0    0  \n",
       "     경기                        0.0   46  \n",
       "     강원                        3.7  134  \n",
       "     충북                        0.0    0  \n",
       "     충남                        0.0    0  \n",
       "     전북                        0.0    0  \n",
       "     전남                        0.0    2  \n",
       "     경북                        0.0    2  \n",
       "     경남                        0.0    0  \n",
       "     제주                        0.0    0  \n",
       "직업   산림임업종사자                   0.0   22  \n",
       "     사무종사자                     0.0    8  \n",
       "     서비스종사자                    0.0   16  \n",
       "     판매종사자                     0.0    8  \n",
       "     기술기능종사자                   0.0    6  \n",
       "     단순노무종사자                   0.0    0  \n",
       "     전문가(교수 포함)                0.0    6  \n",
       "     경영직종사자                    0.0    0  \n",
       "     자영업자(개인사업자)               0.0   16  \n",
       "     공무원(교사포함)                 0.0   40  \n",
       "     학생(대학원생포함)                7.6   66  \n",
       "     전업주부                      0.0   16  \n",
       "     기타                        0.0    6  "
      ]
     },
     "execution_count": 40,
     "metadata": {},
     "output_type": "execute_result"
    }
   ],
   "source": [
    "# 응답자 특성별 표 정리\n",
    "combined_list = q1\n",
    "column_lst = []\n",
    "for i in combined_list:\n",
    "    column_lst.append(\"%s-빈도\"%i)\n",
    "    column_lst.append(\"%s-비율\"%i)\n",
    "resp_map_df = pd.DataFrame(columns = column_lst)\n",
    "\n",
    "# 응답자 설문 리스트 정의\n",
    "sq_lst = list(Resp_Character.keys())\n",
    "# 응답자 매핑 딕셔너리 정의\n",
    "sq_dic = {'성별': 'SQ1', '연령': 'SQ2_1', '학력': 'SQ3', '거주지역': 'SQ4', '직업': 'SQ5'}\n",
    "\n",
    "# 멀티인덱스를 위한 리스트 생성\n",
    "mult_idx = []\n",
    "\n",
    "for sq in sq_lst:\n",
    "    for val in list(Resp_Character[sq].values()):\n",
    "        # 멀티인덱스 추가\n",
    "        mult_idx.append(sq)\n",
    "        # 'SQ1' 열의 값으로 필터링\n",
    "        filtered_rows = df_expo[df_expo[sq_dic[sq]] == val].reset_index(drop=True)\n",
    "        filtered_rows_1 = filtered_rows['Q1_1'].value_counts().reset_index()\n",
    "        filtered_rows_1.columns = ['값', '빈도']\n",
    "        filtered_rows_2 = filtered_rows['Q1_2'].value_counts().reset_index()\n",
    "        filtered_rows_2.columns = ['값', '빈도']\n",
    "        # 'index' column을 기준으로 데이터프레임을 병합\n",
    "        filtered_rows_C = pd.concat([filtered_rows_1, filtered_rows_2])\n",
    "        filtered_rows_C = filtered_rows_C.groupby('값')['빈도'].sum().reset_index()\n",
    "        filtered_rows_C.sort_values('빈도', ascending=False, inplace=True)\n",
    "        filtered_rows_C['값'] = map_val(filtered_rows_C['값'], Q1_map)\n",
    "        filtered_rows_C['비율'] = round((filtered_rows_C['빈도'] / filtered_rows_C['빈도'].sum())*100,1)\n",
    "        filtered_rows_C = filtered_rows_C.set_index(keys='값')\n",
    "        \n",
    "        resp_map = {}\n",
    "        for i in resp_map_df.columns:\n",
    "            if i.endswith('빈도'):\n",
    "                resp_map[i] = [0]\n",
    "            else:\n",
    "                resp_map[i] = [0.0]\n",
    "\n",
    "        for i in resp_map_df.columns:           \n",
    "            response, method = i.split('-')\n",
    "            try:\n",
    "                resp_map[i][0] = filtered_rows_C.loc[response, method]\n",
    "            except:\n",
    "                pass\n",
    "        else:\n",
    "            map_df = pd.DataFrame(resp_map)\n",
    "            map_df.index = [val]\n",
    "            resp_map_df = pd.concat([resp_map_df,map_df])\n",
    "resp_map_df['사례수'] = resp_map_df.filter(like='빈도').sum(axis=1).astype(int)\n",
    "# 멀티인덱스 생성\n",
    "resp_map_df.set_index([mult_idx, resp_map_df.index], inplace=True)\n",
    "resp_map_df"
   ]
  },
  {
   "attachments": {},
   "cell_type": "markdown",
   "metadata": {},
   "source": [
    "## Q2 귀하는 강원세계산림엑스포에 누구와 함께 참여하셨습니까? - 빈도분석"
   ]
  },
  {
   "cell_type": "code",
   "execution_count": 14,
   "metadata": {},
   "outputs": [],
   "source": [
    "Q2_map = {'1': '혼자',\n",
    "          '2': '가족과 함께',\n",
    "          '3': '친구 또는 연인과 함께',\n",
    "          '4': '직장동료와 함께',\n",
    "          '5': '친목단체 또는 모임에서',\n",
    "          '6': '학교에서',\n",
    "          '7': '기타'}\n",
    "\n",
    "# 데이터프레임에서 'Q2' 열의 빈도 정의\n",
    "frequency2 = df_expo['Q2'].value_counts().reset_index()\n",
    "frequency2.columns = ['값', '빈도']\n",
    "\n",
    "# map_val 함수('값' 열의 값을 딕셔너리를 사용하여 일괄적으로 변경하는 함수)를 사용\n",
    "frequency2['값'] = map_val(frequency2['값'], Q2_map)"
   ]
  },
  {
   "cell_type": "code",
   "execution_count": 15,
   "metadata": {},
   "outputs": [
    {
     "data": {
      "application/vnd.plotly.v1+json": {
       "config": {
        "plotlyServerURL": "https://plot.ly"
       },
       "data": [
        {
         "domain": {
          "x": [
           0,
           1
          ],
          "y": [
           0,
           1
          ]
         },
         "hole": 0.2,
         "hovertemplate": "값=%{label}<br>비율=%{value}<extra></extra>",
         "insidetextorientation": "horizontal",
         "labels": [
          "직장동료와 함께",
          "학교에서",
          "친목단체 또는 모임에서",
          "가족과 함께",
          "혼자",
          "친구 또는 연인과 함께"
         ],
         "legendgroup": "",
         "name": "",
         "pull": [
          0.01,
          0.01,
          0.01,
          0.01,
          0.01,
          0.01
         ],
         "showlegend": true,
         "textinfo": "percent+label",
         "type": "pie",
         "values": [
          0.4095238095238095,
          0.2571428571428571,
          0.19047619047619047,
          0.0761904761904762,
          0.0380952380952381,
          0.02857142857142857
         ]
        }
       ],
       "layout": {
        "font": {
         "size": 13
        },
        "height": 900,
        "legend": {
         "tracegroupgap": 0,
         "x": 0.9,
         "y": 0.5
        },
        "piecolorway": [
         "rgb(5,31,69)",
         "rgb(8,48,107)",
         "rgb(11,62,138)",
         "rgb(8,81,156)",
         "rgb(7,90,176)",
         "rgb(33,113,181)",
         "rgb(66,146,198)",
         "rgb(81,157,207)",
         "rgb(107,174,214)",
         "rgb(158,202,225)",
         "rgb(198,219,239)",
         "rgb(222,235,247)",
         "rgb(247,251,255)"
        ],
        "template": {
         "data": {
          "bar": [
           {
            "error_x": {
             "color": "#2a3f5f"
            },
            "error_y": {
             "color": "#2a3f5f"
            },
            "marker": {
             "line": {
              "color": "#E5ECF6",
              "width": 0.5
             }
            },
            "type": "bar"
           }
          ],
          "barpolar": [
           {
            "marker": {
             "line": {
              "color": "#E5ECF6",
              "width": 0.5
             }
            },
            "type": "barpolar"
           }
          ],
          "carpet": [
           {
            "aaxis": {
             "endlinecolor": "#2a3f5f",
             "gridcolor": "white",
             "linecolor": "white",
             "minorgridcolor": "white",
             "startlinecolor": "#2a3f5f"
            },
            "baxis": {
             "endlinecolor": "#2a3f5f",
             "gridcolor": "white",
             "linecolor": "white",
             "minorgridcolor": "white",
             "startlinecolor": "#2a3f5f"
            },
            "type": "carpet"
           }
          ],
          "choropleth": [
           {
            "colorbar": {
             "outlinewidth": 0,
             "ticks": ""
            },
            "type": "choropleth"
           }
          ],
          "contour": [
           {
            "colorbar": {
             "outlinewidth": 0,
             "ticks": ""
            },
            "colorscale": [
             [
              0,
              "#0d0887"
             ],
             [
              0.1111111111111111,
              "#46039f"
             ],
             [
              0.2222222222222222,
              "#7201a8"
             ],
             [
              0.3333333333333333,
              "#9c179e"
             ],
             [
              0.4444444444444444,
              "#bd3786"
             ],
             [
              0.5555555555555556,
              "#d8576b"
             ],
             [
              0.6666666666666666,
              "#ed7953"
             ],
             [
              0.7777777777777778,
              "#fb9f3a"
             ],
             [
              0.8888888888888888,
              "#fdca26"
             ],
             [
              1,
              "#f0f921"
             ]
            ],
            "type": "contour"
           }
          ],
          "contourcarpet": [
           {
            "colorbar": {
             "outlinewidth": 0,
             "ticks": ""
            },
            "type": "contourcarpet"
           }
          ],
          "heatmap": [
           {
            "colorbar": {
             "outlinewidth": 0,
             "ticks": ""
            },
            "colorscale": [
             [
              0,
              "#0d0887"
             ],
             [
              0.1111111111111111,
              "#46039f"
             ],
             [
              0.2222222222222222,
              "#7201a8"
             ],
             [
              0.3333333333333333,
              "#9c179e"
             ],
             [
              0.4444444444444444,
              "#bd3786"
             ],
             [
              0.5555555555555556,
              "#d8576b"
             ],
             [
              0.6666666666666666,
              "#ed7953"
             ],
             [
              0.7777777777777778,
              "#fb9f3a"
             ],
             [
              0.8888888888888888,
              "#fdca26"
             ],
             [
              1,
              "#f0f921"
             ]
            ],
            "type": "heatmap"
           }
          ],
          "heatmapgl": [
           {
            "colorbar": {
             "outlinewidth": 0,
             "ticks": ""
            },
            "colorscale": [
             [
              0,
              "#0d0887"
             ],
             [
              0.1111111111111111,
              "#46039f"
             ],
             [
              0.2222222222222222,
              "#7201a8"
             ],
             [
              0.3333333333333333,
              "#9c179e"
             ],
             [
              0.4444444444444444,
              "#bd3786"
             ],
             [
              0.5555555555555556,
              "#d8576b"
             ],
             [
              0.6666666666666666,
              "#ed7953"
             ],
             [
              0.7777777777777778,
              "#fb9f3a"
             ],
             [
              0.8888888888888888,
              "#fdca26"
             ],
             [
              1,
              "#f0f921"
             ]
            ],
            "type": "heatmapgl"
           }
          ],
          "histogram": [
           {
            "marker": {
             "colorbar": {
              "outlinewidth": 0,
              "ticks": ""
             }
            },
            "type": "histogram"
           }
          ],
          "histogram2d": [
           {
            "colorbar": {
             "outlinewidth": 0,
             "ticks": ""
            },
            "colorscale": [
             [
              0,
              "#0d0887"
             ],
             [
              0.1111111111111111,
              "#46039f"
             ],
             [
              0.2222222222222222,
              "#7201a8"
             ],
             [
              0.3333333333333333,
              "#9c179e"
             ],
             [
              0.4444444444444444,
              "#bd3786"
             ],
             [
              0.5555555555555556,
              "#d8576b"
             ],
             [
              0.6666666666666666,
              "#ed7953"
             ],
             [
              0.7777777777777778,
              "#fb9f3a"
             ],
             [
              0.8888888888888888,
              "#fdca26"
             ],
             [
              1,
              "#f0f921"
             ]
            ],
            "type": "histogram2d"
           }
          ],
          "histogram2dcontour": [
           {
            "colorbar": {
             "outlinewidth": 0,
             "ticks": ""
            },
            "colorscale": [
             [
              0,
              "#0d0887"
             ],
             [
              0.1111111111111111,
              "#46039f"
             ],
             [
              0.2222222222222222,
              "#7201a8"
             ],
             [
              0.3333333333333333,
              "#9c179e"
             ],
             [
              0.4444444444444444,
              "#bd3786"
             ],
             [
              0.5555555555555556,
              "#d8576b"
             ],
             [
              0.6666666666666666,
              "#ed7953"
             ],
             [
              0.7777777777777778,
              "#fb9f3a"
             ],
             [
              0.8888888888888888,
              "#fdca26"
             ],
             [
              1,
              "#f0f921"
             ]
            ],
            "type": "histogram2dcontour"
           }
          ],
          "mesh3d": [
           {
            "colorbar": {
             "outlinewidth": 0,
             "ticks": ""
            },
            "type": "mesh3d"
           }
          ],
          "parcoords": [
           {
            "line": {
             "colorbar": {
              "outlinewidth": 0,
              "ticks": ""
             }
            },
            "type": "parcoords"
           }
          ],
          "pie": [
           {
            "automargin": true,
            "type": "pie"
           }
          ],
          "scatter": [
           {
            "marker": {
             "colorbar": {
              "outlinewidth": 0,
              "ticks": ""
             }
            },
            "type": "scatter"
           }
          ],
          "scatter3d": [
           {
            "line": {
             "colorbar": {
              "outlinewidth": 0,
              "ticks": ""
             }
            },
            "marker": {
             "colorbar": {
              "outlinewidth": 0,
              "ticks": ""
             }
            },
            "type": "scatter3d"
           }
          ],
          "scattercarpet": [
           {
            "marker": {
             "colorbar": {
              "outlinewidth": 0,
              "ticks": ""
             }
            },
            "type": "scattercarpet"
           }
          ],
          "scattergeo": [
           {
            "marker": {
             "colorbar": {
              "outlinewidth": 0,
              "ticks": ""
             }
            },
            "type": "scattergeo"
           }
          ],
          "scattergl": [
           {
            "marker": {
             "colorbar": {
              "outlinewidth": 0,
              "ticks": ""
             }
            },
            "type": "scattergl"
           }
          ],
          "scattermapbox": [
           {
            "marker": {
             "colorbar": {
              "outlinewidth": 0,
              "ticks": ""
             }
            },
            "type": "scattermapbox"
           }
          ],
          "scatterpolar": [
           {
            "marker": {
             "colorbar": {
              "outlinewidth": 0,
              "ticks": ""
             }
            },
            "type": "scatterpolar"
           }
          ],
          "scatterpolargl": [
           {
            "marker": {
             "colorbar": {
              "outlinewidth": 0,
              "ticks": ""
             }
            },
            "type": "scatterpolargl"
           }
          ],
          "scatterternary": [
           {
            "marker": {
             "colorbar": {
              "outlinewidth": 0,
              "ticks": ""
             }
            },
            "type": "scatterternary"
           }
          ],
          "surface": [
           {
            "colorbar": {
             "outlinewidth": 0,
             "ticks": ""
            },
            "colorscale": [
             [
              0,
              "#0d0887"
             ],
             [
              0.1111111111111111,
              "#46039f"
             ],
             [
              0.2222222222222222,
              "#7201a8"
             ],
             [
              0.3333333333333333,
              "#9c179e"
             ],
             [
              0.4444444444444444,
              "#bd3786"
             ],
             [
              0.5555555555555556,
              "#d8576b"
             ],
             [
              0.6666666666666666,
              "#ed7953"
             ],
             [
              0.7777777777777778,
              "#fb9f3a"
             ],
             [
              0.8888888888888888,
              "#fdca26"
             ],
             [
              1,
              "#f0f921"
             ]
            ],
            "type": "surface"
           }
          ],
          "table": [
           {
            "cells": {
             "fill": {
              "color": "#EBF0F8"
             },
             "line": {
              "color": "white"
             }
            },
            "header": {
             "fill": {
              "color": "#C8D4E3"
             },
             "line": {
              "color": "white"
             }
            },
            "type": "table"
           }
          ]
         },
         "layout": {
          "annotationdefaults": {
           "arrowcolor": "#2a3f5f",
           "arrowhead": 0,
           "arrowwidth": 1
          },
          "autotypenumbers": "strict",
          "coloraxis": {
           "colorbar": {
            "outlinewidth": 0,
            "ticks": ""
           }
          },
          "colorscale": {
           "diverging": [
            [
             0,
             "#8e0152"
            ],
            [
             0.1,
             "#c51b7d"
            ],
            [
             0.2,
             "#de77ae"
            ],
            [
             0.3,
             "#f1b6da"
            ],
            [
             0.4,
             "#fde0ef"
            ],
            [
             0.5,
             "#f7f7f7"
            ],
            [
             0.6,
             "#e6f5d0"
            ],
            [
             0.7,
             "#b8e186"
            ],
            [
             0.8,
             "#7fbc41"
            ],
            [
             0.9,
             "#4d9221"
            ],
            [
             1,
             "#276419"
            ]
           ],
           "sequential": [
            [
             0,
             "#0d0887"
            ],
            [
             0.1111111111111111,
             "#46039f"
            ],
            [
             0.2222222222222222,
             "#7201a8"
            ],
            [
             0.3333333333333333,
             "#9c179e"
            ],
            [
             0.4444444444444444,
             "#bd3786"
            ],
            [
             0.5555555555555556,
             "#d8576b"
            ],
            [
             0.6666666666666666,
             "#ed7953"
            ],
            [
             0.7777777777777778,
             "#fb9f3a"
            ],
            [
             0.8888888888888888,
             "#fdca26"
            ],
            [
             1,
             "#f0f921"
            ]
           ],
           "sequentialminus": [
            [
             0,
             "#0d0887"
            ],
            [
             0.1111111111111111,
             "#46039f"
            ],
            [
             0.2222222222222222,
             "#7201a8"
            ],
            [
             0.3333333333333333,
             "#9c179e"
            ],
            [
             0.4444444444444444,
             "#bd3786"
            ],
            [
             0.5555555555555556,
             "#d8576b"
            ],
            [
             0.6666666666666666,
             "#ed7953"
            ],
            [
             0.7777777777777778,
             "#fb9f3a"
            ],
            [
             0.8888888888888888,
             "#fdca26"
            ],
            [
             1,
             "#f0f921"
            ]
           ]
          },
          "colorway": [
           "#636efa",
           "#EF553B",
           "#00cc96",
           "#ab63fa",
           "#FFA15A",
           "#19d3f3",
           "#FF6692",
           "#B6E880",
           "#FF97FF",
           "#FECB52"
          ],
          "font": {
           "color": "#2a3f5f"
          },
          "geo": {
           "bgcolor": "white",
           "lakecolor": "white",
           "landcolor": "#E5ECF6",
           "showlakes": true,
           "showland": true,
           "subunitcolor": "white"
          },
          "hoverlabel": {
           "align": "left"
          },
          "hovermode": "closest",
          "mapbox": {
           "style": "light"
          },
          "paper_bgcolor": "white",
          "plot_bgcolor": "#E5ECF6",
          "polar": {
           "angularaxis": {
            "gridcolor": "white",
            "linecolor": "white",
            "ticks": ""
           },
           "bgcolor": "#E5ECF6",
           "radialaxis": {
            "gridcolor": "white",
            "linecolor": "white",
            "ticks": ""
           }
          },
          "scene": {
           "xaxis": {
            "backgroundcolor": "#E5ECF6",
            "gridcolor": "white",
            "gridwidth": 2,
            "linecolor": "white",
            "showbackground": true,
            "ticks": "",
            "zerolinecolor": "white"
           },
           "yaxis": {
            "backgroundcolor": "#E5ECF6",
            "gridcolor": "white",
            "gridwidth": 2,
            "linecolor": "white",
            "showbackground": true,
            "ticks": "",
            "zerolinecolor": "white"
           },
           "zaxis": {
            "backgroundcolor": "#E5ECF6",
            "gridcolor": "white",
            "gridwidth": 2,
            "linecolor": "white",
            "showbackground": true,
            "ticks": "",
            "zerolinecolor": "white"
           }
          },
          "shapedefaults": {
           "line": {
            "color": "#2a3f5f"
           }
          },
          "ternary": {
           "aaxis": {
            "gridcolor": "white",
            "linecolor": "white",
            "ticks": ""
           },
           "baxis": {
            "gridcolor": "white",
            "linecolor": "white",
            "ticks": ""
           },
           "bgcolor": "#E5ECF6",
           "caxis": {
            "gridcolor": "white",
            "linecolor": "white",
            "ticks": ""
           }
          },
          "title": {
           "x": 0.05
          },
          "xaxis": {
           "automargin": true,
           "gridcolor": "white",
           "linecolor": "white",
           "ticks": "",
           "title": {
            "standoff": 15
           },
           "zerolinecolor": "white",
           "zerolinewidth": 2
          },
          "yaxis": {
           "automargin": true,
           "gridcolor": "white",
           "linecolor": "white",
           "ticks": "",
           "title": {
            "standoff": 15
           },
           "zerolinecolor": "white",
           "zerolinewidth": 2
          }
         }
        },
        "title": {
         "font": {
          "size": 24
         },
         "text": "귀하는 강원세계산림엑스포에 누구와 함께 참여하셨습니까?"
        },
        "width": 1400
       }
      }
     },
     "metadata": {},
     "output_type": "display_data"
    }
   ],
   "source": [
    "import plotly.express as px\n",
    "\n",
    "# 빈도를 비율로 변환\n",
    "frequency2['비율'] = frequency2['빈도'] / frequency2['빈도'].sum()\n",
    "\n",
    "# 파이 차트 시각화 (크기 조절)\n",
    "fig = px.pie(frequency2, values='비율', names='값', title=\"<b>빈도 비율 분석</b>\", hole=0.2,\n",
    "                color_discrete_sequence=color_scale)\n",
    "fig.update_layout(\n",
    "        title={\n",
    "        'text': '귀하는 강원세계산림엑스포에 누구와 함께 참여하셨습니까?',\n",
    "        'font': {'size': 24}  # 제목의 폰트 크기 설정\n",
    "    },\n",
    "    font=dict(size=13),\n",
    "    height=900,  # 그림의 높이 설정\n",
    "    width=1400,    # 그림의 너비 설정\n",
    "    legend=dict(x=0.9, y=0.5)  # 범례 위치 조정 (x, y 조절 가능)\n",
    ")\n",
    "# 차트 내에 비율 숫자 직접 표시\n",
    "pull_lst = [0.01] * 6\n",
    "fig.update_traces(textinfo='percent+label', pull=pull_lst, insidetextorientation='horizontal')  # 비율 숫자를 라벨과 함께 표시\n",
    "\n",
    "fig.show()"
   ]
  },
  {
   "attachments": {},
   "cell_type": "markdown",
   "metadata": {},
   "source": [
    "### 합산한 표 생성"
   ]
  },
  {
   "cell_type": "code",
   "execution_count": 42,
   "metadata": {},
   "outputs": [
    {
     "name": "stderr",
     "output_type": "stream",
     "text": [
      "C:\\Users\\user\\AppData\\Local\\Temp\\ipykernel_19340\\3156531356.py:46: FutureWarning:\n",
      "\n",
      "The behavior of DataFrame concatenation with empty or all-NA entries is deprecated. In a future version, this will no longer exclude empty or all-NA columns when determining the result dtypes. To retain the old behavior, exclude the relevant entries before the concat operation.\n",
      "\n"
     ]
    },
    {
     "data": {
      "text/html": [
       "<div>\n",
       "<style scoped>\n",
       "    .dataframe tbody tr th:only-of-type {\n",
       "        vertical-align: middle;\n",
       "    }\n",
       "\n",
       "    .dataframe tbody tr th {\n",
       "        vertical-align: top;\n",
       "    }\n",
       "\n",
       "    .dataframe thead th {\n",
       "        text-align: right;\n",
       "    }\n",
       "</style>\n",
       "<table border=\"1\" class=\"dataframe\">\n",
       "  <thead>\n",
       "    <tr style=\"text-align: right;\">\n",
       "      <th></th>\n",
       "      <th></th>\n",
       "      <th>혼자-빈도</th>\n",
       "      <th>혼자-비율</th>\n",
       "      <th>가족과 함께-빈도</th>\n",
       "      <th>가족과 함께-비율</th>\n",
       "      <th>친구 또는 연인과 함께-빈도</th>\n",
       "      <th>친구 또는 연인과 함께-비율</th>\n",
       "      <th>직장동료와 함께-빈도</th>\n",
       "      <th>직장동료와 함께-비율</th>\n",
       "      <th>친목단체 또는 모임에서-빈도</th>\n",
       "      <th>친목단체 또는 모임에서-비율</th>\n",
       "      <th>학교에서-빈도</th>\n",
       "      <th>학교에서-비율</th>\n",
       "      <th>기타-빈도</th>\n",
       "      <th>기타-비율</th>\n",
       "      <th>사례수</th>\n",
       "    </tr>\n",
       "  </thead>\n",
       "  <tbody>\n",
       "    <tr>\n",
       "      <th rowspan=\"2\" valign=\"top\">성별</th>\n",
       "      <th>남성</th>\n",
       "      <td>1</td>\n",
       "      <td>2.0</td>\n",
       "      <td>5</td>\n",
       "      <td>10.0</td>\n",
       "      <td>1</td>\n",
       "      <td>2.0</td>\n",
       "      <td>21</td>\n",
       "      <td>42.0</td>\n",
       "      <td>7</td>\n",
       "      <td>14.0</td>\n",
       "      <td>15</td>\n",
       "      <td>30.0</td>\n",
       "      <td>0</td>\n",
       "      <td>0.0</td>\n",
       "      <td>50</td>\n",
       "    </tr>\n",
       "    <tr>\n",
       "      <th>여성</th>\n",
       "      <td>3</td>\n",
       "      <td>5.5</td>\n",
       "      <td>3</td>\n",
       "      <td>5.5</td>\n",
       "      <td>2</td>\n",
       "      <td>3.6</td>\n",
       "      <td>22</td>\n",
       "      <td>40.0</td>\n",
       "      <td>13</td>\n",
       "      <td>23.6</td>\n",
       "      <td>12</td>\n",
       "      <td>21.8</td>\n",
       "      <td>0</td>\n",
       "      <td>0.0</td>\n",
       "      <td>55</td>\n",
       "    </tr>\n",
       "    <tr>\n",
       "      <th rowspan=\"6\" valign=\"top\">연령</th>\n",
       "      <th>10대(15세이상)</th>\n",
       "      <td>0</td>\n",
       "      <td>0.0</td>\n",
       "      <td>0</td>\n",
       "      <td>0.0</td>\n",
       "      <td>1</td>\n",
       "      <td>14.3</td>\n",
       "      <td>0</td>\n",
       "      <td>0.0</td>\n",
       "      <td>0</td>\n",
       "      <td>0.0</td>\n",
       "      <td>6</td>\n",
       "      <td>85.7</td>\n",
       "      <td>0</td>\n",
       "      <td>0.0</td>\n",
       "      <td>7</td>\n",
       "    </tr>\n",
       "    <tr>\n",
       "      <th>20대</th>\n",
       "      <td>1</td>\n",
       "      <td>3.6</td>\n",
       "      <td>0</td>\n",
       "      <td>0.0</td>\n",
       "      <td>0</td>\n",
       "      <td>0.0</td>\n",
       "      <td>4</td>\n",
       "      <td>14.3</td>\n",
       "      <td>2</td>\n",
       "      <td>7.1</td>\n",
       "      <td>21</td>\n",
       "      <td>75.0</td>\n",
       "      <td>0</td>\n",
       "      <td>0.0</td>\n",
       "      <td>28</td>\n",
       "    </tr>\n",
       "    <tr>\n",
       "      <th>30대</th>\n",
       "      <td>1</td>\n",
       "      <td>7.1</td>\n",
       "      <td>1</td>\n",
       "      <td>7.1</td>\n",
       "      <td>0</td>\n",
       "      <td>0.0</td>\n",
       "      <td>12</td>\n",
       "      <td>85.7</td>\n",
       "      <td>0</td>\n",
       "      <td>0.0</td>\n",
       "      <td>0</td>\n",
       "      <td>0.0</td>\n",
       "      <td>0</td>\n",
       "      <td>0.0</td>\n",
       "      <td>14</td>\n",
       "    </tr>\n",
       "    <tr>\n",
       "      <th>40대</th>\n",
       "      <td>0</td>\n",
       "      <td>0.0</td>\n",
       "      <td>2</td>\n",
       "      <td>14.3</td>\n",
       "      <td>0</td>\n",
       "      <td>0.0</td>\n",
       "      <td>11</td>\n",
       "      <td>78.6</td>\n",
       "      <td>1</td>\n",
       "      <td>7.1</td>\n",
       "      <td>0</td>\n",
       "      <td>0.0</td>\n",
       "      <td>0</td>\n",
       "      <td>0.0</td>\n",
       "      <td>14</td>\n",
       "    </tr>\n",
       "    <tr>\n",
       "      <th>50대</th>\n",
       "      <td>0</td>\n",
       "      <td>0.0</td>\n",
       "      <td>2</td>\n",
       "      <td>10.5</td>\n",
       "      <td>0</td>\n",
       "      <td>0.0</td>\n",
       "      <td>13</td>\n",
       "      <td>68.4</td>\n",
       "      <td>4</td>\n",
       "      <td>21.1</td>\n",
       "      <td>0</td>\n",
       "      <td>0.0</td>\n",
       "      <td>0</td>\n",
       "      <td>0.0</td>\n",
       "      <td>19</td>\n",
       "    </tr>\n",
       "    <tr>\n",
       "      <th>60대이상</th>\n",
       "      <td>2</td>\n",
       "      <td>8.7</td>\n",
       "      <td>3</td>\n",
       "      <td>13.0</td>\n",
       "      <td>2</td>\n",
       "      <td>8.7</td>\n",
       "      <td>3</td>\n",
       "      <td>13.0</td>\n",
       "      <td>13</td>\n",
       "      <td>56.5</td>\n",
       "      <td>0</td>\n",
       "      <td>0.0</td>\n",
       "      <td>0</td>\n",
       "      <td>0.0</td>\n",
       "      <td>23</td>\n",
       "    </tr>\n",
       "    <tr>\n",
       "      <th rowspan=\"9\" valign=\"top\">학력</th>\n",
       "      <th>초등학교 졸업(무학 포함)</th>\n",
       "      <td>0</td>\n",
       "      <td>0.0</td>\n",
       "      <td>0</td>\n",
       "      <td>0.0</td>\n",
       "      <td>1</td>\n",
       "      <td>25.0</td>\n",
       "      <td>0</td>\n",
       "      <td>0.0</td>\n",
       "      <td>3</td>\n",
       "      <td>75.0</td>\n",
       "      <td>0</td>\n",
       "      <td>0.0</td>\n",
       "      <td>0</td>\n",
       "      <td>0.0</td>\n",
       "      <td>4</td>\n",
       "    </tr>\n",
       "    <tr>\n",
       "      <th>중학교 재학</th>\n",
       "      <td>0</td>\n",
       "      <td>0.0</td>\n",
       "      <td>0</td>\n",
       "      <td>0.0</td>\n",
       "      <td>1</td>\n",
       "      <td>10.0</td>\n",
       "      <td>0</td>\n",
       "      <td>0.0</td>\n",
       "      <td>3</td>\n",
       "      <td>30.0</td>\n",
       "      <td>6</td>\n",
       "      <td>60.0</td>\n",
       "      <td>0</td>\n",
       "      <td>0.0</td>\n",
       "      <td>10</td>\n",
       "    </tr>\n",
       "    <tr>\n",
       "      <th>중학교 졸업</th>\n",
       "      <td>0</td>\n",
       "      <td>0.0</td>\n",
       "      <td>1</td>\n",
       "      <td>25.0</td>\n",
       "      <td>1</td>\n",
       "      <td>25.0</td>\n",
       "      <td>0</td>\n",
       "      <td>0.0</td>\n",
       "      <td>2</td>\n",
       "      <td>50.0</td>\n",
       "      <td>0</td>\n",
       "      <td>0.0</td>\n",
       "      <td>0</td>\n",
       "      <td>0.0</td>\n",
       "      <td>4</td>\n",
       "    </tr>\n",
       "    <tr>\n",
       "      <th>고등학교 재학</th>\n",
       "      <td>0</td>\n",
       "      <td>0.0</td>\n",
       "      <td>1</td>\n",
       "      <td>50.0</td>\n",
       "      <td>0</td>\n",
       "      <td>0.0</td>\n",
       "      <td>0</td>\n",
       "      <td>0.0</td>\n",
       "      <td>1</td>\n",
       "      <td>50.0</td>\n",
       "      <td>0</td>\n",
       "      <td>0.0</td>\n",
       "      <td>0</td>\n",
       "      <td>0.0</td>\n",
       "      <td>2</td>\n",
       "    </tr>\n",
       "    <tr>\n",
       "      <th>고등학교 졸업</th>\n",
       "      <td>0</td>\n",
       "      <td>0.0</td>\n",
       "      <td>2</td>\n",
       "      <td>18.2</td>\n",
       "      <td>0</td>\n",
       "      <td>0.0</td>\n",
       "      <td>4</td>\n",
       "      <td>36.4</td>\n",
       "      <td>5</td>\n",
       "      <td>45.5</td>\n",
       "      <td>0</td>\n",
       "      <td>0.0</td>\n",
       "      <td>0</td>\n",
       "      <td>0.0</td>\n",
       "      <td>11</td>\n",
       "    </tr>\n",
       "    <tr>\n",
       "      <th>대학교 재학</th>\n",
       "      <td>0</td>\n",
       "      <td>0.0</td>\n",
       "      <td>0</td>\n",
       "      <td>0.0</td>\n",
       "      <td>0</td>\n",
       "      <td>0.0</td>\n",
       "      <td>1</td>\n",
       "      <td>4.0</td>\n",
       "      <td>3</td>\n",
       "      <td>12.0</td>\n",
       "      <td>21</td>\n",
       "      <td>84.0</td>\n",
       "      <td>0</td>\n",
       "      <td>0.0</td>\n",
       "      <td>25</td>\n",
       "    </tr>\n",
       "    <tr>\n",
       "      <th>대학교 졸업</th>\n",
       "      <td>3</td>\n",
       "      <td>7.1</td>\n",
       "      <td>4</td>\n",
       "      <td>9.5</td>\n",
       "      <td>0</td>\n",
       "      <td>0.0</td>\n",
       "      <td>32</td>\n",
       "      <td>76.2</td>\n",
       "      <td>3</td>\n",
       "      <td>7.1</td>\n",
       "      <td>0</td>\n",
       "      <td>0.0</td>\n",
       "      <td>0</td>\n",
       "      <td>0.0</td>\n",
       "      <td>42</td>\n",
       "    </tr>\n",
       "    <tr>\n",
       "      <th>대학원 재학(석사 또는 박사)</th>\n",
       "      <td>1</td>\n",
       "      <td>50.0</td>\n",
       "      <td>0</td>\n",
       "      <td>0.0</td>\n",
       "      <td>0</td>\n",
       "      <td>0.0</td>\n",
       "      <td>1</td>\n",
       "      <td>50.0</td>\n",
       "      <td>0</td>\n",
       "      <td>0.0</td>\n",
       "      <td>0</td>\n",
       "      <td>0.0</td>\n",
       "      <td>0</td>\n",
       "      <td>0.0</td>\n",
       "      <td>2</td>\n",
       "    </tr>\n",
       "    <tr>\n",
       "      <th>대학원 졸업(석사또는 박사)</th>\n",
       "      <td>0</td>\n",
       "      <td>0.0</td>\n",
       "      <td>0</td>\n",
       "      <td>0.0</td>\n",
       "      <td>0</td>\n",
       "      <td>0.0</td>\n",
       "      <td>5</td>\n",
       "      <td>100.0</td>\n",
       "      <td>0</td>\n",
       "      <td>0.0</td>\n",
       "      <td>0</td>\n",
       "      <td>0.0</td>\n",
       "      <td>0</td>\n",
       "      <td>0.0</td>\n",
       "      <td>5</td>\n",
       "    </tr>\n",
       "    <tr>\n",
       "      <th rowspan=\"17\" valign=\"top\">거주지역</th>\n",
       "      <th>서울</th>\n",
       "      <td>1</td>\n",
       "      <td>10.0</td>\n",
       "      <td>4</td>\n",
       "      <td>40.0</td>\n",
       "      <td>0</td>\n",
       "      <td>0.0</td>\n",
       "      <td>3</td>\n",
       "      <td>30.0</td>\n",
       "      <td>0</td>\n",
       "      <td>0.0</td>\n",
       "      <td>2</td>\n",
       "      <td>20.0</td>\n",
       "      <td>0</td>\n",
       "      <td>0.0</td>\n",
       "      <td>10</td>\n",
       "    </tr>\n",
       "    <tr>\n",
       "      <th>부산</th>\n",
       "      <td>0</td>\n",
       "      <td>0.0</td>\n",
       "      <td>0</td>\n",
       "      <td>0.0</td>\n",
       "      <td>0</td>\n",
       "      <td>0.0</td>\n",
       "      <td>0</td>\n",
       "      <td>0.0</td>\n",
       "      <td>0</td>\n",
       "      <td>0.0</td>\n",
       "      <td>0</td>\n",
       "      <td>0.0</td>\n",
       "      <td>0</td>\n",
       "      <td>0.0</td>\n",
       "      <td>0</td>\n",
       "    </tr>\n",
       "    <tr>\n",
       "      <th>대구</th>\n",
       "      <td>0</td>\n",
       "      <td>0.0</td>\n",
       "      <td>0</td>\n",
       "      <td>0.0</td>\n",
       "      <td>0</td>\n",
       "      <td>0.0</td>\n",
       "      <td>0</td>\n",
       "      <td>0.0</td>\n",
       "      <td>0</td>\n",
       "      <td>0.0</td>\n",
       "      <td>0</td>\n",
       "      <td>0.0</td>\n",
       "      <td>0</td>\n",
       "      <td>0.0</td>\n",
       "      <td>0</td>\n",
       "    </tr>\n",
       "    <tr>\n",
       "      <th>인천</th>\n",
       "      <td>0</td>\n",
       "      <td>0.0</td>\n",
       "      <td>0</td>\n",
       "      <td>0.0</td>\n",
       "      <td>0</td>\n",
       "      <td>0.0</td>\n",
       "      <td>0</td>\n",
       "      <td>0.0</td>\n",
       "      <td>0</td>\n",
       "      <td>0.0</td>\n",
       "      <td>2</td>\n",
       "      <td>100.0</td>\n",
       "      <td>0</td>\n",
       "      <td>0.0</td>\n",
       "      <td>2</td>\n",
       "    </tr>\n",
       "    <tr>\n",
       "      <th>광주</th>\n",
       "      <td>0</td>\n",
       "      <td>0.0</td>\n",
       "      <td>0</td>\n",
       "      <td>0.0</td>\n",
       "      <td>0</td>\n",
       "      <td>0.0</td>\n",
       "      <td>1</td>\n",
       "      <td>100.0</td>\n",
       "      <td>0</td>\n",
       "      <td>0.0</td>\n",
       "      <td>0</td>\n",
       "      <td>0.0</td>\n",
       "      <td>0</td>\n",
       "      <td>0.0</td>\n",
       "      <td>1</td>\n",
       "    </tr>\n",
       "    <tr>\n",
       "      <th>대전</th>\n",
       "      <td>0</td>\n",
       "      <td>0.0</td>\n",
       "      <td>0</td>\n",
       "      <td>0.0</td>\n",
       "      <td>0</td>\n",
       "      <td>0.0</td>\n",
       "      <td>0</td>\n",
       "      <td>0.0</td>\n",
       "      <td>0</td>\n",
       "      <td>0.0</td>\n",
       "      <td>0</td>\n",
       "      <td>0.0</td>\n",
       "      <td>0</td>\n",
       "      <td>0.0</td>\n",
       "      <td>0</td>\n",
       "    </tr>\n",
       "    <tr>\n",
       "      <th>울산</th>\n",
       "      <td>0</td>\n",
       "      <td>0.0</td>\n",
       "      <td>0</td>\n",
       "      <td>0.0</td>\n",
       "      <td>0</td>\n",
       "      <td>0.0</td>\n",
       "      <td>0</td>\n",
       "      <td>0.0</td>\n",
       "      <td>0</td>\n",
       "      <td>0.0</td>\n",
       "      <td>0</td>\n",
       "      <td>0.0</td>\n",
       "      <td>0</td>\n",
       "      <td>0.0</td>\n",
       "      <td>0</td>\n",
       "    </tr>\n",
       "    <tr>\n",
       "      <th>세종</th>\n",
       "      <td>0</td>\n",
       "      <td>0.0</td>\n",
       "      <td>0</td>\n",
       "      <td>0.0</td>\n",
       "      <td>0</td>\n",
       "      <td>0.0</td>\n",
       "      <td>0</td>\n",
       "      <td>0.0</td>\n",
       "      <td>0</td>\n",
       "      <td>0.0</td>\n",
       "      <td>0</td>\n",
       "      <td>0.0</td>\n",
       "      <td>0</td>\n",
       "      <td>0.0</td>\n",
       "      <td>0</td>\n",
       "    </tr>\n",
       "    <tr>\n",
       "      <th>경기</th>\n",
       "      <td>1</td>\n",
       "      <td>4.3</td>\n",
       "      <td>0</td>\n",
       "      <td>0.0</td>\n",
       "      <td>1</td>\n",
       "      <td>4.3</td>\n",
       "      <td>5</td>\n",
       "      <td>21.7</td>\n",
       "      <td>8</td>\n",
       "      <td>34.8</td>\n",
       "      <td>8</td>\n",
       "      <td>34.8</td>\n",
       "      <td>0</td>\n",
       "      <td>0.0</td>\n",
       "      <td>23</td>\n",
       "    </tr>\n",
       "    <tr>\n",
       "      <th>강원</th>\n",
       "      <td>2</td>\n",
       "      <td>3.0</td>\n",
       "      <td>4</td>\n",
       "      <td>6.0</td>\n",
       "      <td>2</td>\n",
       "      <td>3.0</td>\n",
       "      <td>33</td>\n",
       "      <td>49.3</td>\n",
       "      <td>12</td>\n",
       "      <td>17.9</td>\n",
       "      <td>14</td>\n",
       "      <td>20.9</td>\n",
       "      <td>0</td>\n",
       "      <td>0.0</td>\n",
       "      <td>67</td>\n",
       "    </tr>\n",
       "    <tr>\n",
       "      <th>충북</th>\n",
       "      <td>0</td>\n",
       "      <td>0.0</td>\n",
       "      <td>0</td>\n",
       "      <td>0.0</td>\n",
       "      <td>0</td>\n",
       "      <td>0.0</td>\n",
       "      <td>0</td>\n",
       "      <td>0.0</td>\n",
       "      <td>0</td>\n",
       "      <td>0.0</td>\n",
       "      <td>0</td>\n",
       "      <td>0.0</td>\n",
       "      <td>0</td>\n",
       "      <td>0.0</td>\n",
       "      <td>0</td>\n",
       "    </tr>\n",
       "    <tr>\n",
       "      <th>충남</th>\n",
       "      <td>0</td>\n",
       "      <td>0.0</td>\n",
       "      <td>0</td>\n",
       "      <td>0.0</td>\n",
       "      <td>0</td>\n",
       "      <td>0.0</td>\n",
       "      <td>0</td>\n",
       "      <td>0.0</td>\n",
       "      <td>0</td>\n",
       "      <td>0.0</td>\n",
       "      <td>0</td>\n",
       "      <td>0.0</td>\n",
       "      <td>0</td>\n",
       "      <td>0.0</td>\n",
       "      <td>0</td>\n",
       "    </tr>\n",
       "    <tr>\n",
       "      <th>전북</th>\n",
       "      <td>0</td>\n",
       "      <td>0.0</td>\n",
       "      <td>0</td>\n",
       "      <td>0.0</td>\n",
       "      <td>0</td>\n",
       "      <td>0.0</td>\n",
       "      <td>0</td>\n",
       "      <td>0.0</td>\n",
       "      <td>0</td>\n",
       "      <td>0.0</td>\n",
       "      <td>0</td>\n",
       "      <td>0.0</td>\n",
       "      <td>0</td>\n",
       "      <td>0.0</td>\n",
       "      <td>0</td>\n",
       "    </tr>\n",
       "    <tr>\n",
       "      <th>전남</th>\n",
       "      <td>0</td>\n",
       "      <td>0.0</td>\n",
       "      <td>0</td>\n",
       "      <td>0.0</td>\n",
       "      <td>0</td>\n",
       "      <td>0.0</td>\n",
       "      <td>1</td>\n",
       "      <td>100.0</td>\n",
       "      <td>0</td>\n",
       "      <td>0.0</td>\n",
       "      <td>0</td>\n",
       "      <td>0.0</td>\n",
       "      <td>0</td>\n",
       "      <td>0.0</td>\n",
       "      <td>1</td>\n",
       "    </tr>\n",
       "    <tr>\n",
       "      <th>경북</th>\n",
       "      <td>0</td>\n",
       "      <td>0.0</td>\n",
       "      <td>0</td>\n",
       "      <td>0.0</td>\n",
       "      <td>0</td>\n",
       "      <td>0.0</td>\n",
       "      <td>0</td>\n",
       "      <td>0.0</td>\n",
       "      <td>0</td>\n",
       "      <td>0.0</td>\n",
       "      <td>1</td>\n",
       "      <td>100.0</td>\n",
       "      <td>0</td>\n",
       "      <td>0.0</td>\n",
       "      <td>1</td>\n",
       "    </tr>\n",
       "    <tr>\n",
       "      <th>경남</th>\n",
       "      <td>0</td>\n",
       "      <td>0.0</td>\n",
       "      <td>0</td>\n",
       "      <td>0.0</td>\n",
       "      <td>0</td>\n",
       "      <td>0.0</td>\n",
       "      <td>0</td>\n",
       "      <td>0.0</td>\n",
       "      <td>0</td>\n",
       "      <td>0.0</td>\n",
       "      <td>0</td>\n",
       "      <td>0.0</td>\n",
       "      <td>0</td>\n",
       "      <td>0.0</td>\n",
       "      <td>0</td>\n",
       "    </tr>\n",
       "    <tr>\n",
       "      <th>제주</th>\n",
       "      <td>0</td>\n",
       "      <td>0.0</td>\n",
       "      <td>0</td>\n",
       "      <td>0.0</td>\n",
       "      <td>0</td>\n",
       "      <td>0.0</td>\n",
       "      <td>0</td>\n",
       "      <td>0.0</td>\n",
       "      <td>0</td>\n",
       "      <td>0.0</td>\n",
       "      <td>0</td>\n",
       "      <td>0.0</td>\n",
       "      <td>0</td>\n",
       "      <td>0.0</td>\n",
       "      <td>0</td>\n",
       "    </tr>\n",
       "    <tr>\n",
       "      <th rowspan=\"13\" valign=\"top\">직업</th>\n",
       "      <th>산림임업종사자</th>\n",
       "      <td>0</td>\n",
       "      <td>0.0</td>\n",
       "      <td>1</td>\n",
       "      <td>9.1</td>\n",
       "      <td>0</td>\n",
       "      <td>0.0</td>\n",
       "      <td>8</td>\n",
       "      <td>72.7</td>\n",
       "      <td>2</td>\n",
       "      <td>18.2</td>\n",
       "      <td>0</td>\n",
       "      <td>0.0</td>\n",
       "      <td>0</td>\n",
       "      <td>0.0</td>\n",
       "      <td>11</td>\n",
       "    </tr>\n",
       "    <tr>\n",
       "      <th>사무종사자</th>\n",
       "      <td>0</td>\n",
       "      <td>0.0</td>\n",
       "      <td>0</td>\n",
       "      <td>0.0</td>\n",
       "      <td>0</td>\n",
       "      <td>0.0</td>\n",
       "      <td>4</td>\n",
       "      <td>100.0</td>\n",
       "      <td>0</td>\n",
       "      <td>0.0</td>\n",
       "      <td>0</td>\n",
       "      <td>0.0</td>\n",
       "      <td>0</td>\n",
       "      <td>0.0</td>\n",
       "      <td>4</td>\n",
       "    </tr>\n",
       "    <tr>\n",
       "      <th>서비스종사자</th>\n",
       "      <td>0</td>\n",
       "      <td>0.0</td>\n",
       "      <td>0</td>\n",
       "      <td>0.0</td>\n",
       "      <td>1</td>\n",
       "      <td>12.5</td>\n",
       "      <td>1</td>\n",
       "      <td>12.5</td>\n",
       "      <td>6</td>\n",
       "      <td>75.0</td>\n",
       "      <td>0</td>\n",
       "      <td>0.0</td>\n",
       "      <td>0</td>\n",
       "      <td>0.0</td>\n",
       "      <td>8</td>\n",
       "    </tr>\n",
       "    <tr>\n",
       "      <th>판매종사자</th>\n",
       "      <td>0</td>\n",
       "      <td>0.0</td>\n",
       "      <td>0</td>\n",
       "      <td>0.0</td>\n",
       "      <td>1</td>\n",
       "      <td>25.0</td>\n",
       "      <td>3</td>\n",
       "      <td>75.0</td>\n",
       "      <td>0</td>\n",
       "      <td>0.0</td>\n",
       "      <td>0</td>\n",
       "      <td>0.0</td>\n",
       "      <td>0</td>\n",
       "      <td>0.0</td>\n",
       "      <td>4</td>\n",
       "    </tr>\n",
       "    <tr>\n",
       "      <th>기술기능종사자</th>\n",
       "      <td>1</td>\n",
       "      <td>33.3</td>\n",
       "      <td>0</td>\n",
       "      <td>0.0</td>\n",
       "      <td>0</td>\n",
       "      <td>0.0</td>\n",
       "      <td>2</td>\n",
       "      <td>66.7</td>\n",
       "      <td>0</td>\n",
       "      <td>0.0</td>\n",
       "      <td>0</td>\n",
       "      <td>0.0</td>\n",
       "      <td>0</td>\n",
       "      <td>0.0</td>\n",
       "      <td>3</td>\n",
       "    </tr>\n",
       "    <tr>\n",
       "      <th>단순노무종사자</th>\n",
       "      <td>0</td>\n",
       "      <td>0.0</td>\n",
       "      <td>0</td>\n",
       "      <td>0.0</td>\n",
       "      <td>0</td>\n",
       "      <td>0.0</td>\n",
       "      <td>0</td>\n",
       "      <td>0.0</td>\n",
       "      <td>0</td>\n",
       "      <td>0.0</td>\n",
       "      <td>0</td>\n",
       "      <td>0.0</td>\n",
       "      <td>0</td>\n",
       "      <td>0.0</td>\n",
       "      <td>0</td>\n",
       "    </tr>\n",
       "    <tr>\n",
       "      <th>전문가(교수 포함)</th>\n",
       "      <td>1</td>\n",
       "      <td>33.3</td>\n",
       "      <td>0</td>\n",
       "      <td>0.0</td>\n",
       "      <td>0</td>\n",
       "      <td>0.0</td>\n",
       "      <td>2</td>\n",
       "      <td>66.7</td>\n",
       "      <td>0</td>\n",
       "      <td>0.0</td>\n",
       "      <td>0</td>\n",
       "      <td>0.0</td>\n",
       "      <td>0</td>\n",
       "      <td>0.0</td>\n",
       "      <td>3</td>\n",
       "    </tr>\n",
       "    <tr>\n",
       "      <th>경영직종사자</th>\n",
       "      <td>0</td>\n",
       "      <td>0.0</td>\n",
       "      <td>0</td>\n",
       "      <td>0.0</td>\n",
       "      <td>0</td>\n",
       "      <td>0.0</td>\n",
       "      <td>0</td>\n",
       "      <td>0.0</td>\n",
       "      <td>0</td>\n",
       "      <td>0.0</td>\n",
       "      <td>0</td>\n",
       "      <td>0.0</td>\n",
       "      <td>0</td>\n",
       "      <td>0.0</td>\n",
       "      <td>0</td>\n",
       "    </tr>\n",
       "    <tr>\n",
       "      <th>자영업자(개인사업자)</th>\n",
       "      <td>0</td>\n",
       "      <td>0.0</td>\n",
       "      <td>2</td>\n",
       "      <td>25.0</td>\n",
       "      <td>0</td>\n",
       "      <td>0.0</td>\n",
       "      <td>2</td>\n",
       "      <td>25.0</td>\n",
       "      <td>4</td>\n",
       "      <td>50.0</td>\n",
       "      <td>0</td>\n",
       "      <td>0.0</td>\n",
       "      <td>0</td>\n",
       "      <td>0.0</td>\n",
       "      <td>8</td>\n",
       "    </tr>\n",
       "    <tr>\n",
       "      <th>공무원(교사포함)</th>\n",
       "      <td>0</td>\n",
       "      <td>0.0</td>\n",
       "      <td>2</td>\n",
       "      <td>10.0</td>\n",
       "      <td>0</td>\n",
       "      <td>0.0</td>\n",
       "      <td>17</td>\n",
       "      <td>85.0</td>\n",
       "      <td>1</td>\n",
       "      <td>5.0</td>\n",
       "      <td>0</td>\n",
       "      <td>0.0</td>\n",
       "      <td>0</td>\n",
       "      <td>0.0</td>\n",
       "      <td>20</td>\n",
       "    </tr>\n",
       "    <tr>\n",
       "      <th>학생(대학원생포함)</th>\n",
       "      <td>1</td>\n",
       "      <td>3.0</td>\n",
       "      <td>0</td>\n",
       "      <td>0.0</td>\n",
       "      <td>1</td>\n",
       "      <td>3.0</td>\n",
       "      <td>2</td>\n",
       "      <td>6.1</td>\n",
       "      <td>2</td>\n",
       "      <td>6.1</td>\n",
       "      <td>27</td>\n",
       "      <td>81.8</td>\n",
       "      <td>0</td>\n",
       "      <td>0.0</td>\n",
       "      <td>33</td>\n",
       "    </tr>\n",
       "    <tr>\n",
       "      <th>전업주부</th>\n",
       "      <td>0</td>\n",
       "      <td>0.0</td>\n",
       "      <td>3</td>\n",
       "      <td>37.5</td>\n",
       "      <td>0</td>\n",
       "      <td>0.0</td>\n",
       "      <td>1</td>\n",
       "      <td>12.5</td>\n",
       "      <td>4</td>\n",
       "      <td>50.0</td>\n",
       "      <td>0</td>\n",
       "      <td>0.0</td>\n",
       "      <td>0</td>\n",
       "      <td>0.0</td>\n",
       "      <td>8</td>\n",
       "    </tr>\n",
       "    <tr>\n",
       "      <th>기타</th>\n",
       "      <td>1</td>\n",
       "      <td>33.3</td>\n",
       "      <td>0</td>\n",
       "      <td>0.0</td>\n",
       "      <td>0</td>\n",
       "      <td>0.0</td>\n",
       "      <td>1</td>\n",
       "      <td>33.3</td>\n",
       "      <td>1</td>\n",
       "      <td>33.3</td>\n",
       "      <td>0</td>\n",
       "      <td>0.0</td>\n",
       "      <td>0</td>\n",
       "      <td>0.0</td>\n",
       "      <td>3</td>\n",
       "    </tr>\n",
       "  </tbody>\n",
       "</table>\n",
       "</div>"
      ],
      "text/plain": [
       "                      혼자-빈도  혼자-비율 가족과 함께-빈도  가족과 함께-비율 친구 또는 연인과 함께-빈도  \\\n",
       "성별   남성                   1    2.0         5       10.0               1   \n",
       "     여성                   3    5.5         3        5.5               2   \n",
       "연령   10대(15세이상)           0    0.0         0        0.0               1   \n",
       "     20대                  1    3.6         0        0.0               0   \n",
       "     30대                  1    7.1         1        7.1               0   \n",
       "     40대                  0    0.0         2       14.3               0   \n",
       "     50대                  0    0.0         2       10.5               0   \n",
       "     60대이상                2    8.7         3       13.0               2   \n",
       "학력   초등학교 졸업(무학 포함)       0    0.0         0        0.0               1   \n",
       "     중학교 재학               0    0.0         0        0.0               1   \n",
       "     중학교 졸업               0    0.0         1       25.0               1   \n",
       "     고등학교 재학              0    0.0         1       50.0               0   \n",
       "     고등학교 졸업              0    0.0         2       18.2               0   \n",
       "     대학교 재학               0    0.0         0        0.0               0   \n",
       "     대학교 졸업               3    7.1         4        9.5               0   \n",
       "     대학원 재학(석사 또는 박사)     1   50.0         0        0.0               0   \n",
       "     대학원 졸업(석사또는 박사)      0    0.0         0        0.0               0   \n",
       "거주지역 서울                   1   10.0         4       40.0               0   \n",
       "     부산                   0    0.0         0        0.0               0   \n",
       "     대구                   0    0.0         0        0.0               0   \n",
       "     인천                   0    0.0         0        0.0               0   \n",
       "     광주                   0    0.0         0        0.0               0   \n",
       "     대전                   0    0.0         0        0.0               0   \n",
       "     울산                   0    0.0         0        0.0               0   \n",
       "     세종                   0    0.0         0        0.0               0   \n",
       "     경기                   1    4.3         0        0.0               1   \n",
       "     강원                   2    3.0         4        6.0               2   \n",
       "     충북                   0    0.0         0        0.0               0   \n",
       "     충남                   0    0.0         0        0.0               0   \n",
       "     전북                   0    0.0         0        0.0               0   \n",
       "     전남                   0    0.0         0        0.0               0   \n",
       "     경북                   0    0.0         0        0.0               0   \n",
       "     경남                   0    0.0         0        0.0               0   \n",
       "     제주                   0    0.0         0        0.0               0   \n",
       "직업   산림임업종사자              0    0.0         1        9.1               0   \n",
       "     사무종사자                0    0.0         0        0.0               0   \n",
       "     서비스종사자               0    0.0         0        0.0               1   \n",
       "     판매종사자                0    0.0         0        0.0               1   \n",
       "     기술기능종사자              1   33.3         0        0.0               0   \n",
       "     단순노무종사자              0    0.0         0        0.0               0   \n",
       "     전문가(교수 포함)           1   33.3         0        0.0               0   \n",
       "     경영직종사자               0    0.0         0        0.0               0   \n",
       "     자영업자(개인사업자)          0    0.0         2       25.0               0   \n",
       "     공무원(교사포함)            0    0.0         2       10.0               0   \n",
       "     학생(대학원생포함)           1    3.0         0        0.0               1   \n",
       "     전업주부                 0    0.0         3       37.5               0   \n",
       "     기타                   1   33.3         0        0.0               0   \n",
       "\n",
       "                       친구 또는 연인과 함께-비율 직장동료와 함께-빈도  직장동료와 함께-비율  \\\n",
       "성별   남성                            2.0          21         42.0   \n",
       "     여성                            3.6          22         40.0   \n",
       "연령   10대(15세이상)                   14.3           0          0.0   \n",
       "     20대                           0.0           4         14.3   \n",
       "     30대                           0.0          12         85.7   \n",
       "     40대                           0.0          11         78.6   \n",
       "     50대                           0.0          13         68.4   \n",
       "     60대이상                         8.7           3         13.0   \n",
       "학력   초등학교 졸업(무학 포함)               25.0           0          0.0   \n",
       "     중학교 재학                       10.0           0          0.0   \n",
       "     중학교 졸업                       25.0           0          0.0   \n",
       "     고등학교 재학                       0.0           0          0.0   \n",
       "     고등학교 졸업                       0.0           4         36.4   \n",
       "     대학교 재학                        0.0           1          4.0   \n",
       "     대학교 졸업                        0.0          32         76.2   \n",
       "     대학원 재학(석사 또는 박사)              0.0           1         50.0   \n",
       "     대학원 졸업(석사또는 박사)               0.0           5        100.0   \n",
       "거주지역 서울                            0.0           3         30.0   \n",
       "     부산                            0.0           0          0.0   \n",
       "     대구                            0.0           0          0.0   \n",
       "     인천                            0.0           0          0.0   \n",
       "     광주                            0.0           1        100.0   \n",
       "     대전                            0.0           0          0.0   \n",
       "     울산                            0.0           0          0.0   \n",
       "     세종                            0.0           0          0.0   \n",
       "     경기                            4.3           5         21.7   \n",
       "     강원                            3.0          33         49.3   \n",
       "     충북                            0.0           0          0.0   \n",
       "     충남                            0.0           0          0.0   \n",
       "     전북                            0.0           0          0.0   \n",
       "     전남                            0.0           1        100.0   \n",
       "     경북                            0.0           0          0.0   \n",
       "     경남                            0.0           0          0.0   \n",
       "     제주                            0.0           0          0.0   \n",
       "직업   산림임업종사자                       0.0           8         72.7   \n",
       "     사무종사자                         0.0           4        100.0   \n",
       "     서비스종사자                       12.5           1         12.5   \n",
       "     판매종사자                        25.0           3         75.0   \n",
       "     기술기능종사자                       0.0           2         66.7   \n",
       "     단순노무종사자                       0.0           0          0.0   \n",
       "     전문가(교수 포함)                    0.0           2         66.7   \n",
       "     경영직종사자                        0.0           0          0.0   \n",
       "     자영업자(개인사업자)                   0.0           2         25.0   \n",
       "     공무원(교사포함)                     0.0          17         85.0   \n",
       "     학생(대학원생포함)                    3.0           2          6.1   \n",
       "     전업주부                          0.0           1         12.5   \n",
       "     기타                            0.0           1         33.3   \n",
       "\n",
       "                      친목단체 또는 모임에서-빈도  친목단체 또는 모임에서-비율 학교에서-빈도  학교에서-비율 기타-빈도  \\\n",
       "성별   남성                             7             14.0      15     30.0     0   \n",
       "     여성                            13             23.6      12     21.8     0   \n",
       "연령   10대(15세이상)                     0              0.0       6     85.7     0   \n",
       "     20대                            2              7.1      21     75.0     0   \n",
       "     30대                            0              0.0       0      0.0     0   \n",
       "     40대                            1              7.1       0      0.0     0   \n",
       "     50대                            4             21.1       0      0.0     0   \n",
       "     60대이상                         13             56.5       0      0.0     0   \n",
       "학력   초등학교 졸업(무학 포함)                 3             75.0       0      0.0     0   \n",
       "     중학교 재학                         3             30.0       6     60.0     0   \n",
       "     중학교 졸업                         2             50.0       0      0.0     0   \n",
       "     고등학교 재학                        1             50.0       0      0.0     0   \n",
       "     고등학교 졸업                        5             45.5       0      0.0     0   \n",
       "     대학교 재학                         3             12.0      21     84.0     0   \n",
       "     대학교 졸업                         3              7.1       0      0.0     0   \n",
       "     대학원 재학(석사 또는 박사)               0              0.0       0      0.0     0   \n",
       "     대학원 졸업(석사또는 박사)                0              0.0       0      0.0     0   \n",
       "거주지역 서울                             0              0.0       2     20.0     0   \n",
       "     부산                             0              0.0       0      0.0     0   \n",
       "     대구                             0              0.0       0      0.0     0   \n",
       "     인천                             0              0.0       2    100.0     0   \n",
       "     광주                             0              0.0       0      0.0     0   \n",
       "     대전                             0              0.0       0      0.0     0   \n",
       "     울산                             0              0.0       0      0.0     0   \n",
       "     세종                             0              0.0       0      0.0     0   \n",
       "     경기                             8             34.8       8     34.8     0   \n",
       "     강원                            12             17.9      14     20.9     0   \n",
       "     충북                             0              0.0       0      0.0     0   \n",
       "     충남                             0              0.0       0      0.0     0   \n",
       "     전북                             0              0.0       0      0.0     0   \n",
       "     전남                             0              0.0       0      0.0     0   \n",
       "     경북                             0              0.0       1    100.0     0   \n",
       "     경남                             0              0.0       0      0.0     0   \n",
       "     제주                             0              0.0       0      0.0     0   \n",
       "직업   산림임업종사자                        2             18.2       0      0.0     0   \n",
       "     사무종사자                          0              0.0       0      0.0     0   \n",
       "     서비스종사자                         6             75.0       0      0.0     0   \n",
       "     판매종사자                          0              0.0       0      0.0     0   \n",
       "     기술기능종사자                        0              0.0       0      0.0     0   \n",
       "     단순노무종사자                        0              0.0       0      0.0     0   \n",
       "     전문가(교수 포함)                     0              0.0       0      0.0     0   \n",
       "     경영직종사자                         0              0.0       0      0.0     0   \n",
       "     자영업자(개인사업자)                    4             50.0       0      0.0     0   \n",
       "     공무원(교사포함)                      1              5.0       0      0.0     0   \n",
       "     학생(대학원생포함)                     2              6.1      27     81.8     0   \n",
       "     전업주부                           4             50.0       0      0.0     0   \n",
       "     기타                             1             33.3       0      0.0     0   \n",
       "\n",
       "                       기타-비율  사례수  \n",
       "성별   남성                  0.0   50  \n",
       "     여성                  0.0   55  \n",
       "연령   10대(15세이상)          0.0    7  \n",
       "     20대                 0.0   28  \n",
       "     30대                 0.0   14  \n",
       "     40대                 0.0   14  \n",
       "     50대                 0.0   19  \n",
       "     60대이상               0.0   23  \n",
       "학력   초등학교 졸업(무학 포함)      0.0    4  \n",
       "     중학교 재학              0.0   10  \n",
       "     중학교 졸업              0.0    4  \n",
       "     고등학교 재학             0.0    2  \n",
       "     고등학교 졸업             0.0   11  \n",
       "     대학교 재학              0.0   25  \n",
       "     대학교 졸업              0.0   42  \n",
       "     대학원 재학(석사 또는 박사)    0.0    2  \n",
       "     대학원 졸업(석사또는 박사)     0.0    5  \n",
       "거주지역 서울                  0.0   10  \n",
       "     부산                  0.0    0  \n",
       "     대구                  0.0    0  \n",
       "     인천                  0.0    2  \n",
       "     광주                  0.0    1  \n",
       "     대전                  0.0    0  \n",
       "     울산                  0.0    0  \n",
       "     세종                  0.0    0  \n",
       "     경기                  0.0   23  \n",
       "     강원                  0.0   67  \n",
       "     충북                  0.0    0  \n",
       "     충남                  0.0    0  \n",
       "     전북                  0.0    0  \n",
       "     전남                  0.0    1  \n",
       "     경북                  0.0    1  \n",
       "     경남                  0.0    0  \n",
       "     제주                  0.0    0  \n",
       "직업   산림임업종사자             0.0   11  \n",
       "     사무종사자               0.0    4  \n",
       "     서비스종사자              0.0    8  \n",
       "     판매종사자               0.0    4  \n",
       "     기술기능종사자             0.0    3  \n",
       "     단순노무종사자             0.0    0  \n",
       "     전문가(교수 포함)          0.0    3  \n",
       "     경영직종사자              0.0    0  \n",
       "     자영업자(개인사업자)         0.0    8  \n",
       "     공무원(교사포함)           0.0   20  \n",
       "     학생(대학원생포함)          0.0   33  \n",
       "     전업주부                0.0    8  \n",
       "     기타                  0.0    3  "
      ]
     },
     "execution_count": 42,
     "metadata": {},
     "output_type": "execute_result"
    }
   ],
   "source": [
    "# 응답자 특성별 표 정리\n",
    "q2 = ['혼자', '가족과 함께', '친구 또는 연인과 함께', '직장동료와 함께', '친목단체 또는 모임에서', '학교에서', '기타']\n",
    "combined_list = q2\n",
    "column_lst = []\n",
    "for i in combined_list:\n",
    "    column_lst.append(\"%s-빈도\"%i)\n",
    "    column_lst.append(\"%s-비율\"%i)\n",
    "resp_map_df = pd.DataFrame(columns = column_lst)\n",
    "\n",
    "# 응답자 설문 리스트 정의\n",
    "sq_lst = list(Resp_Character.keys())\n",
    "# 응답자 매핑 딕셔너리 정의\n",
    "sq_dic = {'성별': 'SQ1', '연령': 'SQ2_1', '학력': 'SQ3', '거주지역': 'SQ4', '직업': 'SQ5'}\n",
    "\n",
    "# 멀티인덱스를 위한 리스트 생성\n",
    "mult_idx = []\n",
    "\n",
    "for sq in sq_lst:\n",
    "    for val in list(Resp_Character[sq].values()):\n",
    "        # 멀티인덱스 추가\n",
    "        mult_idx.append(sq)\n",
    "        # 응답자 특성 값으로 필터링\n",
    "        filtered_rows = df_expo[df_expo[sq_dic[sq]] == val].reset_index(drop=True)\n",
    "        frequency_rate_df = filtered_rows['Q2'].value_counts().reset_index()\n",
    "        frequency_rate_df.columns = ['값', '빈도']\n",
    "        frequency_rate_df['값'] = map_val(frequency_rate_df['값'], Q2_map)\n",
    "        frequency_rate_df['비율'] = round((frequency_rate_df['빈도'] / frequency_rate_df['빈도'].sum())*100,1)\n",
    "        frequency_rate_df = frequency_rate_df.set_index(keys='값')\n",
    "        \n",
    "        resp_map = {}\n",
    "        for i in resp_map_df.columns:\n",
    "            if i.endswith('빈도'):\n",
    "                resp_map[i] = [0]\n",
    "            else:\n",
    "                resp_map[i] = [0.0]\n",
    "\n",
    "        for i in resp_map_df.columns:           \n",
    "            response, method = i.split('-')\n",
    "            try:\n",
    "                resp_map[i][0] = frequency_rate_df.loc[response, method]\n",
    "            except:\n",
    "                pass\n",
    "        else:\n",
    "            map_df = pd.DataFrame(resp_map)\n",
    "            map_df.index = [val]\n",
    "            resp_map_df = pd.concat([resp_map_df,map_df])\n",
    "resp_map_df['사례수'] = resp_map_df.filter(like='빈도').sum(axis=1).astype(int)\n",
    "# 멀티인덱스 생성\n",
    "resp_map_df.set_index([mult_idx, resp_map_df.index], inplace=True)\n",
    "resp_map_df"
   ]
  },
  {
   "attachments": {},
   "cell_type": "markdown",
   "metadata": {},
   "source": [
    "## Q3 귀하는 강원세계산림엑스포의 가장 기대되는 프로그램이 무엇입니까? - 빈도분석"
   ]
  },
  {
   "cell_type": "code",
   "execution_count": 44,
   "metadata": {},
   "outputs": [],
   "source": [
    "# 매핑 딕셔너리 정의\n",
    "Q3_map = {'1': '문화·예술 관람 행사(예 : 뮤직콘서트, 뮤지컬 갈라쇼 등)',\n",
    "          '2': '문화·예술 참여 행사(예 : 나무장난감 놀이마당축제 등)',\n",
    "          '3': '레포츠 행사(예 : 전국 스포츠 클라이밍 대회 등)',\n",
    "          '4': '학습 행사(예 : 산림과학 학술대회 등)',\n",
    "          '5': '관광 활동(예 : 설악산 자생식물원, 용대관광단지 등)',\n",
    "          '6': '전시 관람 활동(예 : 푸른지구관, 산림평화관, 문화유산관 등)',\n",
    "          '7': '체험 활동(예 : 저탄소 업사이클링 공예체험 등)',\n",
    "          '8': '사회 활동(예 : 개·폐회식 참여, 인적교류 등) ',\n",
    "          '9': '기타'}\n",
    "\n",
    "# 데이터프레임에서 'Q1_1' 열과 'Q1_2' 열의 빈도분석을 수행\n",
    "frequency3_1 = df_expo['Q3_1'].value_counts().reset_index()\n",
    "frequency3_1.columns = ['값', '1순위']\n",
    "\n",
    "frequency3_2 = df_expo['Q3_2'].value_counts().reset_index()\n",
    "frequency3_2.columns = ['값', '2순위']\n",
    "\n",
    "# '값' 열의 값을 딕셔너리를 사용하여 일괄적으로 변경하는 함수 정의\n",
    "def map_val(series, dic):\n",
    "        lst = []\n",
    "        for value in series:\n",
    "                if str(value).isdigit():\n",
    "                        lst.append(dic[str(value)])\n",
    "                else:\n",
    "                        lst.append(value.replace('10', '기타'))\n",
    "        return lst\n",
    "        \n",
    "frequency3_1['값'] = map_val(frequency3_1['값'], Q3_map)\n",
    "frequency3_2['값'] = map_val(frequency3_2['값'], Q3_map)"
   ]
  },
  {
   "cell_type": "code",
   "execution_count": 45,
   "metadata": {},
   "outputs": [
    {
     "data": {
      "text/html": [
       "<div>\n",
       "<style scoped>\n",
       "    .dataframe tbody tr th:only-of-type {\n",
       "        vertical-align: middle;\n",
       "    }\n",
       "\n",
       "    .dataframe tbody tr th {\n",
       "        vertical-align: top;\n",
       "    }\n",
       "\n",
       "    .dataframe thead th {\n",
       "        text-align: right;\n",
       "    }\n",
       "</style>\n",
       "<table border=\"1\" class=\"dataframe\">\n",
       "  <thead>\n",
       "    <tr style=\"text-align: right;\">\n",
       "      <th></th>\n",
       "      <th>값</th>\n",
       "      <th>1순위+2순위_빈도</th>\n",
       "    </tr>\n",
       "  </thead>\n",
       "  <tbody>\n",
       "    <tr>\n",
       "      <th>1</th>\n",
       "      <td>전시 관람 활동(예 : 푸른지구관, 산림평화관, 문화유산관 등)</td>\n",
       "      <td>48</td>\n",
       "    </tr>\n",
       "    <tr>\n",
       "      <th>4</th>\n",
       "      <td>문화·예술 참여 행사(예 : 나무장난감 놀이마당축제 등)</td>\n",
       "      <td>38</td>\n",
       "    </tr>\n",
       "    <tr>\n",
       "      <th>0</th>\n",
       "      <td>문화·예술 관람 행사(예 : 뮤직콘서트, 뮤지컬 갈라쇼 등)</td>\n",
       "      <td>36</td>\n",
       "    </tr>\n",
       "    <tr>\n",
       "      <th>2</th>\n",
       "      <td>체험 활동(예 : 저탄소 업사이클링 공예체험 등)</td>\n",
       "      <td>33</td>\n",
       "    </tr>\n",
       "    <tr>\n",
       "      <th>3</th>\n",
       "      <td>관광 활동(예 : 설악산 자생식물원, 용대관광단지 등)</td>\n",
       "      <td>25</td>\n",
       "    </tr>\n",
       "    <tr>\n",
       "      <th>5</th>\n",
       "      <td>학습 행사(예 : 산림과학 학술대회 등)</td>\n",
       "      <td>15</td>\n",
       "    </tr>\n",
       "    <tr>\n",
       "      <th>6</th>\n",
       "      <td>레포츠 행사(예 : 전국 스포츠 클라이밍 대회 등)</td>\n",
       "      <td>9</td>\n",
       "    </tr>\n",
       "    <tr>\n",
       "      <th>7</th>\n",
       "      <td>사회 활동(예 : 개·폐회식 참여, 인적교류 등)</td>\n",
       "      <td>6</td>\n",
       "    </tr>\n",
       "  </tbody>\n",
       "</table>\n",
       "</div>"
      ],
      "text/plain": [
       "                                     값  1순위+2순위_빈도\n",
       "1  전시 관람 활동(예 : 푸른지구관, 산림평화관, 문화유산관 등)          48\n",
       "4      문화·예술 참여 행사(예 : 나무장난감 놀이마당축제 등)          38\n",
       "0    문화·예술 관람 행사(예 : 뮤직콘서트, 뮤지컬 갈라쇼 등)          36\n",
       "2          체험 활동(예 : 저탄소 업사이클링 공예체험 등)          33\n",
       "3       관광 활동(예 : 설악산 자생식물원, 용대관광단지 등)          25\n",
       "5               학습 행사(예 : 산림과학 학술대회 등)          15\n",
       "6         레포츠 행사(예 : 전국 스포츠 클라이밍 대회 등)           9\n",
       "7         사회 활동(예 : 개·폐회식 참여, 인적교류 등)            6"
      ]
     },
     "execution_count": 45,
     "metadata": {},
     "output_type": "execute_result"
    }
   ],
   "source": [
    "# '값' column을 기준으로 데이터프레임을 병합\n",
    "frequency3_C = pd.merge(frequency3_1, frequency3_2, on='값', how='outer')\n",
    "frequency3_C.fillna(0, inplace=True)\n",
    "frequency3_C['2순위'] = frequency3_C['2순위'].astype(int)\n",
    "# '1순위'와 '2순위' 빈도를 합산\n",
    "frequency3_C['1순위+2순위_빈도'] = frequency3_C['1순위'] + frequency3_C['2순위']\n",
    "frequency3_C = frequency3_C[['값', '1순위+2순위_빈도']]\n",
    "frequency3_C.sort_values('1순위+2순위_빈도', ascending=False, inplace=True)\n",
    "frequency3_C"
   ]
  },
  {
   "cell_type": "code",
   "execution_count": 46,
   "metadata": {},
   "outputs": [
    {
     "data": {
      "application/vnd.plotly.v1+json": {
       "config": {
        "plotlyServerURL": "https://plot.ly"
       },
       "data": [
        {
         "domain": {
          "x": [
           0,
           1
          ],
          "y": [
           0,
           1
          ]
         },
         "hole": 0.2,
         "hovertemplate": "값=%{label}<br>비율=%{value}<extra></extra>",
         "insidetextorientation": "horizontal",
         "labels": [
          "문화·예술 관람 행사(예 : 뮤직콘서트, 뮤지컬 갈라쇼 등)",
          "전시 관람 활동(예 : 푸른지구관, 산림평화관, 문화유산관 등)",
          "체험 활동(예 : 저탄소 업사이클링 공예체험 등)",
          "관광 활동(예 : 설악산 자생식물원, 용대관광단지 등)",
          "문화·예술 참여 행사(예 : 나무장난감 놀이마당축제 등)",
          "학습 행사(예 : 산림과학 학술대회 등)",
          "레포츠 행사(예 : 전국 스포츠 클라이밍 대회 등)",
          "사회 활동(예 : 개·폐회식 참여, 인적교류 등) "
         ],
         "legendgroup": "",
         "name": "",
         "pull": [
          0.01,
          0.01,
          0.01,
          0.01,
          0.01,
          0.01,
          0.01,
          0.01,
          0.01,
          0.01,
          0.01,
          0.01
         ],
         "showlegend": true,
         "textinfo": "percent+label",
         "type": "pie",
         "values": [
          0.2571428571428571,
          0.24761904761904763,
          0.1619047619047619,
          0.12380952380952381,
          0.11428571428571428,
          0.0380952380952381,
          0.0380952380952381,
          0.01904761904761905
         ]
        }
       ],
       "layout": {
        "font": {
         "size": 13
        },
        "height": 900,
        "legend": {
         "tracegroupgap": 0,
         "x": 1.3,
         "y": 0.5
        },
        "piecolorway": [
         "rgb(5,31,69)",
         "rgb(8,48,107)",
         "rgb(11,62,138)",
         "rgb(8,81,156)",
         "rgb(7,90,176)",
         "rgb(33,113,181)",
         "rgb(66,146,198)",
         "rgb(81,157,207)",
         "rgb(107,174,214)",
         "rgb(158,202,225)",
         "rgb(198,219,239)",
         "rgb(222,235,247)",
         "rgb(247,251,255)"
        ],
        "template": {
         "data": {
          "bar": [
           {
            "error_x": {
             "color": "#2a3f5f"
            },
            "error_y": {
             "color": "#2a3f5f"
            },
            "marker": {
             "line": {
              "color": "#E5ECF6",
              "width": 0.5
             }
            },
            "type": "bar"
           }
          ],
          "barpolar": [
           {
            "marker": {
             "line": {
              "color": "#E5ECF6",
              "width": 0.5
             }
            },
            "type": "barpolar"
           }
          ],
          "carpet": [
           {
            "aaxis": {
             "endlinecolor": "#2a3f5f",
             "gridcolor": "white",
             "linecolor": "white",
             "minorgridcolor": "white",
             "startlinecolor": "#2a3f5f"
            },
            "baxis": {
             "endlinecolor": "#2a3f5f",
             "gridcolor": "white",
             "linecolor": "white",
             "minorgridcolor": "white",
             "startlinecolor": "#2a3f5f"
            },
            "type": "carpet"
           }
          ],
          "choropleth": [
           {
            "colorbar": {
             "outlinewidth": 0,
             "ticks": ""
            },
            "type": "choropleth"
           }
          ],
          "contour": [
           {
            "colorbar": {
             "outlinewidth": 0,
             "ticks": ""
            },
            "colorscale": [
             [
              0,
              "#0d0887"
             ],
             [
              0.1111111111111111,
              "#46039f"
             ],
             [
              0.2222222222222222,
              "#7201a8"
             ],
             [
              0.3333333333333333,
              "#9c179e"
             ],
             [
              0.4444444444444444,
              "#bd3786"
             ],
             [
              0.5555555555555556,
              "#d8576b"
             ],
             [
              0.6666666666666666,
              "#ed7953"
             ],
             [
              0.7777777777777778,
              "#fb9f3a"
             ],
             [
              0.8888888888888888,
              "#fdca26"
             ],
             [
              1,
              "#f0f921"
             ]
            ],
            "type": "contour"
           }
          ],
          "contourcarpet": [
           {
            "colorbar": {
             "outlinewidth": 0,
             "ticks": ""
            },
            "type": "contourcarpet"
           }
          ],
          "heatmap": [
           {
            "colorbar": {
             "outlinewidth": 0,
             "ticks": ""
            },
            "colorscale": [
             [
              0,
              "#0d0887"
             ],
             [
              0.1111111111111111,
              "#46039f"
             ],
             [
              0.2222222222222222,
              "#7201a8"
             ],
             [
              0.3333333333333333,
              "#9c179e"
             ],
             [
              0.4444444444444444,
              "#bd3786"
             ],
             [
              0.5555555555555556,
              "#d8576b"
             ],
             [
              0.6666666666666666,
              "#ed7953"
             ],
             [
              0.7777777777777778,
              "#fb9f3a"
             ],
             [
              0.8888888888888888,
              "#fdca26"
             ],
             [
              1,
              "#f0f921"
             ]
            ],
            "type": "heatmap"
           }
          ],
          "heatmapgl": [
           {
            "colorbar": {
             "outlinewidth": 0,
             "ticks": ""
            },
            "colorscale": [
             [
              0,
              "#0d0887"
             ],
             [
              0.1111111111111111,
              "#46039f"
             ],
             [
              0.2222222222222222,
              "#7201a8"
             ],
             [
              0.3333333333333333,
              "#9c179e"
             ],
             [
              0.4444444444444444,
              "#bd3786"
             ],
             [
              0.5555555555555556,
              "#d8576b"
             ],
             [
              0.6666666666666666,
              "#ed7953"
             ],
             [
              0.7777777777777778,
              "#fb9f3a"
             ],
             [
              0.8888888888888888,
              "#fdca26"
             ],
             [
              1,
              "#f0f921"
             ]
            ],
            "type": "heatmapgl"
           }
          ],
          "histogram": [
           {
            "marker": {
             "colorbar": {
              "outlinewidth": 0,
              "ticks": ""
             }
            },
            "type": "histogram"
           }
          ],
          "histogram2d": [
           {
            "colorbar": {
             "outlinewidth": 0,
             "ticks": ""
            },
            "colorscale": [
             [
              0,
              "#0d0887"
             ],
             [
              0.1111111111111111,
              "#46039f"
             ],
             [
              0.2222222222222222,
              "#7201a8"
             ],
             [
              0.3333333333333333,
              "#9c179e"
             ],
             [
              0.4444444444444444,
              "#bd3786"
             ],
             [
              0.5555555555555556,
              "#d8576b"
             ],
             [
              0.6666666666666666,
              "#ed7953"
             ],
             [
              0.7777777777777778,
              "#fb9f3a"
             ],
             [
              0.8888888888888888,
              "#fdca26"
             ],
             [
              1,
              "#f0f921"
             ]
            ],
            "type": "histogram2d"
           }
          ],
          "histogram2dcontour": [
           {
            "colorbar": {
             "outlinewidth": 0,
             "ticks": ""
            },
            "colorscale": [
             [
              0,
              "#0d0887"
             ],
             [
              0.1111111111111111,
              "#46039f"
             ],
             [
              0.2222222222222222,
              "#7201a8"
             ],
             [
              0.3333333333333333,
              "#9c179e"
             ],
             [
              0.4444444444444444,
              "#bd3786"
             ],
             [
              0.5555555555555556,
              "#d8576b"
             ],
             [
              0.6666666666666666,
              "#ed7953"
             ],
             [
              0.7777777777777778,
              "#fb9f3a"
             ],
             [
              0.8888888888888888,
              "#fdca26"
             ],
             [
              1,
              "#f0f921"
             ]
            ],
            "type": "histogram2dcontour"
           }
          ],
          "mesh3d": [
           {
            "colorbar": {
             "outlinewidth": 0,
             "ticks": ""
            },
            "type": "mesh3d"
           }
          ],
          "parcoords": [
           {
            "line": {
             "colorbar": {
              "outlinewidth": 0,
              "ticks": ""
             }
            },
            "type": "parcoords"
           }
          ],
          "pie": [
           {
            "automargin": true,
            "type": "pie"
           }
          ],
          "scatter": [
           {
            "marker": {
             "colorbar": {
              "outlinewidth": 0,
              "ticks": ""
             }
            },
            "type": "scatter"
           }
          ],
          "scatter3d": [
           {
            "line": {
             "colorbar": {
              "outlinewidth": 0,
              "ticks": ""
             }
            },
            "marker": {
             "colorbar": {
              "outlinewidth": 0,
              "ticks": ""
             }
            },
            "type": "scatter3d"
           }
          ],
          "scattercarpet": [
           {
            "marker": {
             "colorbar": {
              "outlinewidth": 0,
              "ticks": ""
             }
            },
            "type": "scattercarpet"
           }
          ],
          "scattergeo": [
           {
            "marker": {
             "colorbar": {
              "outlinewidth": 0,
              "ticks": ""
             }
            },
            "type": "scattergeo"
           }
          ],
          "scattergl": [
           {
            "marker": {
             "colorbar": {
              "outlinewidth": 0,
              "ticks": ""
             }
            },
            "type": "scattergl"
           }
          ],
          "scattermapbox": [
           {
            "marker": {
             "colorbar": {
              "outlinewidth": 0,
              "ticks": ""
             }
            },
            "type": "scattermapbox"
           }
          ],
          "scatterpolar": [
           {
            "marker": {
             "colorbar": {
              "outlinewidth": 0,
              "ticks": ""
             }
            },
            "type": "scatterpolar"
           }
          ],
          "scatterpolargl": [
           {
            "marker": {
             "colorbar": {
              "outlinewidth": 0,
              "ticks": ""
             }
            },
            "type": "scatterpolargl"
           }
          ],
          "scatterternary": [
           {
            "marker": {
             "colorbar": {
              "outlinewidth": 0,
              "ticks": ""
             }
            },
            "type": "scatterternary"
           }
          ],
          "surface": [
           {
            "colorbar": {
             "outlinewidth": 0,
             "ticks": ""
            },
            "colorscale": [
             [
              0,
              "#0d0887"
             ],
             [
              0.1111111111111111,
              "#46039f"
             ],
             [
              0.2222222222222222,
              "#7201a8"
             ],
             [
              0.3333333333333333,
              "#9c179e"
             ],
             [
              0.4444444444444444,
              "#bd3786"
             ],
             [
              0.5555555555555556,
              "#d8576b"
             ],
             [
              0.6666666666666666,
              "#ed7953"
             ],
             [
              0.7777777777777778,
              "#fb9f3a"
             ],
             [
              0.8888888888888888,
              "#fdca26"
             ],
             [
              1,
              "#f0f921"
             ]
            ],
            "type": "surface"
           }
          ],
          "table": [
           {
            "cells": {
             "fill": {
              "color": "#EBF0F8"
             },
             "line": {
              "color": "white"
             }
            },
            "header": {
             "fill": {
              "color": "#C8D4E3"
             },
             "line": {
              "color": "white"
             }
            },
            "type": "table"
           }
          ]
         },
         "layout": {
          "annotationdefaults": {
           "arrowcolor": "#2a3f5f",
           "arrowhead": 0,
           "arrowwidth": 1
          },
          "autotypenumbers": "strict",
          "coloraxis": {
           "colorbar": {
            "outlinewidth": 0,
            "ticks": ""
           }
          },
          "colorscale": {
           "diverging": [
            [
             0,
             "#8e0152"
            ],
            [
             0.1,
             "#c51b7d"
            ],
            [
             0.2,
             "#de77ae"
            ],
            [
             0.3,
             "#f1b6da"
            ],
            [
             0.4,
             "#fde0ef"
            ],
            [
             0.5,
             "#f7f7f7"
            ],
            [
             0.6,
             "#e6f5d0"
            ],
            [
             0.7,
             "#b8e186"
            ],
            [
             0.8,
             "#7fbc41"
            ],
            [
             0.9,
             "#4d9221"
            ],
            [
             1,
             "#276419"
            ]
           ],
           "sequential": [
            [
             0,
             "#0d0887"
            ],
            [
             0.1111111111111111,
             "#46039f"
            ],
            [
             0.2222222222222222,
             "#7201a8"
            ],
            [
             0.3333333333333333,
             "#9c179e"
            ],
            [
             0.4444444444444444,
             "#bd3786"
            ],
            [
             0.5555555555555556,
             "#d8576b"
            ],
            [
             0.6666666666666666,
             "#ed7953"
            ],
            [
             0.7777777777777778,
             "#fb9f3a"
            ],
            [
             0.8888888888888888,
             "#fdca26"
            ],
            [
             1,
             "#f0f921"
            ]
           ],
           "sequentialminus": [
            [
             0,
             "#0d0887"
            ],
            [
             0.1111111111111111,
             "#46039f"
            ],
            [
             0.2222222222222222,
             "#7201a8"
            ],
            [
             0.3333333333333333,
             "#9c179e"
            ],
            [
             0.4444444444444444,
             "#bd3786"
            ],
            [
             0.5555555555555556,
             "#d8576b"
            ],
            [
             0.6666666666666666,
             "#ed7953"
            ],
            [
             0.7777777777777778,
             "#fb9f3a"
            ],
            [
             0.8888888888888888,
             "#fdca26"
            ],
            [
             1,
             "#f0f921"
            ]
           ]
          },
          "colorway": [
           "#636efa",
           "#EF553B",
           "#00cc96",
           "#ab63fa",
           "#FFA15A",
           "#19d3f3",
           "#FF6692",
           "#B6E880",
           "#FF97FF",
           "#FECB52"
          ],
          "font": {
           "color": "#2a3f5f"
          },
          "geo": {
           "bgcolor": "white",
           "lakecolor": "white",
           "landcolor": "#E5ECF6",
           "showlakes": true,
           "showland": true,
           "subunitcolor": "white"
          },
          "hoverlabel": {
           "align": "left"
          },
          "hovermode": "closest",
          "mapbox": {
           "style": "light"
          },
          "paper_bgcolor": "white",
          "plot_bgcolor": "#E5ECF6",
          "polar": {
           "angularaxis": {
            "gridcolor": "white",
            "linecolor": "white",
            "ticks": ""
           },
           "bgcolor": "#E5ECF6",
           "radialaxis": {
            "gridcolor": "white",
            "linecolor": "white",
            "ticks": ""
           }
          },
          "scene": {
           "xaxis": {
            "backgroundcolor": "#E5ECF6",
            "gridcolor": "white",
            "gridwidth": 2,
            "linecolor": "white",
            "showbackground": true,
            "ticks": "",
            "zerolinecolor": "white"
           },
           "yaxis": {
            "backgroundcolor": "#E5ECF6",
            "gridcolor": "white",
            "gridwidth": 2,
            "linecolor": "white",
            "showbackground": true,
            "ticks": "",
            "zerolinecolor": "white"
           },
           "zaxis": {
            "backgroundcolor": "#E5ECF6",
            "gridcolor": "white",
            "gridwidth": 2,
            "linecolor": "white",
            "showbackground": true,
            "ticks": "",
            "zerolinecolor": "white"
           }
          },
          "shapedefaults": {
           "line": {
            "color": "#2a3f5f"
           }
          },
          "ternary": {
           "aaxis": {
            "gridcolor": "white",
            "linecolor": "white",
            "ticks": ""
           },
           "baxis": {
            "gridcolor": "white",
            "linecolor": "white",
            "ticks": ""
           },
           "bgcolor": "#E5ECF6",
           "caxis": {
            "gridcolor": "white",
            "linecolor": "white",
            "ticks": ""
           }
          },
          "title": {
           "x": 0.05
          },
          "xaxis": {
           "automargin": true,
           "gridcolor": "white",
           "linecolor": "white",
           "ticks": "",
           "title": {
            "standoff": 15
           },
           "zerolinecolor": "white",
           "zerolinewidth": 2
          },
          "yaxis": {
           "automargin": true,
           "gridcolor": "white",
           "linecolor": "white",
           "ticks": "",
           "title": {
            "standoff": 15
           },
           "zerolinecolor": "white",
           "zerolinewidth": 2
          }
         }
        },
        "title": {
         "text": "<b>귀하는 강원세계산림엑스포의 가장 기대되는 프로그램이 무엇입니까? - 1순위</b>"
        },
        "width": 1400
       }
      }
     },
     "metadata": {},
     "output_type": "display_data"
    }
   ],
   "source": [
    "# 빈도를 비율로 변환\n",
    "frequency3_1['비율'] = frequency3_1['1순위'] / frequency3_1['1순위'].sum()\n",
    "\n",
    "# 파이 차트 시각화 (크기 조절)\n",
    "fig = px.pie(frequency3_1, values='비율', names='값', title=\"<b>귀하는 강원세계산림엑스포의 가장 기대되는 프로그램이 무엇입니까? - 1순위</b>\", hole=0.2,\n",
    "                color_discrete_sequence=color_scale)\n",
    "\n",
    "fig.update_layout(\n",
    "    font=dict(size=13),\n",
    "    height=900,  # 그림의 높이 설정\n",
    "    width=1400,    # 그림의 너비 설정\n",
    "    legend=dict(x=1.3, y=0.5)  # 범례 위치 조정 (x, y 조절 가능)\n",
    ")\n",
    "# 차트 내에 비율 숫자 직접 표시\n",
    "pull_lst = [0.01] * 12\n",
    "fig.update_traces(textinfo='percent+label', pull=pull_lst, insidetextorientation='horizontal')  # 비율 숫자를 라벨과 함께 표시\n",
    "\n",
    "fig.show()"
   ]
  },
  {
   "cell_type": "code",
   "execution_count": null,
   "metadata": {},
   "outputs": [],
   "source": [
    "# 빈도를 비율로 변환\n",
    "frequency3_2['비율'] = frequency3_2['2순위'] / frequency3_2['2순위'].sum()\n",
    "\n",
    "# 파이 차트 시각화 (크기 조절)\n",
    "fig = px.pie(frequency3_2, values='비율', names='값', title=\"<b>귀하는 강원세계산림엑스포의 가장 기대되는 프로그램이 무엇입니까? - 2순위</b>\", hole=0.2,\n",
    "                color_discrete_sequence=color_scale)\n",
    "fig.update_layout(\n",
    "    font=dict(size=13),\n",
    "    height=900,  # 그림의 높이 설정\n",
    "    width=1400,    # 그림의 너비 설정\n",
    "    legend=dict(x=1.3, y=1.1)  # 범례 위치 조정 (x, y 조절 가능)\n",
    ")\n",
    "# 차트 내에 비율 숫자 직접 표시\n",
    "pull_lst = [0.01] * 12\n",
    "fig.update_traces(textinfo='percent+label', pull=pull_lst, insidetextorientation='horizontal')  # 비율 숫자를 라벨과 함께 표시\n",
    "\n",
    "fig.show()"
   ]
  },
  {
   "cell_type": "code",
   "execution_count": 21,
   "metadata": {},
   "outputs": [
    {
     "data": {
      "application/vnd.plotly.v1+json": {
       "config": {
        "plotlyServerURL": "https://plot.ly"
       },
       "data": [
        {
         "domain": {
          "x": [
           0,
           1
          ],
          "y": [
           0,
           1
          ]
         },
         "hole": 0.2,
         "hovertemplate": "값=%{label}<br>비율=%{value}<extra></extra>",
         "insidetextorientation": "horizontal",
         "labels": [
          "전시 관람 활동(예 : 푸른지구관, 산림평화관, 문화유산관 등)",
          "문화·예술 참여 행사(예 : 나무장난감 놀이마당축제 등)",
          "문화·예술 관람 행사(예 : 뮤직콘서트, 뮤지컬 갈라쇼 등)",
          "체험 활동(예 : 저탄소 업사이클링 공예체험 등)",
          "관광 활동(예 : 설악산 자생식물원, 용대관광단지 등)",
          "학습 행사(예 : 산림과학 학술대회 등)",
          "레포츠 행사(예 : 전국 스포츠 클라이밍 대회 등)",
          "사회 활동(예 : 개·폐회식 참여, 인적교류 등) "
         ],
         "legendgroup": "",
         "name": "",
         "pull": [
          0.01,
          0.01,
          0.01,
          0.01,
          0.01,
          0.01,
          0.01,
          0.01,
          0.01,
          0.01,
          0.01,
          0.01
         ],
         "showlegend": true,
         "textinfo": "percent+label",
         "type": "pie",
         "values": [
          0.22857142857142856,
          0.18095238095238095,
          0.17142857142857143,
          0.15714285714285714,
          0.11904761904761904,
          0.07142857142857142,
          0.04285714285714286,
          0.02857142857142857
         ]
        }
       ],
       "layout": {
        "font": {
         "size": 13
        },
        "height": 900,
        "legend": {
         "tracegroupgap": 0,
         "x": 1.3,
         "y": 1.1
        },
        "piecolorway": [
         "rgb(5,31,69)",
         "rgb(8,48,107)",
         "rgb(11,62,138)",
         "rgb(8,81,156)",
         "rgb(7,90,176)",
         "rgb(33,113,181)",
         "rgb(66,146,198)",
         "rgb(81,157,207)",
         "rgb(107,174,214)",
         "rgb(158,202,225)",
         "rgb(198,219,239)",
         "rgb(222,235,247)",
         "rgb(247,251,255)"
        ],
        "template": {
         "data": {
          "bar": [
           {
            "error_x": {
             "color": "#2a3f5f"
            },
            "error_y": {
             "color": "#2a3f5f"
            },
            "marker": {
             "line": {
              "color": "#E5ECF6",
              "width": 0.5
             }
            },
            "type": "bar"
           }
          ],
          "barpolar": [
           {
            "marker": {
             "line": {
              "color": "#E5ECF6",
              "width": 0.5
             }
            },
            "type": "barpolar"
           }
          ],
          "carpet": [
           {
            "aaxis": {
             "endlinecolor": "#2a3f5f",
             "gridcolor": "white",
             "linecolor": "white",
             "minorgridcolor": "white",
             "startlinecolor": "#2a3f5f"
            },
            "baxis": {
             "endlinecolor": "#2a3f5f",
             "gridcolor": "white",
             "linecolor": "white",
             "minorgridcolor": "white",
             "startlinecolor": "#2a3f5f"
            },
            "type": "carpet"
           }
          ],
          "choropleth": [
           {
            "colorbar": {
             "outlinewidth": 0,
             "ticks": ""
            },
            "type": "choropleth"
           }
          ],
          "contour": [
           {
            "colorbar": {
             "outlinewidth": 0,
             "ticks": ""
            },
            "colorscale": [
             [
              0,
              "#0d0887"
             ],
             [
              0.1111111111111111,
              "#46039f"
             ],
             [
              0.2222222222222222,
              "#7201a8"
             ],
             [
              0.3333333333333333,
              "#9c179e"
             ],
             [
              0.4444444444444444,
              "#bd3786"
             ],
             [
              0.5555555555555556,
              "#d8576b"
             ],
             [
              0.6666666666666666,
              "#ed7953"
             ],
             [
              0.7777777777777778,
              "#fb9f3a"
             ],
             [
              0.8888888888888888,
              "#fdca26"
             ],
             [
              1,
              "#f0f921"
             ]
            ],
            "type": "contour"
           }
          ],
          "contourcarpet": [
           {
            "colorbar": {
             "outlinewidth": 0,
             "ticks": ""
            },
            "type": "contourcarpet"
           }
          ],
          "heatmap": [
           {
            "colorbar": {
             "outlinewidth": 0,
             "ticks": ""
            },
            "colorscale": [
             [
              0,
              "#0d0887"
             ],
             [
              0.1111111111111111,
              "#46039f"
             ],
             [
              0.2222222222222222,
              "#7201a8"
             ],
             [
              0.3333333333333333,
              "#9c179e"
             ],
             [
              0.4444444444444444,
              "#bd3786"
             ],
             [
              0.5555555555555556,
              "#d8576b"
             ],
             [
              0.6666666666666666,
              "#ed7953"
             ],
             [
              0.7777777777777778,
              "#fb9f3a"
             ],
             [
              0.8888888888888888,
              "#fdca26"
             ],
             [
              1,
              "#f0f921"
             ]
            ],
            "type": "heatmap"
           }
          ],
          "heatmapgl": [
           {
            "colorbar": {
             "outlinewidth": 0,
             "ticks": ""
            },
            "colorscale": [
             [
              0,
              "#0d0887"
             ],
             [
              0.1111111111111111,
              "#46039f"
             ],
             [
              0.2222222222222222,
              "#7201a8"
             ],
             [
              0.3333333333333333,
              "#9c179e"
             ],
             [
              0.4444444444444444,
              "#bd3786"
             ],
             [
              0.5555555555555556,
              "#d8576b"
             ],
             [
              0.6666666666666666,
              "#ed7953"
             ],
             [
              0.7777777777777778,
              "#fb9f3a"
             ],
             [
              0.8888888888888888,
              "#fdca26"
             ],
             [
              1,
              "#f0f921"
             ]
            ],
            "type": "heatmapgl"
           }
          ],
          "histogram": [
           {
            "marker": {
             "colorbar": {
              "outlinewidth": 0,
              "ticks": ""
             }
            },
            "type": "histogram"
           }
          ],
          "histogram2d": [
           {
            "colorbar": {
             "outlinewidth": 0,
             "ticks": ""
            },
            "colorscale": [
             [
              0,
              "#0d0887"
             ],
             [
              0.1111111111111111,
              "#46039f"
             ],
             [
              0.2222222222222222,
              "#7201a8"
             ],
             [
              0.3333333333333333,
              "#9c179e"
             ],
             [
              0.4444444444444444,
              "#bd3786"
             ],
             [
              0.5555555555555556,
              "#d8576b"
             ],
             [
              0.6666666666666666,
              "#ed7953"
             ],
             [
              0.7777777777777778,
              "#fb9f3a"
             ],
             [
              0.8888888888888888,
              "#fdca26"
             ],
             [
              1,
              "#f0f921"
             ]
            ],
            "type": "histogram2d"
           }
          ],
          "histogram2dcontour": [
           {
            "colorbar": {
             "outlinewidth": 0,
             "ticks": ""
            },
            "colorscale": [
             [
              0,
              "#0d0887"
             ],
             [
              0.1111111111111111,
              "#46039f"
             ],
             [
              0.2222222222222222,
              "#7201a8"
             ],
             [
              0.3333333333333333,
              "#9c179e"
             ],
             [
              0.4444444444444444,
              "#bd3786"
             ],
             [
              0.5555555555555556,
              "#d8576b"
             ],
             [
              0.6666666666666666,
              "#ed7953"
             ],
             [
              0.7777777777777778,
              "#fb9f3a"
             ],
             [
              0.8888888888888888,
              "#fdca26"
             ],
             [
              1,
              "#f0f921"
             ]
            ],
            "type": "histogram2dcontour"
           }
          ],
          "mesh3d": [
           {
            "colorbar": {
             "outlinewidth": 0,
             "ticks": ""
            },
            "type": "mesh3d"
           }
          ],
          "parcoords": [
           {
            "line": {
             "colorbar": {
              "outlinewidth": 0,
              "ticks": ""
             }
            },
            "type": "parcoords"
           }
          ],
          "pie": [
           {
            "automargin": true,
            "type": "pie"
           }
          ],
          "scatter": [
           {
            "marker": {
             "colorbar": {
              "outlinewidth": 0,
              "ticks": ""
             }
            },
            "type": "scatter"
           }
          ],
          "scatter3d": [
           {
            "line": {
             "colorbar": {
              "outlinewidth": 0,
              "ticks": ""
             }
            },
            "marker": {
             "colorbar": {
              "outlinewidth": 0,
              "ticks": ""
             }
            },
            "type": "scatter3d"
           }
          ],
          "scattercarpet": [
           {
            "marker": {
             "colorbar": {
              "outlinewidth": 0,
              "ticks": ""
             }
            },
            "type": "scattercarpet"
           }
          ],
          "scattergeo": [
           {
            "marker": {
             "colorbar": {
              "outlinewidth": 0,
              "ticks": ""
             }
            },
            "type": "scattergeo"
           }
          ],
          "scattergl": [
           {
            "marker": {
             "colorbar": {
              "outlinewidth": 0,
              "ticks": ""
             }
            },
            "type": "scattergl"
           }
          ],
          "scattermapbox": [
           {
            "marker": {
             "colorbar": {
              "outlinewidth": 0,
              "ticks": ""
             }
            },
            "type": "scattermapbox"
           }
          ],
          "scatterpolar": [
           {
            "marker": {
             "colorbar": {
              "outlinewidth": 0,
              "ticks": ""
             }
            },
            "type": "scatterpolar"
           }
          ],
          "scatterpolargl": [
           {
            "marker": {
             "colorbar": {
              "outlinewidth": 0,
              "ticks": ""
             }
            },
            "type": "scatterpolargl"
           }
          ],
          "scatterternary": [
           {
            "marker": {
             "colorbar": {
              "outlinewidth": 0,
              "ticks": ""
             }
            },
            "type": "scatterternary"
           }
          ],
          "surface": [
           {
            "colorbar": {
             "outlinewidth": 0,
             "ticks": ""
            },
            "colorscale": [
             [
              0,
              "#0d0887"
             ],
             [
              0.1111111111111111,
              "#46039f"
             ],
             [
              0.2222222222222222,
              "#7201a8"
             ],
             [
              0.3333333333333333,
              "#9c179e"
             ],
             [
              0.4444444444444444,
              "#bd3786"
             ],
             [
              0.5555555555555556,
              "#d8576b"
             ],
             [
              0.6666666666666666,
              "#ed7953"
             ],
             [
              0.7777777777777778,
              "#fb9f3a"
             ],
             [
              0.8888888888888888,
              "#fdca26"
             ],
             [
              1,
              "#f0f921"
             ]
            ],
            "type": "surface"
           }
          ],
          "table": [
           {
            "cells": {
             "fill": {
              "color": "#EBF0F8"
             },
             "line": {
              "color": "white"
             }
            },
            "header": {
             "fill": {
              "color": "#C8D4E3"
             },
             "line": {
              "color": "white"
             }
            },
            "type": "table"
           }
          ]
         },
         "layout": {
          "annotationdefaults": {
           "arrowcolor": "#2a3f5f",
           "arrowhead": 0,
           "arrowwidth": 1
          },
          "autotypenumbers": "strict",
          "coloraxis": {
           "colorbar": {
            "outlinewidth": 0,
            "ticks": ""
           }
          },
          "colorscale": {
           "diverging": [
            [
             0,
             "#8e0152"
            ],
            [
             0.1,
             "#c51b7d"
            ],
            [
             0.2,
             "#de77ae"
            ],
            [
             0.3,
             "#f1b6da"
            ],
            [
             0.4,
             "#fde0ef"
            ],
            [
             0.5,
             "#f7f7f7"
            ],
            [
             0.6,
             "#e6f5d0"
            ],
            [
             0.7,
             "#b8e186"
            ],
            [
             0.8,
             "#7fbc41"
            ],
            [
             0.9,
             "#4d9221"
            ],
            [
             1,
             "#276419"
            ]
           ],
           "sequential": [
            [
             0,
             "#0d0887"
            ],
            [
             0.1111111111111111,
             "#46039f"
            ],
            [
             0.2222222222222222,
             "#7201a8"
            ],
            [
             0.3333333333333333,
             "#9c179e"
            ],
            [
             0.4444444444444444,
             "#bd3786"
            ],
            [
             0.5555555555555556,
             "#d8576b"
            ],
            [
             0.6666666666666666,
             "#ed7953"
            ],
            [
             0.7777777777777778,
             "#fb9f3a"
            ],
            [
             0.8888888888888888,
             "#fdca26"
            ],
            [
             1,
             "#f0f921"
            ]
           ],
           "sequentialminus": [
            [
             0,
             "#0d0887"
            ],
            [
             0.1111111111111111,
             "#46039f"
            ],
            [
             0.2222222222222222,
             "#7201a8"
            ],
            [
             0.3333333333333333,
             "#9c179e"
            ],
            [
             0.4444444444444444,
             "#bd3786"
            ],
            [
             0.5555555555555556,
             "#d8576b"
            ],
            [
             0.6666666666666666,
             "#ed7953"
            ],
            [
             0.7777777777777778,
             "#fb9f3a"
            ],
            [
             0.8888888888888888,
             "#fdca26"
            ],
            [
             1,
             "#f0f921"
            ]
           ]
          },
          "colorway": [
           "#636efa",
           "#EF553B",
           "#00cc96",
           "#ab63fa",
           "#FFA15A",
           "#19d3f3",
           "#FF6692",
           "#B6E880",
           "#FF97FF",
           "#FECB52"
          ],
          "font": {
           "color": "#2a3f5f"
          },
          "geo": {
           "bgcolor": "white",
           "lakecolor": "white",
           "landcolor": "#E5ECF6",
           "showlakes": true,
           "showland": true,
           "subunitcolor": "white"
          },
          "hoverlabel": {
           "align": "left"
          },
          "hovermode": "closest",
          "mapbox": {
           "style": "light"
          },
          "paper_bgcolor": "white",
          "plot_bgcolor": "#E5ECF6",
          "polar": {
           "angularaxis": {
            "gridcolor": "white",
            "linecolor": "white",
            "ticks": ""
           },
           "bgcolor": "#E5ECF6",
           "radialaxis": {
            "gridcolor": "white",
            "linecolor": "white",
            "ticks": ""
           }
          },
          "scene": {
           "xaxis": {
            "backgroundcolor": "#E5ECF6",
            "gridcolor": "white",
            "gridwidth": 2,
            "linecolor": "white",
            "showbackground": true,
            "ticks": "",
            "zerolinecolor": "white"
           },
           "yaxis": {
            "backgroundcolor": "#E5ECF6",
            "gridcolor": "white",
            "gridwidth": 2,
            "linecolor": "white",
            "showbackground": true,
            "ticks": "",
            "zerolinecolor": "white"
           },
           "zaxis": {
            "backgroundcolor": "#E5ECF6",
            "gridcolor": "white",
            "gridwidth": 2,
            "linecolor": "white",
            "showbackground": true,
            "ticks": "",
            "zerolinecolor": "white"
           }
          },
          "shapedefaults": {
           "line": {
            "color": "#2a3f5f"
           }
          },
          "ternary": {
           "aaxis": {
            "gridcolor": "white",
            "linecolor": "white",
            "ticks": ""
           },
           "baxis": {
            "gridcolor": "white",
            "linecolor": "white",
            "ticks": ""
           },
           "bgcolor": "#E5ECF6",
           "caxis": {
            "gridcolor": "white",
            "linecolor": "white",
            "ticks": ""
           }
          },
          "title": {
           "x": 0.05
          },
          "xaxis": {
           "automargin": true,
           "gridcolor": "white",
           "linecolor": "white",
           "ticks": "",
           "title": {
            "standoff": 15
           },
           "zerolinecolor": "white",
           "zerolinewidth": 2
          },
          "yaxis": {
           "automargin": true,
           "gridcolor": "white",
           "linecolor": "white",
           "ticks": "",
           "title": {
            "standoff": 15
           },
           "zerolinecolor": "white",
           "zerolinewidth": 2
          }
         }
        },
        "title": {
         "text": "<b>귀하는 강원세계산림엑스포의 가장 기대되는 프로그램이 무엇입니까? - 1순위+2순위</b>"
        },
        "width": 1400
       }
      }
     },
     "metadata": {},
     "output_type": "display_data"
    }
   ],
   "source": [
    "# 빈도를 비율로 변환\n",
    "frequency3_C['비율'] = frequency3_C['1순위+2순위_빈도'] / frequency3_C['1순위+2순위_빈도'].sum()\n",
    "\n",
    "# 파이 차트 시각화 (크기 조절)\n",
    "fig = px.pie(frequency3_C, values='비율', names='값', title=\"<b>귀하는 강원세계산림엑스포의 가장 기대되는 프로그램이 무엇입니까? - 1순위+2순위</b>\", hole=0.2,\n",
    "                color_discrete_sequence=color_scale)\n",
    "fig.update_layout(\n",
    "    font=dict(size=13),\n",
    "    height=900,  # 그림의 높이 설정\n",
    "    width=1400,    # 그림의 너비 설정\n",
    "    legend=dict(x=1.3, y=1.1)  # 범례 위치 조정 (x, y 조절 가능)\n",
    ")\n",
    "# 차트 내에 비율 숫자 직접 표시\n",
    "pull_lst = [0.01] * 12\n",
    "fig.update_traces(textinfo='percent+label', pull=pull_lst, insidetextorientation='horizontal')  # 비율 숫자를 라벨과 함께 표시\n",
    "\n",
    "fig.show()"
   ]
  },
  {
   "attachments": {},
   "cell_type": "markdown",
   "metadata": {},
   "source": [
    "### 1순위 합산한 표 생성"
   ]
  },
  {
   "cell_type": "code",
   "execution_count": 47,
   "metadata": {},
   "outputs": [
    {
     "name": "stderr",
     "output_type": "stream",
     "text": [
      "C:\\Users\\user\\AppData\\Local\\Temp\\ipykernel_19340\\2741820065.py:46: FutureWarning:\n",
      "\n",
      "The behavior of DataFrame concatenation with empty or all-NA entries is deprecated. In a future version, this will no longer exclude empty or all-NA columns when determining the result dtypes. To retain the old behavior, exclude the relevant entries before the concat operation.\n",
      "\n"
     ]
    },
    {
     "data": {
      "text/html": [
       "<div>\n",
       "<style scoped>\n",
       "    .dataframe tbody tr th:only-of-type {\n",
       "        vertical-align: middle;\n",
       "    }\n",
       "\n",
       "    .dataframe tbody tr th {\n",
       "        vertical-align: top;\n",
       "    }\n",
       "\n",
       "    .dataframe thead th {\n",
       "        text-align: right;\n",
       "    }\n",
       "</style>\n",
       "<table border=\"1\" class=\"dataframe\">\n",
       "  <thead>\n",
       "    <tr style=\"text-align: right;\">\n",
       "      <th></th>\n",
       "      <th></th>\n",
       "      <th>문화·예술 관람 행사(예 : 뮤직콘서트, 뮤지컬 갈라쇼 등)-빈도</th>\n",
       "      <th>문화·예술 관람 행사(예 : 뮤직콘서트, 뮤지컬 갈라쇼 등)-비율</th>\n",
       "      <th>문화·예술 참여 행사(예 : 나무장난감 놀이마당축제 등)-빈도</th>\n",
       "      <th>문화·예술 참여 행사(예 : 나무장난감 놀이마당축제 등)-비율</th>\n",
       "      <th>레포츠 행사(예 : 전국 스포츠 클라이밍 대회 등)-빈도</th>\n",
       "      <th>레포츠 행사(예 : 전국 스포츠 클라이밍 대회 등)-비율</th>\n",
       "      <th>학습 행사(예 : 산림과학 학술대회 등)-빈도</th>\n",
       "      <th>학습 행사(예 : 산림과학 학술대회 등)-비율</th>\n",
       "      <th>관광 활동(예 : 설악산 자생식물원, 용대관광단지 등)-빈도</th>\n",
       "      <th>관광 활동(예 : 설악산 자생식물원, 용대관광단지 등)-비율</th>\n",
       "      <th>전시 관람 활동(예 : 푸른지구관, 산림평화관, 문화유산관 등)-빈도</th>\n",
       "      <th>전시 관람 활동(예 : 푸른지구관, 산림평화관, 문화유산관 등)-비율</th>\n",
       "      <th>체험 활동(예 : 저탄소 업사이클링 공예체험 등)-빈도</th>\n",
       "      <th>체험 활동(예 : 저탄소 업사이클링 공예체험 등)-비율</th>\n",
       "      <th>사회 활동(예 : 개·폐회식 참여, 인적교류 등) -빈도</th>\n",
       "      <th>사회 활동(예 : 개·폐회식 참여, 인적교류 등) -비율</th>\n",
       "      <th>기타-빈도</th>\n",
       "      <th>기타-비율</th>\n",
       "      <th>사례수</th>\n",
       "    </tr>\n",
       "  </thead>\n",
       "  <tbody>\n",
       "    <tr>\n",
       "      <th rowspan=\"2\" valign=\"top\">성별</th>\n",
       "      <th>남성</th>\n",
       "      <td>8</td>\n",
       "      <td>16.0</td>\n",
       "      <td>5</td>\n",
       "      <td>10.0</td>\n",
       "      <td>3</td>\n",
       "      <td>6.0</td>\n",
       "      <td>3</td>\n",
       "      <td>6.0</td>\n",
       "      <td>6</td>\n",
       "      <td>12.0</td>\n",
       "      <td>15</td>\n",
       "      <td>30.0</td>\n",
       "      <td>9</td>\n",
       "      <td>18.0</td>\n",
       "      <td>1</td>\n",
       "      <td>2.0</td>\n",
       "      <td>0</td>\n",
       "      <td>0.0</td>\n",
       "      <td>50</td>\n",
       "    </tr>\n",
       "    <tr>\n",
       "      <th>여성</th>\n",
       "      <td>19</td>\n",
       "      <td>34.5</td>\n",
       "      <td>7</td>\n",
       "      <td>12.7</td>\n",
       "      <td>1</td>\n",
       "      <td>1.8</td>\n",
       "      <td>1</td>\n",
       "      <td>1.8</td>\n",
       "      <td>7</td>\n",
       "      <td>12.7</td>\n",
       "      <td>11</td>\n",
       "      <td>20.0</td>\n",
       "      <td>8</td>\n",
       "      <td>14.5</td>\n",
       "      <td>1</td>\n",
       "      <td>1.8</td>\n",
       "      <td>0</td>\n",
       "      <td>0.0</td>\n",
       "      <td>55</td>\n",
       "    </tr>\n",
       "    <tr>\n",
       "      <th rowspan=\"6\" valign=\"top\">연령</th>\n",
       "      <th>10대(15세이상)</th>\n",
       "      <td>1</td>\n",
       "      <td>14.3</td>\n",
       "      <td>3</td>\n",
       "      <td>42.9</td>\n",
       "      <td>0</td>\n",
       "      <td>0.0</td>\n",
       "      <td>0</td>\n",
       "      <td>0.0</td>\n",
       "      <td>1</td>\n",
       "      <td>14.3</td>\n",
       "      <td>1</td>\n",
       "      <td>14.3</td>\n",
       "      <td>1</td>\n",
       "      <td>14.3</td>\n",
       "      <td>0</td>\n",
       "      <td>0.0</td>\n",
       "      <td>0</td>\n",
       "      <td>0.0</td>\n",
       "      <td>7</td>\n",
       "    </tr>\n",
       "    <tr>\n",
       "      <th>20대</th>\n",
       "      <td>4</td>\n",
       "      <td>14.3</td>\n",
       "      <td>2</td>\n",
       "      <td>7.1</td>\n",
       "      <td>1</td>\n",
       "      <td>3.6</td>\n",
       "      <td>1</td>\n",
       "      <td>3.6</td>\n",
       "      <td>5</td>\n",
       "      <td>17.9</td>\n",
       "      <td>9</td>\n",
       "      <td>32.1</td>\n",
       "      <td>5</td>\n",
       "      <td>17.9</td>\n",
       "      <td>1</td>\n",
       "      <td>3.6</td>\n",
       "      <td>0</td>\n",
       "      <td>0.0</td>\n",
       "      <td>28</td>\n",
       "    </tr>\n",
       "    <tr>\n",
       "      <th>30대</th>\n",
       "      <td>3</td>\n",
       "      <td>21.4</td>\n",
       "      <td>1</td>\n",
       "      <td>7.1</td>\n",
       "      <td>0</td>\n",
       "      <td>0.0</td>\n",
       "      <td>0</td>\n",
       "      <td>0.0</td>\n",
       "      <td>1</td>\n",
       "      <td>7.1</td>\n",
       "      <td>7</td>\n",
       "      <td>50.0</td>\n",
       "      <td>1</td>\n",
       "      <td>7.1</td>\n",
       "      <td>1</td>\n",
       "      <td>7.1</td>\n",
       "      <td>0</td>\n",
       "      <td>0.0</td>\n",
       "      <td>14</td>\n",
       "    </tr>\n",
       "    <tr>\n",
       "      <th>40대</th>\n",
       "      <td>4</td>\n",
       "      <td>28.6</td>\n",
       "      <td>3</td>\n",
       "      <td>21.4</td>\n",
       "      <td>0</td>\n",
       "      <td>0.0</td>\n",
       "      <td>0</td>\n",
       "      <td>0.0</td>\n",
       "      <td>2</td>\n",
       "      <td>14.3</td>\n",
       "      <td>0</td>\n",
       "      <td>0.0</td>\n",
       "      <td>5</td>\n",
       "      <td>35.7</td>\n",
       "      <td>0</td>\n",
       "      <td>0.0</td>\n",
       "      <td>0</td>\n",
       "      <td>0.0</td>\n",
       "      <td>14</td>\n",
       "    </tr>\n",
       "    <tr>\n",
       "      <th>50대</th>\n",
       "      <td>6</td>\n",
       "      <td>31.6</td>\n",
       "      <td>1</td>\n",
       "      <td>5.3</td>\n",
       "      <td>2</td>\n",
       "      <td>10.5</td>\n",
       "      <td>1</td>\n",
       "      <td>5.3</td>\n",
       "      <td>2</td>\n",
       "      <td>10.5</td>\n",
       "      <td>4</td>\n",
       "      <td>21.1</td>\n",
       "      <td>3</td>\n",
       "      <td>15.8</td>\n",
       "      <td>0</td>\n",
       "      <td>0.0</td>\n",
       "      <td>0</td>\n",
       "      <td>0.0</td>\n",
       "      <td>19</td>\n",
       "    </tr>\n",
       "    <tr>\n",
       "      <th>60대이상</th>\n",
       "      <td>9</td>\n",
       "      <td>39.1</td>\n",
       "      <td>2</td>\n",
       "      <td>8.7</td>\n",
       "      <td>1</td>\n",
       "      <td>4.3</td>\n",
       "      <td>2</td>\n",
       "      <td>8.7</td>\n",
       "      <td>2</td>\n",
       "      <td>8.7</td>\n",
       "      <td>5</td>\n",
       "      <td>21.7</td>\n",
       "      <td>2</td>\n",
       "      <td>8.7</td>\n",
       "      <td>0</td>\n",
       "      <td>0.0</td>\n",
       "      <td>0</td>\n",
       "      <td>0.0</td>\n",
       "      <td>23</td>\n",
       "    </tr>\n",
       "    <tr>\n",
       "      <th rowspan=\"9\" valign=\"top\">학력</th>\n",
       "      <th>초등학교 졸업(무학 포함)</th>\n",
       "      <td>3</td>\n",
       "      <td>75.0</td>\n",
       "      <td>0</td>\n",
       "      <td>0.0</td>\n",
       "      <td>0</td>\n",
       "      <td>0.0</td>\n",
       "      <td>0</td>\n",
       "      <td>0.0</td>\n",
       "      <td>0</td>\n",
       "      <td>0.0</td>\n",
       "      <td>1</td>\n",
       "      <td>25.0</td>\n",
       "      <td>0</td>\n",
       "      <td>0.0</td>\n",
       "      <td>0</td>\n",
       "      <td>0.0</td>\n",
       "      <td>0</td>\n",
       "      <td>0.0</td>\n",
       "      <td>4</td>\n",
       "    </tr>\n",
       "    <tr>\n",
       "      <th>중학교 재학</th>\n",
       "      <td>3</td>\n",
       "      <td>30.0</td>\n",
       "      <td>3</td>\n",
       "      <td>30.0</td>\n",
       "      <td>0</td>\n",
       "      <td>0.0</td>\n",
       "      <td>0</td>\n",
       "      <td>0.0</td>\n",
       "      <td>1</td>\n",
       "      <td>10.0</td>\n",
       "      <td>2</td>\n",
       "      <td>20.0</td>\n",
       "      <td>1</td>\n",
       "      <td>10.0</td>\n",
       "      <td>0</td>\n",
       "      <td>0.0</td>\n",
       "      <td>0</td>\n",
       "      <td>0.0</td>\n",
       "      <td>10</td>\n",
       "    </tr>\n",
       "    <tr>\n",
       "      <th>중학교 졸업</th>\n",
       "      <td>2</td>\n",
       "      <td>50.0</td>\n",
       "      <td>0</td>\n",
       "      <td>0.0</td>\n",
       "      <td>0</td>\n",
       "      <td>0.0</td>\n",
       "      <td>1</td>\n",
       "      <td>25.0</td>\n",
       "      <td>1</td>\n",
       "      <td>25.0</td>\n",
       "      <td>0</td>\n",
       "      <td>0.0</td>\n",
       "      <td>0</td>\n",
       "      <td>0.0</td>\n",
       "      <td>0</td>\n",
       "      <td>0.0</td>\n",
       "      <td>0</td>\n",
       "      <td>0.0</td>\n",
       "      <td>4</td>\n",
       "    </tr>\n",
       "    <tr>\n",
       "      <th>고등학교 재학</th>\n",
       "      <td>2</td>\n",
       "      <td>100.0</td>\n",
       "      <td>0</td>\n",
       "      <td>0.0</td>\n",
       "      <td>0</td>\n",
       "      <td>0.0</td>\n",
       "      <td>0</td>\n",
       "      <td>0.0</td>\n",
       "      <td>0</td>\n",
       "      <td>0.0</td>\n",
       "      <td>0</td>\n",
       "      <td>0.0</td>\n",
       "      <td>0</td>\n",
       "      <td>0.0</td>\n",
       "      <td>0</td>\n",
       "      <td>0.0</td>\n",
       "      <td>0</td>\n",
       "      <td>0.0</td>\n",
       "      <td>2</td>\n",
       "    </tr>\n",
       "    <tr>\n",
       "      <th>고등학교 졸업</th>\n",
       "      <td>1</td>\n",
       "      <td>9.1</td>\n",
       "      <td>3</td>\n",
       "      <td>27.3</td>\n",
       "      <td>3</td>\n",
       "      <td>27.3</td>\n",
       "      <td>1</td>\n",
       "      <td>9.1</td>\n",
       "      <td>1</td>\n",
       "      <td>9.1</td>\n",
       "      <td>1</td>\n",
       "      <td>9.1</td>\n",
       "      <td>1</td>\n",
       "      <td>9.1</td>\n",
       "      <td>0</td>\n",
       "      <td>0.0</td>\n",
       "      <td>0</td>\n",
       "      <td>0.0</td>\n",
       "      <td>11</td>\n",
       "    </tr>\n",
       "    <tr>\n",
       "      <th>대학교 재학</th>\n",
       "      <td>2</td>\n",
       "      <td>8.0</td>\n",
       "      <td>3</td>\n",
       "      <td>12.0</td>\n",
       "      <td>1</td>\n",
       "      <td>4.0</td>\n",
       "      <td>1</td>\n",
       "      <td>4.0</td>\n",
       "      <td>5</td>\n",
       "      <td>20.0</td>\n",
       "      <td>9</td>\n",
       "      <td>36.0</td>\n",
       "      <td>4</td>\n",
       "      <td>16.0</td>\n",
       "      <td>0</td>\n",
       "      <td>0.0</td>\n",
       "      <td>0</td>\n",
       "      <td>0.0</td>\n",
       "      <td>25</td>\n",
       "    </tr>\n",
       "    <tr>\n",
       "      <th>대학교 졸업</th>\n",
       "      <td>12</td>\n",
       "      <td>28.6</td>\n",
       "      <td>3</td>\n",
       "      <td>7.1</td>\n",
       "      <td>0</td>\n",
       "      <td>0.0</td>\n",
       "      <td>1</td>\n",
       "      <td>2.4</td>\n",
       "      <td>4</td>\n",
       "      <td>9.5</td>\n",
       "      <td>12</td>\n",
       "      <td>28.6</td>\n",
       "      <td>8</td>\n",
       "      <td>19.0</td>\n",
       "      <td>2</td>\n",
       "      <td>4.8</td>\n",
       "      <td>0</td>\n",
       "      <td>0.0</td>\n",
       "      <td>42</td>\n",
       "    </tr>\n",
       "    <tr>\n",
       "      <th>대학원 재학(석사 또는 박사)</th>\n",
       "      <td>1</td>\n",
       "      <td>50.0</td>\n",
       "      <td>0</td>\n",
       "      <td>0.0</td>\n",
       "      <td>0</td>\n",
       "      <td>0.0</td>\n",
       "      <td>0</td>\n",
       "      <td>0.0</td>\n",
       "      <td>1</td>\n",
       "      <td>50.0</td>\n",
       "      <td>0</td>\n",
       "      <td>0.0</td>\n",
       "      <td>0</td>\n",
       "      <td>0.0</td>\n",
       "      <td>0</td>\n",
       "      <td>0.0</td>\n",
       "      <td>0</td>\n",
       "      <td>0.0</td>\n",
       "      <td>2</td>\n",
       "    </tr>\n",
       "    <tr>\n",
       "      <th>대학원 졸업(석사또는 박사)</th>\n",
       "      <td>1</td>\n",
       "      <td>20.0</td>\n",
       "      <td>0</td>\n",
       "      <td>0.0</td>\n",
       "      <td>0</td>\n",
       "      <td>0.0</td>\n",
       "      <td>0</td>\n",
       "      <td>0.0</td>\n",
       "      <td>0</td>\n",
       "      <td>0.0</td>\n",
       "      <td>1</td>\n",
       "      <td>20.0</td>\n",
       "      <td>3</td>\n",
       "      <td>60.0</td>\n",
       "      <td>0</td>\n",
       "      <td>0.0</td>\n",
       "      <td>0</td>\n",
       "      <td>0.0</td>\n",
       "      <td>5</td>\n",
       "    </tr>\n",
       "    <tr>\n",
       "      <th rowspan=\"17\" valign=\"top\">거주지역</th>\n",
       "      <th>서울</th>\n",
       "      <td>2</td>\n",
       "      <td>20.0</td>\n",
       "      <td>1</td>\n",
       "      <td>10.0</td>\n",
       "      <td>1</td>\n",
       "      <td>10.0</td>\n",
       "      <td>0</td>\n",
       "      <td>0.0</td>\n",
       "      <td>2</td>\n",
       "      <td>20.0</td>\n",
       "      <td>1</td>\n",
       "      <td>10.0</td>\n",
       "      <td>3</td>\n",
       "      <td>30.0</td>\n",
       "      <td>0</td>\n",
       "      <td>0.0</td>\n",
       "      <td>0</td>\n",
       "      <td>0.0</td>\n",
       "      <td>10</td>\n",
       "    </tr>\n",
       "    <tr>\n",
       "      <th>부산</th>\n",
       "      <td>0</td>\n",
       "      <td>0.0</td>\n",
       "      <td>0</td>\n",
       "      <td>0.0</td>\n",
       "      <td>0</td>\n",
       "      <td>0.0</td>\n",
       "      <td>0</td>\n",
       "      <td>0.0</td>\n",
       "      <td>0</td>\n",
       "      <td>0.0</td>\n",
       "      <td>0</td>\n",
       "      <td>0.0</td>\n",
       "      <td>0</td>\n",
       "      <td>0.0</td>\n",
       "      <td>0</td>\n",
       "      <td>0.0</td>\n",
       "      <td>0</td>\n",
       "      <td>0.0</td>\n",
       "      <td>0</td>\n",
       "    </tr>\n",
       "    <tr>\n",
       "      <th>대구</th>\n",
       "      <td>0</td>\n",
       "      <td>0.0</td>\n",
       "      <td>0</td>\n",
       "      <td>0.0</td>\n",
       "      <td>0</td>\n",
       "      <td>0.0</td>\n",
       "      <td>0</td>\n",
       "      <td>0.0</td>\n",
       "      <td>0</td>\n",
       "      <td>0.0</td>\n",
       "      <td>0</td>\n",
       "      <td>0.0</td>\n",
       "      <td>0</td>\n",
       "      <td>0.0</td>\n",
       "      <td>0</td>\n",
       "      <td>0.0</td>\n",
       "      <td>0</td>\n",
       "      <td>0.0</td>\n",
       "      <td>0</td>\n",
       "    </tr>\n",
       "    <tr>\n",
       "      <th>인천</th>\n",
       "      <td>0</td>\n",
       "      <td>0.0</td>\n",
       "      <td>1</td>\n",
       "      <td>50.0</td>\n",
       "      <td>0</td>\n",
       "      <td>0.0</td>\n",
       "      <td>0</td>\n",
       "      <td>0.0</td>\n",
       "      <td>0</td>\n",
       "      <td>0.0</td>\n",
       "      <td>1</td>\n",
       "      <td>50.0</td>\n",
       "      <td>0</td>\n",
       "      <td>0.0</td>\n",
       "      <td>0</td>\n",
       "      <td>0.0</td>\n",
       "      <td>0</td>\n",
       "      <td>0.0</td>\n",
       "      <td>2</td>\n",
       "    </tr>\n",
       "    <tr>\n",
       "      <th>광주</th>\n",
       "      <td>0</td>\n",
       "      <td>0.0</td>\n",
       "      <td>1</td>\n",
       "      <td>100.0</td>\n",
       "      <td>0</td>\n",
       "      <td>0.0</td>\n",
       "      <td>0</td>\n",
       "      <td>0.0</td>\n",
       "      <td>0</td>\n",
       "      <td>0.0</td>\n",
       "      <td>0</td>\n",
       "      <td>0.0</td>\n",
       "      <td>0</td>\n",
       "      <td>0.0</td>\n",
       "      <td>0</td>\n",
       "      <td>0.0</td>\n",
       "      <td>0</td>\n",
       "      <td>0.0</td>\n",
       "      <td>1</td>\n",
       "    </tr>\n",
       "    <tr>\n",
       "      <th>대전</th>\n",
       "      <td>0</td>\n",
       "      <td>0.0</td>\n",
       "      <td>0</td>\n",
       "      <td>0.0</td>\n",
       "      <td>0</td>\n",
       "      <td>0.0</td>\n",
       "      <td>0</td>\n",
       "      <td>0.0</td>\n",
       "      <td>0</td>\n",
       "      <td>0.0</td>\n",
       "      <td>0</td>\n",
       "      <td>0.0</td>\n",
       "      <td>0</td>\n",
       "      <td>0.0</td>\n",
       "      <td>0</td>\n",
       "      <td>0.0</td>\n",
       "      <td>0</td>\n",
       "      <td>0.0</td>\n",
       "      <td>0</td>\n",
       "    </tr>\n",
       "    <tr>\n",
       "      <th>울산</th>\n",
       "      <td>0</td>\n",
       "      <td>0.0</td>\n",
       "      <td>0</td>\n",
       "      <td>0.0</td>\n",
       "      <td>0</td>\n",
       "      <td>0.0</td>\n",
       "      <td>0</td>\n",
       "      <td>0.0</td>\n",
       "      <td>0</td>\n",
       "      <td>0.0</td>\n",
       "      <td>0</td>\n",
       "      <td>0.0</td>\n",
       "      <td>0</td>\n",
       "      <td>0.0</td>\n",
       "      <td>0</td>\n",
       "      <td>0.0</td>\n",
       "      <td>0</td>\n",
       "      <td>0.0</td>\n",
       "      <td>0</td>\n",
       "    </tr>\n",
       "    <tr>\n",
       "      <th>세종</th>\n",
       "      <td>0</td>\n",
       "      <td>0.0</td>\n",
       "      <td>0</td>\n",
       "      <td>0.0</td>\n",
       "      <td>0</td>\n",
       "      <td>0.0</td>\n",
       "      <td>0</td>\n",
       "      <td>0.0</td>\n",
       "      <td>0</td>\n",
       "      <td>0.0</td>\n",
       "      <td>0</td>\n",
       "      <td>0.0</td>\n",
       "      <td>0</td>\n",
       "      <td>0.0</td>\n",
       "      <td>0</td>\n",
       "      <td>0.0</td>\n",
       "      <td>0</td>\n",
       "      <td>0.0</td>\n",
       "      <td>0</td>\n",
       "    </tr>\n",
       "    <tr>\n",
       "      <th>경기</th>\n",
       "      <td>6</td>\n",
       "      <td>26.1</td>\n",
       "      <td>2</td>\n",
       "      <td>8.7</td>\n",
       "      <td>1</td>\n",
       "      <td>4.3</td>\n",
       "      <td>1</td>\n",
       "      <td>4.3</td>\n",
       "      <td>5</td>\n",
       "      <td>21.7</td>\n",
       "      <td>7</td>\n",
       "      <td>30.4</td>\n",
       "      <td>1</td>\n",
       "      <td>4.3</td>\n",
       "      <td>0</td>\n",
       "      <td>0.0</td>\n",
       "      <td>0</td>\n",
       "      <td>0.0</td>\n",
       "      <td>23</td>\n",
       "    </tr>\n",
       "    <tr>\n",
       "      <th>강원</th>\n",
       "      <td>19</td>\n",
       "      <td>28.4</td>\n",
       "      <td>7</td>\n",
       "      <td>10.4</td>\n",
       "      <td>2</td>\n",
       "      <td>3.0</td>\n",
       "      <td>3</td>\n",
       "      <td>4.5</td>\n",
       "      <td>5</td>\n",
       "      <td>7.5</td>\n",
       "      <td>16</td>\n",
       "      <td>23.9</td>\n",
       "      <td>13</td>\n",
       "      <td>19.4</td>\n",
       "      <td>2</td>\n",
       "      <td>3.0</td>\n",
       "      <td>0</td>\n",
       "      <td>0.0</td>\n",
       "      <td>67</td>\n",
       "    </tr>\n",
       "    <tr>\n",
       "      <th>충북</th>\n",
       "      <td>0</td>\n",
       "      <td>0.0</td>\n",
       "      <td>0</td>\n",
       "      <td>0.0</td>\n",
       "      <td>0</td>\n",
       "      <td>0.0</td>\n",
       "      <td>0</td>\n",
       "      <td>0.0</td>\n",
       "      <td>0</td>\n",
       "      <td>0.0</td>\n",
       "      <td>0</td>\n",
       "      <td>0.0</td>\n",
       "      <td>0</td>\n",
       "      <td>0.0</td>\n",
       "      <td>0</td>\n",
       "      <td>0.0</td>\n",
       "      <td>0</td>\n",
       "      <td>0.0</td>\n",
       "      <td>0</td>\n",
       "    </tr>\n",
       "    <tr>\n",
       "      <th>충남</th>\n",
       "      <td>0</td>\n",
       "      <td>0.0</td>\n",
       "      <td>0</td>\n",
       "      <td>0.0</td>\n",
       "      <td>0</td>\n",
       "      <td>0.0</td>\n",
       "      <td>0</td>\n",
       "      <td>0.0</td>\n",
       "      <td>0</td>\n",
       "      <td>0.0</td>\n",
       "      <td>0</td>\n",
       "      <td>0.0</td>\n",
       "      <td>0</td>\n",
       "      <td>0.0</td>\n",
       "      <td>0</td>\n",
       "      <td>0.0</td>\n",
       "      <td>0</td>\n",
       "      <td>0.0</td>\n",
       "      <td>0</td>\n",
       "    </tr>\n",
       "    <tr>\n",
       "      <th>전북</th>\n",
       "      <td>0</td>\n",
       "      <td>0.0</td>\n",
       "      <td>0</td>\n",
       "      <td>0.0</td>\n",
       "      <td>0</td>\n",
       "      <td>0.0</td>\n",
       "      <td>0</td>\n",
       "      <td>0.0</td>\n",
       "      <td>0</td>\n",
       "      <td>0.0</td>\n",
       "      <td>0</td>\n",
       "      <td>0.0</td>\n",
       "      <td>0</td>\n",
       "      <td>0.0</td>\n",
       "      <td>0</td>\n",
       "      <td>0.0</td>\n",
       "      <td>0</td>\n",
       "      <td>0.0</td>\n",
       "      <td>0</td>\n",
       "    </tr>\n",
       "    <tr>\n",
       "      <th>전남</th>\n",
       "      <td>0</td>\n",
       "      <td>0.0</td>\n",
       "      <td>0</td>\n",
       "      <td>0.0</td>\n",
       "      <td>0</td>\n",
       "      <td>0.0</td>\n",
       "      <td>0</td>\n",
       "      <td>0.0</td>\n",
       "      <td>1</td>\n",
       "      <td>100.0</td>\n",
       "      <td>0</td>\n",
       "      <td>0.0</td>\n",
       "      <td>0</td>\n",
       "      <td>0.0</td>\n",
       "      <td>0</td>\n",
       "      <td>0.0</td>\n",
       "      <td>0</td>\n",
       "      <td>0.0</td>\n",
       "      <td>1</td>\n",
       "    </tr>\n",
       "    <tr>\n",
       "      <th>경북</th>\n",
       "      <td>0</td>\n",
       "      <td>0.0</td>\n",
       "      <td>0</td>\n",
       "      <td>0.0</td>\n",
       "      <td>0</td>\n",
       "      <td>0.0</td>\n",
       "      <td>0</td>\n",
       "      <td>0.0</td>\n",
       "      <td>0</td>\n",
       "      <td>0.0</td>\n",
       "      <td>1</td>\n",
       "      <td>100.0</td>\n",
       "      <td>0</td>\n",
       "      <td>0.0</td>\n",
       "      <td>0</td>\n",
       "      <td>0.0</td>\n",
       "      <td>0</td>\n",
       "      <td>0.0</td>\n",
       "      <td>1</td>\n",
       "    </tr>\n",
       "    <tr>\n",
       "      <th>경남</th>\n",
       "      <td>0</td>\n",
       "      <td>0.0</td>\n",
       "      <td>0</td>\n",
       "      <td>0.0</td>\n",
       "      <td>0</td>\n",
       "      <td>0.0</td>\n",
       "      <td>0</td>\n",
       "      <td>0.0</td>\n",
       "      <td>0</td>\n",
       "      <td>0.0</td>\n",
       "      <td>0</td>\n",
       "      <td>0.0</td>\n",
       "      <td>0</td>\n",
       "      <td>0.0</td>\n",
       "      <td>0</td>\n",
       "      <td>0.0</td>\n",
       "      <td>0</td>\n",
       "      <td>0.0</td>\n",
       "      <td>0</td>\n",
       "    </tr>\n",
       "    <tr>\n",
       "      <th>제주</th>\n",
       "      <td>0</td>\n",
       "      <td>0.0</td>\n",
       "      <td>0</td>\n",
       "      <td>0.0</td>\n",
       "      <td>0</td>\n",
       "      <td>0.0</td>\n",
       "      <td>0</td>\n",
       "      <td>0.0</td>\n",
       "      <td>0</td>\n",
       "      <td>0.0</td>\n",
       "      <td>0</td>\n",
       "      <td>0.0</td>\n",
       "      <td>0</td>\n",
       "      <td>0.0</td>\n",
       "      <td>0</td>\n",
       "      <td>0.0</td>\n",
       "      <td>0</td>\n",
       "      <td>0.0</td>\n",
       "      <td>0</td>\n",
       "    </tr>\n",
       "    <tr>\n",
       "      <th rowspan=\"13\" valign=\"top\">직업</th>\n",
       "      <th>산림임업종사자</th>\n",
       "      <td>4</td>\n",
       "      <td>36.4</td>\n",
       "      <td>1</td>\n",
       "      <td>9.1</td>\n",
       "      <td>2</td>\n",
       "      <td>18.2</td>\n",
       "      <td>0</td>\n",
       "      <td>0.0</td>\n",
       "      <td>0</td>\n",
       "      <td>0.0</td>\n",
       "      <td>2</td>\n",
       "      <td>18.2</td>\n",
       "      <td>1</td>\n",
       "      <td>9.1</td>\n",
       "      <td>1</td>\n",
       "      <td>9.1</td>\n",
       "      <td>0</td>\n",
       "      <td>0.0</td>\n",
       "      <td>11</td>\n",
       "    </tr>\n",
       "    <tr>\n",
       "      <th>사무종사자</th>\n",
       "      <td>0</td>\n",
       "      <td>0.0</td>\n",
       "      <td>0</td>\n",
       "      <td>0.0</td>\n",
       "      <td>0</td>\n",
       "      <td>0.0</td>\n",
       "      <td>1</td>\n",
       "      <td>25.0</td>\n",
       "      <td>2</td>\n",
       "      <td>50.0</td>\n",
       "      <td>1</td>\n",
       "      <td>25.0</td>\n",
       "      <td>0</td>\n",
       "      <td>0.0</td>\n",
       "      <td>0</td>\n",
       "      <td>0.0</td>\n",
       "      <td>0</td>\n",
       "      <td>0.0</td>\n",
       "      <td>4</td>\n",
       "    </tr>\n",
       "    <tr>\n",
       "      <th>서비스종사자</th>\n",
       "      <td>5</td>\n",
       "      <td>62.5</td>\n",
       "      <td>1</td>\n",
       "      <td>12.5</td>\n",
       "      <td>0</td>\n",
       "      <td>0.0</td>\n",
       "      <td>0</td>\n",
       "      <td>0.0</td>\n",
       "      <td>0</td>\n",
       "      <td>0.0</td>\n",
       "      <td>1</td>\n",
       "      <td>12.5</td>\n",
       "      <td>1</td>\n",
       "      <td>12.5</td>\n",
       "      <td>0</td>\n",
       "      <td>0.0</td>\n",
       "      <td>0</td>\n",
       "      <td>0.0</td>\n",
       "      <td>8</td>\n",
       "    </tr>\n",
       "    <tr>\n",
       "      <th>판매종사자</th>\n",
       "      <td>0</td>\n",
       "      <td>0.0</td>\n",
       "      <td>2</td>\n",
       "      <td>50.0</td>\n",
       "      <td>0</td>\n",
       "      <td>0.0</td>\n",
       "      <td>0</td>\n",
       "      <td>0.0</td>\n",
       "      <td>2</td>\n",
       "      <td>50.0</td>\n",
       "      <td>0</td>\n",
       "      <td>0.0</td>\n",
       "      <td>0</td>\n",
       "      <td>0.0</td>\n",
       "      <td>0</td>\n",
       "      <td>0.0</td>\n",
       "      <td>0</td>\n",
       "      <td>0.0</td>\n",
       "      <td>4</td>\n",
       "    </tr>\n",
       "    <tr>\n",
       "      <th>기술기능종사자</th>\n",
       "      <td>1</td>\n",
       "      <td>33.3</td>\n",
       "      <td>0</td>\n",
       "      <td>0.0</td>\n",
       "      <td>0</td>\n",
       "      <td>0.0</td>\n",
       "      <td>0</td>\n",
       "      <td>0.0</td>\n",
       "      <td>0</td>\n",
       "      <td>0.0</td>\n",
       "      <td>1</td>\n",
       "      <td>33.3</td>\n",
       "      <td>1</td>\n",
       "      <td>33.3</td>\n",
       "      <td>0</td>\n",
       "      <td>0.0</td>\n",
       "      <td>0</td>\n",
       "      <td>0.0</td>\n",
       "      <td>3</td>\n",
       "    </tr>\n",
       "    <tr>\n",
       "      <th>단순노무종사자</th>\n",
       "      <td>0</td>\n",
       "      <td>0.0</td>\n",
       "      <td>0</td>\n",
       "      <td>0.0</td>\n",
       "      <td>0</td>\n",
       "      <td>0.0</td>\n",
       "      <td>0</td>\n",
       "      <td>0.0</td>\n",
       "      <td>0</td>\n",
       "      <td>0.0</td>\n",
       "      <td>0</td>\n",
       "      <td>0.0</td>\n",
       "      <td>0</td>\n",
       "      <td>0.0</td>\n",
       "      <td>0</td>\n",
       "      <td>0.0</td>\n",
       "      <td>0</td>\n",
       "      <td>0.0</td>\n",
       "      <td>0</td>\n",
       "    </tr>\n",
       "    <tr>\n",
       "      <th>전문가(교수 포함)</th>\n",
       "      <td>2</td>\n",
       "      <td>66.7</td>\n",
       "      <td>0</td>\n",
       "      <td>0.0</td>\n",
       "      <td>0</td>\n",
       "      <td>0.0</td>\n",
       "      <td>0</td>\n",
       "      <td>0.0</td>\n",
       "      <td>1</td>\n",
       "      <td>33.3</td>\n",
       "      <td>0</td>\n",
       "      <td>0.0</td>\n",
       "      <td>0</td>\n",
       "      <td>0.0</td>\n",
       "      <td>0</td>\n",
       "      <td>0.0</td>\n",
       "      <td>0</td>\n",
       "      <td>0.0</td>\n",
       "      <td>3</td>\n",
       "    </tr>\n",
       "    <tr>\n",
       "      <th>경영직종사자</th>\n",
       "      <td>0</td>\n",
       "      <td>0.0</td>\n",
       "      <td>0</td>\n",
       "      <td>0.0</td>\n",
       "      <td>0</td>\n",
       "      <td>0.0</td>\n",
       "      <td>0</td>\n",
       "      <td>0.0</td>\n",
       "      <td>0</td>\n",
       "      <td>0.0</td>\n",
       "      <td>0</td>\n",
       "      <td>0.0</td>\n",
       "      <td>0</td>\n",
       "      <td>0.0</td>\n",
       "      <td>0</td>\n",
       "      <td>0.0</td>\n",
       "      <td>0</td>\n",
       "      <td>0.0</td>\n",
       "      <td>0</td>\n",
       "    </tr>\n",
       "    <tr>\n",
       "      <th>자영업자(개인사업자)</th>\n",
       "      <td>3</td>\n",
       "      <td>37.5</td>\n",
       "      <td>0</td>\n",
       "      <td>0.0</td>\n",
       "      <td>0</td>\n",
       "      <td>0.0</td>\n",
       "      <td>0</td>\n",
       "      <td>0.0</td>\n",
       "      <td>0</td>\n",
       "      <td>0.0</td>\n",
       "      <td>3</td>\n",
       "      <td>37.5</td>\n",
       "      <td>2</td>\n",
       "      <td>25.0</td>\n",
       "      <td>0</td>\n",
       "      <td>0.0</td>\n",
       "      <td>0</td>\n",
       "      <td>0.0</td>\n",
       "      <td>8</td>\n",
       "    </tr>\n",
       "    <tr>\n",
       "      <th>공무원(교사포함)</th>\n",
       "      <td>5</td>\n",
       "      <td>25.0</td>\n",
       "      <td>2</td>\n",
       "      <td>10.0</td>\n",
       "      <td>0</td>\n",
       "      <td>0.0</td>\n",
       "      <td>2</td>\n",
       "      <td>10.0</td>\n",
       "      <td>1</td>\n",
       "      <td>5.0</td>\n",
       "      <td>5</td>\n",
       "      <td>25.0</td>\n",
       "      <td>4</td>\n",
       "      <td>20.0</td>\n",
       "      <td>1</td>\n",
       "      <td>5.0</td>\n",
       "      <td>0</td>\n",
       "      <td>0.0</td>\n",
       "      <td>20</td>\n",
       "    </tr>\n",
       "    <tr>\n",
       "      <th>학생(대학원생포함)</th>\n",
       "      <td>4</td>\n",
       "      <td>12.1</td>\n",
       "      <td>5</td>\n",
       "      <td>15.2</td>\n",
       "      <td>1</td>\n",
       "      <td>3.0</td>\n",
       "      <td>1</td>\n",
       "      <td>3.0</td>\n",
       "      <td>6</td>\n",
       "      <td>18.2</td>\n",
       "      <td>10</td>\n",
       "      <td>30.3</td>\n",
       "      <td>6</td>\n",
       "      <td>18.2</td>\n",
       "      <td>0</td>\n",
       "      <td>0.0</td>\n",
       "      <td>0</td>\n",
       "      <td>0.0</td>\n",
       "      <td>33</td>\n",
       "    </tr>\n",
       "    <tr>\n",
       "      <th>전업주부</th>\n",
       "      <td>3</td>\n",
       "      <td>37.5</td>\n",
       "      <td>1</td>\n",
       "      <td>12.5</td>\n",
       "      <td>1</td>\n",
       "      <td>12.5</td>\n",
       "      <td>0</td>\n",
       "      <td>0.0</td>\n",
       "      <td>0</td>\n",
       "      <td>0.0</td>\n",
       "      <td>2</td>\n",
       "      <td>25.0</td>\n",
       "      <td>1</td>\n",
       "      <td>12.5</td>\n",
       "      <td>0</td>\n",
       "      <td>0.0</td>\n",
       "      <td>0</td>\n",
       "      <td>0.0</td>\n",
       "      <td>8</td>\n",
       "    </tr>\n",
       "    <tr>\n",
       "      <th>기타</th>\n",
       "      <td>0</td>\n",
       "      <td>0.0</td>\n",
       "      <td>0</td>\n",
       "      <td>0.0</td>\n",
       "      <td>0</td>\n",
       "      <td>0.0</td>\n",
       "      <td>0</td>\n",
       "      <td>0.0</td>\n",
       "      <td>1</td>\n",
       "      <td>33.3</td>\n",
       "      <td>1</td>\n",
       "      <td>33.3</td>\n",
       "      <td>1</td>\n",
       "      <td>33.3</td>\n",
       "      <td>0</td>\n",
       "      <td>0.0</td>\n",
       "      <td>0</td>\n",
       "      <td>0.0</td>\n",
       "      <td>3</td>\n",
       "    </tr>\n",
       "  </tbody>\n",
       "</table>\n",
       "</div>"
      ],
      "text/plain": [
       "                      문화·예술 관람 행사(예 : 뮤직콘서트, 뮤지컬 갈라쇼 등)-빈도  \\\n",
       "성별   남성                                                  8   \n",
       "     여성                                                 19   \n",
       "연령   10대(15세이상)                                          1   \n",
       "     20대                                                 4   \n",
       "     30대                                                 3   \n",
       "     40대                                                 4   \n",
       "     50대                                                 6   \n",
       "     60대이상                                               9   \n",
       "학력   초등학교 졸업(무학 포함)                                      3   \n",
       "     중학교 재학                                              3   \n",
       "     중학교 졸업                                              2   \n",
       "     고등학교 재학                                             2   \n",
       "     고등학교 졸업                                             1   \n",
       "     대학교 재학                                              2   \n",
       "     대학교 졸업                                             12   \n",
       "     대학원 재학(석사 또는 박사)                                    1   \n",
       "     대학원 졸업(석사또는 박사)                                     1   \n",
       "거주지역 서울                                                  2   \n",
       "     부산                                                  0   \n",
       "     대구                                                  0   \n",
       "     인천                                                  0   \n",
       "     광주                                                  0   \n",
       "     대전                                                  0   \n",
       "     울산                                                  0   \n",
       "     세종                                                  0   \n",
       "     경기                                                  6   \n",
       "     강원                                                 19   \n",
       "     충북                                                  0   \n",
       "     충남                                                  0   \n",
       "     전북                                                  0   \n",
       "     전남                                                  0   \n",
       "     경북                                                  0   \n",
       "     경남                                                  0   \n",
       "     제주                                                  0   \n",
       "직업   산림임업종사자                                             4   \n",
       "     사무종사자                                               0   \n",
       "     서비스종사자                                              5   \n",
       "     판매종사자                                               0   \n",
       "     기술기능종사자                                             1   \n",
       "     단순노무종사자                                             0   \n",
       "     전문가(교수 포함)                                          2   \n",
       "     경영직종사자                                              0   \n",
       "     자영업자(개인사업자)                                         3   \n",
       "     공무원(교사포함)                                           5   \n",
       "     학생(대학원생포함)                                          4   \n",
       "     전업주부                                                3   \n",
       "     기타                                                  0   \n",
       "\n",
       "                       문화·예술 관람 행사(예 : 뮤직콘서트, 뮤지컬 갈라쇼 등)-비율  \\\n",
       "성별   남성                                                16.0   \n",
       "     여성                                                34.5   \n",
       "연령   10대(15세이상)                                        14.3   \n",
       "     20대                                               14.3   \n",
       "     30대                                               21.4   \n",
       "     40대                                               28.6   \n",
       "     50대                                               31.6   \n",
       "     60대이상                                             39.1   \n",
       "학력   초등학교 졸업(무학 포함)                                    75.0   \n",
       "     중학교 재학                                            30.0   \n",
       "     중학교 졸업                                            50.0   \n",
       "     고등학교 재학                                          100.0   \n",
       "     고등학교 졸업                                            9.1   \n",
       "     대학교 재학                                             8.0   \n",
       "     대학교 졸업                                            28.6   \n",
       "     대학원 재학(석사 또는 박사)                                  50.0   \n",
       "     대학원 졸업(석사또는 박사)                                   20.0   \n",
       "거주지역 서울                                                20.0   \n",
       "     부산                                                 0.0   \n",
       "     대구                                                 0.0   \n",
       "     인천                                                 0.0   \n",
       "     광주                                                 0.0   \n",
       "     대전                                                 0.0   \n",
       "     울산                                                 0.0   \n",
       "     세종                                                 0.0   \n",
       "     경기                                                26.1   \n",
       "     강원                                                28.4   \n",
       "     충북                                                 0.0   \n",
       "     충남                                                 0.0   \n",
       "     전북                                                 0.0   \n",
       "     전남                                                 0.0   \n",
       "     경북                                                 0.0   \n",
       "     경남                                                 0.0   \n",
       "     제주                                                 0.0   \n",
       "직업   산림임업종사자                                           36.4   \n",
       "     사무종사자                                              0.0   \n",
       "     서비스종사자                                            62.5   \n",
       "     판매종사자                                              0.0   \n",
       "     기술기능종사자                                           33.3   \n",
       "     단순노무종사자                                            0.0   \n",
       "     전문가(교수 포함)                                        66.7   \n",
       "     경영직종사자                                             0.0   \n",
       "     자영업자(개인사업자)                                       37.5   \n",
       "     공무원(교사포함)                                         25.0   \n",
       "     학생(대학원생포함)                                        12.1   \n",
       "     전업주부                                              37.5   \n",
       "     기타                                                 0.0   \n",
       "\n",
       "                      문화·예술 참여 행사(예 : 나무장난감 놀이마당축제 등)-빈도  \\\n",
       "성별   남성                                                5   \n",
       "     여성                                                7   \n",
       "연령   10대(15세이상)                                        3   \n",
       "     20대                                               2   \n",
       "     30대                                               1   \n",
       "     40대                                               3   \n",
       "     50대                                               1   \n",
       "     60대이상                                             2   \n",
       "학력   초등학교 졸업(무학 포함)                                    0   \n",
       "     중학교 재학                                            3   \n",
       "     중학교 졸업                                            0   \n",
       "     고등학교 재학                                           0   \n",
       "     고등학교 졸업                                           3   \n",
       "     대학교 재학                                            3   \n",
       "     대학교 졸업                                            3   \n",
       "     대학원 재학(석사 또는 박사)                                  0   \n",
       "     대학원 졸업(석사또는 박사)                                   0   \n",
       "거주지역 서울                                                1   \n",
       "     부산                                                0   \n",
       "     대구                                                0   \n",
       "     인천                                                1   \n",
       "     광주                                                1   \n",
       "     대전                                                0   \n",
       "     울산                                                0   \n",
       "     세종                                                0   \n",
       "     경기                                                2   \n",
       "     강원                                                7   \n",
       "     충북                                                0   \n",
       "     충남                                                0   \n",
       "     전북                                                0   \n",
       "     전남                                                0   \n",
       "     경북                                                0   \n",
       "     경남                                                0   \n",
       "     제주                                                0   \n",
       "직업   산림임업종사자                                           1   \n",
       "     사무종사자                                             0   \n",
       "     서비스종사자                                            1   \n",
       "     판매종사자                                             2   \n",
       "     기술기능종사자                                           0   \n",
       "     단순노무종사자                                           0   \n",
       "     전문가(교수 포함)                                        0   \n",
       "     경영직종사자                                            0   \n",
       "     자영업자(개인사업자)                                       0   \n",
       "     공무원(교사포함)                                         2   \n",
       "     학생(대학원생포함)                                        5   \n",
       "     전업주부                                              1   \n",
       "     기타                                                0   \n",
       "\n",
       "                       문화·예술 참여 행사(예 : 나무장난감 놀이마당축제 등)-비율  \\\n",
       "성별   남성                                              10.0   \n",
       "     여성                                              12.7   \n",
       "연령   10대(15세이상)                                      42.9   \n",
       "     20대                                              7.1   \n",
       "     30대                                              7.1   \n",
       "     40대                                             21.4   \n",
       "     50대                                              5.3   \n",
       "     60대이상                                            8.7   \n",
       "학력   초등학교 졸업(무학 포함)                                   0.0   \n",
       "     중학교 재학                                          30.0   \n",
       "     중학교 졸업                                           0.0   \n",
       "     고등학교 재학                                          0.0   \n",
       "     고등학교 졸업                                         27.3   \n",
       "     대학교 재학                                          12.0   \n",
       "     대학교 졸업                                           7.1   \n",
       "     대학원 재학(석사 또는 박사)                                 0.0   \n",
       "     대학원 졸업(석사또는 박사)                                  0.0   \n",
       "거주지역 서울                                              10.0   \n",
       "     부산                                               0.0   \n",
       "     대구                                               0.0   \n",
       "     인천                                              50.0   \n",
       "     광주                                             100.0   \n",
       "     대전                                               0.0   \n",
       "     울산                                               0.0   \n",
       "     세종                                               0.0   \n",
       "     경기                                               8.7   \n",
       "     강원                                              10.4   \n",
       "     충북                                               0.0   \n",
       "     충남                                               0.0   \n",
       "     전북                                               0.0   \n",
       "     전남                                               0.0   \n",
       "     경북                                               0.0   \n",
       "     경남                                               0.0   \n",
       "     제주                                               0.0   \n",
       "직업   산림임업종사자                                          9.1   \n",
       "     사무종사자                                            0.0   \n",
       "     서비스종사자                                          12.5   \n",
       "     판매종사자                                           50.0   \n",
       "     기술기능종사자                                          0.0   \n",
       "     단순노무종사자                                          0.0   \n",
       "     전문가(교수 포함)                                       0.0   \n",
       "     경영직종사자                                           0.0   \n",
       "     자영업자(개인사업자)                                      0.0   \n",
       "     공무원(교사포함)                                       10.0   \n",
       "     학생(대학원생포함)                                      15.2   \n",
       "     전업주부                                            12.5   \n",
       "     기타                                               0.0   \n",
       "\n",
       "                      레포츠 행사(예 : 전국 스포츠 클라이밍 대회 등)-빈도  \\\n",
       "성별   남성                                             3   \n",
       "     여성                                             1   \n",
       "연령   10대(15세이상)                                     0   \n",
       "     20대                                            1   \n",
       "     30대                                            0   \n",
       "     40대                                            0   \n",
       "     50대                                            2   \n",
       "     60대이상                                          1   \n",
       "학력   초등학교 졸업(무학 포함)                                 0   \n",
       "     중학교 재학                                         0   \n",
       "     중학교 졸업                                         0   \n",
       "     고등학교 재학                                        0   \n",
       "     고등학교 졸업                                        3   \n",
       "     대학교 재학                                         1   \n",
       "     대학교 졸업                                         0   \n",
       "     대학원 재학(석사 또는 박사)                               0   \n",
       "     대학원 졸업(석사또는 박사)                                0   \n",
       "거주지역 서울                                             1   \n",
       "     부산                                             0   \n",
       "     대구                                             0   \n",
       "     인천                                             0   \n",
       "     광주                                             0   \n",
       "     대전                                             0   \n",
       "     울산                                             0   \n",
       "     세종                                             0   \n",
       "     경기                                             1   \n",
       "     강원                                             2   \n",
       "     충북                                             0   \n",
       "     충남                                             0   \n",
       "     전북                                             0   \n",
       "     전남                                             0   \n",
       "     경북                                             0   \n",
       "     경남                                             0   \n",
       "     제주                                             0   \n",
       "직업   산림임업종사자                                        2   \n",
       "     사무종사자                                          0   \n",
       "     서비스종사자                                         0   \n",
       "     판매종사자                                          0   \n",
       "     기술기능종사자                                        0   \n",
       "     단순노무종사자                                        0   \n",
       "     전문가(교수 포함)                                     0   \n",
       "     경영직종사자                                         0   \n",
       "     자영업자(개인사업자)                                    0   \n",
       "     공무원(교사포함)                                      0   \n",
       "     학생(대학원생포함)                                     1   \n",
       "     전업주부                                           1   \n",
       "     기타                                             0   \n",
       "\n",
       "                       레포츠 행사(예 : 전국 스포츠 클라이밍 대회 등)-비율  \\\n",
       "성별   남성                                            6.0   \n",
       "     여성                                            1.8   \n",
       "연령   10대(15세이상)                                    0.0   \n",
       "     20대                                           3.6   \n",
       "     30대                                           0.0   \n",
       "     40대                                           0.0   \n",
       "     50대                                          10.5   \n",
       "     60대이상                                         4.3   \n",
       "학력   초등학교 졸업(무학 포함)                                0.0   \n",
       "     중학교 재학                                        0.0   \n",
       "     중학교 졸업                                        0.0   \n",
       "     고등학교 재학                                       0.0   \n",
       "     고등학교 졸업                                      27.3   \n",
       "     대학교 재학                                        4.0   \n",
       "     대학교 졸업                                        0.0   \n",
       "     대학원 재학(석사 또는 박사)                              0.0   \n",
       "     대학원 졸업(석사또는 박사)                               0.0   \n",
       "거주지역 서울                                           10.0   \n",
       "     부산                                            0.0   \n",
       "     대구                                            0.0   \n",
       "     인천                                            0.0   \n",
       "     광주                                            0.0   \n",
       "     대전                                            0.0   \n",
       "     울산                                            0.0   \n",
       "     세종                                            0.0   \n",
       "     경기                                            4.3   \n",
       "     강원                                            3.0   \n",
       "     충북                                            0.0   \n",
       "     충남                                            0.0   \n",
       "     전북                                            0.0   \n",
       "     전남                                            0.0   \n",
       "     경북                                            0.0   \n",
       "     경남                                            0.0   \n",
       "     제주                                            0.0   \n",
       "직업   산림임업종사자                                      18.2   \n",
       "     사무종사자                                         0.0   \n",
       "     서비스종사자                                        0.0   \n",
       "     판매종사자                                         0.0   \n",
       "     기술기능종사자                                       0.0   \n",
       "     단순노무종사자                                       0.0   \n",
       "     전문가(교수 포함)                                    0.0   \n",
       "     경영직종사자                                        0.0   \n",
       "     자영업자(개인사업자)                                   0.0   \n",
       "     공무원(교사포함)                                     0.0   \n",
       "     학생(대학원생포함)                                    3.0   \n",
       "     전업주부                                         12.5   \n",
       "     기타                                            0.0   \n",
       "\n",
       "                      학습 행사(예 : 산림과학 학술대회 등)-빈도  학습 행사(예 : 산림과학 학술대회 등)-비율  \\\n",
       "성별   남성                                       3                        6.0   \n",
       "     여성                                       1                        1.8   \n",
       "연령   10대(15세이상)                               0                        0.0   \n",
       "     20대                                      1                        3.6   \n",
       "     30대                                      0                        0.0   \n",
       "     40대                                      0                        0.0   \n",
       "     50대                                      1                        5.3   \n",
       "     60대이상                                    2                        8.7   \n",
       "학력   초등학교 졸업(무학 포함)                           0                        0.0   \n",
       "     중학교 재학                                   0                        0.0   \n",
       "     중학교 졸업                                   1                       25.0   \n",
       "     고등학교 재학                                  0                        0.0   \n",
       "     고등학교 졸업                                  1                        9.1   \n",
       "     대학교 재학                                   1                        4.0   \n",
       "     대학교 졸업                                   1                        2.4   \n",
       "     대학원 재학(석사 또는 박사)                         0                        0.0   \n",
       "     대학원 졸업(석사또는 박사)                          0                        0.0   \n",
       "거주지역 서울                                       0                        0.0   \n",
       "     부산                                       0                        0.0   \n",
       "     대구                                       0                        0.0   \n",
       "     인천                                       0                        0.0   \n",
       "     광주                                       0                        0.0   \n",
       "     대전                                       0                        0.0   \n",
       "     울산                                       0                        0.0   \n",
       "     세종                                       0                        0.0   \n",
       "     경기                                       1                        4.3   \n",
       "     강원                                       3                        4.5   \n",
       "     충북                                       0                        0.0   \n",
       "     충남                                       0                        0.0   \n",
       "     전북                                       0                        0.0   \n",
       "     전남                                       0                        0.0   \n",
       "     경북                                       0                        0.0   \n",
       "     경남                                       0                        0.0   \n",
       "     제주                                       0                        0.0   \n",
       "직업   산림임업종사자                                  0                        0.0   \n",
       "     사무종사자                                    1                       25.0   \n",
       "     서비스종사자                                   0                        0.0   \n",
       "     판매종사자                                    0                        0.0   \n",
       "     기술기능종사자                                  0                        0.0   \n",
       "     단순노무종사자                                  0                        0.0   \n",
       "     전문가(교수 포함)                               0                        0.0   \n",
       "     경영직종사자                                   0                        0.0   \n",
       "     자영업자(개인사업자)                              0                        0.0   \n",
       "     공무원(교사포함)                                2                       10.0   \n",
       "     학생(대학원생포함)                               1                        3.0   \n",
       "     전업주부                                     0                        0.0   \n",
       "     기타                                       0                        0.0   \n",
       "\n",
       "                      관광 활동(예 : 설악산 자생식물원, 용대관광단지 등)-빈도  \\\n",
       "성별   남성                                               6   \n",
       "     여성                                               7   \n",
       "연령   10대(15세이상)                                       1   \n",
       "     20대                                              5   \n",
       "     30대                                              1   \n",
       "     40대                                              2   \n",
       "     50대                                              2   \n",
       "     60대이상                                            2   \n",
       "학력   초등학교 졸업(무학 포함)                                   0   \n",
       "     중학교 재학                                           1   \n",
       "     중학교 졸업                                           1   \n",
       "     고등학교 재학                                          0   \n",
       "     고등학교 졸업                                          1   \n",
       "     대학교 재학                                           5   \n",
       "     대학교 졸업                                           4   \n",
       "     대학원 재학(석사 또는 박사)                                 1   \n",
       "     대학원 졸업(석사또는 박사)                                  0   \n",
       "거주지역 서울                                               2   \n",
       "     부산                                               0   \n",
       "     대구                                               0   \n",
       "     인천                                               0   \n",
       "     광주                                               0   \n",
       "     대전                                               0   \n",
       "     울산                                               0   \n",
       "     세종                                               0   \n",
       "     경기                                               5   \n",
       "     강원                                               5   \n",
       "     충북                                               0   \n",
       "     충남                                               0   \n",
       "     전북                                               0   \n",
       "     전남                                               1   \n",
       "     경북                                               0   \n",
       "     경남                                               0   \n",
       "     제주                                               0   \n",
       "직업   산림임업종사자                                          0   \n",
       "     사무종사자                                            2   \n",
       "     서비스종사자                                           0   \n",
       "     판매종사자                                            2   \n",
       "     기술기능종사자                                          0   \n",
       "     단순노무종사자                                          0   \n",
       "     전문가(교수 포함)                                       1   \n",
       "     경영직종사자                                           0   \n",
       "     자영업자(개인사업자)                                      0   \n",
       "     공무원(교사포함)                                        1   \n",
       "     학생(대학원생포함)                                       6   \n",
       "     전업주부                                             0   \n",
       "     기타                                               1   \n",
       "\n",
       "                       관광 활동(예 : 설악산 자생식물원, 용대관광단지 등)-비율  \\\n",
       "성별   남성                                             12.0   \n",
       "     여성                                             12.7   \n",
       "연령   10대(15세이상)                                     14.3   \n",
       "     20대                                            17.9   \n",
       "     30대                                             7.1   \n",
       "     40대                                            14.3   \n",
       "     50대                                            10.5   \n",
       "     60대이상                                           8.7   \n",
       "학력   초등학교 졸업(무학 포함)                                  0.0   \n",
       "     중학교 재학                                         10.0   \n",
       "     중학교 졸업                                         25.0   \n",
       "     고등학교 재학                                         0.0   \n",
       "     고등학교 졸업                                         9.1   \n",
       "     대학교 재학                                         20.0   \n",
       "     대학교 졸업                                          9.5   \n",
       "     대학원 재학(석사 또는 박사)                               50.0   \n",
       "     대학원 졸업(석사또는 박사)                                 0.0   \n",
       "거주지역 서울                                             20.0   \n",
       "     부산                                              0.0   \n",
       "     대구                                              0.0   \n",
       "     인천                                              0.0   \n",
       "     광주                                              0.0   \n",
       "     대전                                              0.0   \n",
       "     울산                                              0.0   \n",
       "     세종                                              0.0   \n",
       "     경기                                             21.7   \n",
       "     강원                                              7.5   \n",
       "     충북                                              0.0   \n",
       "     충남                                              0.0   \n",
       "     전북                                              0.0   \n",
       "     전남                                            100.0   \n",
       "     경북                                              0.0   \n",
       "     경남                                              0.0   \n",
       "     제주                                              0.0   \n",
       "직업   산림임업종사자                                         0.0   \n",
       "     사무종사자                                          50.0   \n",
       "     서비스종사자                                          0.0   \n",
       "     판매종사자                                          50.0   \n",
       "     기술기능종사자                                         0.0   \n",
       "     단순노무종사자                                         0.0   \n",
       "     전문가(교수 포함)                                     33.3   \n",
       "     경영직종사자                                          0.0   \n",
       "     자영업자(개인사업자)                                     0.0   \n",
       "     공무원(교사포함)                                       5.0   \n",
       "     학생(대학원생포함)                                     18.2   \n",
       "     전업주부                                            0.0   \n",
       "     기타                                             33.3   \n",
       "\n",
       "                      전시 관람 활동(예 : 푸른지구관, 산림평화관, 문화유산관 등)-빈도  \\\n",
       "성별   남성                                                   15   \n",
       "     여성                                                   11   \n",
       "연령   10대(15세이상)                                            1   \n",
       "     20대                                                   9   \n",
       "     30대                                                   7   \n",
       "     40대                                                   0   \n",
       "     50대                                                   4   \n",
       "     60대이상                                                 5   \n",
       "학력   초등학교 졸업(무학 포함)                                        1   \n",
       "     중학교 재학                                                2   \n",
       "     중학교 졸업                                                0   \n",
       "     고등학교 재학                                               0   \n",
       "     고등학교 졸업                                               1   \n",
       "     대학교 재학                                                9   \n",
       "     대학교 졸업                                               12   \n",
       "     대학원 재학(석사 또는 박사)                                      0   \n",
       "     대학원 졸업(석사또는 박사)                                       1   \n",
       "거주지역 서울                                                    1   \n",
       "     부산                                                    0   \n",
       "     대구                                                    0   \n",
       "     인천                                                    1   \n",
       "     광주                                                    0   \n",
       "     대전                                                    0   \n",
       "     울산                                                    0   \n",
       "     세종                                                    0   \n",
       "     경기                                                    7   \n",
       "     강원                                                   16   \n",
       "     충북                                                    0   \n",
       "     충남                                                    0   \n",
       "     전북                                                    0   \n",
       "     전남                                                    0   \n",
       "     경북                                                    1   \n",
       "     경남                                                    0   \n",
       "     제주                                                    0   \n",
       "직업   산림임업종사자                                               2   \n",
       "     사무종사자                                                 1   \n",
       "     서비스종사자                                                1   \n",
       "     판매종사자                                                 0   \n",
       "     기술기능종사자                                               1   \n",
       "     단순노무종사자                                               0   \n",
       "     전문가(교수 포함)                                            0   \n",
       "     경영직종사자                                                0   \n",
       "     자영업자(개인사업자)                                           3   \n",
       "     공무원(교사포함)                                             5   \n",
       "     학생(대학원생포함)                                           10   \n",
       "     전업주부                                                  2   \n",
       "     기타                                                    1   \n",
       "\n",
       "                       전시 관람 활동(예 : 푸른지구관, 산림평화관, 문화유산관 등)-비율  \\\n",
       "성별   남성                                                  30.0   \n",
       "     여성                                                  20.0   \n",
       "연령   10대(15세이상)                                          14.3   \n",
       "     20대                                                 32.1   \n",
       "     30대                                                 50.0   \n",
       "     40대                                                  0.0   \n",
       "     50대                                                 21.1   \n",
       "     60대이상                                               21.7   \n",
       "학력   초등학교 졸업(무학 포함)                                      25.0   \n",
       "     중학교 재학                                              20.0   \n",
       "     중학교 졸업                                               0.0   \n",
       "     고등학교 재학                                              0.0   \n",
       "     고등학교 졸업                                              9.1   \n",
       "     대학교 재학                                              36.0   \n",
       "     대학교 졸업                                              28.6   \n",
       "     대학원 재학(석사 또는 박사)                                     0.0   \n",
       "     대학원 졸업(석사또는 박사)                                     20.0   \n",
       "거주지역 서울                                                  10.0   \n",
       "     부산                                                   0.0   \n",
       "     대구                                                   0.0   \n",
       "     인천                                                  50.0   \n",
       "     광주                                                   0.0   \n",
       "     대전                                                   0.0   \n",
       "     울산                                                   0.0   \n",
       "     세종                                                   0.0   \n",
       "     경기                                                  30.4   \n",
       "     강원                                                  23.9   \n",
       "     충북                                                   0.0   \n",
       "     충남                                                   0.0   \n",
       "     전북                                                   0.0   \n",
       "     전남                                                   0.0   \n",
       "     경북                                                 100.0   \n",
       "     경남                                                   0.0   \n",
       "     제주                                                   0.0   \n",
       "직업   산림임업종사자                                             18.2   \n",
       "     사무종사자                                               25.0   \n",
       "     서비스종사자                                              12.5   \n",
       "     판매종사자                                                0.0   \n",
       "     기술기능종사자                                             33.3   \n",
       "     단순노무종사자                                              0.0   \n",
       "     전문가(교수 포함)                                           0.0   \n",
       "     경영직종사자                                               0.0   \n",
       "     자영업자(개인사업자)                                         37.5   \n",
       "     공무원(교사포함)                                           25.0   \n",
       "     학생(대학원생포함)                                          30.3   \n",
       "     전업주부                                                25.0   \n",
       "     기타                                                  33.3   \n",
       "\n",
       "                      체험 활동(예 : 저탄소 업사이클링 공예체험 등)-빈도  \\\n",
       "성별   남성                                            9   \n",
       "     여성                                            8   \n",
       "연령   10대(15세이상)                                    1   \n",
       "     20대                                           5   \n",
       "     30대                                           1   \n",
       "     40대                                           5   \n",
       "     50대                                           3   \n",
       "     60대이상                                         2   \n",
       "학력   초등학교 졸업(무학 포함)                                0   \n",
       "     중학교 재학                                        1   \n",
       "     중학교 졸업                                        0   \n",
       "     고등학교 재학                                       0   \n",
       "     고등학교 졸업                                       1   \n",
       "     대학교 재학                                        4   \n",
       "     대학교 졸업                                        8   \n",
       "     대학원 재학(석사 또는 박사)                              0   \n",
       "     대학원 졸업(석사또는 박사)                               3   \n",
       "거주지역 서울                                            3   \n",
       "     부산                                            0   \n",
       "     대구                                            0   \n",
       "     인천                                            0   \n",
       "     광주                                            0   \n",
       "     대전                                            0   \n",
       "     울산                                            0   \n",
       "     세종                                            0   \n",
       "     경기                                            1   \n",
       "     강원                                           13   \n",
       "     충북                                            0   \n",
       "     충남                                            0   \n",
       "     전북                                            0   \n",
       "     전남                                            0   \n",
       "     경북                                            0   \n",
       "     경남                                            0   \n",
       "     제주                                            0   \n",
       "직업   산림임업종사자                                       1   \n",
       "     사무종사자                                         0   \n",
       "     서비스종사자                                        1   \n",
       "     판매종사자                                         0   \n",
       "     기술기능종사자                                       1   \n",
       "     단순노무종사자                                       0   \n",
       "     전문가(교수 포함)                                    0   \n",
       "     경영직종사자                                        0   \n",
       "     자영업자(개인사업자)                                   2   \n",
       "     공무원(교사포함)                                     4   \n",
       "     학생(대학원생포함)                                    6   \n",
       "     전업주부                                          1   \n",
       "     기타                                            1   \n",
       "\n",
       "                       체험 활동(예 : 저탄소 업사이클링 공예체험 등)-비율  \\\n",
       "성별   남성                                          18.0   \n",
       "     여성                                          14.5   \n",
       "연령   10대(15세이상)                                  14.3   \n",
       "     20대                                         17.9   \n",
       "     30대                                          7.1   \n",
       "     40대                                         35.7   \n",
       "     50대                                         15.8   \n",
       "     60대이상                                        8.7   \n",
       "학력   초등학교 졸업(무학 포함)                               0.0   \n",
       "     중학교 재학                                      10.0   \n",
       "     중학교 졸업                                       0.0   \n",
       "     고등학교 재학                                      0.0   \n",
       "     고등학교 졸업                                      9.1   \n",
       "     대학교 재학                                      16.0   \n",
       "     대학교 졸업                                      19.0   \n",
       "     대학원 재학(석사 또는 박사)                             0.0   \n",
       "     대학원 졸업(석사또는 박사)                             60.0   \n",
       "거주지역 서울                                          30.0   \n",
       "     부산                                           0.0   \n",
       "     대구                                           0.0   \n",
       "     인천                                           0.0   \n",
       "     광주                                           0.0   \n",
       "     대전                                           0.0   \n",
       "     울산                                           0.0   \n",
       "     세종                                           0.0   \n",
       "     경기                                           4.3   \n",
       "     강원                                          19.4   \n",
       "     충북                                           0.0   \n",
       "     충남                                           0.0   \n",
       "     전북                                           0.0   \n",
       "     전남                                           0.0   \n",
       "     경북                                           0.0   \n",
       "     경남                                           0.0   \n",
       "     제주                                           0.0   \n",
       "직업   산림임업종사자                                      9.1   \n",
       "     사무종사자                                        0.0   \n",
       "     서비스종사자                                      12.5   \n",
       "     판매종사자                                        0.0   \n",
       "     기술기능종사자                                     33.3   \n",
       "     단순노무종사자                                      0.0   \n",
       "     전문가(교수 포함)                                   0.0   \n",
       "     경영직종사자                                       0.0   \n",
       "     자영업자(개인사업자)                                 25.0   \n",
       "     공무원(교사포함)                                   20.0   \n",
       "     학생(대학원생포함)                                  18.2   \n",
       "     전업주부                                        12.5   \n",
       "     기타                                          33.3   \n",
       "\n",
       "                      사회 활동(예 : 개·폐회식 참여, 인적교류 등) -빈도  \\\n",
       "성별   남성                                             1   \n",
       "     여성                                             1   \n",
       "연령   10대(15세이상)                                     0   \n",
       "     20대                                            1   \n",
       "     30대                                            1   \n",
       "     40대                                            0   \n",
       "     50대                                            0   \n",
       "     60대이상                                          0   \n",
       "학력   초등학교 졸업(무학 포함)                                 0   \n",
       "     중학교 재학                                         0   \n",
       "     중학교 졸업                                         0   \n",
       "     고등학교 재학                                        0   \n",
       "     고등학교 졸업                                        0   \n",
       "     대학교 재학                                         0   \n",
       "     대학교 졸업                                         2   \n",
       "     대학원 재학(석사 또는 박사)                               0   \n",
       "     대학원 졸업(석사또는 박사)                                0   \n",
       "거주지역 서울                                             0   \n",
       "     부산                                             0   \n",
       "     대구                                             0   \n",
       "     인천                                             0   \n",
       "     광주                                             0   \n",
       "     대전                                             0   \n",
       "     울산                                             0   \n",
       "     세종                                             0   \n",
       "     경기                                             0   \n",
       "     강원                                             2   \n",
       "     충북                                             0   \n",
       "     충남                                             0   \n",
       "     전북                                             0   \n",
       "     전남                                             0   \n",
       "     경북                                             0   \n",
       "     경남                                             0   \n",
       "     제주                                             0   \n",
       "직업   산림임업종사자                                        1   \n",
       "     사무종사자                                          0   \n",
       "     서비스종사자                                         0   \n",
       "     판매종사자                                          0   \n",
       "     기술기능종사자                                        0   \n",
       "     단순노무종사자                                        0   \n",
       "     전문가(교수 포함)                                     0   \n",
       "     경영직종사자                                         0   \n",
       "     자영업자(개인사업자)                                    0   \n",
       "     공무원(교사포함)                                      1   \n",
       "     학생(대학원생포함)                                     0   \n",
       "     전업주부                                           0   \n",
       "     기타                                             0   \n",
       "\n",
       "                       사회 활동(예 : 개·폐회식 참여, 인적교류 등) -비율 기타-빈도  기타-비율  사례수  \n",
       "성별   남성                                            2.0     0    0.0   50  \n",
       "     여성                                            1.8     0    0.0   55  \n",
       "연령   10대(15세이상)                                    0.0     0    0.0    7  \n",
       "     20대                                           3.6     0    0.0   28  \n",
       "     30대                                           7.1     0    0.0   14  \n",
       "     40대                                           0.0     0    0.0   14  \n",
       "     50대                                           0.0     0    0.0   19  \n",
       "     60대이상                                         0.0     0    0.0   23  \n",
       "학력   초등학교 졸업(무학 포함)                                0.0     0    0.0    4  \n",
       "     중학교 재학                                        0.0     0    0.0   10  \n",
       "     중학교 졸업                                        0.0     0    0.0    4  \n",
       "     고등학교 재학                                       0.0     0    0.0    2  \n",
       "     고등학교 졸업                                       0.0     0    0.0   11  \n",
       "     대학교 재학                                        0.0     0    0.0   25  \n",
       "     대학교 졸업                                        4.8     0    0.0   42  \n",
       "     대학원 재학(석사 또는 박사)                              0.0     0    0.0    2  \n",
       "     대학원 졸업(석사또는 박사)                               0.0     0    0.0    5  \n",
       "거주지역 서울                                            0.0     0    0.0   10  \n",
       "     부산                                            0.0     0    0.0    0  \n",
       "     대구                                            0.0     0    0.0    0  \n",
       "     인천                                            0.0     0    0.0    2  \n",
       "     광주                                            0.0     0    0.0    1  \n",
       "     대전                                            0.0     0    0.0    0  \n",
       "     울산                                            0.0     0    0.0    0  \n",
       "     세종                                            0.0     0    0.0    0  \n",
       "     경기                                            0.0     0    0.0   23  \n",
       "     강원                                            3.0     0    0.0   67  \n",
       "     충북                                            0.0     0    0.0    0  \n",
       "     충남                                            0.0     0    0.0    0  \n",
       "     전북                                            0.0     0    0.0    0  \n",
       "     전남                                            0.0     0    0.0    1  \n",
       "     경북                                            0.0     0    0.0    1  \n",
       "     경남                                            0.0     0    0.0    0  \n",
       "     제주                                            0.0     0    0.0    0  \n",
       "직업   산림임업종사자                                       9.1     0    0.0   11  \n",
       "     사무종사자                                         0.0     0    0.0    4  \n",
       "     서비스종사자                                        0.0     0    0.0    8  \n",
       "     판매종사자                                         0.0     0    0.0    4  \n",
       "     기술기능종사자                                       0.0     0    0.0    3  \n",
       "     단순노무종사자                                       0.0     0    0.0    0  \n",
       "     전문가(교수 포함)                                    0.0     0    0.0    3  \n",
       "     경영직종사자                                        0.0     0    0.0    0  \n",
       "     자영업자(개인사업자)                                   0.0     0    0.0    8  \n",
       "     공무원(교사포함)                                     5.0     0    0.0   20  \n",
       "     학생(대학원생포함)                                    0.0     0    0.0   33  \n",
       "     전업주부                                          0.0     0    0.0    8  \n",
       "     기타                                            0.0     0    0.0    3  "
      ]
     },
     "execution_count": 47,
     "metadata": {},
     "output_type": "execute_result"
    }
   ],
   "source": [
    "# 응답자 특성별 표 정리\n",
    "q3 = list(Q3_map.values())\n",
    "combined_list = q3\n",
    "column_lst = []\n",
    "for i in combined_list:\n",
    "    column_lst.append(\"%s-빈도\"%i)\n",
    "    column_lst.append(\"%s-비율\"%i)\n",
    "resp_map_df = pd.DataFrame(columns = column_lst)\n",
    "\n",
    "# 응답자 설문 리스트 정의\n",
    "sq_lst = list(Resp_Character.keys())\n",
    "# 응답자 매핑 딕셔너리 정의\n",
    "sq_dic = {'성별': 'SQ1', '연령': 'SQ2_1', '학력': 'SQ3', '거주지역': 'SQ4', '직업': 'SQ5'}\n",
    "\n",
    "# 멀티인덱스를 위한 리스트 생성\n",
    "mult_idx = []\n",
    "\n",
    "for sq in sq_lst:\n",
    "    for val in list(Resp_Character[sq].values()):\n",
    "        # 멀티인덱스 추가\n",
    "        mult_idx.append(sq)\n",
    "        # 응답자 특성 값으로 필터링\n",
    "        filtered_rows = df_expo[df_expo[sq_dic[sq]] == val].reset_index(drop=True)\n",
    "        frequency_rate_df = filtered_rows['Q3_1'].value_counts().reset_index()\n",
    "        frequency_rate_df.columns = ['값', '빈도']\n",
    "        frequency_rate_df['값'] = map_val(frequency_rate_df['값'], Q3_map)\n",
    "        frequency_rate_df['비율'] = round((frequency_rate_df['빈도'] / frequency_rate_df['빈도'].sum())*100,1)\n",
    "        frequency_rate_df = frequency_rate_df.set_index(keys='값')\n",
    "        \n",
    "        resp_map = {}\n",
    "        for i in resp_map_df.columns:\n",
    "            if i.endswith('빈도'):\n",
    "                resp_map[i] = [0]\n",
    "            else:\n",
    "                resp_map[i] = [0.0]\n",
    "\n",
    "        for i in resp_map_df.columns:           \n",
    "            response, method = i.split('-')\n",
    "            try:\n",
    "                resp_map[i][0] = frequency_rate_df.loc[response, method]\n",
    "            except:\n",
    "                pass\n",
    "        else:\n",
    "            map_df = pd.DataFrame(resp_map)\n",
    "            map_df.index = [val]\n",
    "            resp_map_df = pd.concat([resp_map_df,map_df])\n",
    "resp_map_df['사례수'] = resp_map_df.filter(like='빈도').sum(axis=1).astype(int)\n",
    "# 멀티인덱스 생성\n",
    "resp_map_df.set_index([mult_idx, resp_map_df.index], inplace=True)\n",
    "resp_map_df"
   ]
  },
  {
   "attachments": {},
   "cell_type": "markdown",
   "metadata": {},
   "source": [
    "### 1순위 + 2순위 합산한 표 생성"
   ]
  },
  {
   "cell_type": "code",
   "execution_count": 49,
   "metadata": {},
   "outputs": [
    {
     "name": "stderr",
     "output_type": "stream",
     "text": [
      "C:\\Users\\user\\AppData\\Local\\Temp\\ipykernel_19340\\1328098812.py:53: FutureWarning:\n",
      "\n",
      "The behavior of DataFrame concatenation with empty or all-NA entries is deprecated. In a future version, this will no longer exclude empty or all-NA columns when determining the result dtypes. To retain the old behavior, exclude the relevant entries before the concat operation.\n",
      "\n"
     ]
    },
    {
     "data": {
      "text/html": [
       "<div>\n",
       "<style scoped>\n",
       "    .dataframe tbody tr th:only-of-type {\n",
       "        vertical-align: middle;\n",
       "    }\n",
       "\n",
       "    .dataframe tbody tr th {\n",
       "        vertical-align: top;\n",
       "    }\n",
       "\n",
       "    .dataframe thead th {\n",
       "        text-align: right;\n",
       "    }\n",
       "</style>\n",
       "<table border=\"1\" class=\"dataframe\">\n",
       "  <thead>\n",
       "    <tr style=\"text-align: right;\">\n",
       "      <th></th>\n",
       "      <th></th>\n",
       "      <th>문화·예술 관람 행사(예 : 뮤직콘서트, 뮤지컬 갈라쇼 등)-빈도</th>\n",
       "      <th>문화·예술 관람 행사(예 : 뮤직콘서트, 뮤지컬 갈라쇼 등)-비율</th>\n",
       "      <th>문화·예술 참여 행사(예 : 나무장난감 놀이마당축제 등)-빈도</th>\n",
       "      <th>문화·예술 참여 행사(예 : 나무장난감 놀이마당축제 등)-비율</th>\n",
       "      <th>레포츠 행사(예 : 전국 스포츠 클라이밍 대회 등)-빈도</th>\n",
       "      <th>레포츠 행사(예 : 전국 스포츠 클라이밍 대회 등)-비율</th>\n",
       "      <th>학습 행사(예 : 산림과학 학술대회 등)-빈도</th>\n",
       "      <th>학습 행사(예 : 산림과학 학술대회 등)-비율</th>\n",
       "      <th>관광 활동(예 : 설악산 자생식물원, 용대관광단지 등)-빈도</th>\n",
       "      <th>관광 활동(예 : 설악산 자생식물원, 용대관광단지 등)-비율</th>\n",
       "      <th>전시 관람 활동(예 : 푸른지구관, 산림평화관, 문화유산관 등)-빈도</th>\n",
       "      <th>전시 관람 활동(예 : 푸른지구관, 산림평화관, 문화유산관 등)-비율</th>\n",
       "      <th>체험 활동(예 : 저탄소 업사이클링 공예체험 등)-빈도</th>\n",
       "      <th>체험 활동(예 : 저탄소 업사이클링 공예체험 등)-비율</th>\n",
       "      <th>사회 활동(예 : 개·폐회식 참여, 인적교류 등) -빈도</th>\n",
       "      <th>사회 활동(예 : 개·폐회식 참여, 인적교류 등) -비율</th>\n",
       "      <th>기타-빈도</th>\n",
       "      <th>기타-비율</th>\n",
       "      <th>사례수</th>\n",
       "    </tr>\n",
       "  </thead>\n",
       "  <tbody>\n",
       "    <tr>\n",
       "      <th rowspan=\"2\" valign=\"top\">성별</th>\n",
       "      <th>남성</th>\n",
       "      <td>8</td>\n",
       "      <td>16.0</td>\n",
       "      <td>5</td>\n",
       "      <td>10.0</td>\n",
       "      <td>3</td>\n",
       "      <td>6.0</td>\n",
       "      <td>3</td>\n",
       "      <td>6.0</td>\n",
       "      <td>6</td>\n",
       "      <td>12.0</td>\n",
       "      <td>15</td>\n",
       "      <td>30.0</td>\n",
       "      <td>9</td>\n",
       "      <td>18.0</td>\n",
       "      <td>1</td>\n",
       "      <td>2.0</td>\n",
       "      <td>0</td>\n",
       "      <td>0.0</td>\n",
       "      <td>50</td>\n",
       "    </tr>\n",
       "    <tr>\n",
       "      <th>여성</th>\n",
       "      <td>19</td>\n",
       "      <td>34.5</td>\n",
       "      <td>7</td>\n",
       "      <td>12.7</td>\n",
       "      <td>1</td>\n",
       "      <td>1.8</td>\n",
       "      <td>1</td>\n",
       "      <td>1.8</td>\n",
       "      <td>7</td>\n",
       "      <td>12.7</td>\n",
       "      <td>11</td>\n",
       "      <td>20.0</td>\n",
       "      <td>8</td>\n",
       "      <td>14.5</td>\n",
       "      <td>1</td>\n",
       "      <td>1.8</td>\n",
       "      <td>0</td>\n",
       "      <td>0.0</td>\n",
       "      <td>55</td>\n",
       "    </tr>\n",
       "    <tr>\n",
       "      <th rowspan=\"6\" valign=\"top\">연령</th>\n",
       "      <th>10대(15세이상)</th>\n",
       "      <td>1</td>\n",
       "      <td>14.3</td>\n",
       "      <td>3</td>\n",
       "      <td>42.9</td>\n",
       "      <td>0</td>\n",
       "      <td>0.0</td>\n",
       "      <td>0</td>\n",
       "      <td>0.0</td>\n",
       "      <td>1</td>\n",
       "      <td>14.3</td>\n",
       "      <td>1</td>\n",
       "      <td>14.3</td>\n",
       "      <td>1</td>\n",
       "      <td>14.3</td>\n",
       "      <td>0</td>\n",
       "      <td>0.0</td>\n",
       "      <td>0</td>\n",
       "      <td>0.0</td>\n",
       "      <td>7</td>\n",
       "    </tr>\n",
       "    <tr>\n",
       "      <th>20대</th>\n",
       "      <td>4</td>\n",
       "      <td>14.3</td>\n",
       "      <td>2</td>\n",
       "      <td>7.1</td>\n",
       "      <td>1</td>\n",
       "      <td>3.6</td>\n",
       "      <td>1</td>\n",
       "      <td>3.6</td>\n",
       "      <td>5</td>\n",
       "      <td>17.9</td>\n",
       "      <td>9</td>\n",
       "      <td>32.1</td>\n",
       "      <td>5</td>\n",
       "      <td>17.9</td>\n",
       "      <td>1</td>\n",
       "      <td>3.6</td>\n",
       "      <td>0</td>\n",
       "      <td>0.0</td>\n",
       "      <td>28</td>\n",
       "    </tr>\n",
       "    <tr>\n",
       "      <th>30대</th>\n",
       "      <td>3</td>\n",
       "      <td>21.4</td>\n",
       "      <td>1</td>\n",
       "      <td>7.1</td>\n",
       "      <td>0</td>\n",
       "      <td>0.0</td>\n",
       "      <td>0</td>\n",
       "      <td>0.0</td>\n",
       "      <td>1</td>\n",
       "      <td>7.1</td>\n",
       "      <td>7</td>\n",
       "      <td>50.0</td>\n",
       "      <td>1</td>\n",
       "      <td>7.1</td>\n",
       "      <td>1</td>\n",
       "      <td>7.1</td>\n",
       "      <td>0</td>\n",
       "      <td>0.0</td>\n",
       "      <td>14</td>\n",
       "    </tr>\n",
       "    <tr>\n",
       "      <th>40대</th>\n",
       "      <td>4</td>\n",
       "      <td>28.6</td>\n",
       "      <td>3</td>\n",
       "      <td>21.4</td>\n",
       "      <td>0</td>\n",
       "      <td>0.0</td>\n",
       "      <td>0</td>\n",
       "      <td>0.0</td>\n",
       "      <td>2</td>\n",
       "      <td>14.3</td>\n",
       "      <td>0</td>\n",
       "      <td>0.0</td>\n",
       "      <td>5</td>\n",
       "      <td>35.7</td>\n",
       "      <td>0</td>\n",
       "      <td>0.0</td>\n",
       "      <td>0</td>\n",
       "      <td>0.0</td>\n",
       "      <td>14</td>\n",
       "    </tr>\n",
       "    <tr>\n",
       "      <th>50대</th>\n",
       "      <td>6</td>\n",
       "      <td>31.6</td>\n",
       "      <td>1</td>\n",
       "      <td>5.3</td>\n",
       "      <td>2</td>\n",
       "      <td>10.5</td>\n",
       "      <td>1</td>\n",
       "      <td>5.3</td>\n",
       "      <td>2</td>\n",
       "      <td>10.5</td>\n",
       "      <td>4</td>\n",
       "      <td>21.1</td>\n",
       "      <td>3</td>\n",
       "      <td>15.8</td>\n",
       "      <td>0</td>\n",
       "      <td>0.0</td>\n",
       "      <td>0</td>\n",
       "      <td>0.0</td>\n",
       "      <td>19</td>\n",
       "    </tr>\n",
       "    <tr>\n",
       "      <th>60대이상</th>\n",
       "      <td>9</td>\n",
       "      <td>39.1</td>\n",
       "      <td>2</td>\n",
       "      <td>8.7</td>\n",
       "      <td>1</td>\n",
       "      <td>4.3</td>\n",
       "      <td>2</td>\n",
       "      <td>8.7</td>\n",
       "      <td>2</td>\n",
       "      <td>8.7</td>\n",
       "      <td>5</td>\n",
       "      <td>21.7</td>\n",
       "      <td>2</td>\n",
       "      <td>8.7</td>\n",
       "      <td>0</td>\n",
       "      <td>0.0</td>\n",
       "      <td>0</td>\n",
       "      <td>0.0</td>\n",
       "      <td>23</td>\n",
       "    </tr>\n",
       "    <tr>\n",
       "      <th rowspan=\"9\" valign=\"top\">학력</th>\n",
       "      <th>초등학교 졸업(무학 포함)</th>\n",
       "      <td>3</td>\n",
       "      <td>75.0</td>\n",
       "      <td>0</td>\n",
       "      <td>0.0</td>\n",
       "      <td>0</td>\n",
       "      <td>0.0</td>\n",
       "      <td>0</td>\n",
       "      <td>0.0</td>\n",
       "      <td>0</td>\n",
       "      <td>0.0</td>\n",
       "      <td>1</td>\n",
       "      <td>25.0</td>\n",
       "      <td>0</td>\n",
       "      <td>0.0</td>\n",
       "      <td>0</td>\n",
       "      <td>0.0</td>\n",
       "      <td>0</td>\n",
       "      <td>0.0</td>\n",
       "      <td>4</td>\n",
       "    </tr>\n",
       "    <tr>\n",
       "      <th>중학교 재학</th>\n",
       "      <td>3</td>\n",
       "      <td>30.0</td>\n",
       "      <td>3</td>\n",
       "      <td>30.0</td>\n",
       "      <td>0</td>\n",
       "      <td>0.0</td>\n",
       "      <td>0</td>\n",
       "      <td>0.0</td>\n",
       "      <td>1</td>\n",
       "      <td>10.0</td>\n",
       "      <td>2</td>\n",
       "      <td>20.0</td>\n",
       "      <td>1</td>\n",
       "      <td>10.0</td>\n",
       "      <td>0</td>\n",
       "      <td>0.0</td>\n",
       "      <td>0</td>\n",
       "      <td>0.0</td>\n",
       "      <td>10</td>\n",
       "    </tr>\n",
       "    <tr>\n",
       "      <th>중학교 졸업</th>\n",
       "      <td>2</td>\n",
       "      <td>50.0</td>\n",
       "      <td>0</td>\n",
       "      <td>0.0</td>\n",
       "      <td>0</td>\n",
       "      <td>0.0</td>\n",
       "      <td>1</td>\n",
       "      <td>25.0</td>\n",
       "      <td>1</td>\n",
       "      <td>25.0</td>\n",
       "      <td>0</td>\n",
       "      <td>0.0</td>\n",
       "      <td>0</td>\n",
       "      <td>0.0</td>\n",
       "      <td>0</td>\n",
       "      <td>0.0</td>\n",
       "      <td>0</td>\n",
       "      <td>0.0</td>\n",
       "      <td>4</td>\n",
       "    </tr>\n",
       "    <tr>\n",
       "      <th>고등학교 재학</th>\n",
       "      <td>2</td>\n",
       "      <td>100.0</td>\n",
       "      <td>0</td>\n",
       "      <td>0.0</td>\n",
       "      <td>0</td>\n",
       "      <td>0.0</td>\n",
       "      <td>0</td>\n",
       "      <td>0.0</td>\n",
       "      <td>0</td>\n",
       "      <td>0.0</td>\n",
       "      <td>0</td>\n",
       "      <td>0.0</td>\n",
       "      <td>0</td>\n",
       "      <td>0.0</td>\n",
       "      <td>0</td>\n",
       "      <td>0.0</td>\n",
       "      <td>0</td>\n",
       "      <td>0.0</td>\n",
       "      <td>2</td>\n",
       "    </tr>\n",
       "    <tr>\n",
       "      <th>고등학교 졸업</th>\n",
       "      <td>1</td>\n",
       "      <td>9.1</td>\n",
       "      <td>3</td>\n",
       "      <td>27.3</td>\n",
       "      <td>3</td>\n",
       "      <td>27.3</td>\n",
       "      <td>1</td>\n",
       "      <td>9.1</td>\n",
       "      <td>1</td>\n",
       "      <td>9.1</td>\n",
       "      <td>1</td>\n",
       "      <td>9.1</td>\n",
       "      <td>1</td>\n",
       "      <td>9.1</td>\n",
       "      <td>0</td>\n",
       "      <td>0.0</td>\n",
       "      <td>0</td>\n",
       "      <td>0.0</td>\n",
       "      <td>11</td>\n",
       "    </tr>\n",
       "    <tr>\n",
       "      <th>대학교 재학</th>\n",
       "      <td>2</td>\n",
       "      <td>8.0</td>\n",
       "      <td>3</td>\n",
       "      <td>12.0</td>\n",
       "      <td>1</td>\n",
       "      <td>4.0</td>\n",
       "      <td>1</td>\n",
       "      <td>4.0</td>\n",
       "      <td>5</td>\n",
       "      <td>20.0</td>\n",
       "      <td>9</td>\n",
       "      <td>36.0</td>\n",
       "      <td>4</td>\n",
       "      <td>16.0</td>\n",
       "      <td>0</td>\n",
       "      <td>0.0</td>\n",
       "      <td>0</td>\n",
       "      <td>0.0</td>\n",
       "      <td>25</td>\n",
       "    </tr>\n",
       "    <tr>\n",
       "      <th>대학교 졸업</th>\n",
       "      <td>12</td>\n",
       "      <td>28.6</td>\n",
       "      <td>3</td>\n",
       "      <td>7.1</td>\n",
       "      <td>0</td>\n",
       "      <td>0.0</td>\n",
       "      <td>1</td>\n",
       "      <td>2.4</td>\n",
       "      <td>4</td>\n",
       "      <td>9.5</td>\n",
       "      <td>12</td>\n",
       "      <td>28.6</td>\n",
       "      <td>8</td>\n",
       "      <td>19.0</td>\n",
       "      <td>2</td>\n",
       "      <td>4.8</td>\n",
       "      <td>0</td>\n",
       "      <td>0.0</td>\n",
       "      <td>42</td>\n",
       "    </tr>\n",
       "    <tr>\n",
       "      <th>대학원 재학(석사 또는 박사)</th>\n",
       "      <td>1</td>\n",
       "      <td>50.0</td>\n",
       "      <td>0</td>\n",
       "      <td>0.0</td>\n",
       "      <td>0</td>\n",
       "      <td>0.0</td>\n",
       "      <td>0</td>\n",
       "      <td>0.0</td>\n",
       "      <td>1</td>\n",
       "      <td>50.0</td>\n",
       "      <td>0</td>\n",
       "      <td>0.0</td>\n",
       "      <td>0</td>\n",
       "      <td>0.0</td>\n",
       "      <td>0</td>\n",
       "      <td>0.0</td>\n",
       "      <td>0</td>\n",
       "      <td>0.0</td>\n",
       "      <td>2</td>\n",
       "    </tr>\n",
       "    <tr>\n",
       "      <th>대학원 졸업(석사또는 박사)</th>\n",
       "      <td>1</td>\n",
       "      <td>20.0</td>\n",
       "      <td>0</td>\n",
       "      <td>0.0</td>\n",
       "      <td>0</td>\n",
       "      <td>0.0</td>\n",
       "      <td>0</td>\n",
       "      <td>0.0</td>\n",
       "      <td>0</td>\n",
       "      <td>0.0</td>\n",
       "      <td>1</td>\n",
       "      <td>20.0</td>\n",
       "      <td>3</td>\n",
       "      <td>60.0</td>\n",
       "      <td>0</td>\n",
       "      <td>0.0</td>\n",
       "      <td>0</td>\n",
       "      <td>0.0</td>\n",
       "      <td>5</td>\n",
       "    </tr>\n",
       "    <tr>\n",
       "      <th rowspan=\"17\" valign=\"top\">거주지역</th>\n",
       "      <th>서울</th>\n",
       "      <td>2</td>\n",
       "      <td>20.0</td>\n",
       "      <td>1</td>\n",
       "      <td>10.0</td>\n",
       "      <td>1</td>\n",
       "      <td>10.0</td>\n",
       "      <td>0</td>\n",
       "      <td>0.0</td>\n",
       "      <td>2</td>\n",
       "      <td>20.0</td>\n",
       "      <td>1</td>\n",
       "      <td>10.0</td>\n",
       "      <td>3</td>\n",
       "      <td>30.0</td>\n",
       "      <td>0</td>\n",
       "      <td>0.0</td>\n",
       "      <td>0</td>\n",
       "      <td>0.0</td>\n",
       "      <td>10</td>\n",
       "    </tr>\n",
       "    <tr>\n",
       "      <th>부산</th>\n",
       "      <td>0</td>\n",
       "      <td>0.0</td>\n",
       "      <td>0</td>\n",
       "      <td>0.0</td>\n",
       "      <td>0</td>\n",
       "      <td>0.0</td>\n",
       "      <td>0</td>\n",
       "      <td>0.0</td>\n",
       "      <td>0</td>\n",
       "      <td>0.0</td>\n",
       "      <td>0</td>\n",
       "      <td>0.0</td>\n",
       "      <td>0</td>\n",
       "      <td>0.0</td>\n",
       "      <td>0</td>\n",
       "      <td>0.0</td>\n",
       "      <td>0</td>\n",
       "      <td>0.0</td>\n",
       "      <td>0</td>\n",
       "    </tr>\n",
       "    <tr>\n",
       "      <th>대구</th>\n",
       "      <td>0</td>\n",
       "      <td>0.0</td>\n",
       "      <td>0</td>\n",
       "      <td>0.0</td>\n",
       "      <td>0</td>\n",
       "      <td>0.0</td>\n",
       "      <td>0</td>\n",
       "      <td>0.0</td>\n",
       "      <td>0</td>\n",
       "      <td>0.0</td>\n",
       "      <td>0</td>\n",
       "      <td>0.0</td>\n",
       "      <td>0</td>\n",
       "      <td>0.0</td>\n",
       "      <td>0</td>\n",
       "      <td>0.0</td>\n",
       "      <td>0</td>\n",
       "      <td>0.0</td>\n",
       "      <td>0</td>\n",
       "    </tr>\n",
       "    <tr>\n",
       "      <th>인천</th>\n",
       "      <td>0</td>\n",
       "      <td>0.0</td>\n",
       "      <td>1</td>\n",
       "      <td>50.0</td>\n",
       "      <td>0</td>\n",
       "      <td>0.0</td>\n",
       "      <td>0</td>\n",
       "      <td>0.0</td>\n",
       "      <td>0</td>\n",
       "      <td>0.0</td>\n",
       "      <td>1</td>\n",
       "      <td>50.0</td>\n",
       "      <td>0</td>\n",
       "      <td>0.0</td>\n",
       "      <td>0</td>\n",
       "      <td>0.0</td>\n",
       "      <td>0</td>\n",
       "      <td>0.0</td>\n",
       "      <td>2</td>\n",
       "    </tr>\n",
       "    <tr>\n",
       "      <th>광주</th>\n",
       "      <td>0</td>\n",
       "      <td>0.0</td>\n",
       "      <td>1</td>\n",
       "      <td>100.0</td>\n",
       "      <td>0</td>\n",
       "      <td>0.0</td>\n",
       "      <td>0</td>\n",
       "      <td>0.0</td>\n",
       "      <td>0</td>\n",
       "      <td>0.0</td>\n",
       "      <td>0</td>\n",
       "      <td>0.0</td>\n",
       "      <td>0</td>\n",
       "      <td>0.0</td>\n",
       "      <td>0</td>\n",
       "      <td>0.0</td>\n",
       "      <td>0</td>\n",
       "      <td>0.0</td>\n",
       "      <td>1</td>\n",
       "    </tr>\n",
       "    <tr>\n",
       "      <th>대전</th>\n",
       "      <td>0</td>\n",
       "      <td>0.0</td>\n",
       "      <td>0</td>\n",
       "      <td>0.0</td>\n",
       "      <td>0</td>\n",
       "      <td>0.0</td>\n",
       "      <td>0</td>\n",
       "      <td>0.0</td>\n",
       "      <td>0</td>\n",
       "      <td>0.0</td>\n",
       "      <td>0</td>\n",
       "      <td>0.0</td>\n",
       "      <td>0</td>\n",
       "      <td>0.0</td>\n",
       "      <td>0</td>\n",
       "      <td>0.0</td>\n",
       "      <td>0</td>\n",
       "      <td>0.0</td>\n",
       "      <td>0</td>\n",
       "    </tr>\n",
       "    <tr>\n",
       "      <th>울산</th>\n",
       "      <td>0</td>\n",
       "      <td>0.0</td>\n",
       "      <td>0</td>\n",
       "      <td>0.0</td>\n",
       "      <td>0</td>\n",
       "      <td>0.0</td>\n",
       "      <td>0</td>\n",
       "      <td>0.0</td>\n",
       "      <td>0</td>\n",
       "      <td>0.0</td>\n",
       "      <td>0</td>\n",
       "      <td>0.0</td>\n",
       "      <td>0</td>\n",
       "      <td>0.0</td>\n",
       "      <td>0</td>\n",
       "      <td>0.0</td>\n",
       "      <td>0</td>\n",
       "      <td>0.0</td>\n",
       "      <td>0</td>\n",
       "    </tr>\n",
       "    <tr>\n",
       "      <th>세종</th>\n",
       "      <td>0</td>\n",
       "      <td>0.0</td>\n",
       "      <td>0</td>\n",
       "      <td>0.0</td>\n",
       "      <td>0</td>\n",
       "      <td>0.0</td>\n",
       "      <td>0</td>\n",
       "      <td>0.0</td>\n",
       "      <td>0</td>\n",
       "      <td>0.0</td>\n",
       "      <td>0</td>\n",
       "      <td>0.0</td>\n",
       "      <td>0</td>\n",
       "      <td>0.0</td>\n",
       "      <td>0</td>\n",
       "      <td>0.0</td>\n",
       "      <td>0</td>\n",
       "      <td>0.0</td>\n",
       "      <td>0</td>\n",
       "    </tr>\n",
       "    <tr>\n",
       "      <th>경기</th>\n",
       "      <td>6</td>\n",
       "      <td>26.1</td>\n",
       "      <td>2</td>\n",
       "      <td>8.7</td>\n",
       "      <td>1</td>\n",
       "      <td>4.3</td>\n",
       "      <td>1</td>\n",
       "      <td>4.3</td>\n",
       "      <td>5</td>\n",
       "      <td>21.7</td>\n",
       "      <td>7</td>\n",
       "      <td>30.4</td>\n",
       "      <td>1</td>\n",
       "      <td>4.3</td>\n",
       "      <td>0</td>\n",
       "      <td>0.0</td>\n",
       "      <td>0</td>\n",
       "      <td>0.0</td>\n",
       "      <td>23</td>\n",
       "    </tr>\n",
       "    <tr>\n",
       "      <th>강원</th>\n",
       "      <td>19</td>\n",
       "      <td>28.4</td>\n",
       "      <td>7</td>\n",
       "      <td>10.4</td>\n",
       "      <td>2</td>\n",
       "      <td>3.0</td>\n",
       "      <td>3</td>\n",
       "      <td>4.5</td>\n",
       "      <td>5</td>\n",
       "      <td>7.5</td>\n",
       "      <td>16</td>\n",
       "      <td>23.9</td>\n",
       "      <td>13</td>\n",
       "      <td>19.4</td>\n",
       "      <td>2</td>\n",
       "      <td>3.0</td>\n",
       "      <td>0</td>\n",
       "      <td>0.0</td>\n",
       "      <td>67</td>\n",
       "    </tr>\n",
       "    <tr>\n",
       "      <th>충북</th>\n",
       "      <td>0</td>\n",
       "      <td>0.0</td>\n",
       "      <td>0</td>\n",
       "      <td>0.0</td>\n",
       "      <td>0</td>\n",
       "      <td>0.0</td>\n",
       "      <td>0</td>\n",
       "      <td>0.0</td>\n",
       "      <td>0</td>\n",
       "      <td>0.0</td>\n",
       "      <td>0</td>\n",
       "      <td>0.0</td>\n",
       "      <td>0</td>\n",
       "      <td>0.0</td>\n",
       "      <td>0</td>\n",
       "      <td>0.0</td>\n",
       "      <td>0</td>\n",
       "      <td>0.0</td>\n",
       "      <td>0</td>\n",
       "    </tr>\n",
       "    <tr>\n",
       "      <th>충남</th>\n",
       "      <td>0</td>\n",
       "      <td>0.0</td>\n",
       "      <td>0</td>\n",
       "      <td>0.0</td>\n",
       "      <td>0</td>\n",
       "      <td>0.0</td>\n",
       "      <td>0</td>\n",
       "      <td>0.0</td>\n",
       "      <td>0</td>\n",
       "      <td>0.0</td>\n",
       "      <td>0</td>\n",
       "      <td>0.0</td>\n",
       "      <td>0</td>\n",
       "      <td>0.0</td>\n",
       "      <td>0</td>\n",
       "      <td>0.0</td>\n",
       "      <td>0</td>\n",
       "      <td>0.0</td>\n",
       "      <td>0</td>\n",
       "    </tr>\n",
       "    <tr>\n",
       "      <th>전북</th>\n",
       "      <td>0</td>\n",
       "      <td>0.0</td>\n",
       "      <td>0</td>\n",
       "      <td>0.0</td>\n",
       "      <td>0</td>\n",
       "      <td>0.0</td>\n",
       "      <td>0</td>\n",
       "      <td>0.0</td>\n",
       "      <td>0</td>\n",
       "      <td>0.0</td>\n",
       "      <td>0</td>\n",
       "      <td>0.0</td>\n",
       "      <td>0</td>\n",
       "      <td>0.0</td>\n",
       "      <td>0</td>\n",
       "      <td>0.0</td>\n",
       "      <td>0</td>\n",
       "      <td>0.0</td>\n",
       "      <td>0</td>\n",
       "    </tr>\n",
       "    <tr>\n",
       "      <th>전남</th>\n",
       "      <td>0</td>\n",
       "      <td>0.0</td>\n",
       "      <td>0</td>\n",
       "      <td>0.0</td>\n",
       "      <td>0</td>\n",
       "      <td>0.0</td>\n",
       "      <td>0</td>\n",
       "      <td>0.0</td>\n",
       "      <td>1</td>\n",
       "      <td>100.0</td>\n",
       "      <td>0</td>\n",
       "      <td>0.0</td>\n",
       "      <td>0</td>\n",
       "      <td>0.0</td>\n",
       "      <td>0</td>\n",
       "      <td>0.0</td>\n",
       "      <td>0</td>\n",
       "      <td>0.0</td>\n",
       "      <td>1</td>\n",
       "    </tr>\n",
       "    <tr>\n",
       "      <th>경북</th>\n",
       "      <td>0</td>\n",
       "      <td>0.0</td>\n",
       "      <td>0</td>\n",
       "      <td>0.0</td>\n",
       "      <td>0</td>\n",
       "      <td>0.0</td>\n",
       "      <td>0</td>\n",
       "      <td>0.0</td>\n",
       "      <td>0</td>\n",
       "      <td>0.0</td>\n",
       "      <td>1</td>\n",
       "      <td>100.0</td>\n",
       "      <td>0</td>\n",
       "      <td>0.0</td>\n",
       "      <td>0</td>\n",
       "      <td>0.0</td>\n",
       "      <td>0</td>\n",
       "      <td>0.0</td>\n",
       "      <td>1</td>\n",
       "    </tr>\n",
       "    <tr>\n",
       "      <th>경남</th>\n",
       "      <td>0</td>\n",
       "      <td>0.0</td>\n",
       "      <td>0</td>\n",
       "      <td>0.0</td>\n",
       "      <td>0</td>\n",
       "      <td>0.0</td>\n",
       "      <td>0</td>\n",
       "      <td>0.0</td>\n",
       "      <td>0</td>\n",
       "      <td>0.0</td>\n",
       "      <td>0</td>\n",
       "      <td>0.0</td>\n",
       "      <td>0</td>\n",
       "      <td>0.0</td>\n",
       "      <td>0</td>\n",
       "      <td>0.0</td>\n",
       "      <td>0</td>\n",
       "      <td>0.0</td>\n",
       "      <td>0</td>\n",
       "    </tr>\n",
       "    <tr>\n",
       "      <th>제주</th>\n",
       "      <td>0</td>\n",
       "      <td>0.0</td>\n",
       "      <td>0</td>\n",
       "      <td>0.0</td>\n",
       "      <td>0</td>\n",
       "      <td>0.0</td>\n",
       "      <td>0</td>\n",
       "      <td>0.0</td>\n",
       "      <td>0</td>\n",
       "      <td>0.0</td>\n",
       "      <td>0</td>\n",
       "      <td>0.0</td>\n",
       "      <td>0</td>\n",
       "      <td>0.0</td>\n",
       "      <td>0</td>\n",
       "      <td>0.0</td>\n",
       "      <td>0</td>\n",
       "      <td>0.0</td>\n",
       "      <td>0</td>\n",
       "    </tr>\n",
       "    <tr>\n",
       "      <th rowspan=\"13\" valign=\"top\">직업</th>\n",
       "      <th>산림임업종사자</th>\n",
       "      <td>4</td>\n",
       "      <td>36.4</td>\n",
       "      <td>1</td>\n",
       "      <td>9.1</td>\n",
       "      <td>2</td>\n",
       "      <td>18.2</td>\n",
       "      <td>0</td>\n",
       "      <td>0.0</td>\n",
       "      <td>0</td>\n",
       "      <td>0.0</td>\n",
       "      <td>2</td>\n",
       "      <td>18.2</td>\n",
       "      <td>1</td>\n",
       "      <td>9.1</td>\n",
       "      <td>1</td>\n",
       "      <td>9.1</td>\n",
       "      <td>0</td>\n",
       "      <td>0.0</td>\n",
       "      <td>11</td>\n",
       "    </tr>\n",
       "    <tr>\n",
       "      <th>사무종사자</th>\n",
       "      <td>0</td>\n",
       "      <td>0.0</td>\n",
       "      <td>0</td>\n",
       "      <td>0.0</td>\n",
       "      <td>0</td>\n",
       "      <td>0.0</td>\n",
       "      <td>1</td>\n",
       "      <td>25.0</td>\n",
       "      <td>2</td>\n",
       "      <td>50.0</td>\n",
       "      <td>1</td>\n",
       "      <td>25.0</td>\n",
       "      <td>0</td>\n",
       "      <td>0.0</td>\n",
       "      <td>0</td>\n",
       "      <td>0.0</td>\n",
       "      <td>0</td>\n",
       "      <td>0.0</td>\n",
       "      <td>4</td>\n",
       "    </tr>\n",
       "    <tr>\n",
       "      <th>서비스종사자</th>\n",
       "      <td>5</td>\n",
       "      <td>62.5</td>\n",
       "      <td>1</td>\n",
       "      <td>12.5</td>\n",
       "      <td>0</td>\n",
       "      <td>0.0</td>\n",
       "      <td>0</td>\n",
       "      <td>0.0</td>\n",
       "      <td>0</td>\n",
       "      <td>0.0</td>\n",
       "      <td>1</td>\n",
       "      <td>12.5</td>\n",
       "      <td>1</td>\n",
       "      <td>12.5</td>\n",
       "      <td>0</td>\n",
       "      <td>0.0</td>\n",
       "      <td>0</td>\n",
       "      <td>0.0</td>\n",
       "      <td>8</td>\n",
       "    </tr>\n",
       "    <tr>\n",
       "      <th>판매종사자</th>\n",
       "      <td>0</td>\n",
       "      <td>0.0</td>\n",
       "      <td>2</td>\n",
       "      <td>50.0</td>\n",
       "      <td>0</td>\n",
       "      <td>0.0</td>\n",
       "      <td>0</td>\n",
       "      <td>0.0</td>\n",
       "      <td>2</td>\n",
       "      <td>50.0</td>\n",
       "      <td>0</td>\n",
       "      <td>0.0</td>\n",
       "      <td>0</td>\n",
       "      <td>0.0</td>\n",
       "      <td>0</td>\n",
       "      <td>0.0</td>\n",
       "      <td>0</td>\n",
       "      <td>0.0</td>\n",
       "      <td>4</td>\n",
       "    </tr>\n",
       "    <tr>\n",
       "      <th>기술기능종사자</th>\n",
       "      <td>1</td>\n",
       "      <td>33.3</td>\n",
       "      <td>0</td>\n",
       "      <td>0.0</td>\n",
       "      <td>0</td>\n",
       "      <td>0.0</td>\n",
       "      <td>0</td>\n",
       "      <td>0.0</td>\n",
       "      <td>0</td>\n",
       "      <td>0.0</td>\n",
       "      <td>1</td>\n",
       "      <td>33.3</td>\n",
       "      <td>1</td>\n",
       "      <td>33.3</td>\n",
       "      <td>0</td>\n",
       "      <td>0.0</td>\n",
       "      <td>0</td>\n",
       "      <td>0.0</td>\n",
       "      <td>3</td>\n",
       "    </tr>\n",
       "    <tr>\n",
       "      <th>단순노무종사자</th>\n",
       "      <td>0</td>\n",
       "      <td>0.0</td>\n",
       "      <td>0</td>\n",
       "      <td>0.0</td>\n",
       "      <td>0</td>\n",
       "      <td>0.0</td>\n",
       "      <td>0</td>\n",
       "      <td>0.0</td>\n",
       "      <td>0</td>\n",
       "      <td>0.0</td>\n",
       "      <td>0</td>\n",
       "      <td>0.0</td>\n",
       "      <td>0</td>\n",
       "      <td>0.0</td>\n",
       "      <td>0</td>\n",
       "      <td>0.0</td>\n",
       "      <td>0</td>\n",
       "      <td>0.0</td>\n",
       "      <td>0</td>\n",
       "    </tr>\n",
       "    <tr>\n",
       "      <th>전문가(교수 포함)</th>\n",
       "      <td>2</td>\n",
       "      <td>66.7</td>\n",
       "      <td>0</td>\n",
       "      <td>0.0</td>\n",
       "      <td>0</td>\n",
       "      <td>0.0</td>\n",
       "      <td>0</td>\n",
       "      <td>0.0</td>\n",
       "      <td>1</td>\n",
       "      <td>33.3</td>\n",
       "      <td>0</td>\n",
       "      <td>0.0</td>\n",
       "      <td>0</td>\n",
       "      <td>0.0</td>\n",
       "      <td>0</td>\n",
       "      <td>0.0</td>\n",
       "      <td>0</td>\n",
       "      <td>0.0</td>\n",
       "      <td>3</td>\n",
       "    </tr>\n",
       "    <tr>\n",
       "      <th>경영직종사자</th>\n",
       "      <td>0</td>\n",
       "      <td>0.0</td>\n",
       "      <td>0</td>\n",
       "      <td>0.0</td>\n",
       "      <td>0</td>\n",
       "      <td>0.0</td>\n",
       "      <td>0</td>\n",
       "      <td>0.0</td>\n",
       "      <td>0</td>\n",
       "      <td>0.0</td>\n",
       "      <td>0</td>\n",
       "      <td>0.0</td>\n",
       "      <td>0</td>\n",
       "      <td>0.0</td>\n",
       "      <td>0</td>\n",
       "      <td>0.0</td>\n",
       "      <td>0</td>\n",
       "      <td>0.0</td>\n",
       "      <td>0</td>\n",
       "    </tr>\n",
       "    <tr>\n",
       "      <th>자영업자(개인사업자)</th>\n",
       "      <td>3</td>\n",
       "      <td>37.5</td>\n",
       "      <td>0</td>\n",
       "      <td>0.0</td>\n",
       "      <td>0</td>\n",
       "      <td>0.0</td>\n",
       "      <td>0</td>\n",
       "      <td>0.0</td>\n",
       "      <td>0</td>\n",
       "      <td>0.0</td>\n",
       "      <td>3</td>\n",
       "      <td>37.5</td>\n",
       "      <td>2</td>\n",
       "      <td>25.0</td>\n",
       "      <td>0</td>\n",
       "      <td>0.0</td>\n",
       "      <td>0</td>\n",
       "      <td>0.0</td>\n",
       "      <td>8</td>\n",
       "    </tr>\n",
       "    <tr>\n",
       "      <th>공무원(교사포함)</th>\n",
       "      <td>5</td>\n",
       "      <td>25.0</td>\n",
       "      <td>2</td>\n",
       "      <td>10.0</td>\n",
       "      <td>0</td>\n",
       "      <td>0.0</td>\n",
       "      <td>2</td>\n",
       "      <td>10.0</td>\n",
       "      <td>1</td>\n",
       "      <td>5.0</td>\n",
       "      <td>5</td>\n",
       "      <td>25.0</td>\n",
       "      <td>4</td>\n",
       "      <td>20.0</td>\n",
       "      <td>1</td>\n",
       "      <td>5.0</td>\n",
       "      <td>0</td>\n",
       "      <td>0.0</td>\n",
       "      <td>20</td>\n",
       "    </tr>\n",
       "    <tr>\n",
       "      <th>학생(대학원생포함)</th>\n",
       "      <td>4</td>\n",
       "      <td>12.1</td>\n",
       "      <td>5</td>\n",
       "      <td>15.2</td>\n",
       "      <td>1</td>\n",
       "      <td>3.0</td>\n",
       "      <td>1</td>\n",
       "      <td>3.0</td>\n",
       "      <td>6</td>\n",
       "      <td>18.2</td>\n",
       "      <td>10</td>\n",
       "      <td>30.3</td>\n",
       "      <td>6</td>\n",
       "      <td>18.2</td>\n",
       "      <td>0</td>\n",
       "      <td>0.0</td>\n",
       "      <td>0</td>\n",
       "      <td>0.0</td>\n",
       "      <td>33</td>\n",
       "    </tr>\n",
       "    <tr>\n",
       "      <th>전업주부</th>\n",
       "      <td>3</td>\n",
       "      <td>37.5</td>\n",
       "      <td>1</td>\n",
       "      <td>12.5</td>\n",
       "      <td>1</td>\n",
       "      <td>12.5</td>\n",
       "      <td>0</td>\n",
       "      <td>0.0</td>\n",
       "      <td>0</td>\n",
       "      <td>0.0</td>\n",
       "      <td>2</td>\n",
       "      <td>25.0</td>\n",
       "      <td>1</td>\n",
       "      <td>12.5</td>\n",
       "      <td>0</td>\n",
       "      <td>0.0</td>\n",
       "      <td>0</td>\n",
       "      <td>0.0</td>\n",
       "      <td>8</td>\n",
       "    </tr>\n",
       "    <tr>\n",
       "      <th>기타</th>\n",
       "      <td>0</td>\n",
       "      <td>0.0</td>\n",
       "      <td>0</td>\n",
       "      <td>0.0</td>\n",
       "      <td>0</td>\n",
       "      <td>0.0</td>\n",
       "      <td>0</td>\n",
       "      <td>0.0</td>\n",
       "      <td>1</td>\n",
       "      <td>33.3</td>\n",
       "      <td>1</td>\n",
       "      <td>33.3</td>\n",
       "      <td>1</td>\n",
       "      <td>33.3</td>\n",
       "      <td>0</td>\n",
       "      <td>0.0</td>\n",
       "      <td>0</td>\n",
       "      <td>0.0</td>\n",
       "      <td>3</td>\n",
       "    </tr>\n",
       "  </tbody>\n",
       "</table>\n",
       "</div>"
      ],
      "text/plain": [
       "                      문화·예술 관람 행사(예 : 뮤직콘서트, 뮤지컬 갈라쇼 등)-빈도  \\\n",
       "성별   남성                                                  8   \n",
       "     여성                                                 19   \n",
       "연령   10대(15세이상)                                          1   \n",
       "     20대                                                 4   \n",
       "     30대                                                 3   \n",
       "     40대                                                 4   \n",
       "     50대                                                 6   \n",
       "     60대이상                                               9   \n",
       "학력   초등학교 졸업(무학 포함)                                      3   \n",
       "     중학교 재학                                              3   \n",
       "     중학교 졸업                                              2   \n",
       "     고등학교 재학                                             2   \n",
       "     고등학교 졸업                                             1   \n",
       "     대학교 재학                                              2   \n",
       "     대학교 졸업                                             12   \n",
       "     대학원 재학(석사 또는 박사)                                    1   \n",
       "     대학원 졸업(석사또는 박사)                                     1   \n",
       "거주지역 서울                                                  2   \n",
       "     부산                                                  0   \n",
       "     대구                                                  0   \n",
       "     인천                                                  0   \n",
       "     광주                                                  0   \n",
       "     대전                                                  0   \n",
       "     울산                                                  0   \n",
       "     세종                                                  0   \n",
       "     경기                                                  6   \n",
       "     강원                                                 19   \n",
       "     충북                                                  0   \n",
       "     충남                                                  0   \n",
       "     전북                                                  0   \n",
       "     전남                                                  0   \n",
       "     경북                                                  0   \n",
       "     경남                                                  0   \n",
       "     제주                                                  0   \n",
       "직업   산림임업종사자                                             4   \n",
       "     사무종사자                                               0   \n",
       "     서비스종사자                                              5   \n",
       "     판매종사자                                               0   \n",
       "     기술기능종사자                                             1   \n",
       "     단순노무종사자                                             0   \n",
       "     전문가(교수 포함)                                          2   \n",
       "     경영직종사자                                              0   \n",
       "     자영업자(개인사업자)                                         3   \n",
       "     공무원(교사포함)                                           5   \n",
       "     학생(대학원생포함)                                          4   \n",
       "     전업주부                                                3   \n",
       "     기타                                                  0   \n",
       "\n",
       "                       문화·예술 관람 행사(예 : 뮤직콘서트, 뮤지컬 갈라쇼 등)-비율  \\\n",
       "성별   남성                                                16.0   \n",
       "     여성                                                34.5   \n",
       "연령   10대(15세이상)                                        14.3   \n",
       "     20대                                               14.3   \n",
       "     30대                                               21.4   \n",
       "     40대                                               28.6   \n",
       "     50대                                               31.6   \n",
       "     60대이상                                             39.1   \n",
       "학력   초등학교 졸업(무학 포함)                                    75.0   \n",
       "     중학교 재학                                            30.0   \n",
       "     중학교 졸업                                            50.0   \n",
       "     고등학교 재학                                          100.0   \n",
       "     고등학교 졸업                                            9.1   \n",
       "     대학교 재학                                             8.0   \n",
       "     대학교 졸업                                            28.6   \n",
       "     대학원 재학(석사 또는 박사)                                  50.0   \n",
       "     대학원 졸업(석사또는 박사)                                   20.0   \n",
       "거주지역 서울                                                20.0   \n",
       "     부산                                                 0.0   \n",
       "     대구                                                 0.0   \n",
       "     인천                                                 0.0   \n",
       "     광주                                                 0.0   \n",
       "     대전                                                 0.0   \n",
       "     울산                                                 0.0   \n",
       "     세종                                                 0.0   \n",
       "     경기                                                26.1   \n",
       "     강원                                                28.4   \n",
       "     충북                                                 0.0   \n",
       "     충남                                                 0.0   \n",
       "     전북                                                 0.0   \n",
       "     전남                                                 0.0   \n",
       "     경북                                                 0.0   \n",
       "     경남                                                 0.0   \n",
       "     제주                                                 0.0   \n",
       "직업   산림임업종사자                                           36.4   \n",
       "     사무종사자                                              0.0   \n",
       "     서비스종사자                                            62.5   \n",
       "     판매종사자                                              0.0   \n",
       "     기술기능종사자                                           33.3   \n",
       "     단순노무종사자                                            0.0   \n",
       "     전문가(교수 포함)                                        66.7   \n",
       "     경영직종사자                                             0.0   \n",
       "     자영업자(개인사업자)                                       37.5   \n",
       "     공무원(교사포함)                                         25.0   \n",
       "     학생(대학원생포함)                                        12.1   \n",
       "     전업주부                                              37.5   \n",
       "     기타                                                 0.0   \n",
       "\n",
       "                      문화·예술 참여 행사(예 : 나무장난감 놀이마당축제 등)-빈도  \\\n",
       "성별   남성                                                5   \n",
       "     여성                                                7   \n",
       "연령   10대(15세이상)                                        3   \n",
       "     20대                                               2   \n",
       "     30대                                               1   \n",
       "     40대                                               3   \n",
       "     50대                                               1   \n",
       "     60대이상                                             2   \n",
       "학력   초등학교 졸업(무학 포함)                                    0   \n",
       "     중학교 재학                                            3   \n",
       "     중학교 졸업                                            0   \n",
       "     고등학교 재학                                           0   \n",
       "     고등학교 졸업                                           3   \n",
       "     대학교 재학                                            3   \n",
       "     대학교 졸업                                            3   \n",
       "     대학원 재학(석사 또는 박사)                                  0   \n",
       "     대학원 졸업(석사또는 박사)                                   0   \n",
       "거주지역 서울                                                1   \n",
       "     부산                                                0   \n",
       "     대구                                                0   \n",
       "     인천                                                1   \n",
       "     광주                                                1   \n",
       "     대전                                                0   \n",
       "     울산                                                0   \n",
       "     세종                                                0   \n",
       "     경기                                                2   \n",
       "     강원                                                7   \n",
       "     충북                                                0   \n",
       "     충남                                                0   \n",
       "     전북                                                0   \n",
       "     전남                                                0   \n",
       "     경북                                                0   \n",
       "     경남                                                0   \n",
       "     제주                                                0   \n",
       "직업   산림임업종사자                                           1   \n",
       "     사무종사자                                             0   \n",
       "     서비스종사자                                            1   \n",
       "     판매종사자                                             2   \n",
       "     기술기능종사자                                           0   \n",
       "     단순노무종사자                                           0   \n",
       "     전문가(교수 포함)                                        0   \n",
       "     경영직종사자                                            0   \n",
       "     자영업자(개인사업자)                                       0   \n",
       "     공무원(교사포함)                                         2   \n",
       "     학생(대학원생포함)                                        5   \n",
       "     전업주부                                              1   \n",
       "     기타                                                0   \n",
       "\n",
       "                       문화·예술 참여 행사(예 : 나무장난감 놀이마당축제 등)-비율  \\\n",
       "성별   남성                                              10.0   \n",
       "     여성                                              12.7   \n",
       "연령   10대(15세이상)                                      42.9   \n",
       "     20대                                              7.1   \n",
       "     30대                                              7.1   \n",
       "     40대                                             21.4   \n",
       "     50대                                              5.3   \n",
       "     60대이상                                            8.7   \n",
       "학력   초등학교 졸업(무학 포함)                                   0.0   \n",
       "     중학교 재학                                          30.0   \n",
       "     중학교 졸업                                           0.0   \n",
       "     고등학교 재학                                          0.0   \n",
       "     고등학교 졸업                                         27.3   \n",
       "     대학교 재학                                          12.0   \n",
       "     대학교 졸업                                           7.1   \n",
       "     대학원 재학(석사 또는 박사)                                 0.0   \n",
       "     대학원 졸업(석사또는 박사)                                  0.0   \n",
       "거주지역 서울                                              10.0   \n",
       "     부산                                               0.0   \n",
       "     대구                                               0.0   \n",
       "     인천                                              50.0   \n",
       "     광주                                             100.0   \n",
       "     대전                                               0.0   \n",
       "     울산                                               0.0   \n",
       "     세종                                               0.0   \n",
       "     경기                                               8.7   \n",
       "     강원                                              10.4   \n",
       "     충북                                               0.0   \n",
       "     충남                                               0.0   \n",
       "     전북                                               0.0   \n",
       "     전남                                               0.0   \n",
       "     경북                                               0.0   \n",
       "     경남                                               0.0   \n",
       "     제주                                               0.0   \n",
       "직업   산림임업종사자                                          9.1   \n",
       "     사무종사자                                            0.0   \n",
       "     서비스종사자                                          12.5   \n",
       "     판매종사자                                           50.0   \n",
       "     기술기능종사자                                          0.0   \n",
       "     단순노무종사자                                          0.0   \n",
       "     전문가(교수 포함)                                       0.0   \n",
       "     경영직종사자                                           0.0   \n",
       "     자영업자(개인사업자)                                      0.0   \n",
       "     공무원(교사포함)                                       10.0   \n",
       "     학생(대학원생포함)                                      15.2   \n",
       "     전업주부                                            12.5   \n",
       "     기타                                               0.0   \n",
       "\n",
       "                      레포츠 행사(예 : 전국 스포츠 클라이밍 대회 등)-빈도  \\\n",
       "성별   남성                                             3   \n",
       "     여성                                             1   \n",
       "연령   10대(15세이상)                                     0   \n",
       "     20대                                            1   \n",
       "     30대                                            0   \n",
       "     40대                                            0   \n",
       "     50대                                            2   \n",
       "     60대이상                                          1   \n",
       "학력   초등학교 졸업(무학 포함)                                 0   \n",
       "     중학교 재학                                         0   \n",
       "     중학교 졸업                                         0   \n",
       "     고등학교 재학                                        0   \n",
       "     고등학교 졸업                                        3   \n",
       "     대학교 재학                                         1   \n",
       "     대학교 졸업                                         0   \n",
       "     대학원 재학(석사 또는 박사)                               0   \n",
       "     대학원 졸업(석사또는 박사)                                0   \n",
       "거주지역 서울                                             1   \n",
       "     부산                                             0   \n",
       "     대구                                             0   \n",
       "     인천                                             0   \n",
       "     광주                                             0   \n",
       "     대전                                             0   \n",
       "     울산                                             0   \n",
       "     세종                                             0   \n",
       "     경기                                             1   \n",
       "     강원                                             2   \n",
       "     충북                                             0   \n",
       "     충남                                             0   \n",
       "     전북                                             0   \n",
       "     전남                                             0   \n",
       "     경북                                             0   \n",
       "     경남                                             0   \n",
       "     제주                                             0   \n",
       "직업   산림임업종사자                                        2   \n",
       "     사무종사자                                          0   \n",
       "     서비스종사자                                         0   \n",
       "     판매종사자                                          0   \n",
       "     기술기능종사자                                        0   \n",
       "     단순노무종사자                                        0   \n",
       "     전문가(교수 포함)                                     0   \n",
       "     경영직종사자                                         0   \n",
       "     자영업자(개인사업자)                                    0   \n",
       "     공무원(교사포함)                                      0   \n",
       "     학생(대학원생포함)                                     1   \n",
       "     전업주부                                           1   \n",
       "     기타                                             0   \n",
       "\n",
       "                       레포츠 행사(예 : 전국 스포츠 클라이밍 대회 등)-비율  \\\n",
       "성별   남성                                            6.0   \n",
       "     여성                                            1.8   \n",
       "연령   10대(15세이상)                                    0.0   \n",
       "     20대                                           3.6   \n",
       "     30대                                           0.0   \n",
       "     40대                                           0.0   \n",
       "     50대                                          10.5   \n",
       "     60대이상                                         4.3   \n",
       "학력   초등학교 졸업(무학 포함)                                0.0   \n",
       "     중학교 재학                                        0.0   \n",
       "     중학교 졸업                                        0.0   \n",
       "     고등학교 재학                                       0.0   \n",
       "     고등학교 졸업                                      27.3   \n",
       "     대학교 재학                                        4.0   \n",
       "     대학교 졸업                                        0.0   \n",
       "     대학원 재학(석사 또는 박사)                              0.0   \n",
       "     대학원 졸업(석사또는 박사)                               0.0   \n",
       "거주지역 서울                                           10.0   \n",
       "     부산                                            0.0   \n",
       "     대구                                            0.0   \n",
       "     인천                                            0.0   \n",
       "     광주                                            0.0   \n",
       "     대전                                            0.0   \n",
       "     울산                                            0.0   \n",
       "     세종                                            0.0   \n",
       "     경기                                            4.3   \n",
       "     강원                                            3.0   \n",
       "     충북                                            0.0   \n",
       "     충남                                            0.0   \n",
       "     전북                                            0.0   \n",
       "     전남                                            0.0   \n",
       "     경북                                            0.0   \n",
       "     경남                                            0.0   \n",
       "     제주                                            0.0   \n",
       "직업   산림임업종사자                                      18.2   \n",
       "     사무종사자                                         0.0   \n",
       "     서비스종사자                                        0.0   \n",
       "     판매종사자                                         0.0   \n",
       "     기술기능종사자                                       0.0   \n",
       "     단순노무종사자                                       0.0   \n",
       "     전문가(교수 포함)                                    0.0   \n",
       "     경영직종사자                                        0.0   \n",
       "     자영업자(개인사업자)                                   0.0   \n",
       "     공무원(교사포함)                                     0.0   \n",
       "     학생(대학원생포함)                                    3.0   \n",
       "     전업주부                                         12.5   \n",
       "     기타                                            0.0   \n",
       "\n",
       "                      학습 행사(예 : 산림과학 학술대회 등)-빈도  학습 행사(예 : 산림과학 학술대회 등)-비율  \\\n",
       "성별   남성                                       3                        6.0   \n",
       "     여성                                       1                        1.8   \n",
       "연령   10대(15세이상)                               0                        0.0   \n",
       "     20대                                      1                        3.6   \n",
       "     30대                                      0                        0.0   \n",
       "     40대                                      0                        0.0   \n",
       "     50대                                      1                        5.3   \n",
       "     60대이상                                    2                        8.7   \n",
       "학력   초등학교 졸업(무학 포함)                           0                        0.0   \n",
       "     중학교 재학                                   0                        0.0   \n",
       "     중학교 졸업                                   1                       25.0   \n",
       "     고등학교 재학                                  0                        0.0   \n",
       "     고등학교 졸업                                  1                        9.1   \n",
       "     대학교 재학                                   1                        4.0   \n",
       "     대학교 졸업                                   1                        2.4   \n",
       "     대학원 재학(석사 또는 박사)                         0                        0.0   \n",
       "     대학원 졸업(석사또는 박사)                          0                        0.0   \n",
       "거주지역 서울                                       0                        0.0   \n",
       "     부산                                       0                        0.0   \n",
       "     대구                                       0                        0.0   \n",
       "     인천                                       0                        0.0   \n",
       "     광주                                       0                        0.0   \n",
       "     대전                                       0                        0.0   \n",
       "     울산                                       0                        0.0   \n",
       "     세종                                       0                        0.0   \n",
       "     경기                                       1                        4.3   \n",
       "     강원                                       3                        4.5   \n",
       "     충북                                       0                        0.0   \n",
       "     충남                                       0                        0.0   \n",
       "     전북                                       0                        0.0   \n",
       "     전남                                       0                        0.0   \n",
       "     경북                                       0                        0.0   \n",
       "     경남                                       0                        0.0   \n",
       "     제주                                       0                        0.0   \n",
       "직업   산림임업종사자                                  0                        0.0   \n",
       "     사무종사자                                    1                       25.0   \n",
       "     서비스종사자                                   0                        0.0   \n",
       "     판매종사자                                    0                        0.0   \n",
       "     기술기능종사자                                  0                        0.0   \n",
       "     단순노무종사자                                  0                        0.0   \n",
       "     전문가(교수 포함)                               0                        0.0   \n",
       "     경영직종사자                                   0                        0.0   \n",
       "     자영업자(개인사업자)                              0                        0.0   \n",
       "     공무원(교사포함)                                2                       10.0   \n",
       "     학생(대학원생포함)                               1                        3.0   \n",
       "     전업주부                                     0                        0.0   \n",
       "     기타                                       0                        0.0   \n",
       "\n",
       "                      관광 활동(예 : 설악산 자생식물원, 용대관광단지 등)-빈도  \\\n",
       "성별   남성                                               6   \n",
       "     여성                                               7   \n",
       "연령   10대(15세이상)                                       1   \n",
       "     20대                                              5   \n",
       "     30대                                              1   \n",
       "     40대                                              2   \n",
       "     50대                                              2   \n",
       "     60대이상                                            2   \n",
       "학력   초등학교 졸업(무학 포함)                                   0   \n",
       "     중학교 재학                                           1   \n",
       "     중학교 졸업                                           1   \n",
       "     고등학교 재학                                          0   \n",
       "     고등학교 졸업                                          1   \n",
       "     대학교 재학                                           5   \n",
       "     대학교 졸업                                           4   \n",
       "     대학원 재학(석사 또는 박사)                                 1   \n",
       "     대학원 졸업(석사또는 박사)                                  0   \n",
       "거주지역 서울                                               2   \n",
       "     부산                                               0   \n",
       "     대구                                               0   \n",
       "     인천                                               0   \n",
       "     광주                                               0   \n",
       "     대전                                               0   \n",
       "     울산                                               0   \n",
       "     세종                                               0   \n",
       "     경기                                               5   \n",
       "     강원                                               5   \n",
       "     충북                                               0   \n",
       "     충남                                               0   \n",
       "     전북                                               0   \n",
       "     전남                                               1   \n",
       "     경북                                               0   \n",
       "     경남                                               0   \n",
       "     제주                                               0   \n",
       "직업   산림임업종사자                                          0   \n",
       "     사무종사자                                            2   \n",
       "     서비스종사자                                           0   \n",
       "     판매종사자                                            2   \n",
       "     기술기능종사자                                          0   \n",
       "     단순노무종사자                                          0   \n",
       "     전문가(교수 포함)                                       1   \n",
       "     경영직종사자                                           0   \n",
       "     자영업자(개인사업자)                                      0   \n",
       "     공무원(교사포함)                                        1   \n",
       "     학생(대학원생포함)                                       6   \n",
       "     전업주부                                             0   \n",
       "     기타                                               1   \n",
       "\n",
       "                       관광 활동(예 : 설악산 자생식물원, 용대관광단지 등)-비율  \\\n",
       "성별   남성                                             12.0   \n",
       "     여성                                             12.7   \n",
       "연령   10대(15세이상)                                     14.3   \n",
       "     20대                                            17.9   \n",
       "     30대                                             7.1   \n",
       "     40대                                            14.3   \n",
       "     50대                                            10.5   \n",
       "     60대이상                                           8.7   \n",
       "학력   초등학교 졸업(무학 포함)                                  0.0   \n",
       "     중학교 재학                                         10.0   \n",
       "     중학교 졸업                                         25.0   \n",
       "     고등학교 재학                                         0.0   \n",
       "     고등학교 졸업                                         9.1   \n",
       "     대학교 재학                                         20.0   \n",
       "     대학교 졸업                                          9.5   \n",
       "     대학원 재학(석사 또는 박사)                               50.0   \n",
       "     대학원 졸업(석사또는 박사)                                 0.0   \n",
       "거주지역 서울                                             20.0   \n",
       "     부산                                              0.0   \n",
       "     대구                                              0.0   \n",
       "     인천                                              0.0   \n",
       "     광주                                              0.0   \n",
       "     대전                                              0.0   \n",
       "     울산                                              0.0   \n",
       "     세종                                              0.0   \n",
       "     경기                                             21.7   \n",
       "     강원                                              7.5   \n",
       "     충북                                              0.0   \n",
       "     충남                                              0.0   \n",
       "     전북                                              0.0   \n",
       "     전남                                            100.0   \n",
       "     경북                                              0.0   \n",
       "     경남                                              0.0   \n",
       "     제주                                              0.0   \n",
       "직업   산림임업종사자                                         0.0   \n",
       "     사무종사자                                          50.0   \n",
       "     서비스종사자                                          0.0   \n",
       "     판매종사자                                          50.0   \n",
       "     기술기능종사자                                         0.0   \n",
       "     단순노무종사자                                         0.0   \n",
       "     전문가(교수 포함)                                     33.3   \n",
       "     경영직종사자                                          0.0   \n",
       "     자영업자(개인사업자)                                     0.0   \n",
       "     공무원(교사포함)                                       5.0   \n",
       "     학생(대학원생포함)                                     18.2   \n",
       "     전업주부                                            0.0   \n",
       "     기타                                             33.3   \n",
       "\n",
       "                      전시 관람 활동(예 : 푸른지구관, 산림평화관, 문화유산관 등)-빈도  \\\n",
       "성별   남성                                                   15   \n",
       "     여성                                                   11   \n",
       "연령   10대(15세이상)                                            1   \n",
       "     20대                                                   9   \n",
       "     30대                                                   7   \n",
       "     40대                                                   0   \n",
       "     50대                                                   4   \n",
       "     60대이상                                                 5   \n",
       "학력   초등학교 졸업(무학 포함)                                        1   \n",
       "     중학교 재학                                                2   \n",
       "     중학교 졸업                                                0   \n",
       "     고등학교 재학                                               0   \n",
       "     고등학교 졸업                                               1   \n",
       "     대학교 재학                                                9   \n",
       "     대학교 졸업                                               12   \n",
       "     대학원 재학(석사 또는 박사)                                      0   \n",
       "     대학원 졸업(석사또는 박사)                                       1   \n",
       "거주지역 서울                                                    1   \n",
       "     부산                                                    0   \n",
       "     대구                                                    0   \n",
       "     인천                                                    1   \n",
       "     광주                                                    0   \n",
       "     대전                                                    0   \n",
       "     울산                                                    0   \n",
       "     세종                                                    0   \n",
       "     경기                                                    7   \n",
       "     강원                                                   16   \n",
       "     충북                                                    0   \n",
       "     충남                                                    0   \n",
       "     전북                                                    0   \n",
       "     전남                                                    0   \n",
       "     경북                                                    1   \n",
       "     경남                                                    0   \n",
       "     제주                                                    0   \n",
       "직업   산림임업종사자                                               2   \n",
       "     사무종사자                                                 1   \n",
       "     서비스종사자                                                1   \n",
       "     판매종사자                                                 0   \n",
       "     기술기능종사자                                               1   \n",
       "     단순노무종사자                                               0   \n",
       "     전문가(교수 포함)                                            0   \n",
       "     경영직종사자                                                0   \n",
       "     자영업자(개인사업자)                                           3   \n",
       "     공무원(교사포함)                                             5   \n",
       "     학생(대학원생포함)                                           10   \n",
       "     전업주부                                                  2   \n",
       "     기타                                                    1   \n",
       "\n",
       "                       전시 관람 활동(예 : 푸른지구관, 산림평화관, 문화유산관 등)-비율  \\\n",
       "성별   남성                                                  30.0   \n",
       "     여성                                                  20.0   \n",
       "연령   10대(15세이상)                                          14.3   \n",
       "     20대                                                 32.1   \n",
       "     30대                                                 50.0   \n",
       "     40대                                                  0.0   \n",
       "     50대                                                 21.1   \n",
       "     60대이상                                               21.7   \n",
       "학력   초등학교 졸업(무학 포함)                                      25.0   \n",
       "     중학교 재학                                              20.0   \n",
       "     중학교 졸업                                               0.0   \n",
       "     고등학교 재학                                              0.0   \n",
       "     고등학교 졸업                                              9.1   \n",
       "     대학교 재학                                              36.0   \n",
       "     대학교 졸업                                              28.6   \n",
       "     대학원 재학(석사 또는 박사)                                     0.0   \n",
       "     대학원 졸업(석사또는 박사)                                     20.0   \n",
       "거주지역 서울                                                  10.0   \n",
       "     부산                                                   0.0   \n",
       "     대구                                                   0.0   \n",
       "     인천                                                  50.0   \n",
       "     광주                                                   0.0   \n",
       "     대전                                                   0.0   \n",
       "     울산                                                   0.0   \n",
       "     세종                                                   0.0   \n",
       "     경기                                                  30.4   \n",
       "     강원                                                  23.9   \n",
       "     충북                                                   0.0   \n",
       "     충남                                                   0.0   \n",
       "     전북                                                   0.0   \n",
       "     전남                                                   0.0   \n",
       "     경북                                                 100.0   \n",
       "     경남                                                   0.0   \n",
       "     제주                                                   0.0   \n",
       "직업   산림임업종사자                                             18.2   \n",
       "     사무종사자                                               25.0   \n",
       "     서비스종사자                                              12.5   \n",
       "     판매종사자                                                0.0   \n",
       "     기술기능종사자                                             33.3   \n",
       "     단순노무종사자                                              0.0   \n",
       "     전문가(교수 포함)                                           0.0   \n",
       "     경영직종사자                                               0.0   \n",
       "     자영업자(개인사업자)                                         37.5   \n",
       "     공무원(교사포함)                                           25.0   \n",
       "     학생(대학원생포함)                                          30.3   \n",
       "     전업주부                                                25.0   \n",
       "     기타                                                  33.3   \n",
       "\n",
       "                      체험 활동(예 : 저탄소 업사이클링 공예체험 등)-빈도  \\\n",
       "성별   남성                                            9   \n",
       "     여성                                            8   \n",
       "연령   10대(15세이상)                                    1   \n",
       "     20대                                           5   \n",
       "     30대                                           1   \n",
       "     40대                                           5   \n",
       "     50대                                           3   \n",
       "     60대이상                                         2   \n",
       "학력   초등학교 졸업(무학 포함)                                0   \n",
       "     중학교 재학                                        1   \n",
       "     중학교 졸업                                        0   \n",
       "     고등학교 재학                                       0   \n",
       "     고등학교 졸업                                       1   \n",
       "     대학교 재학                                        4   \n",
       "     대학교 졸업                                        8   \n",
       "     대학원 재학(석사 또는 박사)                              0   \n",
       "     대학원 졸업(석사또는 박사)                               3   \n",
       "거주지역 서울                                            3   \n",
       "     부산                                            0   \n",
       "     대구                                            0   \n",
       "     인천                                            0   \n",
       "     광주                                            0   \n",
       "     대전                                            0   \n",
       "     울산                                            0   \n",
       "     세종                                            0   \n",
       "     경기                                            1   \n",
       "     강원                                           13   \n",
       "     충북                                            0   \n",
       "     충남                                            0   \n",
       "     전북                                            0   \n",
       "     전남                                            0   \n",
       "     경북                                            0   \n",
       "     경남                                            0   \n",
       "     제주                                            0   \n",
       "직업   산림임업종사자                                       1   \n",
       "     사무종사자                                         0   \n",
       "     서비스종사자                                        1   \n",
       "     판매종사자                                         0   \n",
       "     기술기능종사자                                       1   \n",
       "     단순노무종사자                                       0   \n",
       "     전문가(교수 포함)                                    0   \n",
       "     경영직종사자                                        0   \n",
       "     자영업자(개인사업자)                                   2   \n",
       "     공무원(교사포함)                                     4   \n",
       "     학생(대학원생포함)                                    6   \n",
       "     전업주부                                          1   \n",
       "     기타                                            1   \n",
       "\n",
       "                       체험 활동(예 : 저탄소 업사이클링 공예체험 등)-비율  \\\n",
       "성별   남성                                          18.0   \n",
       "     여성                                          14.5   \n",
       "연령   10대(15세이상)                                  14.3   \n",
       "     20대                                         17.9   \n",
       "     30대                                          7.1   \n",
       "     40대                                         35.7   \n",
       "     50대                                         15.8   \n",
       "     60대이상                                        8.7   \n",
       "학력   초등학교 졸업(무학 포함)                               0.0   \n",
       "     중학교 재학                                      10.0   \n",
       "     중학교 졸업                                       0.0   \n",
       "     고등학교 재학                                      0.0   \n",
       "     고등학교 졸업                                      9.1   \n",
       "     대학교 재학                                      16.0   \n",
       "     대학교 졸업                                      19.0   \n",
       "     대학원 재학(석사 또는 박사)                             0.0   \n",
       "     대학원 졸업(석사또는 박사)                             60.0   \n",
       "거주지역 서울                                          30.0   \n",
       "     부산                                           0.0   \n",
       "     대구                                           0.0   \n",
       "     인천                                           0.0   \n",
       "     광주                                           0.0   \n",
       "     대전                                           0.0   \n",
       "     울산                                           0.0   \n",
       "     세종                                           0.0   \n",
       "     경기                                           4.3   \n",
       "     강원                                          19.4   \n",
       "     충북                                           0.0   \n",
       "     충남                                           0.0   \n",
       "     전북                                           0.0   \n",
       "     전남                                           0.0   \n",
       "     경북                                           0.0   \n",
       "     경남                                           0.0   \n",
       "     제주                                           0.0   \n",
       "직업   산림임업종사자                                      9.1   \n",
       "     사무종사자                                        0.0   \n",
       "     서비스종사자                                      12.5   \n",
       "     판매종사자                                        0.0   \n",
       "     기술기능종사자                                     33.3   \n",
       "     단순노무종사자                                      0.0   \n",
       "     전문가(교수 포함)                                   0.0   \n",
       "     경영직종사자                                       0.0   \n",
       "     자영업자(개인사업자)                                 25.0   \n",
       "     공무원(교사포함)                                   20.0   \n",
       "     학생(대학원생포함)                                  18.2   \n",
       "     전업주부                                        12.5   \n",
       "     기타                                          33.3   \n",
       "\n",
       "                      사회 활동(예 : 개·폐회식 참여, 인적교류 등) -빈도  \\\n",
       "성별   남성                                             1   \n",
       "     여성                                             1   \n",
       "연령   10대(15세이상)                                     0   \n",
       "     20대                                            1   \n",
       "     30대                                            1   \n",
       "     40대                                            0   \n",
       "     50대                                            0   \n",
       "     60대이상                                          0   \n",
       "학력   초등학교 졸업(무학 포함)                                 0   \n",
       "     중학교 재학                                         0   \n",
       "     중학교 졸업                                         0   \n",
       "     고등학교 재학                                        0   \n",
       "     고등학교 졸업                                        0   \n",
       "     대학교 재학                                         0   \n",
       "     대학교 졸업                                         2   \n",
       "     대학원 재학(석사 또는 박사)                               0   \n",
       "     대학원 졸업(석사또는 박사)                                0   \n",
       "거주지역 서울                                             0   \n",
       "     부산                                             0   \n",
       "     대구                                             0   \n",
       "     인천                                             0   \n",
       "     광주                                             0   \n",
       "     대전                                             0   \n",
       "     울산                                             0   \n",
       "     세종                                             0   \n",
       "     경기                                             0   \n",
       "     강원                                             2   \n",
       "     충북                                             0   \n",
       "     충남                                             0   \n",
       "     전북                                             0   \n",
       "     전남                                             0   \n",
       "     경북                                             0   \n",
       "     경남                                             0   \n",
       "     제주                                             0   \n",
       "직업   산림임업종사자                                        1   \n",
       "     사무종사자                                          0   \n",
       "     서비스종사자                                         0   \n",
       "     판매종사자                                          0   \n",
       "     기술기능종사자                                        0   \n",
       "     단순노무종사자                                        0   \n",
       "     전문가(교수 포함)                                     0   \n",
       "     경영직종사자                                         0   \n",
       "     자영업자(개인사업자)                                    0   \n",
       "     공무원(교사포함)                                      1   \n",
       "     학생(대학원생포함)                                     0   \n",
       "     전업주부                                           0   \n",
       "     기타                                             0   \n",
       "\n",
       "                       사회 활동(예 : 개·폐회식 참여, 인적교류 등) -비율 기타-빈도  기타-비율  사례수  \n",
       "성별   남성                                            2.0     0    0.0   50  \n",
       "     여성                                            1.8     0    0.0   55  \n",
       "연령   10대(15세이상)                                    0.0     0    0.0    7  \n",
       "     20대                                           3.6     0    0.0   28  \n",
       "     30대                                           7.1     0    0.0   14  \n",
       "     40대                                           0.0     0    0.0   14  \n",
       "     50대                                           0.0     0    0.0   19  \n",
       "     60대이상                                         0.0     0    0.0   23  \n",
       "학력   초등학교 졸업(무학 포함)                                0.0     0    0.0    4  \n",
       "     중학교 재학                                        0.0     0    0.0   10  \n",
       "     중학교 졸업                                        0.0     0    0.0    4  \n",
       "     고등학교 재학                                       0.0     0    0.0    2  \n",
       "     고등학교 졸업                                       0.0     0    0.0   11  \n",
       "     대학교 재학                                        0.0     0    0.0   25  \n",
       "     대학교 졸업                                        4.8     0    0.0   42  \n",
       "     대학원 재학(석사 또는 박사)                              0.0     0    0.0    2  \n",
       "     대학원 졸업(석사또는 박사)                               0.0     0    0.0    5  \n",
       "거주지역 서울                                            0.0     0    0.0   10  \n",
       "     부산                                            0.0     0    0.0    0  \n",
       "     대구                                            0.0     0    0.0    0  \n",
       "     인천                                            0.0     0    0.0    2  \n",
       "     광주                                            0.0     0    0.0    1  \n",
       "     대전                                            0.0     0    0.0    0  \n",
       "     울산                                            0.0     0    0.0    0  \n",
       "     세종                                            0.0     0    0.0    0  \n",
       "     경기                                            0.0     0    0.0   23  \n",
       "     강원                                            3.0     0    0.0   67  \n",
       "     충북                                            0.0     0    0.0    0  \n",
       "     충남                                            0.0     0    0.0    0  \n",
       "     전북                                            0.0     0    0.0    0  \n",
       "     전남                                            0.0     0    0.0    1  \n",
       "     경북                                            0.0     0    0.0    1  \n",
       "     경남                                            0.0     0    0.0    0  \n",
       "     제주                                            0.0     0    0.0    0  \n",
       "직업   산림임업종사자                                       9.1     0    0.0   11  \n",
       "     사무종사자                                         0.0     0    0.0    4  \n",
       "     서비스종사자                                        0.0     0    0.0    8  \n",
       "     판매종사자                                         0.0     0    0.0    4  \n",
       "     기술기능종사자                                       0.0     0    0.0    3  \n",
       "     단순노무종사자                                       0.0     0    0.0    0  \n",
       "     전문가(교수 포함)                                    0.0     0    0.0    3  \n",
       "     경영직종사자                                        0.0     0    0.0    0  \n",
       "     자영업자(개인사업자)                                   0.0     0    0.0    8  \n",
       "     공무원(교사포함)                                     5.0     0    0.0   20  \n",
       "     학생(대학원생포함)                                    0.0     0    0.0   33  \n",
       "     전업주부                                          0.0     0    0.0    8  \n",
       "     기타                                            0.0     0    0.0    3  "
      ]
     },
     "execution_count": 49,
     "metadata": {},
     "output_type": "execute_result"
    }
   ],
   "source": [
    "# 응답자 특성별 표 정리\n",
    "q3 = list(Q3_map.values())\n",
    "combined_list = q3\n",
    "column_lst = []\n",
    "for i in combined_list:\n",
    "    column_lst.append(\"%s-빈도\"%i)\n",
    "    column_lst.append(\"%s-비율\"%i)\n",
    "resp_map_df = pd.DataFrame(columns = column_lst)\n",
    "\n",
    "# 응답자 설문 리스트 정의\n",
    "sq_lst = list(Resp_Character.keys())\n",
    "# 응답자 매핑 딕셔너리 정의\n",
    "sq_dic = {'성별': 'SQ1', '연령': 'SQ2_1', '학력': 'SQ3', '거주지역': 'SQ4', '직업': 'SQ5'}\n",
    "\n",
    "# 멀티인덱스를 위한 리스트 생성\n",
    "mult_idx = []\n",
    "\n",
    "for sq in sq_lst:\n",
    "    for val in list(Resp_Character[sq].values()):\n",
    "        # 멀티인덱스 추가\n",
    "        mult_idx.append(sq)\n",
    "        # 'SQ1' 열의 값으로 필터링\n",
    "        filtered_rows = df_expo[df_expo[sq_dic[sq]] == val].reset_index(drop=True)\n",
    "        filtered_rows_1 = filtered_rows['Q3_1'].value_counts().reset_index()\n",
    "        filtered_rows_1.columns = ['값', '빈도']\n",
    "        filtered_rows_2 = filtered_rows['Q3_2'].value_counts().reset_index()\n",
    "        filtered_rows_1.columns = ['값', '빈도']\n",
    "        # 'index' column을 기준으로 데이터프레임을 병합\n",
    "        filtered_rows_C = pd.concat([filtered_rows_1, filtered_rows_2])\n",
    "        filtered_rows_C = filtered_rows_C.groupby('값')['빈도'].sum().reset_index()\n",
    "        filtered_rows_C.sort_values('빈도', ascending=False, inplace=True)\n",
    "        filtered_rows_C = filtered_rows_C.astype(int)\n",
    "        filtered_rows_C['값'] = map_val(filtered_rows_C['값'], Q3_map)\n",
    "        filtered_rows_C['비율'] = round((filtered_rows_C['빈도'] / filtered_rows_C['빈도'].sum())*100,1)\n",
    "        filtered_rows_C = filtered_rows_C.set_index(keys='값')\n",
    "        \n",
    "        resp_map = {}\n",
    "        for i in resp_map_df.columns:\n",
    "            if i.endswith('빈도'):\n",
    "                resp_map[i] = [0]\n",
    "            else:\n",
    "                resp_map[i] = [0.0]\n",
    "\n",
    "        for i in resp_map_df.columns:           \n",
    "            response, method = i.split('-')\n",
    "            try:\n",
    "                resp_map[i][0] = filtered_rows_C.loc[response, method]\n",
    "            except:\n",
    "                pass\n",
    "        else:\n",
    "            map_df = pd.DataFrame(resp_map)\n",
    "            map_df.index = [val]\n",
    "            resp_map_df = pd.concat([resp_map_df,map_df])\n",
    "resp_map_df['사례수'] = resp_map_df.filter(like='빈도').sum(axis=1).astype(int)\n",
    "# 멀티인덱스 생성\n",
    "resp_map_df.set_index([mult_idx, resp_map_df.index], inplace=True)\n",
    "resp_map_df"
   ]
  },
  {
   "attachments": {},
   "cell_type": "markdown",
   "metadata": {},
   "source": [
    "## Q7 귀하가 산림문화 활동에 참여하고 싶은 목적은 무엇입니까 - 빈도분석"
   ]
  },
  {
   "cell_type": "code",
   "execution_count": 69,
   "metadata": {},
   "outputs": [],
   "source": [
    "# 매핑 딕셔너리 정의\n",
    "Q7_map = {'1': '휴식 및 건강증진',\n",
    "        '2': '자기계발',\n",
    "        '3': '산림에 대한 소양증진(지식,정보등 습득)',\n",
    "        '4': '즐겁고 재미난 체험',\n",
    "        '5': '자연(산림) 감수성함양',\n",
    "        '6': '가족과의 시간',\n",
    "        '7': '대인관계형성',\n",
    "        '8': '창작활동에 대한 기대',\n",
    "        '9': '지역의 독특한 자연 또는 문화체험',\n",
    "        '10': '기타'}\n",
    "\n",
    "# 데이터프레임에서 'Q7_1' 열과 'Q7_2' 열의 빈도분석을 수행\n",
    "frequency7_1 = df_expo['Q7_1'].value_counts().reset_index()\n",
    "frequency7_1.columns = ['값', '1순위']\n",
    "\n",
    "frequency7_2 = df_expo['Q7_2'].value_counts().reset_index()\n",
    "frequency7_2.columns = ['값', '2순위']\n",
    "\n",
    "# 데이터프레임에서 'Q7_1' 열과 'Q7_2' 열의 빈도분석을 수행\n",
    "frequency7_1_common = df_common['Q7_1'].value_counts().reset_index()\n",
    "frequency7_1_common.columns = ['값', '1순위']\n",
    "frequency7_1_common = frequency7_1_common.astype(int)\n",
    "\n",
    "frequency7_2_common = df_common['Q7_2'].value_counts().reset_index()\n",
    "frequency7_2_common.columns = ['값', '2순위']\n",
    "frequency7_2_common = frequency7_2_common.astype(int)\n",
    "\n",
    "# '값' 열의 값을 딕셔너리를 사용하여 일괄적으로 변경하는 함수 정의\n",
    "def map_val(series, dic):\n",
    "        lst = []\n",
    "        for value in series:\n",
    "                if str(value).isdigit():\n",
    "                        lst.append(dic[str(value)])\n",
    "                else:\n",
    "                        lst.append(value.replace('10', '기타'))\n",
    "        return lst\n",
    "        \n",
    "frequency7_1['값'] = map_val(frequency7_1['값'], Q7_map)\n",
    "frequency7_2['값'] = map_val(frequency7_2['값'], Q7_map)\n",
    "frequency7_1_common['값'] = map_val(frequency7_1_common['값'], Q7_map)\n",
    "frequency7_2_common['값'] = map_val(frequency7_2_common['값'], Q7_map)"
   ]
  },
  {
   "cell_type": "code",
   "execution_count": 73,
   "metadata": {},
   "outputs": [
    {
     "data": {
      "text/html": [
       "<div>\n",
       "<style scoped>\n",
       "    .dataframe tbody tr th:only-of-type {\n",
       "        vertical-align: middle;\n",
       "    }\n",
       "\n",
       "    .dataframe tbody tr th {\n",
       "        vertical-align: top;\n",
       "    }\n",
       "\n",
       "    .dataframe thead th {\n",
       "        text-align: right;\n",
       "    }\n",
       "</style>\n",
       "<table border=\"1\" class=\"dataframe\">\n",
       "  <thead>\n",
       "    <tr style=\"text-align: right;\">\n",
       "      <th></th>\n",
       "      <th>값</th>\n",
       "      <th>1순위+2순위_빈도</th>\n",
       "    </tr>\n",
       "  </thead>\n",
       "  <tbody>\n",
       "    <tr>\n",
       "      <th>0</th>\n",
       "      <td>휴식 및 건강증진</td>\n",
       "      <td>58</td>\n",
       "    </tr>\n",
       "    <tr>\n",
       "      <th>1</th>\n",
       "      <td>산림에 대한 소양증진(지식,정보등 습득)</td>\n",
       "      <td>28</td>\n",
       "    </tr>\n",
       "    <tr>\n",
       "      <th>2</th>\n",
       "      <td>자연(산림) 감수성함양</td>\n",
       "      <td>28</td>\n",
       "    </tr>\n",
       "    <tr>\n",
       "      <th>3</th>\n",
       "      <td>즐겁고 재미난 체험</td>\n",
       "      <td>28</td>\n",
       "    </tr>\n",
       "    <tr>\n",
       "      <th>4</th>\n",
       "      <td>지역의 독특한 자연 또는 문화체험</td>\n",
       "      <td>24</td>\n",
       "    </tr>\n",
       "    <tr>\n",
       "      <th>5</th>\n",
       "      <td>가족과의 시간</td>\n",
       "      <td>21</td>\n",
       "    </tr>\n",
       "    <tr>\n",
       "      <th>8</th>\n",
       "      <td>자기계발</td>\n",
       "      <td>10</td>\n",
       "    </tr>\n",
       "    <tr>\n",
       "      <th>6</th>\n",
       "      <td>창작활동에 대한 기대</td>\n",
       "      <td>8</td>\n",
       "    </tr>\n",
       "    <tr>\n",
       "      <th>7</th>\n",
       "      <td>대인관계형성</td>\n",
       "      <td>5</td>\n",
       "    </tr>\n",
       "  </tbody>\n",
       "</table>\n",
       "</div>"
      ],
      "text/plain": [
       "                        값  1순위+2순위_빈도\n",
       "0               휴식 및 건강증진          58\n",
       "1  산림에 대한 소양증진(지식,정보등 습득)          28\n",
       "2            자연(산림) 감수성함양          28\n",
       "3              즐겁고 재미난 체험          28\n",
       "4      지역의 독특한 자연 또는 문화체험          24\n",
       "5                 가족과의 시간          21\n",
       "8                    자기계발          10\n",
       "6             창작활동에 대한 기대           8\n",
       "7                  대인관계형성           5"
      ]
     },
     "execution_count": 73,
     "metadata": {},
     "output_type": "execute_result"
    }
   ],
   "source": [
    "# '값' column을 기준으로 데이터프레임을 병합\n",
    "frequency7_C = pd.merge(frequency7_1, frequency7_2, on='값', how='outer')\n",
    "frequency7_C.fillna(0, inplace=True)\n",
    "frequency7_C['2순위'] = frequency7_C['2순위'].astype(int)\n",
    "# '1순위'와 '2순위' 빈도를 합산\n",
    "frequency7_C['1순위+2순위_빈도'] = frequency7_C['1순위'] + frequency7_C['2순위']\n",
    "frequency7_C = frequency7_C[['값', '1순위+2순위_빈도']]\n",
    "frequency7_C.sort_values('1순위+2순위_빈도', ascending=False, inplace=True)\n",
    "frequency7_C"
   ]
  },
  {
   "cell_type": "code",
   "execution_count": 74,
   "metadata": {},
   "outputs": [
    {
     "data": {
      "text/html": [
       "<div>\n",
       "<style scoped>\n",
       "    .dataframe tbody tr th:only-of-type {\n",
       "        vertical-align: middle;\n",
       "    }\n",
       "\n",
       "    .dataframe tbody tr th {\n",
       "        vertical-align: top;\n",
       "    }\n",
       "\n",
       "    .dataframe thead th {\n",
       "        text-align: right;\n",
       "    }\n",
       "</style>\n",
       "<table border=\"1\" class=\"dataframe\">\n",
       "  <thead>\n",
       "    <tr style=\"text-align: right;\">\n",
       "      <th></th>\n",
       "      <th>값</th>\n",
       "      <th>1순위+2순위_빈도</th>\n",
       "    </tr>\n",
       "  </thead>\n",
       "  <tbody>\n",
       "    <tr>\n",
       "      <th>0</th>\n",
       "      <td>휴식 및 건강증진</td>\n",
       "      <td>774</td>\n",
       "    </tr>\n",
       "    <tr>\n",
       "      <th>3</th>\n",
       "      <td>자연(산림) 감수성함양</td>\n",
       "      <td>308</td>\n",
       "    </tr>\n",
       "    <tr>\n",
       "      <th>2</th>\n",
       "      <td>즐겁고 재미난 체험</td>\n",
       "      <td>276</td>\n",
       "    </tr>\n",
       "    <tr>\n",
       "      <th>1</th>\n",
       "      <td>산림에 대한 소양증진(지식,정보등 습득)</td>\n",
       "      <td>261</td>\n",
       "    </tr>\n",
       "    <tr>\n",
       "      <th>5</th>\n",
       "      <td>지역의 독특한 자연 또는 문화체험</td>\n",
       "      <td>195</td>\n",
       "    </tr>\n",
       "    <tr>\n",
       "      <th>6</th>\n",
       "      <td>가족과의 시간</td>\n",
       "      <td>193</td>\n",
       "    </tr>\n",
       "    <tr>\n",
       "      <th>4</th>\n",
       "      <td>자기계발</td>\n",
       "      <td>172</td>\n",
       "    </tr>\n",
       "    <tr>\n",
       "      <th>7</th>\n",
       "      <td>대인관계형성</td>\n",
       "      <td>68</td>\n",
       "    </tr>\n",
       "    <tr>\n",
       "      <th>8</th>\n",
       "      <td>창작활동에 대한 기대</td>\n",
       "      <td>27</td>\n",
       "    </tr>\n",
       "    <tr>\n",
       "      <th>9</th>\n",
       "      <td>기타</td>\n",
       "      <td>2</td>\n",
       "    </tr>\n",
       "  </tbody>\n",
       "</table>\n",
       "</div>"
      ],
      "text/plain": [
       "                        값  1순위+2순위_빈도\n",
       "0               휴식 및 건강증진         774\n",
       "3            자연(산림) 감수성함양         308\n",
       "2              즐겁고 재미난 체험         276\n",
       "1  산림에 대한 소양증진(지식,정보등 습득)         261\n",
       "5      지역의 독특한 자연 또는 문화체험         195\n",
       "6                 가족과의 시간         193\n",
       "4                    자기계발         172\n",
       "7                  대인관계형성          68\n",
       "8             창작활동에 대한 기대          27\n",
       "9                      기타           2"
      ]
     },
     "execution_count": 74,
     "metadata": {},
     "output_type": "execute_result"
    }
   ],
   "source": [
    "# '값' column을 기준으로 데이터프레임을 병합\n",
    "frequency7_C_common = pd.merge(frequency7_1_common, frequency7_2_common, on='값', how='outer')\n",
    "frequency7_C_common.fillna(0, inplace=True)\n",
    "frequency7_C_common['2순위'] = frequency7_C_common['2순위'].astype(int)\n",
    "# '1순위'와 '2순위' 빈도를 합산\n",
    "frequency7_C_common['1순위+2순위_빈도'] = frequency7_C_common['1순위'] + frequency7_C_common['2순위']\n",
    "frequency7_C_common = frequency7_C_common[['값', '1순위+2순위_빈도']]\n",
    "frequency7_C_common.sort_values('1순위+2순위_빈도', ascending=False, inplace=True)\n",
    "frequency7_C_common"
   ]
  },
  {
   "cell_type": "code",
   "execution_count": 75,
   "metadata": {},
   "outputs": [
    {
     "data": {
      "application/vnd.plotly.v1+json": {
       "config": {
        "plotlyServerURL": "https://plot.ly"
       },
       "data": [
        {
         "domain": {
          "x": [
           0,
           1
          ],
          "y": [
           0,
           1
          ]
         },
         "hole": 0.2,
         "hovertemplate": "값=%{label}<br>비율=%{value}<extra></extra>",
         "insidetextorientation": "horizontal",
         "labels": [
          "휴식 및 건강증진",
          "산림에 대한 소양증진(지식,정보등 습득)",
          "자연(산림) 감수성함양",
          "즐겁고 재미난 체험",
          "지역의 독특한 자연 또는 문화체험",
          "가족과의 시간",
          "창작활동에 대한 기대",
          "대인관계형성",
          "자기계발"
         ],
         "legendgroup": "",
         "name": "",
         "pull": [
          0.01,
          0.01,
          0.01,
          0.01,
          0.01,
          0.01,
          0.01,
          0.01,
          0.01,
          0.01,
          0.01,
          0.01
         ],
         "showlegend": true,
         "textinfo": "percent+label",
         "type": "pie",
         "values": [
          0.4857142857142857,
          0.17142857142857143,
          0.09523809523809523,
          0.0761904761904762,
          0.047619047619047616,
          0.047619047619047616,
          0.0380952380952381,
          0.01904761904761905,
          0.01904761904761905
         ]
        }
       ],
       "layout": {
        "font": {
         "size": 13
        },
        "height": 900,
        "legend": {
         "tracegroupgap": 0,
         "x": 1.3,
         "y": 0.5
        },
        "piecolorway": [
         "rgb(5,31,69)",
         "rgb(8,48,107)",
         "rgb(11,62,138)",
         "rgb(8,81,156)",
         "rgb(7,90,176)",
         "rgb(33,113,181)",
         "rgb(66,146,198)",
         "rgb(81,157,207)",
         "rgb(107,174,214)",
         "rgb(158,202,225)",
         "rgb(198,219,239)",
         "rgb(222,235,247)",
         "rgb(247,251,255)"
        ],
        "template": {
         "data": {
          "bar": [
           {
            "error_x": {
             "color": "#2a3f5f"
            },
            "error_y": {
             "color": "#2a3f5f"
            },
            "marker": {
             "line": {
              "color": "#E5ECF6",
              "width": 0.5
             }
            },
            "type": "bar"
           }
          ],
          "barpolar": [
           {
            "marker": {
             "line": {
              "color": "#E5ECF6",
              "width": 0.5
             }
            },
            "type": "barpolar"
           }
          ],
          "carpet": [
           {
            "aaxis": {
             "endlinecolor": "#2a3f5f",
             "gridcolor": "white",
             "linecolor": "white",
             "minorgridcolor": "white",
             "startlinecolor": "#2a3f5f"
            },
            "baxis": {
             "endlinecolor": "#2a3f5f",
             "gridcolor": "white",
             "linecolor": "white",
             "minorgridcolor": "white",
             "startlinecolor": "#2a3f5f"
            },
            "type": "carpet"
           }
          ],
          "choropleth": [
           {
            "colorbar": {
             "outlinewidth": 0,
             "ticks": ""
            },
            "type": "choropleth"
           }
          ],
          "contour": [
           {
            "colorbar": {
             "outlinewidth": 0,
             "ticks": ""
            },
            "colorscale": [
             [
              0,
              "#0d0887"
             ],
             [
              0.1111111111111111,
              "#46039f"
             ],
             [
              0.2222222222222222,
              "#7201a8"
             ],
             [
              0.3333333333333333,
              "#9c179e"
             ],
             [
              0.4444444444444444,
              "#bd3786"
             ],
             [
              0.5555555555555556,
              "#d8576b"
             ],
             [
              0.6666666666666666,
              "#ed7953"
             ],
             [
              0.7777777777777778,
              "#fb9f3a"
             ],
             [
              0.8888888888888888,
              "#fdca26"
             ],
             [
              1,
              "#f0f921"
             ]
            ],
            "type": "contour"
           }
          ],
          "contourcarpet": [
           {
            "colorbar": {
             "outlinewidth": 0,
             "ticks": ""
            },
            "type": "contourcarpet"
           }
          ],
          "heatmap": [
           {
            "colorbar": {
             "outlinewidth": 0,
             "ticks": ""
            },
            "colorscale": [
             [
              0,
              "#0d0887"
             ],
             [
              0.1111111111111111,
              "#46039f"
             ],
             [
              0.2222222222222222,
              "#7201a8"
             ],
             [
              0.3333333333333333,
              "#9c179e"
             ],
             [
              0.4444444444444444,
              "#bd3786"
             ],
             [
              0.5555555555555556,
              "#d8576b"
             ],
             [
              0.6666666666666666,
              "#ed7953"
             ],
             [
              0.7777777777777778,
              "#fb9f3a"
             ],
             [
              0.8888888888888888,
              "#fdca26"
             ],
             [
              1,
              "#f0f921"
             ]
            ],
            "type": "heatmap"
           }
          ],
          "heatmapgl": [
           {
            "colorbar": {
             "outlinewidth": 0,
             "ticks": ""
            },
            "colorscale": [
             [
              0,
              "#0d0887"
             ],
             [
              0.1111111111111111,
              "#46039f"
             ],
             [
              0.2222222222222222,
              "#7201a8"
             ],
             [
              0.3333333333333333,
              "#9c179e"
             ],
             [
              0.4444444444444444,
              "#bd3786"
             ],
             [
              0.5555555555555556,
              "#d8576b"
             ],
             [
              0.6666666666666666,
              "#ed7953"
             ],
             [
              0.7777777777777778,
              "#fb9f3a"
             ],
             [
              0.8888888888888888,
              "#fdca26"
             ],
             [
              1,
              "#f0f921"
             ]
            ],
            "type": "heatmapgl"
           }
          ],
          "histogram": [
           {
            "marker": {
             "colorbar": {
              "outlinewidth": 0,
              "ticks": ""
             }
            },
            "type": "histogram"
           }
          ],
          "histogram2d": [
           {
            "colorbar": {
             "outlinewidth": 0,
             "ticks": ""
            },
            "colorscale": [
             [
              0,
              "#0d0887"
             ],
             [
              0.1111111111111111,
              "#46039f"
             ],
             [
              0.2222222222222222,
              "#7201a8"
             ],
             [
              0.3333333333333333,
              "#9c179e"
             ],
             [
              0.4444444444444444,
              "#bd3786"
             ],
             [
              0.5555555555555556,
              "#d8576b"
             ],
             [
              0.6666666666666666,
              "#ed7953"
             ],
             [
              0.7777777777777778,
              "#fb9f3a"
             ],
             [
              0.8888888888888888,
              "#fdca26"
             ],
             [
              1,
              "#f0f921"
             ]
            ],
            "type": "histogram2d"
           }
          ],
          "histogram2dcontour": [
           {
            "colorbar": {
             "outlinewidth": 0,
             "ticks": ""
            },
            "colorscale": [
             [
              0,
              "#0d0887"
             ],
             [
              0.1111111111111111,
              "#46039f"
             ],
             [
              0.2222222222222222,
              "#7201a8"
             ],
             [
              0.3333333333333333,
              "#9c179e"
             ],
             [
              0.4444444444444444,
              "#bd3786"
             ],
             [
              0.5555555555555556,
              "#d8576b"
             ],
             [
              0.6666666666666666,
              "#ed7953"
             ],
             [
              0.7777777777777778,
              "#fb9f3a"
             ],
             [
              0.8888888888888888,
              "#fdca26"
             ],
             [
              1,
              "#f0f921"
             ]
            ],
            "type": "histogram2dcontour"
           }
          ],
          "mesh3d": [
           {
            "colorbar": {
             "outlinewidth": 0,
             "ticks": ""
            },
            "type": "mesh3d"
           }
          ],
          "parcoords": [
           {
            "line": {
             "colorbar": {
              "outlinewidth": 0,
              "ticks": ""
             }
            },
            "type": "parcoords"
           }
          ],
          "pie": [
           {
            "automargin": true,
            "type": "pie"
           }
          ],
          "scatter": [
           {
            "marker": {
             "colorbar": {
              "outlinewidth": 0,
              "ticks": ""
             }
            },
            "type": "scatter"
           }
          ],
          "scatter3d": [
           {
            "line": {
             "colorbar": {
              "outlinewidth": 0,
              "ticks": ""
             }
            },
            "marker": {
             "colorbar": {
              "outlinewidth": 0,
              "ticks": ""
             }
            },
            "type": "scatter3d"
           }
          ],
          "scattercarpet": [
           {
            "marker": {
             "colorbar": {
              "outlinewidth": 0,
              "ticks": ""
             }
            },
            "type": "scattercarpet"
           }
          ],
          "scattergeo": [
           {
            "marker": {
             "colorbar": {
              "outlinewidth": 0,
              "ticks": ""
             }
            },
            "type": "scattergeo"
           }
          ],
          "scattergl": [
           {
            "marker": {
             "colorbar": {
              "outlinewidth": 0,
              "ticks": ""
             }
            },
            "type": "scattergl"
           }
          ],
          "scattermapbox": [
           {
            "marker": {
             "colorbar": {
              "outlinewidth": 0,
              "ticks": ""
             }
            },
            "type": "scattermapbox"
           }
          ],
          "scatterpolar": [
           {
            "marker": {
             "colorbar": {
              "outlinewidth": 0,
              "ticks": ""
             }
            },
            "type": "scatterpolar"
           }
          ],
          "scatterpolargl": [
           {
            "marker": {
             "colorbar": {
              "outlinewidth": 0,
              "ticks": ""
             }
            },
            "type": "scatterpolargl"
           }
          ],
          "scatterternary": [
           {
            "marker": {
             "colorbar": {
              "outlinewidth": 0,
              "ticks": ""
             }
            },
            "type": "scatterternary"
           }
          ],
          "surface": [
           {
            "colorbar": {
             "outlinewidth": 0,
             "ticks": ""
            },
            "colorscale": [
             [
              0,
              "#0d0887"
             ],
             [
              0.1111111111111111,
              "#46039f"
             ],
             [
              0.2222222222222222,
              "#7201a8"
             ],
             [
              0.3333333333333333,
              "#9c179e"
             ],
             [
              0.4444444444444444,
              "#bd3786"
             ],
             [
              0.5555555555555556,
              "#d8576b"
             ],
             [
              0.6666666666666666,
              "#ed7953"
             ],
             [
              0.7777777777777778,
              "#fb9f3a"
             ],
             [
              0.8888888888888888,
              "#fdca26"
             ],
             [
              1,
              "#f0f921"
             ]
            ],
            "type": "surface"
           }
          ],
          "table": [
           {
            "cells": {
             "fill": {
              "color": "#EBF0F8"
             },
             "line": {
              "color": "white"
             }
            },
            "header": {
             "fill": {
              "color": "#C8D4E3"
             },
             "line": {
              "color": "white"
             }
            },
            "type": "table"
           }
          ]
         },
         "layout": {
          "annotationdefaults": {
           "arrowcolor": "#2a3f5f",
           "arrowhead": 0,
           "arrowwidth": 1
          },
          "autotypenumbers": "strict",
          "coloraxis": {
           "colorbar": {
            "outlinewidth": 0,
            "ticks": ""
           }
          },
          "colorscale": {
           "diverging": [
            [
             0,
             "#8e0152"
            ],
            [
             0.1,
             "#c51b7d"
            ],
            [
             0.2,
             "#de77ae"
            ],
            [
             0.3,
             "#f1b6da"
            ],
            [
             0.4,
             "#fde0ef"
            ],
            [
             0.5,
             "#f7f7f7"
            ],
            [
             0.6,
             "#e6f5d0"
            ],
            [
             0.7,
             "#b8e186"
            ],
            [
             0.8,
             "#7fbc41"
            ],
            [
             0.9,
             "#4d9221"
            ],
            [
             1,
             "#276419"
            ]
           ],
           "sequential": [
            [
             0,
             "#0d0887"
            ],
            [
             0.1111111111111111,
             "#46039f"
            ],
            [
             0.2222222222222222,
             "#7201a8"
            ],
            [
             0.3333333333333333,
             "#9c179e"
            ],
            [
             0.4444444444444444,
             "#bd3786"
            ],
            [
             0.5555555555555556,
             "#d8576b"
            ],
            [
             0.6666666666666666,
             "#ed7953"
            ],
            [
             0.7777777777777778,
             "#fb9f3a"
            ],
            [
             0.8888888888888888,
             "#fdca26"
            ],
            [
             1,
             "#f0f921"
            ]
           ],
           "sequentialminus": [
            [
             0,
             "#0d0887"
            ],
            [
             0.1111111111111111,
             "#46039f"
            ],
            [
             0.2222222222222222,
             "#7201a8"
            ],
            [
             0.3333333333333333,
             "#9c179e"
            ],
            [
             0.4444444444444444,
             "#bd3786"
            ],
            [
             0.5555555555555556,
             "#d8576b"
            ],
            [
             0.6666666666666666,
             "#ed7953"
            ],
            [
             0.7777777777777778,
             "#fb9f3a"
            ],
            [
             0.8888888888888888,
             "#fdca26"
            ],
            [
             1,
             "#f0f921"
            ]
           ]
          },
          "colorway": [
           "#636efa",
           "#EF553B",
           "#00cc96",
           "#ab63fa",
           "#FFA15A",
           "#19d3f3",
           "#FF6692",
           "#B6E880",
           "#FF97FF",
           "#FECB52"
          ],
          "font": {
           "color": "#2a3f5f"
          },
          "geo": {
           "bgcolor": "white",
           "lakecolor": "white",
           "landcolor": "#E5ECF6",
           "showlakes": true,
           "showland": true,
           "subunitcolor": "white"
          },
          "hoverlabel": {
           "align": "left"
          },
          "hovermode": "closest",
          "mapbox": {
           "style": "light"
          },
          "paper_bgcolor": "white",
          "plot_bgcolor": "#E5ECF6",
          "polar": {
           "angularaxis": {
            "gridcolor": "white",
            "linecolor": "white",
            "ticks": ""
           },
           "bgcolor": "#E5ECF6",
           "radialaxis": {
            "gridcolor": "white",
            "linecolor": "white",
            "ticks": ""
           }
          },
          "scene": {
           "xaxis": {
            "backgroundcolor": "#E5ECF6",
            "gridcolor": "white",
            "gridwidth": 2,
            "linecolor": "white",
            "showbackground": true,
            "ticks": "",
            "zerolinecolor": "white"
           },
           "yaxis": {
            "backgroundcolor": "#E5ECF6",
            "gridcolor": "white",
            "gridwidth": 2,
            "linecolor": "white",
            "showbackground": true,
            "ticks": "",
            "zerolinecolor": "white"
           },
           "zaxis": {
            "backgroundcolor": "#E5ECF6",
            "gridcolor": "white",
            "gridwidth": 2,
            "linecolor": "white",
            "showbackground": true,
            "ticks": "",
            "zerolinecolor": "white"
           }
          },
          "shapedefaults": {
           "line": {
            "color": "#2a3f5f"
           }
          },
          "ternary": {
           "aaxis": {
            "gridcolor": "white",
            "linecolor": "white",
            "ticks": ""
           },
           "baxis": {
            "gridcolor": "white",
            "linecolor": "white",
            "ticks": ""
           },
           "bgcolor": "#E5ECF6",
           "caxis": {
            "gridcolor": "white",
            "linecolor": "white",
            "ticks": ""
           }
          },
          "title": {
           "x": 0.05
          },
          "xaxis": {
           "automargin": true,
           "gridcolor": "white",
           "linecolor": "white",
           "ticks": "",
           "title": {
            "standoff": 15
           },
           "zerolinecolor": "white",
           "zerolinewidth": 2
          },
          "yaxis": {
           "automargin": true,
           "gridcolor": "white",
           "linecolor": "white",
           "ticks": "",
           "title": {
            "standoff": 15
           },
           "zerolinecolor": "white",
           "zerolinewidth": 2
          }
         }
        },
        "title": {
         "text": "<b>귀하가 산림문화 활동에 참여하고 싶은 목적은 무엇입니까? - 1순위</b>"
        },
        "width": 1400
       }
      }
     },
     "metadata": {},
     "output_type": "display_data"
    }
   ],
   "source": [
    "# 빈도를 비율로 변환\n",
    "frequency7_1['비율'] = frequency7_1['1순위'] / frequency7_1['1순위'].sum()\n",
    "\n",
    "# 파이 차트 시각화 (크기 조절)\n",
    "fig = px.pie(frequency7_1, values='비율', names='값', title=\"<b>귀하가 산림문화 활동에 참여하고 싶은 목적은 무엇입니까? - 1순위</b>\", hole=0.2,\n",
    "                color_discrete_sequence=color_scale)\n",
    "\n",
    "fig.update_layout(\n",
    "    font=dict(size=13),\n",
    "    height=900,  # 그림의 높이 설정\n",
    "    width=1400,    # 그림의 너비 설정\n",
    "    legend=dict(x=1.3, y=0.5)  # 범례 위치 조정 (x, y 조절 가능)\n",
    ")\n",
    "# 차트 내에 비율 숫자 직접 표시\n",
    "pull_lst = [0.01] * 12\n",
    "fig.update_traces(textinfo='percent+label', pull=pull_lst, insidetextorientation='horizontal')  # 비율 숫자를 라벨과 함께 표시\n",
    "\n",
    "fig.show()"
   ]
  },
  {
   "cell_type": "code",
   "execution_count": 94,
   "metadata": {},
   "outputs": [
    {
     "data": {
      "application/vnd.plotly.v1+json": {
       "config": {
        "plotlyServerURL": "https://plot.ly"
       },
       "data": [
        {
         "domain": {
          "x": [
           0,
           1
          ],
          "y": [
           0,
           1
          ]
         },
         "hole": 0.2,
         "hovertemplate": "값=%{label}<br>비율=%{value}<extra></extra>",
         "insidetextorientation": "horizontal",
         "labels": [
          "휴식 및 건강증진",
          "산림에 대한 소양증진(지식,정보등 습득)",
          "즐겁고 재미난 체험",
          "자연(산림) 감수성함양",
          "자기계발",
          "지역의 독특한 자연 또는 문화체험",
          "가족과의 시간",
          "대인관계형성",
          "창작활동에 대한 기대",
          "기타"
         ],
         "legendgroup": "",
         "name": "",
         "pull": [
          0.01,
          0.01,
          0.01,
          0.01,
          0.01,
          0.01,
          0.01,
          0.01,
          0.01,
          0.01,
          0.01,
          0.01
         ],
         "showlegend": true,
         "textinfo": "percent+label",
         "type": "pie",
         "values": [
          0.5193321616871704,
          0.11775043936731107,
          0.09314586994727592,
          0.08699472759226713,
          0.058875219683655534,
          0.05360281195079086,
          0.0492091388400703,
          0.015817223198594025,
          0.004393673110720563,
          0.0008787346221441124
         ]
        }
       ],
       "layout": {
        "font": {
         "size": 13
        },
        "height": 900,
        "legend": {
         "tracegroupgap": 0,
         "x": 1.3,
         "y": 0.5
        },
        "piecolorway": [
         "rgb(5,31,69)",
         "rgb(8,48,107)",
         "rgb(11,62,138)",
         "rgb(8,81,156)",
         "rgb(7,90,176)",
         "rgb(33,113,181)",
         "rgb(66,146,198)",
         "rgb(81,157,207)",
         "rgb(107,174,214)",
         "rgb(158,202,225)",
         "rgb(198,219,239)",
         "rgb(222,235,247)",
         "rgb(247,251,255)"
        ],
        "template": {
         "data": {
          "bar": [
           {
            "error_x": {
             "color": "#2a3f5f"
            },
            "error_y": {
             "color": "#2a3f5f"
            },
            "marker": {
             "line": {
              "color": "#E5ECF6",
              "width": 0.5
             }
            },
            "type": "bar"
           }
          ],
          "barpolar": [
           {
            "marker": {
             "line": {
              "color": "#E5ECF6",
              "width": 0.5
             }
            },
            "type": "barpolar"
           }
          ],
          "carpet": [
           {
            "aaxis": {
             "endlinecolor": "#2a3f5f",
             "gridcolor": "white",
             "linecolor": "white",
             "minorgridcolor": "white",
             "startlinecolor": "#2a3f5f"
            },
            "baxis": {
             "endlinecolor": "#2a3f5f",
             "gridcolor": "white",
             "linecolor": "white",
             "minorgridcolor": "white",
             "startlinecolor": "#2a3f5f"
            },
            "type": "carpet"
           }
          ],
          "choropleth": [
           {
            "colorbar": {
             "outlinewidth": 0,
             "ticks": ""
            },
            "type": "choropleth"
           }
          ],
          "contour": [
           {
            "colorbar": {
             "outlinewidth": 0,
             "ticks": ""
            },
            "colorscale": [
             [
              0,
              "#0d0887"
             ],
             [
              0.1111111111111111,
              "#46039f"
             ],
             [
              0.2222222222222222,
              "#7201a8"
             ],
             [
              0.3333333333333333,
              "#9c179e"
             ],
             [
              0.4444444444444444,
              "#bd3786"
             ],
             [
              0.5555555555555556,
              "#d8576b"
             ],
             [
              0.6666666666666666,
              "#ed7953"
             ],
             [
              0.7777777777777778,
              "#fb9f3a"
             ],
             [
              0.8888888888888888,
              "#fdca26"
             ],
             [
              1,
              "#f0f921"
             ]
            ],
            "type": "contour"
           }
          ],
          "contourcarpet": [
           {
            "colorbar": {
             "outlinewidth": 0,
             "ticks": ""
            },
            "type": "contourcarpet"
           }
          ],
          "heatmap": [
           {
            "colorbar": {
             "outlinewidth": 0,
             "ticks": ""
            },
            "colorscale": [
             [
              0,
              "#0d0887"
             ],
             [
              0.1111111111111111,
              "#46039f"
             ],
             [
              0.2222222222222222,
              "#7201a8"
             ],
             [
              0.3333333333333333,
              "#9c179e"
             ],
             [
              0.4444444444444444,
              "#bd3786"
             ],
             [
              0.5555555555555556,
              "#d8576b"
             ],
             [
              0.6666666666666666,
              "#ed7953"
             ],
             [
              0.7777777777777778,
              "#fb9f3a"
             ],
             [
              0.8888888888888888,
              "#fdca26"
             ],
             [
              1,
              "#f0f921"
             ]
            ],
            "type": "heatmap"
           }
          ],
          "heatmapgl": [
           {
            "colorbar": {
             "outlinewidth": 0,
             "ticks": ""
            },
            "colorscale": [
             [
              0,
              "#0d0887"
             ],
             [
              0.1111111111111111,
              "#46039f"
             ],
             [
              0.2222222222222222,
              "#7201a8"
             ],
             [
              0.3333333333333333,
              "#9c179e"
             ],
             [
              0.4444444444444444,
              "#bd3786"
             ],
             [
              0.5555555555555556,
              "#d8576b"
             ],
             [
              0.6666666666666666,
              "#ed7953"
             ],
             [
              0.7777777777777778,
              "#fb9f3a"
             ],
             [
              0.8888888888888888,
              "#fdca26"
             ],
             [
              1,
              "#f0f921"
             ]
            ],
            "type": "heatmapgl"
           }
          ],
          "histogram": [
           {
            "marker": {
             "colorbar": {
              "outlinewidth": 0,
              "ticks": ""
             }
            },
            "type": "histogram"
           }
          ],
          "histogram2d": [
           {
            "colorbar": {
             "outlinewidth": 0,
             "ticks": ""
            },
            "colorscale": [
             [
              0,
              "#0d0887"
             ],
             [
              0.1111111111111111,
              "#46039f"
             ],
             [
              0.2222222222222222,
              "#7201a8"
             ],
             [
              0.3333333333333333,
              "#9c179e"
             ],
             [
              0.4444444444444444,
              "#bd3786"
             ],
             [
              0.5555555555555556,
              "#d8576b"
             ],
             [
              0.6666666666666666,
              "#ed7953"
             ],
             [
              0.7777777777777778,
              "#fb9f3a"
             ],
             [
              0.8888888888888888,
              "#fdca26"
             ],
             [
              1,
              "#f0f921"
             ]
            ],
            "type": "histogram2d"
           }
          ],
          "histogram2dcontour": [
           {
            "colorbar": {
             "outlinewidth": 0,
             "ticks": ""
            },
            "colorscale": [
             [
              0,
              "#0d0887"
             ],
             [
              0.1111111111111111,
              "#46039f"
             ],
             [
              0.2222222222222222,
              "#7201a8"
             ],
             [
              0.3333333333333333,
              "#9c179e"
             ],
             [
              0.4444444444444444,
              "#bd3786"
             ],
             [
              0.5555555555555556,
              "#d8576b"
             ],
             [
              0.6666666666666666,
              "#ed7953"
             ],
             [
              0.7777777777777778,
              "#fb9f3a"
             ],
             [
              0.8888888888888888,
              "#fdca26"
             ],
             [
              1,
              "#f0f921"
             ]
            ],
            "type": "histogram2dcontour"
           }
          ],
          "mesh3d": [
           {
            "colorbar": {
             "outlinewidth": 0,
             "ticks": ""
            },
            "type": "mesh3d"
           }
          ],
          "parcoords": [
           {
            "line": {
             "colorbar": {
              "outlinewidth": 0,
              "ticks": ""
             }
            },
            "type": "parcoords"
           }
          ],
          "pie": [
           {
            "automargin": true,
            "type": "pie"
           }
          ],
          "scatter": [
           {
            "marker": {
             "colorbar": {
              "outlinewidth": 0,
              "ticks": ""
             }
            },
            "type": "scatter"
           }
          ],
          "scatter3d": [
           {
            "line": {
             "colorbar": {
              "outlinewidth": 0,
              "ticks": ""
             }
            },
            "marker": {
             "colorbar": {
              "outlinewidth": 0,
              "ticks": ""
             }
            },
            "type": "scatter3d"
           }
          ],
          "scattercarpet": [
           {
            "marker": {
             "colorbar": {
              "outlinewidth": 0,
              "ticks": ""
             }
            },
            "type": "scattercarpet"
           }
          ],
          "scattergeo": [
           {
            "marker": {
             "colorbar": {
              "outlinewidth": 0,
              "ticks": ""
             }
            },
            "type": "scattergeo"
           }
          ],
          "scattergl": [
           {
            "marker": {
             "colorbar": {
              "outlinewidth": 0,
              "ticks": ""
             }
            },
            "type": "scattergl"
           }
          ],
          "scattermapbox": [
           {
            "marker": {
             "colorbar": {
              "outlinewidth": 0,
              "ticks": ""
             }
            },
            "type": "scattermapbox"
           }
          ],
          "scatterpolar": [
           {
            "marker": {
             "colorbar": {
              "outlinewidth": 0,
              "ticks": ""
             }
            },
            "type": "scatterpolar"
           }
          ],
          "scatterpolargl": [
           {
            "marker": {
             "colorbar": {
              "outlinewidth": 0,
              "ticks": ""
             }
            },
            "type": "scatterpolargl"
           }
          ],
          "scatterternary": [
           {
            "marker": {
             "colorbar": {
              "outlinewidth": 0,
              "ticks": ""
             }
            },
            "type": "scatterternary"
           }
          ],
          "surface": [
           {
            "colorbar": {
             "outlinewidth": 0,
             "ticks": ""
            },
            "colorscale": [
             [
              0,
              "#0d0887"
             ],
             [
              0.1111111111111111,
              "#46039f"
             ],
             [
              0.2222222222222222,
              "#7201a8"
             ],
             [
              0.3333333333333333,
              "#9c179e"
             ],
             [
              0.4444444444444444,
              "#bd3786"
             ],
             [
              0.5555555555555556,
              "#d8576b"
             ],
             [
              0.6666666666666666,
              "#ed7953"
             ],
             [
              0.7777777777777778,
              "#fb9f3a"
             ],
             [
              0.8888888888888888,
              "#fdca26"
             ],
             [
              1,
              "#f0f921"
             ]
            ],
            "type": "surface"
           }
          ],
          "table": [
           {
            "cells": {
             "fill": {
              "color": "#EBF0F8"
             },
             "line": {
              "color": "white"
             }
            },
            "header": {
             "fill": {
              "color": "#C8D4E3"
             },
             "line": {
              "color": "white"
             }
            },
            "type": "table"
           }
          ]
         },
         "layout": {
          "annotationdefaults": {
           "arrowcolor": "#2a3f5f",
           "arrowhead": 0,
           "arrowwidth": 1
          },
          "autotypenumbers": "strict",
          "coloraxis": {
           "colorbar": {
            "outlinewidth": 0,
            "ticks": ""
           }
          },
          "colorscale": {
           "diverging": [
            [
             0,
             "#8e0152"
            ],
            [
             0.1,
             "#c51b7d"
            ],
            [
             0.2,
             "#de77ae"
            ],
            [
             0.3,
             "#f1b6da"
            ],
            [
             0.4,
             "#fde0ef"
            ],
            [
             0.5,
             "#f7f7f7"
            ],
            [
             0.6,
             "#e6f5d0"
            ],
            [
             0.7,
             "#b8e186"
            ],
            [
             0.8,
             "#7fbc41"
            ],
            [
             0.9,
             "#4d9221"
            ],
            [
             1,
             "#276419"
            ]
           ],
           "sequential": [
            [
             0,
             "#0d0887"
            ],
            [
             0.1111111111111111,
             "#46039f"
            ],
            [
             0.2222222222222222,
             "#7201a8"
            ],
            [
             0.3333333333333333,
             "#9c179e"
            ],
            [
             0.4444444444444444,
             "#bd3786"
            ],
            [
             0.5555555555555556,
             "#d8576b"
            ],
            [
             0.6666666666666666,
             "#ed7953"
            ],
            [
             0.7777777777777778,
             "#fb9f3a"
            ],
            [
             0.8888888888888888,
             "#fdca26"
            ],
            [
             1,
             "#f0f921"
            ]
           ],
           "sequentialminus": [
            [
             0,
             "#0d0887"
            ],
            [
             0.1111111111111111,
             "#46039f"
            ],
            [
             0.2222222222222222,
             "#7201a8"
            ],
            [
             0.3333333333333333,
             "#9c179e"
            ],
            [
             0.4444444444444444,
             "#bd3786"
            ],
            [
             0.5555555555555556,
             "#d8576b"
            ],
            [
             0.6666666666666666,
             "#ed7953"
            ],
            [
             0.7777777777777778,
             "#fb9f3a"
            ],
            [
             0.8888888888888888,
             "#fdca26"
            ],
            [
             1,
             "#f0f921"
            ]
           ]
          },
          "colorway": [
           "#636efa",
           "#EF553B",
           "#00cc96",
           "#ab63fa",
           "#FFA15A",
           "#19d3f3",
           "#FF6692",
           "#B6E880",
           "#FF97FF",
           "#FECB52"
          ],
          "font": {
           "color": "#2a3f5f"
          },
          "geo": {
           "bgcolor": "white",
           "lakecolor": "white",
           "landcolor": "#E5ECF6",
           "showlakes": true,
           "showland": true,
           "subunitcolor": "white"
          },
          "hoverlabel": {
           "align": "left"
          },
          "hovermode": "closest",
          "mapbox": {
           "style": "light"
          },
          "paper_bgcolor": "white",
          "plot_bgcolor": "#E5ECF6",
          "polar": {
           "angularaxis": {
            "gridcolor": "white",
            "linecolor": "white",
            "ticks": ""
           },
           "bgcolor": "#E5ECF6",
           "radialaxis": {
            "gridcolor": "white",
            "linecolor": "white",
            "ticks": ""
           }
          },
          "scene": {
           "xaxis": {
            "backgroundcolor": "#E5ECF6",
            "gridcolor": "white",
            "gridwidth": 2,
            "linecolor": "white",
            "showbackground": true,
            "ticks": "",
            "zerolinecolor": "white"
           },
           "yaxis": {
            "backgroundcolor": "#E5ECF6",
            "gridcolor": "white",
            "gridwidth": 2,
            "linecolor": "white",
            "showbackground": true,
            "ticks": "",
            "zerolinecolor": "white"
           },
           "zaxis": {
            "backgroundcolor": "#E5ECF6",
            "gridcolor": "white",
            "gridwidth": 2,
            "linecolor": "white",
            "showbackground": true,
            "ticks": "",
            "zerolinecolor": "white"
           }
          },
          "shapedefaults": {
           "line": {
            "color": "#2a3f5f"
           }
          },
          "ternary": {
           "aaxis": {
            "gridcolor": "white",
            "linecolor": "white",
            "ticks": ""
           },
           "baxis": {
            "gridcolor": "white",
            "linecolor": "white",
            "ticks": ""
           },
           "bgcolor": "#E5ECF6",
           "caxis": {
            "gridcolor": "white",
            "linecolor": "white",
            "ticks": ""
           }
          },
          "title": {
           "x": 0.05
          },
          "xaxis": {
           "automargin": true,
           "gridcolor": "white",
           "linecolor": "white",
           "ticks": "",
           "title": {
            "standoff": 15
           },
           "zerolinecolor": "white",
           "zerolinewidth": 2
          },
          "yaxis": {
           "automargin": true,
           "gridcolor": "white",
           "linecolor": "white",
           "ticks": "",
           "title": {
            "standoff": 15
           },
           "zerolinecolor": "white",
           "zerolinewidth": 2
          }
         }
        },
        "title": {
         "text": "<b>귀하가 산림문화 활동에 참여하고 싶은 목적은 무엇입니까? - 일반국민 1순위</b>"
        },
        "width": 1400
       }
      }
     },
     "metadata": {},
     "output_type": "display_data"
    }
   ],
   "source": [
    "# 빈도를 비율로 변환\n",
    "frequency7_1_common['비율'] = frequency7_1_common['1순위'] / frequency7_1_common['1순위'].sum()\n",
    "\n",
    "# 파이 차트 시각화 (크기 조절)\n",
    "fig = px.pie(frequency7_1_common, values='비율', names='값', title=\"<b>귀하가 산림문화 활동에 참여하고 싶은 목적은 무엇입니까? - 일반국민 1순위</b>\", hole=0.2,\n",
    "                color_discrete_sequence=color_scale)\n",
    "\n",
    "fig.update_layout(\n",
    "    font=dict(size=13),\n",
    "    height=900,  # 그림의 높이 설정\n",
    "    width=1400,    # 그림의 너비 설정\n",
    "    legend=dict(x=1.3, y=0.5)  # 범례 위치 조정 (x, y 조절 가능)\n",
    ")\n",
    "# 차트 내에 비율 숫자 직접 표시\n",
    "pull_lst = [0.01] * 12\n",
    "fig.update_traces(textinfo='percent+label', pull=pull_lst, insidetextorientation='horizontal')  # 비율 숫자를 라벨과 함께 표시\n",
    "\n",
    "fig.show()"
   ]
  },
  {
   "cell_type": "code",
   "execution_count": 89,
   "metadata": {},
   "outputs": [
    {
     "data": {
      "application/vnd.plotly.v1+json": {
       "config": {
        "plotlyServerURL": "https://plot.ly"
       },
       "data": [
        {
         "domain": {
          "x": [
           0,
           1
          ],
          "y": [
           0,
           1
          ]
         },
         "hole": 0.2,
         "hovertemplate": "값=%{label}<br>비율=%{value}<extra></extra>",
         "insidetextorientation": "horizontal",
         "labels": [
          "휴식 및 건강증진",
          "산림에 대한 소양증진(지식,정보등 습득)",
          "자연(산림) 감수성함양",
          "즐겁고 재미난 체험",
          "지역의 독특한 자연 또는 문화체험",
          "가족과의 시간",
          "자기계발",
          "창작활동에 대한 기대",
          "대인관계형성"
         ],
         "legendgroup": "",
         "name": "",
         "pull": [
          0.01,
          0.01,
          0.01,
          0.01,
          0.01,
          0.01,
          0.01,
          0.01,
          0.01,
          0.01,
          0.01,
          0.01
         ],
         "showlegend": true,
         "textinfo": "percent+label",
         "type": "pie",
         "values": [
          0.2761904761904762,
          0.13333333333333333,
          0.13333333333333333,
          0.13333333333333333,
          0.11428571428571428,
          0.1,
          0.047619047619047616,
          0.0380952380952381,
          0.023809523809523808
         ]
        }
       ],
       "layout": {
        "font": {
         "size": 13
        },
        "height": 900,
        "legend": {
         "tracegroupgap": 0,
         "x": 1.3,
         "y": 0.5
        },
        "piecolorway": [
         "rgb(5,31,69)",
         "rgb(8,48,107)",
         "rgb(11,62,138)",
         "rgb(8,81,156)",
         "rgb(7,90,176)",
         "rgb(33,113,181)",
         "rgb(66,146,198)",
         "rgb(81,157,207)",
         "rgb(107,174,214)",
         "rgb(158,202,225)",
         "rgb(198,219,239)",
         "rgb(222,235,247)",
         "rgb(247,251,255)"
        ],
        "template": {
         "data": {
          "bar": [
           {
            "error_x": {
             "color": "#2a3f5f"
            },
            "error_y": {
             "color": "#2a3f5f"
            },
            "marker": {
             "line": {
              "color": "#E5ECF6",
              "width": 0.5
             }
            },
            "type": "bar"
           }
          ],
          "barpolar": [
           {
            "marker": {
             "line": {
              "color": "#E5ECF6",
              "width": 0.5
             }
            },
            "type": "barpolar"
           }
          ],
          "carpet": [
           {
            "aaxis": {
             "endlinecolor": "#2a3f5f",
             "gridcolor": "white",
             "linecolor": "white",
             "minorgridcolor": "white",
             "startlinecolor": "#2a3f5f"
            },
            "baxis": {
             "endlinecolor": "#2a3f5f",
             "gridcolor": "white",
             "linecolor": "white",
             "minorgridcolor": "white",
             "startlinecolor": "#2a3f5f"
            },
            "type": "carpet"
           }
          ],
          "choropleth": [
           {
            "colorbar": {
             "outlinewidth": 0,
             "ticks": ""
            },
            "type": "choropleth"
           }
          ],
          "contour": [
           {
            "colorbar": {
             "outlinewidth": 0,
             "ticks": ""
            },
            "colorscale": [
             [
              0,
              "#0d0887"
             ],
             [
              0.1111111111111111,
              "#46039f"
             ],
             [
              0.2222222222222222,
              "#7201a8"
             ],
             [
              0.3333333333333333,
              "#9c179e"
             ],
             [
              0.4444444444444444,
              "#bd3786"
             ],
             [
              0.5555555555555556,
              "#d8576b"
             ],
             [
              0.6666666666666666,
              "#ed7953"
             ],
             [
              0.7777777777777778,
              "#fb9f3a"
             ],
             [
              0.8888888888888888,
              "#fdca26"
             ],
             [
              1,
              "#f0f921"
             ]
            ],
            "type": "contour"
           }
          ],
          "contourcarpet": [
           {
            "colorbar": {
             "outlinewidth": 0,
             "ticks": ""
            },
            "type": "contourcarpet"
           }
          ],
          "heatmap": [
           {
            "colorbar": {
             "outlinewidth": 0,
             "ticks": ""
            },
            "colorscale": [
             [
              0,
              "#0d0887"
             ],
             [
              0.1111111111111111,
              "#46039f"
             ],
             [
              0.2222222222222222,
              "#7201a8"
             ],
             [
              0.3333333333333333,
              "#9c179e"
             ],
             [
              0.4444444444444444,
              "#bd3786"
             ],
             [
              0.5555555555555556,
              "#d8576b"
             ],
             [
              0.6666666666666666,
              "#ed7953"
             ],
             [
              0.7777777777777778,
              "#fb9f3a"
             ],
             [
              0.8888888888888888,
              "#fdca26"
             ],
             [
              1,
              "#f0f921"
             ]
            ],
            "type": "heatmap"
           }
          ],
          "heatmapgl": [
           {
            "colorbar": {
             "outlinewidth": 0,
             "ticks": ""
            },
            "colorscale": [
             [
              0,
              "#0d0887"
             ],
             [
              0.1111111111111111,
              "#46039f"
             ],
             [
              0.2222222222222222,
              "#7201a8"
             ],
             [
              0.3333333333333333,
              "#9c179e"
             ],
             [
              0.4444444444444444,
              "#bd3786"
             ],
             [
              0.5555555555555556,
              "#d8576b"
             ],
             [
              0.6666666666666666,
              "#ed7953"
             ],
             [
              0.7777777777777778,
              "#fb9f3a"
             ],
             [
              0.8888888888888888,
              "#fdca26"
             ],
             [
              1,
              "#f0f921"
             ]
            ],
            "type": "heatmapgl"
           }
          ],
          "histogram": [
           {
            "marker": {
             "colorbar": {
              "outlinewidth": 0,
              "ticks": ""
             }
            },
            "type": "histogram"
           }
          ],
          "histogram2d": [
           {
            "colorbar": {
             "outlinewidth": 0,
             "ticks": ""
            },
            "colorscale": [
             [
              0,
              "#0d0887"
             ],
             [
              0.1111111111111111,
              "#46039f"
             ],
             [
              0.2222222222222222,
              "#7201a8"
             ],
             [
              0.3333333333333333,
              "#9c179e"
             ],
             [
              0.4444444444444444,
              "#bd3786"
             ],
             [
              0.5555555555555556,
              "#d8576b"
             ],
             [
              0.6666666666666666,
              "#ed7953"
             ],
             [
              0.7777777777777778,
              "#fb9f3a"
             ],
             [
              0.8888888888888888,
              "#fdca26"
             ],
             [
              1,
              "#f0f921"
             ]
            ],
            "type": "histogram2d"
           }
          ],
          "histogram2dcontour": [
           {
            "colorbar": {
             "outlinewidth": 0,
             "ticks": ""
            },
            "colorscale": [
             [
              0,
              "#0d0887"
             ],
             [
              0.1111111111111111,
              "#46039f"
             ],
             [
              0.2222222222222222,
              "#7201a8"
             ],
             [
              0.3333333333333333,
              "#9c179e"
             ],
             [
              0.4444444444444444,
              "#bd3786"
             ],
             [
              0.5555555555555556,
              "#d8576b"
             ],
             [
              0.6666666666666666,
              "#ed7953"
             ],
             [
              0.7777777777777778,
              "#fb9f3a"
             ],
             [
              0.8888888888888888,
              "#fdca26"
             ],
             [
              1,
              "#f0f921"
             ]
            ],
            "type": "histogram2dcontour"
           }
          ],
          "mesh3d": [
           {
            "colorbar": {
             "outlinewidth": 0,
             "ticks": ""
            },
            "type": "mesh3d"
           }
          ],
          "parcoords": [
           {
            "line": {
             "colorbar": {
              "outlinewidth": 0,
              "ticks": ""
             }
            },
            "type": "parcoords"
           }
          ],
          "pie": [
           {
            "automargin": true,
            "type": "pie"
           }
          ],
          "scatter": [
           {
            "marker": {
             "colorbar": {
              "outlinewidth": 0,
              "ticks": ""
             }
            },
            "type": "scatter"
           }
          ],
          "scatter3d": [
           {
            "line": {
             "colorbar": {
              "outlinewidth": 0,
              "ticks": ""
             }
            },
            "marker": {
             "colorbar": {
              "outlinewidth": 0,
              "ticks": ""
             }
            },
            "type": "scatter3d"
           }
          ],
          "scattercarpet": [
           {
            "marker": {
             "colorbar": {
              "outlinewidth": 0,
              "ticks": ""
             }
            },
            "type": "scattercarpet"
           }
          ],
          "scattergeo": [
           {
            "marker": {
             "colorbar": {
              "outlinewidth": 0,
              "ticks": ""
             }
            },
            "type": "scattergeo"
           }
          ],
          "scattergl": [
           {
            "marker": {
             "colorbar": {
              "outlinewidth": 0,
              "ticks": ""
             }
            },
            "type": "scattergl"
           }
          ],
          "scattermapbox": [
           {
            "marker": {
             "colorbar": {
              "outlinewidth": 0,
              "ticks": ""
             }
            },
            "type": "scattermapbox"
           }
          ],
          "scatterpolar": [
           {
            "marker": {
             "colorbar": {
              "outlinewidth": 0,
              "ticks": ""
             }
            },
            "type": "scatterpolar"
           }
          ],
          "scatterpolargl": [
           {
            "marker": {
             "colorbar": {
              "outlinewidth": 0,
              "ticks": ""
             }
            },
            "type": "scatterpolargl"
           }
          ],
          "scatterternary": [
           {
            "marker": {
             "colorbar": {
              "outlinewidth": 0,
              "ticks": ""
             }
            },
            "type": "scatterternary"
           }
          ],
          "surface": [
           {
            "colorbar": {
             "outlinewidth": 0,
             "ticks": ""
            },
            "colorscale": [
             [
              0,
              "#0d0887"
             ],
             [
              0.1111111111111111,
              "#46039f"
             ],
             [
              0.2222222222222222,
              "#7201a8"
             ],
             [
              0.3333333333333333,
              "#9c179e"
             ],
             [
              0.4444444444444444,
              "#bd3786"
             ],
             [
              0.5555555555555556,
              "#d8576b"
             ],
             [
              0.6666666666666666,
              "#ed7953"
             ],
             [
              0.7777777777777778,
              "#fb9f3a"
             ],
             [
              0.8888888888888888,
              "#fdca26"
             ],
             [
              1,
              "#f0f921"
             ]
            ],
            "type": "surface"
           }
          ],
          "table": [
           {
            "cells": {
             "fill": {
              "color": "#EBF0F8"
             },
             "line": {
              "color": "white"
             }
            },
            "header": {
             "fill": {
              "color": "#C8D4E3"
             },
             "line": {
              "color": "white"
             }
            },
            "type": "table"
           }
          ]
         },
         "layout": {
          "annotationdefaults": {
           "arrowcolor": "#2a3f5f",
           "arrowhead": 0,
           "arrowwidth": 1
          },
          "autotypenumbers": "strict",
          "coloraxis": {
           "colorbar": {
            "outlinewidth": 0,
            "ticks": ""
           }
          },
          "colorscale": {
           "diverging": [
            [
             0,
             "#8e0152"
            ],
            [
             0.1,
             "#c51b7d"
            ],
            [
             0.2,
             "#de77ae"
            ],
            [
             0.3,
             "#f1b6da"
            ],
            [
             0.4,
             "#fde0ef"
            ],
            [
             0.5,
             "#f7f7f7"
            ],
            [
             0.6,
             "#e6f5d0"
            ],
            [
             0.7,
             "#b8e186"
            ],
            [
             0.8,
             "#7fbc41"
            ],
            [
             0.9,
             "#4d9221"
            ],
            [
             1,
             "#276419"
            ]
           ],
           "sequential": [
            [
             0,
             "#0d0887"
            ],
            [
             0.1111111111111111,
             "#46039f"
            ],
            [
             0.2222222222222222,
             "#7201a8"
            ],
            [
             0.3333333333333333,
             "#9c179e"
            ],
            [
             0.4444444444444444,
             "#bd3786"
            ],
            [
             0.5555555555555556,
             "#d8576b"
            ],
            [
             0.6666666666666666,
             "#ed7953"
            ],
            [
             0.7777777777777778,
             "#fb9f3a"
            ],
            [
             0.8888888888888888,
             "#fdca26"
            ],
            [
             1,
             "#f0f921"
            ]
           ],
           "sequentialminus": [
            [
             0,
             "#0d0887"
            ],
            [
             0.1111111111111111,
             "#46039f"
            ],
            [
             0.2222222222222222,
             "#7201a8"
            ],
            [
             0.3333333333333333,
             "#9c179e"
            ],
            [
             0.4444444444444444,
             "#bd3786"
            ],
            [
             0.5555555555555556,
             "#d8576b"
            ],
            [
             0.6666666666666666,
             "#ed7953"
            ],
            [
             0.7777777777777778,
             "#fb9f3a"
            ],
            [
             0.8888888888888888,
             "#fdca26"
            ],
            [
             1,
             "#f0f921"
            ]
           ]
          },
          "colorway": [
           "#636efa",
           "#EF553B",
           "#00cc96",
           "#ab63fa",
           "#FFA15A",
           "#19d3f3",
           "#FF6692",
           "#B6E880",
           "#FF97FF",
           "#FECB52"
          ],
          "font": {
           "color": "#2a3f5f"
          },
          "geo": {
           "bgcolor": "white",
           "lakecolor": "white",
           "landcolor": "#E5ECF6",
           "showlakes": true,
           "showland": true,
           "subunitcolor": "white"
          },
          "hoverlabel": {
           "align": "left"
          },
          "hovermode": "closest",
          "mapbox": {
           "style": "light"
          },
          "paper_bgcolor": "white",
          "plot_bgcolor": "#E5ECF6",
          "polar": {
           "angularaxis": {
            "gridcolor": "white",
            "linecolor": "white",
            "ticks": ""
           },
           "bgcolor": "#E5ECF6",
           "radialaxis": {
            "gridcolor": "white",
            "linecolor": "white",
            "ticks": ""
           }
          },
          "scene": {
           "xaxis": {
            "backgroundcolor": "#E5ECF6",
            "gridcolor": "white",
            "gridwidth": 2,
            "linecolor": "white",
            "showbackground": true,
            "ticks": "",
            "zerolinecolor": "white"
           },
           "yaxis": {
            "backgroundcolor": "#E5ECF6",
            "gridcolor": "white",
            "gridwidth": 2,
            "linecolor": "white",
            "showbackground": true,
            "ticks": "",
            "zerolinecolor": "white"
           },
           "zaxis": {
            "backgroundcolor": "#E5ECF6",
            "gridcolor": "white",
            "gridwidth": 2,
            "linecolor": "white",
            "showbackground": true,
            "ticks": "",
            "zerolinecolor": "white"
           }
          },
          "shapedefaults": {
           "line": {
            "color": "#2a3f5f"
           }
          },
          "ternary": {
           "aaxis": {
            "gridcolor": "white",
            "linecolor": "white",
            "ticks": ""
           },
           "baxis": {
            "gridcolor": "white",
            "linecolor": "white",
            "ticks": ""
           },
           "bgcolor": "#E5ECF6",
           "caxis": {
            "gridcolor": "white",
            "linecolor": "white",
            "ticks": ""
           }
          },
          "title": {
           "x": 0.05
          },
          "xaxis": {
           "automargin": true,
           "gridcolor": "white",
           "linecolor": "white",
           "ticks": "",
           "title": {
            "standoff": 15
           },
           "zerolinecolor": "white",
           "zerolinewidth": 2
          },
          "yaxis": {
           "automargin": true,
           "gridcolor": "white",
           "linecolor": "white",
           "ticks": "",
           "title": {
            "standoff": 15
           },
           "zerolinecolor": "white",
           "zerolinewidth": 2
          }
         }
        },
        "title": {
         "text": "<b>귀하가 산림문화 활동에 참여하고 싶은 목적은 무엇입니까? - 1순위+2순위</b>"
        },
        "width": 1400
       }
      }
     },
     "metadata": {},
     "output_type": "display_data"
    }
   ],
   "source": [
    "# 빈도를 비율로 변환\n",
    "frequency7_C['비율'] = frequency7_C['1순위+2순위_빈도'] / frequency7_C['1순위+2순위_빈도'].sum()\n",
    "\n",
    "# 파이 차트 시각화 (크기 조절)\n",
    "fig = px.pie(frequency7_C, values='비율', names='값', title=\"<b>귀하가 산림문화 활동에 참여하고 싶은 목적은 무엇입니까? - 1순위+2순위</b>\", hole=0.2,\n",
    "                color_discrete_sequence=color_scale)\n",
    "fig.update_layout(\n",
    "    font=dict(size=13),\n",
    "    height=900,  # 그림의 높이 설정\n",
    "    width=1400,    # 그림의 너비 설정\n",
    "    legend=dict(x=1.3, y=0.5)  # 범례 위치 조정 (x, y 조절 가능)\n",
    ")\n",
    "# 차트 내에 비율 숫자 직접 표시\n",
    "pull_lst = [0.01] * 12\n",
    "fig.update_traces(textinfo='percent+label', pull=pull_lst, insidetextorientation='horizontal')  # 비율 숫자를 라벨과 함께 표시\n",
    "\n",
    "fig.show()"
   ]
  },
  {
   "cell_type": "code",
   "execution_count": 96,
   "metadata": {},
   "outputs": [
    {
     "data": {
      "application/vnd.plotly.v1+json": {
       "config": {
        "plotlyServerURL": "https://plot.ly"
       },
       "data": [
        {
         "domain": {
          "x": [
           0,
           1
          ],
          "y": [
           0,
           1
          ]
         },
         "hole": 0.2,
         "hovertemplate": "값=%{label}<br>비율=%{value}<extra></extra>",
         "insidetextorientation": "horizontal",
         "labels": [
          "휴식 및 건강증진",
          "자연(산림) 감수성함양",
          "즐겁고 재미난 체험",
          "산림에 대한 소양증진(지식,정보등 습득)",
          "지역의 독특한 자연 또는 문화체험",
          "가족과의 시간",
          "자기계발",
          "대인관계형성",
          "창작활동에 대한 기대",
          "기타"
         ],
         "legendgroup": "",
         "name": "",
         "pull": [
          0.01,
          0.01,
          0.01,
          0.01,
          0.01,
          0.01,
          0.01,
          0.01,
          0.01,
          0.01,
          0.01,
          0.01
         ],
         "showlegend": true,
         "textinfo": "percent+label",
         "type": "pie",
         "values": [
          0.3400702987697715,
          0.13532513181019332,
          0.12126537785588752,
          0.11467486818980668,
          0.08567662565905097,
          0.08479789103690685,
          0.07557117750439367,
          0.029876977152899824,
          0.011862917398945518,
          0.0008787346221441124
         ]
        }
       ],
       "layout": {
        "font": {
         "size": 13
        },
        "height": 900,
        "legend": {
         "tracegroupgap": 0,
         "x": 1.3,
         "y": 0.5
        },
        "piecolorway": [
         "rgb(5,31,69)",
         "rgb(8,48,107)",
         "rgb(11,62,138)",
         "rgb(8,81,156)",
         "rgb(7,90,176)",
         "rgb(33,113,181)",
         "rgb(66,146,198)",
         "rgb(81,157,207)",
         "rgb(107,174,214)",
         "rgb(158,202,225)",
         "rgb(198,219,239)",
         "rgb(222,235,247)",
         "rgb(247,251,255)"
        ],
        "template": {
         "data": {
          "bar": [
           {
            "error_x": {
             "color": "#2a3f5f"
            },
            "error_y": {
             "color": "#2a3f5f"
            },
            "marker": {
             "line": {
              "color": "#E5ECF6",
              "width": 0.5
             }
            },
            "type": "bar"
           }
          ],
          "barpolar": [
           {
            "marker": {
             "line": {
              "color": "#E5ECF6",
              "width": 0.5
             }
            },
            "type": "barpolar"
           }
          ],
          "carpet": [
           {
            "aaxis": {
             "endlinecolor": "#2a3f5f",
             "gridcolor": "white",
             "linecolor": "white",
             "minorgridcolor": "white",
             "startlinecolor": "#2a3f5f"
            },
            "baxis": {
             "endlinecolor": "#2a3f5f",
             "gridcolor": "white",
             "linecolor": "white",
             "minorgridcolor": "white",
             "startlinecolor": "#2a3f5f"
            },
            "type": "carpet"
           }
          ],
          "choropleth": [
           {
            "colorbar": {
             "outlinewidth": 0,
             "ticks": ""
            },
            "type": "choropleth"
           }
          ],
          "contour": [
           {
            "colorbar": {
             "outlinewidth": 0,
             "ticks": ""
            },
            "colorscale": [
             [
              0,
              "#0d0887"
             ],
             [
              0.1111111111111111,
              "#46039f"
             ],
             [
              0.2222222222222222,
              "#7201a8"
             ],
             [
              0.3333333333333333,
              "#9c179e"
             ],
             [
              0.4444444444444444,
              "#bd3786"
             ],
             [
              0.5555555555555556,
              "#d8576b"
             ],
             [
              0.6666666666666666,
              "#ed7953"
             ],
             [
              0.7777777777777778,
              "#fb9f3a"
             ],
             [
              0.8888888888888888,
              "#fdca26"
             ],
             [
              1,
              "#f0f921"
             ]
            ],
            "type": "contour"
           }
          ],
          "contourcarpet": [
           {
            "colorbar": {
             "outlinewidth": 0,
             "ticks": ""
            },
            "type": "contourcarpet"
           }
          ],
          "heatmap": [
           {
            "colorbar": {
             "outlinewidth": 0,
             "ticks": ""
            },
            "colorscale": [
             [
              0,
              "#0d0887"
             ],
             [
              0.1111111111111111,
              "#46039f"
             ],
             [
              0.2222222222222222,
              "#7201a8"
             ],
             [
              0.3333333333333333,
              "#9c179e"
             ],
             [
              0.4444444444444444,
              "#bd3786"
             ],
             [
              0.5555555555555556,
              "#d8576b"
             ],
             [
              0.6666666666666666,
              "#ed7953"
             ],
             [
              0.7777777777777778,
              "#fb9f3a"
             ],
             [
              0.8888888888888888,
              "#fdca26"
             ],
             [
              1,
              "#f0f921"
             ]
            ],
            "type": "heatmap"
           }
          ],
          "heatmapgl": [
           {
            "colorbar": {
             "outlinewidth": 0,
             "ticks": ""
            },
            "colorscale": [
             [
              0,
              "#0d0887"
             ],
             [
              0.1111111111111111,
              "#46039f"
             ],
             [
              0.2222222222222222,
              "#7201a8"
             ],
             [
              0.3333333333333333,
              "#9c179e"
             ],
             [
              0.4444444444444444,
              "#bd3786"
             ],
             [
              0.5555555555555556,
              "#d8576b"
             ],
             [
              0.6666666666666666,
              "#ed7953"
             ],
             [
              0.7777777777777778,
              "#fb9f3a"
             ],
             [
              0.8888888888888888,
              "#fdca26"
             ],
             [
              1,
              "#f0f921"
             ]
            ],
            "type": "heatmapgl"
           }
          ],
          "histogram": [
           {
            "marker": {
             "colorbar": {
              "outlinewidth": 0,
              "ticks": ""
             }
            },
            "type": "histogram"
           }
          ],
          "histogram2d": [
           {
            "colorbar": {
             "outlinewidth": 0,
             "ticks": ""
            },
            "colorscale": [
             [
              0,
              "#0d0887"
             ],
             [
              0.1111111111111111,
              "#46039f"
             ],
             [
              0.2222222222222222,
              "#7201a8"
             ],
             [
              0.3333333333333333,
              "#9c179e"
             ],
             [
              0.4444444444444444,
              "#bd3786"
             ],
             [
              0.5555555555555556,
              "#d8576b"
             ],
             [
              0.6666666666666666,
              "#ed7953"
             ],
             [
              0.7777777777777778,
              "#fb9f3a"
             ],
             [
              0.8888888888888888,
              "#fdca26"
             ],
             [
              1,
              "#f0f921"
             ]
            ],
            "type": "histogram2d"
           }
          ],
          "histogram2dcontour": [
           {
            "colorbar": {
             "outlinewidth": 0,
             "ticks": ""
            },
            "colorscale": [
             [
              0,
              "#0d0887"
             ],
             [
              0.1111111111111111,
              "#46039f"
             ],
             [
              0.2222222222222222,
              "#7201a8"
             ],
             [
              0.3333333333333333,
              "#9c179e"
             ],
             [
              0.4444444444444444,
              "#bd3786"
             ],
             [
              0.5555555555555556,
              "#d8576b"
             ],
             [
              0.6666666666666666,
              "#ed7953"
             ],
             [
              0.7777777777777778,
              "#fb9f3a"
             ],
             [
              0.8888888888888888,
              "#fdca26"
             ],
             [
              1,
              "#f0f921"
             ]
            ],
            "type": "histogram2dcontour"
           }
          ],
          "mesh3d": [
           {
            "colorbar": {
             "outlinewidth": 0,
             "ticks": ""
            },
            "type": "mesh3d"
           }
          ],
          "parcoords": [
           {
            "line": {
             "colorbar": {
              "outlinewidth": 0,
              "ticks": ""
             }
            },
            "type": "parcoords"
           }
          ],
          "pie": [
           {
            "automargin": true,
            "type": "pie"
           }
          ],
          "scatter": [
           {
            "marker": {
             "colorbar": {
              "outlinewidth": 0,
              "ticks": ""
             }
            },
            "type": "scatter"
           }
          ],
          "scatter3d": [
           {
            "line": {
             "colorbar": {
              "outlinewidth": 0,
              "ticks": ""
             }
            },
            "marker": {
             "colorbar": {
              "outlinewidth": 0,
              "ticks": ""
             }
            },
            "type": "scatter3d"
           }
          ],
          "scattercarpet": [
           {
            "marker": {
             "colorbar": {
              "outlinewidth": 0,
              "ticks": ""
             }
            },
            "type": "scattercarpet"
           }
          ],
          "scattergeo": [
           {
            "marker": {
             "colorbar": {
              "outlinewidth": 0,
              "ticks": ""
             }
            },
            "type": "scattergeo"
           }
          ],
          "scattergl": [
           {
            "marker": {
             "colorbar": {
              "outlinewidth": 0,
              "ticks": ""
             }
            },
            "type": "scattergl"
           }
          ],
          "scattermapbox": [
           {
            "marker": {
             "colorbar": {
              "outlinewidth": 0,
              "ticks": ""
             }
            },
            "type": "scattermapbox"
           }
          ],
          "scatterpolar": [
           {
            "marker": {
             "colorbar": {
              "outlinewidth": 0,
              "ticks": ""
             }
            },
            "type": "scatterpolar"
           }
          ],
          "scatterpolargl": [
           {
            "marker": {
             "colorbar": {
              "outlinewidth": 0,
              "ticks": ""
             }
            },
            "type": "scatterpolargl"
           }
          ],
          "scatterternary": [
           {
            "marker": {
             "colorbar": {
              "outlinewidth": 0,
              "ticks": ""
             }
            },
            "type": "scatterternary"
           }
          ],
          "surface": [
           {
            "colorbar": {
             "outlinewidth": 0,
             "ticks": ""
            },
            "colorscale": [
             [
              0,
              "#0d0887"
             ],
             [
              0.1111111111111111,
              "#46039f"
             ],
             [
              0.2222222222222222,
              "#7201a8"
             ],
             [
              0.3333333333333333,
              "#9c179e"
             ],
             [
              0.4444444444444444,
              "#bd3786"
             ],
             [
              0.5555555555555556,
              "#d8576b"
             ],
             [
              0.6666666666666666,
              "#ed7953"
             ],
             [
              0.7777777777777778,
              "#fb9f3a"
             ],
             [
              0.8888888888888888,
              "#fdca26"
             ],
             [
              1,
              "#f0f921"
             ]
            ],
            "type": "surface"
           }
          ],
          "table": [
           {
            "cells": {
             "fill": {
              "color": "#EBF0F8"
             },
             "line": {
              "color": "white"
             }
            },
            "header": {
             "fill": {
              "color": "#C8D4E3"
             },
             "line": {
              "color": "white"
             }
            },
            "type": "table"
           }
          ]
         },
         "layout": {
          "annotationdefaults": {
           "arrowcolor": "#2a3f5f",
           "arrowhead": 0,
           "arrowwidth": 1
          },
          "autotypenumbers": "strict",
          "coloraxis": {
           "colorbar": {
            "outlinewidth": 0,
            "ticks": ""
           }
          },
          "colorscale": {
           "diverging": [
            [
             0,
             "#8e0152"
            ],
            [
             0.1,
             "#c51b7d"
            ],
            [
             0.2,
             "#de77ae"
            ],
            [
             0.3,
             "#f1b6da"
            ],
            [
             0.4,
             "#fde0ef"
            ],
            [
             0.5,
             "#f7f7f7"
            ],
            [
             0.6,
             "#e6f5d0"
            ],
            [
             0.7,
             "#b8e186"
            ],
            [
             0.8,
             "#7fbc41"
            ],
            [
             0.9,
             "#4d9221"
            ],
            [
             1,
             "#276419"
            ]
           ],
           "sequential": [
            [
             0,
             "#0d0887"
            ],
            [
             0.1111111111111111,
             "#46039f"
            ],
            [
             0.2222222222222222,
             "#7201a8"
            ],
            [
             0.3333333333333333,
             "#9c179e"
            ],
            [
             0.4444444444444444,
             "#bd3786"
            ],
            [
             0.5555555555555556,
             "#d8576b"
            ],
            [
             0.6666666666666666,
             "#ed7953"
            ],
            [
             0.7777777777777778,
             "#fb9f3a"
            ],
            [
             0.8888888888888888,
             "#fdca26"
            ],
            [
             1,
             "#f0f921"
            ]
           ],
           "sequentialminus": [
            [
             0,
             "#0d0887"
            ],
            [
             0.1111111111111111,
             "#46039f"
            ],
            [
             0.2222222222222222,
             "#7201a8"
            ],
            [
             0.3333333333333333,
             "#9c179e"
            ],
            [
             0.4444444444444444,
             "#bd3786"
            ],
            [
             0.5555555555555556,
             "#d8576b"
            ],
            [
             0.6666666666666666,
             "#ed7953"
            ],
            [
             0.7777777777777778,
             "#fb9f3a"
            ],
            [
             0.8888888888888888,
             "#fdca26"
            ],
            [
             1,
             "#f0f921"
            ]
           ]
          },
          "colorway": [
           "#636efa",
           "#EF553B",
           "#00cc96",
           "#ab63fa",
           "#FFA15A",
           "#19d3f3",
           "#FF6692",
           "#B6E880",
           "#FF97FF",
           "#FECB52"
          ],
          "font": {
           "color": "#2a3f5f"
          },
          "geo": {
           "bgcolor": "white",
           "lakecolor": "white",
           "landcolor": "#E5ECF6",
           "showlakes": true,
           "showland": true,
           "subunitcolor": "white"
          },
          "hoverlabel": {
           "align": "left"
          },
          "hovermode": "closest",
          "mapbox": {
           "style": "light"
          },
          "paper_bgcolor": "white",
          "plot_bgcolor": "#E5ECF6",
          "polar": {
           "angularaxis": {
            "gridcolor": "white",
            "linecolor": "white",
            "ticks": ""
           },
           "bgcolor": "#E5ECF6",
           "radialaxis": {
            "gridcolor": "white",
            "linecolor": "white",
            "ticks": ""
           }
          },
          "scene": {
           "xaxis": {
            "backgroundcolor": "#E5ECF6",
            "gridcolor": "white",
            "gridwidth": 2,
            "linecolor": "white",
            "showbackground": true,
            "ticks": "",
            "zerolinecolor": "white"
           },
           "yaxis": {
            "backgroundcolor": "#E5ECF6",
            "gridcolor": "white",
            "gridwidth": 2,
            "linecolor": "white",
            "showbackground": true,
            "ticks": "",
            "zerolinecolor": "white"
           },
           "zaxis": {
            "backgroundcolor": "#E5ECF6",
            "gridcolor": "white",
            "gridwidth": 2,
            "linecolor": "white",
            "showbackground": true,
            "ticks": "",
            "zerolinecolor": "white"
           }
          },
          "shapedefaults": {
           "line": {
            "color": "#2a3f5f"
           }
          },
          "ternary": {
           "aaxis": {
            "gridcolor": "white",
            "linecolor": "white",
            "ticks": ""
           },
           "baxis": {
            "gridcolor": "white",
            "linecolor": "white",
            "ticks": ""
           },
           "bgcolor": "#E5ECF6",
           "caxis": {
            "gridcolor": "white",
            "linecolor": "white",
            "ticks": ""
           }
          },
          "title": {
           "x": 0.05
          },
          "xaxis": {
           "automargin": true,
           "gridcolor": "white",
           "linecolor": "white",
           "ticks": "",
           "title": {
            "standoff": 15
           },
           "zerolinecolor": "white",
           "zerolinewidth": 2
          },
          "yaxis": {
           "automargin": true,
           "gridcolor": "white",
           "linecolor": "white",
           "ticks": "",
           "title": {
            "standoff": 15
           },
           "zerolinecolor": "white",
           "zerolinewidth": 2
          }
         }
        },
        "title": {
         "text": "<b>귀하가 산림문화 활동에 참여하고 싶은 목적은 무엇입니까? - 일반국민 1순위+2순위</b>"
        },
        "width": 1400
       }
      }
     },
     "metadata": {},
     "output_type": "display_data"
    }
   ],
   "source": [
    "# 빈도를 비율로 변환\n",
    "frequency7_C_common['비율'] = frequency7_C_common['1순위+2순위_빈도'] / frequency7_C_common['1순위+2순위_빈도'].sum()\n",
    "\n",
    "# 파이 차트 시각화 (크기 조절)\n",
    "fig = px.pie(frequency7_C_common, values='비율', names='값', title=\"<b>귀하가 산림문화 활동에 참여하고 싶은 목적은 무엇입니까? - 일반국민 1순위+2순위</b>\", hole=0.2,\n",
    "                color_discrete_sequence=color_scale)\n",
    "fig.update_layout(\n",
    "    font=dict(size=13),\n",
    "    height=900,  # 그림의 높이 설정\n",
    "    width=1400,    # 그림의 너비 설정\n",
    "    legend=dict(x=1.3, y=0.5)  # 범례 위치 조정 (x, y 조절 가능)\n",
    ")\n",
    "# 차트 내에 비율 숫자 직접 표시\n",
    "pull_lst = [0.01] * 12\n",
    "fig.update_traces(textinfo='percent+label', pull=pull_lst, insidetextorientation='horizontal')  # 비율 숫자를 라벨과 함께 표시\n",
    "\n",
    "fig.show()"
   ]
  },
  {
   "attachments": {},
   "cell_type": "markdown",
   "metadata": {},
   "source": [
    "### 카이제곱검정"
   ]
  },
  {
   "cell_type": "code",
   "execution_count": 123,
   "metadata": {},
   "outputs": [
    {
     "data": {
      "text/html": [
       "<div>\n",
       "<style scoped>\n",
       "    .dataframe tbody tr th:only-of-type {\n",
       "        vertical-align: middle;\n",
       "    }\n",
       "\n",
       "    .dataframe tbody tr th {\n",
       "        vertical-align: top;\n",
       "    }\n",
       "\n",
       "    .dataframe thead th {\n",
       "        text-align: right;\n",
       "    }\n",
       "</style>\n",
       "<table border=\"1\" class=\"dataframe\">\n",
       "  <thead>\n",
       "    <tr style=\"text-align: right;\">\n",
       "      <th></th>\n",
       "      <th>비율</th>\n",
       "      <th>비율</th>\n",
       "    </tr>\n",
       "    <tr>\n",
       "      <th>값</th>\n",
       "      <th></th>\n",
       "      <th></th>\n",
       "    </tr>\n",
       "  </thead>\n",
       "  <tbody>\n",
       "    <tr>\n",
       "      <th>휴식 및 건강증진</th>\n",
       "      <td>0.276190</td>\n",
       "      <td>0.340070</td>\n",
       "    </tr>\n",
       "    <tr>\n",
       "      <th>산림에 대한 소양증진(지식,정보등 습득)</th>\n",
       "      <td>0.133333</td>\n",
       "      <td>0.114675</td>\n",
       "    </tr>\n",
       "    <tr>\n",
       "      <th>자연(산림) 감수성함양</th>\n",
       "      <td>0.133333</td>\n",
       "      <td>0.135325</td>\n",
       "    </tr>\n",
       "    <tr>\n",
       "      <th>즐겁고 재미난 체험</th>\n",
       "      <td>0.133333</td>\n",
       "      <td>0.121265</td>\n",
       "    </tr>\n",
       "    <tr>\n",
       "      <th>지역의 독특한 자연 또는 문화체험</th>\n",
       "      <td>0.114286</td>\n",
       "      <td>0.085677</td>\n",
       "    </tr>\n",
       "    <tr>\n",
       "      <th>가족과의 시간</th>\n",
       "      <td>0.100000</td>\n",
       "      <td>0.084798</td>\n",
       "    </tr>\n",
       "    <tr>\n",
       "      <th>자기계발</th>\n",
       "      <td>0.047619</td>\n",
       "      <td>0.075571</td>\n",
       "    </tr>\n",
       "    <tr>\n",
       "      <th>창작활동에 대한 기대</th>\n",
       "      <td>0.038095</td>\n",
       "      <td>0.011863</td>\n",
       "    </tr>\n",
       "    <tr>\n",
       "      <th>대인관계형성</th>\n",
       "      <td>0.023810</td>\n",
       "      <td>0.029877</td>\n",
       "    </tr>\n",
       "    <tr>\n",
       "      <th>기타</th>\n",
       "      <td>0.000000</td>\n",
       "      <td>0.000879</td>\n",
       "    </tr>\n",
       "  </tbody>\n",
       "</table>\n",
       "</div>"
      ],
      "text/plain": [
       "                              비율        비율\n",
       "값                                         \n",
       "휴식 및 건강증진               0.276190  0.340070\n",
       "산림에 대한 소양증진(지식,정보등 습득)  0.133333  0.114675\n",
       "자연(산림) 감수성함양            0.133333  0.135325\n",
       "즐겁고 재미난 체험              0.133333  0.121265\n",
       "지역의 독특한 자연 또는 문화체험      0.114286  0.085677\n",
       "가족과의 시간                 0.100000  0.084798\n",
       "자기계발                    0.047619  0.075571\n",
       "창작활동에 대한 기대             0.038095  0.011863\n",
       "대인관계형성                  0.023810  0.029877\n",
       "기타                      0.000000  0.000879"
      ]
     },
     "execution_count": 123,
     "metadata": {},
     "output_type": "execute_result"
    }
   ],
   "source": [
    "import pandas as pd\n",
    "\n",
    "# '값' 열을 인덱스로 설정\n",
    "df1 = frequency7_C.set_index('값')[['비율']]\n",
    "df2 = frequency7_C_common.set_index('값')[['비율']]\n",
    "\n",
    "# 두 데이터프레임을 합쳐서 교차표를 생성\n",
    "cross_table = pd.concat([df1, df2], axis=1, sort=False).fillna(0)\n",
    "\n",
    "# 교차표 출력\n",
    "cross_table"
   ]
  },
  {
   "cell_type": "code",
   "execution_count": 124,
   "metadata": {},
   "outputs": [
    {
     "name": "stdout",
     "output_type": "stream",
     "text": [
      "카이제곱 검정 통계량: 0.03563694691447172\n",
      "p-값: 0.9999999997466443\n",
      "자유도: 9\n",
      "기대값 테이블:\n",
      "[[0.30813039 0.30813039]\n",
      " [0.1240041  0.1240041 ]\n",
      " [0.13432923 0.13432923]\n",
      " [0.12729936 0.12729936]\n",
      " [0.09998117 0.09998117]\n",
      " [0.09239895 0.09239895]\n",
      " [0.06159511 0.06159511]\n",
      " [0.02497908 0.02497908]\n",
      " [0.02684325 0.02684325]\n",
      " [0.00043937 0.00043937]]\n"
     ]
    }
   ],
   "source": [
    "from scipy.stats import chi2_contingency\n",
    "\n",
    "# 카이제곱 검정 수행\n",
    "chi2, p, dof, expected = chi2_contingency(cross_table)\n",
    "\n",
    "# 결과 출력\n",
    "print(\"카이제곱 검정 통계량:\", chi2)\n",
    "print(\"p-값:\", p)\n",
    "print(\"자유도:\", dof)\n",
    "print(\"기대값 테이블:\")\n",
    "print(expected)"
   ]
  },
  {
   "attachments": {},
   "cell_type": "markdown",
   "metadata": {},
   "source": [
    "### 1순위만 합산한 표 생성"
   ]
  },
  {
   "cell_type": "code",
   "execution_count": 55,
   "metadata": {},
   "outputs": [
    {
     "name": "stderr",
     "output_type": "stream",
     "text": [
      "C:\\Users\\user\\AppData\\Local\\Temp\\ipykernel_19340\\3619987985.py:46: FutureWarning:\n",
      "\n",
      "The behavior of DataFrame concatenation with empty or all-NA entries is deprecated. In a future version, this will no longer exclude empty or all-NA columns when determining the result dtypes. To retain the old behavior, exclude the relevant entries before the concat operation.\n",
      "\n"
     ]
    },
    {
     "data": {
      "text/html": [
       "<div>\n",
       "<style scoped>\n",
       "    .dataframe tbody tr th:only-of-type {\n",
       "        vertical-align: middle;\n",
       "    }\n",
       "\n",
       "    .dataframe tbody tr th {\n",
       "        vertical-align: top;\n",
       "    }\n",
       "\n",
       "    .dataframe thead th {\n",
       "        text-align: right;\n",
       "    }\n",
       "</style>\n",
       "<table border=\"1\" class=\"dataframe\">\n",
       "  <thead>\n",
       "    <tr style=\"text-align: right;\">\n",
       "      <th></th>\n",
       "      <th></th>\n",
       "      <th>휴식 및 건강증진-빈도</th>\n",
       "      <th>휴식 및 건강증진-비율</th>\n",
       "      <th>자기계발-빈도</th>\n",
       "      <th>자기계발-비율</th>\n",
       "      <th>산림에 대한 소양증진(지식,정보등 습득)-빈도</th>\n",
       "      <th>산림에 대한 소양증진(지식,정보등 습득)-비율</th>\n",
       "      <th>즐겁고 재미난 체험-빈도</th>\n",
       "      <th>즐겁고 재미난 체험-비율</th>\n",
       "      <th>자연(산림) 감수성함양-빈도</th>\n",
       "      <th>자연(산림) 감수성함양-비율</th>\n",
       "      <th>가족과의 시간-빈도</th>\n",
       "      <th>가족과의 시간-비율</th>\n",
       "      <th>대인관계형성-빈도</th>\n",
       "      <th>대인관계형성-비율</th>\n",
       "      <th>창작활동에 대한 기대-빈도</th>\n",
       "      <th>창작활동에 대한 기대-비율</th>\n",
       "      <th>지역의 독특한 자연 또는 문화체험-빈도</th>\n",
       "      <th>지역의 독특한 자연 또는 문화체험-비율</th>\n",
       "      <th>기타-빈도</th>\n",
       "      <th>기타-비율</th>\n",
       "      <th>사례수</th>\n",
       "    </tr>\n",
       "  </thead>\n",
       "  <tbody>\n",
       "    <tr>\n",
       "      <th rowspan=\"2\" valign=\"top\">성별</th>\n",
       "      <th>남성</th>\n",
       "      <td>26</td>\n",
       "      <td>52.0</td>\n",
       "      <td>2</td>\n",
       "      <td>4.0</td>\n",
       "      <td>9</td>\n",
       "      <td>18.0</td>\n",
       "      <td>2</td>\n",
       "      <td>4.0</td>\n",
       "      <td>3</td>\n",
       "      <td>6.0</td>\n",
       "      <td>2</td>\n",
       "      <td>4.0</td>\n",
       "      <td>0</td>\n",
       "      <td>0.0</td>\n",
       "      <td>3</td>\n",
       "      <td>6.0</td>\n",
       "      <td>3</td>\n",
       "      <td>6.0</td>\n",
       "      <td>0</td>\n",
       "      <td>0.0</td>\n",
       "      <td>50</td>\n",
       "    </tr>\n",
       "    <tr>\n",
       "      <th>여성</th>\n",
       "      <td>25</td>\n",
       "      <td>45.5</td>\n",
       "      <td>0</td>\n",
       "      <td>0.0</td>\n",
       "      <td>9</td>\n",
       "      <td>16.4</td>\n",
       "      <td>6</td>\n",
       "      <td>10.9</td>\n",
       "      <td>7</td>\n",
       "      <td>12.7</td>\n",
       "      <td>3</td>\n",
       "      <td>5.5</td>\n",
       "      <td>2</td>\n",
       "      <td>3.6</td>\n",
       "      <td>1</td>\n",
       "      <td>1.8</td>\n",
       "      <td>2</td>\n",
       "      <td>3.6</td>\n",
       "      <td>0</td>\n",
       "      <td>0.0</td>\n",
       "      <td>55</td>\n",
       "    </tr>\n",
       "    <tr>\n",
       "      <th rowspan=\"6\" valign=\"top\">연령</th>\n",
       "      <th>10대(15세이상)</th>\n",
       "      <td>4</td>\n",
       "      <td>57.1</td>\n",
       "      <td>0</td>\n",
       "      <td>0.0</td>\n",
       "      <td>0</td>\n",
       "      <td>0.0</td>\n",
       "      <td>1</td>\n",
       "      <td>14.3</td>\n",
       "      <td>0</td>\n",
       "      <td>0.0</td>\n",
       "      <td>0</td>\n",
       "      <td>0.0</td>\n",
       "      <td>0</td>\n",
       "      <td>0.0</td>\n",
       "      <td>1</td>\n",
       "      <td>14.3</td>\n",
       "      <td>1</td>\n",
       "      <td>14.3</td>\n",
       "      <td>0</td>\n",
       "      <td>0.0</td>\n",
       "      <td>7</td>\n",
       "    </tr>\n",
       "    <tr>\n",
       "      <th>20대</th>\n",
       "      <td>8</td>\n",
       "      <td>28.6</td>\n",
       "      <td>2</td>\n",
       "      <td>7.1</td>\n",
       "      <td>7</td>\n",
       "      <td>25.0</td>\n",
       "      <td>3</td>\n",
       "      <td>10.7</td>\n",
       "      <td>3</td>\n",
       "      <td>10.7</td>\n",
       "      <td>3</td>\n",
       "      <td>10.7</td>\n",
       "      <td>0</td>\n",
       "      <td>0.0</td>\n",
       "      <td>1</td>\n",
       "      <td>3.6</td>\n",
       "      <td>1</td>\n",
       "      <td>3.6</td>\n",
       "      <td>0</td>\n",
       "      <td>0.0</td>\n",
       "      <td>28</td>\n",
       "    </tr>\n",
       "    <tr>\n",
       "      <th>30대</th>\n",
       "      <td>10</td>\n",
       "      <td>71.4</td>\n",
       "      <td>0</td>\n",
       "      <td>0.0</td>\n",
       "      <td>3</td>\n",
       "      <td>21.4</td>\n",
       "      <td>0</td>\n",
       "      <td>0.0</td>\n",
       "      <td>1</td>\n",
       "      <td>7.1</td>\n",
       "      <td>0</td>\n",
       "      <td>0.0</td>\n",
       "      <td>0</td>\n",
       "      <td>0.0</td>\n",
       "      <td>0</td>\n",
       "      <td>0.0</td>\n",
       "      <td>0</td>\n",
       "      <td>0.0</td>\n",
       "      <td>0</td>\n",
       "      <td>0.0</td>\n",
       "      <td>14</td>\n",
       "    </tr>\n",
       "    <tr>\n",
       "      <th>40대</th>\n",
       "      <td>9</td>\n",
       "      <td>64.3</td>\n",
       "      <td>0</td>\n",
       "      <td>0.0</td>\n",
       "      <td>0</td>\n",
       "      <td>0.0</td>\n",
       "      <td>2</td>\n",
       "      <td>14.3</td>\n",
       "      <td>0</td>\n",
       "      <td>0.0</td>\n",
       "      <td>2</td>\n",
       "      <td>14.3</td>\n",
       "      <td>0</td>\n",
       "      <td>0.0</td>\n",
       "      <td>1</td>\n",
       "      <td>7.1</td>\n",
       "      <td>0</td>\n",
       "      <td>0.0</td>\n",
       "      <td>0</td>\n",
       "      <td>0.0</td>\n",
       "      <td>14</td>\n",
       "    </tr>\n",
       "    <tr>\n",
       "      <th>50대</th>\n",
       "      <td>9</td>\n",
       "      <td>47.4</td>\n",
       "      <td>0</td>\n",
       "      <td>0.0</td>\n",
       "      <td>1</td>\n",
       "      <td>5.3</td>\n",
       "      <td>1</td>\n",
       "      <td>5.3</td>\n",
       "      <td>3</td>\n",
       "      <td>15.8</td>\n",
       "      <td>0</td>\n",
       "      <td>0.0</td>\n",
       "      <td>2</td>\n",
       "      <td>10.5</td>\n",
       "      <td>1</td>\n",
       "      <td>5.3</td>\n",
       "      <td>2</td>\n",
       "      <td>10.5</td>\n",
       "      <td>0</td>\n",
       "      <td>0.0</td>\n",
       "      <td>19</td>\n",
       "    </tr>\n",
       "    <tr>\n",
       "      <th>60대이상</th>\n",
       "      <td>11</td>\n",
       "      <td>47.8</td>\n",
       "      <td>0</td>\n",
       "      <td>0.0</td>\n",
       "      <td>7</td>\n",
       "      <td>30.4</td>\n",
       "      <td>1</td>\n",
       "      <td>4.3</td>\n",
       "      <td>3</td>\n",
       "      <td>13.0</td>\n",
       "      <td>0</td>\n",
       "      <td>0.0</td>\n",
       "      <td>0</td>\n",
       "      <td>0.0</td>\n",
       "      <td>0</td>\n",
       "      <td>0.0</td>\n",
       "      <td>1</td>\n",
       "      <td>4.3</td>\n",
       "      <td>0</td>\n",
       "      <td>0.0</td>\n",
       "      <td>23</td>\n",
       "    </tr>\n",
       "    <tr>\n",
       "      <th rowspan=\"9\" valign=\"top\">학력</th>\n",
       "      <th>초등학교 졸업(무학 포함)</th>\n",
       "      <td>2</td>\n",
       "      <td>50.0</td>\n",
       "      <td>0</td>\n",
       "      <td>0.0</td>\n",
       "      <td>2</td>\n",
       "      <td>50.0</td>\n",
       "      <td>0</td>\n",
       "      <td>0.0</td>\n",
       "      <td>0</td>\n",
       "      <td>0.0</td>\n",
       "      <td>0</td>\n",
       "      <td>0.0</td>\n",
       "      <td>0</td>\n",
       "      <td>0.0</td>\n",
       "      <td>0</td>\n",
       "      <td>0.0</td>\n",
       "      <td>0</td>\n",
       "      <td>0.0</td>\n",
       "      <td>0</td>\n",
       "      <td>0.0</td>\n",
       "      <td>4</td>\n",
       "    </tr>\n",
       "    <tr>\n",
       "      <th>중학교 재학</th>\n",
       "      <td>5</td>\n",
       "      <td>50.0</td>\n",
       "      <td>0</td>\n",
       "      <td>0.0</td>\n",
       "      <td>1</td>\n",
       "      <td>10.0</td>\n",
       "      <td>2</td>\n",
       "      <td>20.0</td>\n",
       "      <td>0</td>\n",
       "      <td>0.0</td>\n",
       "      <td>0</td>\n",
       "      <td>0.0</td>\n",
       "      <td>0</td>\n",
       "      <td>0.0</td>\n",
       "      <td>1</td>\n",
       "      <td>10.0</td>\n",
       "      <td>1</td>\n",
       "      <td>10.0</td>\n",
       "      <td>0</td>\n",
       "      <td>0.0</td>\n",
       "      <td>10</td>\n",
       "    </tr>\n",
       "    <tr>\n",
       "      <th>중학교 졸업</th>\n",
       "      <td>3</td>\n",
       "      <td>75.0</td>\n",
       "      <td>0</td>\n",
       "      <td>0.0</td>\n",
       "      <td>1</td>\n",
       "      <td>25.0</td>\n",
       "      <td>0</td>\n",
       "      <td>0.0</td>\n",
       "      <td>0</td>\n",
       "      <td>0.0</td>\n",
       "      <td>0</td>\n",
       "      <td>0.0</td>\n",
       "      <td>0</td>\n",
       "      <td>0.0</td>\n",
       "      <td>0</td>\n",
       "      <td>0.0</td>\n",
       "      <td>0</td>\n",
       "      <td>0.0</td>\n",
       "      <td>0</td>\n",
       "      <td>0.0</td>\n",
       "      <td>4</td>\n",
       "    </tr>\n",
       "    <tr>\n",
       "      <th>고등학교 재학</th>\n",
       "      <td>1</td>\n",
       "      <td>50.0</td>\n",
       "      <td>0</td>\n",
       "      <td>0.0</td>\n",
       "      <td>0</td>\n",
       "      <td>0.0</td>\n",
       "      <td>0</td>\n",
       "      <td>0.0</td>\n",
       "      <td>1</td>\n",
       "      <td>50.0</td>\n",
       "      <td>0</td>\n",
       "      <td>0.0</td>\n",
       "      <td>0</td>\n",
       "      <td>0.0</td>\n",
       "      <td>0</td>\n",
       "      <td>0.0</td>\n",
       "      <td>0</td>\n",
       "      <td>0.0</td>\n",
       "      <td>0</td>\n",
       "      <td>0.0</td>\n",
       "      <td>2</td>\n",
       "    </tr>\n",
       "    <tr>\n",
       "      <th>고등학교 졸업</th>\n",
       "      <td>7</td>\n",
       "      <td>63.6</td>\n",
       "      <td>0</td>\n",
       "      <td>0.0</td>\n",
       "      <td>2</td>\n",
       "      <td>18.2</td>\n",
       "      <td>0</td>\n",
       "      <td>0.0</td>\n",
       "      <td>2</td>\n",
       "      <td>18.2</td>\n",
       "      <td>0</td>\n",
       "      <td>0.0</td>\n",
       "      <td>0</td>\n",
       "      <td>0.0</td>\n",
       "      <td>0</td>\n",
       "      <td>0.0</td>\n",
       "      <td>0</td>\n",
       "      <td>0.0</td>\n",
       "      <td>0</td>\n",
       "      <td>0.0</td>\n",
       "      <td>11</td>\n",
       "    </tr>\n",
       "    <tr>\n",
       "      <th>대학교 재학</th>\n",
       "      <td>7</td>\n",
       "      <td>28.0</td>\n",
       "      <td>2</td>\n",
       "      <td>8.0</td>\n",
       "      <td>7</td>\n",
       "      <td>28.0</td>\n",
       "      <td>3</td>\n",
       "      <td>12.0</td>\n",
       "      <td>2</td>\n",
       "      <td>8.0</td>\n",
       "      <td>3</td>\n",
       "      <td>12.0</td>\n",
       "      <td>0</td>\n",
       "      <td>0.0</td>\n",
       "      <td>1</td>\n",
       "      <td>4.0</td>\n",
       "      <td>0</td>\n",
       "      <td>0.0</td>\n",
       "      <td>0</td>\n",
       "      <td>0.0</td>\n",
       "      <td>25</td>\n",
       "    </tr>\n",
       "    <tr>\n",
       "      <th>대학교 졸업</th>\n",
       "      <td>21</td>\n",
       "      <td>50.0</td>\n",
       "      <td>0</td>\n",
       "      <td>0.0</td>\n",
       "      <td>5</td>\n",
       "      <td>11.9</td>\n",
       "      <td>3</td>\n",
       "      <td>7.1</td>\n",
       "      <td>3</td>\n",
       "      <td>7.1</td>\n",
       "      <td>2</td>\n",
       "      <td>4.8</td>\n",
       "      <td>2</td>\n",
       "      <td>4.8</td>\n",
       "      <td>2</td>\n",
       "      <td>4.8</td>\n",
       "      <td>4</td>\n",
       "      <td>9.5</td>\n",
       "      <td>0</td>\n",
       "      <td>0.0</td>\n",
       "      <td>42</td>\n",
       "    </tr>\n",
       "    <tr>\n",
       "      <th>대학원 재학(석사 또는 박사)</th>\n",
       "      <td>2</td>\n",
       "      <td>100.0</td>\n",
       "      <td>0</td>\n",
       "      <td>0.0</td>\n",
       "      <td>0</td>\n",
       "      <td>0.0</td>\n",
       "      <td>0</td>\n",
       "      <td>0.0</td>\n",
       "      <td>0</td>\n",
       "      <td>0.0</td>\n",
       "      <td>0</td>\n",
       "      <td>0.0</td>\n",
       "      <td>0</td>\n",
       "      <td>0.0</td>\n",
       "      <td>0</td>\n",
       "      <td>0.0</td>\n",
       "      <td>0</td>\n",
       "      <td>0.0</td>\n",
       "      <td>0</td>\n",
       "      <td>0.0</td>\n",
       "      <td>2</td>\n",
       "    </tr>\n",
       "    <tr>\n",
       "      <th>대학원 졸업(석사또는 박사)</th>\n",
       "      <td>3</td>\n",
       "      <td>60.0</td>\n",
       "      <td>0</td>\n",
       "      <td>0.0</td>\n",
       "      <td>0</td>\n",
       "      <td>0.0</td>\n",
       "      <td>0</td>\n",
       "      <td>0.0</td>\n",
       "      <td>2</td>\n",
       "      <td>40.0</td>\n",
       "      <td>0</td>\n",
       "      <td>0.0</td>\n",
       "      <td>0</td>\n",
       "      <td>0.0</td>\n",
       "      <td>0</td>\n",
       "      <td>0.0</td>\n",
       "      <td>0</td>\n",
       "      <td>0.0</td>\n",
       "      <td>0</td>\n",
       "      <td>0.0</td>\n",
       "      <td>5</td>\n",
       "    </tr>\n",
       "    <tr>\n",
       "      <th rowspan=\"17\" valign=\"top\">거주지역</th>\n",
       "      <th>서울</th>\n",
       "      <td>7</td>\n",
       "      <td>70.0</td>\n",
       "      <td>0</td>\n",
       "      <td>0.0</td>\n",
       "      <td>0</td>\n",
       "      <td>0.0</td>\n",
       "      <td>2</td>\n",
       "      <td>20.0</td>\n",
       "      <td>0</td>\n",
       "      <td>0.0</td>\n",
       "      <td>0</td>\n",
       "      <td>0.0</td>\n",
       "      <td>0</td>\n",
       "      <td>0.0</td>\n",
       "      <td>0</td>\n",
       "      <td>0.0</td>\n",
       "      <td>1</td>\n",
       "      <td>10.0</td>\n",
       "      <td>0</td>\n",
       "      <td>0.0</td>\n",
       "      <td>10</td>\n",
       "    </tr>\n",
       "    <tr>\n",
       "      <th>부산</th>\n",
       "      <td>0</td>\n",
       "      <td>0.0</td>\n",
       "      <td>0</td>\n",
       "      <td>0.0</td>\n",
       "      <td>0</td>\n",
       "      <td>0.0</td>\n",
       "      <td>0</td>\n",
       "      <td>0.0</td>\n",
       "      <td>0</td>\n",
       "      <td>0.0</td>\n",
       "      <td>0</td>\n",
       "      <td>0.0</td>\n",
       "      <td>0</td>\n",
       "      <td>0.0</td>\n",
       "      <td>0</td>\n",
       "      <td>0.0</td>\n",
       "      <td>0</td>\n",
       "      <td>0.0</td>\n",
       "      <td>0</td>\n",
       "      <td>0.0</td>\n",
       "      <td>0</td>\n",
       "    </tr>\n",
       "    <tr>\n",
       "      <th>대구</th>\n",
       "      <td>0</td>\n",
       "      <td>0.0</td>\n",
       "      <td>0</td>\n",
       "      <td>0.0</td>\n",
       "      <td>0</td>\n",
       "      <td>0.0</td>\n",
       "      <td>0</td>\n",
       "      <td>0.0</td>\n",
       "      <td>0</td>\n",
       "      <td>0.0</td>\n",
       "      <td>0</td>\n",
       "      <td>0.0</td>\n",
       "      <td>0</td>\n",
       "      <td>0.0</td>\n",
       "      <td>0</td>\n",
       "      <td>0.0</td>\n",
       "      <td>0</td>\n",
       "      <td>0.0</td>\n",
       "      <td>0</td>\n",
       "      <td>0.0</td>\n",
       "      <td>0</td>\n",
       "    </tr>\n",
       "    <tr>\n",
       "      <th>인천</th>\n",
       "      <td>1</td>\n",
       "      <td>50.0</td>\n",
       "      <td>0</td>\n",
       "      <td>0.0</td>\n",
       "      <td>0</td>\n",
       "      <td>0.0</td>\n",
       "      <td>0</td>\n",
       "      <td>0.0</td>\n",
       "      <td>1</td>\n",
       "      <td>50.0</td>\n",
       "      <td>0</td>\n",
       "      <td>0.0</td>\n",
       "      <td>0</td>\n",
       "      <td>0.0</td>\n",
       "      <td>0</td>\n",
       "      <td>0.0</td>\n",
       "      <td>0</td>\n",
       "      <td>0.0</td>\n",
       "      <td>0</td>\n",
       "      <td>0.0</td>\n",
       "      <td>2</td>\n",
       "    </tr>\n",
       "    <tr>\n",
       "      <th>광주</th>\n",
       "      <td>0</td>\n",
       "      <td>0.0</td>\n",
       "      <td>0</td>\n",
       "      <td>0.0</td>\n",
       "      <td>1</td>\n",
       "      <td>100.0</td>\n",
       "      <td>0</td>\n",
       "      <td>0.0</td>\n",
       "      <td>0</td>\n",
       "      <td>0.0</td>\n",
       "      <td>0</td>\n",
       "      <td>0.0</td>\n",
       "      <td>0</td>\n",
       "      <td>0.0</td>\n",
       "      <td>0</td>\n",
       "      <td>0.0</td>\n",
       "      <td>0</td>\n",
       "      <td>0.0</td>\n",
       "      <td>0</td>\n",
       "      <td>0.0</td>\n",
       "      <td>1</td>\n",
       "    </tr>\n",
       "    <tr>\n",
       "      <th>대전</th>\n",
       "      <td>0</td>\n",
       "      <td>0.0</td>\n",
       "      <td>0</td>\n",
       "      <td>0.0</td>\n",
       "      <td>0</td>\n",
       "      <td>0.0</td>\n",
       "      <td>0</td>\n",
       "      <td>0.0</td>\n",
       "      <td>0</td>\n",
       "      <td>0.0</td>\n",
       "      <td>0</td>\n",
       "      <td>0.0</td>\n",
       "      <td>0</td>\n",
       "      <td>0.0</td>\n",
       "      <td>0</td>\n",
       "      <td>0.0</td>\n",
       "      <td>0</td>\n",
       "      <td>0.0</td>\n",
       "      <td>0</td>\n",
       "      <td>0.0</td>\n",
       "      <td>0</td>\n",
       "    </tr>\n",
       "    <tr>\n",
       "      <th>울산</th>\n",
       "      <td>0</td>\n",
       "      <td>0.0</td>\n",
       "      <td>0</td>\n",
       "      <td>0.0</td>\n",
       "      <td>0</td>\n",
       "      <td>0.0</td>\n",
       "      <td>0</td>\n",
       "      <td>0.0</td>\n",
       "      <td>0</td>\n",
       "      <td>0.0</td>\n",
       "      <td>0</td>\n",
       "      <td>0.0</td>\n",
       "      <td>0</td>\n",
       "      <td>0.0</td>\n",
       "      <td>0</td>\n",
       "      <td>0.0</td>\n",
       "      <td>0</td>\n",
       "      <td>0.0</td>\n",
       "      <td>0</td>\n",
       "      <td>0.0</td>\n",
       "      <td>0</td>\n",
       "    </tr>\n",
       "    <tr>\n",
       "      <th>세종</th>\n",
       "      <td>0</td>\n",
       "      <td>0.0</td>\n",
       "      <td>0</td>\n",
       "      <td>0.0</td>\n",
       "      <td>0</td>\n",
       "      <td>0.0</td>\n",
       "      <td>0</td>\n",
       "      <td>0.0</td>\n",
       "      <td>0</td>\n",
       "      <td>0.0</td>\n",
       "      <td>0</td>\n",
       "      <td>0.0</td>\n",
       "      <td>0</td>\n",
       "      <td>0.0</td>\n",
       "      <td>0</td>\n",
       "      <td>0.0</td>\n",
       "      <td>0</td>\n",
       "      <td>0.0</td>\n",
       "      <td>0</td>\n",
       "      <td>0.0</td>\n",
       "      <td>0</td>\n",
       "    </tr>\n",
       "    <tr>\n",
       "      <th>경기</th>\n",
       "      <td>11</td>\n",
       "      <td>47.8</td>\n",
       "      <td>2</td>\n",
       "      <td>8.7</td>\n",
       "      <td>3</td>\n",
       "      <td>13.0</td>\n",
       "      <td>2</td>\n",
       "      <td>8.7</td>\n",
       "      <td>2</td>\n",
       "      <td>8.7</td>\n",
       "      <td>1</td>\n",
       "      <td>4.3</td>\n",
       "      <td>0</td>\n",
       "      <td>0.0</td>\n",
       "      <td>0</td>\n",
       "      <td>0.0</td>\n",
       "      <td>2</td>\n",
       "      <td>8.7</td>\n",
       "      <td>0</td>\n",
       "      <td>0.0</td>\n",
       "      <td>23</td>\n",
       "    </tr>\n",
       "    <tr>\n",
       "      <th>강원</th>\n",
       "      <td>32</td>\n",
       "      <td>47.8</td>\n",
       "      <td>0</td>\n",
       "      <td>0.0</td>\n",
       "      <td>14</td>\n",
       "      <td>20.9</td>\n",
       "      <td>4</td>\n",
       "      <td>6.0</td>\n",
       "      <td>5</td>\n",
       "      <td>7.5</td>\n",
       "      <td>4</td>\n",
       "      <td>6.0</td>\n",
       "      <td>2</td>\n",
       "      <td>3.0</td>\n",
       "      <td>4</td>\n",
       "      <td>6.0</td>\n",
       "      <td>2</td>\n",
       "      <td>3.0</td>\n",
       "      <td>0</td>\n",
       "      <td>0.0</td>\n",
       "      <td>67</td>\n",
       "    </tr>\n",
       "    <tr>\n",
       "      <th>충북</th>\n",
       "      <td>0</td>\n",
       "      <td>0.0</td>\n",
       "      <td>0</td>\n",
       "      <td>0.0</td>\n",
       "      <td>0</td>\n",
       "      <td>0.0</td>\n",
       "      <td>0</td>\n",
       "      <td>0.0</td>\n",
       "      <td>0</td>\n",
       "      <td>0.0</td>\n",
       "      <td>0</td>\n",
       "      <td>0.0</td>\n",
       "      <td>0</td>\n",
       "      <td>0.0</td>\n",
       "      <td>0</td>\n",
       "      <td>0.0</td>\n",
       "      <td>0</td>\n",
       "      <td>0.0</td>\n",
       "      <td>0</td>\n",
       "      <td>0.0</td>\n",
       "      <td>0</td>\n",
       "    </tr>\n",
       "    <tr>\n",
       "      <th>충남</th>\n",
       "      <td>0</td>\n",
       "      <td>0.0</td>\n",
       "      <td>0</td>\n",
       "      <td>0.0</td>\n",
       "      <td>0</td>\n",
       "      <td>0.0</td>\n",
       "      <td>0</td>\n",
       "      <td>0.0</td>\n",
       "      <td>0</td>\n",
       "      <td>0.0</td>\n",
       "      <td>0</td>\n",
       "      <td>0.0</td>\n",
       "      <td>0</td>\n",
       "      <td>0.0</td>\n",
       "      <td>0</td>\n",
       "      <td>0.0</td>\n",
       "      <td>0</td>\n",
       "      <td>0.0</td>\n",
       "      <td>0</td>\n",
       "      <td>0.0</td>\n",
       "      <td>0</td>\n",
       "    </tr>\n",
       "    <tr>\n",
       "      <th>전북</th>\n",
       "      <td>0</td>\n",
       "      <td>0.0</td>\n",
       "      <td>0</td>\n",
       "      <td>0.0</td>\n",
       "      <td>0</td>\n",
       "      <td>0.0</td>\n",
       "      <td>0</td>\n",
       "      <td>0.0</td>\n",
       "      <td>0</td>\n",
       "      <td>0.0</td>\n",
       "      <td>0</td>\n",
       "      <td>0.0</td>\n",
       "      <td>0</td>\n",
       "      <td>0.0</td>\n",
       "      <td>0</td>\n",
       "      <td>0.0</td>\n",
       "      <td>0</td>\n",
       "      <td>0.0</td>\n",
       "      <td>0</td>\n",
       "      <td>0.0</td>\n",
       "      <td>0</td>\n",
       "    </tr>\n",
       "    <tr>\n",
       "      <th>전남</th>\n",
       "      <td>0</td>\n",
       "      <td>0.0</td>\n",
       "      <td>0</td>\n",
       "      <td>0.0</td>\n",
       "      <td>0</td>\n",
       "      <td>0.0</td>\n",
       "      <td>0</td>\n",
       "      <td>0.0</td>\n",
       "      <td>1</td>\n",
       "      <td>100.0</td>\n",
       "      <td>0</td>\n",
       "      <td>0.0</td>\n",
       "      <td>0</td>\n",
       "      <td>0.0</td>\n",
       "      <td>0</td>\n",
       "      <td>0.0</td>\n",
       "      <td>0</td>\n",
       "      <td>0.0</td>\n",
       "      <td>0</td>\n",
       "      <td>0.0</td>\n",
       "      <td>1</td>\n",
       "    </tr>\n",
       "    <tr>\n",
       "      <th>경북</th>\n",
       "      <td>0</td>\n",
       "      <td>0.0</td>\n",
       "      <td>0</td>\n",
       "      <td>0.0</td>\n",
       "      <td>0</td>\n",
       "      <td>0.0</td>\n",
       "      <td>0</td>\n",
       "      <td>0.0</td>\n",
       "      <td>1</td>\n",
       "      <td>100.0</td>\n",
       "      <td>0</td>\n",
       "      <td>0.0</td>\n",
       "      <td>0</td>\n",
       "      <td>0.0</td>\n",
       "      <td>0</td>\n",
       "      <td>0.0</td>\n",
       "      <td>0</td>\n",
       "      <td>0.0</td>\n",
       "      <td>0</td>\n",
       "      <td>0.0</td>\n",
       "      <td>1</td>\n",
       "    </tr>\n",
       "    <tr>\n",
       "      <th>경남</th>\n",
       "      <td>0</td>\n",
       "      <td>0.0</td>\n",
       "      <td>0</td>\n",
       "      <td>0.0</td>\n",
       "      <td>0</td>\n",
       "      <td>0.0</td>\n",
       "      <td>0</td>\n",
       "      <td>0.0</td>\n",
       "      <td>0</td>\n",
       "      <td>0.0</td>\n",
       "      <td>0</td>\n",
       "      <td>0.0</td>\n",
       "      <td>0</td>\n",
       "      <td>0.0</td>\n",
       "      <td>0</td>\n",
       "      <td>0.0</td>\n",
       "      <td>0</td>\n",
       "      <td>0.0</td>\n",
       "      <td>0</td>\n",
       "      <td>0.0</td>\n",
       "      <td>0</td>\n",
       "    </tr>\n",
       "    <tr>\n",
       "      <th>제주</th>\n",
       "      <td>0</td>\n",
       "      <td>0.0</td>\n",
       "      <td>0</td>\n",
       "      <td>0.0</td>\n",
       "      <td>0</td>\n",
       "      <td>0.0</td>\n",
       "      <td>0</td>\n",
       "      <td>0.0</td>\n",
       "      <td>0</td>\n",
       "      <td>0.0</td>\n",
       "      <td>0</td>\n",
       "      <td>0.0</td>\n",
       "      <td>0</td>\n",
       "      <td>0.0</td>\n",
       "      <td>0</td>\n",
       "      <td>0.0</td>\n",
       "      <td>0</td>\n",
       "      <td>0.0</td>\n",
       "      <td>0</td>\n",
       "      <td>0.0</td>\n",
       "      <td>0</td>\n",
       "    </tr>\n",
       "    <tr>\n",
       "      <th rowspan=\"13\" valign=\"top\">직업</th>\n",
       "      <th>산림임업종사자</th>\n",
       "      <td>5</td>\n",
       "      <td>45.5</td>\n",
       "      <td>0</td>\n",
       "      <td>0.0</td>\n",
       "      <td>3</td>\n",
       "      <td>27.3</td>\n",
       "      <td>0</td>\n",
       "      <td>0.0</td>\n",
       "      <td>2</td>\n",
       "      <td>18.2</td>\n",
       "      <td>0</td>\n",
       "      <td>0.0</td>\n",
       "      <td>0</td>\n",
       "      <td>0.0</td>\n",
       "      <td>0</td>\n",
       "      <td>0.0</td>\n",
       "      <td>1</td>\n",
       "      <td>9.1</td>\n",
       "      <td>0</td>\n",
       "      <td>0.0</td>\n",
       "      <td>11</td>\n",
       "    </tr>\n",
       "    <tr>\n",
       "      <th>사무종사자</th>\n",
       "      <td>3</td>\n",
       "      <td>75.0</td>\n",
       "      <td>0</td>\n",
       "      <td>0.0</td>\n",
       "      <td>1</td>\n",
       "      <td>25.0</td>\n",
       "      <td>0</td>\n",
       "      <td>0.0</td>\n",
       "      <td>0</td>\n",
       "      <td>0.0</td>\n",
       "      <td>0</td>\n",
       "      <td>0.0</td>\n",
       "      <td>0</td>\n",
       "      <td>0.0</td>\n",
       "      <td>0</td>\n",
       "      <td>0.0</td>\n",
       "      <td>0</td>\n",
       "      <td>0.0</td>\n",
       "      <td>0</td>\n",
       "      <td>0.0</td>\n",
       "      <td>4</td>\n",
       "    </tr>\n",
       "    <tr>\n",
       "      <th>서비스종사자</th>\n",
       "      <td>4</td>\n",
       "      <td>50.0</td>\n",
       "      <td>0</td>\n",
       "      <td>0.0</td>\n",
       "      <td>4</td>\n",
       "      <td>50.0</td>\n",
       "      <td>0</td>\n",
       "      <td>0.0</td>\n",
       "      <td>0</td>\n",
       "      <td>0.0</td>\n",
       "      <td>0</td>\n",
       "      <td>0.0</td>\n",
       "      <td>0</td>\n",
       "      <td>0.0</td>\n",
       "      <td>0</td>\n",
       "      <td>0.0</td>\n",
       "      <td>0</td>\n",
       "      <td>0.0</td>\n",
       "      <td>0</td>\n",
       "      <td>0.0</td>\n",
       "      <td>8</td>\n",
       "    </tr>\n",
       "    <tr>\n",
       "      <th>판매종사자</th>\n",
       "      <td>2</td>\n",
       "      <td>50.0</td>\n",
       "      <td>0</td>\n",
       "      <td>0.0</td>\n",
       "      <td>1</td>\n",
       "      <td>25.0</td>\n",
       "      <td>0</td>\n",
       "      <td>0.0</td>\n",
       "      <td>1</td>\n",
       "      <td>25.0</td>\n",
       "      <td>0</td>\n",
       "      <td>0.0</td>\n",
       "      <td>0</td>\n",
       "      <td>0.0</td>\n",
       "      <td>0</td>\n",
       "      <td>0.0</td>\n",
       "      <td>0</td>\n",
       "      <td>0.0</td>\n",
       "      <td>0</td>\n",
       "      <td>0.0</td>\n",
       "      <td>4</td>\n",
       "    </tr>\n",
       "    <tr>\n",
       "      <th>기술기능종사자</th>\n",
       "      <td>1</td>\n",
       "      <td>33.3</td>\n",
       "      <td>0</td>\n",
       "      <td>0.0</td>\n",
       "      <td>0</td>\n",
       "      <td>0.0</td>\n",
       "      <td>0</td>\n",
       "      <td>0.0</td>\n",
       "      <td>1</td>\n",
       "      <td>33.3</td>\n",
       "      <td>0</td>\n",
       "      <td>0.0</td>\n",
       "      <td>0</td>\n",
       "      <td>0.0</td>\n",
       "      <td>1</td>\n",
       "      <td>33.3</td>\n",
       "      <td>0</td>\n",
       "      <td>0.0</td>\n",
       "      <td>0</td>\n",
       "      <td>0.0</td>\n",
       "      <td>3</td>\n",
       "    </tr>\n",
       "    <tr>\n",
       "      <th>단순노무종사자</th>\n",
       "      <td>0</td>\n",
       "      <td>0.0</td>\n",
       "      <td>0</td>\n",
       "      <td>0.0</td>\n",
       "      <td>0</td>\n",
       "      <td>0.0</td>\n",
       "      <td>0</td>\n",
       "      <td>0.0</td>\n",
       "      <td>0</td>\n",
       "      <td>0.0</td>\n",
       "      <td>0</td>\n",
       "      <td>0.0</td>\n",
       "      <td>0</td>\n",
       "      <td>0.0</td>\n",
       "      <td>0</td>\n",
       "      <td>0.0</td>\n",
       "      <td>0</td>\n",
       "      <td>0.0</td>\n",
       "      <td>0</td>\n",
       "      <td>0.0</td>\n",
       "      <td>0</td>\n",
       "    </tr>\n",
       "    <tr>\n",
       "      <th>전문가(교수 포함)</th>\n",
       "      <td>3</td>\n",
       "      <td>100.0</td>\n",
       "      <td>0</td>\n",
       "      <td>0.0</td>\n",
       "      <td>0</td>\n",
       "      <td>0.0</td>\n",
       "      <td>0</td>\n",
       "      <td>0.0</td>\n",
       "      <td>0</td>\n",
       "      <td>0.0</td>\n",
       "      <td>0</td>\n",
       "      <td>0.0</td>\n",
       "      <td>0</td>\n",
       "      <td>0.0</td>\n",
       "      <td>0</td>\n",
       "      <td>0.0</td>\n",
       "      <td>0</td>\n",
       "      <td>0.0</td>\n",
       "      <td>0</td>\n",
       "      <td>0.0</td>\n",
       "      <td>3</td>\n",
       "    </tr>\n",
       "    <tr>\n",
       "      <th>경영직종사자</th>\n",
       "      <td>0</td>\n",
       "      <td>0.0</td>\n",
       "      <td>0</td>\n",
       "      <td>0.0</td>\n",
       "      <td>0</td>\n",
       "      <td>0.0</td>\n",
       "      <td>0</td>\n",
       "      <td>0.0</td>\n",
       "      <td>0</td>\n",
       "      <td>0.0</td>\n",
       "      <td>0</td>\n",
       "      <td>0.0</td>\n",
       "      <td>0</td>\n",
       "      <td>0.0</td>\n",
       "      <td>0</td>\n",
       "      <td>0.0</td>\n",
       "      <td>0</td>\n",
       "      <td>0.0</td>\n",
       "      <td>0</td>\n",
       "      <td>0.0</td>\n",
       "      <td>0</td>\n",
       "    </tr>\n",
       "    <tr>\n",
       "      <th>자영업자(개인사업자)</th>\n",
       "      <td>3</td>\n",
       "      <td>37.5</td>\n",
       "      <td>0</td>\n",
       "      <td>0.0</td>\n",
       "      <td>0</td>\n",
       "      <td>0.0</td>\n",
       "      <td>2</td>\n",
       "      <td>25.0</td>\n",
       "      <td>2</td>\n",
       "      <td>25.0</td>\n",
       "      <td>0</td>\n",
       "      <td>0.0</td>\n",
       "      <td>0</td>\n",
       "      <td>0.0</td>\n",
       "      <td>0</td>\n",
       "      <td>0.0</td>\n",
       "      <td>1</td>\n",
       "      <td>12.5</td>\n",
       "      <td>0</td>\n",
       "      <td>0.0</td>\n",
       "      <td>8</td>\n",
       "    </tr>\n",
       "    <tr>\n",
       "      <th>공무원(교사포함)</th>\n",
       "      <td>13</td>\n",
       "      <td>65.0</td>\n",
       "      <td>0</td>\n",
       "      <td>0.0</td>\n",
       "      <td>1</td>\n",
       "      <td>5.0</td>\n",
       "      <td>1</td>\n",
       "      <td>5.0</td>\n",
       "      <td>2</td>\n",
       "      <td>10.0</td>\n",
       "      <td>2</td>\n",
       "      <td>10.0</td>\n",
       "      <td>1</td>\n",
       "      <td>5.0</td>\n",
       "      <td>0</td>\n",
       "      <td>0.0</td>\n",
       "      <td>0</td>\n",
       "      <td>0.0</td>\n",
       "      <td>0</td>\n",
       "      <td>0.0</td>\n",
       "      <td>20</td>\n",
       "    </tr>\n",
       "    <tr>\n",
       "      <th>학생(대학원생포함)</th>\n",
       "      <td>11</td>\n",
       "      <td>33.3</td>\n",
       "      <td>2</td>\n",
       "      <td>6.1</td>\n",
       "      <td>7</td>\n",
       "      <td>21.2</td>\n",
       "      <td>4</td>\n",
       "      <td>12.1</td>\n",
       "      <td>2</td>\n",
       "      <td>6.1</td>\n",
       "      <td>3</td>\n",
       "      <td>9.1</td>\n",
       "      <td>0</td>\n",
       "      <td>0.0</td>\n",
       "      <td>2</td>\n",
       "      <td>6.1</td>\n",
       "      <td>2</td>\n",
       "      <td>6.1</td>\n",
       "      <td>0</td>\n",
       "      <td>0.0</td>\n",
       "      <td>33</td>\n",
       "    </tr>\n",
       "    <tr>\n",
       "      <th>전업주부</th>\n",
       "      <td>5</td>\n",
       "      <td>62.5</td>\n",
       "      <td>0</td>\n",
       "      <td>0.0</td>\n",
       "      <td>1</td>\n",
       "      <td>12.5</td>\n",
       "      <td>1</td>\n",
       "      <td>12.5</td>\n",
       "      <td>0</td>\n",
       "      <td>0.0</td>\n",
       "      <td>0</td>\n",
       "      <td>0.0</td>\n",
       "      <td>1</td>\n",
       "      <td>12.5</td>\n",
       "      <td>0</td>\n",
       "      <td>0.0</td>\n",
       "      <td>0</td>\n",
       "      <td>0.0</td>\n",
       "      <td>0</td>\n",
       "      <td>0.0</td>\n",
       "      <td>8</td>\n",
       "    </tr>\n",
       "    <tr>\n",
       "      <th>기타</th>\n",
       "      <td>1</td>\n",
       "      <td>33.3</td>\n",
       "      <td>0</td>\n",
       "      <td>0.0</td>\n",
       "      <td>0</td>\n",
       "      <td>0.0</td>\n",
       "      <td>0</td>\n",
       "      <td>0.0</td>\n",
       "      <td>0</td>\n",
       "      <td>0.0</td>\n",
       "      <td>0</td>\n",
       "      <td>0.0</td>\n",
       "      <td>0</td>\n",
       "      <td>0.0</td>\n",
       "      <td>1</td>\n",
       "      <td>33.3</td>\n",
       "      <td>1</td>\n",
       "      <td>33.3</td>\n",
       "      <td>0</td>\n",
       "      <td>0.0</td>\n",
       "      <td>3</td>\n",
       "    </tr>\n",
       "  </tbody>\n",
       "</table>\n",
       "</div>"
      ],
      "text/plain": [
       "                      휴식 및 건강증진-빈도  휴식 및 건강증진-비율 자기계발-빈도  자기계발-비율  \\\n",
       "성별   남성                         26          52.0       2      4.0   \n",
       "     여성                         25          45.5       0      0.0   \n",
       "연령   10대(15세이상)                  4          57.1       0      0.0   \n",
       "     20대                         8          28.6       2      7.1   \n",
       "     30대                        10          71.4       0      0.0   \n",
       "     40대                         9          64.3       0      0.0   \n",
       "     50대                         9          47.4       0      0.0   \n",
       "     60대이상                      11          47.8       0      0.0   \n",
       "학력   초등학교 졸업(무학 포함)              2          50.0       0      0.0   \n",
       "     중학교 재학                      5          50.0       0      0.0   \n",
       "     중학교 졸업                      3          75.0       0      0.0   \n",
       "     고등학교 재학                     1          50.0       0      0.0   \n",
       "     고등학교 졸업                     7          63.6       0      0.0   \n",
       "     대학교 재학                      7          28.0       2      8.0   \n",
       "     대학교 졸업                     21          50.0       0      0.0   \n",
       "     대학원 재학(석사 또는 박사)            2         100.0       0      0.0   \n",
       "     대학원 졸업(석사또는 박사)             3          60.0       0      0.0   \n",
       "거주지역 서울                          7          70.0       0      0.0   \n",
       "     부산                          0           0.0       0      0.0   \n",
       "     대구                          0           0.0       0      0.0   \n",
       "     인천                          1          50.0       0      0.0   \n",
       "     광주                          0           0.0       0      0.0   \n",
       "     대전                          0           0.0       0      0.0   \n",
       "     울산                          0           0.0       0      0.0   \n",
       "     세종                          0           0.0       0      0.0   \n",
       "     경기                         11          47.8       2      8.7   \n",
       "     강원                         32          47.8       0      0.0   \n",
       "     충북                          0           0.0       0      0.0   \n",
       "     충남                          0           0.0       0      0.0   \n",
       "     전북                          0           0.0       0      0.0   \n",
       "     전남                          0           0.0       0      0.0   \n",
       "     경북                          0           0.0       0      0.0   \n",
       "     경남                          0           0.0       0      0.0   \n",
       "     제주                          0           0.0       0      0.0   \n",
       "직업   산림임업종사자                     5          45.5       0      0.0   \n",
       "     사무종사자                       3          75.0       0      0.0   \n",
       "     서비스종사자                      4          50.0       0      0.0   \n",
       "     판매종사자                       2          50.0       0      0.0   \n",
       "     기술기능종사자                     1          33.3       0      0.0   \n",
       "     단순노무종사자                     0           0.0       0      0.0   \n",
       "     전문가(교수 포함)                  3         100.0       0      0.0   \n",
       "     경영직종사자                      0           0.0       0      0.0   \n",
       "     자영업자(개인사업자)                 3          37.5       0      0.0   \n",
       "     공무원(교사포함)                  13          65.0       0      0.0   \n",
       "     학생(대학원생포함)                 11          33.3       2      6.1   \n",
       "     전업주부                        5          62.5       0      0.0   \n",
       "     기타                          1          33.3       0      0.0   \n",
       "\n",
       "                      산림에 대한 소양증진(지식,정보등 습득)-빈도  산림에 대한 소양증진(지식,정보등 습득)-비율  \\\n",
       "성별   남성                                       9                       18.0   \n",
       "     여성                                       9                       16.4   \n",
       "연령   10대(15세이상)                               0                        0.0   \n",
       "     20대                                      7                       25.0   \n",
       "     30대                                      3                       21.4   \n",
       "     40대                                      0                        0.0   \n",
       "     50대                                      1                        5.3   \n",
       "     60대이상                                    7                       30.4   \n",
       "학력   초등학교 졸업(무학 포함)                           2                       50.0   \n",
       "     중학교 재학                                   1                       10.0   \n",
       "     중학교 졸업                                   1                       25.0   \n",
       "     고등학교 재학                                  0                        0.0   \n",
       "     고등학교 졸업                                  2                       18.2   \n",
       "     대학교 재학                                   7                       28.0   \n",
       "     대학교 졸업                                   5                       11.9   \n",
       "     대학원 재학(석사 또는 박사)                         0                        0.0   \n",
       "     대학원 졸업(석사또는 박사)                          0                        0.0   \n",
       "거주지역 서울                                       0                        0.0   \n",
       "     부산                                       0                        0.0   \n",
       "     대구                                       0                        0.0   \n",
       "     인천                                       0                        0.0   \n",
       "     광주                                       1                      100.0   \n",
       "     대전                                       0                        0.0   \n",
       "     울산                                       0                        0.0   \n",
       "     세종                                       0                        0.0   \n",
       "     경기                                       3                       13.0   \n",
       "     강원                                      14                       20.9   \n",
       "     충북                                       0                        0.0   \n",
       "     충남                                       0                        0.0   \n",
       "     전북                                       0                        0.0   \n",
       "     전남                                       0                        0.0   \n",
       "     경북                                       0                        0.0   \n",
       "     경남                                       0                        0.0   \n",
       "     제주                                       0                        0.0   \n",
       "직업   산림임업종사자                                  3                       27.3   \n",
       "     사무종사자                                    1                       25.0   \n",
       "     서비스종사자                                   4                       50.0   \n",
       "     판매종사자                                    1                       25.0   \n",
       "     기술기능종사자                                  0                        0.0   \n",
       "     단순노무종사자                                  0                        0.0   \n",
       "     전문가(교수 포함)                               0                        0.0   \n",
       "     경영직종사자                                   0                        0.0   \n",
       "     자영업자(개인사업자)                              0                        0.0   \n",
       "     공무원(교사포함)                                1                        5.0   \n",
       "     학생(대학원생포함)                               7                       21.2   \n",
       "     전업주부                                     1                       12.5   \n",
       "     기타                                       0                        0.0   \n",
       "\n",
       "                      즐겁고 재미난 체험-빈도  즐겁고 재미난 체험-비율 자연(산림) 감수성함양-빈도  \\\n",
       "성별   남성                           2            4.0               3   \n",
       "     여성                           6           10.9               7   \n",
       "연령   10대(15세이상)                   1           14.3               0   \n",
       "     20대                          3           10.7               3   \n",
       "     30대                          0            0.0               1   \n",
       "     40대                          2           14.3               0   \n",
       "     50대                          1            5.3               3   \n",
       "     60대이상                        1            4.3               3   \n",
       "학력   초등학교 졸업(무학 포함)               0            0.0               0   \n",
       "     중학교 재학                       2           20.0               0   \n",
       "     중학교 졸업                       0            0.0               0   \n",
       "     고등학교 재학                      0            0.0               1   \n",
       "     고등학교 졸업                      0            0.0               2   \n",
       "     대학교 재학                       3           12.0               2   \n",
       "     대학교 졸업                       3            7.1               3   \n",
       "     대학원 재학(석사 또는 박사)             0            0.0               0   \n",
       "     대학원 졸업(석사또는 박사)              0            0.0               2   \n",
       "거주지역 서울                           2           20.0               0   \n",
       "     부산                           0            0.0               0   \n",
       "     대구                           0            0.0               0   \n",
       "     인천                           0            0.0               1   \n",
       "     광주                           0            0.0               0   \n",
       "     대전                           0            0.0               0   \n",
       "     울산                           0            0.0               0   \n",
       "     세종                           0            0.0               0   \n",
       "     경기                           2            8.7               2   \n",
       "     강원                           4            6.0               5   \n",
       "     충북                           0            0.0               0   \n",
       "     충남                           0            0.0               0   \n",
       "     전북                           0            0.0               0   \n",
       "     전남                           0            0.0               1   \n",
       "     경북                           0            0.0               1   \n",
       "     경남                           0            0.0               0   \n",
       "     제주                           0            0.0               0   \n",
       "직업   산림임업종사자                      0            0.0               2   \n",
       "     사무종사자                        0            0.0               0   \n",
       "     서비스종사자                       0            0.0               0   \n",
       "     판매종사자                        0            0.0               1   \n",
       "     기술기능종사자                      0            0.0               1   \n",
       "     단순노무종사자                      0            0.0               0   \n",
       "     전문가(교수 포함)                   0            0.0               0   \n",
       "     경영직종사자                       0            0.0               0   \n",
       "     자영업자(개인사업자)                  2           25.0               2   \n",
       "     공무원(교사포함)                    1            5.0               2   \n",
       "     학생(대학원생포함)                   4           12.1               2   \n",
       "     전업주부                         1           12.5               0   \n",
       "     기타                           0            0.0               0   \n",
       "\n",
       "                       자연(산림) 감수성함양-비율 가족과의 시간-빈도  가족과의 시간-비율 대인관계형성-빈도  \\\n",
       "성별   남성                            6.0          2         4.0         0   \n",
       "     여성                           12.7          3         5.5         2   \n",
       "연령   10대(15세이상)                    0.0          0         0.0         0   \n",
       "     20대                          10.7          3        10.7         0   \n",
       "     30대                           7.1          0         0.0         0   \n",
       "     40대                           0.0          2        14.3         0   \n",
       "     50대                          15.8          0         0.0         2   \n",
       "     60대이상                        13.0          0         0.0         0   \n",
       "학력   초등학교 졸업(무학 포함)                0.0          0         0.0         0   \n",
       "     중학교 재학                        0.0          0         0.0         0   \n",
       "     중학교 졸업                        0.0          0         0.0         0   \n",
       "     고등학교 재학                      50.0          0         0.0         0   \n",
       "     고등학교 졸업                      18.2          0         0.0         0   \n",
       "     대학교 재학                        8.0          3        12.0         0   \n",
       "     대학교 졸업                        7.1          2         4.8         2   \n",
       "     대학원 재학(석사 또는 박사)              0.0          0         0.0         0   \n",
       "     대학원 졸업(석사또는 박사)              40.0          0         0.0         0   \n",
       "거주지역 서울                            0.0          0         0.0         0   \n",
       "     부산                            0.0          0         0.0         0   \n",
       "     대구                            0.0          0         0.0         0   \n",
       "     인천                           50.0          0         0.0         0   \n",
       "     광주                            0.0          0         0.0         0   \n",
       "     대전                            0.0          0         0.0         0   \n",
       "     울산                            0.0          0         0.0         0   \n",
       "     세종                            0.0          0         0.0         0   \n",
       "     경기                            8.7          1         4.3         0   \n",
       "     강원                            7.5          4         6.0         2   \n",
       "     충북                            0.0          0         0.0         0   \n",
       "     충남                            0.0          0         0.0         0   \n",
       "     전북                            0.0          0         0.0         0   \n",
       "     전남                          100.0          0         0.0         0   \n",
       "     경북                          100.0          0         0.0         0   \n",
       "     경남                            0.0          0         0.0         0   \n",
       "     제주                            0.0          0         0.0         0   \n",
       "직업   산림임업종사자                      18.2          0         0.0         0   \n",
       "     사무종사자                         0.0          0         0.0         0   \n",
       "     서비스종사자                        0.0          0         0.0         0   \n",
       "     판매종사자                        25.0          0         0.0         0   \n",
       "     기술기능종사자                      33.3          0         0.0         0   \n",
       "     단순노무종사자                       0.0          0         0.0         0   \n",
       "     전문가(교수 포함)                    0.0          0         0.0         0   \n",
       "     경영직종사자                        0.0          0         0.0         0   \n",
       "     자영업자(개인사업자)                  25.0          0         0.0         0   \n",
       "     공무원(교사포함)                    10.0          2        10.0         1   \n",
       "     학생(대학원생포함)                    6.1          3         9.1         0   \n",
       "     전업주부                          0.0          0         0.0         1   \n",
       "     기타                            0.0          0         0.0         0   \n",
       "\n",
       "                       대인관계형성-비율 창작활동에 대한 기대-빈도  창작활동에 대한 기대-비율  \\\n",
       "성별   남성                      0.0              3             6.0   \n",
       "     여성                      3.6              1             1.8   \n",
       "연령   10대(15세이상)              0.0              1            14.3   \n",
       "     20대                     0.0              1             3.6   \n",
       "     30대                     0.0              0             0.0   \n",
       "     40대                     0.0              1             7.1   \n",
       "     50대                    10.5              1             5.3   \n",
       "     60대이상                   0.0              0             0.0   \n",
       "학력   초등학교 졸업(무학 포함)          0.0              0             0.0   \n",
       "     중학교 재학                  0.0              1            10.0   \n",
       "     중학교 졸업                  0.0              0             0.0   \n",
       "     고등학교 재학                 0.0              0             0.0   \n",
       "     고등학교 졸업                 0.0              0             0.0   \n",
       "     대학교 재학                  0.0              1             4.0   \n",
       "     대학교 졸업                  4.8              2             4.8   \n",
       "     대학원 재학(석사 또는 박사)        0.0              0             0.0   \n",
       "     대학원 졸업(석사또는 박사)         0.0              0             0.0   \n",
       "거주지역 서울                      0.0              0             0.0   \n",
       "     부산                      0.0              0             0.0   \n",
       "     대구                      0.0              0             0.0   \n",
       "     인천                      0.0              0             0.0   \n",
       "     광주                      0.0              0             0.0   \n",
       "     대전                      0.0              0             0.0   \n",
       "     울산                      0.0              0             0.0   \n",
       "     세종                      0.0              0             0.0   \n",
       "     경기                      0.0              0             0.0   \n",
       "     강원                      3.0              4             6.0   \n",
       "     충북                      0.0              0             0.0   \n",
       "     충남                      0.0              0             0.0   \n",
       "     전북                      0.0              0             0.0   \n",
       "     전남                      0.0              0             0.0   \n",
       "     경북                      0.0              0             0.0   \n",
       "     경남                      0.0              0             0.0   \n",
       "     제주                      0.0              0             0.0   \n",
       "직업   산림임업종사자                 0.0              0             0.0   \n",
       "     사무종사자                   0.0              0             0.0   \n",
       "     서비스종사자                  0.0              0             0.0   \n",
       "     판매종사자                   0.0              0             0.0   \n",
       "     기술기능종사자                 0.0              1            33.3   \n",
       "     단순노무종사자                 0.0              0             0.0   \n",
       "     전문가(교수 포함)              0.0              0             0.0   \n",
       "     경영직종사자                  0.0              0             0.0   \n",
       "     자영업자(개인사업자)             0.0              0             0.0   \n",
       "     공무원(교사포함)               5.0              0             0.0   \n",
       "     학생(대학원생포함)              0.0              2             6.1   \n",
       "     전업주부                   12.5              0             0.0   \n",
       "     기타                      0.0              1            33.3   \n",
       "\n",
       "                      지역의 독특한 자연 또는 문화체험-빈도  지역의 독특한 자연 또는 문화체험-비율 기타-빈도  \\\n",
       "성별   남성                                   3                    6.0     0   \n",
       "     여성                                   2                    3.6     0   \n",
       "연령   10대(15세이상)                           1                   14.3     0   \n",
       "     20대                                  1                    3.6     0   \n",
       "     30대                                  0                    0.0     0   \n",
       "     40대                                  0                    0.0     0   \n",
       "     50대                                  2                   10.5     0   \n",
       "     60대이상                                1                    4.3     0   \n",
       "학력   초등학교 졸업(무학 포함)                       0                    0.0     0   \n",
       "     중학교 재학                               1                   10.0     0   \n",
       "     중학교 졸업                               0                    0.0     0   \n",
       "     고등학교 재학                              0                    0.0     0   \n",
       "     고등학교 졸업                              0                    0.0     0   \n",
       "     대학교 재학                               0                    0.0     0   \n",
       "     대학교 졸업                               4                    9.5     0   \n",
       "     대학원 재학(석사 또는 박사)                     0                    0.0     0   \n",
       "     대학원 졸업(석사또는 박사)                      0                    0.0     0   \n",
       "거주지역 서울                                   1                   10.0     0   \n",
       "     부산                                   0                    0.0     0   \n",
       "     대구                                   0                    0.0     0   \n",
       "     인천                                   0                    0.0     0   \n",
       "     광주                                   0                    0.0     0   \n",
       "     대전                                   0                    0.0     0   \n",
       "     울산                                   0                    0.0     0   \n",
       "     세종                                   0                    0.0     0   \n",
       "     경기                                   2                    8.7     0   \n",
       "     강원                                   2                    3.0     0   \n",
       "     충북                                   0                    0.0     0   \n",
       "     충남                                   0                    0.0     0   \n",
       "     전북                                   0                    0.0     0   \n",
       "     전남                                   0                    0.0     0   \n",
       "     경북                                   0                    0.0     0   \n",
       "     경남                                   0                    0.0     0   \n",
       "     제주                                   0                    0.0     0   \n",
       "직업   산림임업종사자                              1                    9.1     0   \n",
       "     사무종사자                                0                    0.0     0   \n",
       "     서비스종사자                               0                    0.0     0   \n",
       "     판매종사자                                0                    0.0     0   \n",
       "     기술기능종사자                              0                    0.0     0   \n",
       "     단순노무종사자                              0                    0.0     0   \n",
       "     전문가(교수 포함)                           0                    0.0     0   \n",
       "     경영직종사자                               0                    0.0     0   \n",
       "     자영업자(개인사업자)                          1                   12.5     0   \n",
       "     공무원(교사포함)                            0                    0.0     0   \n",
       "     학생(대학원생포함)                           2                    6.1     0   \n",
       "     전업주부                                 0                    0.0     0   \n",
       "     기타                                   1                   33.3     0   \n",
       "\n",
       "                       기타-비율  사례수  \n",
       "성별   남성                  0.0   50  \n",
       "     여성                  0.0   55  \n",
       "연령   10대(15세이상)          0.0    7  \n",
       "     20대                 0.0   28  \n",
       "     30대                 0.0   14  \n",
       "     40대                 0.0   14  \n",
       "     50대                 0.0   19  \n",
       "     60대이상               0.0   23  \n",
       "학력   초등학교 졸업(무학 포함)      0.0    4  \n",
       "     중학교 재학              0.0   10  \n",
       "     중학교 졸업              0.0    4  \n",
       "     고등학교 재학             0.0    2  \n",
       "     고등학교 졸업             0.0   11  \n",
       "     대학교 재학              0.0   25  \n",
       "     대학교 졸업              0.0   42  \n",
       "     대학원 재학(석사 또는 박사)    0.0    2  \n",
       "     대학원 졸업(석사또는 박사)     0.0    5  \n",
       "거주지역 서울                  0.0   10  \n",
       "     부산                  0.0    0  \n",
       "     대구                  0.0    0  \n",
       "     인천                  0.0    2  \n",
       "     광주                  0.0    1  \n",
       "     대전                  0.0    0  \n",
       "     울산                  0.0    0  \n",
       "     세종                  0.0    0  \n",
       "     경기                  0.0   23  \n",
       "     강원                  0.0   67  \n",
       "     충북                  0.0    0  \n",
       "     충남                  0.0    0  \n",
       "     전북                  0.0    0  \n",
       "     전남                  0.0    1  \n",
       "     경북                  0.0    1  \n",
       "     경남                  0.0    0  \n",
       "     제주                  0.0    0  \n",
       "직업   산림임업종사자             0.0   11  \n",
       "     사무종사자               0.0    4  \n",
       "     서비스종사자              0.0    8  \n",
       "     판매종사자               0.0    4  \n",
       "     기술기능종사자             0.0    3  \n",
       "     단순노무종사자             0.0    0  \n",
       "     전문가(교수 포함)          0.0    3  \n",
       "     경영직종사자              0.0    0  \n",
       "     자영업자(개인사업자)         0.0    8  \n",
       "     공무원(교사포함)           0.0   20  \n",
       "     학생(대학원생포함)          0.0   33  \n",
       "     전업주부                0.0    8  \n",
       "     기타                  0.0    3  "
      ]
     },
     "execution_count": 55,
     "metadata": {},
     "output_type": "execute_result"
    }
   ],
   "source": [
    "# 응답자 특성별 표 정리\n",
    "q7 = ['휴식 및 건강증진','자기계발','산림에 대한 소양증진(지식,정보등 습득)','즐겁고 재미난 체험','자연(산림) 감수성함양','가족과의 시간','대인관계형성','창작활동에 대한 기대','지역의 독특한 자연 또는 문화체험','기타']\n",
    "combined_list = q7\n",
    "column_lst = []\n",
    "for i in combined_list:\n",
    "    column_lst.append(\"%s-빈도\"%i)\n",
    "    column_lst.append(\"%s-비율\"%i)\n",
    "resp_map_df = pd.DataFrame(columns = column_lst)\n",
    "\n",
    "# 응답자 설문 리스트 정의\n",
    "sq_lst = list(Resp_Character.keys())\n",
    "# 응답자 매핑 딕셔너리 정의\n",
    "sq_dic = {'성별': 'SQ1', '연령': 'SQ2_1', '학력': 'SQ3', '거주지역': 'SQ4', '직업': 'SQ5'}\n",
    "\n",
    "# 멀티인덱스를 위한 리스트 생성\n",
    "mult_idx = []\n",
    "\n",
    "for sq in sq_lst:\n",
    "    for val in list(Resp_Character[sq].values()):\n",
    "        # 멀티인덱스 추가\n",
    "        mult_idx.append(sq)\n",
    "        # 'SQ1' 열의 값으로 필터링\n",
    "        filtered_rows = df_expo[df_expo[sq_dic[sq]] == val].reset_index(drop=True)\n",
    "        frequency_rate_df = filtered_rows['Q7_1'].value_counts().reset_index()\n",
    "        frequency_rate_df.columns = ['값', '빈도']\n",
    "        frequency_rate_df['값'] = map_val(frequency_rate_df['값'], Q7_map)\n",
    "        frequency_rate_df['비율'] = round((frequency_rate_df['빈도'] / frequency_rate_df['빈도'].sum())*100,1)\n",
    "        frequency_rate_df = frequency_rate_df.set_index(keys='값')\n",
    "        \n",
    "        resp_map = {}\n",
    "        for i in resp_map_df.columns:\n",
    "            if i.endswith('빈도'):\n",
    "                resp_map[i] = [0]\n",
    "            else:\n",
    "                resp_map[i] = [0.0]\n",
    "\n",
    "        for i in resp_map_df.columns:\n",
    "            try:       \n",
    "                response, method = i.split('-')\n",
    "                resp_map[i][0] = frequency_rate_df.loc[response, method]\n",
    "            except:\n",
    "                pass\n",
    "        else:\n",
    "            map_df = pd.DataFrame(resp_map)\n",
    "            map_df.index = [val]\n",
    "            resp_map_df = pd.concat([resp_map_df,map_df])\n",
    "resp_map_df['사례수'] = resp_map_df.filter(like='빈도').sum(axis=1).astype(int)\n",
    "# 멀티인덱스 생성\n",
    "resp_map_df.set_index([mult_idx, resp_map_df.index], inplace=True)\n",
    "resp_map_df"
   ]
  },
  {
   "attachments": {},
   "cell_type": "markdown",
   "metadata": {},
   "source": [
    "### 1순위 + 2순위 합산한 표 생성"
   ]
  },
  {
   "cell_type": "code",
   "execution_count": 57,
   "metadata": {},
   "outputs": [
    {
     "name": "stderr",
     "output_type": "stream",
     "text": [
      "C:\\Users\\user\\AppData\\Local\\Temp\\ipykernel_19340\\3480878982.py:51: FutureWarning:\n",
      "\n",
      "The behavior of DataFrame concatenation with empty or all-NA entries is deprecated. In a future version, this will no longer exclude empty or all-NA columns when determining the result dtypes. To retain the old behavior, exclude the relevant entries before the concat operation.\n",
      "\n"
     ]
    },
    {
     "data": {
      "text/html": [
       "<div>\n",
       "<style scoped>\n",
       "    .dataframe tbody tr th:only-of-type {\n",
       "        vertical-align: middle;\n",
       "    }\n",
       "\n",
       "    .dataframe tbody tr th {\n",
       "        vertical-align: top;\n",
       "    }\n",
       "\n",
       "    .dataframe thead th {\n",
       "        text-align: right;\n",
       "    }\n",
       "</style>\n",
       "<table border=\"1\" class=\"dataframe\">\n",
       "  <thead>\n",
       "    <tr style=\"text-align: right;\">\n",
       "      <th></th>\n",
       "      <th></th>\n",
       "      <th>휴식 및 건강증진-빈도</th>\n",
       "      <th>휴식 및 건강증진-비율</th>\n",
       "      <th>자기계발-빈도</th>\n",
       "      <th>자기계발-비율</th>\n",
       "      <th>산림에 대한 소양증진(지식,정보등 습득)-빈도</th>\n",
       "      <th>산림에 대한 소양증진(지식,정보등 습득)-비율</th>\n",
       "      <th>즐겁고 재미난 체험-빈도</th>\n",
       "      <th>즐겁고 재미난 체험-비율</th>\n",
       "      <th>자연(산림) 감수성함양-빈도</th>\n",
       "      <th>자연(산림) 감수성함양-비율</th>\n",
       "      <th>가족과의 시간-빈도</th>\n",
       "      <th>가족과의 시간-비율</th>\n",
       "      <th>대인관계형성-빈도</th>\n",
       "      <th>대인관계형성-비율</th>\n",
       "      <th>창작활동에 대한 기대-빈도</th>\n",
       "      <th>창작활동에 대한 기대-비율</th>\n",
       "      <th>지역의 독특한 자연 또는 문화체험-빈도</th>\n",
       "      <th>지역의 독특한 자연 또는 문화체험-비율</th>\n",
       "      <th>기타-빈도</th>\n",
       "      <th>기타-비율</th>\n",
       "      <th>사례수</th>\n",
       "    </tr>\n",
       "  </thead>\n",
       "  <tbody>\n",
       "    <tr>\n",
       "      <th rowspan=\"2\" valign=\"top\">성별</th>\n",
       "      <th>남성</th>\n",
       "      <td>30</td>\n",
       "      <td>30.0</td>\n",
       "      <td>4</td>\n",
       "      <td>4.0</td>\n",
       "      <td>12</td>\n",
       "      <td>12.0</td>\n",
       "      <td>14</td>\n",
       "      <td>14.0</td>\n",
       "      <td>13</td>\n",
       "      <td>13.0</td>\n",
       "      <td>11</td>\n",
       "      <td>11.0</td>\n",
       "      <td>0</td>\n",
       "      <td>0.0</td>\n",
       "      <td>4</td>\n",
       "      <td>4.0</td>\n",
       "      <td>12</td>\n",
       "      <td>12.0</td>\n",
       "      <td>0</td>\n",
       "      <td>0.0</td>\n",
       "      <td>100</td>\n",
       "    </tr>\n",
       "    <tr>\n",
       "      <th>여성</th>\n",
       "      <td>28</td>\n",
       "      <td>25.5</td>\n",
       "      <td>6</td>\n",
       "      <td>5.5</td>\n",
       "      <td>16</td>\n",
       "      <td>14.5</td>\n",
       "      <td>14</td>\n",
       "      <td>12.7</td>\n",
       "      <td>15</td>\n",
       "      <td>13.6</td>\n",
       "      <td>10</td>\n",
       "      <td>9.1</td>\n",
       "      <td>5</td>\n",
       "      <td>4.5</td>\n",
       "      <td>4</td>\n",
       "      <td>3.6</td>\n",
       "      <td>12</td>\n",
       "      <td>10.9</td>\n",
       "      <td>0</td>\n",
       "      <td>0.0</td>\n",
       "      <td>110</td>\n",
       "    </tr>\n",
       "    <tr>\n",
       "      <th rowspan=\"6\" valign=\"top\">연령</th>\n",
       "      <th>10대(15세이상)</th>\n",
       "      <td>4</td>\n",
       "      <td>28.6</td>\n",
       "      <td>0</td>\n",
       "      <td>0.0</td>\n",
       "      <td>0</td>\n",
       "      <td>0.0</td>\n",
       "      <td>2</td>\n",
       "      <td>14.3</td>\n",
       "      <td>1</td>\n",
       "      <td>7.1</td>\n",
       "      <td>0</td>\n",
       "      <td>0.0</td>\n",
       "      <td>1</td>\n",
       "      <td>7.1</td>\n",
       "      <td>3</td>\n",
       "      <td>21.4</td>\n",
       "      <td>3</td>\n",
       "      <td>21.4</td>\n",
       "      <td>0</td>\n",
       "      <td>0.0</td>\n",
       "      <td>14</td>\n",
       "    </tr>\n",
       "    <tr>\n",
       "      <th>20대</th>\n",
       "      <td>9</td>\n",
       "      <td>16.1</td>\n",
       "      <td>4</td>\n",
       "      <td>7.1</td>\n",
       "      <td>12</td>\n",
       "      <td>21.4</td>\n",
       "      <td>9</td>\n",
       "      <td>16.1</td>\n",
       "      <td>9</td>\n",
       "      <td>16.1</td>\n",
       "      <td>4</td>\n",
       "      <td>7.1</td>\n",
       "      <td>0</td>\n",
       "      <td>0.0</td>\n",
       "      <td>1</td>\n",
       "      <td>1.8</td>\n",
       "      <td>8</td>\n",
       "      <td>14.3</td>\n",
       "      <td>0</td>\n",
       "      <td>0.0</td>\n",
       "      <td>56</td>\n",
       "    </tr>\n",
       "    <tr>\n",
       "      <th>30대</th>\n",
       "      <td>11</td>\n",
       "      <td>39.3</td>\n",
       "      <td>0</td>\n",
       "      <td>0.0</td>\n",
       "      <td>4</td>\n",
       "      <td>14.3</td>\n",
       "      <td>3</td>\n",
       "      <td>10.7</td>\n",
       "      <td>4</td>\n",
       "      <td>14.3</td>\n",
       "      <td>3</td>\n",
       "      <td>10.7</td>\n",
       "      <td>0</td>\n",
       "      <td>0.0</td>\n",
       "      <td>0</td>\n",
       "      <td>0.0</td>\n",
       "      <td>3</td>\n",
       "      <td>10.7</td>\n",
       "      <td>0</td>\n",
       "      <td>0.0</td>\n",
       "      <td>28</td>\n",
       "    </tr>\n",
       "    <tr>\n",
       "      <th>40대</th>\n",
       "      <td>9</td>\n",
       "      <td>32.1</td>\n",
       "      <td>0</td>\n",
       "      <td>0.0</td>\n",
       "      <td>2</td>\n",
       "      <td>7.1</td>\n",
       "      <td>3</td>\n",
       "      <td>10.7</td>\n",
       "      <td>4</td>\n",
       "      <td>14.3</td>\n",
       "      <td>6</td>\n",
       "      <td>21.4</td>\n",
       "      <td>1</td>\n",
       "      <td>3.6</td>\n",
       "      <td>1</td>\n",
       "      <td>3.6</td>\n",
       "      <td>2</td>\n",
       "      <td>7.1</td>\n",
       "      <td>0</td>\n",
       "      <td>0.0</td>\n",
       "      <td>28</td>\n",
       "    </tr>\n",
       "    <tr>\n",
       "      <th>50대</th>\n",
       "      <td>12</td>\n",
       "      <td>31.6</td>\n",
       "      <td>2</td>\n",
       "      <td>5.3</td>\n",
       "      <td>3</td>\n",
       "      <td>7.9</td>\n",
       "      <td>6</td>\n",
       "      <td>15.8</td>\n",
       "      <td>6</td>\n",
       "      <td>15.8</td>\n",
       "      <td>2</td>\n",
       "      <td>5.3</td>\n",
       "      <td>2</td>\n",
       "      <td>5.3</td>\n",
       "      <td>2</td>\n",
       "      <td>5.3</td>\n",
       "      <td>3</td>\n",
       "      <td>7.9</td>\n",
       "      <td>0</td>\n",
       "      <td>0.0</td>\n",
       "      <td>38</td>\n",
       "    </tr>\n",
       "    <tr>\n",
       "      <th>60대이상</th>\n",
       "      <td>13</td>\n",
       "      <td>28.3</td>\n",
       "      <td>4</td>\n",
       "      <td>8.7</td>\n",
       "      <td>7</td>\n",
       "      <td>15.2</td>\n",
       "      <td>5</td>\n",
       "      <td>10.9</td>\n",
       "      <td>4</td>\n",
       "      <td>8.7</td>\n",
       "      <td>6</td>\n",
       "      <td>13.0</td>\n",
       "      <td>1</td>\n",
       "      <td>2.2</td>\n",
       "      <td>1</td>\n",
       "      <td>2.2</td>\n",
       "      <td>5</td>\n",
       "      <td>10.9</td>\n",
       "      <td>0</td>\n",
       "      <td>0.0</td>\n",
       "      <td>46</td>\n",
       "    </tr>\n",
       "    <tr>\n",
       "      <th rowspan=\"9\" valign=\"top\">학력</th>\n",
       "      <th>초등학교 졸업(무학 포함)</th>\n",
       "      <td>2</td>\n",
       "      <td>25.0</td>\n",
       "      <td>1</td>\n",
       "      <td>12.5</td>\n",
       "      <td>2</td>\n",
       "      <td>25.0</td>\n",
       "      <td>0</td>\n",
       "      <td>0.0</td>\n",
       "      <td>1</td>\n",
       "      <td>12.5</td>\n",
       "      <td>1</td>\n",
       "      <td>12.5</td>\n",
       "      <td>0</td>\n",
       "      <td>0.0</td>\n",
       "      <td>0</td>\n",
       "      <td>0.0</td>\n",
       "      <td>1</td>\n",
       "      <td>12.5</td>\n",
       "      <td>0</td>\n",
       "      <td>0.0</td>\n",
       "      <td>8</td>\n",
       "    </tr>\n",
       "    <tr>\n",
       "      <th>중학교 재학</th>\n",
       "      <td>5</td>\n",
       "      <td>25.0</td>\n",
       "      <td>1</td>\n",
       "      <td>5.0</td>\n",
       "      <td>1</td>\n",
       "      <td>5.0</td>\n",
       "      <td>3</td>\n",
       "      <td>15.0</td>\n",
       "      <td>1</td>\n",
       "      <td>5.0</td>\n",
       "      <td>1</td>\n",
       "      <td>5.0</td>\n",
       "      <td>1</td>\n",
       "      <td>5.0</td>\n",
       "      <td>3</td>\n",
       "      <td>15.0</td>\n",
       "      <td>4</td>\n",
       "      <td>20.0</td>\n",
       "      <td>0</td>\n",
       "      <td>0.0</td>\n",
       "      <td>20</td>\n",
       "    </tr>\n",
       "    <tr>\n",
       "      <th>중학교 졸업</th>\n",
       "      <td>3</td>\n",
       "      <td>37.5</td>\n",
       "      <td>1</td>\n",
       "      <td>12.5</td>\n",
       "      <td>1</td>\n",
       "      <td>12.5</td>\n",
       "      <td>1</td>\n",
       "      <td>12.5</td>\n",
       "      <td>0</td>\n",
       "      <td>0.0</td>\n",
       "      <td>1</td>\n",
       "      <td>12.5</td>\n",
       "      <td>1</td>\n",
       "      <td>12.5</td>\n",
       "      <td>0</td>\n",
       "      <td>0.0</td>\n",
       "      <td>0</td>\n",
       "      <td>0.0</td>\n",
       "      <td>0</td>\n",
       "      <td>0.0</td>\n",
       "      <td>8</td>\n",
       "    </tr>\n",
       "    <tr>\n",
       "      <th>고등학교 재학</th>\n",
       "      <td>1</td>\n",
       "      <td>25.0</td>\n",
       "      <td>1</td>\n",
       "      <td>25.0</td>\n",
       "      <td>0</td>\n",
       "      <td>0.0</td>\n",
       "      <td>0</td>\n",
       "      <td>0.0</td>\n",
       "      <td>2</td>\n",
       "      <td>50.0</td>\n",
       "      <td>0</td>\n",
       "      <td>0.0</td>\n",
       "      <td>0</td>\n",
       "      <td>0.0</td>\n",
       "      <td>0</td>\n",
       "      <td>0.0</td>\n",
       "      <td>0</td>\n",
       "      <td>0.0</td>\n",
       "      <td>0</td>\n",
       "      <td>0.0</td>\n",
       "      <td>4</td>\n",
       "    </tr>\n",
       "    <tr>\n",
       "      <th>고등학교 졸업</th>\n",
       "      <td>7</td>\n",
       "      <td>31.8</td>\n",
       "      <td>1</td>\n",
       "      <td>4.5</td>\n",
       "      <td>2</td>\n",
       "      <td>9.1</td>\n",
       "      <td>5</td>\n",
       "      <td>22.7</td>\n",
       "      <td>3</td>\n",
       "      <td>13.6</td>\n",
       "      <td>1</td>\n",
       "      <td>4.5</td>\n",
       "      <td>1</td>\n",
       "      <td>4.5</td>\n",
       "      <td>1</td>\n",
       "      <td>4.5</td>\n",
       "      <td>1</td>\n",
       "      <td>4.5</td>\n",
       "      <td>0</td>\n",
       "      <td>0.0</td>\n",
       "      <td>22</td>\n",
       "    </tr>\n",
       "    <tr>\n",
       "      <th>대학교 재학</th>\n",
       "      <td>8</td>\n",
       "      <td>16.0</td>\n",
       "      <td>4</td>\n",
       "      <td>8.0</td>\n",
       "      <td>11</td>\n",
       "      <td>22.0</td>\n",
       "      <td>8</td>\n",
       "      <td>16.0</td>\n",
       "      <td>8</td>\n",
       "      <td>16.0</td>\n",
       "      <td>3</td>\n",
       "      <td>6.0</td>\n",
       "      <td>0</td>\n",
       "      <td>0.0</td>\n",
       "      <td>1</td>\n",
       "      <td>2.0</td>\n",
       "      <td>7</td>\n",
       "      <td>14.0</td>\n",
       "      <td>0</td>\n",
       "      <td>0.0</td>\n",
       "      <td>50</td>\n",
       "    </tr>\n",
       "    <tr>\n",
       "      <th>대학교 졸업</th>\n",
       "      <td>26</td>\n",
       "      <td>31.0</td>\n",
       "      <td>0</td>\n",
       "      <td>0.0</td>\n",
       "      <td>9</td>\n",
       "      <td>10.7</td>\n",
       "      <td>10</td>\n",
       "      <td>11.9</td>\n",
       "      <td>11</td>\n",
       "      <td>13.1</td>\n",
       "      <td>12</td>\n",
       "      <td>14.3</td>\n",
       "      <td>2</td>\n",
       "      <td>2.4</td>\n",
       "      <td>3</td>\n",
       "      <td>3.6</td>\n",
       "      <td>11</td>\n",
       "      <td>13.1</td>\n",
       "      <td>0</td>\n",
       "      <td>0.0</td>\n",
       "      <td>84</td>\n",
       "    </tr>\n",
       "    <tr>\n",
       "      <th>대학원 재학(석사 또는 박사)</th>\n",
       "      <td>2</td>\n",
       "      <td>50.0</td>\n",
       "      <td>0</td>\n",
       "      <td>0.0</td>\n",
       "      <td>1</td>\n",
       "      <td>25.0</td>\n",
       "      <td>0</td>\n",
       "      <td>0.0</td>\n",
       "      <td>0</td>\n",
       "      <td>0.0</td>\n",
       "      <td>1</td>\n",
       "      <td>25.0</td>\n",
       "      <td>0</td>\n",
       "      <td>0.0</td>\n",
       "      <td>0</td>\n",
       "      <td>0.0</td>\n",
       "      <td>0</td>\n",
       "      <td>0.0</td>\n",
       "      <td>0</td>\n",
       "      <td>0.0</td>\n",
       "      <td>4</td>\n",
       "    </tr>\n",
       "    <tr>\n",
       "      <th>대학원 졸업(석사또는 박사)</th>\n",
       "      <td>4</td>\n",
       "      <td>40.0</td>\n",
       "      <td>1</td>\n",
       "      <td>10.0</td>\n",
       "      <td>1</td>\n",
       "      <td>10.0</td>\n",
       "      <td>1</td>\n",
       "      <td>10.0</td>\n",
       "      <td>2</td>\n",
       "      <td>20.0</td>\n",
       "      <td>1</td>\n",
       "      <td>10.0</td>\n",
       "      <td>0</td>\n",
       "      <td>0.0</td>\n",
       "      <td>0</td>\n",
       "      <td>0.0</td>\n",
       "      <td>0</td>\n",
       "      <td>0.0</td>\n",
       "      <td>0</td>\n",
       "      <td>0.0</td>\n",
       "      <td>10</td>\n",
       "    </tr>\n",
       "    <tr>\n",
       "      <th rowspan=\"17\" valign=\"top\">거주지역</th>\n",
       "      <th>서울</th>\n",
       "      <td>7</td>\n",
       "      <td>35.0</td>\n",
       "      <td>0</td>\n",
       "      <td>0.0</td>\n",
       "      <td>2</td>\n",
       "      <td>10.0</td>\n",
       "      <td>3</td>\n",
       "      <td>15.0</td>\n",
       "      <td>2</td>\n",
       "      <td>10.0</td>\n",
       "      <td>2</td>\n",
       "      <td>10.0</td>\n",
       "      <td>0</td>\n",
       "      <td>0.0</td>\n",
       "      <td>0</td>\n",
       "      <td>0.0</td>\n",
       "      <td>4</td>\n",
       "      <td>20.0</td>\n",
       "      <td>0</td>\n",
       "      <td>0.0</td>\n",
       "      <td>20</td>\n",
       "    </tr>\n",
       "    <tr>\n",
       "      <th>부산</th>\n",
       "      <td>0</td>\n",
       "      <td>0.0</td>\n",
       "      <td>0</td>\n",
       "      <td>0.0</td>\n",
       "      <td>0</td>\n",
       "      <td>0.0</td>\n",
       "      <td>0</td>\n",
       "      <td>0.0</td>\n",
       "      <td>0</td>\n",
       "      <td>0.0</td>\n",
       "      <td>0</td>\n",
       "      <td>0.0</td>\n",
       "      <td>0</td>\n",
       "      <td>0.0</td>\n",
       "      <td>0</td>\n",
       "      <td>0.0</td>\n",
       "      <td>0</td>\n",
       "      <td>0.0</td>\n",
       "      <td>0</td>\n",
       "      <td>0.0</td>\n",
       "      <td>0</td>\n",
       "    </tr>\n",
       "    <tr>\n",
       "      <th>대구</th>\n",
       "      <td>0</td>\n",
       "      <td>0.0</td>\n",
       "      <td>0</td>\n",
       "      <td>0.0</td>\n",
       "      <td>0</td>\n",
       "      <td>0.0</td>\n",
       "      <td>0</td>\n",
       "      <td>0.0</td>\n",
       "      <td>0</td>\n",
       "      <td>0.0</td>\n",
       "      <td>0</td>\n",
       "      <td>0.0</td>\n",
       "      <td>0</td>\n",
       "      <td>0.0</td>\n",
       "      <td>0</td>\n",
       "      <td>0.0</td>\n",
       "      <td>0</td>\n",
       "      <td>0.0</td>\n",
       "      <td>0</td>\n",
       "      <td>0.0</td>\n",
       "      <td>0</td>\n",
       "    </tr>\n",
       "    <tr>\n",
       "      <th>인천</th>\n",
       "      <td>1</td>\n",
       "      <td>25.0</td>\n",
       "      <td>0</td>\n",
       "      <td>0.0</td>\n",
       "      <td>1</td>\n",
       "      <td>25.0</td>\n",
       "      <td>0</td>\n",
       "      <td>0.0</td>\n",
       "      <td>2</td>\n",
       "      <td>50.0</td>\n",
       "      <td>0</td>\n",
       "      <td>0.0</td>\n",
       "      <td>0</td>\n",
       "      <td>0.0</td>\n",
       "      <td>0</td>\n",
       "      <td>0.0</td>\n",
       "      <td>0</td>\n",
       "      <td>0.0</td>\n",
       "      <td>0</td>\n",
       "      <td>0.0</td>\n",
       "      <td>4</td>\n",
       "    </tr>\n",
       "    <tr>\n",
       "      <th>광주</th>\n",
       "      <td>0</td>\n",
       "      <td>0.0</td>\n",
       "      <td>0</td>\n",
       "      <td>0.0</td>\n",
       "      <td>1</td>\n",
       "      <td>50.0</td>\n",
       "      <td>0</td>\n",
       "      <td>0.0</td>\n",
       "      <td>1</td>\n",
       "      <td>50.0</td>\n",
       "      <td>0</td>\n",
       "      <td>0.0</td>\n",
       "      <td>0</td>\n",
       "      <td>0.0</td>\n",
       "      <td>0</td>\n",
       "      <td>0.0</td>\n",
       "      <td>0</td>\n",
       "      <td>0.0</td>\n",
       "      <td>0</td>\n",
       "      <td>0.0</td>\n",
       "      <td>2</td>\n",
       "    </tr>\n",
       "    <tr>\n",
       "      <th>대전</th>\n",
       "      <td>0</td>\n",
       "      <td>0.0</td>\n",
       "      <td>0</td>\n",
       "      <td>0.0</td>\n",
       "      <td>0</td>\n",
       "      <td>0.0</td>\n",
       "      <td>0</td>\n",
       "      <td>0.0</td>\n",
       "      <td>0</td>\n",
       "      <td>0.0</td>\n",
       "      <td>0</td>\n",
       "      <td>0.0</td>\n",
       "      <td>0</td>\n",
       "      <td>0.0</td>\n",
       "      <td>0</td>\n",
       "      <td>0.0</td>\n",
       "      <td>0</td>\n",
       "      <td>0.0</td>\n",
       "      <td>0</td>\n",
       "      <td>0.0</td>\n",
       "      <td>0</td>\n",
       "    </tr>\n",
       "    <tr>\n",
       "      <th>울산</th>\n",
       "      <td>0</td>\n",
       "      <td>0.0</td>\n",
       "      <td>0</td>\n",
       "      <td>0.0</td>\n",
       "      <td>0</td>\n",
       "      <td>0.0</td>\n",
       "      <td>0</td>\n",
       "      <td>0.0</td>\n",
       "      <td>0</td>\n",
       "      <td>0.0</td>\n",
       "      <td>0</td>\n",
       "      <td>0.0</td>\n",
       "      <td>0</td>\n",
       "      <td>0.0</td>\n",
       "      <td>0</td>\n",
       "      <td>0.0</td>\n",
       "      <td>0</td>\n",
       "      <td>0.0</td>\n",
       "      <td>0</td>\n",
       "      <td>0.0</td>\n",
       "      <td>0</td>\n",
       "    </tr>\n",
       "    <tr>\n",
       "      <th>세종</th>\n",
       "      <td>0</td>\n",
       "      <td>0.0</td>\n",
       "      <td>0</td>\n",
       "      <td>0.0</td>\n",
       "      <td>0</td>\n",
       "      <td>0.0</td>\n",
       "      <td>0</td>\n",
       "      <td>0.0</td>\n",
       "      <td>0</td>\n",
       "      <td>0.0</td>\n",
       "      <td>0</td>\n",
       "      <td>0.0</td>\n",
       "      <td>0</td>\n",
       "      <td>0.0</td>\n",
       "      <td>0</td>\n",
       "      <td>0.0</td>\n",
       "      <td>0</td>\n",
       "      <td>0.0</td>\n",
       "      <td>0</td>\n",
       "      <td>0.0</td>\n",
       "      <td>0</td>\n",
       "    </tr>\n",
       "    <tr>\n",
       "      <th>경기</th>\n",
       "      <td>13</td>\n",
       "      <td>28.3</td>\n",
       "      <td>4</td>\n",
       "      <td>8.7</td>\n",
       "      <td>4</td>\n",
       "      <td>8.7</td>\n",
       "      <td>10</td>\n",
       "      <td>21.7</td>\n",
       "      <td>5</td>\n",
       "      <td>10.9</td>\n",
       "      <td>3</td>\n",
       "      <td>6.5</td>\n",
       "      <td>1</td>\n",
       "      <td>2.2</td>\n",
       "      <td>0</td>\n",
       "      <td>0.0</td>\n",
       "      <td>6</td>\n",
       "      <td>13.0</td>\n",
       "      <td>0</td>\n",
       "      <td>0.0</td>\n",
       "      <td>46</td>\n",
       "    </tr>\n",
       "    <tr>\n",
       "      <th>강원</th>\n",
       "      <td>36</td>\n",
       "      <td>26.9</td>\n",
       "      <td>5</td>\n",
       "      <td>3.7</td>\n",
       "      <td>20</td>\n",
       "      <td>14.9</td>\n",
       "      <td>15</td>\n",
       "      <td>11.2</td>\n",
       "      <td>16</td>\n",
       "      <td>11.9</td>\n",
       "      <td>16</td>\n",
       "      <td>11.9</td>\n",
       "      <td>4</td>\n",
       "      <td>3.0</td>\n",
       "      <td>8</td>\n",
       "      <td>6.0</td>\n",
       "      <td>14</td>\n",
       "      <td>10.4</td>\n",
       "      <td>0</td>\n",
       "      <td>0.0</td>\n",
       "      <td>134</td>\n",
       "    </tr>\n",
       "    <tr>\n",
       "      <th>충북</th>\n",
       "      <td>0</td>\n",
       "      <td>0.0</td>\n",
       "      <td>0</td>\n",
       "      <td>0.0</td>\n",
       "      <td>0</td>\n",
       "      <td>0.0</td>\n",
       "      <td>0</td>\n",
       "      <td>0.0</td>\n",
       "      <td>0</td>\n",
       "      <td>0.0</td>\n",
       "      <td>0</td>\n",
       "      <td>0.0</td>\n",
       "      <td>0</td>\n",
       "      <td>0.0</td>\n",
       "      <td>0</td>\n",
       "      <td>0.0</td>\n",
       "      <td>0</td>\n",
       "      <td>0.0</td>\n",
       "      <td>0</td>\n",
       "      <td>0.0</td>\n",
       "      <td>0</td>\n",
       "    </tr>\n",
       "    <tr>\n",
       "      <th>충남</th>\n",
       "      <td>0</td>\n",
       "      <td>0.0</td>\n",
       "      <td>0</td>\n",
       "      <td>0.0</td>\n",
       "      <td>0</td>\n",
       "      <td>0.0</td>\n",
       "      <td>0</td>\n",
       "      <td>0.0</td>\n",
       "      <td>0</td>\n",
       "      <td>0.0</td>\n",
       "      <td>0</td>\n",
       "      <td>0.0</td>\n",
       "      <td>0</td>\n",
       "      <td>0.0</td>\n",
       "      <td>0</td>\n",
       "      <td>0.0</td>\n",
       "      <td>0</td>\n",
       "      <td>0.0</td>\n",
       "      <td>0</td>\n",
       "      <td>0.0</td>\n",
       "      <td>0</td>\n",
       "    </tr>\n",
       "    <tr>\n",
       "      <th>전북</th>\n",
       "      <td>0</td>\n",
       "      <td>0.0</td>\n",
       "      <td>0</td>\n",
       "      <td>0.0</td>\n",
       "      <td>0</td>\n",
       "      <td>0.0</td>\n",
       "      <td>0</td>\n",
       "      <td>0.0</td>\n",
       "      <td>0</td>\n",
       "      <td>0.0</td>\n",
       "      <td>0</td>\n",
       "      <td>0.0</td>\n",
       "      <td>0</td>\n",
       "      <td>0.0</td>\n",
       "      <td>0</td>\n",
       "      <td>0.0</td>\n",
       "      <td>0</td>\n",
       "      <td>0.0</td>\n",
       "      <td>0</td>\n",
       "      <td>0.0</td>\n",
       "      <td>0</td>\n",
       "    </tr>\n",
       "    <tr>\n",
       "      <th>전남</th>\n",
       "      <td>0</td>\n",
       "      <td>0.0</td>\n",
       "      <td>1</td>\n",
       "      <td>50.0</td>\n",
       "      <td>0</td>\n",
       "      <td>0.0</td>\n",
       "      <td>0</td>\n",
       "      <td>0.0</td>\n",
       "      <td>1</td>\n",
       "      <td>50.0</td>\n",
       "      <td>0</td>\n",
       "      <td>0.0</td>\n",
       "      <td>0</td>\n",
       "      <td>0.0</td>\n",
       "      <td>0</td>\n",
       "      <td>0.0</td>\n",
       "      <td>0</td>\n",
       "      <td>0.0</td>\n",
       "      <td>0</td>\n",
       "      <td>0.0</td>\n",
       "      <td>2</td>\n",
       "    </tr>\n",
       "    <tr>\n",
       "      <th>경북</th>\n",
       "      <td>1</td>\n",
       "      <td>50.0</td>\n",
       "      <td>0</td>\n",
       "      <td>0.0</td>\n",
       "      <td>0</td>\n",
       "      <td>0.0</td>\n",
       "      <td>0</td>\n",
       "      <td>0.0</td>\n",
       "      <td>1</td>\n",
       "      <td>50.0</td>\n",
       "      <td>0</td>\n",
       "      <td>0.0</td>\n",
       "      <td>0</td>\n",
       "      <td>0.0</td>\n",
       "      <td>0</td>\n",
       "      <td>0.0</td>\n",
       "      <td>0</td>\n",
       "      <td>0.0</td>\n",
       "      <td>0</td>\n",
       "      <td>0.0</td>\n",
       "      <td>2</td>\n",
       "    </tr>\n",
       "    <tr>\n",
       "      <th>경남</th>\n",
       "      <td>0</td>\n",
       "      <td>0.0</td>\n",
       "      <td>0</td>\n",
       "      <td>0.0</td>\n",
       "      <td>0</td>\n",
       "      <td>0.0</td>\n",
       "      <td>0</td>\n",
       "      <td>0.0</td>\n",
       "      <td>0</td>\n",
       "      <td>0.0</td>\n",
       "      <td>0</td>\n",
       "      <td>0.0</td>\n",
       "      <td>0</td>\n",
       "      <td>0.0</td>\n",
       "      <td>0</td>\n",
       "      <td>0.0</td>\n",
       "      <td>0</td>\n",
       "      <td>0.0</td>\n",
       "      <td>0</td>\n",
       "      <td>0.0</td>\n",
       "      <td>0</td>\n",
       "    </tr>\n",
       "    <tr>\n",
       "      <th>제주</th>\n",
       "      <td>0</td>\n",
       "      <td>0.0</td>\n",
       "      <td>0</td>\n",
       "      <td>0.0</td>\n",
       "      <td>0</td>\n",
       "      <td>0.0</td>\n",
       "      <td>0</td>\n",
       "      <td>0.0</td>\n",
       "      <td>0</td>\n",
       "      <td>0.0</td>\n",
       "      <td>0</td>\n",
       "      <td>0.0</td>\n",
       "      <td>0</td>\n",
       "      <td>0.0</td>\n",
       "      <td>0</td>\n",
       "      <td>0.0</td>\n",
       "      <td>0</td>\n",
       "      <td>0.0</td>\n",
       "      <td>0</td>\n",
       "      <td>0.0</td>\n",
       "      <td>0</td>\n",
       "    </tr>\n",
       "    <tr>\n",
       "      <th rowspan=\"13\" valign=\"top\">직업</th>\n",
       "      <th>산림임업종사자</th>\n",
       "      <td>6</td>\n",
       "      <td>27.3</td>\n",
       "      <td>2</td>\n",
       "      <td>9.1</td>\n",
       "      <td>4</td>\n",
       "      <td>18.2</td>\n",
       "      <td>1</td>\n",
       "      <td>4.5</td>\n",
       "      <td>3</td>\n",
       "      <td>13.6</td>\n",
       "      <td>1</td>\n",
       "      <td>4.5</td>\n",
       "      <td>0</td>\n",
       "      <td>0.0</td>\n",
       "      <td>1</td>\n",
       "      <td>4.5</td>\n",
       "      <td>4</td>\n",
       "      <td>18.2</td>\n",
       "      <td>0</td>\n",
       "      <td>0.0</td>\n",
       "      <td>22</td>\n",
       "    </tr>\n",
       "    <tr>\n",
       "      <th>사무종사자</th>\n",
       "      <td>4</td>\n",
       "      <td>50.0</td>\n",
       "      <td>0</td>\n",
       "      <td>0.0</td>\n",
       "      <td>2</td>\n",
       "      <td>25.0</td>\n",
       "      <td>0</td>\n",
       "      <td>0.0</td>\n",
       "      <td>1</td>\n",
       "      <td>12.5</td>\n",
       "      <td>1</td>\n",
       "      <td>12.5</td>\n",
       "      <td>0</td>\n",
       "      <td>0.0</td>\n",
       "      <td>0</td>\n",
       "      <td>0.0</td>\n",
       "      <td>0</td>\n",
       "      <td>0.0</td>\n",
       "      <td>0</td>\n",
       "      <td>0.0</td>\n",
       "      <td>8</td>\n",
       "    </tr>\n",
       "    <tr>\n",
       "      <th>서비스종사자</th>\n",
       "      <td>4</td>\n",
       "      <td>25.0</td>\n",
       "      <td>1</td>\n",
       "      <td>6.2</td>\n",
       "      <td>4</td>\n",
       "      <td>25.0</td>\n",
       "      <td>2</td>\n",
       "      <td>12.5</td>\n",
       "      <td>3</td>\n",
       "      <td>18.8</td>\n",
       "      <td>2</td>\n",
       "      <td>12.5</td>\n",
       "      <td>0</td>\n",
       "      <td>0.0</td>\n",
       "      <td>0</td>\n",
       "      <td>0.0</td>\n",
       "      <td>0</td>\n",
       "      <td>0.0</td>\n",
       "      <td>0</td>\n",
       "      <td>0.0</td>\n",
       "      <td>16</td>\n",
       "    </tr>\n",
       "    <tr>\n",
       "      <th>판매종사자</th>\n",
       "      <td>2</td>\n",
       "      <td>25.0</td>\n",
       "      <td>1</td>\n",
       "      <td>12.5</td>\n",
       "      <td>1</td>\n",
       "      <td>12.5</td>\n",
       "      <td>1</td>\n",
       "      <td>12.5</td>\n",
       "      <td>2</td>\n",
       "      <td>25.0</td>\n",
       "      <td>0</td>\n",
       "      <td>0.0</td>\n",
       "      <td>1</td>\n",
       "      <td>12.5</td>\n",
       "      <td>0</td>\n",
       "      <td>0.0</td>\n",
       "      <td>0</td>\n",
       "      <td>0.0</td>\n",
       "      <td>0</td>\n",
       "      <td>0.0</td>\n",
       "      <td>8</td>\n",
       "    </tr>\n",
       "    <tr>\n",
       "      <th>기술기능종사자</th>\n",
       "      <td>2</td>\n",
       "      <td>33.3</td>\n",
       "      <td>0</td>\n",
       "      <td>0.0</td>\n",
       "      <td>1</td>\n",
       "      <td>16.7</td>\n",
       "      <td>0</td>\n",
       "      <td>0.0</td>\n",
       "      <td>2</td>\n",
       "      <td>33.3</td>\n",
       "      <td>0</td>\n",
       "      <td>0.0</td>\n",
       "      <td>0</td>\n",
       "      <td>0.0</td>\n",
       "      <td>1</td>\n",
       "      <td>16.7</td>\n",
       "      <td>0</td>\n",
       "      <td>0.0</td>\n",
       "      <td>0</td>\n",
       "      <td>0.0</td>\n",
       "      <td>6</td>\n",
       "    </tr>\n",
       "    <tr>\n",
       "      <th>단순노무종사자</th>\n",
       "      <td>0</td>\n",
       "      <td>0.0</td>\n",
       "      <td>0</td>\n",
       "      <td>0.0</td>\n",
       "      <td>0</td>\n",
       "      <td>0.0</td>\n",
       "      <td>0</td>\n",
       "      <td>0.0</td>\n",
       "      <td>0</td>\n",
       "      <td>0.0</td>\n",
       "      <td>0</td>\n",
       "      <td>0.0</td>\n",
       "      <td>0</td>\n",
       "      <td>0.0</td>\n",
       "      <td>0</td>\n",
       "      <td>0.0</td>\n",
       "      <td>0</td>\n",
       "      <td>0.0</td>\n",
       "      <td>0</td>\n",
       "      <td>0.0</td>\n",
       "      <td>0</td>\n",
       "    </tr>\n",
       "    <tr>\n",
       "      <th>전문가(교수 포함)</th>\n",
       "      <td>3</td>\n",
       "      <td>50.0</td>\n",
       "      <td>0</td>\n",
       "      <td>0.0</td>\n",
       "      <td>0</td>\n",
       "      <td>0.0</td>\n",
       "      <td>1</td>\n",
       "      <td>16.7</td>\n",
       "      <td>0</td>\n",
       "      <td>0.0</td>\n",
       "      <td>1</td>\n",
       "      <td>16.7</td>\n",
       "      <td>0</td>\n",
       "      <td>0.0</td>\n",
       "      <td>1</td>\n",
       "      <td>16.7</td>\n",
       "      <td>0</td>\n",
       "      <td>0.0</td>\n",
       "      <td>0</td>\n",
       "      <td>0.0</td>\n",
       "      <td>6</td>\n",
       "    </tr>\n",
       "    <tr>\n",
       "      <th>경영직종사자</th>\n",
       "      <td>0</td>\n",
       "      <td>0.0</td>\n",
       "      <td>0</td>\n",
       "      <td>0.0</td>\n",
       "      <td>0</td>\n",
       "      <td>0.0</td>\n",
       "      <td>0</td>\n",
       "      <td>0.0</td>\n",
       "      <td>0</td>\n",
       "      <td>0.0</td>\n",
       "      <td>0</td>\n",
       "      <td>0.0</td>\n",
       "      <td>0</td>\n",
       "      <td>0.0</td>\n",
       "      <td>0</td>\n",
       "      <td>0.0</td>\n",
       "      <td>0</td>\n",
       "      <td>0.0</td>\n",
       "      <td>0</td>\n",
       "      <td>0.0</td>\n",
       "      <td>0</td>\n",
       "    </tr>\n",
       "    <tr>\n",
       "      <th>자영업자(개인사업자)</th>\n",
       "      <td>3</td>\n",
       "      <td>18.8</td>\n",
       "      <td>1</td>\n",
       "      <td>6.2</td>\n",
       "      <td>1</td>\n",
       "      <td>6.2</td>\n",
       "      <td>3</td>\n",
       "      <td>18.8</td>\n",
       "      <td>2</td>\n",
       "      <td>12.5</td>\n",
       "      <td>3</td>\n",
       "      <td>18.8</td>\n",
       "      <td>0</td>\n",
       "      <td>0.0</td>\n",
       "      <td>0</td>\n",
       "      <td>0.0</td>\n",
       "      <td>3</td>\n",
       "      <td>18.8</td>\n",
       "      <td>0</td>\n",
       "      <td>0.0</td>\n",
       "      <td>16</td>\n",
       "    </tr>\n",
       "    <tr>\n",
       "      <th>공무원(교사포함)</th>\n",
       "      <td>14</td>\n",
       "      <td>35.0</td>\n",
       "      <td>1</td>\n",
       "      <td>2.5</td>\n",
       "      <td>3</td>\n",
       "      <td>7.5</td>\n",
       "      <td>7</td>\n",
       "      <td>17.5</td>\n",
       "      <td>4</td>\n",
       "      <td>10.0</td>\n",
       "      <td>7</td>\n",
       "      <td>17.5</td>\n",
       "      <td>1</td>\n",
       "      <td>2.5</td>\n",
       "      <td>0</td>\n",
       "      <td>0.0</td>\n",
       "      <td>3</td>\n",
       "      <td>7.5</td>\n",
       "      <td>0</td>\n",
       "      <td>0.0</td>\n",
       "      <td>40</td>\n",
       "    </tr>\n",
       "    <tr>\n",
       "      <th>학생(대학원생포함)</th>\n",
       "      <td>12</td>\n",
       "      <td>18.2</td>\n",
       "      <td>4</td>\n",
       "      <td>6.1</td>\n",
       "      <td>11</td>\n",
       "      <td>16.7</td>\n",
       "      <td>11</td>\n",
       "      <td>16.7</td>\n",
       "      <td>9</td>\n",
       "      <td>13.6</td>\n",
       "      <td>3</td>\n",
       "      <td>4.5</td>\n",
       "      <td>1</td>\n",
       "      <td>1.5</td>\n",
       "      <td>4</td>\n",
       "      <td>6.1</td>\n",
       "      <td>11</td>\n",
       "      <td>16.7</td>\n",
       "      <td>0</td>\n",
       "      <td>0.0</td>\n",
       "      <td>66</td>\n",
       "    </tr>\n",
       "    <tr>\n",
       "      <th>전업주부</th>\n",
       "      <td>5</td>\n",
       "      <td>31.2</td>\n",
       "      <td>0</td>\n",
       "      <td>0.0</td>\n",
       "      <td>1</td>\n",
       "      <td>6.2</td>\n",
       "      <td>2</td>\n",
       "      <td>12.5</td>\n",
       "      <td>2</td>\n",
       "      <td>12.5</td>\n",
       "      <td>3</td>\n",
       "      <td>18.8</td>\n",
       "      <td>2</td>\n",
       "      <td>12.5</td>\n",
       "      <td>0</td>\n",
       "      <td>0.0</td>\n",
       "      <td>1</td>\n",
       "      <td>6.2</td>\n",
       "      <td>0</td>\n",
       "      <td>0.0</td>\n",
       "      <td>16</td>\n",
       "    </tr>\n",
       "    <tr>\n",
       "      <th>기타</th>\n",
       "      <td>3</td>\n",
       "      <td>50.0</td>\n",
       "      <td>0</td>\n",
       "      <td>0.0</td>\n",
       "      <td>0</td>\n",
       "      <td>0.0</td>\n",
       "      <td>0</td>\n",
       "      <td>0.0</td>\n",
       "      <td>0</td>\n",
       "      <td>0.0</td>\n",
       "      <td>0</td>\n",
       "      <td>0.0</td>\n",
       "      <td>0</td>\n",
       "      <td>0.0</td>\n",
       "      <td>1</td>\n",
       "      <td>16.7</td>\n",
       "      <td>2</td>\n",
       "      <td>33.3</td>\n",
       "      <td>0</td>\n",
       "      <td>0.0</td>\n",
       "      <td>6</td>\n",
       "    </tr>\n",
       "  </tbody>\n",
       "</table>\n",
       "</div>"
      ],
      "text/plain": [
       "                      휴식 및 건강증진-빈도  휴식 및 건강증진-비율 자기계발-빈도  자기계발-비율  \\\n",
       "성별   남성                         30          30.0       4      4.0   \n",
       "     여성                         28          25.5       6      5.5   \n",
       "연령   10대(15세이상)                  4          28.6       0      0.0   \n",
       "     20대                         9          16.1       4      7.1   \n",
       "     30대                        11          39.3       0      0.0   \n",
       "     40대                         9          32.1       0      0.0   \n",
       "     50대                        12          31.6       2      5.3   \n",
       "     60대이상                      13          28.3       4      8.7   \n",
       "학력   초등학교 졸업(무학 포함)              2          25.0       1     12.5   \n",
       "     중학교 재학                      5          25.0       1      5.0   \n",
       "     중학교 졸업                      3          37.5       1     12.5   \n",
       "     고등학교 재학                     1          25.0       1     25.0   \n",
       "     고등학교 졸업                     7          31.8       1      4.5   \n",
       "     대학교 재학                      8          16.0       4      8.0   \n",
       "     대학교 졸업                     26          31.0       0      0.0   \n",
       "     대학원 재학(석사 또는 박사)            2          50.0       0      0.0   \n",
       "     대학원 졸업(석사또는 박사)             4          40.0       1     10.0   \n",
       "거주지역 서울                          7          35.0       0      0.0   \n",
       "     부산                          0           0.0       0      0.0   \n",
       "     대구                          0           0.0       0      0.0   \n",
       "     인천                          1          25.0       0      0.0   \n",
       "     광주                          0           0.0       0      0.0   \n",
       "     대전                          0           0.0       0      0.0   \n",
       "     울산                          0           0.0       0      0.0   \n",
       "     세종                          0           0.0       0      0.0   \n",
       "     경기                         13          28.3       4      8.7   \n",
       "     강원                         36          26.9       5      3.7   \n",
       "     충북                          0           0.0       0      0.0   \n",
       "     충남                          0           0.0       0      0.0   \n",
       "     전북                          0           0.0       0      0.0   \n",
       "     전남                          0           0.0       1     50.0   \n",
       "     경북                          1          50.0       0      0.0   \n",
       "     경남                          0           0.0       0      0.0   \n",
       "     제주                          0           0.0       0      0.0   \n",
       "직업   산림임업종사자                     6          27.3       2      9.1   \n",
       "     사무종사자                       4          50.0       0      0.0   \n",
       "     서비스종사자                      4          25.0       1      6.2   \n",
       "     판매종사자                       2          25.0       1     12.5   \n",
       "     기술기능종사자                     2          33.3       0      0.0   \n",
       "     단순노무종사자                     0           0.0       0      0.0   \n",
       "     전문가(교수 포함)                  3          50.0       0      0.0   \n",
       "     경영직종사자                      0           0.0       0      0.0   \n",
       "     자영업자(개인사업자)                 3          18.8       1      6.2   \n",
       "     공무원(교사포함)                  14          35.0       1      2.5   \n",
       "     학생(대학원생포함)                 12          18.2       4      6.1   \n",
       "     전업주부                        5          31.2       0      0.0   \n",
       "     기타                          3          50.0       0      0.0   \n",
       "\n",
       "                      산림에 대한 소양증진(지식,정보등 습득)-빈도  산림에 대한 소양증진(지식,정보등 습득)-비율  \\\n",
       "성별   남성                                      12                       12.0   \n",
       "     여성                                      16                       14.5   \n",
       "연령   10대(15세이상)                               0                        0.0   \n",
       "     20대                                     12                       21.4   \n",
       "     30대                                      4                       14.3   \n",
       "     40대                                      2                        7.1   \n",
       "     50대                                      3                        7.9   \n",
       "     60대이상                                    7                       15.2   \n",
       "학력   초등학교 졸업(무학 포함)                           2                       25.0   \n",
       "     중학교 재학                                   1                        5.0   \n",
       "     중학교 졸업                                   1                       12.5   \n",
       "     고등학교 재학                                  0                        0.0   \n",
       "     고등학교 졸업                                  2                        9.1   \n",
       "     대학교 재학                                  11                       22.0   \n",
       "     대학교 졸업                                   9                       10.7   \n",
       "     대학원 재학(석사 또는 박사)                         1                       25.0   \n",
       "     대학원 졸업(석사또는 박사)                          1                       10.0   \n",
       "거주지역 서울                                       2                       10.0   \n",
       "     부산                                       0                        0.0   \n",
       "     대구                                       0                        0.0   \n",
       "     인천                                       1                       25.0   \n",
       "     광주                                       1                       50.0   \n",
       "     대전                                       0                        0.0   \n",
       "     울산                                       0                        0.0   \n",
       "     세종                                       0                        0.0   \n",
       "     경기                                       4                        8.7   \n",
       "     강원                                      20                       14.9   \n",
       "     충북                                       0                        0.0   \n",
       "     충남                                       0                        0.0   \n",
       "     전북                                       0                        0.0   \n",
       "     전남                                       0                        0.0   \n",
       "     경북                                       0                        0.0   \n",
       "     경남                                       0                        0.0   \n",
       "     제주                                       0                        0.0   \n",
       "직업   산림임업종사자                                  4                       18.2   \n",
       "     사무종사자                                    2                       25.0   \n",
       "     서비스종사자                                   4                       25.0   \n",
       "     판매종사자                                    1                       12.5   \n",
       "     기술기능종사자                                  1                       16.7   \n",
       "     단순노무종사자                                  0                        0.0   \n",
       "     전문가(교수 포함)                               0                        0.0   \n",
       "     경영직종사자                                   0                        0.0   \n",
       "     자영업자(개인사업자)                              1                        6.2   \n",
       "     공무원(교사포함)                                3                        7.5   \n",
       "     학생(대학원생포함)                              11                       16.7   \n",
       "     전업주부                                     1                        6.2   \n",
       "     기타                                       0                        0.0   \n",
       "\n",
       "                      즐겁고 재미난 체험-빈도  즐겁고 재미난 체험-비율 자연(산림) 감수성함양-빈도  \\\n",
       "성별   남성                          14           14.0              13   \n",
       "     여성                          14           12.7              15   \n",
       "연령   10대(15세이상)                   2           14.3               1   \n",
       "     20대                          9           16.1               9   \n",
       "     30대                          3           10.7               4   \n",
       "     40대                          3           10.7               4   \n",
       "     50대                          6           15.8               6   \n",
       "     60대이상                        5           10.9               4   \n",
       "학력   초등학교 졸업(무학 포함)               0            0.0               1   \n",
       "     중학교 재학                       3           15.0               1   \n",
       "     중학교 졸업                       1           12.5               0   \n",
       "     고등학교 재학                      0            0.0               2   \n",
       "     고등학교 졸업                      5           22.7               3   \n",
       "     대학교 재학                       8           16.0               8   \n",
       "     대학교 졸업                      10           11.9              11   \n",
       "     대학원 재학(석사 또는 박사)             0            0.0               0   \n",
       "     대학원 졸업(석사또는 박사)              1           10.0               2   \n",
       "거주지역 서울                           3           15.0               2   \n",
       "     부산                           0            0.0               0   \n",
       "     대구                           0            0.0               0   \n",
       "     인천                           0            0.0               2   \n",
       "     광주                           0            0.0               1   \n",
       "     대전                           0            0.0               0   \n",
       "     울산                           0            0.0               0   \n",
       "     세종                           0            0.0               0   \n",
       "     경기                          10           21.7               5   \n",
       "     강원                          15           11.2              16   \n",
       "     충북                           0            0.0               0   \n",
       "     충남                           0            0.0               0   \n",
       "     전북                           0            0.0               0   \n",
       "     전남                           0            0.0               1   \n",
       "     경북                           0            0.0               1   \n",
       "     경남                           0            0.0               0   \n",
       "     제주                           0            0.0               0   \n",
       "직업   산림임업종사자                      1            4.5               3   \n",
       "     사무종사자                        0            0.0               1   \n",
       "     서비스종사자                       2           12.5               3   \n",
       "     판매종사자                        1           12.5               2   \n",
       "     기술기능종사자                      0            0.0               2   \n",
       "     단순노무종사자                      0            0.0               0   \n",
       "     전문가(교수 포함)                   1           16.7               0   \n",
       "     경영직종사자                       0            0.0               0   \n",
       "     자영업자(개인사업자)                  3           18.8               2   \n",
       "     공무원(교사포함)                    7           17.5               4   \n",
       "     학생(대학원생포함)                  11           16.7               9   \n",
       "     전업주부                         2           12.5               2   \n",
       "     기타                           0            0.0               0   \n",
       "\n",
       "                       자연(산림) 감수성함양-비율 가족과의 시간-빈도  가족과의 시간-비율 대인관계형성-빈도  \\\n",
       "성별   남성                           13.0         11        11.0         0   \n",
       "     여성                           13.6         10         9.1         5   \n",
       "연령   10대(15세이상)                    7.1          0         0.0         1   \n",
       "     20대                          16.1          4         7.1         0   \n",
       "     30대                          14.3          3        10.7         0   \n",
       "     40대                          14.3          6        21.4         1   \n",
       "     50대                          15.8          2         5.3         2   \n",
       "     60대이상                         8.7          6        13.0         1   \n",
       "학력   초등학교 졸업(무학 포함)               12.5          1        12.5         0   \n",
       "     중학교 재학                        5.0          1         5.0         1   \n",
       "     중학교 졸업                        0.0          1        12.5         1   \n",
       "     고등학교 재학                      50.0          0         0.0         0   \n",
       "     고등학교 졸업                      13.6          1         4.5         1   \n",
       "     대학교 재학                       16.0          3         6.0         0   \n",
       "     대학교 졸업                       13.1         12        14.3         2   \n",
       "     대학원 재학(석사 또는 박사)              0.0          1        25.0         0   \n",
       "     대학원 졸업(석사또는 박사)              20.0          1        10.0         0   \n",
       "거주지역 서울                           10.0          2        10.0         0   \n",
       "     부산                            0.0          0         0.0         0   \n",
       "     대구                            0.0          0         0.0         0   \n",
       "     인천                           50.0          0         0.0         0   \n",
       "     광주                           50.0          0         0.0         0   \n",
       "     대전                            0.0          0         0.0         0   \n",
       "     울산                            0.0          0         0.0         0   \n",
       "     세종                            0.0          0         0.0         0   \n",
       "     경기                           10.9          3         6.5         1   \n",
       "     강원                           11.9         16        11.9         4   \n",
       "     충북                            0.0          0         0.0         0   \n",
       "     충남                            0.0          0         0.0         0   \n",
       "     전북                            0.0          0         0.0         0   \n",
       "     전남                           50.0          0         0.0         0   \n",
       "     경북                           50.0          0         0.0         0   \n",
       "     경남                            0.0          0         0.0         0   \n",
       "     제주                            0.0          0         0.0         0   \n",
       "직업   산림임업종사자                      13.6          1         4.5         0   \n",
       "     사무종사자                        12.5          1        12.5         0   \n",
       "     서비스종사자                       18.8          2        12.5         0   \n",
       "     판매종사자                        25.0          0         0.0         1   \n",
       "     기술기능종사자                      33.3          0         0.0         0   \n",
       "     단순노무종사자                       0.0          0         0.0         0   \n",
       "     전문가(교수 포함)                    0.0          1        16.7         0   \n",
       "     경영직종사자                        0.0          0         0.0         0   \n",
       "     자영업자(개인사업자)                  12.5          3        18.8         0   \n",
       "     공무원(교사포함)                    10.0          7        17.5         1   \n",
       "     학생(대학원생포함)                   13.6          3         4.5         1   \n",
       "     전업주부                         12.5          3        18.8         2   \n",
       "     기타                            0.0          0         0.0         0   \n",
       "\n",
       "                       대인관계형성-비율 창작활동에 대한 기대-빈도  창작활동에 대한 기대-비율  \\\n",
       "성별   남성                      0.0              4             4.0   \n",
       "     여성                      4.5              4             3.6   \n",
       "연령   10대(15세이상)              7.1              3            21.4   \n",
       "     20대                     0.0              1             1.8   \n",
       "     30대                     0.0              0             0.0   \n",
       "     40대                     3.6              1             3.6   \n",
       "     50대                     5.3              2             5.3   \n",
       "     60대이상                   2.2              1             2.2   \n",
       "학력   초등학교 졸업(무학 포함)          0.0              0             0.0   \n",
       "     중학교 재학                  5.0              3            15.0   \n",
       "     중학교 졸업                 12.5              0             0.0   \n",
       "     고등학교 재학                 0.0              0             0.0   \n",
       "     고등학교 졸업                 4.5              1             4.5   \n",
       "     대학교 재학                  0.0              1             2.0   \n",
       "     대학교 졸업                  2.4              3             3.6   \n",
       "     대학원 재학(석사 또는 박사)        0.0              0             0.0   \n",
       "     대학원 졸업(석사또는 박사)         0.0              0             0.0   \n",
       "거주지역 서울                      0.0              0             0.0   \n",
       "     부산                      0.0              0             0.0   \n",
       "     대구                      0.0              0             0.0   \n",
       "     인천                      0.0              0             0.0   \n",
       "     광주                      0.0              0             0.0   \n",
       "     대전                      0.0              0             0.0   \n",
       "     울산                      0.0              0             0.0   \n",
       "     세종                      0.0              0             0.0   \n",
       "     경기                      2.2              0             0.0   \n",
       "     강원                      3.0              8             6.0   \n",
       "     충북                      0.0              0             0.0   \n",
       "     충남                      0.0              0             0.0   \n",
       "     전북                      0.0              0             0.0   \n",
       "     전남                      0.0              0             0.0   \n",
       "     경북                      0.0              0             0.0   \n",
       "     경남                      0.0              0             0.0   \n",
       "     제주                      0.0              0             0.0   \n",
       "직업   산림임업종사자                 0.0              1             4.5   \n",
       "     사무종사자                   0.0              0             0.0   \n",
       "     서비스종사자                  0.0              0             0.0   \n",
       "     판매종사자                  12.5              0             0.0   \n",
       "     기술기능종사자                 0.0              1            16.7   \n",
       "     단순노무종사자                 0.0              0             0.0   \n",
       "     전문가(교수 포함)              0.0              1            16.7   \n",
       "     경영직종사자                  0.0              0             0.0   \n",
       "     자영업자(개인사업자)             0.0              0             0.0   \n",
       "     공무원(교사포함)               2.5              0             0.0   \n",
       "     학생(대학원생포함)              1.5              4             6.1   \n",
       "     전업주부                   12.5              0             0.0   \n",
       "     기타                      0.0              1            16.7   \n",
       "\n",
       "                      지역의 독특한 자연 또는 문화체험-빈도  지역의 독특한 자연 또는 문화체험-비율 기타-빈도  \\\n",
       "성별   남성                                  12                   12.0     0   \n",
       "     여성                                  12                   10.9     0   \n",
       "연령   10대(15세이상)                           3                   21.4     0   \n",
       "     20대                                  8                   14.3     0   \n",
       "     30대                                  3                   10.7     0   \n",
       "     40대                                  2                    7.1     0   \n",
       "     50대                                  3                    7.9     0   \n",
       "     60대이상                                5                   10.9     0   \n",
       "학력   초등학교 졸업(무학 포함)                       1                   12.5     0   \n",
       "     중학교 재학                               4                   20.0     0   \n",
       "     중학교 졸업                               0                    0.0     0   \n",
       "     고등학교 재학                              0                    0.0     0   \n",
       "     고등학교 졸업                              1                    4.5     0   \n",
       "     대학교 재학                               7                   14.0     0   \n",
       "     대학교 졸업                              11                   13.1     0   \n",
       "     대학원 재학(석사 또는 박사)                     0                    0.0     0   \n",
       "     대학원 졸업(석사또는 박사)                      0                    0.0     0   \n",
       "거주지역 서울                                   4                   20.0     0   \n",
       "     부산                                   0                    0.0     0   \n",
       "     대구                                   0                    0.0     0   \n",
       "     인천                                   0                    0.0     0   \n",
       "     광주                                   0                    0.0     0   \n",
       "     대전                                   0                    0.0     0   \n",
       "     울산                                   0                    0.0     0   \n",
       "     세종                                   0                    0.0     0   \n",
       "     경기                                   6                   13.0     0   \n",
       "     강원                                  14                   10.4     0   \n",
       "     충북                                   0                    0.0     0   \n",
       "     충남                                   0                    0.0     0   \n",
       "     전북                                   0                    0.0     0   \n",
       "     전남                                   0                    0.0     0   \n",
       "     경북                                   0                    0.0     0   \n",
       "     경남                                   0                    0.0     0   \n",
       "     제주                                   0                    0.0     0   \n",
       "직업   산림임업종사자                              4                   18.2     0   \n",
       "     사무종사자                                0                    0.0     0   \n",
       "     서비스종사자                               0                    0.0     0   \n",
       "     판매종사자                                0                    0.0     0   \n",
       "     기술기능종사자                              0                    0.0     0   \n",
       "     단순노무종사자                              0                    0.0     0   \n",
       "     전문가(교수 포함)                           0                    0.0     0   \n",
       "     경영직종사자                               0                    0.0     0   \n",
       "     자영업자(개인사업자)                          3                   18.8     0   \n",
       "     공무원(교사포함)                            3                    7.5     0   \n",
       "     학생(대학원생포함)                          11                   16.7     0   \n",
       "     전업주부                                 1                    6.2     0   \n",
       "     기타                                   2                   33.3     0   \n",
       "\n",
       "                       기타-비율  사례수  \n",
       "성별   남성                  0.0  100  \n",
       "     여성                  0.0  110  \n",
       "연령   10대(15세이상)          0.0   14  \n",
       "     20대                 0.0   56  \n",
       "     30대                 0.0   28  \n",
       "     40대                 0.0   28  \n",
       "     50대                 0.0   38  \n",
       "     60대이상               0.0   46  \n",
       "학력   초등학교 졸업(무학 포함)      0.0    8  \n",
       "     중학교 재학              0.0   20  \n",
       "     중학교 졸업              0.0    8  \n",
       "     고등학교 재학             0.0    4  \n",
       "     고등학교 졸업             0.0   22  \n",
       "     대학교 재학              0.0   50  \n",
       "     대학교 졸업              0.0   84  \n",
       "     대학원 재학(석사 또는 박사)    0.0    4  \n",
       "     대학원 졸업(석사또는 박사)     0.0   10  \n",
       "거주지역 서울                  0.0   20  \n",
       "     부산                  0.0    0  \n",
       "     대구                  0.0    0  \n",
       "     인천                  0.0    4  \n",
       "     광주                  0.0    2  \n",
       "     대전                  0.0    0  \n",
       "     울산                  0.0    0  \n",
       "     세종                  0.0    0  \n",
       "     경기                  0.0   46  \n",
       "     강원                  0.0  134  \n",
       "     충북                  0.0    0  \n",
       "     충남                  0.0    0  \n",
       "     전북                  0.0    0  \n",
       "     전남                  0.0    2  \n",
       "     경북                  0.0    2  \n",
       "     경남                  0.0    0  \n",
       "     제주                  0.0    0  \n",
       "직업   산림임업종사자             0.0   22  \n",
       "     사무종사자               0.0    8  \n",
       "     서비스종사자              0.0   16  \n",
       "     판매종사자               0.0    8  \n",
       "     기술기능종사자             0.0    6  \n",
       "     단순노무종사자             0.0    0  \n",
       "     전문가(교수 포함)          0.0    6  \n",
       "     경영직종사자              0.0    0  \n",
       "     자영업자(개인사업자)         0.0   16  \n",
       "     공무원(교사포함)           0.0   40  \n",
       "     학생(대학원생포함)          0.0   66  \n",
       "     전업주부                0.0   16  \n",
       "     기타                  0.0    6  "
      ]
     },
     "execution_count": 57,
     "metadata": {},
     "output_type": "execute_result"
    }
   ],
   "source": [
    "# 응답자 특성별 표 정리\n",
    "combined_list = q7\n",
    "column_lst = []\n",
    "for i in combined_list:\n",
    "    column_lst.append(\"%s-빈도\"%i)\n",
    "    column_lst.append(\"%s-비율\"%i)\n",
    "resp_map_df = pd.DataFrame(columns = column_lst)\n",
    "\n",
    "# 응답자 설문 리스트 정의\n",
    "sq_lst = list(Resp_Character.keys())\n",
    "# 응답자 매핑 딕셔너리 정의\n",
    "sq_dic = {'성별': 'SQ1', '연령': 'SQ2_1', '학력': 'SQ3', '거주지역': 'SQ4', '직업': 'SQ5'}\n",
    "\n",
    "# 멀티인덱스를 위한 리스트 생성\n",
    "mult_idx = []\n",
    "\n",
    "for sq in sq_lst:\n",
    "    for val in list(Resp_Character[sq].values()):\n",
    "        # 멀티인덱스 추가\n",
    "        mult_idx.append(sq)\n",
    "        # 'SQ1' 열의 값으로 필터링\n",
    "        filtered_rows = df_expo[df_expo[sq_dic[sq]] == val].reset_index(drop=True)\n",
    "        filtered_rows_1 = filtered_rows['Q7_1'].value_counts().reset_index()\n",
    "        filtered_rows_1.columns = ['값', '빈도']\n",
    "        filtered_rows_2 = filtered_rows['Q7_2'].value_counts().reset_index()\n",
    "        filtered_rows_2.columns = ['값', '빈도']\n",
    "        # 'index' column을 기준으로 데이터프레임을 병합\n",
    "        filtered_rows_C = pd.concat([filtered_rows_1, filtered_rows_2])\n",
    "        filtered_rows_C = filtered_rows_C.groupby('값')['빈도'].sum().reset_index()\n",
    "        filtered_rows_C.sort_values('빈도', ascending=False, inplace=True)\n",
    "        filtered_rows_C['값'] = map_val(filtered_rows_C['값'], Q7_map)\n",
    "        filtered_rows_C['비율'] = round((filtered_rows_C['빈도'] / filtered_rows_C['빈도'].sum())*100,1)\n",
    "        filtered_rows_C = filtered_rows_C.set_index(keys='값')\n",
    "        \n",
    "        resp_map = {}\n",
    "        for i in resp_map_df.columns:\n",
    "            if i.endswith('빈도'):\n",
    "                resp_map[i] = [0]\n",
    "            else:\n",
    "                resp_map[i] = [0.0]\n",
    "\n",
    "        for i in resp_map_df.columns:           \n",
    "            response, method = i.split('-')\n",
    "            try:\n",
    "                resp_map[i][0] = filtered_rows_C.loc[response, method]\n",
    "            except:\n",
    "                pass\n",
    "        else:\n",
    "            map_df = pd.DataFrame(resp_map)\n",
    "            map_df.index = [val]\n",
    "            resp_map_df = pd.concat([resp_map_df,map_df])\n",
    "resp_map_df['사례수'] = resp_map_df.filter(like='빈도').sum(axis=1).astype(int)\n",
    "# 멀티인덱스 생성\n",
    "resp_map_df.set_index([mult_idx, resp_map_df.index], inplace=True)\n",
    "resp_map_df"
   ]
  },
  {
   "attachments": {},
   "cell_type": "markdown",
   "metadata": {},
   "source": [
    "## Q8 귀하의 산림문화 활동 또는 프로그램에 누구와 함께 참여하고 싶으십니까? - 빈도분석"
   ]
  },
  {
   "cell_type": "code",
   "execution_count": 107,
   "metadata": {},
   "outputs": [],
   "source": [
    "Q8_map = {'1': '혼자',\n",
    "          '2': '가족과 함께',\n",
    "          '3': '친구 또는 연인과 함께',\n",
    "          '4': '직장동료와 함께',\n",
    "          '5': '친목단체 또는 모임에서',\n",
    "          '6': '학교에서',\n",
    "          '7': '기타'}\n",
    "\n",
    "# 데이터프레임에서 'Q2' 열의 빈도 정의\n",
    "frequency8 = df_expo['Q8'].value_counts().reset_index()\n",
    "frequency8.columns = ['값', '빈도']\n",
    "\n",
    "# 데이터프레임에서 'Q2' 열의 빈도 정의\n",
    "frequency8_common = df_common['Q8'].value_counts().reset_index()\n",
    "frequency8_common.columns = ['값', '빈도']\n",
    "frequency8_common = frequency8_common.astype(int)\n",
    "\n",
    "# map_val 함수('값' 열의 값을 딕셔너리를 사용하여 일괄적으로 변경하는 함수)를 사용\n",
    "frequency8['값'] = map_val(frequency8['값'], Q8_map)\n",
    "frequency8_common['값'] = map_val(frequency8_common['값'], Q8_map)"
   ]
  },
  {
   "cell_type": "code",
   "execution_count": 108,
   "metadata": {},
   "outputs": [
    {
     "data": {
      "application/vnd.plotly.v1+json": {
       "config": {
        "plotlyServerURL": "https://plot.ly"
       },
       "data": [
        {
         "domain": {
          "x": [
           0,
           1
          ],
          "y": [
           0,
           1
          ]
         },
         "hole": 0.2,
         "hovertemplate": "값=%{label}<br>비율=%{value}<extra></extra>",
         "insidetextorientation": "horizontal",
         "labels": [
          "가족과 함께",
          "친구 또는 연인과 함께",
          "직장동료와 함께",
          "친목단체 또는 모임에서",
          "학교에서",
          "혼자"
         ],
         "legendgroup": "",
         "name": "",
         "pull": [
          0.01,
          0.01,
          0.01,
          0.01,
          0.01,
          0.01
         ],
         "showlegend": true,
         "textinfo": "percent+label",
         "type": "pie",
         "values": [
          0.3904761904761905,
          0.3142857142857143,
          0.10476190476190476,
          0.09523809523809523,
          0.05714285714285714,
          0.0380952380952381
         ]
        }
       ],
       "layout": {
        "font": {
         "size": 13
        },
        "height": 900,
        "legend": {
         "tracegroupgap": 0,
         "x": 0.9,
         "y": 0.5
        },
        "piecolorway": [
         "rgb(5,31,69)",
         "rgb(8,48,107)",
         "rgb(11,62,138)",
         "rgb(8,81,156)",
         "rgb(7,90,176)",
         "rgb(33,113,181)",
         "rgb(66,146,198)",
         "rgb(81,157,207)",
         "rgb(107,174,214)",
         "rgb(158,202,225)",
         "rgb(198,219,239)",
         "rgb(222,235,247)",
         "rgb(247,251,255)"
        ],
        "template": {
         "data": {
          "bar": [
           {
            "error_x": {
             "color": "#2a3f5f"
            },
            "error_y": {
             "color": "#2a3f5f"
            },
            "marker": {
             "line": {
              "color": "#E5ECF6",
              "width": 0.5
             }
            },
            "type": "bar"
           }
          ],
          "barpolar": [
           {
            "marker": {
             "line": {
              "color": "#E5ECF6",
              "width": 0.5
             }
            },
            "type": "barpolar"
           }
          ],
          "carpet": [
           {
            "aaxis": {
             "endlinecolor": "#2a3f5f",
             "gridcolor": "white",
             "linecolor": "white",
             "minorgridcolor": "white",
             "startlinecolor": "#2a3f5f"
            },
            "baxis": {
             "endlinecolor": "#2a3f5f",
             "gridcolor": "white",
             "linecolor": "white",
             "minorgridcolor": "white",
             "startlinecolor": "#2a3f5f"
            },
            "type": "carpet"
           }
          ],
          "choropleth": [
           {
            "colorbar": {
             "outlinewidth": 0,
             "ticks": ""
            },
            "type": "choropleth"
           }
          ],
          "contour": [
           {
            "colorbar": {
             "outlinewidth": 0,
             "ticks": ""
            },
            "colorscale": [
             [
              0,
              "#0d0887"
             ],
             [
              0.1111111111111111,
              "#46039f"
             ],
             [
              0.2222222222222222,
              "#7201a8"
             ],
             [
              0.3333333333333333,
              "#9c179e"
             ],
             [
              0.4444444444444444,
              "#bd3786"
             ],
             [
              0.5555555555555556,
              "#d8576b"
             ],
             [
              0.6666666666666666,
              "#ed7953"
             ],
             [
              0.7777777777777778,
              "#fb9f3a"
             ],
             [
              0.8888888888888888,
              "#fdca26"
             ],
             [
              1,
              "#f0f921"
             ]
            ],
            "type": "contour"
           }
          ],
          "contourcarpet": [
           {
            "colorbar": {
             "outlinewidth": 0,
             "ticks": ""
            },
            "type": "contourcarpet"
           }
          ],
          "heatmap": [
           {
            "colorbar": {
             "outlinewidth": 0,
             "ticks": ""
            },
            "colorscale": [
             [
              0,
              "#0d0887"
             ],
             [
              0.1111111111111111,
              "#46039f"
             ],
             [
              0.2222222222222222,
              "#7201a8"
             ],
             [
              0.3333333333333333,
              "#9c179e"
             ],
             [
              0.4444444444444444,
              "#bd3786"
             ],
             [
              0.5555555555555556,
              "#d8576b"
             ],
             [
              0.6666666666666666,
              "#ed7953"
             ],
             [
              0.7777777777777778,
              "#fb9f3a"
             ],
             [
              0.8888888888888888,
              "#fdca26"
             ],
             [
              1,
              "#f0f921"
             ]
            ],
            "type": "heatmap"
           }
          ],
          "heatmapgl": [
           {
            "colorbar": {
             "outlinewidth": 0,
             "ticks": ""
            },
            "colorscale": [
             [
              0,
              "#0d0887"
             ],
             [
              0.1111111111111111,
              "#46039f"
             ],
             [
              0.2222222222222222,
              "#7201a8"
             ],
             [
              0.3333333333333333,
              "#9c179e"
             ],
             [
              0.4444444444444444,
              "#bd3786"
             ],
             [
              0.5555555555555556,
              "#d8576b"
             ],
             [
              0.6666666666666666,
              "#ed7953"
             ],
             [
              0.7777777777777778,
              "#fb9f3a"
             ],
             [
              0.8888888888888888,
              "#fdca26"
             ],
             [
              1,
              "#f0f921"
             ]
            ],
            "type": "heatmapgl"
           }
          ],
          "histogram": [
           {
            "marker": {
             "colorbar": {
              "outlinewidth": 0,
              "ticks": ""
             }
            },
            "type": "histogram"
           }
          ],
          "histogram2d": [
           {
            "colorbar": {
             "outlinewidth": 0,
             "ticks": ""
            },
            "colorscale": [
             [
              0,
              "#0d0887"
             ],
             [
              0.1111111111111111,
              "#46039f"
             ],
             [
              0.2222222222222222,
              "#7201a8"
             ],
             [
              0.3333333333333333,
              "#9c179e"
             ],
             [
              0.4444444444444444,
              "#bd3786"
             ],
             [
              0.5555555555555556,
              "#d8576b"
             ],
             [
              0.6666666666666666,
              "#ed7953"
             ],
             [
              0.7777777777777778,
              "#fb9f3a"
             ],
             [
              0.8888888888888888,
              "#fdca26"
             ],
             [
              1,
              "#f0f921"
             ]
            ],
            "type": "histogram2d"
           }
          ],
          "histogram2dcontour": [
           {
            "colorbar": {
             "outlinewidth": 0,
             "ticks": ""
            },
            "colorscale": [
             [
              0,
              "#0d0887"
             ],
             [
              0.1111111111111111,
              "#46039f"
             ],
             [
              0.2222222222222222,
              "#7201a8"
             ],
             [
              0.3333333333333333,
              "#9c179e"
             ],
             [
              0.4444444444444444,
              "#bd3786"
             ],
             [
              0.5555555555555556,
              "#d8576b"
             ],
             [
              0.6666666666666666,
              "#ed7953"
             ],
             [
              0.7777777777777778,
              "#fb9f3a"
             ],
             [
              0.8888888888888888,
              "#fdca26"
             ],
             [
              1,
              "#f0f921"
             ]
            ],
            "type": "histogram2dcontour"
           }
          ],
          "mesh3d": [
           {
            "colorbar": {
             "outlinewidth": 0,
             "ticks": ""
            },
            "type": "mesh3d"
           }
          ],
          "parcoords": [
           {
            "line": {
             "colorbar": {
              "outlinewidth": 0,
              "ticks": ""
             }
            },
            "type": "parcoords"
           }
          ],
          "pie": [
           {
            "automargin": true,
            "type": "pie"
           }
          ],
          "scatter": [
           {
            "marker": {
             "colorbar": {
              "outlinewidth": 0,
              "ticks": ""
             }
            },
            "type": "scatter"
           }
          ],
          "scatter3d": [
           {
            "line": {
             "colorbar": {
              "outlinewidth": 0,
              "ticks": ""
             }
            },
            "marker": {
             "colorbar": {
              "outlinewidth": 0,
              "ticks": ""
             }
            },
            "type": "scatter3d"
           }
          ],
          "scattercarpet": [
           {
            "marker": {
             "colorbar": {
              "outlinewidth": 0,
              "ticks": ""
             }
            },
            "type": "scattercarpet"
           }
          ],
          "scattergeo": [
           {
            "marker": {
             "colorbar": {
              "outlinewidth": 0,
              "ticks": ""
             }
            },
            "type": "scattergeo"
           }
          ],
          "scattergl": [
           {
            "marker": {
             "colorbar": {
              "outlinewidth": 0,
              "ticks": ""
             }
            },
            "type": "scattergl"
           }
          ],
          "scattermapbox": [
           {
            "marker": {
             "colorbar": {
              "outlinewidth": 0,
              "ticks": ""
             }
            },
            "type": "scattermapbox"
           }
          ],
          "scatterpolar": [
           {
            "marker": {
             "colorbar": {
              "outlinewidth": 0,
              "ticks": ""
             }
            },
            "type": "scatterpolar"
           }
          ],
          "scatterpolargl": [
           {
            "marker": {
             "colorbar": {
              "outlinewidth": 0,
              "ticks": ""
             }
            },
            "type": "scatterpolargl"
           }
          ],
          "scatterternary": [
           {
            "marker": {
             "colorbar": {
              "outlinewidth": 0,
              "ticks": ""
             }
            },
            "type": "scatterternary"
           }
          ],
          "surface": [
           {
            "colorbar": {
             "outlinewidth": 0,
             "ticks": ""
            },
            "colorscale": [
             [
              0,
              "#0d0887"
             ],
             [
              0.1111111111111111,
              "#46039f"
             ],
             [
              0.2222222222222222,
              "#7201a8"
             ],
             [
              0.3333333333333333,
              "#9c179e"
             ],
             [
              0.4444444444444444,
              "#bd3786"
             ],
             [
              0.5555555555555556,
              "#d8576b"
             ],
             [
              0.6666666666666666,
              "#ed7953"
             ],
             [
              0.7777777777777778,
              "#fb9f3a"
             ],
             [
              0.8888888888888888,
              "#fdca26"
             ],
             [
              1,
              "#f0f921"
             ]
            ],
            "type": "surface"
           }
          ],
          "table": [
           {
            "cells": {
             "fill": {
              "color": "#EBF0F8"
             },
             "line": {
              "color": "white"
             }
            },
            "header": {
             "fill": {
              "color": "#C8D4E3"
             },
             "line": {
              "color": "white"
             }
            },
            "type": "table"
           }
          ]
         },
         "layout": {
          "annotationdefaults": {
           "arrowcolor": "#2a3f5f",
           "arrowhead": 0,
           "arrowwidth": 1
          },
          "autotypenumbers": "strict",
          "coloraxis": {
           "colorbar": {
            "outlinewidth": 0,
            "ticks": ""
           }
          },
          "colorscale": {
           "diverging": [
            [
             0,
             "#8e0152"
            ],
            [
             0.1,
             "#c51b7d"
            ],
            [
             0.2,
             "#de77ae"
            ],
            [
             0.3,
             "#f1b6da"
            ],
            [
             0.4,
             "#fde0ef"
            ],
            [
             0.5,
             "#f7f7f7"
            ],
            [
             0.6,
             "#e6f5d0"
            ],
            [
             0.7,
             "#b8e186"
            ],
            [
             0.8,
             "#7fbc41"
            ],
            [
             0.9,
             "#4d9221"
            ],
            [
             1,
             "#276419"
            ]
           ],
           "sequential": [
            [
             0,
             "#0d0887"
            ],
            [
             0.1111111111111111,
             "#46039f"
            ],
            [
             0.2222222222222222,
             "#7201a8"
            ],
            [
             0.3333333333333333,
             "#9c179e"
            ],
            [
             0.4444444444444444,
             "#bd3786"
            ],
            [
             0.5555555555555556,
             "#d8576b"
            ],
            [
             0.6666666666666666,
             "#ed7953"
            ],
            [
             0.7777777777777778,
             "#fb9f3a"
            ],
            [
             0.8888888888888888,
             "#fdca26"
            ],
            [
             1,
             "#f0f921"
            ]
           ],
           "sequentialminus": [
            [
             0,
             "#0d0887"
            ],
            [
             0.1111111111111111,
             "#46039f"
            ],
            [
             0.2222222222222222,
             "#7201a8"
            ],
            [
             0.3333333333333333,
             "#9c179e"
            ],
            [
             0.4444444444444444,
             "#bd3786"
            ],
            [
             0.5555555555555556,
             "#d8576b"
            ],
            [
             0.6666666666666666,
             "#ed7953"
            ],
            [
             0.7777777777777778,
             "#fb9f3a"
            ],
            [
             0.8888888888888888,
             "#fdca26"
            ],
            [
             1,
             "#f0f921"
            ]
           ]
          },
          "colorway": [
           "#636efa",
           "#EF553B",
           "#00cc96",
           "#ab63fa",
           "#FFA15A",
           "#19d3f3",
           "#FF6692",
           "#B6E880",
           "#FF97FF",
           "#FECB52"
          ],
          "font": {
           "color": "#2a3f5f"
          },
          "geo": {
           "bgcolor": "white",
           "lakecolor": "white",
           "landcolor": "#E5ECF6",
           "showlakes": true,
           "showland": true,
           "subunitcolor": "white"
          },
          "hoverlabel": {
           "align": "left"
          },
          "hovermode": "closest",
          "mapbox": {
           "style": "light"
          },
          "paper_bgcolor": "white",
          "plot_bgcolor": "#E5ECF6",
          "polar": {
           "angularaxis": {
            "gridcolor": "white",
            "linecolor": "white",
            "ticks": ""
           },
           "bgcolor": "#E5ECF6",
           "radialaxis": {
            "gridcolor": "white",
            "linecolor": "white",
            "ticks": ""
           }
          },
          "scene": {
           "xaxis": {
            "backgroundcolor": "#E5ECF6",
            "gridcolor": "white",
            "gridwidth": 2,
            "linecolor": "white",
            "showbackground": true,
            "ticks": "",
            "zerolinecolor": "white"
           },
           "yaxis": {
            "backgroundcolor": "#E5ECF6",
            "gridcolor": "white",
            "gridwidth": 2,
            "linecolor": "white",
            "showbackground": true,
            "ticks": "",
            "zerolinecolor": "white"
           },
           "zaxis": {
            "backgroundcolor": "#E5ECF6",
            "gridcolor": "white",
            "gridwidth": 2,
            "linecolor": "white",
            "showbackground": true,
            "ticks": "",
            "zerolinecolor": "white"
           }
          },
          "shapedefaults": {
           "line": {
            "color": "#2a3f5f"
           }
          },
          "ternary": {
           "aaxis": {
            "gridcolor": "white",
            "linecolor": "white",
            "ticks": ""
           },
           "baxis": {
            "gridcolor": "white",
            "linecolor": "white",
            "ticks": ""
           },
           "bgcolor": "#E5ECF6",
           "caxis": {
            "gridcolor": "white",
            "linecolor": "white",
            "ticks": ""
           }
          },
          "title": {
           "x": 0.05
          },
          "xaxis": {
           "automargin": true,
           "gridcolor": "white",
           "linecolor": "white",
           "ticks": "",
           "title": {
            "standoff": 15
           },
           "zerolinecolor": "white",
           "zerolinewidth": 2
          },
          "yaxis": {
           "automargin": true,
           "gridcolor": "white",
           "linecolor": "white",
           "ticks": "",
           "title": {
            "standoff": 15
           },
           "zerolinecolor": "white",
           "zerolinewidth": 2
          }
         }
        },
        "title": {
         "font": {
          "size": 24
         },
         "text": "귀하는 산림문화 활동 또는 프로그램에 누구와 함께 참여하고 싶으싶니까?"
        },
        "width": 1400
       }
      }
     },
     "metadata": {},
     "output_type": "display_data"
    }
   ],
   "source": [
    "import plotly.express as px\n",
    "\n",
    "# 빈도를 비율로 변환\n",
    "frequency8['비율'] = frequency8['빈도'] / frequency8['빈도'].sum()\n",
    "\n",
    "# 파이 차트 시각화 (크기 조절)\n",
    "fig = px.pie(frequency8, values='비율', names='값', title=\"<b>빈도 비율 분석</b>\", hole=0.2,\n",
    "                color_discrete_sequence=color_scale)\n",
    "fig.update_layout(\n",
    "        title={\n",
    "        'text': '귀하는 산림문화 활동 또는 프로그램에 누구와 함께 참여하고 싶으싶니까?',\n",
    "        'font': {'size': 24}  # 제목의 폰트 크기 설정\n",
    "    },\n",
    "    font=dict(size=13),\n",
    "    height=900,  # 그림의 높이 설정\n",
    "    width=1400,    # 그림의 너비 설정\n",
    "    legend=dict(x=0.9, y=0.5)  # 범례 위치 조정 (x, y 조절 가능)\n",
    ")\n",
    "# 차트 내에 비율 숫자 직접 표시\n",
    "pull_lst = [0.01] * 6\n",
    "fig.update_traces(textinfo='percent+label', pull=pull_lst, insidetextorientation='horizontal')  # 비율 숫자를 라벨과 함께 표시\n",
    "\n",
    "fig.show()"
   ]
  },
  {
   "cell_type": "code",
   "execution_count": 109,
   "metadata": {},
   "outputs": [
    {
     "data": {
      "application/vnd.plotly.v1+json": {
       "config": {
        "plotlyServerURL": "https://plot.ly"
       },
       "data": [
        {
         "domain": {
          "x": [
           0,
           1
          ],
          "y": [
           0,
           1
          ]
         },
         "hole": 0.2,
         "hovertemplate": "값=%{label}<br>비율=%{value}<extra></extra>",
         "insidetextorientation": "horizontal",
         "labels": [
          "가족과 함께",
          "친구 또는 연인과 함께",
          "혼자",
          "직장동료와 함께",
          "친목단체 또는 모임에서",
          "학교에서",
          "기타"
         ],
         "legendgroup": "",
         "name": "",
         "pull": [
          0.01,
          0.01,
          0.01,
          0.01,
          0.01,
          0.01
         ],
         "showlegend": true,
         "textinfo": "percent+label",
         "type": "pie",
         "values": [
          0.6212653778558875,
          0.22231985940246046,
          0.08084358523725835,
          0.03690685413005272,
          0.03427065026362039,
          0.0026362038664323375,
          0.0017574692442882249
         ]
        }
       ],
       "layout": {
        "font": {
         "size": 13
        },
        "height": 900,
        "legend": {
         "tracegroupgap": 0,
         "x": 0.9,
         "y": 0.5
        },
        "margin": {
         "t": 60
        },
        "piecolorway": [
         "rgb(5,31,69)",
         "rgb(8,48,107)",
         "rgb(11,62,138)",
         "rgb(8,81,156)",
         "rgb(7,90,176)",
         "rgb(33,113,181)",
         "rgb(66,146,198)",
         "rgb(81,157,207)",
         "rgb(107,174,214)",
         "rgb(158,202,225)",
         "rgb(198,219,239)",
         "rgb(222,235,247)",
         "rgb(247,251,255)"
        ],
        "template": {
         "data": {
          "bar": [
           {
            "error_x": {
             "color": "#2a3f5f"
            },
            "error_y": {
             "color": "#2a3f5f"
            },
            "marker": {
             "line": {
              "color": "#E5ECF6",
              "width": 0.5
             }
            },
            "type": "bar"
           }
          ],
          "barpolar": [
           {
            "marker": {
             "line": {
              "color": "#E5ECF6",
              "width": 0.5
             }
            },
            "type": "barpolar"
           }
          ],
          "carpet": [
           {
            "aaxis": {
             "endlinecolor": "#2a3f5f",
             "gridcolor": "white",
             "linecolor": "white",
             "minorgridcolor": "white",
             "startlinecolor": "#2a3f5f"
            },
            "baxis": {
             "endlinecolor": "#2a3f5f",
             "gridcolor": "white",
             "linecolor": "white",
             "minorgridcolor": "white",
             "startlinecolor": "#2a3f5f"
            },
            "type": "carpet"
           }
          ],
          "choropleth": [
           {
            "colorbar": {
             "outlinewidth": 0,
             "ticks": ""
            },
            "type": "choropleth"
           }
          ],
          "contour": [
           {
            "colorbar": {
             "outlinewidth": 0,
             "ticks": ""
            },
            "colorscale": [
             [
              0,
              "#0d0887"
             ],
             [
              0.1111111111111111,
              "#46039f"
             ],
             [
              0.2222222222222222,
              "#7201a8"
             ],
             [
              0.3333333333333333,
              "#9c179e"
             ],
             [
              0.4444444444444444,
              "#bd3786"
             ],
             [
              0.5555555555555556,
              "#d8576b"
             ],
             [
              0.6666666666666666,
              "#ed7953"
             ],
             [
              0.7777777777777778,
              "#fb9f3a"
             ],
             [
              0.8888888888888888,
              "#fdca26"
             ],
             [
              1,
              "#f0f921"
             ]
            ],
            "type": "contour"
           }
          ],
          "contourcarpet": [
           {
            "colorbar": {
             "outlinewidth": 0,
             "ticks": ""
            },
            "type": "contourcarpet"
           }
          ],
          "heatmap": [
           {
            "colorbar": {
             "outlinewidth": 0,
             "ticks": ""
            },
            "colorscale": [
             [
              0,
              "#0d0887"
             ],
             [
              0.1111111111111111,
              "#46039f"
             ],
             [
              0.2222222222222222,
              "#7201a8"
             ],
             [
              0.3333333333333333,
              "#9c179e"
             ],
             [
              0.4444444444444444,
              "#bd3786"
             ],
             [
              0.5555555555555556,
              "#d8576b"
             ],
             [
              0.6666666666666666,
              "#ed7953"
             ],
             [
              0.7777777777777778,
              "#fb9f3a"
             ],
             [
              0.8888888888888888,
              "#fdca26"
             ],
             [
              1,
              "#f0f921"
             ]
            ],
            "type": "heatmap"
           }
          ],
          "heatmapgl": [
           {
            "colorbar": {
             "outlinewidth": 0,
             "ticks": ""
            },
            "colorscale": [
             [
              0,
              "#0d0887"
             ],
             [
              0.1111111111111111,
              "#46039f"
             ],
             [
              0.2222222222222222,
              "#7201a8"
             ],
             [
              0.3333333333333333,
              "#9c179e"
             ],
             [
              0.4444444444444444,
              "#bd3786"
             ],
             [
              0.5555555555555556,
              "#d8576b"
             ],
             [
              0.6666666666666666,
              "#ed7953"
             ],
             [
              0.7777777777777778,
              "#fb9f3a"
             ],
             [
              0.8888888888888888,
              "#fdca26"
             ],
             [
              1,
              "#f0f921"
             ]
            ],
            "type": "heatmapgl"
           }
          ],
          "histogram": [
           {
            "marker": {
             "colorbar": {
              "outlinewidth": 0,
              "ticks": ""
             }
            },
            "type": "histogram"
           }
          ],
          "histogram2d": [
           {
            "colorbar": {
             "outlinewidth": 0,
             "ticks": ""
            },
            "colorscale": [
             [
              0,
              "#0d0887"
             ],
             [
              0.1111111111111111,
              "#46039f"
             ],
             [
              0.2222222222222222,
              "#7201a8"
             ],
             [
              0.3333333333333333,
              "#9c179e"
             ],
             [
              0.4444444444444444,
              "#bd3786"
             ],
             [
              0.5555555555555556,
              "#d8576b"
             ],
             [
              0.6666666666666666,
              "#ed7953"
             ],
             [
              0.7777777777777778,
              "#fb9f3a"
             ],
             [
              0.8888888888888888,
              "#fdca26"
             ],
             [
              1,
              "#f0f921"
             ]
            ],
            "type": "histogram2d"
           }
          ],
          "histogram2dcontour": [
           {
            "colorbar": {
             "outlinewidth": 0,
             "ticks": ""
            },
            "colorscale": [
             [
              0,
              "#0d0887"
             ],
             [
              0.1111111111111111,
              "#46039f"
             ],
             [
              0.2222222222222222,
              "#7201a8"
             ],
             [
              0.3333333333333333,
              "#9c179e"
             ],
             [
              0.4444444444444444,
              "#bd3786"
             ],
             [
              0.5555555555555556,
              "#d8576b"
             ],
             [
              0.6666666666666666,
              "#ed7953"
             ],
             [
              0.7777777777777778,
              "#fb9f3a"
             ],
             [
              0.8888888888888888,
              "#fdca26"
             ],
             [
              1,
              "#f0f921"
             ]
            ],
            "type": "histogram2dcontour"
           }
          ],
          "mesh3d": [
           {
            "colorbar": {
             "outlinewidth": 0,
             "ticks": ""
            },
            "type": "mesh3d"
           }
          ],
          "parcoords": [
           {
            "line": {
             "colorbar": {
              "outlinewidth": 0,
              "ticks": ""
             }
            },
            "type": "parcoords"
           }
          ],
          "pie": [
           {
            "automargin": true,
            "type": "pie"
           }
          ],
          "scatter": [
           {
            "marker": {
             "colorbar": {
              "outlinewidth": 0,
              "ticks": ""
             }
            },
            "type": "scatter"
           }
          ],
          "scatter3d": [
           {
            "line": {
             "colorbar": {
              "outlinewidth": 0,
              "ticks": ""
             }
            },
            "marker": {
             "colorbar": {
              "outlinewidth": 0,
              "ticks": ""
             }
            },
            "type": "scatter3d"
           }
          ],
          "scattercarpet": [
           {
            "marker": {
             "colorbar": {
              "outlinewidth": 0,
              "ticks": ""
             }
            },
            "type": "scattercarpet"
           }
          ],
          "scattergeo": [
           {
            "marker": {
             "colorbar": {
              "outlinewidth": 0,
              "ticks": ""
             }
            },
            "type": "scattergeo"
           }
          ],
          "scattergl": [
           {
            "marker": {
             "colorbar": {
              "outlinewidth": 0,
              "ticks": ""
             }
            },
            "type": "scattergl"
           }
          ],
          "scattermapbox": [
           {
            "marker": {
             "colorbar": {
              "outlinewidth": 0,
              "ticks": ""
             }
            },
            "type": "scattermapbox"
           }
          ],
          "scatterpolar": [
           {
            "marker": {
             "colorbar": {
              "outlinewidth": 0,
              "ticks": ""
             }
            },
            "type": "scatterpolar"
           }
          ],
          "scatterpolargl": [
           {
            "marker": {
             "colorbar": {
              "outlinewidth": 0,
              "ticks": ""
             }
            },
            "type": "scatterpolargl"
           }
          ],
          "scatterternary": [
           {
            "marker": {
             "colorbar": {
              "outlinewidth": 0,
              "ticks": ""
             }
            },
            "type": "scatterternary"
           }
          ],
          "surface": [
           {
            "colorbar": {
             "outlinewidth": 0,
             "ticks": ""
            },
            "colorscale": [
             [
              0,
              "#0d0887"
             ],
             [
              0.1111111111111111,
              "#46039f"
             ],
             [
              0.2222222222222222,
              "#7201a8"
             ],
             [
              0.3333333333333333,
              "#9c179e"
             ],
             [
              0.4444444444444444,
              "#bd3786"
             ],
             [
              0.5555555555555556,
              "#d8576b"
             ],
             [
              0.6666666666666666,
              "#ed7953"
             ],
             [
              0.7777777777777778,
              "#fb9f3a"
             ],
             [
              0.8888888888888888,
              "#fdca26"
             ],
             [
              1,
              "#f0f921"
             ]
            ],
            "type": "surface"
           }
          ],
          "table": [
           {
            "cells": {
             "fill": {
              "color": "#EBF0F8"
             },
             "line": {
              "color": "white"
             }
            },
            "header": {
             "fill": {
              "color": "#C8D4E3"
             },
             "line": {
              "color": "white"
             }
            },
            "type": "table"
           }
          ]
         },
         "layout": {
          "annotationdefaults": {
           "arrowcolor": "#2a3f5f",
           "arrowhead": 0,
           "arrowwidth": 1
          },
          "autotypenumbers": "strict",
          "coloraxis": {
           "colorbar": {
            "outlinewidth": 0,
            "ticks": ""
           }
          },
          "colorscale": {
           "diverging": [
            [
             0,
             "#8e0152"
            ],
            [
             0.1,
             "#c51b7d"
            ],
            [
             0.2,
             "#de77ae"
            ],
            [
             0.3,
             "#f1b6da"
            ],
            [
             0.4,
             "#fde0ef"
            ],
            [
             0.5,
             "#f7f7f7"
            ],
            [
             0.6,
             "#e6f5d0"
            ],
            [
             0.7,
             "#b8e186"
            ],
            [
             0.8,
             "#7fbc41"
            ],
            [
             0.9,
             "#4d9221"
            ],
            [
             1,
             "#276419"
            ]
           ],
           "sequential": [
            [
             0,
             "#0d0887"
            ],
            [
             0.1111111111111111,
             "#46039f"
            ],
            [
             0.2222222222222222,
             "#7201a8"
            ],
            [
             0.3333333333333333,
             "#9c179e"
            ],
            [
             0.4444444444444444,
             "#bd3786"
            ],
            [
             0.5555555555555556,
             "#d8576b"
            ],
            [
             0.6666666666666666,
             "#ed7953"
            ],
            [
             0.7777777777777778,
             "#fb9f3a"
            ],
            [
             0.8888888888888888,
             "#fdca26"
            ],
            [
             1,
             "#f0f921"
            ]
           ],
           "sequentialminus": [
            [
             0,
             "#0d0887"
            ],
            [
             0.1111111111111111,
             "#46039f"
            ],
            [
             0.2222222222222222,
             "#7201a8"
            ],
            [
             0.3333333333333333,
             "#9c179e"
            ],
            [
             0.4444444444444444,
             "#bd3786"
            ],
            [
             0.5555555555555556,
             "#d8576b"
            ],
            [
             0.6666666666666666,
             "#ed7953"
            ],
            [
             0.7777777777777778,
             "#fb9f3a"
            ],
            [
             0.8888888888888888,
             "#fdca26"
            ],
            [
             1,
             "#f0f921"
            ]
           ]
          },
          "colorway": [
           "#636efa",
           "#EF553B",
           "#00cc96",
           "#ab63fa",
           "#FFA15A",
           "#19d3f3",
           "#FF6692",
           "#B6E880",
           "#FF97FF",
           "#FECB52"
          ],
          "font": {
           "color": "#2a3f5f"
          },
          "geo": {
           "bgcolor": "white",
           "lakecolor": "white",
           "landcolor": "#E5ECF6",
           "showlakes": true,
           "showland": true,
           "subunitcolor": "white"
          },
          "hoverlabel": {
           "align": "left"
          },
          "hovermode": "closest",
          "mapbox": {
           "style": "light"
          },
          "paper_bgcolor": "white",
          "plot_bgcolor": "#E5ECF6",
          "polar": {
           "angularaxis": {
            "gridcolor": "white",
            "linecolor": "white",
            "ticks": ""
           },
           "bgcolor": "#E5ECF6",
           "radialaxis": {
            "gridcolor": "white",
            "linecolor": "white",
            "ticks": ""
           }
          },
          "scene": {
           "xaxis": {
            "backgroundcolor": "#E5ECF6",
            "gridcolor": "white",
            "gridwidth": 2,
            "linecolor": "white",
            "showbackground": true,
            "ticks": "",
            "zerolinecolor": "white"
           },
           "yaxis": {
            "backgroundcolor": "#E5ECF6",
            "gridcolor": "white",
            "gridwidth": 2,
            "linecolor": "white",
            "showbackground": true,
            "ticks": "",
            "zerolinecolor": "white"
           },
           "zaxis": {
            "backgroundcolor": "#E5ECF6",
            "gridcolor": "white",
            "gridwidth": 2,
            "linecolor": "white",
            "showbackground": true,
            "ticks": "",
            "zerolinecolor": "white"
           }
          },
          "shapedefaults": {
           "line": {
            "color": "#2a3f5f"
           }
          },
          "ternary": {
           "aaxis": {
            "gridcolor": "white",
            "linecolor": "white",
            "ticks": ""
           },
           "baxis": {
            "gridcolor": "white",
            "linecolor": "white",
            "ticks": ""
           },
           "bgcolor": "#E5ECF6",
           "caxis": {
            "gridcolor": "white",
            "linecolor": "white",
            "ticks": ""
           }
          },
          "title": {
           "x": 0.05
          },
          "xaxis": {
           "automargin": true,
           "gridcolor": "white",
           "linecolor": "white",
           "ticks": "",
           "title": {
            "standoff": 15
           },
           "zerolinecolor": "white",
           "zerolinewidth": 2
          },
          "yaxis": {
           "automargin": true,
           "gridcolor": "white",
           "linecolor": "white",
           "ticks": "",
           "title": {
            "standoff": 15
           },
           "zerolinecolor": "white",
           "zerolinewidth": 2
          }
         }
        },
        "title": {
         "font": {
          "size": 24
         },
         "text": "귀하는 산림문화 활동 또는 프로그램에 누구와 함께 참여하고 싶으싶니까? - 일반국민"
        },
        "width": 1400
       }
      }
     },
     "metadata": {},
     "output_type": "display_data"
    }
   ],
   "source": [
    "import plotly.express as px\n",
    "\n",
    "# 빈도를 비율로 변환\n",
    "frequency8_common['비율'] = frequency8_common['빈도'] / frequency8_common['빈도'].sum()\n",
    "\n",
    "# 파이 차트 시각화 (크기 조절)\n",
    "fig = px.pie(frequency8_common, values='비율', names='값', hole=0.2,\n",
    "                color_discrete_sequence=color_scale)\n",
    "fig.update_layout(\n",
    "        title={\n",
    "        'text': '귀하는 산림문화 활동 또는 프로그램에 누구와 함께 참여하고 싶으싶니까? - 일반국민',\n",
    "        'font': {'size': 24}  # 제목의 폰트 크기 설정\n",
    "    },\n",
    "    font=dict(size=13),\n",
    "    height=900,  # 그림의 높이 설정\n",
    "    width=1400,    # 그림의 너비 설정\n",
    "    legend=dict(x=0.9, y=0.5)  # 범례 위치 조정 (x, y 조절 가능)\n",
    ")\n",
    "# 차트 내에 비율 숫자 직접 표시\n",
    "pull_lst = [0.01] * 6\n",
    "fig.update_traces(textinfo='percent+label', pull=pull_lst, insidetextorientation='horizontal')  # 비율 숫자를 라벨과 함께 표시\n",
    "\n",
    "fig.show()"
   ]
  },
  {
   "attachments": {},
   "cell_type": "markdown",
   "metadata": {},
   "source": [
    "### 카이제곱검정"
   ]
  },
  {
   "cell_type": "code",
   "execution_count": 121,
   "metadata": {},
   "outputs": [
    {
     "data": {
      "text/html": [
       "<div>\n",
       "<style scoped>\n",
       "    .dataframe tbody tr th:only-of-type {\n",
       "        vertical-align: middle;\n",
       "    }\n",
       "\n",
       "    .dataframe tbody tr th {\n",
       "        vertical-align: top;\n",
       "    }\n",
       "\n",
       "    .dataframe thead th {\n",
       "        text-align: right;\n",
       "    }\n",
       "</style>\n",
       "<table border=\"1\" class=\"dataframe\">\n",
       "  <thead>\n",
       "    <tr style=\"text-align: right;\">\n",
       "      <th></th>\n",
       "      <th>비율</th>\n",
       "      <th>비율</th>\n",
       "    </tr>\n",
       "    <tr>\n",
       "      <th>값</th>\n",
       "      <th></th>\n",
       "      <th></th>\n",
       "    </tr>\n",
       "  </thead>\n",
       "  <tbody>\n",
       "    <tr>\n",
       "      <th>가족과 함께</th>\n",
       "      <td>0.390476</td>\n",
       "      <td>0.621265</td>\n",
       "    </tr>\n",
       "    <tr>\n",
       "      <th>친구 또는 연인과 함께</th>\n",
       "      <td>0.314286</td>\n",
       "      <td>0.222320</td>\n",
       "    </tr>\n",
       "    <tr>\n",
       "      <th>직장동료와 함께</th>\n",
       "      <td>0.104762</td>\n",
       "      <td>0.036907</td>\n",
       "    </tr>\n",
       "    <tr>\n",
       "      <th>친목단체 또는 모임에서</th>\n",
       "      <td>0.095238</td>\n",
       "      <td>0.034271</td>\n",
       "    </tr>\n",
       "    <tr>\n",
       "      <th>학교에서</th>\n",
       "      <td>0.057143</td>\n",
       "      <td>0.002636</td>\n",
       "    </tr>\n",
       "    <tr>\n",
       "      <th>혼자</th>\n",
       "      <td>0.038095</td>\n",
       "      <td>0.080844</td>\n",
       "    </tr>\n",
       "    <tr>\n",
       "      <th>기타</th>\n",
       "      <td>0.000000</td>\n",
       "      <td>0.001757</td>\n",
       "    </tr>\n",
       "  </tbody>\n",
       "</table>\n",
       "</div>"
      ],
      "text/plain": [
       "                    비율        비율\n",
       "값                               \n",
       "가족과 함께        0.390476  0.621265\n",
       "친구 또는 연인과 함께  0.314286  0.222320\n",
       "직장동료와 함께      0.104762  0.036907\n",
       "친목단체 또는 모임에서  0.095238  0.034271\n",
       "학교에서          0.057143  0.002636\n",
       "혼자            0.038095  0.080844\n",
       "기타            0.000000  0.001757"
      ]
     },
     "execution_count": 121,
     "metadata": {},
     "output_type": "execute_result"
    }
   ],
   "source": [
    "import pandas as pd\n",
    "\n",
    "# '값' 열을 인덱스로 설정\n",
    "df1 = frequency8.set_index('값')[['비율']]\n",
    "df2 = frequency8_common.set_index('값')[['비율']]\n",
    "\n",
    "# 두 데이터프레임을 합쳐서 교차표를 생성\n",
    "cross_table = pd.concat([df1, df2], axis=1, sort=False).fillna(0)\n",
    "\n",
    "# 교차표 출력\n",
    "cross_table"
   ]
  },
  {
   "cell_type": "code",
   "execution_count": 122,
   "metadata": {},
   "outputs": [
    {
     "name": "stdout",
     "output_type": "stream",
     "text": [
      "카이제곱 검정 통계량: 0.19642964531911106\n",
      "p-값: 0.999853287127248\n",
      "자유도: 6\n",
      "기대값 테이블:\n",
      "[[0.50587078 0.50587078]\n",
      " [0.26830279 0.26830279]\n",
      " [0.07083438 0.07083438]\n",
      " [0.06475437 0.06475437]\n",
      " [0.02988953 0.02988953]\n",
      " [0.05946941 0.05946941]\n",
      " [0.00087873 0.00087873]]\n"
     ]
    }
   ],
   "source": [
    "from scipy.stats import chi2_contingency\n",
    "\n",
    "# 카이제곱 검정 수행\n",
    "chi2, p, dof, expected = chi2_contingency(cross_table)\n",
    "\n",
    "# 결과 출력\n",
    "print(\"카이제곱 검정 통계량:\", chi2)\n",
    "print(\"p-값:\", p)\n",
    "print(\"자유도:\", dof)\n",
    "print(\"기대값 테이블:\")\n",
    "print(expected)"
   ]
  },
  {
   "attachments": {},
   "cell_type": "markdown",
   "metadata": {},
   "source": [
    "### 합산한 표 생성"
   ]
  },
  {
   "cell_type": "code",
   "execution_count": 33,
   "metadata": {},
   "outputs": [
    {
     "name": "stderr",
     "output_type": "stream",
     "text": [
      "C:\\Users\\user\\AppData\\Local\\Temp\\ipykernel_19340\\1034215163.py:46: FutureWarning:\n",
      "\n",
      "The behavior of DataFrame concatenation with empty or all-NA entries is deprecated. In a future version, this will no longer exclude empty or all-NA columns when determining the result dtypes. To retain the old behavior, exclude the relevant entries before the concat operation.\n",
      "\n"
     ]
    },
    {
     "data": {
      "text/html": [
       "<div>\n",
       "<style scoped>\n",
       "    .dataframe tbody tr th:only-of-type {\n",
       "        vertical-align: middle;\n",
       "    }\n",
       "\n",
       "    .dataframe tbody tr th {\n",
       "        vertical-align: top;\n",
       "    }\n",
       "\n",
       "    .dataframe thead th {\n",
       "        text-align: right;\n",
       "    }\n",
       "</style>\n",
       "<table border=\"1\" class=\"dataframe\">\n",
       "  <thead>\n",
       "    <tr style=\"text-align: right;\">\n",
       "      <th></th>\n",
       "      <th></th>\n",
       "      <th>혼자-빈도</th>\n",
       "      <th>혼자-비율</th>\n",
       "      <th>가족과 함께-빈도</th>\n",
       "      <th>가족과 함께-비율</th>\n",
       "      <th>친구 또는 연인과 함께-빈도</th>\n",
       "      <th>친구 또는 연인과 함께-비율</th>\n",
       "      <th>직장동료와 함께-빈도</th>\n",
       "      <th>직장동료와 함께-비율</th>\n",
       "      <th>친목단체 또는 모임에서-빈도</th>\n",
       "      <th>친목단체 또는 모임에서-비율</th>\n",
       "      <th>학교에서-빈도</th>\n",
       "      <th>학교에서-비율</th>\n",
       "      <th>기타-빈도</th>\n",
       "      <th>기타-비율</th>\n",
       "      <th>사례수</th>\n",
       "    </tr>\n",
       "  </thead>\n",
       "  <tbody>\n",
       "    <tr>\n",
       "      <th rowspan=\"2\" valign=\"top\">성별</th>\n",
       "      <th>남성</th>\n",
       "      <td>2</td>\n",
       "      <td>4.0</td>\n",
       "      <td>21</td>\n",
       "      <td>42.0</td>\n",
       "      <td>15</td>\n",
       "      <td>30.0</td>\n",
       "      <td>3</td>\n",
       "      <td>6.0</td>\n",
       "      <td>4</td>\n",
       "      <td>8.0</td>\n",
       "      <td>5</td>\n",
       "      <td>10.0</td>\n",
       "      <td>0</td>\n",
       "      <td>0.0</td>\n",
       "      <td>50</td>\n",
       "    </tr>\n",
       "    <tr>\n",
       "      <th>여성</th>\n",
       "      <td>2</td>\n",
       "      <td>3.6</td>\n",
       "      <td>20</td>\n",
       "      <td>36.4</td>\n",
       "      <td>18</td>\n",
       "      <td>32.7</td>\n",
       "      <td>8</td>\n",
       "      <td>14.5</td>\n",
       "      <td>6</td>\n",
       "      <td>10.9</td>\n",
       "      <td>1</td>\n",
       "      <td>1.8</td>\n",
       "      <td>0</td>\n",
       "      <td>0.0</td>\n",
       "      <td>55</td>\n",
       "    </tr>\n",
       "    <tr>\n",
       "      <th rowspan=\"6\" valign=\"top\">연령</th>\n",
       "      <th>10대(15세이상)</th>\n",
       "      <td>1</td>\n",
       "      <td>14.3</td>\n",
       "      <td>1</td>\n",
       "      <td>14.3</td>\n",
       "      <td>4</td>\n",
       "      <td>57.1</td>\n",
       "      <td>0</td>\n",
       "      <td>0.0</td>\n",
       "      <td>0</td>\n",
       "      <td>0.0</td>\n",
       "      <td>1</td>\n",
       "      <td>14.3</td>\n",
       "      <td>0</td>\n",
       "      <td>0.0</td>\n",
       "      <td>7</td>\n",
       "    </tr>\n",
       "    <tr>\n",
       "      <th>20대</th>\n",
       "      <td>1</td>\n",
       "      <td>3.6</td>\n",
       "      <td>7</td>\n",
       "      <td>25.0</td>\n",
       "      <td>14</td>\n",
       "      <td>50.0</td>\n",
       "      <td>0</td>\n",
       "      <td>0.0</td>\n",
       "      <td>1</td>\n",
       "      <td>3.6</td>\n",
       "      <td>5</td>\n",
       "      <td>17.9</td>\n",
       "      <td>0</td>\n",
       "      <td>0.0</td>\n",
       "      <td>28</td>\n",
       "    </tr>\n",
       "    <tr>\n",
       "      <th>30대</th>\n",
       "      <td>2</td>\n",
       "      <td>14.3</td>\n",
       "      <td>8</td>\n",
       "      <td>57.1</td>\n",
       "      <td>3</td>\n",
       "      <td>21.4</td>\n",
       "      <td>1</td>\n",
       "      <td>7.1</td>\n",
       "      <td>0</td>\n",
       "      <td>0.0</td>\n",
       "      <td>0</td>\n",
       "      <td>0.0</td>\n",
       "      <td>0</td>\n",
       "      <td>0.0</td>\n",
       "      <td>14</td>\n",
       "    </tr>\n",
       "    <tr>\n",
       "      <th>40대</th>\n",
       "      <td>0</td>\n",
       "      <td>0.0</td>\n",
       "      <td>11</td>\n",
       "      <td>78.6</td>\n",
       "      <td>0</td>\n",
       "      <td>0.0</td>\n",
       "      <td>3</td>\n",
       "      <td>21.4</td>\n",
       "      <td>0</td>\n",
       "      <td>0.0</td>\n",
       "      <td>0</td>\n",
       "      <td>0.0</td>\n",
       "      <td>0</td>\n",
       "      <td>0.0</td>\n",
       "      <td>14</td>\n",
       "    </tr>\n",
       "    <tr>\n",
       "      <th>50대</th>\n",
       "      <td>0</td>\n",
       "      <td>0.0</td>\n",
       "      <td>7</td>\n",
       "      <td>36.8</td>\n",
       "      <td>5</td>\n",
       "      <td>26.3</td>\n",
       "      <td>5</td>\n",
       "      <td>26.3</td>\n",
       "      <td>2</td>\n",
       "      <td>10.5</td>\n",
       "      <td>0</td>\n",
       "      <td>0.0</td>\n",
       "      <td>0</td>\n",
       "      <td>0.0</td>\n",
       "      <td>19</td>\n",
       "    </tr>\n",
       "    <tr>\n",
       "      <th>60대이상</th>\n",
       "      <td>0</td>\n",
       "      <td>0.0</td>\n",
       "      <td>7</td>\n",
       "      <td>30.4</td>\n",
       "      <td>7</td>\n",
       "      <td>30.4</td>\n",
       "      <td>2</td>\n",
       "      <td>8.7</td>\n",
       "      <td>7</td>\n",
       "      <td>30.4</td>\n",
       "      <td>0</td>\n",
       "      <td>0.0</td>\n",
       "      <td>0</td>\n",
       "      <td>0.0</td>\n",
       "      <td>23</td>\n",
       "    </tr>\n",
       "    <tr>\n",
       "      <th rowspan=\"9\" valign=\"top\">학력</th>\n",
       "      <th>초등학교 졸업(무학 포함)</th>\n",
       "      <td>0</td>\n",
       "      <td>0.0</td>\n",
       "      <td>0</td>\n",
       "      <td>0.0</td>\n",
       "      <td>2</td>\n",
       "      <td>50.0</td>\n",
       "      <td>0</td>\n",
       "      <td>0.0</td>\n",
       "      <td>2</td>\n",
       "      <td>50.0</td>\n",
       "      <td>0</td>\n",
       "      <td>0.0</td>\n",
       "      <td>0</td>\n",
       "      <td>0.0</td>\n",
       "      <td>4</td>\n",
       "    </tr>\n",
       "    <tr>\n",
       "      <th>중학교 재학</th>\n",
       "      <td>1</td>\n",
       "      <td>10.0</td>\n",
       "      <td>1</td>\n",
       "      <td>10.0</td>\n",
       "      <td>4</td>\n",
       "      <td>40.0</td>\n",
       "      <td>0</td>\n",
       "      <td>0.0</td>\n",
       "      <td>3</td>\n",
       "      <td>30.0</td>\n",
       "      <td>1</td>\n",
       "      <td>10.0</td>\n",
       "      <td>0</td>\n",
       "      <td>0.0</td>\n",
       "      <td>10</td>\n",
       "    </tr>\n",
       "    <tr>\n",
       "      <th>중학교 졸업</th>\n",
       "      <td>0</td>\n",
       "      <td>0.0</td>\n",
       "      <td>1</td>\n",
       "      <td>25.0</td>\n",
       "      <td>2</td>\n",
       "      <td>50.0</td>\n",
       "      <td>0</td>\n",
       "      <td>0.0</td>\n",
       "      <td>1</td>\n",
       "      <td>25.0</td>\n",
       "      <td>0</td>\n",
       "      <td>0.0</td>\n",
       "      <td>0</td>\n",
       "      <td>0.0</td>\n",
       "      <td>4</td>\n",
       "    </tr>\n",
       "    <tr>\n",
       "      <th>고등학교 재학</th>\n",
       "      <td>0</td>\n",
       "      <td>0.0</td>\n",
       "      <td>0</td>\n",
       "      <td>0.0</td>\n",
       "      <td>2</td>\n",
       "      <td>100.0</td>\n",
       "      <td>0</td>\n",
       "      <td>0.0</td>\n",
       "      <td>0</td>\n",
       "      <td>0.0</td>\n",
       "      <td>0</td>\n",
       "      <td>0.0</td>\n",
       "      <td>0</td>\n",
       "      <td>0.0</td>\n",
       "      <td>2</td>\n",
       "    </tr>\n",
       "    <tr>\n",
       "      <th>고등학교 졸업</th>\n",
       "      <td>0</td>\n",
       "      <td>0.0</td>\n",
       "      <td>3</td>\n",
       "      <td>27.3</td>\n",
       "      <td>3</td>\n",
       "      <td>27.3</td>\n",
       "      <td>2</td>\n",
       "      <td>18.2</td>\n",
       "      <td>3</td>\n",
       "      <td>27.3</td>\n",
       "      <td>0</td>\n",
       "      <td>0.0</td>\n",
       "      <td>0</td>\n",
       "      <td>0.0</td>\n",
       "      <td>11</td>\n",
       "    </tr>\n",
       "    <tr>\n",
       "      <th>대학교 재학</th>\n",
       "      <td>0</td>\n",
       "      <td>0.0</td>\n",
       "      <td>5</td>\n",
       "      <td>20.0</td>\n",
       "      <td>14</td>\n",
       "      <td>56.0</td>\n",
       "      <td>0</td>\n",
       "      <td>0.0</td>\n",
       "      <td>1</td>\n",
       "      <td>4.0</td>\n",
       "      <td>5</td>\n",
       "      <td>20.0</td>\n",
       "      <td>0</td>\n",
       "      <td>0.0</td>\n",
       "      <td>25</td>\n",
       "    </tr>\n",
       "    <tr>\n",
       "      <th>대학교 졸업</th>\n",
       "      <td>3</td>\n",
       "      <td>7.1</td>\n",
       "      <td>26</td>\n",
       "      <td>61.9</td>\n",
       "      <td>6</td>\n",
       "      <td>14.3</td>\n",
       "      <td>7</td>\n",
       "      <td>16.7</td>\n",
       "      <td>0</td>\n",
       "      <td>0.0</td>\n",
       "      <td>0</td>\n",
       "      <td>0.0</td>\n",
       "      <td>0</td>\n",
       "      <td>0.0</td>\n",
       "      <td>42</td>\n",
       "    </tr>\n",
       "    <tr>\n",
       "      <th>대학원 재학(석사 또는 박사)</th>\n",
       "      <td>0</td>\n",
       "      <td>0.0</td>\n",
       "      <td>2</td>\n",
       "      <td>100.0</td>\n",
       "      <td>0</td>\n",
       "      <td>0.0</td>\n",
       "      <td>0</td>\n",
       "      <td>0.0</td>\n",
       "      <td>0</td>\n",
       "      <td>0.0</td>\n",
       "      <td>0</td>\n",
       "      <td>0.0</td>\n",
       "      <td>0</td>\n",
       "      <td>0.0</td>\n",
       "      <td>2</td>\n",
       "    </tr>\n",
       "    <tr>\n",
       "      <th>대학원 졸업(석사또는 박사)</th>\n",
       "      <td>0</td>\n",
       "      <td>0.0</td>\n",
       "      <td>3</td>\n",
       "      <td>60.0</td>\n",
       "      <td>0</td>\n",
       "      <td>0.0</td>\n",
       "      <td>2</td>\n",
       "      <td>40.0</td>\n",
       "      <td>0</td>\n",
       "      <td>0.0</td>\n",
       "      <td>0</td>\n",
       "      <td>0.0</td>\n",
       "      <td>0</td>\n",
       "      <td>0.0</td>\n",
       "      <td>5</td>\n",
       "    </tr>\n",
       "    <tr>\n",
       "      <th rowspan=\"17\" valign=\"top\">거주지역</th>\n",
       "      <th>서울</th>\n",
       "      <td>1</td>\n",
       "      <td>10.0</td>\n",
       "      <td>7</td>\n",
       "      <td>70.0</td>\n",
       "      <td>2</td>\n",
       "      <td>20.0</td>\n",
       "      <td>0</td>\n",
       "      <td>0.0</td>\n",
       "      <td>0</td>\n",
       "      <td>0.0</td>\n",
       "      <td>0</td>\n",
       "      <td>0.0</td>\n",
       "      <td>0</td>\n",
       "      <td>0.0</td>\n",
       "      <td>10</td>\n",
       "    </tr>\n",
       "    <tr>\n",
       "      <th>부산</th>\n",
       "      <td>0</td>\n",
       "      <td>0.0</td>\n",
       "      <td>0</td>\n",
       "      <td>0.0</td>\n",
       "      <td>0</td>\n",
       "      <td>0.0</td>\n",
       "      <td>0</td>\n",
       "      <td>0.0</td>\n",
       "      <td>0</td>\n",
       "      <td>0.0</td>\n",
       "      <td>0</td>\n",
       "      <td>0.0</td>\n",
       "      <td>0</td>\n",
       "      <td>0.0</td>\n",
       "      <td>0</td>\n",
       "    </tr>\n",
       "    <tr>\n",
       "      <th>대구</th>\n",
       "      <td>0</td>\n",
       "      <td>0.0</td>\n",
       "      <td>0</td>\n",
       "      <td>0.0</td>\n",
       "      <td>0</td>\n",
       "      <td>0.0</td>\n",
       "      <td>0</td>\n",
       "      <td>0.0</td>\n",
       "      <td>0</td>\n",
       "      <td>0.0</td>\n",
       "      <td>0</td>\n",
       "      <td>0.0</td>\n",
       "      <td>0</td>\n",
       "      <td>0.0</td>\n",
       "      <td>0</td>\n",
       "    </tr>\n",
       "    <tr>\n",
       "      <th>인천</th>\n",
       "      <td>0</td>\n",
       "      <td>0.0</td>\n",
       "      <td>0</td>\n",
       "      <td>0.0</td>\n",
       "      <td>0</td>\n",
       "      <td>0.0</td>\n",
       "      <td>0</td>\n",
       "      <td>0.0</td>\n",
       "      <td>1</td>\n",
       "      <td>50.0</td>\n",
       "      <td>1</td>\n",
       "      <td>50.0</td>\n",
       "      <td>0</td>\n",
       "      <td>0.0</td>\n",
       "      <td>2</td>\n",
       "    </tr>\n",
       "    <tr>\n",
       "      <th>광주</th>\n",
       "      <td>1</td>\n",
       "      <td>100.0</td>\n",
       "      <td>0</td>\n",
       "      <td>0.0</td>\n",
       "      <td>0</td>\n",
       "      <td>0.0</td>\n",
       "      <td>0</td>\n",
       "      <td>0.0</td>\n",
       "      <td>0</td>\n",
       "      <td>0.0</td>\n",
       "      <td>0</td>\n",
       "      <td>0.0</td>\n",
       "      <td>0</td>\n",
       "      <td>0.0</td>\n",
       "      <td>1</td>\n",
       "    </tr>\n",
       "    <tr>\n",
       "      <th>대전</th>\n",
       "      <td>0</td>\n",
       "      <td>0.0</td>\n",
       "      <td>0</td>\n",
       "      <td>0.0</td>\n",
       "      <td>0</td>\n",
       "      <td>0.0</td>\n",
       "      <td>0</td>\n",
       "      <td>0.0</td>\n",
       "      <td>0</td>\n",
       "      <td>0.0</td>\n",
       "      <td>0</td>\n",
       "      <td>0.0</td>\n",
       "      <td>0</td>\n",
       "      <td>0.0</td>\n",
       "      <td>0</td>\n",
       "    </tr>\n",
       "    <tr>\n",
       "      <th>울산</th>\n",
       "      <td>0</td>\n",
       "      <td>0.0</td>\n",
       "      <td>0</td>\n",
       "      <td>0.0</td>\n",
       "      <td>0</td>\n",
       "      <td>0.0</td>\n",
       "      <td>0</td>\n",
       "      <td>0.0</td>\n",
       "      <td>0</td>\n",
       "      <td>0.0</td>\n",
       "      <td>0</td>\n",
       "      <td>0.0</td>\n",
       "      <td>0</td>\n",
       "      <td>0.0</td>\n",
       "      <td>0</td>\n",
       "    </tr>\n",
       "    <tr>\n",
       "      <th>세종</th>\n",
       "      <td>0</td>\n",
       "      <td>0.0</td>\n",
       "      <td>0</td>\n",
       "      <td>0.0</td>\n",
       "      <td>0</td>\n",
       "      <td>0.0</td>\n",
       "      <td>0</td>\n",
       "      <td>0.0</td>\n",
       "      <td>0</td>\n",
       "      <td>0.0</td>\n",
       "      <td>0</td>\n",
       "      <td>0.0</td>\n",
       "      <td>0</td>\n",
       "      <td>0.0</td>\n",
       "      <td>0</td>\n",
       "    </tr>\n",
       "    <tr>\n",
       "      <th>경기</th>\n",
       "      <td>0</td>\n",
       "      <td>0.0</td>\n",
       "      <td>3</td>\n",
       "      <td>13.0</td>\n",
       "      <td>11</td>\n",
       "      <td>47.8</td>\n",
       "      <td>2</td>\n",
       "      <td>8.7</td>\n",
       "      <td>4</td>\n",
       "      <td>17.4</td>\n",
       "      <td>3</td>\n",
       "      <td>13.0</td>\n",
       "      <td>0</td>\n",
       "      <td>0.0</td>\n",
       "      <td>23</td>\n",
       "    </tr>\n",
       "    <tr>\n",
       "      <th>강원</th>\n",
       "      <td>2</td>\n",
       "      <td>3.0</td>\n",
       "      <td>29</td>\n",
       "      <td>43.3</td>\n",
       "      <td>20</td>\n",
       "      <td>29.9</td>\n",
       "      <td>9</td>\n",
       "      <td>13.4</td>\n",
       "      <td>5</td>\n",
       "      <td>7.5</td>\n",
       "      <td>2</td>\n",
       "      <td>3.0</td>\n",
       "      <td>0</td>\n",
       "      <td>0.0</td>\n",
       "      <td>67</td>\n",
       "    </tr>\n",
       "    <tr>\n",
       "      <th>충북</th>\n",
       "      <td>0</td>\n",
       "      <td>0.0</td>\n",
       "      <td>0</td>\n",
       "      <td>0.0</td>\n",
       "      <td>0</td>\n",
       "      <td>0.0</td>\n",
       "      <td>0</td>\n",
       "      <td>0.0</td>\n",
       "      <td>0</td>\n",
       "      <td>0.0</td>\n",
       "      <td>0</td>\n",
       "      <td>0.0</td>\n",
       "      <td>0</td>\n",
       "      <td>0.0</td>\n",
       "      <td>0</td>\n",
       "    </tr>\n",
       "    <tr>\n",
       "      <th>충남</th>\n",
       "      <td>0</td>\n",
       "      <td>0.0</td>\n",
       "      <td>0</td>\n",
       "      <td>0.0</td>\n",
       "      <td>0</td>\n",
       "      <td>0.0</td>\n",
       "      <td>0</td>\n",
       "      <td>0.0</td>\n",
       "      <td>0</td>\n",
       "      <td>0.0</td>\n",
       "      <td>0</td>\n",
       "      <td>0.0</td>\n",
       "      <td>0</td>\n",
       "      <td>0.0</td>\n",
       "      <td>0</td>\n",
       "    </tr>\n",
       "    <tr>\n",
       "      <th>전북</th>\n",
       "      <td>0</td>\n",
       "      <td>0.0</td>\n",
       "      <td>0</td>\n",
       "      <td>0.0</td>\n",
       "      <td>0</td>\n",
       "      <td>0.0</td>\n",
       "      <td>0</td>\n",
       "      <td>0.0</td>\n",
       "      <td>0</td>\n",
       "      <td>0.0</td>\n",
       "      <td>0</td>\n",
       "      <td>0.0</td>\n",
       "      <td>0</td>\n",
       "      <td>0.0</td>\n",
       "      <td>0</td>\n",
       "    </tr>\n",
       "    <tr>\n",
       "      <th>전남</th>\n",
       "      <td>0</td>\n",
       "      <td>0.0</td>\n",
       "      <td>1</td>\n",
       "      <td>100.0</td>\n",
       "      <td>0</td>\n",
       "      <td>0.0</td>\n",
       "      <td>0</td>\n",
       "      <td>0.0</td>\n",
       "      <td>0</td>\n",
       "      <td>0.0</td>\n",
       "      <td>0</td>\n",
       "      <td>0.0</td>\n",
       "      <td>0</td>\n",
       "      <td>0.0</td>\n",
       "      <td>1</td>\n",
       "    </tr>\n",
       "    <tr>\n",
       "      <th>경북</th>\n",
       "      <td>0</td>\n",
       "      <td>0.0</td>\n",
       "      <td>1</td>\n",
       "      <td>100.0</td>\n",
       "      <td>0</td>\n",
       "      <td>0.0</td>\n",
       "      <td>0</td>\n",
       "      <td>0.0</td>\n",
       "      <td>0</td>\n",
       "      <td>0.0</td>\n",
       "      <td>0</td>\n",
       "      <td>0.0</td>\n",
       "      <td>0</td>\n",
       "      <td>0.0</td>\n",
       "      <td>1</td>\n",
       "    </tr>\n",
       "    <tr>\n",
       "      <th>경남</th>\n",
       "      <td>0</td>\n",
       "      <td>0.0</td>\n",
       "      <td>0</td>\n",
       "      <td>0.0</td>\n",
       "      <td>0</td>\n",
       "      <td>0.0</td>\n",
       "      <td>0</td>\n",
       "      <td>0.0</td>\n",
       "      <td>0</td>\n",
       "      <td>0.0</td>\n",
       "      <td>0</td>\n",
       "      <td>0.0</td>\n",
       "      <td>0</td>\n",
       "      <td>0.0</td>\n",
       "      <td>0</td>\n",
       "    </tr>\n",
       "    <tr>\n",
       "      <th>제주</th>\n",
       "      <td>0</td>\n",
       "      <td>0.0</td>\n",
       "      <td>0</td>\n",
       "      <td>0.0</td>\n",
       "      <td>0</td>\n",
       "      <td>0.0</td>\n",
       "      <td>0</td>\n",
       "      <td>0.0</td>\n",
       "      <td>0</td>\n",
       "      <td>0.0</td>\n",
       "      <td>0</td>\n",
       "      <td>0.0</td>\n",
       "      <td>0</td>\n",
       "      <td>0.0</td>\n",
       "      <td>0</td>\n",
       "    </tr>\n",
       "    <tr>\n",
       "      <th rowspan=\"13\" valign=\"top\">직업</th>\n",
       "      <th>산림임업종사자</th>\n",
       "      <td>1</td>\n",
       "      <td>9.1</td>\n",
       "      <td>3</td>\n",
       "      <td>27.3</td>\n",
       "      <td>3</td>\n",
       "      <td>27.3</td>\n",
       "      <td>3</td>\n",
       "      <td>27.3</td>\n",
       "      <td>1</td>\n",
       "      <td>9.1</td>\n",
       "      <td>0</td>\n",
       "      <td>0.0</td>\n",
       "      <td>0</td>\n",
       "      <td>0.0</td>\n",
       "      <td>11</td>\n",
       "    </tr>\n",
       "    <tr>\n",
       "      <th>사무종사자</th>\n",
       "      <td>0</td>\n",
       "      <td>0.0</td>\n",
       "      <td>4</td>\n",
       "      <td>100.0</td>\n",
       "      <td>0</td>\n",
       "      <td>0.0</td>\n",
       "      <td>0</td>\n",
       "      <td>0.0</td>\n",
       "      <td>0</td>\n",
       "      <td>0.0</td>\n",
       "      <td>0</td>\n",
       "      <td>0.0</td>\n",
       "      <td>0</td>\n",
       "      <td>0.0</td>\n",
       "      <td>4</td>\n",
       "    </tr>\n",
       "    <tr>\n",
       "      <th>서비스종사자</th>\n",
       "      <td>0</td>\n",
       "      <td>0.0</td>\n",
       "      <td>1</td>\n",
       "      <td>12.5</td>\n",
       "      <td>4</td>\n",
       "      <td>50.0</td>\n",
       "      <td>0</td>\n",
       "      <td>0.0</td>\n",
       "      <td>3</td>\n",
       "      <td>37.5</td>\n",
       "      <td>0</td>\n",
       "      <td>0.0</td>\n",
       "      <td>0</td>\n",
       "      <td>0.0</td>\n",
       "      <td>8</td>\n",
       "    </tr>\n",
       "    <tr>\n",
       "      <th>판매종사자</th>\n",
       "      <td>1</td>\n",
       "      <td>25.0</td>\n",
       "      <td>1</td>\n",
       "      <td>25.0</td>\n",
       "      <td>0</td>\n",
       "      <td>0.0</td>\n",
       "      <td>1</td>\n",
       "      <td>25.0</td>\n",
       "      <td>1</td>\n",
       "      <td>25.0</td>\n",
       "      <td>0</td>\n",
       "      <td>0.0</td>\n",
       "      <td>0</td>\n",
       "      <td>0.0</td>\n",
       "      <td>4</td>\n",
       "    </tr>\n",
       "    <tr>\n",
       "      <th>기술기능종사자</th>\n",
       "      <td>0</td>\n",
       "      <td>0.0</td>\n",
       "      <td>1</td>\n",
       "      <td>33.3</td>\n",
       "      <td>1</td>\n",
       "      <td>33.3</td>\n",
       "      <td>1</td>\n",
       "      <td>33.3</td>\n",
       "      <td>0</td>\n",
       "      <td>0.0</td>\n",
       "      <td>0</td>\n",
       "      <td>0.0</td>\n",
       "      <td>0</td>\n",
       "      <td>0.0</td>\n",
       "      <td>3</td>\n",
       "    </tr>\n",
       "    <tr>\n",
       "      <th>단순노무종사자</th>\n",
       "      <td>0</td>\n",
       "      <td>0.0</td>\n",
       "      <td>0</td>\n",
       "      <td>0.0</td>\n",
       "      <td>0</td>\n",
       "      <td>0.0</td>\n",
       "      <td>0</td>\n",
       "      <td>0.0</td>\n",
       "      <td>0</td>\n",
       "      <td>0.0</td>\n",
       "      <td>0</td>\n",
       "      <td>0.0</td>\n",
       "      <td>0</td>\n",
       "      <td>0.0</td>\n",
       "      <td>0</td>\n",
       "    </tr>\n",
       "    <tr>\n",
       "      <th>전문가(교수 포함)</th>\n",
       "      <td>0</td>\n",
       "      <td>0.0</td>\n",
       "      <td>2</td>\n",
       "      <td>66.7</td>\n",
       "      <td>1</td>\n",
       "      <td>33.3</td>\n",
       "      <td>0</td>\n",
       "      <td>0.0</td>\n",
       "      <td>0</td>\n",
       "      <td>0.0</td>\n",
       "      <td>0</td>\n",
       "      <td>0.0</td>\n",
       "      <td>0</td>\n",
       "      <td>0.0</td>\n",
       "      <td>3</td>\n",
       "    </tr>\n",
       "    <tr>\n",
       "      <th>경영직종사자</th>\n",
       "      <td>0</td>\n",
       "      <td>0.0</td>\n",
       "      <td>0</td>\n",
       "      <td>0.0</td>\n",
       "      <td>0</td>\n",
       "      <td>0.0</td>\n",
       "      <td>0</td>\n",
       "      <td>0.0</td>\n",
       "      <td>0</td>\n",
       "      <td>0.0</td>\n",
       "      <td>0</td>\n",
       "      <td>0.0</td>\n",
       "      <td>0</td>\n",
       "      <td>0.0</td>\n",
       "      <td>0</td>\n",
       "    </tr>\n",
       "    <tr>\n",
       "      <th>자영업자(개인사업자)</th>\n",
       "      <td>0</td>\n",
       "      <td>0.0</td>\n",
       "      <td>5</td>\n",
       "      <td>62.5</td>\n",
       "      <td>1</td>\n",
       "      <td>12.5</td>\n",
       "      <td>0</td>\n",
       "      <td>0.0</td>\n",
       "      <td>2</td>\n",
       "      <td>25.0</td>\n",
       "      <td>0</td>\n",
       "      <td>0.0</td>\n",
       "      <td>0</td>\n",
       "      <td>0.0</td>\n",
       "      <td>8</td>\n",
       "    </tr>\n",
       "    <tr>\n",
       "      <th>공무원(교사포함)</th>\n",
       "      <td>0</td>\n",
       "      <td>0.0</td>\n",
       "      <td>14</td>\n",
       "      <td>70.0</td>\n",
       "      <td>2</td>\n",
       "      <td>10.0</td>\n",
       "      <td>4</td>\n",
       "      <td>20.0</td>\n",
       "      <td>0</td>\n",
       "      <td>0.0</td>\n",
       "      <td>0</td>\n",
       "      <td>0.0</td>\n",
       "      <td>0</td>\n",
       "      <td>0.0</td>\n",
       "      <td>20</td>\n",
       "    </tr>\n",
       "    <tr>\n",
       "      <th>학생(대학원생포함)</th>\n",
       "      <td>2</td>\n",
       "      <td>6.1</td>\n",
       "      <td>6</td>\n",
       "      <td>18.2</td>\n",
       "      <td>18</td>\n",
       "      <td>54.5</td>\n",
       "      <td>0</td>\n",
       "      <td>0.0</td>\n",
       "      <td>1</td>\n",
       "      <td>3.0</td>\n",
       "      <td>6</td>\n",
       "      <td>18.2</td>\n",
       "      <td>0</td>\n",
       "      <td>0.0</td>\n",
       "      <td>33</td>\n",
       "    </tr>\n",
       "    <tr>\n",
       "      <th>전업주부</th>\n",
       "      <td>0</td>\n",
       "      <td>0.0</td>\n",
       "      <td>2</td>\n",
       "      <td>25.0</td>\n",
       "      <td>3</td>\n",
       "      <td>37.5</td>\n",
       "      <td>1</td>\n",
       "      <td>12.5</td>\n",
       "      <td>2</td>\n",
       "      <td>25.0</td>\n",
       "      <td>0</td>\n",
       "      <td>0.0</td>\n",
       "      <td>0</td>\n",
       "      <td>0.0</td>\n",
       "      <td>8</td>\n",
       "    </tr>\n",
       "    <tr>\n",
       "      <th>기타</th>\n",
       "      <td>0</td>\n",
       "      <td>0.0</td>\n",
       "      <td>2</td>\n",
       "      <td>66.7</td>\n",
       "      <td>0</td>\n",
       "      <td>0.0</td>\n",
       "      <td>1</td>\n",
       "      <td>33.3</td>\n",
       "      <td>0</td>\n",
       "      <td>0.0</td>\n",
       "      <td>0</td>\n",
       "      <td>0.0</td>\n",
       "      <td>0</td>\n",
       "      <td>0.0</td>\n",
       "      <td>3</td>\n",
       "    </tr>\n",
       "  </tbody>\n",
       "</table>\n",
       "</div>"
      ],
      "text/plain": [
       "                      혼자-빈도  혼자-비율 가족과 함께-빈도  가족과 함께-비율 친구 또는 연인과 함께-빈도  \\\n",
       "성별   남성                   2    4.0        21       42.0              15   \n",
       "     여성                   2    3.6        20       36.4              18   \n",
       "연령   10대(15세이상)           1   14.3         1       14.3               4   \n",
       "     20대                  1    3.6         7       25.0              14   \n",
       "     30대                  2   14.3         8       57.1               3   \n",
       "     40대                  0    0.0        11       78.6               0   \n",
       "     50대                  0    0.0         7       36.8               5   \n",
       "     60대이상                0    0.0         7       30.4               7   \n",
       "학력   초등학교 졸업(무학 포함)       0    0.0         0        0.0               2   \n",
       "     중학교 재학               1   10.0         1       10.0               4   \n",
       "     중학교 졸업               0    0.0         1       25.0               2   \n",
       "     고등학교 재학              0    0.0         0        0.0               2   \n",
       "     고등학교 졸업              0    0.0         3       27.3               3   \n",
       "     대학교 재학               0    0.0         5       20.0              14   \n",
       "     대학교 졸업               3    7.1        26       61.9               6   \n",
       "     대학원 재학(석사 또는 박사)     0    0.0         2      100.0               0   \n",
       "     대학원 졸업(석사또는 박사)      0    0.0         3       60.0               0   \n",
       "거주지역 서울                   1   10.0         7       70.0               2   \n",
       "     부산                   0    0.0         0        0.0               0   \n",
       "     대구                   0    0.0         0        0.0               0   \n",
       "     인천                   0    0.0         0        0.0               0   \n",
       "     광주                   1  100.0         0        0.0               0   \n",
       "     대전                   0    0.0         0        0.0               0   \n",
       "     울산                   0    0.0         0        0.0               0   \n",
       "     세종                   0    0.0         0        0.0               0   \n",
       "     경기                   0    0.0         3       13.0              11   \n",
       "     강원                   2    3.0        29       43.3              20   \n",
       "     충북                   0    0.0         0        0.0               0   \n",
       "     충남                   0    0.0         0        0.0               0   \n",
       "     전북                   0    0.0         0        0.0               0   \n",
       "     전남                   0    0.0         1      100.0               0   \n",
       "     경북                   0    0.0         1      100.0               0   \n",
       "     경남                   0    0.0         0        0.0               0   \n",
       "     제주                   0    0.0         0        0.0               0   \n",
       "직업   산림임업종사자              1    9.1         3       27.3               3   \n",
       "     사무종사자                0    0.0         4      100.0               0   \n",
       "     서비스종사자               0    0.0         1       12.5               4   \n",
       "     판매종사자                1   25.0         1       25.0               0   \n",
       "     기술기능종사자              0    0.0         1       33.3               1   \n",
       "     단순노무종사자              0    0.0         0        0.0               0   \n",
       "     전문가(교수 포함)           0    0.0         2       66.7               1   \n",
       "     경영직종사자               0    0.0         0        0.0               0   \n",
       "     자영업자(개인사업자)          0    0.0         5       62.5               1   \n",
       "     공무원(교사포함)            0    0.0        14       70.0               2   \n",
       "     학생(대학원생포함)           2    6.1         6       18.2              18   \n",
       "     전업주부                 0    0.0         2       25.0               3   \n",
       "     기타                   0    0.0         2       66.7               0   \n",
       "\n",
       "                       친구 또는 연인과 함께-비율 직장동료와 함께-빈도  직장동료와 함께-비율  \\\n",
       "성별   남성                           30.0           3          6.0   \n",
       "     여성                           32.7           8         14.5   \n",
       "연령   10대(15세이상)                   57.1           0          0.0   \n",
       "     20대                          50.0           0          0.0   \n",
       "     30대                          21.4           1          7.1   \n",
       "     40대                           0.0           3         21.4   \n",
       "     50대                          26.3           5         26.3   \n",
       "     60대이상                        30.4           2          8.7   \n",
       "학력   초등학교 졸업(무학 포함)               50.0           0          0.0   \n",
       "     중학교 재학                       40.0           0          0.0   \n",
       "     중학교 졸업                       50.0           0          0.0   \n",
       "     고등학교 재학                     100.0           0          0.0   \n",
       "     고등학교 졸업                      27.3           2         18.2   \n",
       "     대학교 재학                       56.0           0          0.0   \n",
       "     대학교 졸업                       14.3           7         16.7   \n",
       "     대학원 재학(석사 또는 박사)              0.0           0          0.0   \n",
       "     대학원 졸업(석사또는 박사)               0.0           2         40.0   \n",
       "거주지역 서울                           20.0           0          0.0   \n",
       "     부산                            0.0           0          0.0   \n",
       "     대구                            0.0           0          0.0   \n",
       "     인천                            0.0           0          0.0   \n",
       "     광주                            0.0           0          0.0   \n",
       "     대전                            0.0           0          0.0   \n",
       "     울산                            0.0           0          0.0   \n",
       "     세종                            0.0           0          0.0   \n",
       "     경기                           47.8           2          8.7   \n",
       "     강원                           29.9           9         13.4   \n",
       "     충북                            0.0           0          0.0   \n",
       "     충남                            0.0           0          0.0   \n",
       "     전북                            0.0           0          0.0   \n",
       "     전남                            0.0           0          0.0   \n",
       "     경북                            0.0           0          0.0   \n",
       "     경남                            0.0           0          0.0   \n",
       "     제주                            0.0           0          0.0   \n",
       "직업   산림임업종사자                      27.3           3         27.3   \n",
       "     사무종사자                         0.0           0          0.0   \n",
       "     서비스종사자                       50.0           0          0.0   \n",
       "     판매종사자                         0.0           1         25.0   \n",
       "     기술기능종사자                      33.3           1         33.3   \n",
       "     단순노무종사자                       0.0           0          0.0   \n",
       "     전문가(교수 포함)                   33.3           0          0.0   \n",
       "     경영직종사자                        0.0           0          0.0   \n",
       "     자영업자(개인사업자)                  12.5           0          0.0   \n",
       "     공무원(교사포함)                    10.0           4         20.0   \n",
       "     학생(대학원생포함)                   54.5           0          0.0   \n",
       "     전업주부                         37.5           1         12.5   \n",
       "     기타                            0.0           1         33.3   \n",
       "\n",
       "                      친목단체 또는 모임에서-빈도  친목단체 또는 모임에서-비율 학교에서-빈도  학교에서-비율 기타-빈도  \\\n",
       "성별   남성                             4              8.0       5     10.0     0   \n",
       "     여성                             6             10.9       1      1.8     0   \n",
       "연령   10대(15세이상)                     0              0.0       1     14.3     0   \n",
       "     20대                            1              3.6       5     17.9     0   \n",
       "     30대                            0              0.0       0      0.0     0   \n",
       "     40대                            0              0.0       0      0.0     0   \n",
       "     50대                            2             10.5       0      0.0     0   \n",
       "     60대이상                          7             30.4       0      0.0     0   \n",
       "학력   초등학교 졸업(무학 포함)                 2             50.0       0      0.0     0   \n",
       "     중학교 재학                         3             30.0       1     10.0     0   \n",
       "     중학교 졸업                         1             25.0       0      0.0     0   \n",
       "     고등학교 재학                        0              0.0       0      0.0     0   \n",
       "     고등학교 졸업                        3             27.3       0      0.0     0   \n",
       "     대학교 재학                         1              4.0       5     20.0     0   \n",
       "     대학교 졸업                         0              0.0       0      0.0     0   \n",
       "     대학원 재학(석사 또는 박사)               0              0.0       0      0.0     0   \n",
       "     대학원 졸업(석사또는 박사)                0              0.0       0      0.0     0   \n",
       "거주지역 서울                             0              0.0       0      0.0     0   \n",
       "     부산                             0              0.0       0      0.0     0   \n",
       "     대구                             0              0.0       0      0.0     0   \n",
       "     인천                             1             50.0       1     50.0     0   \n",
       "     광주                             0              0.0       0      0.0     0   \n",
       "     대전                             0              0.0       0      0.0     0   \n",
       "     울산                             0              0.0       0      0.0     0   \n",
       "     세종                             0              0.0       0      0.0     0   \n",
       "     경기                             4             17.4       3     13.0     0   \n",
       "     강원                             5              7.5       2      3.0     0   \n",
       "     충북                             0              0.0       0      0.0     0   \n",
       "     충남                             0              0.0       0      0.0     0   \n",
       "     전북                             0              0.0       0      0.0     0   \n",
       "     전남                             0              0.0       0      0.0     0   \n",
       "     경북                             0              0.0       0      0.0     0   \n",
       "     경남                             0              0.0       0      0.0     0   \n",
       "     제주                             0              0.0       0      0.0     0   \n",
       "직업   산림임업종사자                        1              9.1       0      0.0     0   \n",
       "     사무종사자                          0              0.0       0      0.0     0   \n",
       "     서비스종사자                         3             37.5       0      0.0     0   \n",
       "     판매종사자                          1             25.0       0      0.0     0   \n",
       "     기술기능종사자                        0              0.0       0      0.0     0   \n",
       "     단순노무종사자                        0              0.0       0      0.0     0   \n",
       "     전문가(교수 포함)                     0              0.0       0      0.0     0   \n",
       "     경영직종사자                         0              0.0       0      0.0     0   \n",
       "     자영업자(개인사업자)                    2             25.0       0      0.0     0   \n",
       "     공무원(교사포함)                      0              0.0       0      0.0     0   \n",
       "     학생(대학원생포함)                     1              3.0       6     18.2     0   \n",
       "     전업주부                           2             25.0       0      0.0     0   \n",
       "     기타                             0              0.0       0      0.0     0   \n",
       "\n",
       "                       기타-비율  사례수  \n",
       "성별   남성                  0.0   50  \n",
       "     여성                  0.0   55  \n",
       "연령   10대(15세이상)          0.0    7  \n",
       "     20대                 0.0   28  \n",
       "     30대                 0.0   14  \n",
       "     40대                 0.0   14  \n",
       "     50대                 0.0   19  \n",
       "     60대이상               0.0   23  \n",
       "학력   초등학교 졸업(무학 포함)      0.0    4  \n",
       "     중학교 재학              0.0   10  \n",
       "     중학교 졸업              0.0    4  \n",
       "     고등학교 재학             0.0    2  \n",
       "     고등학교 졸업             0.0   11  \n",
       "     대학교 재학              0.0   25  \n",
       "     대학교 졸업              0.0   42  \n",
       "     대학원 재학(석사 또는 박사)    0.0    2  \n",
       "     대학원 졸업(석사또는 박사)     0.0    5  \n",
       "거주지역 서울                  0.0   10  \n",
       "     부산                  0.0    0  \n",
       "     대구                  0.0    0  \n",
       "     인천                  0.0    2  \n",
       "     광주                  0.0    1  \n",
       "     대전                  0.0    0  \n",
       "     울산                  0.0    0  \n",
       "     세종                  0.0    0  \n",
       "     경기                  0.0   23  \n",
       "     강원                  0.0   67  \n",
       "     충북                  0.0    0  \n",
       "     충남                  0.0    0  \n",
       "     전북                  0.0    0  \n",
       "     전남                  0.0    1  \n",
       "     경북                  0.0    1  \n",
       "     경남                  0.0    0  \n",
       "     제주                  0.0    0  \n",
       "직업   산림임업종사자             0.0   11  \n",
       "     사무종사자               0.0    4  \n",
       "     서비스종사자              0.0    8  \n",
       "     판매종사자               0.0    4  \n",
       "     기술기능종사자             0.0    3  \n",
       "     단순노무종사자             0.0    0  \n",
       "     전문가(교수 포함)          0.0    3  \n",
       "     경영직종사자              0.0    0  \n",
       "     자영업자(개인사업자)         0.0    8  \n",
       "     공무원(교사포함)           0.0   20  \n",
       "     학생(대학원생포함)          0.0   33  \n",
       "     전업주부                0.0    8  \n",
       "     기타                  0.0    3  "
      ]
     },
     "execution_count": 33,
     "metadata": {},
     "output_type": "execute_result"
    }
   ],
   "source": [
    "# 응답자 특성별 표 정리\n",
    "q8 = ['혼자', '가족과 함께', '친구 또는 연인과 함께', '직장동료와 함께', '친목단체 또는 모임에서', '학교에서', '기타']\n",
    "combined_list = q8\n",
    "column_lst = []\n",
    "for i in combined_list:\n",
    "    column_lst.append(\"%s-빈도\"%i)\n",
    "    column_lst.append(\"%s-비율\"%i)\n",
    "resp_map_df = pd.DataFrame(columns = column_lst)\n",
    "\n",
    "# 응답자 설문 리스트 정의\n",
    "sq_lst = list(Resp_Character.keys())\n",
    "# 응답자 매핑 딕셔너리 정의\n",
    "sq_dic = {'성별': 'SQ1', '연령': 'SQ2_1', '학력': 'SQ3', '거주지역': 'SQ4', '직업': 'SQ5'}\n",
    "\n",
    "# 멀티인덱스를 위한 리스트 생성\n",
    "mult_idx = []\n",
    "\n",
    "for sq in sq_lst:\n",
    "    for val in list(Resp_Character[sq].values()):\n",
    "        # 멀티인덱스 추가\n",
    "        mult_idx.append(sq)\n",
    "        # 응답자 특성 값으로 필터링\n",
    "        filtered_rows = df_expo[df_expo[sq_dic[sq]] == val].reset_index(drop=True)\n",
    "        frequency_rate_df = filtered_rows['Q8'].value_counts().reset_index()\n",
    "        frequency_rate_df.columns = ['값', '빈도']\n",
    "        frequency_rate_df['값'] = map_val(frequency_rate_df['값'], Q8_map)\n",
    "        frequency_rate_df['비율'] = round((frequency_rate_df['빈도'] / frequency_rate_df['빈도'].sum())*100,1)\n",
    "        frequency_rate_df = frequency_rate_df.set_index(keys='값')\n",
    "        \n",
    "        resp_map = {}\n",
    "        for i in resp_map_df.columns:\n",
    "            if i.endswith('빈도'):\n",
    "                resp_map[i] = [0]\n",
    "            else:\n",
    "                resp_map[i] = [0.0]\n",
    "\n",
    "        for i in resp_map_df.columns:           \n",
    "            response, method = i.split('-')\n",
    "            try:\n",
    "                resp_map[i][0] = frequency_rate_df.loc[response, method]\n",
    "            except:\n",
    "                pass\n",
    "        else:\n",
    "            map_df = pd.DataFrame(resp_map)\n",
    "            map_df.index = [val]\n",
    "            resp_map_df = pd.concat([resp_map_df,map_df])\n",
    "resp_map_df['사례수'] = resp_map_df.filter(like='빈도').sum(axis=1).astype(int)\n",
    "# 멀티인덱스 생성\n",
    "resp_map_df.set_index([mult_idx, resp_map_df.index], inplace=True)\n",
    "resp_map_df"
   ]
  }
 ],
 "metadata": {
  "kernelspec": {
   "display_name": "Python 3.10.9 ('base')",
   "language": "python",
   "name": "python3"
  },
  "language_info": {
   "codemirror_mode": {
    "name": "ipython",
    "version": 3
   },
   "file_extension": ".py",
   "mimetype": "text/x-python",
   "name": "python",
   "nbconvert_exporter": "python",
   "pygments_lexer": "ipython3",
   "version": "3.11.3"
  },
  "orig_nbformat": 4,
  "vscode": {
   "interpreter": {
    "hash": "a077222d77dfe082b8f1dd562ad70e458ac2ab76993a0b248ab0476e32e9e8dd"
   }
  }
 },
 "nbformat": 4,
 "nbformat_minor": 2
}
