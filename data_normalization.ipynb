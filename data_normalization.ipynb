{
 "cells": [
  {
   "cell_type": "code",
   "execution_count": 1,
   "metadata": {},
   "outputs": [],
   "source": [
    "import pandas as pd\n",
    "from datetime import datetime\n",
    "import plotly.express as px"
   ]
  },
  {
   "cell_type": "code",
   "execution_count": 2,
   "metadata": {},
   "outputs": [],
   "source": [
    "# https://www.data.go.kr/data/15049591/fileData.do <= 표준산업분류코드 데이터\n",
    "def std_convert(str):\n",
    "    return f\"0{str}\" if len(str) == 1 else str\n",
    "STD_TOBZ_M_df = pd.read_csv(\"dataset/고용노동부_표준산업분류코드.csv\")\n",
    "STD_TOBZ_M_df['고용업종코드(중분류)'] = STD_TOBZ_M_df['고용업종코드(중분류)'].astype(int).astype(str)\n",
    "STD_TOBZ_M_df['고용업종코드(중분류)'] = STD_TOBZ_M_df['고용업종코드(중분류)'].apply(lambda x : std_convert(x))\n",
    "STD_TOBZ_M_df['고용업종코드(소분류)'] = STD_TOBZ_M_df['고용업종코드(소분류)'].astype(str)\n",
    "\n",
    "STD_TOBZ_M_dic = dict(zip(STD_TOBZ_M_df['고용업종코드(중분류)'], STD_TOBZ_M_df['고용업종명(중분류)'])) # 표준산업분류 - 중분류 dict\n",
    "STD_TOBZ_S_dic = dict(zip(STD_TOBZ_M_df['고용업종코드(소분류)'], STD_TOBZ_M_df['고용업종명(소분류)'])) # 표준산업분류 - 소분류 dict"
   ]
  },
  {
   "cell_type": "code",
   "execution_count": 4,
   "metadata": {},
   "outputs": [],
   "source": [
    "# km data preprocessing\n",
    "def exc_age(age):\n",
    "    age = age.split(\".\")[-1].split(\"대\")[0]\n",
    "    try:\n",
    "        return \"60+\" if int(age) >= 60 else age\n",
    "    except:\n",
    "        return age\n",
    "km_data = pd.read_csv(\"dataset/국민카드.csv\", encoding='cp949')\n",
    "km_data = km_data[~km_data['표준산업세세분류코드'].isna()]\n",
    "km_data['표준산업세세분류코드'] = km_data['표준산업세세분류코드'].astype(int).astype(str)\n",
    "km_data['표준산업세세분류코드'] = km_data['표준산업세세분류코드'].apply(lambda x : x[:3])\n",
    "km_data['STD_TOBZ_M_C'] = km_data['표준산업세세분류코드'].apply(lambda x : x[:2])\n",
    "km_data['기준년월'] = pd.to_datetime(km_data['기준년월'], format='%Y%m')\n",
    "km_data['연령대'] = km_data['연령대'].apply(exc_age)\n",
    "km_data['company'] = '국민'\n",
    "km_data.columns = ['date', 'city_l', 'city_m', 'city_s', 'sex', 'age', 'code_s_name', 'code_s', 'cost', 'case', 'client', 'code_m', 'company']\n",
    "km_data = km_data[['date', 'city_l', 'city_m', 'city_s', 'sex', 'age', 'company', 'code_m', 'code_s', 'cost', 'case']]\n",
    "km_data['case'] = km_data['case'].astype(int)\n",
    "\n",
    "# sh data preprocessing\n",
    "city_l_dic = {'전남':'전라남도', '경기':'경기도', '서울':'서울특별시'}\n",
    "sex_dic = {'F':'여성', 'M':'남성'}\n",
    "sh_data = pd.read_csv(\"dataset/신한카드.csv\")\n",
    "sh_data['MGPO_NM_HOM'] = sh_data['MGPO_NM_HOM'].map(city_l_dic)\n",
    "sh_data['SEX_C'] = sh_data['SEX_C'].map(sex_dic)\n",
    "sh_data['SL_CRI_YM'] = pd.to_datetime(sh_data['SL_CRI_YM'], format='%Y%m')\n",
    "sh_data['STD_TOBZ_M_C'] = sh_data['STD_TOBZ_M_C'].astype(str)\n",
    "sh_data['company'] = '신한'\n",
    "sh_data = sh_data[['SL_CRI_YM', 'MGPO_NM_HOM', 'SGG_NM_HOM', 'NASD_NM_HOM', 'SEX_C', 'AGE_G5_C', 'company', 'STD_TOBZ_M_C', 'STD_TOBZ_L_C','AMT', 'CNT']]\n",
    "sh_data.columns = ['date', 'city_l', 'city_m', 'city_s', 'sex', 'age', 'company', 'code_m', 'code_s', 'cost', 'case']\n",
    "sh_data['case'] = sh_data['case'].apply(lambda x : int(x) if x.isdigit() else 0)\n",
    "\n",
    "# ss data preprocessing\n",
    "def exc_age(age):\n",
    "    return \"60+\" if int(age) >= 60 else age      \n",
    "ss_data = pd.read_csv(\"dataset/삼성카드.csv\")\n",
    "ss_data['표준업종분류코드_중분류'] = ss_data['표준업종분류코드_중분류'].astype(str)\n",
    "ss_data['거주지_광역시도'] = ss_data['거주지_광역시도'].map(city_l_dic)\n",
    "ss_data['성별'] = ss_data['성별'].map(sex_dic)\n",
    "ss_data['이용기준년월'] = pd.to_datetime(ss_data['이용기준년월'], format='%Y%m')\n",
    "ss_data['연령대'] = ss_data['연령대'].apply(exc_age)\n",
    "ss_data['company'] = '삼성'\n",
    "ss_data = ss_data[['이용기준년월', '거주지_광역시도', '거주지_시군구', '거주지_행정동', '성별', '연령대', 'company', '표준업종분류코드_중분류', '표준업종분류코드_소분류','이용금액', '이용건수']]\n",
    "ss_data.columns = ['date', 'city_l', 'city_m', 'city_s', 'sex', 'age', 'company', 'code_m', 'code_s', 'cost', 'case']\n",
    "ss_data['case'] = ss_data['case'].astype(int)\n",
    "\n",
    "# data concat\n",
    "con_df = pd.concat([km_data, sh_data, ss_data]).reset_index(drop=True) # 3사 데이터 통합\n",
    "con_df = con_df.drop_duplicates()\n",
    "jg_df = con_df[con_df['city_m']=='중구'].reset_index(drop=True) # 중구 data만 filtering\n",
    "ddc_df = con_df[con_df['city_m']=='동두천시'].reset_index(drop=True) # 동두천시 data만 filtering\n",
    "nj_df = con_df[con_df['city_m']=='나주시'].reset_index(drop=True) # 나주시 data만 filtering"
   ]
  },
  {
   "cell_type": "code",
   "execution_count": 7,
   "metadata": {},
   "outputs": [],
   "source": [
    "jg_df.to_csv(\"jg_df.csv\", index=False)\n",
    "ddc_df.to_csv(\"ddc_df.csv\", index=False)\n",
    "nj_df.to_csv(\"nj_df.csv\", index=False)"
   ]
  },
  {
   "cell_type": "code",
   "execution_count": 5,
   "metadata": {},
   "outputs": [
    {
     "data": {
      "text/html": [
       "<div>\n",
       "<style scoped>\n",
       "    .dataframe tbody tr th:only-of-type {\n",
       "        vertical-align: middle;\n",
       "    }\n",
       "\n",
       "    .dataframe tbody tr th {\n",
       "        vertical-align: top;\n",
       "    }\n",
       "\n",
       "    .dataframe thead th {\n",
       "        text-align: right;\n",
       "    }\n",
       "</style>\n",
       "<table border=\"1\" class=\"dataframe\">\n",
       "  <thead>\n",
       "    <tr style=\"text-align: right;\">\n",
       "      <th></th>\n",
       "      <th>date</th>\n",
       "      <th>city_l</th>\n",
       "      <th>city_m</th>\n",
       "      <th>city_s</th>\n",
       "      <th>sex</th>\n",
       "      <th>age</th>\n",
       "      <th>company</th>\n",
       "      <th>code_m</th>\n",
       "      <th>code_s</th>\n",
       "      <th>cost</th>\n",
       "      <th>case</th>\n",
       "    </tr>\n",
       "  </thead>\n",
       "  <tbody>\n",
       "    <tr>\n",
       "      <th>0</th>\n",
       "      <td>2023-04-01</td>\n",
       "      <td>서울특별시</td>\n",
       "      <td>중구</td>\n",
       "      <td>다산동</td>\n",
       "      <td>여성</td>\n",
       "      <td>50</td>\n",
       "      <td>국민</td>\n",
       "      <td>56</td>\n",
       "      <td>561</td>\n",
       "      <td>24370810</td>\n",
       "      <td>683</td>\n",
       "    </tr>\n",
       "    <tr>\n",
       "      <th>1</th>\n",
       "      <td>2023-05-01</td>\n",
       "      <td>서울특별시</td>\n",
       "      <td>중구</td>\n",
       "      <td>약수동</td>\n",
       "      <td>남성</td>\n",
       "      <td>60+</td>\n",
       "      <td>국민</td>\n",
       "      <td>59</td>\n",
       "      <td>591</td>\n",
       "      <td>20000</td>\n",
       "      <td>3</td>\n",
       "    </tr>\n",
       "    <tr>\n",
       "      <th>2</th>\n",
       "      <td>2023-08-01</td>\n",
       "      <td>서울특별시</td>\n",
       "      <td>중구</td>\n",
       "      <td>신당5동</td>\n",
       "      <td>남성</td>\n",
       "      <td>60+</td>\n",
       "      <td>국민</td>\n",
       "      <td>47</td>\n",
       "      <td>478</td>\n",
       "      <td>129200</td>\n",
       "      <td>3</td>\n",
       "    </tr>\n",
       "    <tr>\n",
       "      <th>3</th>\n",
       "      <td>2023-08-01</td>\n",
       "      <td>경기도</td>\n",
       "      <td>동두천시</td>\n",
       "      <td>불현동</td>\n",
       "      <td>여성</td>\n",
       "      <td>30</td>\n",
       "      <td>국민</td>\n",
       "      <td>47</td>\n",
       "      <td>478</td>\n",
       "      <td>79500</td>\n",
       "      <td>7</td>\n",
       "    </tr>\n",
       "    <tr>\n",
       "      <th>4</th>\n",
       "      <td>2023-04-01</td>\n",
       "      <td>경기도</td>\n",
       "      <td>동두천시</td>\n",
       "      <td>생연1동</td>\n",
       "      <td>여성</td>\n",
       "      <td>20</td>\n",
       "      <td>국민</td>\n",
       "      <td>91</td>\n",
       "      <td>912</td>\n",
       "      <td>154900</td>\n",
       "      <td>17</td>\n",
       "    </tr>\n",
       "    <tr>\n",
       "      <th>...</th>\n",
       "      <td>...</td>\n",
       "      <td>...</td>\n",
       "      <td>...</td>\n",
       "      <td>...</td>\n",
       "      <td>...</td>\n",
       "      <td>...</td>\n",
       "      <td>...</td>\n",
       "      <td>...</td>\n",
       "      <td>...</td>\n",
       "      <td>...</td>\n",
       "      <td>...</td>\n",
       "    </tr>\n",
       "    <tr>\n",
       "      <th>649914</th>\n",
       "      <td>2023-01-01</td>\n",
       "      <td>서울특별시</td>\n",
       "      <td>중구</td>\n",
       "      <td>소공동</td>\n",
       "      <td>여성</td>\n",
       "      <td>30</td>\n",
       "      <td>삼성</td>\n",
       "      <td>90</td>\n",
       "      <td>902</td>\n",
       "      <td>31000</td>\n",
       "      <td>2</td>\n",
       "    </tr>\n",
       "    <tr>\n",
       "      <th>649915</th>\n",
       "      <td>2023-03-01</td>\n",
       "      <td>경기도</td>\n",
       "      <td>동두천시</td>\n",
       "      <td>송내동</td>\n",
       "      <td>여성</td>\n",
       "      <td>20</td>\n",
       "      <td>삼성</td>\n",
       "      <td>90</td>\n",
       "      <td>902</td>\n",
       "      <td>54000</td>\n",
       "      <td>2</td>\n",
       "    </tr>\n",
       "    <tr>\n",
       "      <th>649916</th>\n",
       "      <td>2023-11-01</td>\n",
       "      <td>경기도</td>\n",
       "      <td>동두천시</td>\n",
       "      <td>생연1동</td>\n",
       "      <td>남성</td>\n",
       "      <td>50</td>\n",
       "      <td>삼성</td>\n",
       "      <td>90</td>\n",
       "      <td>902</td>\n",
       "      <td>8000</td>\n",
       "      <td>2</td>\n",
       "    </tr>\n",
       "    <tr>\n",
       "      <th>649917</th>\n",
       "      <td>2023-03-01</td>\n",
       "      <td>서울특별시</td>\n",
       "      <td>중구</td>\n",
       "      <td>중림동</td>\n",
       "      <td>남성</td>\n",
       "      <td>40</td>\n",
       "      <td>삼성</td>\n",
       "      <td>90</td>\n",
       "      <td>902</td>\n",
       "      <td>137000</td>\n",
       "      <td>13</td>\n",
       "    </tr>\n",
       "    <tr>\n",
       "      <th>649918</th>\n",
       "      <td>2023-07-01</td>\n",
       "      <td>서울특별시</td>\n",
       "      <td>중구</td>\n",
       "      <td>황학동</td>\n",
       "      <td>여성</td>\n",
       "      <td>30</td>\n",
       "      <td>삼성</td>\n",
       "      <td>90</td>\n",
       "      <td>902</td>\n",
       "      <td>71000</td>\n",
       "      <td>4</td>\n",
       "    </tr>\n",
       "  </tbody>\n",
       "</table>\n",
       "<p>649908 rows × 11 columns</p>\n",
       "</div>"
      ],
      "text/plain": [
       "             date city_l city_m city_s sex  age company code_m code_s  \\\n",
       "0      2023-04-01  서울특별시     중구    다산동  여성   50      국민     56    561   \n",
       "1      2023-05-01  서울특별시     중구    약수동  남성  60+      국민     59    591   \n",
       "2      2023-08-01  서울특별시     중구   신당5동  남성  60+      국민     47    478   \n",
       "3      2023-08-01    경기도   동두천시    불현동  여성   30      국민     47    478   \n",
       "4      2023-04-01    경기도   동두천시   생연1동  여성   20      국민     91    912   \n",
       "...           ...    ...    ...    ...  ..  ...     ...    ...    ...   \n",
       "649914 2023-01-01  서울특별시     중구    소공동  여성   30      삼성     90    902   \n",
       "649915 2023-03-01    경기도   동두천시    송내동  여성   20      삼성     90    902   \n",
       "649916 2023-11-01    경기도   동두천시   생연1동  남성   50      삼성     90    902   \n",
       "649917 2023-03-01  서울특별시     중구    중림동  남성   40      삼성     90    902   \n",
       "649918 2023-07-01  서울특별시     중구    황학동  여성   30      삼성     90    902   \n",
       "\n",
       "            cost  case  \n",
       "0       24370810   683  \n",
       "1          20000     3  \n",
       "2         129200     3  \n",
       "3          79500     7  \n",
       "4         154900    17  \n",
       "...          ...   ...  \n",
       "649914     31000     2  \n",
       "649915     54000     2  \n",
       "649916      8000     2  \n",
       "649917    137000    13  \n",
       "649918     71000     4  \n",
       "\n",
       "[649908 rows x 11 columns]"
      ]
     },
     "execution_count": 5,
     "metadata": {},
     "output_type": "execute_result"
    }
   ],
   "source": [
    "con_df"
   ]
  },
  {
   "cell_type": "code",
   "execution_count": null,
   "metadata": {},
   "outputs": [],
   "source": [
    "import plotly.express as px\n",
    "# 데이터 불러오기\n",
    "df = px.data.gapminder().query(\"year == 2007\")\n",
    "\n",
    "# 그래프 그리기\n",
    "fig = px.bar(df, y=\"pop\", x=\"continent\", color=\"continent\", color_discrete_sequence=px.colors.qualitative.G10)\n",
    "\n",
    "fig.show()"
   ]
  },
  {
   "cell_type": "code",
   "execution_count": 6,
   "metadata": {},
   "outputs": [
    {
     "data": {
      "text/html": [
       "<div>\n",
       "<style scoped>\n",
       "    .dataframe tbody tr th:only-of-type {\n",
       "        vertical-align: middle;\n",
       "    }\n",
       "\n",
       "    .dataframe tbody tr th {\n",
       "        vertical-align: top;\n",
       "    }\n",
       "\n",
       "    .dataframe thead th {\n",
       "        text-align: right;\n",
       "    }\n",
       "</style>\n",
       "<table border=\"1\" class=\"dataframe\">\n",
       "  <thead>\n",
       "    <tr style=\"text-align: right;\">\n",
       "      <th></th>\n",
       "      <th>date</th>\n",
       "      <th>city_l</th>\n",
       "      <th>city_m</th>\n",
       "      <th>city_s</th>\n",
       "      <th>sex</th>\n",
       "      <th>age</th>\n",
       "      <th>company</th>\n",
       "      <th>code_m</th>\n",
       "      <th>code_s</th>\n",
       "      <th>cost</th>\n",
       "      <th>case</th>\n",
       "    </tr>\n",
       "  </thead>\n",
       "  <tbody>\n",
       "    <tr>\n",
       "      <th>0</th>\n",
       "      <td>2023-04-01</td>\n",
       "      <td>서울특별시</td>\n",
       "      <td>중구</td>\n",
       "      <td>다산동</td>\n",
       "      <td>여성</td>\n",
       "      <td>50</td>\n",
       "      <td>국민</td>\n",
       "      <td>56</td>\n",
       "      <td>561</td>\n",
       "      <td>24370810</td>\n",
       "      <td>683</td>\n",
       "    </tr>\n",
       "    <tr>\n",
       "      <th>1</th>\n",
       "      <td>2023-05-01</td>\n",
       "      <td>서울특별시</td>\n",
       "      <td>중구</td>\n",
       "      <td>약수동</td>\n",
       "      <td>남성</td>\n",
       "      <td>60+</td>\n",
       "      <td>국민</td>\n",
       "      <td>59</td>\n",
       "      <td>591</td>\n",
       "      <td>20000</td>\n",
       "      <td>3</td>\n",
       "    </tr>\n",
       "    <tr>\n",
       "      <th>2</th>\n",
       "      <td>2023-08-01</td>\n",
       "      <td>서울특별시</td>\n",
       "      <td>중구</td>\n",
       "      <td>신당5동</td>\n",
       "      <td>남성</td>\n",
       "      <td>60+</td>\n",
       "      <td>국민</td>\n",
       "      <td>47</td>\n",
       "      <td>478</td>\n",
       "      <td>129200</td>\n",
       "      <td>3</td>\n",
       "    </tr>\n",
       "    <tr>\n",
       "      <th>3</th>\n",
       "      <td>2023-03-01</td>\n",
       "      <td>서울특별시</td>\n",
       "      <td>중구</td>\n",
       "      <td>명동</td>\n",
       "      <td>여성</td>\n",
       "      <td>40</td>\n",
       "      <td>국민</td>\n",
       "      <td>56</td>\n",
       "      <td>561</td>\n",
       "      <td>407250</td>\n",
       "      <td>27</td>\n",
       "    </tr>\n",
       "    <tr>\n",
       "      <th>4</th>\n",
       "      <td>2023-11-01</td>\n",
       "      <td>서울특별시</td>\n",
       "      <td>중구</td>\n",
       "      <td>다산동</td>\n",
       "      <td>남성</td>\n",
       "      <td>60+</td>\n",
       "      <td>국민</td>\n",
       "      <td>47</td>\n",
       "      <td>474</td>\n",
       "      <td>696940</td>\n",
       "      <td>8</td>\n",
       "    </tr>\n",
       "    <tr>\n",
       "      <th>...</th>\n",
       "      <td>...</td>\n",
       "      <td>...</td>\n",
       "      <td>...</td>\n",
       "      <td>...</td>\n",
       "      <td>...</td>\n",
       "      <td>...</td>\n",
       "      <td>...</td>\n",
       "      <td>...</td>\n",
       "      <td>...</td>\n",
       "      <td>...</td>\n",
       "      <td>...</td>\n",
       "    </tr>\n",
       "    <tr>\n",
       "      <th>302084</th>\n",
       "      <td>2022-12-01</td>\n",
       "      <td>서울특별시</td>\n",
       "      <td>중구</td>\n",
       "      <td>명동</td>\n",
       "      <td>남성</td>\n",
       "      <td>30</td>\n",
       "      <td>삼성</td>\n",
       "      <td>90</td>\n",
       "      <td>902</td>\n",
       "      <td>32000</td>\n",
       "      <td>3</td>\n",
       "    </tr>\n",
       "    <tr>\n",
       "      <th>302085</th>\n",
       "      <td>2023-07-01</td>\n",
       "      <td>서울특별시</td>\n",
       "      <td>중구</td>\n",
       "      <td>다산동</td>\n",
       "      <td>남성</td>\n",
       "      <td>40</td>\n",
       "      <td>삼성</td>\n",
       "      <td>90</td>\n",
       "      <td>902</td>\n",
       "      <td>29000</td>\n",
       "      <td>2</td>\n",
       "    </tr>\n",
       "    <tr>\n",
       "      <th>302086</th>\n",
       "      <td>2023-01-01</td>\n",
       "      <td>서울특별시</td>\n",
       "      <td>중구</td>\n",
       "      <td>소공동</td>\n",
       "      <td>여성</td>\n",
       "      <td>30</td>\n",
       "      <td>삼성</td>\n",
       "      <td>90</td>\n",
       "      <td>902</td>\n",
       "      <td>31000</td>\n",
       "      <td>2</td>\n",
       "    </tr>\n",
       "    <tr>\n",
       "      <th>302087</th>\n",
       "      <td>2023-03-01</td>\n",
       "      <td>서울특별시</td>\n",
       "      <td>중구</td>\n",
       "      <td>중림동</td>\n",
       "      <td>남성</td>\n",
       "      <td>40</td>\n",
       "      <td>삼성</td>\n",
       "      <td>90</td>\n",
       "      <td>902</td>\n",
       "      <td>137000</td>\n",
       "      <td>13</td>\n",
       "    </tr>\n",
       "    <tr>\n",
       "      <th>302088</th>\n",
       "      <td>2023-07-01</td>\n",
       "      <td>서울특별시</td>\n",
       "      <td>중구</td>\n",
       "      <td>황학동</td>\n",
       "      <td>여성</td>\n",
       "      <td>30</td>\n",
       "      <td>삼성</td>\n",
       "      <td>90</td>\n",
       "      <td>902</td>\n",
       "      <td>71000</td>\n",
       "      <td>4</td>\n",
       "    </tr>\n",
       "  </tbody>\n",
       "</table>\n",
       "<p>302089 rows × 11 columns</p>\n",
       "</div>"
      ],
      "text/plain": [
       "             date city_l city_m city_s sex  age company code_m code_s  \\\n",
       "0      2023-04-01  서울특별시     중구    다산동  여성   50      국민     56    561   \n",
       "1      2023-05-01  서울특별시     중구    약수동  남성  60+      국민     59    591   \n",
       "2      2023-08-01  서울특별시     중구   신당5동  남성  60+      국민     47    478   \n",
       "3      2023-03-01  서울특별시     중구     명동  여성   40      국민     56    561   \n",
       "4      2023-11-01  서울특별시     중구    다산동  남성  60+      국민     47    474   \n",
       "...           ...    ...    ...    ...  ..  ...     ...    ...    ...   \n",
       "302084 2022-12-01  서울특별시     중구     명동  남성   30      삼성     90    902   \n",
       "302085 2023-07-01  서울특별시     중구    다산동  남성   40      삼성     90    902   \n",
       "302086 2023-01-01  서울특별시     중구    소공동  여성   30      삼성     90    902   \n",
       "302087 2023-03-01  서울특별시     중구    중림동  남성   40      삼성     90    902   \n",
       "302088 2023-07-01  서울특별시     중구    황학동  여성   30      삼성     90    902   \n",
       "\n",
       "            cost  case  \n",
       "0       24370810   683  \n",
       "1          20000     3  \n",
       "2         129200     3  \n",
       "3         407250    27  \n",
       "4         696940     8  \n",
       "...          ...   ...  \n",
       "302084     32000     3  \n",
       "302085     29000     2  \n",
       "302086     31000     2  \n",
       "302087    137000    13  \n",
       "302088     71000     4  \n",
       "\n",
       "[302089 rows x 11 columns]"
      ]
     },
     "execution_count": 6,
     "metadata": {},
     "output_type": "execute_result"
    }
   ],
   "source": [
    "# data concat\n",
    "jg_df"
   ]
  },
  {
   "cell_type": "code",
   "execution_count": 26,
   "metadata": {},
   "outputs": [
    {
     "data": {
      "text/html": [
       "<div>\n",
       "<style scoped>\n",
       "    .dataframe tbody tr th:only-of-type {\n",
       "        vertical-align: middle;\n",
       "    }\n",
       "\n",
       "    .dataframe tbody tr th {\n",
       "        vertical-align: top;\n",
       "    }\n",
       "\n",
       "    .dataframe thead th {\n",
       "        text-align: right;\n",
       "    }\n",
       "</style>\n",
       "<table border=\"1\" class=\"dataframe\">\n",
       "  <thead>\n",
       "    <tr style=\"text-align: right;\">\n",
       "      <th></th>\n",
       "      <th>date</th>\n",
       "      <th>city_l</th>\n",
       "      <th>city_m</th>\n",
       "      <th>city_s</th>\n",
       "      <th>sex</th>\n",
       "      <th>age</th>\n",
       "      <th>company</th>\n",
       "      <th>code_m</th>\n",
       "      <th>code_s</th>\n",
       "      <th>cost</th>\n",
       "      <th>case</th>\n",
       "    </tr>\n",
       "  </thead>\n",
       "  <tbody>\n",
       "    <tr>\n",
       "      <th>0</th>\n",
       "      <td>2023-04-01</td>\n",
       "      <td>서울특별시</td>\n",
       "      <td>중구</td>\n",
       "      <td>다산동</td>\n",
       "      <td>여성</td>\n",
       "      <td>50</td>\n",
       "      <td>국민</td>\n",
       "      <td>56</td>\n",
       "      <td>561</td>\n",
       "      <td>24370810</td>\n",
       "      <td>683</td>\n",
       "    </tr>\n",
       "    <tr>\n",
       "      <th>18</th>\n",
       "      <td>2023-04-01</td>\n",
       "      <td>서울특별시</td>\n",
       "      <td>중구</td>\n",
       "      <td>신당동</td>\n",
       "      <td>여성</td>\n",
       "      <td>60+</td>\n",
       "      <td>국민</td>\n",
       "      <td>47</td>\n",
       "      <td>479</td>\n",
       "      <td>8726128</td>\n",
       "      <td>160</td>\n",
       "    </tr>\n",
       "    <tr>\n",
       "      <th>19</th>\n",
       "      <td>2023-04-01</td>\n",
       "      <td>서울특별시</td>\n",
       "      <td>중구</td>\n",
       "      <td>다산동</td>\n",
       "      <td>여성</td>\n",
       "      <td>10</td>\n",
       "      <td>국민</td>\n",
       "      <td>49</td>\n",
       "      <td>492</td>\n",
       "      <td>457400</td>\n",
       "      <td>44</td>\n",
       "    </tr>\n",
       "    <tr>\n",
       "      <th>24</th>\n",
       "      <td>2023-04-01</td>\n",
       "      <td>서울특별시</td>\n",
       "      <td>중구</td>\n",
       "      <td>필동</td>\n",
       "      <td>남성</td>\n",
       "      <td>20</td>\n",
       "      <td>국민</td>\n",
       "      <td>47</td>\n",
       "      <td>476</td>\n",
       "      <td>785780</td>\n",
       "      <td>7</td>\n",
       "    </tr>\n",
       "    <tr>\n",
       "      <th>26</th>\n",
       "      <td>2023-04-01</td>\n",
       "      <td>서울특별시</td>\n",
       "      <td>중구</td>\n",
       "      <td>다산동</td>\n",
       "      <td>남성</td>\n",
       "      <td>20</td>\n",
       "      <td>국민</td>\n",
       "      <td>75</td>\n",
       "      <td>751</td>\n",
       "      <td>133630</td>\n",
       "      <td>18</td>\n",
       "    </tr>\n",
       "    <tr>\n",
       "      <th>...</th>\n",
       "      <td>...</td>\n",
       "      <td>...</td>\n",
       "      <td>...</td>\n",
       "      <td>...</td>\n",
       "      <td>...</td>\n",
       "      <td>...</td>\n",
       "      <td>...</td>\n",
       "      <td>...</td>\n",
       "      <td>...</td>\n",
       "      <td>...</td>\n",
       "      <td>...</td>\n",
       "    </tr>\n",
       "    <tr>\n",
       "      <th>302001</th>\n",
       "      <td>2023-04-01</td>\n",
       "      <td>서울특별시</td>\n",
       "      <td>중구</td>\n",
       "      <td>신당5동</td>\n",
       "      <td>남성</td>\n",
       "      <td>20</td>\n",
       "      <td>삼성</td>\n",
       "      <td>47</td>\n",
       "      <td>476</td>\n",
       "      <td>136000</td>\n",
       "      <td>4</td>\n",
       "    </tr>\n",
       "    <tr>\n",
       "      <th>302017</th>\n",
       "      <td>2023-04-01</td>\n",
       "      <td>서울특별시</td>\n",
       "      <td>중구</td>\n",
       "      <td>소공동</td>\n",
       "      <td>여성</td>\n",
       "      <td>50</td>\n",
       "      <td>삼성</td>\n",
       "      <td>47</td>\n",
       "      <td>473</td>\n",
       "      <td>203000</td>\n",
       "      <td>9</td>\n",
       "    </tr>\n",
       "    <tr>\n",
       "      <th>302032</th>\n",
       "      <td>2023-04-01</td>\n",
       "      <td>서울특별시</td>\n",
       "      <td>중구</td>\n",
       "      <td>회현동</td>\n",
       "      <td>남성</td>\n",
       "      <td>60+</td>\n",
       "      <td>삼성</td>\n",
       "      <td>47</td>\n",
       "      <td>473</td>\n",
       "      <td>386000</td>\n",
       "      <td>8</td>\n",
       "    </tr>\n",
       "    <tr>\n",
       "      <th>302049</th>\n",
       "      <td>2023-04-01</td>\n",
       "      <td>서울특별시</td>\n",
       "      <td>중구</td>\n",
       "      <td>약수동</td>\n",
       "      <td>남성</td>\n",
       "      <td>30</td>\n",
       "      <td>삼성</td>\n",
       "      <td>46</td>\n",
       "      <td>466</td>\n",
       "      <td>6000</td>\n",
       "      <td>2</td>\n",
       "    </tr>\n",
       "    <tr>\n",
       "      <th>302062</th>\n",
       "      <td>2023-04-01</td>\n",
       "      <td>서울특별시</td>\n",
       "      <td>중구</td>\n",
       "      <td>광희동</td>\n",
       "      <td>남성</td>\n",
       "      <td>30</td>\n",
       "      <td>삼성</td>\n",
       "      <td>47</td>\n",
       "      <td>474</td>\n",
       "      <td>3165000</td>\n",
       "      <td>60</td>\n",
       "    </tr>\n",
       "  </tbody>\n",
       "</table>\n",
       "<p>26203 rows × 11 columns</p>\n",
       "</div>"
      ],
      "text/plain": [
       "             date city_l city_m city_s sex  age company code_m code_s  \\\n",
       "0      2023-04-01  서울특별시     중구    다산동  여성   50      국민     56    561   \n",
       "18     2023-04-01  서울특별시     중구    신당동  여성  60+      국민     47    479   \n",
       "19     2023-04-01  서울특별시     중구    다산동  여성   10      국민     49    492   \n",
       "24     2023-04-01  서울특별시     중구     필동  남성   20      국민     47    476   \n",
       "26     2023-04-01  서울특별시     중구    다산동  남성   20      국민     75    751   \n",
       "...           ...    ...    ...    ...  ..  ...     ...    ...    ...   \n",
       "302001 2023-04-01  서울특별시     중구   신당5동  남성   20      삼성     47    476   \n",
       "302017 2023-04-01  서울특별시     중구    소공동  여성   50      삼성     47    473   \n",
       "302032 2023-04-01  서울특별시     중구    회현동  남성  60+      삼성     47    473   \n",
       "302049 2023-04-01  서울특별시     중구    약수동  남성   30      삼성     46    466   \n",
       "302062 2023-04-01  서울특별시     중구    광희동  남성   30      삼성     47    474   \n",
       "\n",
       "            cost  case  \n",
       "0       24370810   683  \n",
       "18       8726128   160  \n",
       "19        457400    44  \n",
       "24        785780     7  \n",
       "26        133630    18  \n",
       "...          ...   ...  \n",
       "302001    136000     4  \n",
       "302017    203000     9  \n",
       "302032    386000     8  \n",
       "302049      6000     2  \n",
       "302062   3165000    60  \n",
       "\n",
       "[26203 rows x 11 columns]"
      ]
     },
     "execution_count": 26,
     "metadata": {},
     "output_type": "execute_result"
    }
   ],
   "source": [
    "jg_df[jg_df['date']=='2023-04-01']"
   ]
  },
  {
   "cell_type": "code",
   "execution_count": 7,
   "metadata": {},
   "outputs": [
    {
     "data": {
      "text/plain": [
       "code_m\n",
       "47    92135\n",
       "56    29457\n",
       "49    18603\n",
       "91    15428\n",
       "96    15058\n",
       "86    13981\n",
       "61    10324\n",
       "73     9263\n",
       "65     8382\n",
       "52     7929\n",
       "85     7860\n",
       "95     7384\n",
       "55     6356\n",
       "84     5960\n",
       "75     5608\n",
       "68     5134\n",
       "46     4403\n",
       "90     4361\n",
       "51     3903\n",
       "94     3098\n",
       "59     2892\n",
       "33     2876\n",
       "45     2738\n",
       "66     2159\n",
       "18     2051\n",
       "76     2004\n",
       "62     1956\n",
       "10     1805\n",
       "71     1752\n",
       "29     1511\n",
       "35     1308\n",
       "50      984\n",
       "87      731\n",
       "21      698\n",
       "60      560\n",
       "42      467\n",
       "74      349\n",
       "58      323\n",
       "70      131\n",
       "34       68\n",
       "41       58\n",
       "14       37\n",
       "30        4\n",
       "Name: count, dtype: int64"
      ]
     },
     "execution_count": 7,
     "metadata": {},
     "output_type": "execute_result"
    }
   ],
   "source": [
    "codem_count = jg_df['code_m'].value_counts()\n",
    "codem_count"
   ]
  },
  {
   "cell_type": "code",
   "execution_count": null,
   "metadata": {},
   "outputs": [],
   "source": [
    "# 'city_s' 컬럼 값에 따른 'cost'의 합 계산\n",
    "cost_sum_by_city = df.groupby('city_s')['cost'].sum().sort_values(ascending=False)\n",
    "# 바 차트 그리기 (Costs)\n",
    "fig = px.bar(\n",
    "    x=cost_sum_by_city.index,\n",
    "    y=cost_sum_by_city.values,\n",
    "    color=cost_sum_by_city.values,\n",
    "    color_continuous_scale='gnbu_r',  # reverse 하고싶으면 \"_r\" 붙이기\n",
    "    labels={'x': 'Area', 'y': 'Costs(B)', 'color': 'Costs'},\n",
    "    hover_data={'code_s': True, 'city_m': True},\n",
    ")\n",
    "fig.show()"
   ]
  },
  {
   "cell_type": "code",
   "execution_count": 62,
   "metadata": {},
   "outputs": [
    {
     "data": {
      "text/plain": [
       "company\n",
       "국민    11424521\n",
       "삼성     7875318\n",
       "신한    14450992\n",
       "Name: case, dtype: int64"
      ]
     },
     "execution_count": 62,
     "metadata": {},
     "output_type": "execute_result"
    }
   ],
   "source": [
    "jg_df.groupby(['company'])['case'].sum()"
   ]
  },
  {
   "cell_type": "code",
   "execution_count": 32,
   "metadata": {},
   "outputs": [],
   "source": [
    "cost_sum_by_city = jg_df.groupby(['city_s', 'code_m'])['cost'].sum().sort_values(ascending=False)"
   ]
  },
  {
   "cell_type": "code",
   "execution_count": 40,
   "metadata": {},
   "outputs": [],
   "source": [
    "# 멀티인덱스에서 첫 번째 인덱스를 컬럼으로 변환\n",
    "cost_sum_by_city = cost_sum_by_city.reset_index(level=1)"
   ]
  },
  {
   "cell_type": "code",
   "execution_count": 60,
   "metadata": {},
   "outputs": [
    {
     "data": {
      "application/vnd.plotly.v1+json": {
       "config": {
        "plotlyServerURL": "https://plot.ly"
       },
       "data": [
        {
         "alignmentgroup": "True",
         "customdata": [
          [
           "47"
          ],
          [
           "47"
          ],
          [
           "47"
          ],
          [
           "47"
          ],
          [
           "47"
          ],
          [
           "47"
          ],
          [
           "47"
          ],
          [
           "47"
          ],
          [
           "47"
          ],
          [
           "47"
          ],
          [
           "47"
          ],
          [
           "47"
          ],
          [
           "47"
          ],
          [
           "47"
          ],
          [
           "56"
          ],
          [
           "56"
          ],
          [
           "47"
          ],
          [
           "56"
          ],
          [
           "56"
          ],
          [
           "56"
          ],
          [
           "56"
          ],
          [
           "56"
          ],
          [
           "56"
          ],
          [
           "84"
          ],
          [
           "56"
          ],
          [
           "86"
          ],
          [
           "56"
          ],
          [
           "86"
          ],
          [
           "84"
          ],
          [
           "56"
          ],
          [
           "56"
          ],
          [
           "86"
          ],
          [
           "86"
          ],
          [
           "86"
          ],
          [
           "56"
          ],
          [
           "86"
          ],
          [
           "84"
          ],
          [
           "84"
          ],
          [
           "56"
          ],
          [
           "84"
          ],
          [
           "86"
          ],
          [
           "86"
          ],
          [
           "56"
          ],
          [
           "65"
          ],
          [
           "86"
          ],
          [
           "86"
          ],
          [
           "61"
          ],
          [
           "86"
          ],
          [
           "61"
          ],
          [
           "49"
          ],
          [
           "84"
          ],
          [
           "86"
          ],
          [
           "61"
          ],
          [
           "65"
          ],
          [
           "65"
          ],
          [
           "84"
          ],
          [
           "49"
          ],
          [
           "85"
          ],
          [
           "65"
          ],
          [
           "21"
          ],
          [
           "65"
          ],
          [
           "61"
          ],
          [
           "49"
          ],
          [
           "84"
          ],
          [
           "21"
          ],
          [
           "65"
          ],
          [
           "65"
          ],
          [
           "91"
          ],
          [
           "49"
          ],
          [
           "61"
          ],
          [
           "84"
          ],
          [
           "85"
          ],
          [
           "49"
          ],
          [
           "86"
          ],
          [
           "61"
          ],
          [
           "21"
          ],
          [
           "84"
          ],
          [
           "61"
          ],
          [
           "85"
          ],
          [
           "21"
          ],
          [
           "85"
          ],
          [
           "21"
          ],
          [
           "61"
          ],
          [
           "84"
          ],
          [
           "96"
          ],
          [
           "91"
          ],
          [
           "86"
          ],
          [
           "49"
          ],
          [
           "85"
          ],
          [
           "96"
          ],
          [
           "49"
          ],
          [
           "61"
          ],
          [
           "49"
          ],
          [
           "68"
          ],
          [
           "84"
          ],
          [
           "65"
          ],
          [
           "49"
          ],
          [
           "91"
          ],
          [
           "84"
          ],
          [
           "86"
          ],
          [
           "65"
          ],
          [
           "51"
          ],
          [
           "68"
          ],
          [
           "91"
          ],
          [
           "91"
          ],
          [
           "68"
          ],
          [
           "91"
          ],
          [
           "65"
          ],
          [
           "49"
          ],
          [
           "61"
          ],
          [
           "68"
          ],
          [
           "84"
          ],
          [
           "65"
          ],
          [
           "49"
          ],
          [
           "46"
          ],
          [
           "85"
          ],
          [
           "51"
          ],
          [
           "96"
          ],
          [
           "85"
          ],
          [
           "61"
          ],
          [
           "49"
          ],
          [
           "68"
          ],
          [
           "96"
          ],
          [
           "96"
          ],
          [
           "91"
          ],
          [
           "55"
          ],
          [
           "85"
          ],
          [
           "91"
          ],
          [
           "61"
          ],
          [
           "55"
          ],
          [
           "96"
          ],
          [
           "91"
          ],
          [
           "51"
          ],
          [
           "85"
          ],
          [
           "49"
          ],
          [
           "85"
          ],
          [
           "21"
          ],
          [
           "61"
          ],
          [
           "91"
          ],
          [
           "49"
          ],
          [
           "91"
          ],
          [
           "91"
          ],
          [
           "21"
          ],
          [
           "61"
          ],
          [
           "65"
          ],
          [
           "96"
          ],
          [
           "51"
          ],
          [
           "95"
          ],
          [
           "84"
          ],
          [
           "55"
          ],
          [
           "96"
          ],
          [
           "96"
          ],
          [
           "51"
          ],
          [
           "68"
          ],
          [
           "65"
          ],
          [
           "68"
          ],
          [
           "96"
          ],
          [
           "51"
          ],
          [
           "51"
          ],
          [
           "55"
          ],
          [
           "21"
          ],
          [
           "65"
          ],
          [
           "61"
          ],
          [
           "65"
          ],
          [
           "96"
          ],
          [
           "51"
          ],
          [
           "51"
          ],
          [
           "96"
          ],
          [
           "68"
          ],
          [
           "68"
          ],
          [
           "51"
          ],
          [
           "21"
          ],
          [
           "49"
          ],
          [
           "85"
          ],
          [
           "46"
          ],
          [
           "55"
          ],
          [
           "55"
          ],
          [
           "55"
          ],
          [
           "91"
          ],
          [
           "51"
          ],
          [
           "85"
          ],
          [
           "73"
          ],
          [
           "68"
          ],
          [
           "55"
          ],
          [
           "55"
          ],
          [
           "45"
          ],
          [
           "73"
          ],
          [
           "73"
          ],
          [
           "51"
          ],
          [
           "95"
          ],
          [
           "68"
          ],
          [
           "91"
          ],
          [
           "45"
          ],
          [
           "95"
          ],
          [
           "95"
          ],
          [
           "95"
          ],
          [
           "46"
          ],
          [
           "45"
          ],
          [
           "55"
          ],
          [
           "55"
          ],
          [
           "95"
          ],
          [
           "45"
          ],
          [
           "45"
          ],
          [
           "45"
          ],
          [
           "46"
          ],
          [
           "45"
          ],
          [
           "46"
          ],
          [
           "96"
          ],
          [
           "96"
          ],
          [
           "45"
          ],
          [
           "55"
          ],
          [
           "87"
          ],
          [
           "73"
          ],
          [
           "73"
          ],
          [
           "95"
          ],
          [
           "45"
          ],
          [
           "45"
          ],
          [
           "73"
          ],
          [
           "73"
          ],
          [
           "55"
          ],
          [
           "68"
          ],
          [
           "85"
          ],
          [
           "91"
          ],
          [
           "62"
          ],
          [
           "52"
          ],
          [
           "96"
          ],
          [
           "51"
          ],
          [
           "66"
          ],
          [
           "85"
          ],
          [
           "95"
          ],
          [
           "85"
          ],
          [
           "73"
          ],
          [
           "52"
          ],
          [
           "95"
          ],
          [
           "55"
          ],
          [
           "66"
          ],
          [
           "51"
          ],
          [
           "52"
          ],
          [
           "95"
          ],
          [
           "95"
          ],
          [
           "66"
          ],
          [
           "87"
          ],
          [
           "68"
          ],
          [
           "45"
          ],
          [
           "52"
          ],
          [
           "66"
          ],
          [
           "95"
          ],
          [
           "73"
          ],
          [
           "75"
          ],
          [
           "52"
          ],
          [
           "51"
          ],
          [
           "94"
          ],
          [
           "52"
          ],
          [
           "46"
          ],
          [
           "73"
          ],
          [
           "68"
          ],
          [
           "45"
          ],
          [
           "66"
          ],
          [
           "46"
          ],
          [
           "73"
          ],
          [
           "55"
          ],
          [
           "75"
          ],
          [
           "95"
          ],
          [
           "62"
          ],
          [
           "45"
          ],
          [
           "87"
          ],
          [
           "87"
          ],
          [
           "52"
          ],
          [
           "66"
          ],
          [
           "52"
          ],
          [
           "75"
          ],
          [
           "73"
          ],
          [
           "62"
          ],
          [
           "62"
          ],
          [
           "62"
          ],
          [
           "87"
          ],
          [
           "45"
          ],
          [
           "62"
          ],
          [
           "21"
          ],
          [
           "66"
          ],
          [
           "52"
          ],
          [
           "10"
          ],
          [
           "21"
          ],
          [
           "66"
          ],
          [
           "75"
          ],
          [
           "66"
          ],
          [
           "95"
          ],
          [
           "75"
          ],
          [
           "73"
          ],
          [
           "66"
          ],
          [
           "52"
          ],
          [
           "35"
          ],
          [
           "75"
          ],
          [
           "62"
          ],
          [
           "46"
          ],
          [
           "52"
          ],
          [
           "95"
          ],
          [
           "46"
          ],
          [
           "94"
          ],
          [
           "75"
          ],
          [
           "73"
          ],
          [
           "87"
          ],
          [
           "46"
          ],
          [
           "21"
          ],
          [
           "87"
          ],
          [
           "62"
          ],
          [
           "68"
          ],
          [
           "21"
          ],
          [
           "66"
          ],
          [
           "52"
          ],
          [
           "94"
          ],
          [
           "59"
          ],
          [
           "94"
          ],
          [
           "75"
          ],
          [
           "87"
          ],
          [
           "90"
          ],
          [
           "62"
          ],
          [
           "18"
          ],
          [
           "75"
          ],
          [
           "18"
          ],
          [
           "66"
          ],
          [
           "52"
          ],
          [
           "75"
          ],
          [
           "94"
          ],
          [
           "75"
          ],
          [
           "94"
          ],
          [
           "45"
          ],
          [
           "62"
          ],
          [
           "62"
          ],
          [
           "90"
          ],
          [
           "52"
          ],
          [
           "52"
          ],
          [
           "66"
          ],
          [
           "62"
          ],
          [
           "90"
          ],
          [
           "62"
          ],
          [
           "94"
          ],
          [
           "73"
          ],
          [
           "35"
          ],
          [
           "75"
          ],
          [
           "33"
          ],
          [
           "59"
          ],
          [
           "33"
          ],
          [
           "35"
          ],
          [
           "76"
          ],
          [
           "75"
          ],
          [
           "33"
          ],
          [
           "42"
          ],
          [
           "59"
          ],
          [
           "33"
          ],
          [
           "71"
          ],
          [
           "46"
          ],
          [
           "59"
          ],
          [
           "94"
          ],
          [
           "21"
          ],
          [
           "62"
          ],
          [
           "71"
          ],
          [
           "35"
          ],
          [
           "94"
          ],
          [
           "71"
          ],
          [
           "33"
          ],
          [
           "33"
          ],
          [
           "35"
          ],
          [
           "87"
          ],
          [
           "59"
          ],
          [
           "71"
          ],
          [
           "10"
          ],
          [
           "18"
          ],
          [
           "33"
          ],
          [
           "71"
          ],
          [
           "66"
          ],
          [
           "76"
          ],
          [
           "35"
          ],
          [
           "90"
          ],
          [
           "33"
          ],
          [
           "90"
          ],
          [
           "46"
          ],
          [
           "71"
          ],
          [
           "94"
          ],
          [
           "59"
          ],
          [
           "33"
          ],
          [
           "33"
          ],
          [
           "71"
          ],
          [
           "75"
          ],
          [
           "87"
          ],
          [
           "59"
          ],
          [
           "33"
          ],
          [
           "87"
          ],
          [
           "75"
          ],
          [
           "35"
          ],
          [
           "90"
          ],
          [
           "76"
          ],
          [
           "71"
          ],
          [
           "76"
          ],
          [
           "94"
          ],
          [
           "33"
          ],
          [
           "90"
          ],
          [
           "35"
          ],
          [
           "66"
          ],
          [
           "33"
          ],
          [
           "46"
          ],
          [
           "71"
          ],
          [
           "18"
          ],
          [
           "59"
          ],
          [
           "35"
          ],
          [
           "46"
          ],
          [
           "10"
          ],
          [
           "71"
          ],
          [
           "33"
          ],
          [
           "94"
          ],
          [
           "59"
          ],
          [
           "87"
          ],
          [
           "59"
          ],
          [
           "71"
          ],
          [
           "76"
          ],
          [
           "59"
          ],
          [
           "58"
          ],
          [
           "18"
          ],
          [
           "33"
          ],
          [
           "58"
          ],
          [
           "87"
          ],
          [
           "87"
          ],
          [
           "76"
          ],
          [
           "35"
          ],
          [
           "71"
          ],
          [
           "18"
          ],
          [
           "58"
          ],
          [
           "29"
          ],
          [
           "10"
          ],
          [
           "76"
          ],
          [
           "10"
          ],
          [
           "90"
          ],
          [
           "10"
          ],
          [
           "58"
          ],
          [
           "70"
          ],
          [
           "71"
          ],
          [
           "90"
          ],
          [
           "62"
          ],
          [
           "90"
          ],
          [
           "90"
          ],
          [
           "59"
          ],
          [
           "10"
          ],
          [
           "71"
          ],
          [
           "76"
          ],
          [
           "18"
          ],
          [
           "76"
          ],
          [
           "58"
          ],
          [
           "35"
          ],
          [
           "59"
          ],
          [
           "59"
          ],
          [
           "42"
          ],
          [
           "46"
          ],
          [
           "90"
          ],
          [
           "10"
          ],
          [
           "76"
          ],
          [
           "87"
          ],
          [
           "94"
          ],
          [
           "90"
          ],
          [
           "58"
          ],
          [
           "18"
          ],
          [
           "42"
          ],
          [
           "76"
          ],
          [
           "18"
          ],
          [
           "10"
          ],
          [
           "18"
          ],
          [
           "94"
          ],
          [
           "35"
          ],
          [
           "58"
          ],
          [
           "18"
          ],
          [
           "35"
          ],
          [
           "18"
          ],
          [
           "76"
          ],
          [
           "42"
          ],
          [
           "35"
          ],
          [
           "76"
          ],
          [
           "90"
          ],
          [
           "29"
          ],
          [
           "29"
          ],
          [
           "29"
          ],
          [
           "76"
          ],
          [
           "58"
          ],
          [
           "42"
          ],
          [
           "59"
          ],
          [
           "42"
          ],
          [
           "50"
          ],
          [
           "71"
          ],
          [
           "29"
          ],
          [
           "18"
          ],
          [
           "29"
          ],
          [
           "29"
          ],
          [
           "94"
          ],
          [
           "42"
          ],
          [
           "18"
          ],
          [
           "29"
          ],
          [
           "58"
          ],
          [
           "50"
          ],
          [
           "90"
          ],
          [
           "29"
          ],
          [
           "42"
          ],
          [
           "58"
          ],
          [
           "50"
          ],
          [
           "10"
          ],
          [
           "50"
          ],
          [
           "76"
          ],
          [
           "42"
          ],
          [
           "29"
          ],
          [
           "42"
          ],
          [
           "10"
          ],
          [
           "42"
          ],
          [
           "58"
          ],
          [
           "18"
          ],
          [
           "10"
          ],
          [
           "10"
          ],
          [
           "50"
          ],
          [
           "50"
          ],
          [
           "42"
          ],
          [
           "74"
          ],
          [
           "74"
          ],
          [
           "50"
          ],
          [
           "50"
          ],
          [
           "60"
          ],
          [
           "50"
          ],
          [
           "10"
          ],
          [
           "10"
          ],
          [
           "58"
          ],
          [
           "50"
          ],
          [
           "60"
          ],
          [
           "50"
          ],
          [
           "74"
          ],
          [
           "60"
          ],
          [
           "50"
          ],
          [
           "74"
          ],
          [
           "74"
          ],
          [
           "29"
          ],
          [
           "70"
          ],
          [
           "34"
          ],
          [
           "50"
          ],
          [
           "42"
          ],
          [
           "60"
          ],
          [
           "41"
          ],
          [
           "70"
          ],
          [
           "60"
          ],
          [
           "74"
          ],
          [
           "60"
          ],
          [
           "29"
          ],
          [
           "41"
          ],
          [
           "50"
          ],
          [
           "50"
          ],
          [
           "70"
          ],
          [
           "34"
          ],
          [
           "60"
          ],
          [
           "74"
          ],
          [
           "70"
          ],
          [
           "60"
          ],
          [
           "74"
          ],
          [
           "70"
          ],
          [
           "60"
          ],
          [
           "34"
          ],
          [
           "70"
          ],
          [
           "74"
          ],
          [
           "41"
          ],
          [
           "14"
          ],
          [
           "42"
          ],
          [
           "74"
          ],
          [
           "74"
          ],
          [
           "29"
          ],
          [
           "34"
          ],
          [
           "29"
          ],
          [
           "41"
          ],
          [
           "35"
          ],
          [
           "29"
          ],
          [
           "74"
          ],
          [
           "70"
          ],
          [
           "34"
          ],
          [
           "60"
          ],
          [
           "14"
          ],
          [
           "42"
          ],
          [
           "14"
          ],
          [
           "60"
          ],
          [
           "70"
          ],
          [
           "14"
          ],
          [
           "70"
          ],
          [
           "70"
          ],
          [
           "70"
          ],
          [
           "74"
          ],
          [
           "60"
          ],
          [
           "70"
          ],
          [
           "14"
          ],
          [
           "34"
          ],
          [
           "60"
          ],
          [
           "74"
          ],
          [
           "58"
          ],
          [
           "14"
          ],
          [
           "34"
          ],
          [
           "74"
          ],
          [
           "14"
          ],
          [
           "14"
          ],
          [
           "14"
          ],
          [
           "34"
          ],
          [
           "70"
          ],
          [
           "34"
          ],
          [
           "34"
          ],
          [
           "34"
          ],
          [
           "70"
          ],
          [
           "41"
          ],
          [
           "14"
          ],
          [
           "41"
          ],
          [
           "14"
          ],
          [
           "34"
          ],
          [
           "41"
          ],
          [
           "34"
          ],
          [
           "60"
          ],
          [
           "60"
          ],
          [
           "41"
          ],
          [
           "30"
          ],
          [
           "21"
          ],
          [
           "14"
          ],
          [
           "34"
          ],
          [
           "34"
          ],
          [
           "30"
          ],
          [
           "41"
          ],
          [
           "41"
          ],
          [
           "30"
          ],
          [
           "41"
          ],
          [
           "30"
          ]
         ],
         "hovertemplate": "city_s=%{x}<br>cost=%{marker.color}<br>code_m=%{customdata[0]}<extra></extra>",
         "legendgroup": "",
         "marker": {
          "color": [
           84980273638,
           79133537985,
           62920568978,
           62600241433,
           60854397740,
           57127442796,
           48290718483,
           44708859867,
           42175118600,
           41103665202,
           40693299026,
           33997892717,
           24956572707,
           21273352624,
           19222769183,
           17477477402,
           16029931622,
           15219310894,
           14843011542,
           14228425778,
           13569644571,
           11565989913,
           11166974080,
           11163694077,
           10468835860,
           10415596539,
           9159680013,
           8637670737,
           8570453767,
           7974642838,
           7596846898,
           7439599553,
           7296161774,
           7175483923,
           7161358490,
           6970998081,
           6221138409,
           6097574423,
           6008401439,
           5769719840,
           5735014895,
           5272398569,
           4460419009,
           4251804264,
           4231832127,
           4172791974,
           4170841727,
           3994442595,
           3967960045,
           3894653948,
           3708615884,
           3497389460,
           3493315323,
           3420618173,
           3404785837,
           3389628830,
           3327071324,
           3269605633,
           3261292065,
           3253990000,
           3245436474,
           3175513331,
           3133362888,
           3088593168,
           3033650000,
           3031182961,
           2993235024,
           2965711817,
           2953963244,
           2948051525,
           2934945323,
           2927916941,
           2889987195,
           2842898724,
           2822966411,
           2656560000,
           2655823552,
           2646788596,
           2642207307,
           2577390000,
           2567672387,
           2557490000,
           2541773268,
           2523064427,
           2329624849,
           2311962495,
           2275188594,
           2250186418,
           2142217285,
           2104774593,
           2079518683,
           2077378433,
           2061539059,
           2049987310,
           2047364169,
           1981717802,
           1981018287,
           1977935496,
           1958190732,
           1940514909,
           1932234210,
           1902973697,
           1848016750,
           1846968480,
           1793302865,
           1770367430,
           1769973563,
           1736245933,
           1735121929,
           1720810193,
           1714025590,
           1657094996,
           1637437414,
           1636979986,
           1624583900,
           1587670858,
           1584198396,
           1556079179,
           1554345059,
           1544418783,
           1518482777,
           1512690990,
           1493548956,
           1482877334,
           1467895408,
           1412402158,
           1411958780,
           1394069153,
           1368520892,
           1360364896,
           1329263327,
           1286196275,
           1283159658,
           1275410725,
           1275261707,
           1248452322,
           1233960000,
           1232890690,
           1228947654,
           1208039601,
           1206599040,
           1187432122,
           1137090000,
           1117785798,
           1115839068,
           1109054270,
           1100228745,
           1035265036,
           1032134340,
           1025971542,
           1021586611,
           1008345603,
           994938592,
           986161500,
           971798649,
           961777080,
           960481607,
           956774662,
           942606834,
           938976395,
           924900000,
           908712551,
           907732548,
           880481050,
           877461050,
           866453683,
           866066139,
           863693648,
           846716550,
           813448640,
           808152960,
           806160000,
           804100705,
           793957750,
           788416290,
           786612667,
           785605928,
           767075979,
           741509075,
           737856981,
           714463682,
           673313578,
           669993025,
           669878069,
           666042855,
           643759400,
           643400955,
           642930535,
           635709547,
           630728291,
           611369852,
           607418550,
           604964780,
           603577334,
           600706422,
           596274840,
           593903300,
           587396448,
           586464319,
           586266503,
           576843222,
           569381000,
           556722960,
           523440027,
           522376390,
           517701400,
           513129000,
           512484224,
           499067469,
           493754170,
           471227457,
           450014000,
           449179325,
           448090320,
           432759374,
           427756000,
           425451000,
           421822502,
           419089178,
           418042717,
           414138440,
           406732809,
           393031550,
           391950000,
           386370890,
           382511702,
           370225690,
           360808000,
           360126650,
           357486467,
           355918460,
           353693435,
           331198276,
           311411555,
           309079238,
           298088000,
           297833297,
           296650669,
           286303777,
           284839698,
           283855000,
           279749000,
           265948300,
           263075000,
           262576470,
           262221000,
           261022294,
           260484920,
           260050606,
           247262981,
           247149460,
           245825440,
           243770900,
           239542940,
           237050700,
           234930940,
           233124178,
           231090000,
           227661100,
           226914700,
           225477597,
           225293126,
           223674958,
           222950000,
           222547000,
           217025000,
           216855000,
           215918575,
           211699000,
           211304700,
           209045000,
           204935650,
           202790000,
           201820000,
           200960000,
           197184000,
           195275000,
           194340000,
           190940000,
           187654000,
           186261815,
           185573388,
           182780000,
           177787000,
           177493355,
           176517000,
           164056225,
           163449315,
           163211050,
           163120000,
           158969035,
           157800620,
           157420127,
           155480000,
           155028160,
           147357780,
           146223157,
           146108625,
           141932160,
           135033839,
           132807630,
           131267000,
           130712000,
           128950000,
           128830000,
           128610000,
           127187280,
           125690000,
           125587000,
           124144995,
           122141000,
           116710570,
           116563610,
           115774992,
           115317000,
           113743227,
           112090000,
           110999000,
           103946228,
           103288000,
           102037000,
           100651398,
           99992298,
           99334500,
           99193333,
           97937160,
           96485400,
           95110000,
           94120000,
           91278800,
           90394220,
           90235650,
           89445000,
           89030000,
           88718050,
           88530000,
           86066010,
           84369760,
           84018110,
           83475391,
           83471000,
           81434480,
           81301865,
           78608840,
           76951700,
           76831337,
           76292970,
           76122000,
           75694840,
           74020620,
           73110018,
           72208000,
           71584500,
           71306500,
           69810000,
           69780000,
           68654927,
           68538320,
           68357500,
           67192490,
           66959481,
           65115555,
           64976970,
           64007000,
           63981150,
           63158470,
           62420449,
           62388000,
           62289704,
           61940020,
           61534000,
           61426820,
           61144130,
           60745399,
           60561642,
           60399450,
           60254000,
           59827407,
           59631000,
           59206460,
           59016802,
           58418160,
           58370789,
           57332566,
           57167000,
           57165660,
           55776375,
           55680000,
           54967586,
           54569430,
           54509539,
           54203350,
           54024085,
           53979150,
           53703900,
           53401998,
           53256780,
           53203230,
           52100000,
           51439345,
           51027325,
           50235780,
           49523000,
           49231380,
           48501840,
           47388000,
           46946438,
           46905646,
           45979550,
           44091000,
           43779000,
           42430000,
           41649200,
           41599010,
           41265250,
           40264600,
           40226560,
           40107000,
           40070600,
           39553950,
           39468000,
           38131000,
           37810600,
           37806130,
           37802195,
           36405000,
           36051750,
           35961210,
           35208408,
           34657255,
           34455957,
           34433980,
           34222555,
           33968770,
           33868000,
           33525353,
           33190000,
           32940000,
           32926020,
           32143000,
           31920000,
           31533078,
           30097579,
           29974280,
           28687000,
           28031500,
           27740200,
           27676600,
           27643700,
           27587490,
           27400600,
           27135000,
           26722160,
           26692529,
           25656100,
           25274000,
           24492200,
           24415844,
           24336986,
           23376000,
           23132100,
           22971100,
           21818000,
           21411059,
           21093000,
           20390000,
           19863250,
           19782460,
           19617000,
           18987840,
           18927000,
           18372770,
           17907200,
           17570120,
           17409300,
           16873790,
           16848790,
           16475420,
           15387100,
           15342000,
           15204150,
           14963200,
           14913490,
           14891000,
           14810520,
           14737864,
           14235500,
           14035000,
           13981250,
           13855510,
           13824600,
           13725000,
           13642000,
           13477000,
           13306250,
           12724330,
           12560450,
           12183300,
           11442000,
           11419520,
           10848940,
           10586590,
           10580600,
           10560600,
           10101000,
           9822750,
           9705500,
           9579390,
           9475700,
           9022000,
           8956000,
           8912003,
           8739469,
           8654200,
           8623770,
           8594000,
           8443000,
           8277000,
           8116000,
           7970700,
           7917086,
           7529000,
           7181500,
           6738600,
           6592350,
           6125000,
           5750709,
           5463000,
           5346000,
           4980202,
           4976850,
           4749000,
           4708000,
           4657000,
           4641000,
           4610000,
           4394300,
           4376000,
           4107638,
           4032000,
           3996000,
           3798000,
           3628000,
           3305342,
           3136000,
           3101400,
           2992000,
           2989000,
           2970000,
           2900000,
           2837373,
           2546000,
           2542000,
           2511180,
           2479000,
           2419000,
           2384493,
           2270000,
           2246000,
           2165000,
           2135300,
           2085000,
           2031000,
           2027000,
           2006000,
           1845000,
           1800000,
           1746000,
           1739300,
           1683060,
           1590950,
           1562000,
           1554000,
           1540000,
           1482481,
           1462000,
           1409000,
           1391000,
           1285877,
           1215000,
           1126000,
           1055000,
           1049000,
           845000,
           794000,
           789970,
           779000,
           665000,
           640000,
           575000,
           539000,
           533000,
           531000,
           520000,
           516000,
           507000,
           502000,
           477000,
           460000,
           434000,
           310000,
           280000,
           270000,
           260000,
           255300,
           233000,
           176900,
           175000,
           170000,
           162900,
           160000,
           135000,
           134000,
           122100,
           122000,
           120000,
           117000,
           100000,
           70000,
           61000,
           49700,
           27500,
           21000,
           17900,
           11000
          ],
          "coloraxis": "coloraxis",
          "pattern": {
           "shape": ""
          }
         },
         "name": "",
         "offsetgroup": "",
         "orientation": "v",
         "showlegend": false,
         "textposition": "auto",
         "type": "bar",
         "x": [
          "약수동",
          "황학동",
          "중림동",
          "청구동",
          "다산동",
          "동화동",
          "신당동",
          "신당5동",
          "회현동",
          "광희동",
          "명동",
          "소공동",
          "필동",
          "장충동",
          "약수동",
          "황학동",
          "을지로동",
          "다산동",
          "청구동",
          "중림동",
          "동화동",
          "신당동",
          "신당5동",
          "약수동",
          "광희동",
          "약수동",
          "명동",
          "황학동",
          "다산동",
          "소공동",
          "회현동",
          "청구동",
          "동화동",
          "다산동",
          "필동",
          "중림동",
          "황학동",
          "소공동",
          "장충동",
          "동화동",
          "신당동",
          "신당5동",
          "을지로동",
          "약수동",
          "회현동",
          "명동",
          "황학동",
          "광희동",
          "약수동",
          "약수동",
          "청구동",
          "소공동",
          "다산동",
          "다산동",
          "황학동",
          "중림동",
          "황학동",
          "약수동",
          "중림동",
          "동화동",
          "회현동",
          "청구동",
          "다산동",
          "신당동",
          "청구동",
          "청구동",
          "동화동",
          "약수동",
          "중림동",
          "동화동",
          "광희동",
          "중림동",
          "청구동",
          "필동",
          "중림동",
          "광희동",
          "명동",
          "신당5동",
          "동화동",
          "회현동",
          "청구동",
          "황학동",
          "신당동",
          "회현동",
          "약수동",
          "황학동",
          "장충동",
          "동화동",
          "황학동",
          "황학동",
          "신당동",
          "광희동",
          "광희동",
          "약수동",
          "을지로동",
          "신당5동",
          "신당5동",
          "청구동",
          "필동",
          "을지로동",
          "신당동",
          "약수동",
          "동화동",
          "중림동",
          "동화동",
          "황학동",
          "다산동",
          "광희동",
          "명동",
          "명동",
          "중림동",
          "신당5동",
          "명동",
          "소공동",
          "청구동",
          "명동",
          "황학동",
          "청구동",
          "다산동",
          "회현동",
          "회현동",
          "청구동",
          "동화동",
          "다산동",
          "명동",
          "약수동",
          "소공동",
          "신당5동",
          "소공동",
          "소공동",
          "중림동",
          "회현동",
          "중림동",
          "회현동",
          "필동",
          "신당5동",
          "중림동",
          "필동",
          "신당동",
          "장충동",
          "소공동",
          "광희동",
          "신당동",
          "장충동",
          "소공동",
          "신당5동",
          "청구동",
          "약수동",
          "장충동",
          "중림동",
          "명동",
          "신당동",
          "회현동",
          "소공동",
          "필동",
          "신당5동",
          "광희동",
          "동화동",
          "다산동",
          "명동",
          "명동",
          "을지로동",
          "을지로동",
          "장충동",
          "소공동",
          "소공동",
          "명동",
          "회현동",
          "명동",
          "회현동",
          "광희동",
          "약수동",
          "을지로동",
          "광희동",
          "황학동",
          "황학동",
          "회현동",
          "청구동",
          "필동",
          "신당동",
          "신당동",
          "다산동",
          "광희동",
          "동화동",
          "다산동",
          "약수동",
          "약수동",
          "황학동",
          "신당5동",
          "다산동",
          "신당동",
          "장충동",
          "청구동",
          "청구동",
          "동화동",
          "황학동",
          "회현동",
          "중림동",
          "필동",
          "광희동",
          "중림동",
          "소공동",
          "다산동",
          "황학동",
          "광희동",
          "동화동",
          "명동",
          "필동",
          "장충동",
          "신당5동",
          "신당동",
          "중림동",
          "청구동",
          "동화동",
          "광희동",
          "명동",
          "광희동",
          "중림동",
          "신당동",
          "신당5동",
          "다산동",
          "필동",
          "을지로동",
          "황학동",
          "약수동",
          "을지로동",
          "장충동",
          "중림동",
          "장충동",
          "신당5동",
          "을지로동",
          "신당5동",
          "다산동",
          "신당동",
          "장충동",
          "약수동",
          "필동",
          "황학동",
          "회현동",
          "명동",
          "황학동",
          "약수동",
          "필동",
          "회현동",
          "청구동",
          "청구동",
          "소공동",
          "명동",
          "약수동",
          "동화동",
          "을지로동",
          "약수동",
          "중림동",
          "약수동",
          "광희동",
          "을지로동",
          "신당동",
          "다산동",
          "동화동",
          "소공동",
          "을지로동",
          "중림동",
          "을지로동",
          "중림동",
          "을지로동",
          "청구동",
          "동화동",
          "신당동",
          "소공동",
          "광희동",
          "황학동",
          "회현동",
          "다산동",
          "명동",
          "청구동",
          "황학동",
          "장충동",
          "신당동",
          "소공동",
          "명동",
          "신당5동",
          "청구동",
          "다산동",
          "광희동",
          "회현동",
          "동화동",
          "필동",
          "다산동",
          "필동",
          "회현동",
          "명동",
          "다산동",
          "청구동",
          "약수동",
          "다산동",
          "회현동",
          "장충동",
          "중림동",
          "청구동",
          "동화동",
          "장충동",
          "다산동",
          "소공동",
          "을지로동",
          "광희동",
          "광희동",
          "장충동",
          "신당5동",
          "신당동",
          "소공동",
          "동화동",
          "약수동",
          "황학동",
          "신당동",
          "소공동",
          "약수동",
          "필동",
          "필동",
          "광희동",
          "을지로동",
          "신당5동",
          "장충동",
          "신당5동",
          "신당동",
          "명동",
          "다산동",
          "필동",
          "동화동",
          "신당5동",
          "황학동",
          "필동",
          "을지로동",
          "을지로동",
          "소공동",
          "중림동",
          "장충동",
          "중림동",
          "을지로동",
          "황학동",
          "을지로동",
          "명동",
          "동화동",
          "황학동",
          "신당5동",
          "중림동",
          "소공동",
          "중림동",
          "회현동",
          "황학동",
          "필동",
          "다산동",
          "필동",
          "청구동",
          "신당5동",
          "필동",
          "회현동",
          "청구동",
          "청구동",
          "필동",
          "중림동",
          "광희동",
          "다산동",
          "약수동",
          "신당동",
          "중림동",
          "동화동",
          "약수동",
          "광희동",
          "을지로동",
          "황학동",
          "필동",
          "동화동",
          "동화동",
          "동화동",
          "동화동",
          "광희동",
          "신당동",
          "광희동",
          "명동",
          "다산동",
          "약수동",
          "청구동",
          "약수동",
          "필동",
          "을지로동",
          "신당5동",
          "신당동",
          "명동",
          "장충동",
          "신당동",
          "청구동",
          "약수동",
          "소공동",
          "신당동",
          "광희동",
          "신당5동",
          "다산동",
          "중림동",
          "장충동",
          "장충동",
          "신당5동",
          "회현동",
          "약수동",
          "신당동",
          "장충동",
          "을지로동",
          "다산동",
          "신당동",
          "회현동",
          "소공동",
          "명동",
          "필동",
          "광희동",
          "명동",
          "다산동",
          "필동",
          "황학동",
          "중림동",
          "소공동",
          "중림동",
          "신당5동",
          "회현동",
          "명동",
          "광희동",
          "신당5동",
          "황학동",
          "다산동",
          "황학동",
          "황학동",
          "황학동",
          "동화동",
          "회현동",
          "신당5동",
          "동화동",
          "명동",
          "필동",
          "필동",
          "을지로동",
          "신당동",
          "명동",
          "소공동",
          "신당동",
          "장충동",
          "청구동",
          "명동",
          "필동",
          "약수동",
          "회현동",
          "회현동",
          "장충동",
          "다산동",
          "장충동",
          "소공동",
          "중림동",
          "장충동",
          "장충동",
          "회현동",
          "신당5동",
          "청구동",
          "신당5동",
          "약수동",
          "신당5동",
          "청구동",
          "광희동",
          "회현동",
          "장충동",
          "필동",
          "신당5동",
          "장충동",
          "을지로동",
          "다산동",
          "광희동",
          "황학동",
          "명동",
          "소공동",
          "장충동",
          "다산동",
          "청구동",
          "장충동",
          "회현동",
          "필동",
          "청구동",
          "을지로동",
          "광희동",
          "약수동",
          "을지로동",
          "동화동",
          "동화동",
          "약수동",
          "명동",
          "을지로동",
          "동화동",
          "신당동",
          "광희동",
          "신당동",
          "중림동",
          "을지로동",
          "중림동",
          "필동",
          "회현동",
          "황학동",
          "소공동",
          "청구동",
          "을지로동",
          "명동",
          "신당동",
          "중림동",
          "장충동",
          "신당5동",
          "소공동",
          "소공동",
          "명동",
          "필동",
          "신당동",
          "다산동",
          "소공동",
          "회현동",
          "청구동",
          "신당5동",
          "동화동",
          "약수동",
          "소공동",
          "회현동",
          "을지로동",
          "명동",
          "명동",
          "신당동",
          "필동",
          "동화동",
          "다산동",
          "장충동",
          "다산동",
          "약수동",
          "필동",
          "중림동",
          "다산동",
          "회현동",
          "장충동",
          "중림동",
          "광희동",
          "약수동",
          "소공동",
          "신당5동",
          "청구동",
          "회현동",
          "다산동",
          "광희동",
          "을지로동",
          "신당5동",
          "청구동",
          "황학동",
          "명동",
          "청구동",
          "장충동",
          "소공동",
          "황학동",
          "광희동",
          "중림동",
          "동화동",
          "장충동",
          "중림동",
          "소공동",
          "신당동",
          "황학동",
          "신당동",
          "소공동",
          "신당동",
          "을지로동",
          "신당5동",
          "소공동",
          "신당5동",
          "광희동",
          "을지로동",
          "동화동",
          "동화동",
          "회현동",
          "을지로동",
          "약수동",
          "신당5동",
          "필동",
          "청구동",
          "소공동",
          "회현동",
          "광희동",
          "중림동",
          "필동",
          "다산동",
          "동화동",
          "을지로동",
          "명동",
          "필동",
          "장충동",
          "광희동",
          "필동",
          "을지로동",
          "중림동",
          "신당동",
          "명동",
          "명동",
          "장충동",
          "소공동",
          "황학동",
          "장충동",
          "신당동",
          "황학동",
          "황학동",
          "청구동",
          "장충동",
          "신당5동",
          "약수동",
          "약수동",
          "을지로동",
          "회현동",
          "동화동",
          "중림동",
          "장충동",
          "다산동",
          "회현동",
          "광희동",
          "동화동",
          "신당동",
          "소공동",
          "회현동",
          "명동",
          "약수동"
         ],
         "xaxis": "x",
         "y": [
          84980273638,
          79133537985,
          62920568978,
          62600241433,
          60854397740,
          57127442796,
          48290718483,
          44708859867,
          42175118600,
          41103665202,
          40693299026,
          33997892717,
          24956572707,
          21273352624,
          19222769183,
          17477477402,
          16029931622,
          15219310894,
          14843011542,
          14228425778,
          13569644571,
          11565989913,
          11166974080,
          11163694077,
          10468835860,
          10415596539,
          9159680013,
          8637670737,
          8570453767,
          7974642838,
          7596846898,
          7439599553,
          7296161774,
          7175483923,
          7161358490,
          6970998081,
          6221138409,
          6097574423,
          6008401439,
          5769719840,
          5735014895,
          5272398569,
          4460419009,
          4251804264,
          4231832127,
          4172791974,
          4170841727,
          3994442595,
          3967960045,
          3894653948,
          3708615884,
          3497389460,
          3493315323,
          3420618173,
          3404785837,
          3389628830,
          3327071324,
          3269605633,
          3261292065,
          3253990000,
          3245436474,
          3175513331,
          3133362888,
          3088593168,
          3033650000,
          3031182961,
          2993235024,
          2965711817,
          2953963244,
          2948051525,
          2934945323,
          2927916941,
          2889987195,
          2842898724,
          2822966411,
          2656560000,
          2655823552,
          2646788596,
          2642207307,
          2577390000,
          2567672387,
          2557490000,
          2541773268,
          2523064427,
          2329624849,
          2311962495,
          2275188594,
          2250186418,
          2142217285,
          2104774593,
          2079518683,
          2077378433,
          2061539059,
          2049987310,
          2047364169,
          1981717802,
          1981018287,
          1977935496,
          1958190732,
          1940514909,
          1932234210,
          1902973697,
          1848016750,
          1846968480,
          1793302865,
          1770367430,
          1769973563,
          1736245933,
          1735121929,
          1720810193,
          1714025590,
          1657094996,
          1637437414,
          1636979986,
          1624583900,
          1587670858,
          1584198396,
          1556079179,
          1554345059,
          1544418783,
          1518482777,
          1512690990,
          1493548956,
          1482877334,
          1467895408,
          1412402158,
          1411958780,
          1394069153,
          1368520892,
          1360364896,
          1329263327,
          1286196275,
          1283159658,
          1275410725,
          1275261707,
          1248452322,
          1233960000,
          1232890690,
          1228947654,
          1208039601,
          1206599040,
          1187432122,
          1137090000,
          1117785798,
          1115839068,
          1109054270,
          1100228745,
          1035265036,
          1032134340,
          1025971542,
          1021586611,
          1008345603,
          994938592,
          986161500,
          971798649,
          961777080,
          960481607,
          956774662,
          942606834,
          938976395,
          924900000,
          908712551,
          907732548,
          880481050,
          877461050,
          866453683,
          866066139,
          863693648,
          846716550,
          813448640,
          808152960,
          806160000,
          804100705,
          793957750,
          788416290,
          786612667,
          785605928,
          767075979,
          741509075,
          737856981,
          714463682,
          673313578,
          669993025,
          669878069,
          666042855,
          643759400,
          643400955,
          642930535,
          635709547,
          630728291,
          611369852,
          607418550,
          604964780,
          603577334,
          600706422,
          596274840,
          593903300,
          587396448,
          586464319,
          586266503,
          576843222,
          569381000,
          556722960,
          523440027,
          522376390,
          517701400,
          513129000,
          512484224,
          499067469,
          493754170,
          471227457,
          450014000,
          449179325,
          448090320,
          432759374,
          427756000,
          425451000,
          421822502,
          419089178,
          418042717,
          414138440,
          406732809,
          393031550,
          391950000,
          386370890,
          382511702,
          370225690,
          360808000,
          360126650,
          357486467,
          355918460,
          353693435,
          331198276,
          311411555,
          309079238,
          298088000,
          297833297,
          296650669,
          286303777,
          284839698,
          283855000,
          279749000,
          265948300,
          263075000,
          262576470,
          262221000,
          261022294,
          260484920,
          260050606,
          247262981,
          247149460,
          245825440,
          243770900,
          239542940,
          237050700,
          234930940,
          233124178,
          231090000,
          227661100,
          226914700,
          225477597,
          225293126,
          223674958,
          222950000,
          222547000,
          217025000,
          216855000,
          215918575,
          211699000,
          211304700,
          209045000,
          204935650,
          202790000,
          201820000,
          200960000,
          197184000,
          195275000,
          194340000,
          190940000,
          187654000,
          186261815,
          185573388,
          182780000,
          177787000,
          177493355,
          176517000,
          164056225,
          163449315,
          163211050,
          163120000,
          158969035,
          157800620,
          157420127,
          155480000,
          155028160,
          147357780,
          146223157,
          146108625,
          141932160,
          135033839,
          132807630,
          131267000,
          130712000,
          128950000,
          128830000,
          128610000,
          127187280,
          125690000,
          125587000,
          124144995,
          122141000,
          116710570,
          116563610,
          115774992,
          115317000,
          113743227,
          112090000,
          110999000,
          103946228,
          103288000,
          102037000,
          100651398,
          99992298,
          99334500,
          99193333,
          97937160,
          96485400,
          95110000,
          94120000,
          91278800,
          90394220,
          90235650,
          89445000,
          89030000,
          88718050,
          88530000,
          86066010,
          84369760,
          84018110,
          83475391,
          83471000,
          81434480,
          81301865,
          78608840,
          76951700,
          76831337,
          76292970,
          76122000,
          75694840,
          74020620,
          73110018,
          72208000,
          71584500,
          71306500,
          69810000,
          69780000,
          68654927,
          68538320,
          68357500,
          67192490,
          66959481,
          65115555,
          64976970,
          64007000,
          63981150,
          63158470,
          62420449,
          62388000,
          62289704,
          61940020,
          61534000,
          61426820,
          61144130,
          60745399,
          60561642,
          60399450,
          60254000,
          59827407,
          59631000,
          59206460,
          59016802,
          58418160,
          58370789,
          57332566,
          57167000,
          57165660,
          55776375,
          55680000,
          54967586,
          54569430,
          54509539,
          54203350,
          54024085,
          53979150,
          53703900,
          53401998,
          53256780,
          53203230,
          52100000,
          51439345,
          51027325,
          50235780,
          49523000,
          49231380,
          48501840,
          47388000,
          46946438,
          46905646,
          45979550,
          44091000,
          43779000,
          42430000,
          41649200,
          41599010,
          41265250,
          40264600,
          40226560,
          40107000,
          40070600,
          39553950,
          39468000,
          38131000,
          37810600,
          37806130,
          37802195,
          36405000,
          36051750,
          35961210,
          35208408,
          34657255,
          34455957,
          34433980,
          34222555,
          33968770,
          33868000,
          33525353,
          33190000,
          32940000,
          32926020,
          32143000,
          31920000,
          31533078,
          30097579,
          29974280,
          28687000,
          28031500,
          27740200,
          27676600,
          27643700,
          27587490,
          27400600,
          27135000,
          26722160,
          26692529,
          25656100,
          25274000,
          24492200,
          24415844,
          24336986,
          23376000,
          23132100,
          22971100,
          21818000,
          21411059,
          21093000,
          20390000,
          19863250,
          19782460,
          19617000,
          18987840,
          18927000,
          18372770,
          17907200,
          17570120,
          17409300,
          16873790,
          16848790,
          16475420,
          15387100,
          15342000,
          15204150,
          14963200,
          14913490,
          14891000,
          14810520,
          14737864,
          14235500,
          14035000,
          13981250,
          13855510,
          13824600,
          13725000,
          13642000,
          13477000,
          13306250,
          12724330,
          12560450,
          12183300,
          11442000,
          11419520,
          10848940,
          10586590,
          10580600,
          10560600,
          10101000,
          9822750,
          9705500,
          9579390,
          9475700,
          9022000,
          8956000,
          8912003,
          8739469,
          8654200,
          8623770,
          8594000,
          8443000,
          8277000,
          8116000,
          7970700,
          7917086,
          7529000,
          7181500,
          6738600,
          6592350,
          6125000,
          5750709,
          5463000,
          5346000,
          4980202,
          4976850,
          4749000,
          4708000,
          4657000,
          4641000,
          4610000,
          4394300,
          4376000,
          4107638,
          4032000,
          3996000,
          3798000,
          3628000,
          3305342,
          3136000,
          3101400,
          2992000,
          2989000,
          2970000,
          2900000,
          2837373,
          2546000,
          2542000,
          2511180,
          2479000,
          2419000,
          2384493,
          2270000,
          2246000,
          2165000,
          2135300,
          2085000,
          2031000,
          2027000,
          2006000,
          1845000,
          1800000,
          1746000,
          1739300,
          1683060,
          1590950,
          1562000,
          1554000,
          1540000,
          1482481,
          1462000,
          1409000,
          1391000,
          1285877,
          1215000,
          1126000,
          1055000,
          1049000,
          845000,
          794000,
          789970,
          779000,
          665000,
          640000,
          575000,
          539000,
          533000,
          531000,
          520000,
          516000,
          507000,
          502000,
          477000,
          460000,
          434000,
          310000,
          280000,
          270000,
          260000,
          255300,
          233000,
          176900,
          175000,
          170000,
          162900,
          160000,
          135000,
          134000,
          122100,
          122000,
          120000,
          117000,
          100000,
          70000,
          61000,
          49700,
          27500,
          21000,
          17900,
          11000
         ],
         "yaxis": "y"
        }
       ],
       "layout": {
        "barmode": "relative",
        "coloraxis": {
         "colorbar": {
          "title": {
           "text": "cost"
          }
         },
         "colorscale": [
          [
           0,
           "rgb(75, 41, 145)"
          ],
          [
           0.16666666666666666,
           "rgb(135, 44, 162)"
          ],
          [
           0.3333333333333333,
           "rgb(192, 54, 157)"
          ],
          [
           0.5,
           "rgb(234, 79, 136)"
          ],
          [
           0.6666666666666666,
           "rgb(250, 120, 118)"
          ],
          [
           0.8333333333333334,
           "rgb(246, 169, 122)"
          ],
          [
           1,
           "rgb(237, 217, 163)"
          ]
         ]
        },
        "legend": {
         "tracegroupgap": 0
        },
        "margin": {
         "t": 60
        },
        "template": {
         "data": {
          "bar": [
           {
            "error_x": {
             "color": "#2a3f5f"
            },
            "error_y": {
             "color": "#2a3f5f"
            },
            "marker": {
             "line": {
              "color": "#E5ECF6",
              "width": 0.5
             },
             "pattern": {
              "fillmode": "overlay",
              "size": 10,
              "solidity": 0.2
             }
            },
            "type": "bar"
           }
          ],
          "barpolar": [
           {
            "marker": {
             "line": {
              "color": "#E5ECF6",
              "width": 0.5
             },
             "pattern": {
              "fillmode": "overlay",
              "size": 10,
              "solidity": 0.2
             }
            },
            "type": "barpolar"
           }
          ],
          "carpet": [
           {
            "aaxis": {
             "endlinecolor": "#2a3f5f",
             "gridcolor": "white",
             "linecolor": "white",
             "minorgridcolor": "white",
             "startlinecolor": "#2a3f5f"
            },
            "baxis": {
             "endlinecolor": "#2a3f5f",
             "gridcolor": "white",
             "linecolor": "white",
             "minorgridcolor": "white",
             "startlinecolor": "#2a3f5f"
            },
            "type": "carpet"
           }
          ],
          "choropleth": [
           {
            "colorbar": {
             "outlinewidth": 0,
             "ticks": ""
            },
            "type": "choropleth"
           }
          ],
          "contour": [
           {
            "colorbar": {
             "outlinewidth": 0,
             "ticks": ""
            },
            "colorscale": [
             [
              0,
              "#0d0887"
             ],
             [
              0.1111111111111111,
              "#46039f"
             ],
             [
              0.2222222222222222,
              "#7201a8"
             ],
             [
              0.3333333333333333,
              "#9c179e"
             ],
             [
              0.4444444444444444,
              "#bd3786"
             ],
             [
              0.5555555555555556,
              "#d8576b"
             ],
             [
              0.6666666666666666,
              "#ed7953"
             ],
             [
              0.7777777777777778,
              "#fb9f3a"
             ],
             [
              0.8888888888888888,
              "#fdca26"
             ],
             [
              1,
              "#f0f921"
             ]
            ],
            "type": "contour"
           }
          ],
          "contourcarpet": [
           {
            "colorbar": {
             "outlinewidth": 0,
             "ticks": ""
            },
            "type": "contourcarpet"
           }
          ],
          "heatmap": [
           {
            "colorbar": {
             "outlinewidth": 0,
             "ticks": ""
            },
            "colorscale": [
             [
              0,
              "#0d0887"
             ],
             [
              0.1111111111111111,
              "#46039f"
             ],
             [
              0.2222222222222222,
              "#7201a8"
             ],
             [
              0.3333333333333333,
              "#9c179e"
             ],
             [
              0.4444444444444444,
              "#bd3786"
             ],
             [
              0.5555555555555556,
              "#d8576b"
             ],
             [
              0.6666666666666666,
              "#ed7953"
             ],
             [
              0.7777777777777778,
              "#fb9f3a"
             ],
             [
              0.8888888888888888,
              "#fdca26"
             ],
             [
              1,
              "#f0f921"
             ]
            ],
            "type": "heatmap"
           }
          ],
          "heatmapgl": [
           {
            "colorbar": {
             "outlinewidth": 0,
             "ticks": ""
            },
            "colorscale": [
             [
              0,
              "#0d0887"
             ],
             [
              0.1111111111111111,
              "#46039f"
             ],
             [
              0.2222222222222222,
              "#7201a8"
             ],
             [
              0.3333333333333333,
              "#9c179e"
             ],
             [
              0.4444444444444444,
              "#bd3786"
             ],
             [
              0.5555555555555556,
              "#d8576b"
             ],
             [
              0.6666666666666666,
              "#ed7953"
             ],
             [
              0.7777777777777778,
              "#fb9f3a"
             ],
             [
              0.8888888888888888,
              "#fdca26"
             ],
             [
              1,
              "#f0f921"
             ]
            ],
            "type": "heatmapgl"
           }
          ],
          "histogram": [
           {
            "marker": {
             "pattern": {
              "fillmode": "overlay",
              "size": 10,
              "solidity": 0.2
             }
            },
            "type": "histogram"
           }
          ],
          "histogram2d": [
           {
            "colorbar": {
             "outlinewidth": 0,
             "ticks": ""
            },
            "colorscale": [
             [
              0,
              "#0d0887"
             ],
             [
              0.1111111111111111,
              "#46039f"
             ],
             [
              0.2222222222222222,
              "#7201a8"
             ],
             [
              0.3333333333333333,
              "#9c179e"
             ],
             [
              0.4444444444444444,
              "#bd3786"
             ],
             [
              0.5555555555555556,
              "#d8576b"
             ],
             [
              0.6666666666666666,
              "#ed7953"
             ],
             [
              0.7777777777777778,
              "#fb9f3a"
             ],
             [
              0.8888888888888888,
              "#fdca26"
             ],
             [
              1,
              "#f0f921"
             ]
            ],
            "type": "histogram2d"
           }
          ],
          "histogram2dcontour": [
           {
            "colorbar": {
             "outlinewidth": 0,
             "ticks": ""
            },
            "colorscale": [
             [
              0,
              "#0d0887"
             ],
             [
              0.1111111111111111,
              "#46039f"
             ],
             [
              0.2222222222222222,
              "#7201a8"
             ],
             [
              0.3333333333333333,
              "#9c179e"
             ],
             [
              0.4444444444444444,
              "#bd3786"
             ],
             [
              0.5555555555555556,
              "#d8576b"
             ],
             [
              0.6666666666666666,
              "#ed7953"
             ],
             [
              0.7777777777777778,
              "#fb9f3a"
             ],
             [
              0.8888888888888888,
              "#fdca26"
             ],
             [
              1,
              "#f0f921"
             ]
            ],
            "type": "histogram2dcontour"
           }
          ],
          "mesh3d": [
           {
            "colorbar": {
             "outlinewidth": 0,
             "ticks": ""
            },
            "type": "mesh3d"
           }
          ],
          "parcoords": [
           {
            "line": {
             "colorbar": {
              "outlinewidth": 0,
              "ticks": ""
             }
            },
            "type": "parcoords"
           }
          ],
          "pie": [
           {
            "automargin": true,
            "type": "pie"
           }
          ],
          "scatter": [
           {
            "fillpattern": {
             "fillmode": "overlay",
             "size": 10,
             "solidity": 0.2
            },
            "type": "scatter"
           }
          ],
          "scatter3d": [
           {
            "line": {
             "colorbar": {
              "outlinewidth": 0,
              "ticks": ""
             }
            },
            "marker": {
             "colorbar": {
              "outlinewidth": 0,
              "ticks": ""
             }
            },
            "type": "scatter3d"
           }
          ],
          "scattercarpet": [
           {
            "marker": {
             "colorbar": {
              "outlinewidth": 0,
              "ticks": ""
             }
            },
            "type": "scattercarpet"
           }
          ],
          "scattergeo": [
           {
            "marker": {
             "colorbar": {
              "outlinewidth": 0,
              "ticks": ""
             }
            },
            "type": "scattergeo"
           }
          ],
          "scattergl": [
           {
            "marker": {
             "colorbar": {
              "outlinewidth": 0,
              "ticks": ""
             }
            },
            "type": "scattergl"
           }
          ],
          "scattermapbox": [
           {
            "marker": {
             "colorbar": {
              "outlinewidth": 0,
              "ticks": ""
             }
            },
            "type": "scattermapbox"
           }
          ],
          "scatterpolar": [
           {
            "marker": {
             "colorbar": {
              "outlinewidth": 0,
              "ticks": ""
             }
            },
            "type": "scatterpolar"
           }
          ],
          "scatterpolargl": [
           {
            "marker": {
             "colorbar": {
              "outlinewidth": 0,
              "ticks": ""
             }
            },
            "type": "scatterpolargl"
           }
          ],
          "scatterternary": [
           {
            "marker": {
             "colorbar": {
              "outlinewidth": 0,
              "ticks": ""
             }
            },
            "type": "scatterternary"
           }
          ],
          "surface": [
           {
            "colorbar": {
             "outlinewidth": 0,
             "ticks": ""
            },
            "colorscale": [
             [
              0,
              "#0d0887"
             ],
             [
              0.1111111111111111,
              "#46039f"
             ],
             [
              0.2222222222222222,
              "#7201a8"
             ],
             [
              0.3333333333333333,
              "#9c179e"
             ],
             [
              0.4444444444444444,
              "#bd3786"
             ],
             [
              0.5555555555555556,
              "#d8576b"
             ],
             [
              0.6666666666666666,
              "#ed7953"
             ],
             [
              0.7777777777777778,
              "#fb9f3a"
             ],
             [
              0.8888888888888888,
              "#fdca26"
             ],
             [
              1,
              "#f0f921"
             ]
            ],
            "type": "surface"
           }
          ],
          "table": [
           {
            "cells": {
             "fill": {
              "color": "#EBF0F8"
             },
             "line": {
              "color": "white"
             }
            },
            "header": {
             "fill": {
              "color": "#C8D4E3"
             },
             "line": {
              "color": "white"
             }
            },
            "type": "table"
           }
          ]
         },
         "layout": {
          "annotationdefaults": {
           "arrowcolor": "#2a3f5f",
           "arrowhead": 0,
           "arrowwidth": 1
          },
          "autotypenumbers": "strict",
          "coloraxis": {
           "colorbar": {
            "outlinewidth": 0,
            "ticks": ""
           }
          },
          "colorscale": {
           "diverging": [
            [
             0,
             "#8e0152"
            ],
            [
             0.1,
             "#c51b7d"
            ],
            [
             0.2,
             "#de77ae"
            ],
            [
             0.3,
             "#f1b6da"
            ],
            [
             0.4,
             "#fde0ef"
            ],
            [
             0.5,
             "#f7f7f7"
            ],
            [
             0.6,
             "#e6f5d0"
            ],
            [
             0.7,
             "#b8e186"
            ],
            [
             0.8,
             "#7fbc41"
            ],
            [
             0.9,
             "#4d9221"
            ],
            [
             1,
             "#276419"
            ]
           ],
           "sequential": [
            [
             0,
             "#0d0887"
            ],
            [
             0.1111111111111111,
             "#46039f"
            ],
            [
             0.2222222222222222,
             "#7201a8"
            ],
            [
             0.3333333333333333,
             "#9c179e"
            ],
            [
             0.4444444444444444,
             "#bd3786"
            ],
            [
             0.5555555555555556,
             "#d8576b"
            ],
            [
             0.6666666666666666,
             "#ed7953"
            ],
            [
             0.7777777777777778,
             "#fb9f3a"
            ],
            [
             0.8888888888888888,
             "#fdca26"
            ],
            [
             1,
             "#f0f921"
            ]
           ],
           "sequentialminus": [
            [
             0,
             "#0d0887"
            ],
            [
             0.1111111111111111,
             "#46039f"
            ],
            [
             0.2222222222222222,
             "#7201a8"
            ],
            [
             0.3333333333333333,
             "#9c179e"
            ],
            [
             0.4444444444444444,
             "#bd3786"
            ],
            [
             0.5555555555555556,
             "#d8576b"
            ],
            [
             0.6666666666666666,
             "#ed7953"
            ],
            [
             0.7777777777777778,
             "#fb9f3a"
            ],
            [
             0.8888888888888888,
             "#fdca26"
            ],
            [
             1,
             "#f0f921"
            ]
           ]
          },
          "colorway": [
           "#636efa",
           "#EF553B",
           "#00cc96",
           "#ab63fa",
           "#FFA15A",
           "#19d3f3",
           "#FF6692",
           "#B6E880",
           "#FF97FF",
           "#FECB52"
          ],
          "font": {
           "color": "#2a3f5f"
          },
          "geo": {
           "bgcolor": "white",
           "lakecolor": "white",
           "landcolor": "#E5ECF6",
           "showlakes": true,
           "showland": true,
           "subunitcolor": "white"
          },
          "hoverlabel": {
           "align": "left"
          },
          "hovermode": "closest",
          "mapbox": {
           "style": "light"
          },
          "paper_bgcolor": "white",
          "plot_bgcolor": "#E5ECF6",
          "polar": {
           "angularaxis": {
            "gridcolor": "white",
            "linecolor": "white",
            "ticks": ""
           },
           "bgcolor": "#E5ECF6",
           "radialaxis": {
            "gridcolor": "white",
            "linecolor": "white",
            "ticks": ""
           }
          },
          "scene": {
           "xaxis": {
            "backgroundcolor": "#E5ECF6",
            "gridcolor": "white",
            "gridwidth": 2,
            "linecolor": "white",
            "showbackground": true,
            "ticks": "",
            "zerolinecolor": "white"
           },
           "yaxis": {
            "backgroundcolor": "#E5ECF6",
            "gridcolor": "white",
            "gridwidth": 2,
            "linecolor": "white",
            "showbackground": true,
            "ticks": "",
            "zerolinecolor": "white"
           },
           "zaxis": {
            "backgroundcolor": "#E5ECF6",
            "gridcolor": "white",
            "gridwidth": 2,
            "linecolor": "white",
            "showbackground": true,
            "ticks": "",
            "zerolinecolor": "white"
           }
          },
          "shapedefaults": {
           "line": {
            "color": "#2a3f5f"
           }
          },
          "ternary": {
           "aaxis": {
            "gridcolor": "white",
            "linecolor": "white",
            "ticks": ""
           },
           "baxis": {
            "gridcolor": "white",
            "linecolor": "white",
            "ticks": ""
           },
           "bgcolor": "#E5ECF6",
           "caxis": {
            "gridcolor": "white",
            "linecolor": "white",
            "ticks": ""
           }
          },
          "title": {
           "x": 0.05
          },
          "xaxis": {
           "automargin": true,
           "gridcolor": "white",
           "linecolor": "white",
           "ticks": "",
           "title": {
            "standoff": 15
           },
           "zerolinecolor": "white",
           "zerolinewidth": 2
          },
          "yaxis": {
           "automargin": true,
           "gridcolor": "white",
           "linecolor": "white",
           "ticks": "",
           "title": {
            "standoff": 15
           },
           "zerolinecolor": "white",
           "zerolinewidth": 2
          }
         }
        },
        "xaxis": {
         "anchor": "y",
         "domain": [
          0,
          1
         ],
         "title": {
          "text": "city_s"
         }
        },
        "yaxis": {
         "anchor": "x",
         "domain": [
          0,
          1
         ],
         "title": {
          "text": "cost"
         }
        }
       }
      }
     },
     "metadata": {},
     "output_type": "display_data"
    }
   ],
   "source": [
    "# 그래프 그리기\n",
    "fig = px.bar(cost_sum_by_city,\n",
    "    x=cost_sum_by_city.index,\n",
    "    y=cost_sum_by_city.cost,\n",
    "    color=cost_sum_by_city.cost,\n",
    "    color_continuous_scale='agsunset',\n",
    "    labels={'x': 'Area', 'y': 'Costs', 'color': 'Costs(B)'},\n",
    "    hover_data={'code_m': True},  # hover 시 나타낼 정보\n",
    ")\n",
    "fig.show()"
   ]
  },
  {
   "cell_type": "code",
   "execution_count": null,
   "metadata": {},
   "outputs": [],
   "source": [
    "etc_df = pd.DataFrame(jg_df['city_s'].value_counts())\n",
    "etc_df['기타여부'] = [\"기타\" if val / total_values < threshold else label for label, val in zip(etc_df.index, etc_df.values)]\n",
    "etc_df"
   ]
  },
  {
   "cell_type": "code",
   "execution_count": null,
   "metadata": {},
   "outputs": [],
   "source": [
    "import plotly.graph_objects as go\n",
    "# 'city_s' 컬럼 값에 대한 구성 비율을 파이 차트로 시각화\n",
    "fig = px.pie(etc_df, \n",
    "             names=etc_df['기타여부'], \n",
    "             values=etc_df['count'],\n",
    "             title='Administration Area Composition Ratio',\n",
    "             color_discrete_sequence=px.colors.cyclical.IceFire,  # 색상 설정\n",
    "             custom_data=[etc_df.index],  # 추가 정보를 custom_data로 설정\n",
    "             labels={'customdata': 'Count'},  # custom_data에 대한 레이블 설정\n",
    "             )\n",
    "# 레이블을 숫자 옆에 표시\n",
    "fig.update_traces(textinfo='label+percent', pull=[0.1, 0.1, 0.1])  # pull을 사용하여 일부 조각을 분리\n",
    "fig.update_layout(showlegend=False)\n",
    "fig.update_layout(height=700, width=1000)\n",
    "\n",
    "# 그림을 보여주기\n",
    "fig.show()"
   ]
  },
  {
   "cell_type": "code",
   "execution_count": null,
   "metadata": {},
   "outputs": [],
   "source": [
    "jg_df['city_s'].value_counts()"
   ]
  },
  {
   "cell_type": "code",
   "execution_count": 28,
   "metadata": {},
   "outputs": [
    {
     "data": {
      "text/plain": [
       "city_s\n",
       "약수동     25382\n",
       "청구동     23383\n",
       "다산동     23374\n",
       "황학동     23308\n",
       "동화동     22564\n",
       "중림동     22328\n",
       "신당동     20917\n",
       "신당5동    20805\n",
       "광희동     19637\n",
       "회현동     17965\n",
       "명동      17712\n",
       "필동      17290\n",
       "장충동     16702\n",
       "소공동     16297\n",
       "을지로동    14425\n",
       "Name: count, dtype: int64"
      ]
     },
     "execution_count": 28,
     "metadata": {},
     "output_type": "execute_result"
    }
   ],
   "source": [
    "value_cnt"
   ]
  },
  {
   "cell_type": "code",
   "execution_count": 27,
   "metadata": {},
   "outputs": [
    {
     "data": {
      "application/vnd.plotly.v1+json": {
       "config": {
        "plotlyServerURL": "https://plot.ly"
       },
       "data": [
        {
         "alignmentgroup": "True",
         "hovertemplate": "city_s=%{x}<br>y=%{y}<br>color=%{marker.color}<extra></extra>",
         "legendgroup": "",
         "marker": {
          "color": [
           25382,
           23383,
           23374,
           23308,
           22564,
           22328,
           20917,
           20805,
           19637,
           17965,
           17712,
           17290,
           16702,
           16297,
           14425
          ],
          "coloraxis": "coloraxis",
          "pattern": {
           "shape": ""
          }
         },
         "name": "",
         "offsetgroup": "",
         "orientation": "v",
         "showlegend": false,
         "textposition": "auto",
         "type": "bar",
         "x": [
          "약수동",
          "청구동",
          "다산동",
          "황학동",
          "동화동",
          "중림동",
          "신당동",
          "신당5동",
          "광희동",
          "회현동",
          "명동",
          "필동",
          "장충동",
          "소공동",
          "을지로동"
         ],
         "xaxis": "x",
         "y": [
          25382,
          23383,
          23374,
          23308,
          22564,
          22328,
          20917,
          20805,
          19637,
          17965,
          17712,
          17290,
          16702,
          16297,
          14425
         ],
         "yaxis": "y"
        }
       ],
       "layout": {
        "barmode": "relative",
        "coloraxis": {
         "colorbar": {
          "title": {
           "text": "color"
          }
         },
         "colorscale": [
          [
           0,
           "#fee838"
          ],
          [
           0.1111111111111111,
           "#e1cc55"
          ],
          [
           0.2222222222222222,
           "#c3b369"
          ],
          [
           0.3333333333333333,
           "#a59c74"
          ],
          [
           0.4444444444444444,
           "#8a8678"
          ],
          [
           0.5555555555555556,
           "#707173"
          ],
          [
           0.6666666666666666,
           "#575d6d"
          ],
          [
           0.7777777777777778,
           "#3b496c"
          ],
          [
           0.8888888888888888,
           "#123570"
          ],
          [
           1,
           "#00224e"
          ]
         ]
        },
        "legend": {
         "tracegroupgap": 0
        },
        "margin": {
         "t": 60
        },
        "template": {
         "data": {
          "bar": [
           {
            "error_x": {
             "color": "#2a3f5f"
            },
            "error_y": {
             "color": "#2a3f5f"
            },
            "marker": {
             "line": {
              "color": "#E5ECF6",
              "width": 0.5
             },
             "pattern": {
              "fillmode": "overlay",
              "size": 10,
              "solidity": 0.2
             }
            },
            "type": "bar"
           }
          ],
          "barpolar": [
           {
            "marker": {
             "line": {
              "color": "#E5ECF6",
              "width": 0.5
             },
             "pattern": {
              "fillmode": "overlay",
              "size": 10,
              "solidity": 0.2
             }
            },
            "type": "barpolar"
           }
          ],
          "carpet": [
           {
            "aaxis": {
             "endlinecolor": "#2a3f5f",
             "gridcolor": "white",
             "linecolor": "white",
             "minorgridcolor": "white",
             "startlinecolor": "#2a3f5f"
            },
            "baxis": {
             "endlinecolor": "#2a3f5f",
             "gridcolor": "white",
             "linecolor": "white",
             "minorgridcolor": "white",
             "startlinecolor": "#2a3f5f"
            },
            "type": "carpet"
           }
          ],
          "choropleth": [
           {
            "colorbar": {
             "outlinewidth": 0,
             "ticks": ""
            },
            "type": "choropleth"
           }
          ],
          "contour": [
           {
            "colorbar": {
             "outlinewidth": 0,
             "ticks": ""
            },
            "colorscale": [
             [
              0,
              "#0d0887"
             ],
             [
              0.1111111111111111,
              "#46039f"
             ],
             [
              0.2222222222222222,
              "#7201a8"
             ],
             [
              0.3333333333333333,
              "#9c179e"
             ],
             [
              0.4444444444444444,
              "#bd3786"
             ],
             [
              0.5555555555555556,
              "#d8576b"
             ],
             [
              0.6666666666666666,
              "#ed7953"
             ],
             [
              0.7777777777777778,
              "#fb9f3a"
             ],
             [
              0.8888888888888888,
              "#fdca26"
             ],
             [
              1,
              "#f0f921"
             ]
            ],
            "type": "contour"
           }
          ],
          "contourcarpet": [
           {
            "colorbar": {
             "outlinewidth": 0,
             "ticks": ""
            },
            "type": "contourcarpet"
           }
          ],
          "heatmap": [
           {
            "colorbar": {
             "outlinewidth": 0,
             "ticks": ""
            },
            "colorscale": [
             [
              0,
              "#0d0887"
             ],
             [
              0.1111111111111111,
              "#46039f"
             ],
             [
              0.2222222222222222,
              "#7201a8"
             ],
             [
              0.3333333333333333,
              "#9c179e"
             ],
             [
              0.4444444444444444,
              "#bd3786"
             ],
             [
              0.5555555555555556,
              "#d8576b"
             ],
             [
              0.6666666666666666,
              "#ed7953"
             ],
             [
              0.7777777777777778,
              "#fb9f3a"
             ],
             [
              0.8888888888888888,
              "#fdca26"
             ],
             [
              1,
              "#f0f921"
             ]
            ],
            "type": "heatmap"
           }
          ],
          "heatmapgl": [
           {
            "colorbar": {
             "outlinewidth": 0,
             "ticks": ""
            },
            "colorscale": [
             [
              0,
              "#0d0887"
             ],
             [
              0.1111111111111111,
              "#46039f"
             ],
             [
              0.2222222222222222,
              "#7201a8"
             ],
             [
              0.3333333333333333,
              "#9c179e"
             ],
             [
              0.4444444444444444,
              "#bd3786"
             ],
             [
              0.5555555555555556,
              "#d8576b"
             ],
             [
              0.6666666666666666,
              "#ed7953"
             ],
             [
              0.7777777777777778,
              "#fb9f3a"
             ],
             [
              0.8888888888888888,
              "#fdca26"
             ],
             [
              1,
              "#f0f921"
             ]
            ],
            "type": "heatmapgl"
           }
          ],
          "histogram": [
           {
            "marker": {
             "pattern": {
              "fillmode": "overlay",
              "size": 10,
              "solidity": 0.2
             }
            },
            "type": "histogram"
           }
          ],
          "histogram2d": [
           {
            "colorbar": {
             "outlinewidth": 0,
             "ticks": ""
            },
            "colorscale": [
             [
              0,
              "#0d0887"
             ],
             [
              0.1111111111111111,
              "#46039f"
             ],
             [
              0.2222222222222222,
              "#7201a8"
             ],
             [
              0.3333333333333333,
              "#9c179e"
             ],
             [
              0.4444444444444444,
              "#bd3786"
             ],
             [
              0.5555555555555556,
              "#d8576b"
             ],
             [
              0.6666666666666666,
              "#ed7953"
             ],
             [
              0.7777777777777778,
              "#fb9f3a"
             ],
             [
              0.8888888888888888,
              "#fdca26"
             ],
             [
              1,
              "#f0f921"
             ]
            ],
            "type": "histogram2d"
           }
          ],
          "histogram2dcontour": [
           {
            "colorbar": {
             "outlinewidth": 0,
             "ticks": ""
            },
            "colorscale": [
             [
              0,
              "#0d0887"
             ],
             [
              0.1111111111111111,
              "#46039f"
             ],
             [
              0.2222222222222222,
              "#7201a8"
             ],
             [
              0.3333333333333333,
              "#9c179e"
             ],
             [
              0.4444444444444444,
              "#bd3786"
             ],
             [
              0.5555555555555556,
              "#d8576b"
             ],
             [
              0.6666666666666666,
              "#ed7953"
             ],
             [
              0.7777777777777778,
              "#fb9f3a"
             ],
             [
              0.8888888888888888,
              "#fdca26"
             ],
             [
              1,
              "#f0f921"
             ]
            ],
            "type": "histogram2dcontour"
           }
          ],
          "mesh3d": [
           {
            "colorbar": {
             "outlinewidth": 0,
             "ticks": ""
            },
            "type": "mesh3d"
           }
          ],
          "parcoords": [
           {
            "line": {
             "colorbar": {
              "outlinewidth": 0,
              "ticks": ""
             }
            },
            "type": "parcoords"
           }
          ],
          "pie": [
           {
            "automargin": true,
            "type": "pie"
           }
          ],
          "scatter": [
           {
            "fillpattern": {
             "fillmode": "overlay",
             "size": 10,
             "solidity": 0.2
            },
            "type": "scatter"
           }
          ],
          "scatter3d": [
           {
            "line": {
             "colorbar": {
              "outlinewidth": 0,
              "ticks": ""
             }
            },
            "marker": {
             "colorbar": {
              "outlinewidth": 0,
              "ticks": ""
             }
            },
            "type": "scatter3d"
           }
          ],
          "scattercarpet": [
           {
            "marker": {
             "colorbar": {
              "outlinewidth": 0,
              "ticks": ""
             }
            },
            "type": "scattercarpet"
           }
          ],
          "scattergeo": [
           {
            "marker": {
             "colorbar": {
              "outlinewidth": 0,
              "ticks": ""
             }
            },
            "type": "scattergeo"
           }
          ],
          "scattergl": [
           {
            "marker": {
             "colorbar": {
              "outlinewidth": 0,
              "ticks": ""
             }
            },
            "type": "scattergl"
           }
          ],
          "scattermapbox": [
           {
            "marker": {
             "colorbar": {
              "outlinewidth": 0,
              "ticks": ""
             }
            },
            "type": "scattermapbox"
           }
          ],
          "scatterpolar": [
           {
            "marker": {
             "colorbar": {
              "outlinewidth": 0,
              "ticks": ""
             }
            },
            "type": "scatterpolar"
           }
          ],
          "scatterpolargl": [
           {
            "marker": {
             "colorbar": {
              "outlinewidth": 0,
              "ticks": ""
             }
            },
            "type": "scatterpolargl"
           }
          ],
          "scatterternary": [
           {
            "marker": {
             "colorbar": {
              "outlinewidth": 0,
              "ticks": ""
             }
            },
            "type": "scatterternary"
           }
          ],
          "surface": [
           {
            "colorbar": {
             "outlinewidth": 0,
             "ticks": ""
            },
            "colorscale": [
             [
              0,
              "#0d0887"
             ],
             [
              0.1111111111111111,
              "#46039f"
             ],
             [
              0.2222222222222222,
              "#7201a8"
             ],
             [
              0.3333333333333333,
              "#9c179e"
             ],
             [
              0.4444444444444444,
              "#bd3786"
             ],
             [
              0.5555555555555556,
              "#d8576b"
             ],
             [
              0.6666666666666666,
              "#ed7953"
             ],
             [
              0.7777777777777778,
              "#fb9f3a"
             ],
             [
              0.8888888888888888,
              "#fdca26"
             ],
             [
              1,
              "#f0f921"
             ]
            ],
            "type": "surface"
           }
          ],
          "table": [
           {
            "cells": {
             "fill": {
              "color": "#EBF0F8"
             },
             "line": {
              "color": "white"
             }
            },
            "header": {
             "fill": {
              "color": "#C8D4E3"
             },
             "line": {
              "color": "white"
             }
            },
            "type": "table"
           }
          ]
         },
         "layout": {
          "annotationdefaults": {
           "arrowcolor": "#2a3f5f",
           "arrowhead": 0,
           "arrowwidth": 1
          },
          "autotypenumbers": "strict",
          "coloraxis": {
           "colorbar": {
            "outlinewidth": 0,
            "ticks": ""
           }
          },
          "colorscale": {
           "diverging": [
            [
             0,
             "#8e0152"
            ],
            [
             0.1,
             "#c51b7d"
            ],
            [
             0.2,
             "#de77ae"
            ],
            [
             0.3,
             "#f1b6da"
            ],
            [
             0.4,
             "#fde0ef"
            ],
            [
             0.5,
             "#f7f7f7"
            ],
            [
             0.6,
             "#e6f5d0"
            ],
            [
             0.7,
             "#b8e186"
            ],
            [
             0.8,
             "#7fbc41"
            ],
            [
             0.9,
             "#4d9221"
            ],
            [
             1,
             "#276419"
            ]
           ],
           "sequential": [
            [
             0,
             "#0d0887"
            ],
            [
             0.1111111111111111,
             "#46039f"
            ],
            [
             0.2222222222222222,
             "#7201a8"
            ],
            [
             0.3333333333333333,
             "#9c179e"
            ],
            [
             0.4444444444444444,
             "#bd3786"
            ],
            [
             0.5555555555555556,
             "#d8576b"
            ],
            [
             0.6666666666666666,
             "#ed7953"
            ],
            [
             0.7777777777777778,
             "#fb9f3a"
            ],
            [
             0.8888888888888888,
             "#fdca26"
            ],
            [
             1,
             "#f0f921"
            ]
           ],
           "sequentialminus": [
            [
             0,
             "#0d0887"
            ],
            [
             0.1111111111111111,
             "#46039f"
            ],
            [
             0.2222222222222222,
             "#7201a8"
            ],
            [
             0.3333333333333333,
             "#9c179e"
            ],
            [
             0.4444444444444444,
             "#bd3786"
            ],
            [
             0.5555555555555556,
             "#d8576b"
            ],
            [
             0.6666666666666666,
             "#ed7953"
            ],
            [
             0.7777777777777778,
             "#fb9f3a"
            ],
            [
             0.8888888888888888,
             "#fdca26"
            ],
            [
             1,
             "#f0f921"
            ]
           ]
          },
          "colorway": [
           "#636efa",
           "#EF553B",
           "#00cc96",
           "#ab63fa",
           "#FFA15A",
           "#19d3f3",
           "#FF6692",
           "#B6E880",
           "#FF97FF",
           "#FECB52"
          ],
          "font": {
           "color": "#2a3f5f"
          },
          "geo": {
           "bgcolor": "white",
           "lakecolor": "white",
           "landcolor": "#E5ECF6",
           "showlakes": true,
           "showland": true,
           "subunitcolor": "white"
          },
          "hoverlabel": {
           "align": "left"
          },
          "hovermode": "closest",
          "mapbox": {
           "style": "light"
          },
          "paper_bgcolor": "white",
          "plot_bgcolor": "#E5ECF6",
          "polar": {
           "angularaxis": {
            "gridcolor": "white",
            "linecolor": "white",
            "ticks": ""
           },
           "bgcolor": "#E5ECF6",
           "radialaxis": {
            "gridcolor": "white",
            "linecolor": "white",
            "ticks": ""
           }
          },
          "scene": {
           "xaxis": {
            "backgroundcolor": "#E5ECF6",
            "gridcolor": "white",
            "gridwidth": 2,
            "linecolor": "white",
            "showbackground": true,
            "ticks": "",
            "zerolinecolor": "white"
           },
           "yaxis": {
            "backgroundcolor": "#E5ECF6",
            "gridcolor": "white",
            "gridwidth": 2,
            "linecolor": "white",
            "showbackground": true,
            "ticks": "",
            "zerolinecolor": "white"
           },
           "zaxis": {
            "backgroundcolor": "#E5ECF6",
            "gridcolor": "white",
            "gridwidth": 2,
            "linecolor": "white",
            "showbackground": true,
            "ticks": "",
            "zerolinecolor": "white"
           }
          },
          "shapedefaults": {
           "line": {
            "color": "#2a3f5f"
           }
          },
          "ternary": {
           "aaxis": {
            "gridcolor": "white",
            "linecolor": "white",
            "ticks": ""
           },
           "baxis": {
            "gridcolor": "white",
            "linecolor": "white",
            "ticks": ""
           },
           "bgcolor": "#E5ECF6",
           "caxis": {
            "gridcolor": "white",
            "linecolor": "white",
            "ticks": ""
           }
          },
          "title": {
           "x": 0.05
          },
          "xaxis": {
           "automargin": true,
           "gridcolor": "white",
           "linecolor": "white",
           "ticks": "",
           "title": {
            "standoff": 15
           },
           "zerolinecolor": "white",
           "zerolinewidth": 2
          },
          "yaxis": {
           "automargin": true,
           "gridcolor": "white",
           "linecolor": "white",
           "ticks": "",
           "title": {
            "standoff": 15
           },
           "zerolinecolor": "white",
           "zerolinewidth": 2
          }
         }
        },
        "xaxis": {
         "anchor": "y",
         "domain": [
          0,
          1
         ],
         "title": {
          "text": "행정동"
         }
        },
        "yaxis": {
         "anchor": "x",
         "domain": [
          0,
          1
         ],
         "title": {
          "text": "결제건수"
         }
        }
       }
      }
     },
     "metadata": {},
     "output_type": "display_data"
    }
   ],
   "source": [
    "import plotly.express as px\n",
    "\n",
    "value_cnt = jg_df['city_s'].value_counts()\n",
    "# jg_df는 DataFrame 객체이며, 'city_s'는 시각화하고자 하는 열입니다.\n",
    "fig = px.bar(value_cnt, x=value_cnt.index, y=value_cnt.values, color=jg_df['city_s'].value_counts().values, color_continuous_scale='Cividis_r')\n",
    "fig.update_layout(xaxis_title='행정동', yaxis_title='결제건수')\n",
    "# 그림을 보여주기\n",
    "fig.show()"
   ]
  },
  {
   "cell_type": "code",
   "execution_count": 11,
   "metadata": {},
   "outputs": [
    {
     "data": {
      "text/plain": [
       "city_s\n",
       "약수동     157497724638\n",
       "황학동     140289956139\n",
       "청구동     115371679333\n",
       "다산동     112676121166\n",
       "중림동     111812064895\n",
       "동화동     107917564068\n",
       "신당동      83364730515\n",
       "신당5동     77537516775\n",
       "광희동      74871313654\n",
       "회현동      73736342886\n",
       "명동       72046522541\n",
       "소공동      64666037954\n",
       "필동       44596316596\n",
       "장충동      37172142758\n",
       "을지로동     30264878129\n",
       "Name: cost, dtype: int64"
      ]
     },
     "execution_count": 11,
     "metadata": {},
     "output_type": "execute_result"
    }
   ],
   "source": [
    "# 'city_s' 컬럼 값에 따른 'cost'의 합 계산\n",
    "cost_sum_by_city = jg_df.groupby('city_s')['cost'].sum().sort_values(ascending=False)\n",
    "cost_sum_by_city"
   ]
  },
  {
   "cell_type": "code",
   "execution_count": null,
   "metadata": {},
   "outputs": [],
   "source": [
    "fig = px.pie(jg_df['sex'].value_counts(), \n",
    "                names=jg_df['sex'].value_counts().index, \n",
    "                values=jg_df['sex'].value_counts().values,\n",
    "                title='Gender Composition Ratio',\n",
    "                color_discrete_sequence=px.colors.qualitative.Plotly,\n",
    "                hole=0.4)\n",
    "# 그림을 보여주기\n",
    "fig.show()"
   ]
  },
  {
   "cell_type": "code",
   "execution_count": 12,
   "metadata": {},
   "outputs": [
    {
     "data": {
      "application/vnd.plotly.v1+json": {
       "config": {
        "plotlyServerURL": "https://plot.ly"
       },
       "data": [
        {
         "customdata": [
          [
           157497724638
          ],
          [
           140289956139
          ],
          [
           115371679333
          ],
          [
           112676121166
          ],
          [
           111812064895
          ],
          [
           107917564068
          ],
          [
           83364730515
          ],
          [
           77537516775
          ],
          [
           74871313654
          ],
          [
           73736342886
          ],
          [
           72046522541
          ],
          [
           64666037954
          ],
          [
           44596316596
          ],
          [
           37172142758
          ],
          [
           30264878129
          ]
         ],
         "domain": {
          "x": [
           0,
           1
          ],
          "y": [
           0,
           1
          ]
         },
         "hovertemplate": "city_s=%{label}<br>value=%{value}<extra></extra>",
         "labels": [
          "약수동",
          "황학동",
          "청구동",
          "다산동",
          "중림동",
          "동화동",
          "신당동",
          "신당5동",
          "광희동",
          "회현동",
          "명동",
          "소공동",
          "필동",
          "장충동",
          "을지로동"
         ],
         "legendgroup": "",
         "name": "",
         "pull": [
          0.1,
          0.1,
          0.1
         ],
         "showlegend": true,
         "textinfo": "label+percent",
         "type": "pie",
         "values": [
          157497724638,
          140289956139,
          115371679333,
          112676121166,
          111812064895,
          107917564068,
          83364730515,
          77537516775,
          74871313654,
          73736342886,
          72046522541,
          64666037954,
          44596316596,
          37172142758,
          30264878129
         ]
        }
       ],
       "layout": {
        "height": 700,
        "legend": {
         "tracegroupgap": 0
        },
        "piecolorway": [
         "#000000",
         "#001f4d",
         "#003786",
         "#0e58a8",
         "#217eb8",
         "#30a4ca",
         "#54c8df",
         "#9be4ef",
         "#e1e9d1",
         "#f3d573",
         "#e7b000",
         "#da8200",
         "#c65400",
         "#ac2301",
         "#820000",
         "#4c0000",
         "#000000"
        ],
        "showlegend": false,
        "template": {
         "data": {
          "bar": [
           {
            "error_x": {
             "color": "#2a3f5f"
            },
            "error_y": {
             "color": "#2a3f5f"
            },
            "marker": {
             "line": {
              "color": "#E5ECF6",
              "width": 0.5
             },
             "pattern": {
              "fillmode": "overlay",
              "size": 10,
              "solidity": 0.2
             }
            },
            "type": "bar"
           }
          ],
          "barpolar": [
           {
            "marker": {
             "line": {
              "color": "#E5ECF6",
              "width": 0.5
             },
             "pattern": {
              "fillmode": "overlay",
              "size": 10,
              "solidity": 0.2
             }
            },
            "type": "barpolar"
           }
          ],
          "carpet": [
           {
            "aaxis": {
             "endlinecolor": "#2a3f5f",
             "gridcolor": "white",
             "linecolor": "white",
             "minorgridcolor": "white",
             "startlinecolor": "#2a3f5f"
            },
            "baxis": {
             "endlinecolor": "#2a3f5f",
             "gridcolor": "white",
             "linecolor": "white",
             "minorgridcolor": "white",
             "startlinecolor": "#2a3f5f"
            },
            "type": "carpet"
           }
          ],
          "choropleth": [
           {
            "colorbar": {
             "outlinewidth": 0,
             "ticks": ""
            },
            "type": "choropleth"
           }
          ],
          "contour": [
           {
            "colorbar": {
             "outlinewidth": 0,
             "ticks": ""
            },
            "colorscale": [
             [
              0,
              "#0d0887"
             ],
             [
              0.1111111111111111,
              "#46039f"
             ],
             [
              0.2222222222222222,
              "#7201a8"
             ],
             [
              0.3333333333333333,
              "#9c179e"
             ],
             [
              0.4444444444444444,
              "#bd3786"
             ],
             [
              0.5555555555555556,
              "#d8576b"
             ],
             [
              0.6666666666666666,
              "#ed7953"
             ],
             [
              0.7777777777777778,
              "#fb9f3a"
             ],
             [
              0.8888888888888888,
              "#fdca26"
             ],
             [
              1,
              "#f0f921"
             ]
            ],
            "type": "contour"
           }
          ],
          "contourcarpet": [
           {
            "colorbar": {
             "outlinewidth": 0,
             "ticks": ""
            },
            "type": "contourcarpet"
           }
          ],
          "heatmap": [
           {
            "colorbar": {
             "outlinewidth": 0,
             "ticks": ""
            },
            "colorscale": [
             [
              0,
              "#0d0887"
             ],
             [
              0.1111111111111111,
              "#46039f"
             ],
             [
              0.2222222222222222,
              "#7201a8"
             ],
             [
              0.3333333333333333,
              "#9c179e"
             ],
             [
              0.4444444444444444,
              "#bd3786"
             ],
             [
              0.5555555555555556,
              "#d8576b"
             ],
             [
              0.6666666666666666,
              "#ed7953"
             ],
             [
              0.7777777777777778,
              "#fb9f3a"
             ],
             [
              0.8888888888888888,
              "#fdca26"
             ],
             [
              1,
              "#f0f921"
             ]
            ],
            "type": "heatmap"
           }
          ],
          "heatmapgl": [
           {
            "colorbar": {
             "outlinewidth": 0,
             "ticks": ""
            },
            "colorscale": [
             [
              0,
              "#0d0887"
             ],
             [
              0.1111111111111111,
              "#46039f"
             ],
             [
              0.2222222222222222,
              "#7201a8"
             ],
             [
              0.3333333333333333,
              "#9c179e"
             ],
             [
              0.4444444444444444,
              "#bd3786"
             ],
             [
              0.5555555555555556,
              "#d8576b"
             ],
             [
              0.6666666666666666,
              "#ed7953"
             ],
             [
              0.7777777777777778,
              "#fb9f3a"
             ],
             [
              0.8888888888888888,
              "#fdca26"
             ],
             [
              1,
              "#f0f921"
             ]
            ],
            "type": "heatmapgl"
           }
          ],
          "histogram": [
           {
            "marker": {
             "pattern": {
              "fillmode": "overlay",
              "size": 10,
              "solidity": 0.2
             }
            },
            "type": "histogram"
           }
          ],
          "histogram2d": [
           {
            "colorbar": {
             "outlinewidth": 0,
             "ticks": ""
            },
            "colorscale": [
             [
              0,
              "#0d0887"
             ],
             [
              0.1111111111111111,
              "#46039f"
             ],
             [
              0.2222222222222222,
              "#7201a8"
             ],
             [
              0.3333333333333333,
              "#9c179e"
             ],
             [
              0.4444444444444444,
              "#bd3786"
             ],
             [
              0.5555555555555556,
              "#d8576b"
             ],
             [
              0.6666666666666666,
              "#ed7953"
             ],
             [
              0.7777777777777778,
              "#fb9f3a"
             ],
             [
              0.8888888888888888,
              "#fdca26"
             ],
             [
              1,
              "#f0f921"
             ]
            ],
            "type": "histogram2d"
           }
          ],
          "histogram2dcontour": [
           {
            "colorbar": {
             "outlinewidth": 0,
             "ticks": ""
            },
            "colorscale": [
             [
              0,
              "#0d0887"
             ],
             [
              0.1111111111111111,
              "#46039f"
             ],
             [
              0.2222222222222222,
              "#7201a8"
             ],
             [
              0.3333333333333333,
              "#9c179e"
             ],
             [
              0.4444444444444444,
              "#bd3786"
             ],
             [
              0.5555555555555556,
              "#d8576b"
             ],
             [
              0.6666666666666666,
              "#ed7953"
             ],
             [
              0.7777777777777778,
              "#fb9f3a"
             ],
             [
              0.8888888888888888,
              "#fdca26"
             ],
             [
              1,
              "#f0f921"
             ]
            ],
            "type": "histogram2dcontour"
           }
          ],
          "mesh3d": [
           {
            "colorbar": {
             "outlinewidth": 0,
             "ticks": ""
            },
            "type": "mesh3d"
           }
          ],
          "parcoords": [
           {
            "line": {
             "colorbar": {
              "outlinewidth": 0,
              "ticks": ""
             }
            },
            "type": "parcoords"
           }
          ],
          "pie": [
           {
            "automargin": true,
            "type": "pie"
           }
          ],
          "scatter": [
           {
            "fillpattern": {
             "fillmode": "overlay",
             "size": 10,
             "solidity": 0.2
            },
            "type": "scatter"
           }
          ],
          "scatter3d": [
           {
            "line": {
             "colorbar": {
              "outlinewidth": 0,
              "ticks": ""
             }
            },
            "marker": {
             "colorbar": {
              "outlinewidth": 0,
              "ticks": ""
             }
            },
            "type": "scatter3d"
           }
          ],
          "scattercarpet": [
           {
            "marker": {
             "colorbar": {
              "outlinewidth": 0,
              "ticks": ""
             }
            },
            "type": "scattercarpet"
           }
          ],
          "scattergeo": [
           {
            "marker": {
             "colorbar": {
              "outlinewidth": 0,
              "ticks": ""
             }
            },
            "type": "scattergeo"
           }
          ],
          "scattergl": [
           {
            "marker": {
             "colorbar": {
              "outlinewidth": 0,
              "ticks": ""
             }
            },
            "type": "scattergl"
           }
          ],
          "scattermapbox": [
           {
            "marker": {
             "colorbar": {
              "outlinewidth": 0,
              "ticks": ""
             }
            },
            "type": "scattermapbox"
           }
          ],
          "scatterpolar": [
           {
            "marker": {
             "colorbar": {
              "outlinewidth": 0,
              "ticks": ""
             }
            },
            "type": "scatterpolar"
           }
          ],
          "scatterpolargl": [
           {
            "marker": {
             "colorbar": {
              "outlinewidth": 0,
              "ticks": ""
             }
            },
            "type": "scatterpolargl"
           }
          ],
          "scatterternary": [
           {
            "marker": {
             "colorbar": {
              "outlinewidth": 0,
              "ticks": ""
             }
            },
            "type": "scatterternary"
           }
          ],
          "surface": [
           {
            "colorbar": {
             "outlinewidth": 0,
             "ticks": ""
            },
            "colorscale": [
             [
              0,
              "#0d0887"
             ],
             [
              0.1111111111111111,
              "#46039f"
             ],
             [
              0.2222222222222222,
              "#7201a8"
             ],
             [
              0.3333333333333333,
              "#9c179e"
             ],
             [
              0.4444444444444444,
              "#bd3786"
             ],
             [
              0.5555555555555556,
              "#d8576b"
             ],
             [
              0.6666666666666666,
              "#ed7953"
             ],
             [
              0.7777777777777778,
              "#fb9f3a"
             ],
             [
              0.8888888888888888,
              "#fdca26"
             ],
             [
              1,
              "#f0f921"
             ]
            ],
            "type": "surface"
           }
          ],
          "table": [
           {
            "cells": {
             "fill": {
              "color": "#EBF0F8"
             },
             "line": {
              "color": "white"
             }
            },
            "header": {
             "fill": {
              "color": "#C8D4E3"
             },
             "line": {
              "color": "white"
             }
            },
            "type": "table"
           }
          ]
         },
         "layout": {
          "annotationdefaults": {
           "arrowcolor": "#2a3f5f",
           "arrowhead": 0,
           "arrowwidth": 1
          },
          "autotypenumbers": "strict",
          "coloraxis": {
           "colorbar": {
            "outlinewidth": 0,
            "ticks": ""
           }
          },
          "colorscale": {
           "diverging": [
            [
             0,
             "#8e0152"
            ],
            [
             0.1,
             "#c51b7d"
            ],
            [
             0.2,
             "#de77ae"
            ],
            [
             0.3,
             "#f1b6da"
            ],
            [
             0.4,
             "#fde0ef"
            ],
            [
             0.5,
             "#f7f7f7"
            ],
            [
             0.6,
             "#e6f5d0"
            ],
            [
             0.7,
             "#b8e186"
            ],
            [
             0.8,
             "#7fbc41"
            ],
            [
             0.9,
             "#4d9221"
            ],
            [
             1,
             "#276419"
            ]
           ],
           "sequential": [
            [
             0,
             "#0d0887"
            ],
            [
             0.1111111111111111,
             "#46039f"
            ],
            [
             0.2222222222222222,
             "#7201a8"
            ],
            [
             0.3333333333333333,
             "#9c179e"
            ],
            [
             0.4444444444444444,
             "#bd3786"
            ],
            [
             0.5555555555555556,
             "#d8576b"
            ],
            [
             0.6666666666666666,
             "#ed7953"
            ],
            [
             0.7777777777777778,
             "#fb9f3a"
            ],
            [
             0.8888888888888888,
             "#fdca26"
            ],
            [
             1,
             "#f0f921"
            ]
           ],
           "sequentialminus": [
            [
             0,
             "#0d0887"
            ],
            [
             0.1111111111111111,
             "#46039f"
            ],
            [
             0.2222222222222222,
             "#7201a8"
            ],
            [
             0.3333333333333333,
             "#9c179e"
            ],
            [
             0.4444444444444444,
             "#bd3786"
            ],
            [
             0.5555555555555556,
             "#d8576b"
            ],
            [
             0.6666666666666666,
             "#ed7953"
            ],
            [
             0.7777777777777778,
             "#fb9f3a"
            ],
            [
             0.8888888888888888,
             "#fdca26"
            ],
            [
             1,
             "#f0f921"
            ]
           ]
          },
          "colorway": [
           "#636efa",
           "#EF553B",
           "#00cc96",
           "#ab63fa",
           "#FFA15A",
           "#19d3f3",
           "#FF6692",
           "#B6E880",
           "#FF97FF",
           "#FECB52"
          ],
          "font": {
           "color": "#2a3f5f"
          },
          "geo": {
           "bgcolor": "white",
           "lakecolor": "white",
           "landcolor": "#E5ECF6",
           "showlakes": true,
           "showland": true,
           "subunitcolor": "white"
          },
          "hoverlabel": {
           "align": "left"
          },
          "hovermode": "closest",
          "mapbox": {
           "style": "light"
          },
          "paper_bgcolor": "white",
          "plot_bgcolor": "#E5ECF6",
          "polar": {
           "angularaxis": {
            "gridcolor": "white",
            "linecolor": "white",
            "ticks": ""
           },
           "bgcolor": "#E5ECF6",
           "radialaxis": {
            "gridcolor": "white",
            "linecolor": "white",
            "ticks": ""
           }
          },
          "scene": {
           "xaxis": {
            "backgroundcolor": "#E5ECF6",
            "gridcolor": "white",
            "gridwidth": 2,
            "linecolor": "white",
            "showbackground": true,
            "ticks": "",
            "zerolinecolor": "white"
           },
           "yaxis": {
            "backgroundcolor": "#E5ECF6",
            "gridcolor": "white",
            "gridwidth": 2,
            "linecolor": "white",
            "showbackground": true,
            "ticks": "",
            "zerolinecolor": "white"
           },
           "zaxis": {
            "backgroundcolor": "#E5ECF6",
            "gridcolor": "white",
            "gridwidth": 2,
            "linecolor": "white",
            "showbackground": true,
            "ticks": "",
            "zerolinecolor": "white"
           }
          },
          "shapedefaults": {
           "line": {
            "color": "#2a3f5f"
           }
          },
          "ternary": {
           "aaxis": {
            "gridcolor": "white",
            "linecolor": "white",
            "ticks": ""
           },
           "baxis": {
            "gridcolor": "white",
            "linecolor": "white",
            "ticks": ""
           },
           "bgcolor": "#E5ECF6",
           "caxis": {
            "gridcolor": "white",
            "linecolor": "white",
            "ticks": ""
           }
          },
          "title": {
           "x": 0.05
          },
          "xaxis": {
           "automargin": true,
           "gridcolor": "white",
           "linecolor": "white",
           "ticks": "",
           "title": {
            "standoff": 15
           },
           "zerolinecolor": "white",
           "zerolinewidth": 2
          },
          "yaxis": {
           "automargin": true,
           "gridcolor": "white",
           "linecolor": "white",
           "ticks": "",
           "title": {
            "standoff": 15
           },
           "zerolinecolor": "white",
           "zerolinewidth": 2
          }
         }
        },
        "title": {
         "text": "City Total Cost Ratio"
        },
        "width": 1000
       }
      }
     },
     "metadata": {},
     "output_type": "display_data"
    }
   ],
   "source": [
    "# 도시별 총액의 비율을 파이 차트로 시각화\n",
    "fig = px.pie(cost_sum_by_city, \n",
    "             names=cost_sum_by_city.index, \n",
    "             values=cost_sum_by_city.values,\n",
    "             title='City Total Cost Ratio',  # 파이 차트 제목 설정\n",
    "             color_discrete_sequence=px.colors.cyclical.IceFire,  # 색상 설정\n",
    "             custom_data=[cost_sum_by_city.values],  # 추가 정보를 custom_data로 설정\n",
    "             labels={'customdata': 'Total Cost'},  # custom_data에 대한 레이블 설정\n",
    "             )\n",
    "\n",
    "# 레이블을 숫자 옆에 표시\n",
    "fig.update_traces(textinfo='label+percent', pull=[0.1, 0.1, 0.1])  # pull을 사용하여 일부 조각을 분리\n",
    "fig.update_layout(showlegend=False)\n",
    "fig.update_layout(height=700, width=1000)\n",
    "\n",
    "# 그림을 보여주기\n",
    "fig.show()"
   ]
  },
  {
   "cell_type": "code",
   "execution_count": null,
   "metadata": {},
   "outputs": [],
   "source": [
    "cost_sum_by_city = jg_df.groupby('city_s')['cost'].sum().sort_values(ascending=False)\n",
    "# jg_df는 DataFrame 객체이며, 'city_s'는 시각화하고자 하는 열입니다.\n",
    "fig = px.bar(cost_sum_by_city, x=cost_sum_by_city.index, y=cost_sum_by_city.values, color=cost_sum_by_city.values, color_continuous_scale='Cividis_r')\n",
    "fig.update_layout(xaxis_title='행정동', yaxis_title='결제액수')\n",
    "# 그림을 보여주기\n",
    "fig.show()"
   ]
  },
  {
   "cell_type": "code",
   "execution_count": 7,
   "metadata": {},
   "outputs": [
    {
     "data": {
      "text/plain": [
       "array(['다산동', '약수동', '신당5동', '명동', '중림동', '청구동', '을지로동', '신당동', '장충동',\n",
       "       '필동', '동화동', '황학동', '소공동', '광희동', '회현동'], dtype=object)"
      ]
     },
     "execution_count": 7,
     "metadata": {},
     "output_type": "execute_result"
    }
   ],
   "source": [
    "jg_df['city_s'].unique()"
   ]
  },
  {
   "cell_type": "code",
   "execution_count": 15,
   "metadata": {},
   "outputs": [
    {
     "data": {
      "text/html": [
       "<div>\n",
       "<style scoped>\n",
       "    .dataframe tbody tr th:only-of-type {\n",
       "        vertical-align: middle;\n",
       "    }\n",
       "\n",
       "    .dataframe tbody tr th {\n",
       "        vertical-align: top;\n",
       "    }\n",
       "\n",
       "    .dataframe thead th {\n",
       "        text-align: right;\n",
       "    }\n",
       "</style>\n",
       "<table border=\"1\" class=\"dataframe\">\n",
       "  <thead>\n",
       "    <tr style=\"text-align: right;\">\n",
       "      <th></th>\n",
       "      <th>표준산업분류코드</th>\n",
       "      <th>표준산업분류(중)</th>\n",
       "      <th>데이터건수</th>\n",
       "    </tr>\n",
       "  </thead>\n",
       "  <tbody>\n",
       "    <tr>\n",
       "      <th>0</th>\n",
       "      <td>10</td>\n",
       "      <td>식료품 제조업</td>\n",
       "      <td>1805</td>\n",
       "    </tr>\n",
       "    <tr>\n",
       "      <th>1</th>\n",
       "      <td>14</td>\n",
       "      <td>의복 의복 액세서리 및 모피제품 제조업</td>\n",
       "      <td>37</td>\n",
       "    </tr>\n",
       "    <tr>\n",
       "      <th>2</th>\n",
       "      <td>18</td>\n",
       "      <td>인쇄 및 기록매체 복제업</td>\n",
       "      <td>2051</td>\n",
       "    </tr>\n",
       "    <tr>\n",
       "      <th>3</th>\n",
       "      <td>21</td>\n",
       "      <td>의료용 물질 및 의약품 제조업</td>\n",
       "      <td>698</td>\n",
       "    </tr>\n",
       "    <tr>\n",
       "      <th>4</th>\n",
       "      <td>29</td>\n",
       "      <td>기타 기계 및 장비 제조업</td>\n",
       "      <td>1511</td>\n",
       "    </tr>\n",
       "    <tr>\n",
       "      <th>5</th>\n",
       "      <td>30</td>\n",
       "      <td>자동차 및 트레일러 제조업</td>\n",
       "      <td>4</td>\n",
       "    </tr>\n",
       "    <tr>\n",
       "      <th>6</th>\n",
       "      <td>33</td>\n",
       "      <td>기타 제품 제조업</td>\n",
       "      <td>2876</td>\n",
       "    </tr>\n",
       "    <tr>\n",
       "      <th>7</th>\n",
       "      <td>34</td>\n",
       "      <td>산업용 기계 및 장비 수리업</td>\n",
       "      <td>68</td>\n",
       "    </tr>\n",
       "    <tr>\n",
       "      <th>8</th>\n",
       "      <td>35</td>\n",
       "      <td>전기 가스 증기 및 공기 조절 공급업</td>\n",
       "      <td>1308</td>\n",
       "    </tr>\n",
       "    <tr>\n",
       "      <th>9</th>\n",
       "      <td>41</td>\n",
       "      <td>종합 건설업</td>\n",
       "      <td>58</td>\n",
       "    </tr>\n",
       "    <tr>\n",
       "      <th>10</th>\n",
       "      <td>42</td>\n",
       "      <td>전문직별 공사업</td>\n",
       "      <td>467</td>\n",
       "    </tr>\n",
       "    <tr>\n",
       "      <th>11</th>\n",
       "      <td>45</td>\n",
       "      <td>자동차 및 부품 판매업</td>\n",
       "      <td>2738</td>\n",
       "    </tr>\n",
       "    <tr>\n",
       "      <th>12</th>\n",
       "      <td>46</td>\n",
       "      <td>도매 및 상품 중개업</td>\n",
       "      <td>4403</td>\n",
       "    </tr>\n",
       "    <tr>\n",
       "      <th>13</th>\n",
       "      <td>47</td>\n",
       "      <td>소매업; 자동차 제외</td>\n",
       "      <td>92135</td>\n",
       "    </tr>\n",
       "    <tr>\n",
       "      <th>14</th>\n",
       "      <td>49</td>\n",
       "      <td>육상 운송 및 파이프라인 운송업</td>\n",
       "      <td>18603</td>\n",
       "    </tr>\n",
       "    <tr>\n",
       "      <th>15</th>\n",
       "      <td>50</td>\n",
       "      <td>수상 운송업</td>\n",
       "      <td>984</td>\n",
       "    </tr>\n",
       "    <tr>\n",
       "      <th>16</th>\n",
       "      <td>51</td>\n",
       "      <td>항공 운송업</td>\n",
       "      <td>3903</td>\n",
       "    </tr>\n",
       "    <tr>\n",
       "      <th>17</th>\n",
       "      <td>52</td>\n",
       "      <td>창고 및 운송관련 서비스업</td>\n",
       "      <td>7929</td>\n",
       "    </tr>\n",
       "    <tr>\n",
       "      <th>18</th>\n",
       "      <td>55</td>\n",
       "      <td>숙박업</td>\n",
       "      <td>6356</td>\n",
       "    </tr>\n",
       "    <tr>\n",
       "      <th>19</th>\n",
       "      <td>56</td>\n",
       "      <td>음식점 및 주점업</td>\n",
       "      <td>29457</td>\n",
       "    </tr>\n",
       "    <tr>\n",
       "      <th>20</th>\n",
       "      <td>58</td>\n",
       "      <td>출판업</td>\n",
       "      <td>323</td>\n",
       "    </tr>\n",
       "    <tr>\n",
       "      <th>21</th>\n",
       "      <td>59</td>\n",
       "      <td>영상ㆍ오디오 기록물 제작 및 배급업</td>\n",
       "      <td>2892</td>\n",
       "    </tr>\n",
       "    <tr>\n",
       "      <th>22</th>\n",
       "      <td>60</td>\n",
       "      <td>방송업</td>\n",
       "      <td>560</td>\n",
       "    </tr>\n",
       "    <tr>\n",
       "      <th>23</th>\n",
       "      <td>61</td>\n",
       "      <td>우편 및 통신업</td>\n",
       "      <td>10324</td>\n",
       "    </tr>\n",
       "    <tr>\n",
       "      <th>24</th>\n",
       "      <td>62</td>\n",
       "      <td>컴퓨터 프로그래밍 시스템 통합 및 관리업</td>\n",
       "      <td>1956</td>\n",
       "    </tr>\n",
       "    <tr>\n",
       "      <th>25</th>\n",
       "      <td>65</td>\n",
       "      <td>보험 및 연금업</td>\n",
       "      <td>8382</td>\n",
       "    </tr>\n",
       "    <tr>\n",
       "      <th>26</th>\n",
       "      <td>66</td>\n",
       "      <td>금융 및 보험관련 서비스업</td>\n",
       "      <td>2159</td>\n",
       "    </tr>\n",
       "    <tr>\n",
       "      <th>27</th>\n",
       "      <td>68</td>\n",
       "      <td>부동산업</td>\n",
       "      <td>5134</td>\n",
       "    </tr>\n",
       "    <tr>\n",
       "      <th>28</th>\n",
       "      <td>70</td>\n",
       "      <td>연구개발업</td>\n",
       "      <td>131</td>\n",
       "    </tr>\n",
       "    <tr>\n",
       "      <th>29</th>\n",
       "      <td>71</td>\n",
       "      <td>전문 서비스업</td>\n",
       "      <td>1752</td>\n",
       "    </tr>\n",
       "    <tr>\n",
       "      <th>30</th>\n",
       "      <td>73</td>\n",
       "      <td>기타 전문 과학 및 기술 서비스업</td>\n",
       "      <td>9263</td>\n",
       "    </tr>\n",
       "    <tr>\n",
       "      <th>31</th>\n",
       "      <td>74</td>\n",
       "      <td>사업시설 관리 및 조경 서비스업</td>\n",
       "      <td>349</td>\n",
       "    </tr>\n",
       "    <tr>\n",
       "      <th>32</th>\n",
       "      <td>75</td>\n",
       "      <td>사업 지원 서비스업</td>\n",
       "      <td>5608</td>\n",
       "    </tr>\n",
       "    <tr>\n",
       "      <th>33</th>\n",
       "      <td>76</td>\n",
       "      <td>임대업; 부동산 제외</td>\n",
       "      <td>2004</td>\n",
       "    </tr>\n",
       "    <tr>\n",
       "      <th>34</th>\n",
       "      <td>84</td>\n",
       "      <td>공공 행정 국방 및 사회보장 행정</td>\n",
       "      <td>5960</td>\n",
       "    </tr>\n",
       "    <tr>\n",
       "      <th>35</th>\n",
       "      <td>85</td>\n",
       "      <td>교육 서비스업</td>\n",
       "      <td>7860</td>\n",
       "    </tr>\n",
       "    <tr>\n",
       "      <th>36</th>\n",
       "      <td>86</td>\n",
       "      <td>보건업</td>\n",
       "      <td>13981</td>\n",
       "    </tr>\n",
       "    <tr>\n",
       "      <th>37</th>\n",
       "      <td>87</td>\n",
       "      <td>사회복지 서비스업</td>\n",
       "      <td>731</td>\n",
       "    </tr>\n",
       "    <tr>\n",
       "      <th>38</th>\n",
       "      <td>90</td>\n",
       "      <td>창작 예술 및 여가관련 서비스업</td>\n",
       "      <td>4361</td>\n",
       "    </tr>\n",
       "    <tr>\n",
       "      <th>39</th>\n",
       "      <td>91</td>\n",
       "      <td>스포츠 및 오락관련 서비스업</td>\n",
       "      <td>15428</td>\n",
       "    </tr>\n",
       "    <tr>\n",
       "      <th>40</th>\n",
       "      <td>94</td>\n",
       "      <td>협회 및 단체</td>\n",
       "      <td>3098</td>\n",
       "    </tr>\n",
       "    <tr>\n",
       "      <th>41</th>\n",
       "      <td>95</td>\n",
       "      <td>개인 및 소비용품 수리업</td>\n",
       "      <td>7384</td>\n",
       "    </tr>\n",
       "    <tr>\n",
       "      <th>42</th>\n",
       "      <td>96</td>\n",
       "      <td>기타 개인 서비스업</td>\n",
       "      <td>15058</td>\n",
       "    </tr>\n",
       "  </tbody>\n",
       "</table>\n",
       "</div>"
      ],
      "text/plain": [
       "   표준산업분류코드               표준산업분류(중)  데이터건수\n",
       "0        10                 식료품 제조업   1805\n",
       "1        14   의복 의복 액세서리 및 모피제품 제조업     37\n",
       "2        18           인쇄 및 기록매체 복제업   2051\n",
       "3        21        의료용 물질 및 의약품 제조업    698\n",
       "4        29          기타 기계 및 장비 제조업   1511\n",
       "5        30          자동차 및 트레일러 제조업      4\n",
       "6        33               기타 제품 제조업   2876\n",
       "7        34         산업용 기계 및 장비 수리업     68\n",
       "8        35    전기 가스 증기 및 공기 조절 공급업   1308\n",
       "9        41                  종합 건설업     58\n",
       "10       42                전문직별 공사업    467\n",
       "11       45            자동차 및 부품 판매업   2738\n",
       "12       46             도매 및 상품 중개업   4403\n",
       "13       47             소매업; 자동차 제외  92135\n",
       "14       49       육상 운송 및 파이프라인 운송업  18603\n",
       "15       50                  수상 운송업    984\n",
       "16       51                  항공 운송업   3903\n",
       "17       52          창고 및 운송관련 서비스업   7929\n",
       "18       55                     숙박업   6356\n",
       "19       56               음식점 및 주점업  29457\n",
       "20       58                     출판업    323\n",
       "21       59     영상ㆍ오디오 기록물 제작 및 배급업   2892\n",
       "22       60                     방송업    560\n",
       "23       61                우편 및 통신업  10324\n",
       "24       62  컴퓨터 프로그래밍 시스템 통합 및 관리업   1956\n",
       "25       65                보험 및 연금업   8382\n",
       "26       66          금융 및 보험관련 서비스업   2159\n",
       "27       68                    부동산업   5134\n",
       "28       70                   연구개발업    131\n",
       "29       71                 전문 서비스업   1752\n",
       "30       73      기타 전문 과학 및 기술 서비스업   9263\n",
       "31       74       사업시설 관리 및 조경 서비스업    349\n",
       "32       75              사업 지원 서비스업   5608\n",
       "33       76             임대업; 부동산 제외   2004\n",
       "34       84      공공 행정 국방 및 사회보장 행정   5960\n",
       "35       85                 교육 서비스업   7860\n",
       "36       86                     보건업  13981\n",
       "37       87               사회복지 서비스업    731\n",
       "38       90       창작 예술 및 여가관련 서비스업   4361\n",
       "39       91         스포츠 및 오락관련 서비스업  15428\n",
       "40       94                 협회 및 단체   3098\n",
       "41       95           개인 및 소비용품 수리업   7384\n",
       "42       96              기타 개인 서비스업  15058"
      ]
     },
     "execution_count": 15,
     "metadata": {},
     "output_type": "execute_result"
    }
   ],
   "source": [
    "jg_count_dic = dict(zip(jg_df['code_m'].value_counts().index,jg_df['code_m'].value_counts().values))\n",
    "jg_std = pd.DataFrame({'표준산업분류코드':sorted(jg_df['code_m'].unique())})\n",
    "jg_std['표준산업분류(중)'] = jg_std['표준산업분류코드'].map(STD_TOBZ_M_dic)\n",
    "jg_std['데이터건수'] = jg_std['표준산업분류코드'].map(jg_count_dic)\n",
    "jg_std = jg_std.sort_values(by='표준산업분류코드').reset_index(drop=True)\n",
    "jg_std"
   ]
  },
  {
   "cell_type": "code",
   "execution_count": null,
   "metadata": {},
   "outputs": [],
   "source": [
    "jg_std"
   ]
  },
  {
   "cell_type": "code",
   "execution_count": 28,
   "metadata": {},
   "outputs": [
    {
     "data": {
      "application/vnd.plotly.v1+json": {
       "config": {
        "plotlyServerURL": "https://plot.ly"
       },
       "data": [
        {
         "alignmentgroup": "True",
         "hovertemplate": "표준산업분류(중)=%{x}<br>데이터건수=%{marker.color}<extra></extra>",
         "legendgroup": "",
         "marker": {
          "color": [
           1805,
           37,
           2051,
           698,
           1511,
           4,
           2876,
           68,
           1308,
           58,
           467,
           2738,
           4403,
           92135,
           18603,
           984,
           3903,
           7929,
           6356,
           29457,
           323,
           2892,
           560,
           10324,
           1956,
           8382,
           2159,
           5134,
           131,
           1752,
           9263,
           349,
           5608,
           2004,
           5960,
           7860,
           13981,
           731,
           4361,
           15428,
           3098,
           7384,
           15058
          ],
          "coloraxis": "coloraxis",
          "pattern": {
           "shape": ""
          }
         },
         "name": "",
         "offsetgroup": "",
         "orientation": "v",
         "showlegend": false,
         "textposition": "auto",
         "type": "bar",
         "x": [
          "식료품 제조업",
          "의복 의복 액세서리 및 모피제품 제조업",
          "인쇄 및 기록매체 복제업",
          "의료용 물질 및 의약품 제조업",
          "기타 기계 및 장비 제조업",
          "자동차 및 트레일러 제조업",
          "기타 제품 제조업",
          "산업용 기계 및 장비 수리업",
          "전기 가스 증기 및 공기 조절 공급업",
          "종합 건설업",
          "전문직별 공사업",
          "자동차 및 부품 판매업",
          "도매 및 상품 중개업",
          "소매업; 자동차 제외",
          "육상 운송 및 파이프라인 운송업",
          "수상 운송업",
          "항공 운송업",
          "창고 및 운송관련 서비스업",
          "숙박업",
          "음식점 및 주점업",
          "출판업",
          "영상ㆍ오디오 기록물 제작 및 배급업",
          "방송업",
          "우편 및 통신업",
          "컴퓨터 프로그래밍 시스템 통합 및 관리업",
          "보험 및 연금업",
          "금융 및 보험관련 서비스업",
          "부동산업",
          "연구개발업",
          "전문 서비스업",
          "기타 전문 과학 및 기술 서비스업",
          "사업시설 관리 및 조경 서비스업",
          "사업 지원 서비스업",
          "임대업; 부동산 제외",
          "공공 행정 국방 및 사회보장 행정",
          "교육 서비스업",
          "보건업",
          "사회복지 서비스업",
          "창작 예술 및 여가관련 서비스업",
          "스포츠 및 오락관련 서비스업",
          "협회 및 단체",
          "개인 및 소비용품 수리업",
          "기타 개인 서비스업"
         ],
         "xaxis": "x",
         "y": [
          1805,
          37,
          2051,
          698,
          1511,
          4,
          2876,
          68,
          1308,
          58,
          467,
          2738,
          4403,
          92135,
          18603,
          984,
          3903,
          7929,
          6356,
          29457,
          323,
          2892,
          560,
          10324,
          1956,
          8382,
          2159,
          5134,
          131,
          1752,
          9263,
          349,
          5608,
          2004,
          5960,
          7860,
          13981,
          731,
          4361,
          15428,
          3098,
          7384,
          15058
         ],
         "yaxis": "y"
        }
       ],
       "layout": {
        "barmode": "relative",
        "coloraxis": {
         "colorbar": {
          "title": {
           "text": "데이터건수"
          }
         },
         "colorscale": [
          [
           0,
           "rgb(75, 41, 145)"
          ],
          [
           0.16666666666666666,
           "rgb(135, 44, 162)"
          ],
          [
           0.3333333333333333,
           "rgb(192, 54, 157)"
          ],
          [
           0.5,
           "rgb(234, 79, 136)"
          ],
          [
           0.6666666666666666,
           "rgb(250, 120, 118)"
          ],
          [
           0.8333333333333334,
           "rgb(246, 169, 122)"
          ],
          [
           1,
           "rgb(237, 217, 163)"
          ]
         ]
        },
        "height": 500,
        "legend": {
         "tracegroupgap": 0
        },
        "margin": {
         "t": 60
        },
        "template": {
         "data": {
          "bar": [
           {
            "error_x": {
             "color": "#2a3f5f"
            },
            "error_y": {
             "color": "#2a3f5f"
            },
            "marker": {
             "line": {
              "color": "#E5ECF6",
              "width": 0.5
             },
             "pattern": {
              "fillmode": "overlay",
              "size": 10,
              "solidity": 0.2
             }
            },
            "type": "bar"
           }
          ],
          "barpolar": [
           {
            "marker": {
             "line": {
              "color": "#E5ECF6",
              "width": 0.5
             },
             "pattern": {
              "fillmode": "overlay",
              "size": 10,
              "solidity": 0.2
             }
            },
            "type": "barpolar"
           }
          ],
          "carpet": [
           {
            "aaxis": {
             "endlinecolor": "#2a3f5f",
             "gridcolor": "white",
             "linecolor": "white",
             "minorgridcolor": "white",
             "startlinecolor": "#2a3f5f"
            },
            "baxis": {
             "endlinecolor": "#2a3f5f",
             "gridcolor": "white",
             "linecolor": "white",
             "minorgridcolor": "white",
             "startlinecolor": "#2a3f5f"
            },
            "type": "carpet"
           }
          ],
          "choropleth": [
           {
            "colorbar": {
             "outlinewidth": 0,
             "ticks": ""
            },
            "type": "choropleth"
           }
          ],
          "contour": [
           {
            "colorbar": {
             "outlinewidth": 0,
             "ticks": ""
            },
            "colorscale": [
             [
              0,
              "#0d0887"
             ],
             [
              0.1111111111111111,
              "#46039f"
             ],
             [
              0.2222222222222222,
              "#7201a8"
             ],
             [
              0.3333333333333333,
              "#9c179e"
             ],
             [
              0.4444444444444444,
              "#bd3786"
             ],
             [
              0.5555555555555556,
              "#d8576b"
             ],
             [
              0.6666666666666666,
              "#ed7953"
             ],
             [
              0.7777777777777778,
              "#fb9f3a"
             ],
             [
              0.8888888888888888,
              "#fdca26"
             ],
             [
              1,
              "#f0f921"
             ]
            ],
            "type": "contour"
           }
          ],
          "contourcarpet": [
           {
            "colorbar": {
             "outlinewidth": 0,
             "ticks": ""
            },
            "type": "contourcarpet"
           }
          ],
          "heatmap": [
           {
            "colorbar": {
             "outlinewidth": 0,
             "ticks": ""
            },
            "colorscale": [
             [
              0,
              "#0d0887"
             ],
             [
              0.1111111111111111,
              "#46039f"
             ],
             [
              0.2222222222222222,
              "#7201a8"
             ],
             [
              0.3333333333333333,
              "#9c179e"
             ],
             [
              0.4444444444444444,
              "#bd3786"
             ],
             [
              0.5555555555555556,
              "#d8576b"
             ],
             [
              0.6666666666666666,
              "#ed7953"
             ],
             [
              0.7777777777777778,
              "#fb9f3a"
             ],
             [
              0.8888888888888888,
              "#fdca26"
             ],
             [
              1,
              "#f0f921"
             ]
            ],
            "type": "heatmap"
           }
          ],
          "heatmapgl": [
           {
            "colorbar": {
             "outlinewidth": 0,
             "ticks": ""
            },
            "colorscale": [
             [
              0,
              "#0d0887"
             ],
             [
              0.1111111111111111,
              "#46039f"
             ],
             [
              0.2222222222222222,
              "#7201a8"
             ],
             [
              0.3333333333333333,
              "#9c179e"
             ],
             [
              0.4444444444444444,
              "#bd3786"
             ],
             [
              0.5555555555555556,
              "#d8576b"
             ],
             [
              0.6666666666666666,
              "#ed7953"
             ],
             [
              0.7777777777777778,
              "#fb9f3a"
             ],
             [
              0.8888888888888888,
              "#fdca26"
             ],
             [
              1,
              "#f0f921"
             ]
            ],
            "type": "heatmapgl"
           }
          ],
          "histogram": [
           {
            "marker": {
             "pattern": {
              "fillmode": "overlay",
              "size": 10,
              "solidity": 0.2
             }
            },
            "type": "histogram"
           }
          ],
          "histogram2d": [
           {
            "colorbar": {
             "outlinewidth": 0,
             "ticks": ""
            },
            "colorscale": [
             [
              0,
              "#0d0887"
             ],
             [
              0.1111111111111111,
              "#46039f"
             ],
             [
              0.2222222222222222,
              "#7201a8"
             ],
             [
              0.3333333333333333,
              "#9c179e"
             ],
             [
              0.4444444444444444,
              "#bd3786"
             ],
             [
              0.5555555555555556,
              "#d8576b"
             ],
             [
              0.6666666666666666,
              "#ed7953"
             ],
             [
              0.7777777777777778,
              "#fb9f3a"
             ],
             [
              0.8888888888888888,
              "#fdca26"
             ],
             [
              1,
              "#f0f921"
             ]
            ],
            "type": "histogram2d"
           }
          ],
          "histogram2dcontour": [
           {
            "colorbar": {
             "outlinewidth": 0,
             "ticks": ""
            },
            "colorscale": [
             [
              0,
              "#0d0887"
             ],
             [
              0.1111111111111111,
              "#46039f"
             ],
             [
              0.2222222222222222,
              "#7201a8"
             ],
             [
              0.3333333333333333,
              "#9c179e"
             ],
             [
              0.4444444444444444,
              "#bd3786"
             ],
             [
              0.5555555555555556,
              "#d8576b"
             ],
             [
              0.6666666666666666,
              "#ed7953"
             ],
             [
              0.7777777777777778,
              "#fb9f3a"
             ],
             [
              0.8888888888888888,
              "#fdca26"
             ],
             [
              1,
              "#f0f921"
             ]
            ],
            "type": "histogram2dcontour"
           }
          ],
          "mesh3d": [
           {
            "colorbar": {
             "outlinewidth": 0,
             "ticks": ""
            },
            "type": "mesh3d"
           }
          ],
          "parcoords": [
           {
            "line": {
             "colorbar": {
              "outlinewidth": 0,
              "ticks": ""
             }
            },
            "type": "parcoords"
           }
          ],
          "pie": [
           {
            "automargin": true,
            "type": "pie"
           }
          ],
          "scatter": [
           {
            "fillpattern": {
             "fillmode": "overlay",
             "size": 10,
             "solidity": 0.2
            },
            "type": "scatter"
           }
          ],
          "scatter3d": [
           {
            "line": {
             "colorbar": {
              "outlinewidth": 0,
              "ticks": ""
             }
            },
            "marker": {
             "colorbar": {
              "outlinewidth": 0,
              "ticks": ""
             }
            },
            "type": "scatter3d"
           }
          ],
          "scattercarpet": [
           {
            "marker": {
             "colorbar": {
              "outlinewidth": 0,
              "ticks": ""
             }
            },
            "type": "scattercarpet"
           }
          ],
          "scattergeo": [
           {
            "marker": {
             "colorbar": {
              "outlinewidth": 0,
              "ticks": ""
             }
            },
            "type": "scattergeo"
           }
          ],
          "scattergl": [
           {
            "marker": {
             "colorbar": {
              "outlinewidth": 0,
              "ticks": ""
             }
            },
            "type": "scattergl"
           }
          ],
          "scattermapbox": [
           {
            "marker": {
             "colorbar": {
              "outlinewidth": 0,
              "ticks": ""
             }
            },
            "type": "scattermapbox"
           }
          ],
          "scatterpolar": [
           {
            "marker": {
             "colorbar": {
              "outlinewidth": 0,
              "ticks": ""
             }
            },
            "type": "scatterpolar"
           }
          ],
          "scatterpolargl": [
           {
            "marker": {
             "colorbar": {
              "outlinewidth": 0,
              "ticks": ""
             }
            },
            "type": "scatterpolargl"
           }
          ],
          "scatterternary": [
           {
            "marker": {
             "colorbar": {
              "outlinewidth": 0,
              "ticks": ""
             }
            },
            "type": "scatterternary"
           }
          ],
          "surface": [
           {
            "colorbar": {
             "outlinewidth": 0,
             "ticks": ""
            },
            "colorscale": [
             [
              0,
              "#0d0887"
             ],
             [
              0.1111111111111111,
              "#46039f"
             ],
             [
              0.2222222222222222,
              "#7201a8"
             ],
             [
              0.3333333333333333,
              "#9c179e"
             ],
             [
              0.4444444444444444,
              "#bd3786"
             ],
             [
              0.5555555555555556,
              "#d8576b"
             ],
             [
              0.6666666666666666,
              "#ed7953"
             ],
             [
              0.7777777777777778,
              "#fb9f3a"
             ],
             [
              0.8888888888888888,
              "#fdca26"
             ],
             [
              1,
              "#f0f921"
             ]
            ],
            "type": "surface"
           }
          ],
          "table": [
           {
            "cells": {
             "fill": {
              "color": "#EBF0F8"
             },
             "line": {
              "color": "white"
             }
            },
            "header": {
             "fill": {
              "color": "#C8D4E3"
             },
             "line": {
              "color": "white"
             }
            },
            "type": "table"
           }
          ]
         },
         "layout": {
          "annotationdefaults": {
           "arrowcolor": "#2a3f5f",
           "arrowhead": 0,
           "arrowwidth": 1
          },
          "autotypenumbers": "strict",
          "coloraxis": {
           "colorbar": {
            "outlinewidth": 0,
            "ticks": ""
           }
          },
          "colorscale": {
           "diverging": [
            [
             0,
             "#8e0152"
            ],
            [
             0.1,
             "#c51b7d"
            ],
            [
             0.2,
             "#de77ae"
            ],
            [
             0.3,
             "#f1b6da"
            ],
            [
             0.4,
             "#fde0ef"
            ],
            [
             0.5,
             "#f7f7f7"
            ],
            [
             0.6,
             "#e6f5d0"
            ],
            [
             0.7,
             "#b8e186"
            ],
            [
             0.8,
             "#7fbc41"
            ],
            [
             0.9,
             "#4d9221"
            ],
            [
             1,
             "#276419"
            ]
           ],
           "sequential": [
            [
             0,
             "#0d0887"
            ],
            [
             0.1111111111111111,
             "#46039f"
            ],
            [
             0.2222222222222222,
             "#7201a8"
            ],
            [
             0.3333333333333333,
             "#9c179e"
            ],
            [
             0.4444444444444444,
             "#bd3786"
            ],
            [
             0.5555555555555556,
             "#d8576b"
            ],
            [
             0.6666666666666666,
             "#ed7953"
            ],
            [
             0.7777777777777778,
             "#fb9f3a"
            ],
            [
             0.8888888888888888,
             "#fdca26"
            ],
            [
             1,
             "#f0f921"
            ]
           ],
           "sequentialminus": [
            [
             0,
             "#0d0887"
            ],
            [
             0.1111111111111111,
             "#46039f"
            ],
            [
             0.2222222222222222,
             "#7201a8"
            ],
            [
             0.3333333333333333,
             "#9c179e"
            ],
            [
             0.4444444444444444,
             "#bd3786"
            ],
            [
             0.5555555555555556,
             "#d8576b"
            ],
            [
             0.6666666666666666,
             "#ed7953"
            ],
            [
             0.7777777777777778,
             "#fb9f3a"
            ],
            [
             0.8888888888888888,
             "#fdca26"
            ],
            [
             1,
             "#f0f921"
            ]
           ]
          },
          "colorway": [
           "#636efa",
           "#EF553B",
           "#00cc96",
           "#ab63fa",
           "#FFA15A",
           "#19d3f3",
           "#FF6692",
           "#B6E880",
           "#FF97FF",
           "#FECB52"
          ],
          "font": {
           "color": "#2a3f5f"
          },
          "geo": {
           "bgcolor": "white",
           "lakecolor": "white",
           "landcolor": "#E5ECF6",
           "showlakes": true,
           "showland": true,
           "subunitcolor": "white"
          },
          "hoverlabel": {
           "align": "left"
          },
          "hovermode": "closest",
          "mapbox": {
           "style": "light"
          },
          "paper_bgcolor": "white",
          "plot_bgcolor": "#E5ECF6",
          "polar": {
           "angularaxis": {
            "gridcolor": "white",
            "linecolor": "white",
            "ticks": ""
           },
           "bgcolor": "#E5ECF6",
           "radialaxis": {
            "gridcolor": "white",
            "linecolor": "white",
            "ticks": ""
           }
          },
          "scene": {
           "xaxis": {
            "backgroundcolor": "#E5ECF6",
            "gridcolor": "white",
            "gridwidth": 2,
            "linecolor": "white",
            "showbackground": true,
            "ticks": "",
            "zerolinecolor": "white"
           },
           "yaxis": {
            "backgroundcolor": "#E5ECF6",
            "gridcolor": "white",
            "gridwidth": 2,
            "linecolor": "white",
            "showbackground": true,
            "ticks": "",
            "zerolinecolor": "white"
           },
           "zaxis": {
            "backgroundcolor": "#E5ECF6",
            "gridcolor": "white",
            "gridwidth": 2,
            "linecolor": "white",
            "showbackground": true,
            "ticks": "",
            "zerolinecolor": "white"
           }
          },
          "shapedefaults": {
           "line": {
            "color": "#2a3f5f"
           }
          },
          "ternary": {
           "aaxis": {
            "gridcolor": "white",
            "linecolor": "white",
            "ticks": ""
           },
           "baxis": {
            "gridcolor": "white",
            "linecolor": "white",
            "ticks": ""
           },
           "bgcolor": "#E5ECF6",
           "caxis": {
            "gridcolor": "white",
            "linecolor": "white",
            "ticks": ""
           }
          },
          "title": {
           "x": 0.05
          },
          "xaxis": {
           "automargin": true,
           "gridcolor": "white",
           "linecolor": "white",
           "ticks": "",
           "title": {
            "standoff": 15
           },
           "zerolinecolor": "white",
           "zerolinewidth": 2
          },
          "yaxis": {
           "automargin": true,
           "gridcolor": "white",
           "linecolor": "white",
           "ticks": "",
           "title": {
            "standoff": 15
           },
           "zerolinecolor": "white",
           "zerolinewidth": 2
          }
         }
        },
        "width": 7000,
        "xaxis": {
         "anchor": "y",
         "categoryorder": "total descending",
         "domain": [
          0,
          1
         ],
         "exponentformat": "none",
         "title": {
          "text": "표준산업분류"
         },
         "type": "category"
        },
        "yaxis": {
         "anchor": "x",
         "domain": [
          0,
          1
         ],
         "title": {
          "text": "데이터건수"
         }
        }
       }
      }
     },
     "metadata": {},
     "output_type": "display_data"
    }
   ],
   "source": [
    "# jg_df는 DataFrame 객체이며, 'city_s'는 시각화하고자 하는 열입니다.\n",
    "fig = px.bar(jg_std, x=jg_std['표준산업분류(중)'], y=jg_std['데이터건수'], color=jg_std['데이터건수'], color_continuous_scale='agsunset')\n",
    "fig.update_layout(xaxis_title='표준산업분류', yaxis_title='데이터건수', height=500, width=7000)\n",
    "# x축의 스크롤을 추가하기\n",
    "fig.update_xaxes(\n",
    "    type='category',  # x축의 타입을 'category'로 설정\n",
    "    categoryorder='total descending',  # 정렬 방식 설정 (total descending 또는 total ascending)\n",
    "    exponentformat='none'  # 지수 표기 비활성화\n",
    ")\n",
    "# 그림을 보여주기\n",
    "fig.show()"
   ]
  }
 ],
 "metadata": {
  "kernelspec": {
   "display_name": "Python 3.8.16 ('GIS')",
   "language": "python",
   "name": "python3"
  },
  "language_info": {
   "codemirror_mode": {
    "name": "ipython",
    "version": 3
   },
   "file_extension": ".py",
   "mimetype": "text/x-python",
   "name": "python",
   "nbconvert_exporter": "python",
   "pygments_lexer": "ipython3",
   "version": "3.8.16"
  },
  "orig_nbformat": 4,
  "vscode": {
   "interpreter": {
    "hash": "4c2ab1d16d29501e38a3ee1978e97de755e76d74519759c8e0a07f6b08052ab1"
   }
  }
 },
 "nbformat": 4,
 "nbformat_minor": 2
}
