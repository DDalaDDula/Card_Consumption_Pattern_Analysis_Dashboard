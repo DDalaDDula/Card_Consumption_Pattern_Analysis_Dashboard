{
 "cells": [
  {
   "cell_type": "code",
   "execution_count": 1,
   "metadata": {},
   "outputs": [],
   "source": [
    "import pandas as pd\n",
    "from datetime import datetime\n",
    "import plotly.express as px"
   ]
  },
  {
   "cell_type": "code",
   "execution_count": 7,
   "metadata": {},
   "outputs": [],
   "source": [
    "# https://www.data.go.kr/data/15049591/fileData.do <= 표준산업분류코드 데이터\n",
    "def std_convert(str):\n",
    "    return f\"0{str}\" if len(str) == 1 else str\n",
    "STD_TOBZ_M_df = pd.read_csv(\"dataset/고용노동부_표준산업분류코드.csv\")\n",
    "STD_TOBZ_M_df['고용업종코드(중분류)'] = STD_TOBZ_M_df['고용업종코드(중분류)'].astype(int).astype(str)\n",
    "STD_TOBZ_M_df['고용업종코드(중분류)'] = STD_TOBZ_M_df['고용업종코드(중분류)'].apply(lambda x : std_convert(x))\n",
    "STD_TOBZ_M_df['고용업종코드(소분류)'] = STD_TOBZ_M_df['고용업종코드(소분류)'].astype(str)\n",
    "\n",
    "STD_TOBZ_M_dic = dict(zip(STD_TOBZ_M_df['고용업종코드(중분류)'], STD_TOBZ_M_df['고용업종명(중분류)'])) # 표준산업분류 - 중분류 dict\n",
    "STD_TOBZ_S_dic = dict(zip(STD_TOBZ_M_df['고용업종코드(소분류)'], STD_TOBZ_M_df['고용업종명(소분류)'])) # 표준산업분류 - 소분류 dict"
   ]
  },
  {
   "cell_type": "code",
   "execution_count": 6,
   "metadata": {},
   "outputs": [],
   "source": [
    "# 데이터프레임을 GeoPandas 데이터프레임으로 변환하는 함수 정의\n",
    "def geo_transform(DataFrame) :\n",
    "    DataFrame = gpd.GeoDataFrame(DataFrame, geometry='geometry')\n",
    "    DataFrame.crs = {'init':'epsg:4326'} # geopandas 데이터프레임의 좌표계를 EPSG 4326으로 설정\n",
    "    DataFrame = DataFrame.to_crs({'init':'epsg:4326'}) # 데이터프레임의 좌표계를 자체 좌표계에서 EPSG 4326으로 변환\n",
    "    return DataFrame"
   ]
  },
  {
   "cell_type": "code",
   "execution_count": 17,
   "metadata": {},
   "outputs": [
    {
     "name": "stderr",
     "output_type": "stream",
     "text": [
      "C:\\Users\\user\\AppData\\Local\\Temp\\ipykernel_11396\\4139716189.py:3: UserWarning: \n",
      "The dash_html_components package is deprecated. Please replace\n",
      "`import dash_html_components as html` with `from dash import html`\n",
      "  import dash_html_components as html\n"
     ]
    }
   ],
   "source": [
    "import dash\n",
    "import dash_deck\n",
    "import dash_html_components as html"
   ]
  },
  {
   "cell_type": "code",
   "execution_count": 20,
   "metadata": {},
   "outputs": [],
   "source": [
    "deck_component = dash_deck.DeckGL(r.to_json(), id=\"deck-gl\")\n",
    "\n",
    "app = dash.Dash(__name__)\n",
    "app.layout = html.Div(deck_component)"
   ]
  },
  {
   "cell_type": "code",
   "execution_count": null,
   "metadata": {},
   "outputs": [],
   "source": [
    "html_str = r.to_html()\n",
    "# HTML을 JSON으로 변환\n",
    "json_data = {\n",
    "    \"pydeck\": html_str\n",
    "}\n",
    "\n",
    "# JSON 파일로 저장\n",
    "with open(\"pydeck_visualization.json\", \"w\") as json_file:\n",
    "    json.dump(json_data, json_file)"
   ]
  },
  {
   "cell_type": "code",
   "execution_count": 12,
   "metadata": {},
   "outputs": [],
   "source": [
    "# km data preprocessing\n",
    "def exc_age(age):\n",
    "    age = age.split(\".\")[-1].split(\"대\")[0]\n",
    "    try:\n",
    "        return \"60+\" if int(age) >= 60 else age\n",
    "    except:\n",
    "        return age\n",
    "km_data = pd.read_csv(\"dataset/국민카드.csv\", encoding='cp949')\n",
    "km_data = km_data[~km_data['표준산업세세분류코드'].isna()]\n",
    "km_data['표준산업세세분류코드'] = km_data['표준산업세세분류코드'].astype(int).astype(str)\n",
    "km_data['표준산업세세분류코드'] = km_data['표준산업세세분류코드'].apply(lambda x : x[:3])\n",
    "km_data['STD_TOBZ_M_C'] = km_data['표준산업세세분류코드'].apply(lambda x : x[:2])\n",
    "km_data['기준년월'] = pd.to_datetime(km_data['기준년월'], format='%Y%m')\n",
    "km_data['연령대'] = km_data['연령대'].apply(exc_age)\n",
    "km_data['company'] = '국민'\n",
    "km_data.columns = ['date', 'city_l', 'city_m', 'city_s', 'sex', 'age', 'code_s_name', 'code_s', 'cost', 'case', 'client', 'code_m', 'company']\n",
    "km_data = km_data[['date', 'city_l', 'city_m', 'city_s', 'sex', 'age', 'company', 'code_m', 'code_s', 'cost', 'case']]\n",
    "km_data['case'] = km_data['case'].astype(int)\n",
    "\n",
    "# sh data preprocessing\n",
    "city_l_dic = {'전남':'전라남도', '경기':'경기도', '서울':'서울특별시'}\n",
    "sex_dic = {'F':'여성', 'M':'남성'}\n",
    "sh_data = pd.read_csv(\"dataset/신한카드.csv\")\n",
    "sh_data['MGPO_NM_HOM'] = sh_data['MGPO_NM_HOM'].map(city_l_dic)\n",
    "sh_data['SEX_C'] = sh_data['SEX_C'].map(sex_dic)\n",
    "sh_data['SL_CRI_YM'] = pd.to_datetime(sh_data['SL_CRI_YM'], format='%Y%m')\n",
    "sh_data['STD_TOBZ_M_C'] = sh_data['STD_TOBZ_M_C'].astype(str)\n",
    "sh_data['company'] = '신한'\n",
    "sh_data = sh_data[['SL_CRI_YM', 'MGPO_NM_HOM', 'SGG_NM_HOM', 'NASD_NM_HOM', 'SEX_C', 'AGE_G5_C', 'company', 'STD_TOBZ_M_C', 'STD_TOBZ_L_C','AMT', 'CNT']]\n",
    "sh_data.columns = ['date', 'city_l', 'city_m', 'city_s', 'sex', 'age', 'company', 'code_m', 'code_s', 'cost', 'case']\n",
    "sh_data['case'] = sh_data['case'].apply(lambda x : int(x) if x.isdigit() else 0)\n",
    "\n",
    "# ss data preprocessing\n",
    "def exc_age(age):\n",
    "    return \"60+\" if int(age) >= 60 else age      \n",
    "ss_data = pd.read_csv(\"dataset/삼성카드.csv\")\n",
    "ss_data['표준업종분류코드_중분류'] = ss_data['표준업종분류코드_중분류'].astype(str)\n",
    "ss_data['거주지_광역시도'] = ss_data['거주지_광역시도'].map(city_l_dic)\n",
    "ss_data['성별'] = ss_data['성별'].map(sex_dic)\n",
    "ss_data['이용기준년월'] = pd.to_datetime(ss_data['이용기준년월'], format='%Y%m')\n",
    "ss_data['연령대'] = ss_data['연령대'].apply(exc_age)\n",
    "ss_data['company'] = '삼성'\n",
    "ss_data = ss_data[['이용기준년월', '거주지_광역시도', '거주지_시군구', '거주지_행정동', '성별', '연령대', 'company', '표준업종분류코드_중분류', '표준업종분류코드_소분류','이용금액', '이용건수']]\n",
    "ss_data.columns = ['date', 'city_l', 'city_m', 'city_s', 'sex', 'age', 'company', 'code_m', 'code_s', 'cost', 'case']\n",
    "ss_data['case'] = ss_data['case'].astype(int)\n",
    "\n",
    "# data concat\n",
    "con_df = pd.concat([km_data, sh_data, ss_data]).reset_index(drop=True) # 3사 데이터 통합\n",
    "con_df = con_df.drop_duplicates()\n",
    "jg_df = con_df[con_df['city_m']=='중구'].reset_index(drop=True) # 중구 data만 filtering\n",
    "ddc_df = con_df[con_df['city_m']=='동두천시'].reset_index(drop=True) # 동두천시 data만 filtering\n",
    "nj_df = con_df[con_df['city_m']=='나주시'].reset_index(drop=True) # 나주시 data만 filtering"
   ]
  },
  {
   "cell_type": "code",
   "execution_count": null,
   "metadata": {},
   "outputs": [],
   "source": [
    "jg_count_dic = dict(zip(jg_df['code_m'].value_counts().index,jg_df['code_m'].value_counts().values))\n",
    "jg_std = pd.DataFrame({'표준산업분류코드':sorted(jg_df['code_m'].unique())})\n",
    "jg_std['표준산업분류(중)'] = jg_std['표준산업분류코드'].map(STD_TOBZ_M_dic)\n",
    "jg_std['데이터건수'] = jg_std['표준산업분류코드'].map(jg_count_dic)\n",
    "jg_std = jg_std.sort_values(by='데이터건수').reset_index(drop=True)\n",
    "jg_std"
   ]
  }
 ],
 "metadata": {
  "kernelspec": {
   "display_name": "Python 3.8.16 ('GIS')",
   "language": "python",
   "name": "python3"
  },
  "language_info": {
   "codemirror_mode": {
    "name": "ipython",
    "version": 3
   },
   "file_extension": ".py",
   "mimetype": "text/x-python",
   "name": "python",
   "nbconvert_exporter": "python",
   "pygments_lexer": "ipython3",
   "version": "3.8.16"
  },
  "orig_nbformat": 4,
  "vscode": {
   "interpreter": {
    "hash": "4c2ab1d16d29501e38a3ee1978e97de755e76d74519759c8e0a07f6b08052ab1"
   }
  }
 },
 "nbformat": 4,
 "nbformat_minor": 2
}
